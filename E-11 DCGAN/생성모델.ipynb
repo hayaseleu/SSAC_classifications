{
 "cells": [
  {
   "cell_type": "markdown",
   "metadata": {},
   "source": [
    "# CIFAR-10 이미지 생성모델 만들기\n",
    "\n",
    "CGAN 모델구조를 이용해서 CIFAR-10 데이터를 생성하는 모델을 직접 만들어 보기"
   ]
  },
  {
   "cell_type": "markdown",
   "metadata": {},
   "source": [
    "## 들어가기 전에\n",
    "\n",
    "\n",
    "``` teminal \n",
    "$ mkdir -p ~/aiffel/dcgan_newimage/cifar10/generated_samples\n",
    "$ mkdir -p ~/aiffel/dcgan_newimage/cifar10/training_checkpoints\n",
    "$ mkdir -p ~/aiffel/dcgan_newimage/cifar10/training_history\n",
    "```"
   ]
  },
  {
   "cell_type": "markdown",
   "metadata": {},
   "source": [
    "이미지 데이터의 shape가 (28, 28, 1)에서 (32, 32, 3)으로 변경됩니다. \n",
    "\n",
    "생성자, 판별자 모델의 입출력 shape 및 모델 구조에 영향이 있습니다.         \n",
    "\n",
    "이미지가 단색의 grayscale에서 RGB 3채널의 컬러이미지로 변경됩니다. \n",
    "\n",
    "시각화 과정에서 고려할 점이 있습니다.\n",
    "\n",
    "\n",
    "입력데이터 전체 차원이 3~4배 증가하면서, 학습이 진행되는 양상이 다소 달라집니다."
   ]
  },
  {
   "cell_type": "code",
   "execution_count": 4,
   "metadata": {},
   "outputs": [
    {
     "name": "stdout",
     "output_type": "stream",
     "text": [
      "tensorflow 2.2.0\n"
     ]
    }
   ],
   "source": [
    "import os\n",
    "import glob\n",
    "import time\n",
    "\n",
    "import PIL\n",
    "import imageio\n",
    "import numpy as np\n",
    "import tensorflow as tf\n",
    "from tensorflow.keras import layers\n",
    "from IPython import display\n",
    "import matplotlib.pyplot as plt\n",
    "%matplotlib inline\n",
    "\n",
    "print(\"tensorflow\", tf.__version__)"
   ]
  },
  {
   "cell_type": "markdown",
   "metadata": {},
   "source": [
    "## 데이터셋 구성 \n",
    "CIFAR-10은 keras datasets에 포함되어있습니다."
   ]
  },
  {
   "cell_type": "code",
   "execution_count": 10,
   "metadata": {},
   "outputs": [
    {
     "data": {
      "text/plain": [
       "(50000, 32, 32, 3)"
      ]
     },
     "execution_count": 10,
     "metadata": {},
     "output_type": "execute_result"
    }
   ],
   "source": [
    "cifar10 = tf.keras.datasets.cifar10\n",
    "\n",
    "(train_x, _), (test_x, _) = cifar10.load_data()\n",
    "\n",
    "train_x.shape"
   ]
  },
  {
   "cell_type": "code",
   "execution_count": 11,
   "metadata": {},
   "outputs": [
    {
     "name": "stdout",
     "output_type": "stream",
     "text": [
      "max pixel: 255\n",
      "min pixel: 0\n"
     ]
    }
   ],
   "source": [
    "print(\"max pixel:\", train_x.max())\n",
    "print(\"min pixel:\", train_x.min())"
   ]
  },
  {
   "cell_type": "markdown",
   "metadata": {},
   "source": [
    "우리는 y값이 필요없기 때문에 y값은 _로 불러옵니다."
   ]
  },
  {
   "cell_type": "markdown",
   "metadata": {},
   "source": [
    "한번 이미지를 확인해 보겠습니다. "
   ]
  },
  {
   "cell_type": "code",
   "execution_count": 14,
   "metadata": {},
   "outputs": [
    {
     "data": {
      "image/png": "[encoded data removed]",
      "text/plain": [
       "<Figure size 432x288 with 2 Axes>"
      ]
     },
     "metadata": {
      "needs_background": "light"
     },
     "output_type": "display_data"
    }
   ],
   "source": [
    "plt.imshow(train_x[0].reshape(32, 32,-1), cmap='viridis')\n",
    "plt.colorbar()\n",
    "plt.show()"
   ]
  },
  {
   "cell_type": "markdown",
   "metadata": {},
   "source": [
    "처음에 뭔가했는데 frog라고 합니다. "
   ]
  },
  {
   "cell_type": "markdown",
   "metadata": {},
   "source": [
    "학습에 사용할 train_x의 이미지를 [-1, 1]로 정규화합니다.\n",
    "그후 정규화된 데이터를 시각화를 통해 확인해 봅겠습니다.\n"
   ]
  },
  {
   "cell_type": "code",
   "execution_count": 20,
   "metadata": {},
   "outputs": [
    {
     "name": "stdout",
     "output_type": "stream",
     "text": [
      "max pixel: 1.0\n",
      "min pixel: -1.0\n"
     ]
    }
   ],
   "source": [
    "train_x = (train_x - 127.5) / 127.5 # 이미지를 [-1, 1]로 정규화합니다. # 127.5는 1\n",
    "\n",
    "print(\"max pixel:\", train_x.max())\n",
    "print(\"min pixel:\", train_x.min())"
   ]
  },
  {
   "cell_type": "code",
   "execution_count": 21,
   "metadata": {},
   "outputs": [
    {
     "data": {
      "text/plain": [
       "(50000, 32, 32, 3)"
      ]
     },
     "execution_count": 21,
     "metadata": {},
     "output_type": "execute_result"
    }
   ],
   "source": [
    "train_x.shape"
   ]
  },
  {
   "cell_type": "code",
   "execution_count": 38,
   "metadata": {},
   "outputs": [
    {
     "data": {
      "text/plain": [
       "array([[[-0.5372549 , -0.51372549, -0.50588235],\n",
       "        [-0.6627451 , -0.63921569, -0.64705882],\n",
       "        [-0.60784314, -0.62352941, -0.6627451 ],\n",
       "        ...,\n",
       "        [ 0.23921569,  0.03529412, -0.15294118],\n",
       "        [ 0.19215686, -0.01960784, -0.2       ],\n",
       "        [ 0.16078431, -0.02745098, -0.19215686]],\n",
       "\n",
       "       [[-0.8745098 , -0.84313725, -0.84313725],\n",
       "        [-1.        , -1.        , -1.        ],\n",
       "        [-0.85882353, -0.9372549 , -1.        ],\n",
       "        ...,\n",
       "        [-0.03529412, -0.30980392, -0.56862745],\n",
       "        [-0.06666667, -0.34901961, -0.60784314],\n",
       "        [-0.04313725, -0.31764706, -0.55294118]],\n",
       "\n",
       "       [[-0.80392157, -0.81176471, -0.83529412],\n",
       "        [-0.8745098 , -0.94509804, -1.        ],\n",
       "        [-0.61568627, -0.78823529, -0.9372549 ],\n",
       "        ...,\n",
       "        [-0.0745098 , -0.34117647, -0.60784314],\n",
       "        [-0.05882353, -0.34117647, -0.60784314],\n",
       "        [-0.14509804, -0.42745098, -0.67058824]],\n",
       "\n",
       "       ...,\n",
       "\n",
       "       [[ 0.63137255,  0.33333333, -0.24705882],\n",
       "        [ 0.57647059,  0.2       , -0.73333333],\n",
       "        [ 0.55294118,  0.2627451 , -0.79607843],\n",
       "        ...,\n",
       "        [ 0.25490196,  0.04313725, -0.45098039],\n",
       "        [-0.56078431, -0.75686275, -0.94509804],\n",
       "        [-0.58431373, -0.73333333, -0.84313725]],\n",
       "\n",
       "       [[ 0.41176471,  0.09019608, -0.24705882],\n",
       "        [ 0.35686275, -0.03529412, -0.67058824],\n",
       "        [ 0.45882353,  0.12941176, -0.76470588],\n",
       "        ...,\n",
       "        [ 0.44313725,  0.16078431, -0.2627451 ],\n",
       "        [-0.23921569, -0.51372549, -0.73333333],\n",
       "        [-0.34901961, -0.58431373, -0.73333333]],\n",
       "\n",
       "       [[ 0.38823529,  0.12941176, -0.09019608],\n",
       "        [ 0.31764706,  0.01176471, -0.2627451 ],\n",
       "        [ 0.40392157,  0.11372549, -0.31764706],\n",
       "        ...,\n",
       "        [ 0.69411765,  0.44313725,  0.09803922],\n",
       "        [ 0.18431373, -0.0745098 , -0.34117647],\n",
       "        [-0.03529412, -0.27843137, -0.43529412]]])"
      ]
     },
     "execution_count": 38,
     "metadata": {},
     "output_type": "execute_result"
    }
   ],
   "source": [
    "train_x[0]"
   ]
  },
  {
   "cell_type": "code",
   "execution_count": 41,
   "metadata": {},
   "outputs": [
    {
     "name": "stderr",
     "output_type": "stream",
     "text": [
      "Clipping input data to the valid range for imshow with RGB data ([0..1] for floats or [0..255] for integers).\n"
     ]
    },
    {
     "data": {
      "image/png": "[encoded data removed]",
      "text/plain": [
       "<Figure size 432x288 with 2 Axes>"
      ]
     },
     "metadata": {
      "needs_background": "light"
     },
     "output_type": "display_data"
    }
   ],
   "source": [
    "plt.imshow(train_x[0].reshape(32, 32,-1).astype('float32'),vmin = -1, vmax = 1)\n",
    "plt.colorbar()\n",
    "plt.show()"
   ]
  },
  {
   "cell_type": "code",
   "execution_count": 43,
   "metadata": {},
   "outputs": [
    {
     "name": "stderr",
     "output_type": "stream",
     "text": [
      "Clipping input data to the valid range for imshow with RGB data ([0..1] for floats or [0..255] for integers).\n"
     ]
    },
    {
     "data": {
      "image/png": "[encoded data removed]",
      "text/plain": [
       "<Figure size 432x288 with 2 Axes>"
      ]
     },
     "metadata": {
      "needs_background": "light"
     },
     "output_type": "display_data"
    }
   ],
   "source": [
    "plt.imshow(train_x[0].reshape(32, 32,-1).astype('float32'))\n",
    "plt.colorbar()\n",
    "plt.show()"
   ]
  },
  {
   "cell_type": "code",
   "execution_count": 29,
   "metadata": {},
   "outputs": [
    {
     "name": "stderr",
     "output_type": "stream",
     "text": [
      "Clipping input data to the valid range for imshow with RGB data ([0..1] for floats or [0..255] for integers).\n",
      "Clipping input data to the valid range for imshow with RGB data ([0..1] for floats or [0..255] for integers).\n",
      "Clipping input data to the valid range for imshow with RGB data ([0..1] for floats or [0..255] for integers).\n",
      "Clipping input data to the valid range for imshow with RGB data ([0..1] for floats or [0..255] for integers).\n",
      "Clipping input data to the valid range for imshow with RGB data ([0..1] for floats or [0..255] for integers).\n",
      "Clipping input data to the valid range for imshow with RGB data ([0..1] for floats or [0..255] for integers).\n",
      "Clipping input data to the valid range for imshow with RGB data ([0..1] for floats or [0..255] for integers).\n",
      "Clipping input data to the valid range for imshow with RGB data ([0..1] for floats or [0..255] for integers).\n",
      "Clipping input data to the valid range for imshow with RGB data ([0..1] for floats or [0..255] for integers).\n",
      "Clipping input data to the valid range for imshow with RGB data ([0..1] for floats or [0..255] for integers).\n",
      "Clipping input data to the valid range for imshow with RGB data ([0..1] for floats or [0..255] for integers).\n",
      "Clipping input data to the valid range for imshow with RGB data ([0..1] for floats or [0..255] for integers).\n",
      "Clipping input data to the valid range for imshow with RGB data ([0..1] for floats or [0..255] for integers).\n",
      "Clipping input data to the valid range for imshow with RGB data ([0..1] for floats or [0..255] for integers).\n",
      "Clipping input data to the valid range for imshow with RGB data ([0..1] for floats or [0..255] for integers).\n",
      "Clipping input data to the valid range for imshow with RGB data ([0..1] for floats or [0..255] for integers).\n",
      "Clipping input data to the valid range for imshow with RGB data ([0..1] for floats or [0..255] for integers).\n",
      "Clipping input data to the valid range for imshow with RGB data ([0..1] for floats or [0..255] for integers).\n",
      "Clipping input data to the valid range for imshow with RGB data ([0..1] for floats or [0..255] for integers).\n",
      "Clipping input data to the valid range for imshow with RGB data ([0..1] for floats or [0..255] for integers).\n",
      "Clipping input data to the valid range for imshow with RGB data ([0..1] for floats or [0..255] for integers).\n",
      "Clipping input data to the valid range for imshow with RGB data ([0..1] for floats or [0..255] for integers).\n",
      "Clipping input data to the valid range for imshow with RGB data ([0..1] for floats or [0..255] for integers).\n",
      "Clipping input data to the valid range for imshow with RGB data ([0..1] for floats or [0..255] for integers).\n",
      "Clipping input data to the valid range for imshow with RGB data ([0..1] for floats or [0..255] for integers).\n"
     ]
    },
    {
     "data": {
      "image/png": "[encoded data removed]",
      "text/plain": [
       "<Figure size 1080x1080 with 25 Axes>"
      ]
     },
     "metadata": {
      "needs_background": "light"
     },
     "output_type": "display_data"
    }
   ],
   "source": [
    "plt.figure(figsize=(15, 15))\n",
    "\n",
    "for i in range(25):\n",
    "    plt.subplot(5, 5, i+1)\n",
    "    rand_index = np.random.randint(0, 50000,1)\n",
    "    plt.imshow(train_x[rand_index].reshape(32, 32,-1))\n",
    "    plt.title(f'index: {rand_index}')\n",
    "    plt.axis('off')\n",
    "\n",
    "plt.show()"
   ]
  },
  {
   "cell_type": "markdown",
   "metadata": {},
   "source": [
    "이미지를 확인할 수 있었습니다."
   ]
  },
  {
   "cell_type": "markdown",
   "metadata": {},
   "source": [
    "## 데이터셋 형성"
   ]
  },
  {
   "cell_type": "code",
   "execution_count": 30,
   "metadata": {},
   "outputs": [],
   "source": [
    "BUFFER_SIZE = 50000\n",
    "BATCH_SIZE = 256"
   ]
  },
  {
   "cell_type": "code",
   "execution_count": 31,
   "metadata": {},
   "outputs": [],
   "source": [
    "train_dataset = tf.data.Dataset.from_tensor_slices(train_x).shuffle(BUFFER_SIZE).batch(BATCH_SIZE)"
   ]
  },
  {
   "cell_type": "markdown",
   "metadata": {},
   "source": [
    "[tf.data.Dataset 텐서플로우 공식문서 ](https://www.tensorflow.org/api_docs/python/tf/data/Dataset#shuffle)"
   ]
  },
  {
   "cell_type": "markdown",
   "metadata": {},
   "source": [
    "## generator 모델 구현"
   ]
  },
  {
   "cell_type": "code",
   "execution_count": 7,
   "metadata": {},
   "outputs": [],
   "source": [
    "def make_generator_model():\n",
    "    # Start\n",
    "    model = tf.keras.Sequential()\n",
    "    \n",
    "    # First : Dense layer \n",
    "    \n",
    "    model.add(layers.Dense(8 * 8 * 256, use_bias = False, input_shape = (100,)))\n",
    "    model.add(layers.BatchNormalization())\n",
    "    model.add(layers.LeakyReLU())\n",
    "    \n",
    "    # second:Rehape layer\n",
    "    \n",
    "    model.add(layers.Reshape((8,8,256)))\n",
    "    \n",
    "    # Third: Conv2DTranspose layer\n",
    "    model.add(layers.Conv2DTranspose(128, kernel_size = (5,5), strides = (2,2), padding = 'same', \n",
    "                                    use_bias = False))\n",
    "    model.add(layers.BatchNormalization())\n",
    "    model.add(layers.LeakyReLU())\n",
    "    \n",
    "    # Fourth : Conv2DTranspose layer\n",
    "    model.add(layers.Conv2DTranspose(64, kernel_size = (5,5), strides = (2,2), padding = 'same',\n",
    "             use_bias = False))\n",
    "    model.add(layers.BatchNormalization())\n",
    "    model.add(layers.LeakyReLU())\n",
    "    \n",
    "    # Fifth: Conv2DTranspose layer\n",
    "    model.add(layers.Conv2DTranspose(3, kernel_size = (5,5), strides = (1,1), padding = 'same', use_bias = False,\n",
    "                                   activation = 'tanh'))\n",
    "    return model "
   ]
  },
  {
   "cell_type": "markdown",
   "metadata": {},
   "source": [
    "(32, 32, 3)의 shape를 가진 이미지를 생성하는 생성자 모델 구현 함수를 작성해 봅시다.                                   \n",
    "noise = tf.random.normal([1, 100])로 생성된 랜덤 노이즈를 입력으로 하여 방금 구현한 생성자로 랜덤 이미지를 생성해 봅시다.          \n",
    "생성된 랜덤 이미지가 생성자 출력 규격에 잘 맞는지 확인해 봅시다."
   ]
  },
  {
   "cell_type": "code",
   "execution_count": 8,
   "metadata": {},
   "outputs": [
    {
     "name": "stdout",
     "output_type": "stream",
     "text": [
      "Model: \"sequential_1\"\n",
      "_________________________________________________________________\n",
      "Layer (type)                 Output Shape              Param #   \n",
      "=================================================================\n",
      "dense_1 (Dense)              (None, 16384)             1638400   \n",
      "_________________________________________________________________\n",
      "batch_normalization_3 (Batch (None, 16384)             65536     \n",
      "_________________________________________________________________\n",
      "leaky_re_lu_3 (LeakyReLU)    (None, 16384)             0         \n",
      "_________________________________________________________________\n",
      "reshape_1 (Reshape)          (None, 8, 8, 256)         0         \n",
      "_________________________________________________________________\n",
      "conv2d_transpose_3 (Conv2DTr (None, 16, 16, 128)       819200    \n",
      "_________________________________________________________________\n",
      "batch_normalization_4 (Batch (None, 16, 16, 128)       512       \n",
      "_________________________________________________________________\n",
      "leaky_re_lu_4 (LeakyReLU)    (None, 16, 16, 128)       0         \n",
      "_________________________________________________________________\n",
      "conv2d_transpose_4 (Conv2DTr (None, 32, 32, 64)        204800    \n",
      "_________________________________________________________________\n",
      "batch_normalization_5 (Batch (None, 32, 32, 64)        256       \n",
      "_________________________________________________________________\n",
      "leaky_re_lu_5 (LeakyReLU)    (None, 32, 32, 64)        0         \n",
      "_________________________________________________________________\n",
      "conv2d_transpose_5 (Conv2DTr (None, 32, 32, 3)         4800      \n",
      "=================================================================\n",
      "Total params: 2,733,504\n",
      "Trainable params: 2,700,352\n",
      "Non-trainable params: 33,152\n",
      "_________________________________________________________________\n"
     ]
    }
   ],
   "source": [
    "generator = make_generator_model()\n",
    "\n",
    "generator.summary()\n"
   ]
  },
  {
   "cell_type": "code",
   "execution_count": 49,
   "metadata": {},
   "outputs": [],
   "source": [
    "noise = tf.random.normal([1, 100])"
   ]
  },
  {
   "cell_type": "code",
   "execution_count": 53,
   "metadata": {},
   "outputs": [
    {
     "data": {
      "text/plain": [
       "TensorShape([1, 32, 32, 3])"
      ]
     },
     "execution_count": 53,
     "metadata": {},
     "output_type": "execute_result"
    }
   ],
   "source": [
    "generated_image = generator(noise, training=False)\n",
    "generated_image.shape"
   ]
  },
  {
   "cell_type": "code",
   "execution_count": 54,
   "metadata": {},
   "outputs": [
    {
     "data": {
      "text/plain": [
       "<tf.Tensor: shape=(1, 32, 32, 3), dtype=float32, numpy=\n",
       "array([[[[-0.005406  , -0.00989759, -0.00492701],\n",
       "         [-0.00739973,  0.00519597, -0.01322321],\n",
       "         [-0.01249518, -0.01123569, -0.00330424],\n",
       "         ...,\n",
       "         [-0.00242727,  0.00540359, -0.00653531],\n",
       "         [ 0.00458658, -0.00320504, -0.01781984],\n",
       "         [-0.01149041, -0.00415313, -0.00688434]],\n",
       "\n",
       "        [[-0.00218947,  0.00395331, -0.00496643],\n",
       "         [-0.00265822,  0.0049551 ,  0.01531952],\n",
       "         [-0.01002174,  0.00250993, -0.00798052],\n",
       "         ...,\n",
       "         [ 0.00388389,  0.00140105, -0.01576471],\n",
       "         [-0.00898842,  0.00034494,  0.00687318],\n",
       "         [-0.01174657, -0.00868748, -0.00774846]],\n",
       "\n",
       "        [[-0.00377845, -0.01922856,  0.00136541],\n",
       "         [-0.01563313,  0.00356636, -0.0287454 ],\n",
       "         [-0.01985497, -0.00439402,  0.01712904],\n",
       "         ...,\n",
       "         [ 0.00136854, -0.00801792, -0.02763399],\n",
       "         [-0.00085561,  0.00824165, -0.00453685],\n",
       "         [ 0.00578123,  0.01587247, -0.01344148]],\n",
       "\n",
       "        ...,\n",
       "\n",
       "        [[-0.00471525,  0.0042157 , -0.00219284],\n",
       "         [-0.01164835, -0.01068072, -0.00164833],\n",
       "         [-0.01158696, -0.02770968,  0.00600518],\n",
       "         ...,\n",
       "         [ 0.00464186,  0.02277808, -0.02515917],\n",
       "         [-0.01176551, -0.00160314, -0.02057995],\n",
       "         [ 0.00256294,  0.02091708, -0.0088869 ]],\n",
       "\n",
       "        [[-0.00753744, -0.0025716 , -0.01552141],\n",
       "         [-0.00783361, -0.00034179, -0.01592756],\n",
       "         [-0.02284713, -0.02843602, -0.00252578],\n",
       "         ...,\n",
       "         [ 0.00087323, -0.00506871, -0.02155208],\n",
       "         [-0.03185655, -0.01946081, -0.01706761],\n",
       "         [-0.00268371, -0.00132659, -0.00558912]],\n",
       "\n",
       "        [[-0.0014775 ,  0.00306877, -0.00133122],\n",
       "         [-0.00717464,  0.01704253, -0.00190693],\n",
       "         [ 0.00489858,  0.01221375, -0.00160492],\n",
       "         ...,\n",
       "         [-0.00355366,  0.0271613 , -0.02889076],\n",
       "         [-0.01960134, -0.010455  ,  0.00122478],\n",
       "         [-0.01107808,  0.00600458,  0.01365541]]]], dtype=float32)>"
      ]
     },
     "execution_count": 54,
     "metadata": {},
     "output_type": "execute_result"
    }
   ],
   "source": [
    "generated_image"
   ]
  },
  {
   "cell_type": "code",
   "execution_count": 61,
   "metadata": {},
   "outputs": [],
   "source": [
    " generated_image= tf.cast(\n",
    "    generated_image,'int64', name=None\n",
    ")"
   ]
  },
  {
   "cell_type": "code",
   "execution_count": 62,
   "metadata": {},
   "outputs": [
    {
     "data": {
      "text/plain": [
       "<tf.Tensor: shape=(1, 32, 32, 3), dtype=int64, numpy=\n",
       "array([[[[126, 126, 126],\n",
       "         [126, 128, 125],\n",
       "         [125, 126, 127],\n",
       "         ...,\n",
       "         [127, 128, 126],\n",
       "         [128, 127, 125],\n",
       "         [126, 126, 126]],\n",
       "\n",
       "        [[127, 128, 126],\n",
       "         [127, 128, 129],\n",
       "         [126, 127, 126],\n",
       "         ...,\n",
       "         [127, 127, 125],\n",
       "         [126, 127, 128],\n",
       "         [126, 126, 126]],\n",
       "\n",
       "        [[127, 125, 127],\n",
       "         [125, 127, 123],\n",
       "         [124, 126, 129],\n",
       "         ...,\n",
       "         [127, 126, 123],\n",
       "         [127, 128, 126],\n",
       "         [128, 129, 125]],\n",
       "\n",
       "        ...,\n",
       "\n",
       "        [[126, 128, 127],\n",
       "         [126, 126, 127],\n",
       "         [126, 123, 128],\n",
       "         ...,\n",
       "         [128, 130, 124],\n",
       "         [125, 127, 124],\n",
       "         [127, 130, 126]],\n",
       "\n",
       "        [[126, 127, 125],\n",
       "         [126, 127, 125],\n",
       "         [124, 123, 127],\n",
       "         ...,\n",
       "         [127, 126, 124],\n",
       "         [123, 125, 125],\n",
       "         [127, 127, 126]],\n",
       "\n",
       "        [[127, 127, 127],\n",
       "         [126, 129, 127],\n",
       "         [128, 129, 127],\n",
       "         ...,\n",
       "         [127, 130, 123],\n",
       "         [125, 126, 127],\n",
       "         [126, 128, 129]]]])>"
      ]
     },
     "execution_count": 62,
     "metadata": {},
     "output_type": "execute_result"
    }
   ],
   "source": [
    "generated_image"
   ]
  },
  {
   "cell_type": "code",
   "execution_count": 55,
   "metadata": {},
   "outputs": [],
   "source": [
    "generated_image = ( generated_image*127.5 + 127.5)  # 이미지를 [-1, 1]로 정규화합니다. # 127.5는 1"
   ]
  },
  {
   "cell_type": "code",
   "execution_count": 56,
   "metadata": {},
   "outputs": [
    {
     "data": {
      "text/plain": [
       "<tf.Tensor: shape=(1, 32, 32, 3), dtype=float32, numpy=\n",
       "array([[[[126.81074 , 126.23806 , 126.8718  ],\n",
       "         [126.55653 , 128.16249 , 125.81404 ],\n",
       "         [125.90687 , 126.06745 , 127.07871 ],\n",
       "         ...,\n",
       "         [127.19052 , 128.18896 , 126.66675 ],\n",
       "         [128.0848  , 127.091354, 125.22797 ],\n",
       "         [126.03497 , 126.970474, 126.622246]],\n",
       "\n",
       "        [[127.22084 , 128.00404 , 126.86678 ],\n",
       "         [127.16108 , 128.13177 , 129.45323 ],\n",
       "         [126.22223 , 127.820015, 126.48248 ],\n",
       "         ...,\n",
       "         [127.99519 , 127.678635, 125.49    ],\n",
       "         [126.35397 , 127.543976, 128.37633 ],\n",
       "         [126.00231 , 126.39235 , 126.51207 ]],\n",
       "\n",
       "        [[127.01825 , 125.048355, 127.67409 ],\n",
       "         [125.506775, 127.95471 , 123.83496 ],\n",
       "         [124.96849 , 126.93976 , 129.68396 ],\n",
       "         ...,\n",
       "         [127.67449 , 126.477715, 123.97667 ],\n",
       "         [127.39091 , 128.55081 , 126.921555],\n",
       "         [128.2371  , 129.52374 , 125.78621 ]],\n",
       "\n",
       "        ...,\n",
       "\n",
       "        [[126.8988  , 128.0375  , 127.22041 ],\n",
       "         [126.01483 , 126.13821 , 127.28984 ],\n",
       "         [126.02266 , 123.96702 , 128.26566 ],\n",
       "         ...,\n",
       "         [128.09184 , 130.4042  , 124.292206],\n",
       "         [125.9999  , 127.2956  , 124.87605 ],\n",
       "         [127.826775, 130.16693 , 126.36692 ]],\n",
       "\n",
       "        [[126.53898 , 127.17212 , 125.52102 ],\n",
       "         [126.50121 , 127.45642 , 125.46924 ],\n",
       "         [124.58699 , 123.874405, 127.17796 ],\n",
       "         ...,\n",
       "         [127.611336, 126.85374 , 124.752106],\n",
       "         [123.43829 , 125.018745, 125.32388 ],\n",
       "         [127.15783 , 127.33086 , 126.787384]],\n",
       "\n",
       "        [[127.31162 , 127.891266, 127.33027 ],\n",
       "         [126.585236, 129.67293 , 127.25687 ],\n",
       "         [128.12457 , 129.05725 , 127.29537 ],\n",
       "         ...,\n",
       "         [127.046906, 130.96306 , 123.81643 ],\n",
       "         [125.00083 , 126.166985, 127.65616 ],\n",
       "         [126.08755 , 128.26558 , 129.24106 ]]]], dtype=float32)>"
      ]
     },
     "execution_count": 56,
     "metadata": {},
     "output_type": "execute_result"
    }
   ],
   "source": [
    "generated_image"
   ]
  },
  {
   "cell_type": "code",
   "execution_count": 52,
   "metadata": {},
   "outputs": [
    {
     "data": {
      "text/plain": [
       "<tf.Tensor: shape=(1, 32, 32, 3), dtype=float32, numpy=\n",
       "array([[[[126.81074 , 126.23806 , 126.8718  ],\n",
       "         [126.55653 , 128.16249 , 125.81404 ],\n",
       "         [125.90687 , 126.06745 , 127.07871 ],\n",
       "         ...,\n",
       "         [127.19052 , 128.18896 , 126.66675 ],\n",
       "         [128.0848  , 127.091354, 125.22797 ],\n",
       "         [126.03497 , 126.970474, 126.622246]],\n",
       "\n",
       "        [[127.22084 , 128.00404 , 126.86678 ],\n",
       "         [127.16108 , 128.13177 , 129.45323 ],\n",
       "         [126.22223 , 127.820015, 126.48248 ],\n",
       "         ...,\n",
       "         [127.99519 , 127.678635, 125.49    ],\n",
       "         [126.35397 , 127.543976, 128.37633 ],\n",
       "         [126.00231 , 126.39235 , 126.51207 ]],\n",
       "\n",
       "        [[127.01825 , 125.048355, 127.67409 ],\n",
       "         [125.506775, 127.95471 , 123.83496 ],\n",
       "         [124.96849 , 126.93976 , 129.68396 ],\n",
       "         ...,\n",
       "         [127.67449 , 126.477715, 123.97667 ],\n",
       "         [127.39091 , 128.55081 , 126.921555],\n",
       "         [128.2371  , 129.52374 , 125.78621 ]],\n",
       "\n",
       "        ...,\n",
       "\n",
       "        [[126.8988  , 128.0375  , 127.22041 ],\n",
       "         [126.01483 , 126.13821 , 127.28984 ],\n",
       "         [126.02267 , 123.96702 , 128.26566 ],\n",
       "         ...,\n",
       "         [128.09184 , 130.4042  , 124.292206],\n",
       "         [125.9999  , 127.2956  , 124.87606 ],\n",
       "         [127.826775, 130.16693 , 126.36692 ]],\n",
       "\n",
       "        [[126.53898 , 127.17212 , 125.52102 ],\n",
       "         [126.50121 , 127.45642 , 125.46924 ],\n",
       "         [124.58699 , 123.874405, 127.17796 ],\n",
       "         ...,\n",
       "         [127.611336, 126.85374 , 124.752106],\n",
       "         [123.43829 , 125.018745, 125.323875],\n",
       "         [127.15783 , 127.33086 , 126.787384]],\n",
       "\n",
       "        [[127.31162 , 127.891266, 127.33027 ],\n",
       "         [126.585236, 129.67293 , 127.25687 ],\n",
       "         [128.12457 , 129.05725 , 127.29537 ],\n",
       "         ...,\n",
       "         [127.046906, 130.96306 , 123.81643 ],\n",
       "         [125.00083 , 126.166985, 127.65616 ],\n",
       "         [126.08755 , 128.26558 , 129.24106 ]]]], dtype=float32)>"
      ]
     },
     "execution_count": 52,
     "metadata": {},
     "output_type": "execute_result"
    }
   ],
   "source": [
    "generated_image"
   ]
  },
  {
   "cell_type": "code",
   "execution_count": 27,
   "metadata": {},
   "outputs": [
    {
     "data": {
      "text/plain": [
       "<tf.Tensor: shape=(32, 32, 3), dtype=float32, numpy=\n",
       "array([[[126.6185  , 127.358444, 127.733635],\n",
       "        [126.81443 , 127.63418 , 126.78524 ],\n",
       "        [127.67883 , 127.03162 , 125.83591 ],\n",
       "        ...,\n",
       "        [127.50377 , 127.80762 , 128.61308 ],\n",
       "        [127.47399 , 127.74874 , 127.44924 ],\n",
       "        [125.95956 , 127.61778 , 126.365105]],\n",
       "\n",
       "       [[127.34251 , 128.47044 , 128.56953 ],\n",
       "        [127.36774 , 127.46387 , 127.69684 ],\n",
       "        [128.01532 , 127.170425, 126.089676],\n",
       "        ...,\n",
       "        [128.99884 , 127.1349  , 124.58419 ],\n",
       "        [126.93249 , 126.04835 , 127.679634],\n",
       "        [127.99827 , 127.730415, 126.217545]],\n",
       "\n",
       "       [[127.870255, 126.5402  , 128.47575 ],\n",
       "        [125.72569 , 128.13353 , 126.21776 ],\n",
       "        [126.60811 , 127.9582  , 125.95358 ],\n",
       "        ...,\n",
       "        [126.777336, 126.705215, 126.48781 ],\n",
       "        [125.7589  , 126.95268 , 127.46574 ],\n",
       "        [126.10329 , 127.38498 , 126.2586  ]],\n",
       "\n",
       "       ...,\n",
       "\n",
       "       [[126.448074, 127.768   , 127.742645],\n",
       "        [125.235275, 127.07853 , 128.75822 ],\n",
       "        [127.75188 , 128.61598 , 125.748375],\n",
       "        ...,\n",
       "        [129.76512 , 130.98663 , 124.77461 ],\n",
       "        [124.505165, 124.37252 , 129.49174 ],\n",
       "        [126.47002 , 129.20432 , 126.35294 ]],\n",
       "\n",
       "       [[127.61107 , 127.00439 , 126.318115],\n",
       "        [126.23879 , 126.823204, 125.76238 ],\n",
       "        [124.42584 , 125.55893 , 126.34271 ],\n",
       "        ...,\n",
       "        [129.59093 , 128.12926 , 126.49209 ],\n",
       "        [125.85452 , 124.48823 , 126.73623 ],\n",
       "        [130.08203 , 130.11182 , 124.41345 ]],\n",
       "\n",
       "       [[127.51437 , 128.11995 , 128.29245 ],\n",
       "        [126.925995, 128.44287 , 125.66722 ],\n",
       "        [126.17401 , 127.02766 , 125.997536],\n",
       "        ...,\n",
       "        [127.568596, 130.21672 , 125.90307 ],\n",
       "        [126.649124, 126.59054 , 128.00452 ],\n",
       "        [127.07842 , 126.83846 , 127.182785]]], dtype=float32)>"
      ]
     },
     "execution_count": 27,
     "metadata": {},
     "output_type": "execute_result"
    }
   ],
   "source": [
    "tf.reshape(generated_image, [32, 32,-1])"
   ]
  },
  {
   "cell_type": "code",
   "execution_count": 47,
   "metadata": {},
   "outputs": [
    {
     "data": {
      "text/plain": [
       "<tf.Tensor: shape=(), dtype=float32, numpy=127.182785>"
      ]
     },
     "execution_count": 47,
     "metadata": {},
     "output_type": "execute_result"
    }
   ],
   "source": [
    "generated_image[0,31,31,2]"
   ]
  },
  {
   "cell_type": "code",
   "execution_count": 59,
   "metadata": {},
   "outputs": [
    {
     "name": "stderr",
     "output_type": "stream",
     "text": [
      "Clipping input data to the valid range for imshow with RGB data ([0..1] for floats or [0..255] for integers).\n"
     ]
    },
    {
     "data": {
      "image/png": "[encoded data removed]",
      "text/plain": [
       "<Figure size 432x288 with 1 Axes>"
      ]
     },
     "metadata": {
      "needs_background": "light"
     },
     "output_type": "display_data"
    }
   ],
   "source": [
    "plt.imshow(generated_image[0, :, :,:])\n",
    "plt.show()"
   ]
  },
  {
   "cell_type": "code",
   "execution_count": 63,
   "metadata": {},
   "outputs": [
    {
     "data": {
      "image/png": "[encoded data removed]",
      "text/plain": [
       "<Figure size 432x288 with 2 Axes>"
      ]
     },
     "metadata": {
      "needs_background": "light"
     },
     "output_type": "display_data"
    }
   ],
   "source": [
    "plt.imshow(generated_image[0, :, :, ], cmap='gray')\n",
    "plt.colorbar()\n",
    "plt.show()"
   ]
  },
  {
   "cell_type": "code",
   "execution_count": 34,
   "metadata": {},
   "outputs": [
    {
     "name": "stderr",
     "output_type": "stream",
     "text": [
      "Clipping input data to the valid range for imshow with RGB data ([0..1] for floats or [0..255] for integers).\n"
     ]
    },
    {
     "data": {
      "image/png": "[encoded data removed]",
      "text/plain": [
       "<Figure size 432x288 with 1 Axes>"
      ]
     },
     "metadata": {
      "needs_background": "light"
     },
     "output_type": "display_data"
    }
   ],
   "source": [
    "plt.imshow(generated_image[0],cmap = 'viridis')\n",
    "plt.show()"
   ]
  },
  {
   "cell_type": "code",
   "execution_count": 32,
   "metadata": {},
   "outputs": [
    {
     "data": {
      "text/plain": [
       "<tf.Tensor: shape=(1, 32, 32, 3), dtype=float32, numpy=\n",
       "array([[[[126.6185  , 127.358444, 127.733635],\n",
       "         [126.81443 , 127.63418 , 126.78524 ],\n",
       "         [127.67883 , 127.03162 , 125.83591 ],\n",
       "         ...,\n",
       "         [127.50377 , 127.80762 , 128.61308 ],\n",
       "         [127.47399 , 127.74874 , 127.44924 ],\n",
       "         [125.95956 , 127.61778 , 126.365105]],\n",
       "\n",
       "        [[127.34251 , 128.47044 , 128.56953 ],\n",
       "         [127.36774 , 127.46387 , 127.69684 ],\n",
       "         [128.01532 , 127.170425, 126.089676],\n",
       "         ...,\n",
       "         [128.99884 , 127.1349  , 124.58419 ],\n",
       "         [126.93249 , 126.04835 , 127.679634],\n",
       "         [127.99827 , 127.730415, 126.217545]],\n",
       "\n",
       "        [[127.870255, 126.5402  , 128.47575 ],\n",
       "         [125.72569 , 128.13353 , 126.21776 ],\n",
       "         [126.60811 , 127.9582  , 125.95358 ],\n",
       "         ...,\n",
       "         [126.777336, 126.705215, 126.48781 ],\n",
       "         [125.7589  , 126.95268 , 127.46574 ],\n",
       "         [126.10329 , 127.38498 , 126.2586  ]],\n",
       "\n",
       "        ...,\n",
       "\n",
       "        [[126.448074, 127.768   , 127.742645],\n",
       "         [125.235275, 127.07853 , 128.75822 ],\n",
       "         [127.75188 , 128.61598 , 125.748375],\n",
       "         ...,\n",
       "         [129.76512 , 130.98663 , 124.77461 ],\n",
       "         [124.505165, 124.37252 , 129.49174 ],\n",
       "         [126.47002 , 129.20432 , 126.35294 ]],\n",
       "\n",
       "        [[127.61107 , 127.00439 , 126.318115],\n",
       "         [126.23879 , 126.823204, 125.76238 ],\n",
       "         [124.42584 , 125.55893 , 126.34271 ],\n",
       "         ...,\n",
       "         [129.59093 , 128.12926 , 126.49209 ],\n",
       "         [125.85452 , 124.48823 , 126.73623 ],\n",
       "         [130.08203 , 130.11182 , 124.41345 ]],\n",
       "\n",
       "        [[127.51437 , 128.11995 , 128.29245 ],\n",
       "         [126.925995, 128.44287 , 125.66722 ],\n",
       "         [126.17401 , 127.02766 , 125.997536],\n",
       "         ...,\n",
       "         [127.568596, 130.21672 , 125.90307 ],\n",
       "         [126.649124, 126.59054 , 128.00452 ],\n",
       "         [127.07842 , 126.83846 , 127.182785]]]], dtype=float32)>"
      ]
     },
     "execution_count": 32,
     "metadata": {},
     "output_type": "execute_result"
    }
   ],
   "source": [
    "tf.cast(\n",
    "    generated_image,'float32', name=None\n",
    ")"
   ]
  },
  {
   "cell_type": "code",
   "execution_count": 13,
   "metadata": {},
   "outputs": [],
   "source": [
    "generated_image = ( generated_image*127.5 + 127.5)  # 이미지를 [-1, 1]로 정규화합니다. # 127.5는 1"
   ]
  },
  {
   "cell_type": "code",
   "execution_count": 14,
   "metadata": {},
   "outputs": [
    {
     "data": {
      "text/plain": [
       "<tf.Tensor: shape=(1, 32, 32, 3), dtype=float32, numpy=\n",
       "array([[[[126.6185  , 127.358444, 127.733635],\n",
       "         [126.81443 , 127.63418 , 126.78524 ],\n",
       "         [127.67883 , 127.03162 , 125.83591 ],\n",
       "         ...,\n",
       "         [127.50377 , 127.80762 , 128.61308 ],\n",
       "         [127.47399 , 127.74874 , 127.44924 ],\n",
       "         [125.95956 , 127.61778 , 126.365105]],\n",
       "\n",
       "        [[127.34251 , 128.47044 , 128.56953 ],\n",
       "         [127.36774 , 127.46387 , 127.69684 ],\n",
       "         [128.01532 , 127.170425, 126.089676],\n",
       "         ...,\n",
       "         [128.99884 , 127.1349  , 124.58419 ],\n",
       "         [126.93249 , 126.04835 , 127.679634],\n",
       "         [127.99827 , 127.730415, 126.217545]],\n",
       "\n",
       "        [[127.870255, 126.5402  , 128.47575 ],\n",
       "         [125.72569 , 128.13353 , 126.21776 ],\n",
       "         [126.60811 , 127.9582  , 125.95358 ],\n",
       "         ...,\n",
       "         [126.777336, 126.705215, 126.48781 ],\n",
       "         [125.7589  , 126.95268 , 127.46574 ],\n",
       "         [126.10329 , 127.38498 , 126.2586  ]],\n",
       "\n",
       "        ...,\n",
       "\n",
       "        [[126.448074, 127.768   , 127.742645],\n",
       "         [125.235275, 127.07853 , 128.75822 ],\n",
       "         [127.75188 , 128.61598 , 125.748375],\n",
       "         ...,\n",
       "         [129.76512 , 130.98663 , 124.77461 ],\n",
       "         [124.505165, 124.37252 , 129.49174 ],\n",
       "         [126.47002 , 129.20432 , 126.35294 ]],\n",
       "\n",
       "        [[127.61107 , 127.00439 , 126.318115],\n",
       "         [126.23879 , 126.823204, 125.76238 ],\n",
       "         [124.42584 , 125.55893 , 126.34271 ],\n",
       "         ...,\n",
       "         [129.59093 , 128.12926 , 126.49209 ],\n",
       "         [125.85452 , 124.48823 , 126.73623 ],\n",
       "         [130.08203 , 130.11182 , 124.41345 ]],\n",
       "\n",
       "        [[127.51437 , 128.11995 , 128.29245 ],\n",
       "         [126.925995, 128.44287 , 125.66722 ],\n",
       "         [126.17401 , 127.02766 , 125.997536],\n",
       "         ...,\n",
       "         [127.568596, 130.21672 , 125.90307 ],\n",
       "         [126.649124, 126.59054 , 128.00452 ],\n",
       "         [127.07842 , 126.83846 , 127.182785]]]], dtype=float32)>"
      ]
     },
     "execution_count": 14,
     "metadata": {},
     "output_type": "execute_result"
    }
   ],
   "source": [
    "generated_image "
   ]
  },
  {
   "cell_type": "code",
   "execution_count": 128,
   "metadata": {},
   "outputs": [
    {
     "name": "stderr",
     "output_type": "stream",
     "text": [
      "Clipping input data to the valid range for imshow with RGB data ([0..1] for floats or [0..255] for integers).\n"
     ]
    },
    {
     "data": {
      "image/png": "[encoded data removed]",
      "text/plain": [
       "<Figure size 432x288 with 1 Axes>"
      ]
     },
     "metadata": {
      "needs_background": "light"
     },
     "output_type": "display_data"
    }
   ],
   "source": [
    "plt.imshow(generated_image[0, :, :, :])\n",
    "plt.show()"
   ]
  },
  {
   "cell_type": "code",
   "execution_count": null,
   "metadata": {},
   "outputs": [],
   "source": [
    "When using this layer as the first layer in a model, provide the keyword argument input_shape (tuple of integers, does not include the sample axis), e.g. input_shape=(128, 128, 3) for 128x128 RGB pictures in data_format=\"channels_last\".\n",
    "\n",
    "data format이랑 fadding을 알아야함. "
   ]
  },
  {
   "cell_type": "markdown",
   "metadata": {},
   "source": [
    "## STEP 3. 판별자 모델 구현하기\n"
   ]
  },
  {
   "cell_type": "code",
   "execution_count": null,
   "metadata": {},
   "outputs": [],
   "source": [
    "(32, 32, 3)의 이미지를 입력으로 받아 1dim을 판별결과를 출력하는 판별자 모델 구현 함수를 작성해 봅시다.\n",
    "위 STEP 2에서 생성한 랜덤 이미지를 판별자 모델이 판별한 결과값을 확인해 봅시다."
   ]
  },
  {
   "cell_type": "code",
   "execution_count": null,
   "metadata": {},
   "outputs": [],
   "source": []
  },
  {
   "cell_type": "markdown",
   "metadata": {},
   "source": [
    "## STEP 4. 손실함수와 최적화 함수 구현하기\n"
   ]
  },
  {
   "cell_type": "code",
   "execution_count": null,
   "metadata": {},
   "outputs": [],
   "source": [
    "생성자와 판별자의 손실함수(loss)를 구현해 봅시다.\n",
    "판별자의 출력값을 가지고 실제/생성(real/fake) 이미지 판별 정확도(accuracy)를 계산하는 함수를 구현해 봅시다.\n",
    "생성자와 판별자를 최적화하는 optimizer를 정의합니다."
   ]
  },
  {
   "cell_type": "code",
   "execution_count": null,
   "metadata": {},
   "outputs": [],
   "source": []
  },
  {
   "cell_type": "markdown",
   "metadata": {},
   "source": [
    "## STEP 5. 훈련과정 상세 기능 구현하기\n"
   ]
  },
  {
   "cell_type": "markdown",
   "metadata": {},
   "source": [
    "1개 미니배치의 훈련 과정을 처리하는 train_step() 함수를 구현해 봅시다.           \n",
    "16개의 고정된 seed를 입력으로 하여 훈련 과정 동안 생성한 이미지를 시각화하는 generate_and_save_images() 함수를 구현해 봅시다.             \n",
    "훈련 epoch마다 생성자/판별자의 loss 및 판별자의 실제/생성(real/fake) 이미지 판별 accuracy 히스토리(history)를 그래프로 시각화하는 draw_train_history() 함수를 구현해 봅시다.                  \n",
    "training_checkpoints 디렉토리에 몇 epoch마다 모델을 저장하는 checkpoint 모듈을 설정해 봅시다.        "
   ]
  },
  {
   "cell_type": "code",
   "execution_count": null,
   "metadata": {},
   "outputs": [],
   "source": []
  },
  {
   "cell_type": "markdown",
   "metadata": {},
   "source": [
    "## STEP 6. 학습 과정 진행하기\n"
   ]
  },
  {
   "cell_type": "markdown",
   "metadata": {},
   "source": [
    "위 STEP 5에서 구현한 기능들을 활용하여 최소 50 epoch만큼의 모델 학습을 진행해 봅시다.           \n",
    "학습 과정에서 생성된 샘플 이미지로 만든 gif 파일을 통해 학습 진행 과정을 시각적으로 표현해 봅시다.                 \n",
    "학습 과정을 담은 샘플 이미지, gif 파일, 학습 진행 그래프 이미지를 함께 제출합니다. \n",
    "\n",
    "\n",
    ">(참고) 학습 과정 중 학습 epoch를 추가 진행해야 하거나, 학습한 모델을 활용하여 이미지를 생성할 필요가 생깁니다. 그럴 때마다 모델 학습을 처음> 부터 다시 진행한다면 시간 낭비가 될 것입니다.                  \n",
    "\n",
    "우리는 위에서 checkpoint 모듈을 이용해 모델을 저장해 둔 바 있습니다. 이를 이용해 학습해 둔 모델을 로드하면 모델 재학습이 필요 없이 이런 작업을 진행할 수 있습니다.                          \n",
    "아래는 checkpoint 모듈을 활용하여 모델을 로드하는 예시입니다.                            "
   ]
  },
  {
   "cell_type": "code",
   "execution_count": null,
   "metadata": {},
   "outputs": [],
   "source": [
    "checkpoint_dir = os.getenv('HOME')+'/aiffel/dcgan_newimage/cifar10/training_checkpoints'\n",
    "\n",
    "latest = tf.train.latest_checkpoint(checkpoint_dir)\n",
    "checkpoint.restore(latest)\n",
    "\n",
    "generator = checkpoint.generator\n",
    "discriminator = checkpoint.discriminator\n",
    "\n",
    "# 로드한 모델이 정상적으로 이미지를 생성하는지 확인해 봅니다. \n",
    "noise = tf.random.normal([1, 100])\n",
    "generated_image = generator(noise, training=False)\n",
    "\n",
    "np_generated = generated_image.numpy()\n",
    "np_generated = (np_generated * 127.5) + 127.5   # reverse of normalization\n",
    "np_generated = np_generated.astype(int)\n",
    "plt.imshow(np_generated[0])\n",
    "plt.show()  # 정상적으로 모델이 로드되었다면 랜덤 이미지가 아니라 CIFAR-10 이미지가 그려질 것입니다."
   ]
  },
  {
   "cell_type": "code",
   "execution_count": null,
   "metadata": {},
   "outputs": [],
   "source": [
    "checkpoint를 통해 모델이 로드되었으면 아래 코드를 실행할 경우 로드된 모델의 파라미터 상태에서 훈련을 재개할 수도 있습니다.\n",
    "\n"
   ]
  },
  {
   "cell_type": "code",
   "execution_count": null,
   "metadata": {},
   "outputs": [],
   "source": [
    "%%time\n",
    "train(train_dataset, EPOCHS, save_every)"
   ]
  },
  {
   "cell_type": "markdown",
   "metadata": {},
   "source": [
    "## STEP 7. (optional) GAN 훈련 과정 개선하기\n"
   ]
  },
  {
   "cell_type": "markdown",
   "metadata": {},
   "source": [
    "STEP 6을 진행하면서 생성된 샘플 이미지, 학습 과정 그래프 등을 통해 이전 훈련 과정의 문제점을 분석해 봅시다.\n",
    "모델구조 또는 학습 과정을 개선한 내역과 그 결과(샘플 이미지, 학습 과정 그래프 포함)를 함께 제출합니다.\n",
    "(참고) 아래 언급된 페이지들에서 개선을 위한 아이디어를 얻을 수 있을 것입니다.\n",
    "\n",
    "How to Train a GAN? Tips and tricks to make GANs work\n",
    "10 Lessons I Learned Training GANs for one Year\n",
    "Tips for Training Stable Generative Adversarial Networks\n",
    "Improved Techniques for Training GANs(paper)"
   ]
  },
  {
   "cell_type": "code",
   "execution_count": null,
   "metadata": {},
   "outputs": [],
   "source": []
  }
 ],
 "metadata": {
  "kernelspec": {
   "display_name": "aiffel",
   "language": "python",
   "name": "aiffel"
  },
  "language_info": {
   "codemirror_mode": {
    "name": "ipython",
    "version": 3
   },
   "file_extension": ".py",
   "mimetype": "text/x-python",
   "name": "python",
   "nbconvert_exporter": "python",
   "pygments_lexer": "ipython3",
   "version": "3.7.7"
  }
 },
 "nbformat": 4,
 "nbformat_minor": 4
}
