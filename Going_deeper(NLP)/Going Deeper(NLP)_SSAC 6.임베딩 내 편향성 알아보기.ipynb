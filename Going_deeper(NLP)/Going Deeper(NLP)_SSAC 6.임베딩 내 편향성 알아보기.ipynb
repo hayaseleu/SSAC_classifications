{
 "cells": [
  {
   "cell_type": "markdown",
   "metadata": {},
   "source": [
    "# 고잉 deeper NLP 6장"
   ]
  },
  {
   "cell_type": "markdown",
   "metadata": {},
   "source": [
    "## WEAT(Word Embedding Association Test)\n",
    "\n",
    "워드 임베딩에 내포된 편향성을 정량적으로 측정할 방법 \n",
    "\n",
    "코사인 유사도를 통해서 계산함. 두 벡터의 코사인값을 이용하여 각도를 계산함\n",
    "\n",
    "[개념이 발표된 논문 원본](https://arxiv.org/pdf/1608.07187.pdf)"
   ]
  },
  {
   "cell_type": "markdown",
   "metadata": {},
   "source": [
    "단 하나의 단어끼리만 거리를 계산하면 증명이 충분하지 않을 수 있음.\n",
    "\n",
    "그렇기 때문에 편향을 계산할 개념을 가장 잘 대표하는 단어들을 선택해 set을 만듬.\n",
    "\n",
    "그후 셋들에 속한 단어들끼리 편향성을 계산하여 편향성을 계산하여 평균을 구하고 , normalize하면 더 통계적으로 유의하다는 증명을 가능함.\n",
    "\n",
    "이 set들을 target과 attribute로 하고\n",
    "\n",
    "target X, Y attribute A, B로 구분함.\n",
    "\n",
    "이때 X-Y 개념축, A-B 개념축을 만들고\n",
    "\n",
    "편향이 없다면 \n",
    "\n",
    "X의 단어들이 A, B에 속한 단어들과의 거리의 차이가 없을 것임.\n",
    "\n",
    "Y의 단어들도 A, B에 속한 단어들과 거리의 차이가 없을 것임. \n",
    "\n",
    "식을 통해 더 구체화해보자면 "
   ]
  },
  {
   "cell_type": "code",
   "execution_count": 12,
   "metadata": {},
   "outputs": [],
   "source": [
    "import numpy as np\n",
    "from numpy import dot\n",
    "from numpy.linalg import norm"
   ]
  },
  {
   "cell_type": "code",
   "execution_count": 15,
   "metadata": {},
   "outputs": [],
   "source": [
    "def cos_sim(i, j):\n",
    "    return dot(i, j.T)/(norm(i)*norm(j))\n",
    "\n",
    "def s(w, A, B):\n",
    "    c_a = cos_sim(w, A)\n",
    "    c_b = cos_sim(w, B)\n",
    "    mean_A = np.mean(c_a, axis=-1)\n",
    "    mean_B = np.mean(c_b, axis=-1)\n",
    "    return mean_A - mean_B#, c_a, c_b\n"
   ]
  },
  {
   "cell_type": "markdown",
   "metadata": {},
   "source": [
    "dot prodcut과 magnitude 계산 함수와 \n",
    "\n",
    "s(w,A,B)함수임. s(w,A,B)는 target의 단어 w가 개념축 A-B에 가지는 편향석을 계산한 값임.\n",
    "\n",
    "값이 클수록 B보다 A에 더 가깝게 됨. \n",
    "\n",
    "(ex: 코사인 유사도는 -1~1의 값을 가지고 같은 방향일수록 1에 가깝고 0일때 직교하며 반대 방향일수록 -1에 가까움)"
   ]
  },
  {
   "cell_type": "code",
   "execution_count": 46,
   "metadata": {},
   "outputs": [],
   "source": [
    "def weat_score(X, Y, A, B):\n",
    "    \n",
    "    s_X = s(X, A, B)\n",
    "    s_Y = s(Y, A, B)\n",
    "\n",
    "    mean_X = np.mean(s_X)\n",
    "    mean_Y = np.mean(s_Y)\n",
    "    \n",
    "    std_dev = np.std(np.concatenate([s_X, s_Y], axis=0))\n",
    "    \n",
    "    return  (mean_X-mean_Y)/std_dev\n",
    "\n"
   ]
  },
  {
   "cell_type": "markdown",
   "metadata": {},
   "source": [
    "s_X(X,A,B)는 단어 x가 두 attribute 셋 A,B에 속한 단어들과의 유사도의 평균값이 얼마나 차이나는지를 측정하게됨.\n",
    "\n",
    "즉 s_X(X,A,B)는 개별 단어가 개념축 A-B에 대해서 가지는 편향성을 계산한것이 되고, 클수록 편향성을 가지는것임\n",
    "\n",
    "s_X(X,A,B)와 S_Y(Y,A,B)의 범위는 (-2,2)가 됨\n",
    "\n",
    "이후 이것들을 다시 각 X로 평균내고 S_X,S_Y를 뺀후에 std로 normalize한것이 weat_score가 됨.\n",
    "\n",
    "\n",
    "weat_score가 크면 편향성이 크다는것을 나타냄"
   ]
  },
  {
   "cell_type": "markdown",
   "metadata": {},
   "source": [
    "## 구글 뉴스가 학습된 워드 임베딩에 적용\n",
    "\n",
    "GoogleNews-vectors-negative300.bin.gz\n",
    "\n",
    "이 데이터를 사용했음."
   ]
  },
  {
   "cell_type": "code",
   "execution_count": 1,
   "metadata": {},
   "outputs": [],
   "source": [
    "import os\n",
    "\n",
    "data_dir = '~/aiffel/weat' \n",
    "model_dir = os.path.join(data_dir, 'GoogleNews-vectors-negative300.bin')\n",
    "\n",
    "from gensim.models import KeyedVectors\n",
    "\n",
    "# 50만개의 단어만 활용합니다. 메모리가 충분하다면 limit 파라미터값을 생략하여 300만개를 모두 활용할 수 있습니다. \n",
    "w2v = KeyedVectors.load_word2vec_format(model_dir, binary=True, limit=500000)"
   ]
  },
  {
   "cell_type": "markdown",
   "metadata": {},
   "source": [
    "단어수가 너무 많기에 limit로 최대 단어수를 50만개로 제한"
   ]
  },
  {
   "cell_type": "code",
   "execution_count": 2,
   "metadata": {},
   "outputs": [
    {
     "data": {
      "text/plain": [
       "<gensim.models.keyedvectors.Word2VecKeyedVectors at 0x7f3d28682a10>"
      ]
     },
     "execution_count": 2,
     "metadata": {},
     "output_type": "execute_result"
    }
   ],
   "source": [
    "w2v"
   ]
  },
  {
   "cell_type": "code",
   "execution_count": 5,
   "metadata": {},
   "outputs": [
    {
     "name": "stdout",
     "output_type": "stream",
     "text": [
      "500000\n",
      "300\n",
      "(500000, 300)\n"
     ]
    }
   ],
   "source": [
    "print(len(w2v.vocab))   # Gensim 3.X 버전까지는 w2v.vocab을 직접 접근할 수 있습니다. \n",
    "# print(len(w2v.index_to_key))   # Gensim 4.0부터는 index_to_key를 활용해 vocab size를 알 수 있습니다. \n",
    "print(len(w2v['I']))                    # 혹은 단어를 key로 직접 vector를 얻을 수 있습니다. \n",
    "print(w2v.vectors.shape)"
   ]
  },
  {
   "cell_type": "markdown",
   "metadata": {},
   "source": [
    "w2v에는 limit로 지정한 갯수의 단어가 있고 각 단어는 300차원으로 구성되어있음.\n",
    "\n",
    "실제로 happy의 단어 벡터"
   ]
  },
  {
   "cell_type": "code",
   "execution_count": 6,
   "metadata": {},
   "outputs": [
    {
     "data": {
      "text/plain": [
       "array([-5.18798828e-04,  1.60156250e-01,  1.60980225e-03,  2.53906250e-02,\n",
       "        9.91210938e-02, -8.59375000e-02,  3.24218750e-01, -2.17285156e-02,\n",
       "        1.34765625e-01,  1.10351562e-01, -1.04980469e-01, -2.90527344e-02,\n",
       "       -2.38037109e-02, -4.02832031e-02, -3.68652344e-02,  2.32421875e-01,\n",
       "        3.20312500e-01,  1.01074219e-01,  5.83496094e-02, -2.91824341e-04,\n",
       "       -3.29589844e-02,  2.11914062e-01,  4.32128906e-02, -8.59375000e-02,\n",
       "        2.81250000e-01, -1.78222656e-02,  3.79943848e-03, -1.71875000e-01,\n",
       "        2.06054688e-01, -1.85546875e-01,  3.73535156e-02, -1.21459961e-02,\n",
       "        2.04101562e-01, -3.80859375e-02,  3.61328125e-02, -8.15429688e-02,\n",
       "        8.44726562e-02,  9.37500000e-02,  1.44531250e-01,  7.42187500e-02,\n",
       "        2.51953125e-01, -7.91015625e-02,  8.69140625e-02,  1.58691406e-02,\n",
       "        1.09375000e-01, -2.23632812e-01, -5.15747070e-03,  1.68945312e-01,\n",
       "       -1.36718750e-01, -2.51464844e-02, -3.85742188e-02, -1.33056641e-02,\n",
       "        1.38671875e-01,  1.76757812e-01,  1.10351562e-01,  1.51367188e-01,\n",
       "        7.86132812e-02, -1.69921875e-01,  1.20605469e-01, -4.37500000e-01,\n",
       "       -4.32128906e-02,  1.34765625e-01, -3.45703125e-01,  9.13085938e-02,\n",
       "        4.71191406e-02,  9.66796875e-02, -1.61132812e-02, -4.71191406e-02,\n",
       "       -4.68750000e-02,  1.37695312e-01,  9.96093750e-02,  4.49218750e-02,\n",
       "       -2.49023438e-02,  1.58203125e-01, -3.57421875e-01, -1.21093750e-01,\n",
       "        1.15722656e-01,  9.08203125e-02,  1.40625000e-01,  1.60156250e-01,\n",
       "       -4.42504883e-03,  5.34667969e-02,  2.28515625e-01,  1.88476562e-01,\n",
       "       -3.88183594e-02, -2.53906250e-01, -1.74804688e-01,  9.81445312e-02,\n",
       "        1.08642578e-02,  1.41601562e-01,  7.81250000e-03,  1.36718750e-01,\n",
       "       -2.08007812e-01, -3.41796875e-02, -2.50000000e-01,  1.25976562e-01,\n",
       "        1.57226562e-01,  3.31115723e-03, -1.51367188e-01, -6.98242188e-02,\n",
       "       -1.40625000e-01,  2.06054688e-01, -3.54003906e-02,  1.57226562e-01,\n",
       "        5.83496094e-02, -3.58886719e-02,  2.12890625e-01, -1.13769531e-01,\n",
       "        1.41601562e-01, -1.29394531e-02,  9.13085938e-02, -3.95507812e-02,\n",
       "        9.76562500e-02, -2.69775391e-02,  1.30004883e-02, -1.30859375e-01,\n",
       "        3.32031250e-01, -3.53515625e-01, -5.44433594e-02, -2.50244141e-02,\n",
       "       -1.42578125e-01,  6.49414062e-02,  5.54199219e-02, -4.83398438e-02,\n",
       "       -1.12304688e-01, -1.32812500e-01, -6.73828125e-02, -1.41601562e-01,\n",
       "       -2.05078125e-01, -1.29882812e-01, -1.04003906e-01, -8.10546875e-02,\n",
       "       -1.67968750e-01,  1.63085938e-01, -1.13769531e-01, -5.17578125e-02,\n",
       "        7.61718750e-02,  3.59375000e-01,  1.04003906e-01,  3.59375000e-01,\n",
       "       -8.74023438e-02,  6.54296875e-02, -1.09863281e-02, -1.88476562e-01,\n",
       "       -6.59179688e-02,  2.30468750e-01, -2.96875000e-01,  6.59179688e-03,\n",
       "        1.49414062e-01, -1.73828125e-01,  1.31835938e-01,  2.36328125e-01,\n",
       "       -9.22851562e-02,  1.70898438e-01, -1.70898438e-02,  3.12500000e-02,\n",
       "       -3.37219238e-03,  9.66796875e-02, -2.61718750e-01, -1.84326172e-02,\n",
       "       -1.85546875e-01,  1.24023438e-01,  3.00781250e-01,  2.43164062e-01,\n",
       "        3.06640625e-01, -3.28125000e-01, -5.05371094e-02,  1.01562500e-01,\n",
       "        7.86132812e-02, -1.44531250e-01, -1.25976562e-01, -2.41699219e-02,\n",
       "        2.94921875e-01, -1.50390625e-01, -3.97949219e-02,  2.75390625e-01,\n",
       "        1.26953125e-01, -9.86328125e-02, -1.39648438e-01,  2.52685547e-02,\n",
       "       -8.54492188e-02, -1.72119141e-02,  9.17968750e-02,  1.39648438e-01,\n",
       "       -2.39257812e-01, -2.11914062e-01, -2.21679688e-01,  1.53320312e-01,\n",
       "       -1.58691406e-02, -2.00195312e-01, -2.07519531e-02,  3.58886719e-02,\n",
       "       -6.96629286e-07, -2.13867188e-01,  2.00195312e-01, -1.09375000e-01,\n",
       "       -5.15136719e-02,  6.22558594e-02, -3.22265625e-01, -7.86132812e-02,\n",
       "        5.02929688e-02,  7.08007812e-02,  1.20117188e-01, -1.79687500e-01,\n",
       "        1.59179688e-01, -1.02233887e-03, -3.49609375e-01,  1.25000000e-01,\n",
       "        6.44531250e-02,  8.10546875e-02, -3.39355469e-02,  7.42187500e-02,\n",
       "       -3.08837891e-02, -1.38671875e-01, -3.19824219e-02,  1.99218750e-01,\n",
       "        1.25000000e-01,  5.68847656e-02, -1.67968750e-01,  1.30859375e-01,\n",
       "        2.90527344e-02, -1.49536133e-02, -1.39648438e-01,  4.07714844e-02,\n",
       "       -1.05590820e-02, -1.74804688e-01,  2.12890625e-01, -1.41601562e-01,\n",
       "        2.30712891e-02, -3.36914062e-02, -8.78906250e-02, -6.64062500e-02,\n",
       "       -6.93359375e-02, -7.42187500e-02,  7.03125000e-02, -2.01416016e-02,\n",
       "       -1.26953125e-01, -3.63769531e-02,  5.93261719e-02,  1.18164062e-01,\n",
       "       -6.34765625e-03, -7.42187500e-02,  3.19824219e-02,  6.68945312e-02,\n",
       "       -2.27539062e-01,  6.54296875e-02,  1.79443359e-02,  1.46484375e-01,\n",
       "       -5.49316406e-02, -1.15234375e-01, -2.16796875e-01,  8.74023438e-02,\n",
       "        2.61718750e-01,  1.54296875e-01,  6.71386719e-03, -2.78320312e-02,\n",
       "       -4.15039062e-03, -2.09960938e-02, -5.51757812e-02, -9.76562500e-03,\n",
       "       -1.29882812e-01,  1.31835938e-01, -8.42285156e-03,  2.29492188e-01,\n",
       "        1.78710938e-01,  1.94335938e-01,  4.68750000e-02,  2.18505859e-02,\n",
       "       -2.75878906e-02,  1.73828125e-01,  1.33789062e-01,  1.36718750e-01,\n",
       "        3.10546875e-01,  9.39941406e-03,  9.22851562e-02, -2.44140625e-01,\n",
       "       -5.10253906e-02,  7.81250000e-02, -1.43554688e-01,  9.17968750e-02,\n",
       "        2.96630859e-02,  9.46044922e-03, -2.04101562e-01,  1.60156250e-01,\n",
       "        1.43554688e-01, -2.02636719e-02,  2.13623047e-02, -6.98242188e-02,\n",
       "       -3.11279297e-03, -2.52685547e-02, -1.09863281e-01,  1.07910156e-01,\n",
       "       -7.03125000e-02, -1.27929688e-01, -5.07812500e-02,  4.27246094e-02,\n",
       "       -7.32421875e-02, -3.54003906e-02,  8.88671875e-02, -3.02734375e-01],\n",
       "      dtype=float32)"
      ]
     },
     "execution_count": 6,
     "metadata": {},
     "output_type": "execute_result"
    }
   ],
   "source": [
    "w2v['happy']"
   ]
  },
  {
   "cell_type": "code",
   "execution_count": 7,
   "metadata": {},
   "outputs": [
    {
     "data": {
      "text/plain": [
       "[('glad', 0.7408890724182129),\n",
       " ('pleased', 0.6632170677185059),\n",
       " ('ecstatic', 0.6626912355422974),\n",
       " ('overjoyed', 0.6599286794662476),\n",
       " ('thrilled', 0.6514049768447876),\n",
       " ('satisfied', 0.6437948942184448),\n",
       " ('proud', 0.636042058467865),\n",
       " ('delighted', 0.6272379159927368),\n",
       " ('disappointed', 0.6269949674606323),\n",
       " ('excited', 0.6247665882110596)]"
      ]
     },
     "execution_count": 7,
     "metadata": {},
     "output_type": "execute_result"
    }
   ],
   "source": [
    "w2v.most_similar(positive=['happy'])"
   ]
  },
  {
   "cell_type": "markdown",
   "metadata": {},
   "source": [
    "happy는 glad, pleased와 유사한데 확실히 유사한 단어들인것을 느낄수있음."
   ]
  },
  {
   "cell_type": "code",
   "execution_count": 8,
   "metadata": {},
   "outputs": [
    {
     "data": {
      "text/plain": [
       "[('relatives', 0.6662652492523193),\n",
       " ('familiy', 0.6517066955566406),\n",
       " ('families', 0.6252894401550293),\n",
       " ('siblings', 0.6140849590301514),\n",
       " ('friends', 0.6128394603729248),\n",
       " ('mother', 0.6065611839294434),\n",
       " ('aunt', 0.5811319947242737),\n",
       " ('grandparents', 0.576207160949707),\n",
       " ('father', 0.5717043876647949),\n",
       " ('Family', 0.5672314763069153)]"
      ]
     },
     "execution_count": 8,
     "metadata": {},
     "output_type": "execute_result"
    }
   ],
   "source": [
    "w2v.most_similar(positive=['family'])"
   ]
  },
  {
   "cell_type": "markdown",
   "metadata": {},
   "source": [
    "family의 오타인 familiy도 보임. 오타도 비슷한 상황에서 나타나기 때문에 유사한 단어로 계산된게 볼수있음."
   ]
  },
  {
   "cell_type": "code",
   "execution_count": 9,
   "metadata": {},
   "outputs": [
    {
     "data": {
      "text/plain": [
       "[('elementary', 0.7868632674217224),\n",
       " ('schools', 0.7411909103393555),\n",
       " ('elementary_schools', 0.6597153544425964),\n",
       " ('kindergarten', 0.6529810428619385),\n",
       " ('eighth_grade', 0.6488089561462402),\n",
       " ('School', 0.6477997303009033),\n",
       " ('teacher', 0.63824063539505),\n",
       " ('students', 0.6301523447036743),\n",
       " ('classroom', 0.6281620860099792),\n",
       " ('Schools', 0.6172096133232117)]"
      ]
     },
     "execution_count": 9,
     "metadata": {},
     "output_type": "execute_result"
    }
   ],
   "source": [
    "w2v.most_similar(positive=['school'])"
   ]
  },
  {
   "cell_type": "markdown",
   "metadata": {},
   "source": [
    "이렇게 WEAT를 통해 이 모델의 편향성을 확인할 수 있음.\n",
    "\n",
    "아래는 [논문](https://arxiv.org/pdf/1608.07187.pdf)에 있는 단어 SET으로 구성되어있음"
   ]
  },
  {
   "cell_type": "code",
   "execution_count": 18,
   "metadata": {},
   "outputs": [
    {
     "data": {
      "text/plain": [
       "1.4821917"
      ]
     },
     "execution_count": 18,
     "metadata": {},
     "output_type": "execute_result"
    }
   ],
   "source": [
    "target_A = ['science', 'technology', 'physics', 'chemistry', 'Einstein', 'NASA', 'experiment', 'astronomy']\n",
    "target_B = ['poetry', 'art', 'Shakespeare', 'dance', 'literature', 'novel', 'symphony', 'drama']\n",
    "attribute_X = ['brother', 'father', 'uncle', 'grandfather', 'son', 'he', 'his', 'him']\n",
    "attribute_Y = ['sister', 'mother', 'aunt', 'grandmother', 'daughter', 'she', 'hers', 'her']\n",
    "\n",
    "A = np.array([w2v[word] for word in target_A])\n",
    "B = np.array([w2v[word] for word in target_B])\n",
    "X = np.array([w2v[word] for word in attribute_X])\n",
    "Y = np.array([w2v[word] for word in attribute_Y])\n",
    "\n",
    "weat_score(X, Y, A, B)"
   ]
  },
  {
   "cell_type": "markdown",
   "metadata": {},
   "source": [
    "과학 관련 단어는 남자, 예술에 관한 단어는 여자에 가깝게 만들어져 weat_score가 높게 나타났음"
   ]
  },
  {
   "cell_type": "code",
   "execution_count": 19,
   "metadata": {},
   "outputs": [
    {
     "data": {
      "text/plain": [
       "1.6929383"
      ]
     },
     "execution_count": 19,
     "metadata": {},
     "output_type": "execute_result"
    }
   ],
   "source": [
    "target_A = ['pizza', 'coke', 'hamburger', 'ham', 'ramen', 'icecream', 'candy']\n",
    "target_B = ['salad', 'fruit', 'vegetable', 'herb', 'root', 'greens', 'wholesome']\n",
    "attribute_X = ['junk', 'canned', 'convenience', 'frozen', 'fast']\n",
    "attribute_Y = ['health', 'beneficial', 'good', 'nourishing', 'nutritious']\n",
    "\n",
    "A = np.array([w2v[word] for word in target_A])\n",
    "B = np.array([w2v[word] for word in target_B])\n",
    "X = np.array([w2v[word] for word in attribute_X])\n",
    "Y = np.array([w2v[word] for word in attribute_Y])\n",
    "\n",
    "weat_score(X, Y, A, B)"
   ]
  },
  {
   "cell_type": "markdown",
   "metadata": {},
   "source": [
    "조금 다르게 해석하는것으로 인스턴트 식품명과 인스턴트를 의미하는 단어,      \n",
    "채식,건강식품명과 단어와 건강식을 의미하는 형용사들을 묶어 set을 나타내도 \n",
    "\n",
    "weat_score가 높게 나타났음. \n",
    "\n",
    "이 경우에는 **편향성보다는 단어의 의미를 잘 파악했다** 는 수치적 척도의 뜻으로도 해석할수있음"
   ]
  },
  {
   "cell_type": "code",
   "execution_count": 20,
   "metadata": {},
   "outputs": [
    {
     "data": {
      "text/plain": [
       "-0.082050726"
      ]
     },
     "execution_count": 20,
     "metadata": {},
     "output_type": "execute_result"
    }
   ],
   "source": [
    "target_A = ['pizza', 'coke', 'hamburger', 'ham', 'ramen', 'icecream', 'candy']\n",
    "target_B = ['salad', 'fruit', 'vegetable', 'herb', 'root', 'greens', 'wholesome']\n",
    "attribute_X = ['book', 'essay', 'dictionary', 'magazine', 'novel']\n",
    "attribute_Y = ['news', 'report', 'statement', 'broadcast', 'word']\n",
    "\n",
    "A = np.array([w2v[word] for word in target_A])\n",
    "B = np.array([w2v[word] for word in target_B])\n",
    "X = np.array([w2v[word] for word in attribute_X])\n",
    "Y = np.array([w2v[word] for word in attribute_Y])\n",
    "\n",
    "weat_score(X, Y, A, B)"
   ]
  },
  {
   "cell_type": "markdown",
   "metadata": {},
   "source": [
    "target이랑 관련이 없는 attribute 를 설정해보면 0에 가까워서 편향성이 존재한다고 보기 힘들게 나타났음"
   ]
  },
  {
   "cell_type": "code",
   "execution_count": 21,
   "metadata": {},
   "outputs": [
    {
     "name": "stdout",
     "output_type": "stream",
     "text": [
      "삭제완료\n"
     ]
    }
   ],
   "source": [
    "del w2v\n",
    "print('삭제완료')"
   ]
  },
  {
   "cell_type": "markdown",
   "metadata": {},
   "source": [
    "메모리를 많이 차지하기 때문에 삭제함"
   ]
  },
  {
   "cell_type": "markdown",
   "metadata": {},
   "source": [
    "## 직접 만든 Word Embedding에 WEAT 적용\n",
    "\n",
    "이제 주어진 데이터로 다음과 같은 과정을 수행하여 적용해봄\n",
    "\n",
    "1. 형태소 분석기를 이용하여 품사가 명사인 경우, 해당 단어를 추출하기\n",
    "\n",
    "2. 추출된 결과로 embedding model 만들기\n",
    "\n",
    "3. TF/IDF로 해당 데이터를 가장 잘 표현하는 단어 셋 만들기\n",
    "\n",
    "4. embedding model과 단어 셋으로 WEAT score 구해보기\n",
    "\n",
    "####  1. 형태소 분석기를 이용하여 품사가 명사인 경우 해당 단어를 추출하기\n",
    "\n",
    "synopsis.txt(대략 17MB)에는 2001년부터 2019년 8월까지 제작된 영화들의 시놉시스 정보가 있음\n",
    "\n",
    "( 더 많은 영화 정보를 원하시면 KOBIS에 존재함)\n",
    "\n",
    "\n",
    "``` terminal\n",
    "$ wget https://aiffelstaticprd.blob.core.windows.net/media/documents/synopsis.zip\n",
    "$ mv synopsis.zip ~/aiffel/weat\n",
    "$ cd ~/aiffel/weat && unzip synopsis.zip\n",
    "```"
   ]
  },
  {
   "cell_type": "code",
   "execution_count": 22,
   "metadata": {},
   "outputs": [
    {
     "name": "stdout",
     "output_type": "stream",
     "text": [
      "사운드 엔지니어 상우(유지태 분)는 치매에 걸린 할머니(백성희 분)와\n",
      " 젊은 시절 상처한 한 아버지(박인환 분), 고모(신신애 분)와 함께 살고 있다.\n",
      " 어느 겨울 그는 지방 방송국 라디오 PD 은수(이영애 분)를 만난다.\n",
      " 자연의 소리를 채집해 틀어주는 라디오 프로그램을 준비하는 은수는 상우와 녹음 여행을 떠난다.\n",
      " 자연스레 가까워지는 두 사람은 어느 날, 은수의 아파트에서 밤을 보낸다.\n",
      " 너무 쉽게 사랑에 빠진 두 사람... 상우는 주체할 수 없을 정도로 그녀에게 빨려든다.\n",
      " 그러나 겨울에 만난 두 사람의 관계는 봄을 지나 여름을 맞이하면서 삐걱거린다.\n",
      " 이혼 경험이 있는 은수는 상우에게 결혼할 생각이 없다며 부담스러운 표정을 내비친다.\n",
      " \"어떻게 사랑이 변하니?...\"라고 묻는 상우에게 은수는 그저 \"헤어져\" 라고 단호하게 말한다.\n",
      " 영원히 변할 것 같지 않던 사랑이 변하고, 그 사실을 받아들이지 못하는 상우는 어찌 할 바를 모른다.\n",
      " 은수를 잊지 못하는 상우는 미련과 집착의 감정을 이기지 못하고 서울과 강릉을 오간다.\n",
      "유사 이래 연령, 성별, 빈부의 차이와 정치적인 입장을 불문하고 일거에 국민을 통합해 온 '애국심'이라는 성역에 일침을 가하는 다큐멘터리. 재작년 전국 민족민주 유가족협의회의 장기농성을 다룬 인상적인 다큐멘터리 <민들레>를 만들었던 독립영화집단 '빨간 눈사람'이 우리 사회 구석구석을 발빠르게 돌아다니며 애국심과 민족주의가 강요되는 현장을 발굴하여 카메라에 담았다. 박홍 서강대 명예총장, 이도형 '한국논단' 발행인, 축구해설자 신문선, 홍세화, 박노해 등 사회 각계의 '스타'들이 등장해 저마다의 확고한 신념을 성토한다. 감독 이경순과 최하동하는 이 작품을 위해 3년간 백여 명을 인터뷰했다고 한다. 2001 올해의 독립영화상 수상.\n",
      " 민족과 국가란 공동체에서 부단히 권력과 부를 얻는 자, 나아가 민족과 국가란 공동체에서 얻은 신분과 부귀를 영원히 그의 자손에게 대물림하려는 자, 그래서 민족과 국가란 공동체를 부단히 유지해야만 하는 자, 따라서 민족과 국가란 공동체의 당위성과 개인의 가치를 초월하는 그 존엄성을 끝도 없이 창조하고 되뇌어야 하는 자, 종국에는 민족과 국가란 공동체에 속해 있다고 태내에서부터 세뇌된 모든 이들의 삶과 행동에서 영원히 자기복제되는 순환의 고리, 영생하는 애국의 원동력은 그 순환의 골에서 온다.\n",
      "엽기적인 살인사건이 발생한 장소를 관광하는 투어팀. 그 팀에서 관광객들은 살인사건과 관련하여 히스테리컬한 반응을 보이는데 과연 이들의 정체는? (Tourists see whrer a murder take place. They respond hysterically to the murder…what are they?)\n",
      " 제46회 발라돌리드 국제영화제 (2001, 스페인)\n",
      "착하지만 엉뚱한 태희(배두나 분), 예쁜 깍쟁이 혜주(이요원 분), 그림을 잘 그리는 지영(옥지영 분), 명랑한 쌍둥이 비류(이은실 분)와 온조(이은주 분)는 단짝친구들. 늘 함께였던 그들이지만 스무 살이 되면서 길이 달라진다. 증권회사에 입사한 혜주는 성공한 커리어우먼의 야심을 키우고 미술에 재능이 있는 지영은 유학을 꿈꾼다. 한편 태희는 봉사활동에서 알게 된 뇌성마비 시인을 좋아하는데...\n",
      "  어느 날 지영이 길 잃은 새끼 고양이 티티를 만남면서 스무 살 그녀들의 삶에 고양이 한 마리가 끼어들게 된다. 혼자 있길 좋아하고, 쉽게 마음을 열지 않는 신비로운 동물 고양이. 고양이를 닮은 스무 살 그녀들. 고양이 티티와 함께 한 시간동안 삶은 예상못한 방향으로 흘러가지만 마침내 그녀들만의 해결책을 찾게 되는데... 사랑스런 몽상가 태희, 아름다운 야심가 혜주, 신비로운 아웃사이더 지영. 마지막으로 고양이를 부탁받은 사람은 누구일까?\n",
      "인도 등 아시아 식민지에 처음 발을 디딘 뒤 여행하고 “경영”한 이들은 과연 누구였을까? 과거의 이미지들은, 이민과 인종 문제, ‘오리엔탈리즘’이 격렬히 충돌하고 있는 현재와 강력하게 공명한다.\n",
      " [제19회 인디다큐페스티발]\n",
      "홀로 살아가는 미국 할머니와 한국 할머니의 이야기. 공원에서 가끔 마주치게 되는 그들은 비록 언어 소통의 어려움을 겪지만 시간이 흘러감에 따라 서로 가까워져 그들의 외로움과 우정을 공유하게 된다. 겨울이 지나고 봄이 왔을 때 길가의 민들레 홀씨는 삶의 이치를 말해주듯 한 할머니의 주위를 맴돈다. (Two elderly widows, an American and a Korean, frequent the same park in Philadelphia and attempt a friendship, though the Korean widow speaks no English. Driven by loneliness and a spark of hope, they persevere within the limits of body language, and the outcome poses a question of life as fundamental as a flower.)\n"
     ]
    }
   ],
   "source": [
    "import os\n",
    "\n",
    "with open(os.getenv('HOME')+'/aiffel/weat/synopsis.txt', 'r') as file:\n",
    "    for i in range(20):\n",
    "        print(file.readline(), end='')"
   ]
  },
  {
   "cell_type": "markdown",
   "metadata": {},
   "source": [
    "--------\n",
    "이제 synopsis.txt 파일을 읽어 konlpy 패키지를 이용하여 품사가 명사인 경우만 남기고\n",
    "\n",
    "tokenized라는 변수명으로 저장해봄\n",
    "\n",
    "\n",
    "``` terminal\n",
    "$ pip install konlpy\n",
    "```"
   ]
  },
  {
   "cell_type": "code",
   "execution_count": 23,
   "metadata": {},
   "outputs": [],
   "source": [
    "# 약 15분정도 걸립니다.\n",
    "from konlpy.tag import Okt\n",
    "okt = Okt()\n",
    "tokenized = []\n",
    "with open(os.getenv('HOME')+'/aiffel/weat/synopsis.txt', 'r') as file:\n",
    "    while True:\n",
    "        line = file.readline()\n",
    "        if not line: break\n",
    "        words = okt.pos(line, stem=True, norm=True)\n",
    "        res = []\n",
    "        for w in words:\n",
    "            if w[1] in [\"Noun\"]:      # \"Adjective\", \"Verb\" 등을 포함할 수도 있습니다.\n",
    "                res.append(w[0])    # 명사일 때만 tokenized 에 저장하게 됩니다. \n",
    "        tokenized.append(res)"
   ]
  },
  {
   "cell_type": "code",
   "execution_count": 24,
   "metadata": {},
   "outputs": [
    {
     "name": "stdout",
     "output_type": "stream",
     "text": [
      "71156\n"
     ]
    }
   ],
   "source": [
    "print(len(tokenized))"
   ]
  },
  {
   "cell_type": "markdown",
   "metadata": {},
   "source": [
    "71156개의 명사가 추출되었음"
   ]
  },
  {
   "cell_type": "markdown",
   "metadata": {},
   "source": [
    "### 2. 추출된 결과로 embedding model 만들기\n"
   ]
  },
  {
   "cell_type": "code",
   "execution_count": 26,
   "metadata": {},
   "outputs": [
    {
     "name": "stderr",
     "output_type": "stream",
     "text": [
      "/home/ssac4/anaconda3/envs/aiffel/lib/python3.7/site-packages/ipykernel_launcher.py:9: DeprecationWarning: Call to deprecated `most_similar` (Method will be removed in 4.0.0, use self.wv.most_similar() instead).\n",
      "  if __name__ == '__main__':\n"
     ]
    },
    {
     "data": {
      "text/plain": [
       "[('작품', 0.9070759415626526),\n",
       " ('다큐멘터리', 0.8515136241912842),\n",
       " ('드라마', 0.8352524042129517),\n",
       " ('영화로', 0.8190748691558838),\n",
       " ('형식', 0.8113033175468445),\n",
       " ('주제', 0.8026663064956665),\n",
       " ('소재', 0.7932949066162109),\n",
       " ('송일곤', 0.7918614149093628),\n",
       " ('스토리', 0.7907422780990601),\n",
       " ('코미디', 0.7901086211204529)]"
      ]
     },
     "execution_count": 26,
     "metadata": {},
     "output_type": "execute_result"
    }
   ],
   "source": [
    "from gensim.models import Word2Vec\n",
    "\n",
    "# tokenized에 담긴 데이터를 가지고 나만의 Word2Vec을 생성합니다. (Gensim 4.0 기준)\n",
    "# model = Word2Vec(tokenized, vector_size=100, window=5, min_count=3, sg=0)  \n",
    "# model.wv.most_similar(positive=['영화'])\n",
    "\n",
    "# Gensim 3.X 에서는 아래와 같이 생성합니다. \n",
    "model = Word2Vec(tokenized, size=100, window=5, min_count=3, sg=0)  \n",
    "model.most_similar(positive=['영화'])"
   ]
  },
  {
   "cell_type": "markdown",
   "metadata": {},
   "source": [
    "영화 시놉시스 텍스트를 통해 학습하다보니 영화라는 단어는 작품이랑 매우 가깝게 생성되었음.\n",
    "\n",
    "즉 어떤 text를 가지고 학습시키는지에 따라 임베딩도 매우 달라진다는것에 유의해야함"
   ]
  },
  {
   "cell_type": "code",
   "execution_count": 27,
   "metadata": {},
   "outputs": [
    {
     "data": {
      "text/plain": [
       "[('애정', 0.7341066598892212),\n",
       " ('연애', 0.7116760611534119),\n",
       " ('행복', 0.70481276512146),\n",
       " ('첫사랑', 0.7040883302688599),\n",
       " ('시빌라', 0.7036919593811035),\n",
       " ('아르튬', 0.7003369331359863),\n",
       " ('진심', 0.7002869844436646),\n",
       " ('만남', 0.6879246234893799),\n",
       " ('우정', 0.6843553781509399),\n",
       " ('열정', 0.6804129481315613)]"
      ]
     },
     "execution_count": 27,
     "metadata": {},
     "output_type": "execute_result"
    }
   ],
   "source": [
    "model.wv.most_similar(positive=['사랑'])"
   ]
  },
  {
   "cell_type": "code",
   "execution_count": 28,
   "metadata": {},
   "outputs": [
    {
     "data": {
      "text/plain": [
       "[('영화감독', 0.9031145572662354),\n",
       " ('배우', 0.8892683982849121),\n",
       " ('영감', 0.8834878206253052),\n",
       " ('대본', 0.8815126419067383),\n",
       " ('시나리오', 0.8780593872070312),\n",
       " ('연기자', 0.8775286674499512),\n",
       " ('각색', 0.8770350217819214),\n",
       " ('캐스팅', 0.8764846324920654),\n",
       " ('공연', 0.8761006593704224),\n",
       " ('원표', 0.8753910064697266)]"
      ]
     },
     "execution_count": 28,
     "metadata": {},
     "output_type": "execute_result"
    }
   ],
   "source": [
    "model.wv.most_similar(positive=['연극'])"
   ]
  },
  {
   "cell_type": "markdown",
   "metadata": {},
   "source": [
    "### 3. TF-IDF로 해당 데이터를 가장 잘 표현하는 단어 셋 만들기\n",
    "-----------------------\n",
    "\n",
    "WEAT score를 구할 때 단어 셋을 만들어줘야함.\n",
    "\n",
    "targets_X, targets_Y, attribute_A, attribute_B들임\n",
    "\n",
    "즉 직접 만든 데이터로 weat를 계산하려면 이 set들을 어떤 기준으로\n",
    "\n",
    "어떤 항목을 사용해야 정해야함.\n",
    "\n",
    "이번 프로젝트에서는 영화장르와, 상업/예술영화 구분을 이용하겠음\n",
    "\n",
    "\n",
    "\n",
    "* 영화 구분            \n",
    "    - synopsis_art.txt : 예술영화         \n",
    "    - synopsis_gen.txt : 상업영화(일반영화)                \n",
    "    - 그 외 독립영화 등으로 분류됩니다.                   \n",
    "\n",
    "* 장르 구분       \n",
    "    - synopsis_SF.txt: SF                \n",
    "    - synopsis_가족.txt: 가족\n",
    "    - synopsis_공연.txt: 공연\n",
    "    - synopsis_공포(호러).txt: 공포(호러)\n",
    "    - synopsis_기타.txt: 기타\n",
    "    - synopsis_다큐멘터리.txt: 다큐멘터리\n",
    "    - synopsis_드라마.txt: 드라마\n",
    "    - synopsis_멜로로맨스.txt: 멜로로맨스\n",
    "    - synopsis_뮤지컬.txt: 뮤지컬\n",
    "    - synopsis_미스터리.txt: 미스터리\n",
    "    - synopsis_범죄.txt: 범죄\n",
    "    - synopsis_사극.txt: 사극\n",
    "    - synopsis_서부극(웨스턴).txt: 서부극(웨스턴)\n",
    "    - synopsis_성인물(에로).txt: 성인물(에로)\n",
    "    - synopsis_스릴러.txt: 스릴러\n",
    "    - synopsis_애니메이션.txt: 애니메이션\n",
    "    - synopsis_액션.txt: 액션\n",
    "    - synopsis_어드벤처.txt: 어드벤처\n",
    "    - synopsis_전쟁.txt: 전쟁\n",
    "    - synopsis_코미디.txt: 코미디\n",
    "    - synopsis_판타지.txt: 판타지\n",
    "    \n",
    "  \n",
    "  \n",
    "즉 상업/예술 영화를 target으로, 드라마와 액션을 attribute로 삼겠음.\n",
    "\n",
    "\n",
    "이렇게 축을 삼고 **드라마는 예술 영화적 성격이 강하다.**\n",
    "\n",
    "**액션 장르는 상업영화적 성격이 강하다는 가설**을 세워보고\n",
    "\n",
    "이것을 **weat score의 계산을 통해 검증**해보겠음\n",
    "\n",
    "\n",
    "\n",
    "'synopsis_art.txt', 'synopsis_gen.txt' 두 파일을 읽고, 위에서 했던 것과 마찬가지로 명사에 대해서만 추출하여 art, gen 변수에 할당함."
   ]
  },
  {
   "cell_type": "code",
   "execution_count": null,
   "metadata": {},
   "outputs": [],
   "source": [
    "import os\n",
    "from sklearn.feature_extraction.text import TfidfVectorizer\n",
    "import numpy as np\n",
    "from konlpy.tag import Okt\n",
    "\n",
    "art_txt = 'synopsis_art.txt'\n",
    "gen_txt = 'synopsis_gen.txt'"
   ]
  },
  {
   "cell_type": "markdown",
   "metadata": {},
   "source": [
    "명사만 추출하는 것을 read_token으로 함수화함"
   ]
  },
  {
   "cell_type": "code",
   "execution_count": 29,
   "metadata": {},
   "outputs": [],
   "source": [
    "def read_token(file_name):\n",
    "    okt = Okt()\n",
    "    result = []\n",
    "    with open(os.getenv('HOME')+'/aiffel/weat/'+file_name, 'r') as fread: \n",
    "        print(file_name, '파일을 읽고 있습니다.')\n",
    "        while True:\n",
    "            line = fread.readline() \n",
    "            if not line: break \n",
    "            tokenlist = okt.pos(line, stem=True, norm=True) \n",
    "            for word in tokenlist:\n",
    "                if word[1] in [\"Noun\"]:#, \"Adjective\", \"Verb\"]:\n",
    "                    result.append((word[0])) \n",
    "    return ' '.join(result)"
   ]
  },
  {
   "cell_type": "code",
   "execution_count": 30,
   "metadata": {},
   "outputs": [
    {
     "name": "stdout",
     "output_type": "stream",
     "text": [
      "synopsis_art.txt 파일을 읽고 있습니다.\n",
      "synopsis_gen.txt 파일을 읽고 있습니다.\n"
     ]
    }
   ],
   "source": [
    "# 2개의 파일을 처리하는데 10분 가량 걸립니다. \n",
    "art = read_token(art_txt)\n",
    "gen = read_token(gen_txt)"
   ]
  },
  {
   "cell_type": "markdown",
   "metadata": {},
   "source": [
    "\n",
    "#### attribute 설정 방법\n",
    "\n",
    "연구자 임의적인 설정이 아닌 좀 더 객관적으로 attribute 단어 셋을 설정하기 위해 \n",
    "예술영화 시놉시스에는 잘 나타나지만 다른 영화에는 나타나지않는 단어를 설정할것임\n",
    "\n",
    "비슷한 개념인 TF_IDF를 통해서 attribute를 선정해봄 \n",
    "\n"
   ]
  },
  {
   "cell_type": "code",
   "execution_count": 31,
   "metadata": {},
   "outputs": [
    {
     "name": "stdout",
     "output_type": "stream",
     "text": [
      "(2, 41082)\n"
     ]
    }
   ],
   "source": [
    "vectorizer = TfidfVectorizer()\n",
    "X = vectorizer.fit_transform([art, gen])\n",
    "\n",
    "print(X.shape)"
   ]
  },
  {
   "cell_type": "code",
   "execution_count": 32,
   "metadata": {},
   "outputs": [
    {
     "name": "stdout",
     "output_type": "stream",
     "text": [
      "23976\n",
      "영화\n"
     ]
    }
   ],
   "source": [
    "print(vectorizer.vocabulary_['영화'])\n",
    "print(vectorizer.get_feature_names()[23976])"
   ]
  },
  {
   "cell_type": "code",
   "execution_count": 33,
   "metadata": {},
   "outputs": [
    {
     "name": "stdout",
     "output_type": "stream",
     "text": [
      "예술영화를 대표하는 단어들:\n",
      "그녀, 자신, 시작, 위해, 사랑, 사람, 영화, 친구, 남자, 가족, 이야기, 마을, 사건, 마음, 세상, 아버지, 아이, 엄마, 모든, 여자, 대한, 서로, 과연, 다시, 시간, 아들, 소녀, 아내, 다른, 사이, 영화제, 세계, 사실, 하나, 점점, 남편, 감독, 여행, 인생, 발견, 모두, 순간, 우리, 가장, 마지막, 생활, 아빠, 모습, 통해, 죽음, 기억, 비밀, 학교, 음악, 한편, 소년, 생각, 도시, 명의, 사고, 결혼, 전쟁, 때문, 위기, 이제, 최고, 이자, 과거, 일상, 경찰, 상황, 간다, 미국, 결심, 운명, 현실, 관계, 지금, 단편, 여인, 하루, 이름, 이후, 준비, 인간, 감정, 만난, 국제, 처음, 충격, 살인, 누구, 동안, 존재, 그린, 어머니, 연인, 계속, 동생, 작품, \n",
      "\n",
      "일반영화를 대표하는 단어들:\n",
      "자신, 그녀, 영화제, 위해, 사람, 시작, 국제, 영화, 친구, 사랑, 남자, 이야기, 대한, 서울, 여자, 사건, 남편, 아이, 가족, 아버지, 다른, 마을, 시간, 엄마, 아들, 모든, 단편, 마음, 사실, 다시, 세계, 모습, 작품, 통해, 생각, 서로, 세상, 발견, 감독, 아내, 관계, 소녀, 사이, 하나, 우리, 애니메이션, 때문, 여성, 죽음, 과연, 점점, 인간, 생활, 한편, 결혼, 상황, 모두, 기억, 명의, 소년, 여행, 가장, 간다, 순간, 이제, 도시, 비밀, 학교, 과거, 가지, 이자, 경찰, 마지막, 미국, 동안, 전쟁, 주인공, 대해, 존재, 현실, 연출, 사고, 살인, 일상, 어머니, 계속, 사회, 인생, 다큐멘터리, 부문, 섹스, 최고, 바로, 동생, 의도, 하루, 위기, 계획, 정체, 한국, "
     ]
    }
   ],
   "source": [
    "m1 = X[0].tocoo()   # art를 TF-IDF로 표현한 sparse matrix를 가져옵니다. \n",
    "m2 = X[1].tocoo()   # gen을 TF-IDF로 표현한 sparse matrix를 가져옵니다. \n",
    "\n",
    "w1 = [[i, j] for i, j in zip(m1.col, m1.data)]\n",
    "w2 = [[i, j] for i, j in zip(m2.col, m2.data)]\n",
    "\n",
    "w1.sort(key=lambda x: x[1], reverse=True)   #art를 구성하는 단어들을 TF-IDF가 높은 순으로 정렬합니다. \n",
    "w2.sort(key=lambda x: x[1], reverse=True)   #gen을 구성하는 단어들을 TF-IDF가 높은 순으로 정렬합니다. \n",
    "\n",
    "print('예술영화를 대표하는 단어들:')\n",
    "for i in range(100):\n",
    "    print(vectorizer.get_feature_names()[w1[i][0]], end=', ')\n",
    "\n",
    "print('\\n')\n",
    "    \n",
    "print('일반영화를 대표하는 단어들:')\n",
    "for i in range(100):\n",
    "    print(vectorizer.get_feature_names()[w2[i][0]], end=', ')"
   ]
  },
  {
   "cell_type": "markdown",
   "metadata": {},
   "source": [
    "TF-IDF가 높은 순서로 추출했는데 양쪽에 중복된 단어가 너무 많음.\n",
    "중복된 단어를 제외하고 상위 n개를 추출함\n"
   ]
  },
  {
   "cell_type": "code",
   "execution_count": 34,
   "metadata": {},
   "outputs": [],
   "source": [
    "n = 15\n",
    "w1_, w2_ = [], []\n",
    "for i in range(100):\n",
    "    w1_.append(vectorizer.get_feature_names()[w1[i][0]])\n",
    "    w2_.append(vectorizer.get_feature_names()[w2[i][0]])\n",
    "\n",
    "# w1에만 있고 w2에는 없는, 예술영화를 잘 대표하는 단어를 15개 추출한다.\n",
    "target_art, target_gen = [], []\n",
    "for i in range(100):\n",
    "    if (w1_[i] not in w2_) and (w1_[i] in model.wv): target_art.append(w1_[i])\n",
    "    if len(target_art) == n: break \n",
    "\n",
    "# w2에만 있고 w1에는 없는, 일반영화를 잘 대표하는 단어를 15개 추출한다.\n",
    "for i in range(100):\n",
    "    if (w2_[i] not in w1_) and (w2_[i] in model.wv): target_gen.append(w2_[i])\n",
    "    if len(target_gen) == n: break"
   ]
  },
  {
   "cell_type": "markdown",
   "metadata": {},
   "source": [
    "추출한 단어를 확인함\n"
   ]
  },
  {
   "cell_type": "code",
   "execution_count": 35,
   "metadata": {},
   "outputs": [
    {
     "name": "stdout",
     "output_type": "stream",
     "text": [
      "['아빠', '음악', '결심', '운명', '지금', '여인', '이름', '이후', '준비', '감정', '만난', '처음', '충격', '누구', '그린']\n"
     ]
    }
   ],
   "source": [
    "print(target_art)"
   ]
  },
  {
   "cell_type": "code",
   "execution_count": 36,
   "metadata": {},
   "outputs": [
    {
     "name": "stdout",
     "output_type": "stream",
     "text": [
      "['서울', '애니메이션', '여성', '가지', '주인공', '대해', '연출', '사회', '다큐멘터리', '부문', '섹스', '바로', '의도', '계획', '정체']\n"
     ]
    }
   ],
   "source": [
    "print(target_gen)"
   ]
  },
  {
   "cell_type": "markdown",
   "metadata": {},
   "source": [
    "이제 장르의 attribute를 추출할때 드라마와 액션 둘만 보기보다는\n",
    "여러 장르를 동시에 고려해서 선택하기위해 주요 장르 5개를 선택했음\n"
   ]
  },
  {
   "cell_type": "code",
   "execution_count": 37,
   "metadata": {},
   "outputs": [],
   "source": [
    "genre_txt = ['synopsis_drama.txt', 'synopsis_romance.txt', 'synopsis_action.txt', 'synopsis_comedy.txt', 'synopsis_war.txt', 'synopsis_horror.txt']\n",
    "genre_name = ['드라마', '멜로로맨스', '액션', '코미디', '전쟁', '공포(호러)']"
   ]
  },
  {
   "cell_type": "code",
   "execution_count": 38,
   "metadata": {},
   "outputs": [
    {
     "name": "stdout",
     "output_type": "stream",
     "text": [
      "synopsis_drama.txt 파일을 읽고 있습니다.\n",
      "synopsis_romance.txt 파일을 읽고 있습니다.\n",
      "synopsis_action.txt 파일을 읽고 있습니다.\n",
      "synopsis_comedy.txt 파일을 읽고 있습니다.\n",
      "synopsis_war.txt 파일을 읽고 있습니다.\n",
      "synopsis_horror.txt 파일을 읽고 있습니다.\n"
     ]
    }
   ],
   "source": [
    "# 약 10분정도 걸립니다.\n",
    "genre = []\n",
    "for file_name in genre_txt:\n",
    "    genre.append(read_token(file_name))"
   ]
  },
  {
   "cell_type": "code",
   "execution_count": 39,
   "metadata": {},
   "outputs": [
    {
     "name": "stdout",
     "output_type": "stream",
     "text": [
      "(6, 33151)\n"
     ]
    }
   ],
   "source": [
    "vectorizer = TfidfVectorizer()\n",
    "X = vectorizer.fit_transform(genre)\n",
    "\n",
    "print(X.shape)"
   ]
  },
  {
   "cell_type": "code",
   "execution_count": 40,
   "metadata": {},
   "outputs": [
    {
     "name": "stdout",
     "output_type": "stream",
     "text": [
      "드라마: 자신, 영화제, 그녀, 사람, 사랑, 위해, 영화, 시작, 국제, 남자, 친구, 이야기, 여자, 아버지, 엄마, \n",
      "멜로로맨스: 그녀, 사랑, 자신, 시작, 남자, 남편, 여자, 사람, 친구, 위해, 마음, 섹스, 결혼, 서로, 아내, \n",
      "액션: 위해, 자신, 시작, 조직, 사건, 사람, 그녀, 경찰, 전쟁, 친구, 모든, 목숨, 사실, 세계, 가족, \n",
      "코미디: 그녀, 자신, 시작, 위해, 사랑, 사람, 친구, 영화, 남자, 여자, 영화제, 가족, 과연, 마을, 사건, \n",
      "전쟁: 전쟁, 위해, 전투, 시작, 작전, 독일군, 부대, 독일, 윈터스, 자신, 사람, 공격, 임무, 연합군, 병사, \n",
      "공포(호러): 시작, 위해, 사람, 자신, 친구, 그녀, 사건, 공포, 발견, 죽음, 마을, 남자, 가족, 영화, 하나, \n"
     ]
    }
   ],
   "source": [
    "m = [X[i].tocoo() for i in range(X.shape[0])]\n",
    "\n",
    "w = [[[i, j] for i, j in zip(mm.col, mm.data)] for mm in m]\n",
    "\n",
    "for i in range(len(w)):\n",
    "    w[i].sort(key=lambda x: x[1], reverse=True)\n",
    "attributes = []\n",
    "for i in range(len(w)):\n",
    "    print(genre_name[i], end=': ')\n",
    "    attr = []\n",
    "    j = 0\n",
    "    while (len(attr) < 15):\n",
    "        if vectorizer.get_feature_names()[w[i][j][0]] in model.wv:\n",
    "            attr.append(vectorizer.get_feature_names()[w[i][j][0]])\n",
    "            print(vectorizer.get_feature_names()[w[i][j][0]], end=', ')\n",
    "        j += 1\n",
    "    attributes.append(attr)\n",
    "    print()"
   ]
  },
  {
   "cell_type": "markdown",
   "metadata": {},
   "source": [
    "중복이 있지만 아무래도 다른 장르다 보니 중복되는게 적기 때문에 \n",
    "그대로 사용하도록하곘음\n",
    "\n",
    "## 4. embedding model과 단어 셋으로 WEAT score 구해보기\n",
    "\n",
    "이제 WEAT_score를 계산함. \n",
    "traget_A는 art, target_B는 gen, attribute_X는 '드라마', attribute_Y는 '액션' 과 같이 설정함\n",
    "\n",
    "target_A 는 art, target_B 는 gen으로 고정하고 attribute_X, attribute_Y를 바꿔가면서 구하면됨\n",
    "\n",
    "구한 결과를 21x21 매트릭스 형태로 표현해서 matrix 라는 변수에 담음"
   ]
  },
  {
   "cell_type": "code",
   "execution_count": 42,
   "metadata": {},
   "outputs": [],
   "source": [
    "matrix = [[0 for _ in range(len(genre_name))] for _ in range(len(genre_name))]"
   ]
  },
  {
   "cell_type": "code",
   "execution_count": 49,
   "metadata": {},
   "outputs": [],
   "source": [
    "A = np.array([model.wv[word] for word in target_art])\n",
    "B = np.array([model.wv[word] for word in target_gen])\n",
    "\n",
    "for i in range(len(genre_name)-1):\n",
    "    for j in range(i+1, len(genre_name)):\n",
    "        X = np.array([model.wv[word] for word in attributes[i]])\n",
    "        Y = np.array([model.wv[word] for word in attributes[j]])\n",
    "        matrix[i][j] = weat_score(X, Y, A, B)"
   ]
  },
  {
   "cell_type": "code",
   "execution_count": 55,
   "metadata": {},
   "outputs": [
    {
     "name": "stdout",
     "output_type": "stream",
     "text": [
      "드라마 멜로로맨스 -0.6994938\n",
      "드라마 액션 -0.028636964\n",
      "드라마 코미디 -0.014543903\n",
      "드라마 전쟁 0.36217204\n",
      "드라마 공포(호러) -0.15307935\n",
      "멜로로맨스 액션 1.062331\n",
      "멜로로맨스 코미디 0.7754352\n",
      "멜로로맨스 전쟁 1.433532\n",
      "멜로로맨스 공포(호러) 0.87090605\n",
      "액션 코미디 0.013179308\n",
      "액션 전쟁 0.5788888\n",
      "액션 공포(호러) -0.18564959\n",
      "코미디 전쟁 0.4240402\n",
      "코미디 공포(호러) -0.15290956\n",
      "전쟁 공포(호러) -0.7241164\n"
     ]
    }
   ],
   "source": [
    "for i in range(len(genre_name)-1):\n",
    "    for j in range(i+1, len(genre_name)):\n",
    "       # if matrix[i][j] > 1.1 or matrix[i][j] < -1.1:\n",
    "            print(genre_name[i], genre_name[j],matrix[i][j])"
   ]
  },
  {
   "cell_type": "markdown",
   "metadata": {},
   "source": [
    "\n",
    "* 예술영화와 일반영화, 그리고 멜로로맨스와 전쟁의 WEAT score의 의미를 해석해보면 예술 영화는 멜로로맨스와 가깝고, 전쟁은 일반 영화와 가깝다고 볼 수 있습니다."
   ]
  },
  {
   "cell_type": "code",
   "execution_count": 45,
   "metadata": {},
   "outputs": [
    {
     "data": {
      "text/plain": [
       "<AxesSubplot:>"
      ]
     },
     "execution_count": 45,
     "metadata": {},
     "output_type": "execute_result"
    },
    {
     "data": {
      "image/png": "[encoded data removed]",
      "text/plain": [
       "<Figure size 432x288 with 2 Axes>"
      ]
     },
     "metadata": {},
     "output_type": "display_data"
    }
   ],
   "source": [
    "import numpy as np; \n",
    "import seaborn as sns; \n",
    "\n",
    "np.random.seed(0)\n",
    "\n",
    "# 한글 지원 폰트\n",
    "sns.set(font=\"Noto Sans CJK JP\")\n",
    "\n",
    "ax = sns.heatmap(matrix, xticklabels=genre_name, yticklabels=genre_name, annot=True,  cmap='RdYlGn_r')\n",
    "ax"
   ]
  },
  {
   "cell_type": "markdown",
   "metadata": {},
   "source": [
    "위와 같이도 시각화 가능함"
   ]
  },
  {
   "cell_type": "markdown",
   "metadata": {},
   "source": [
    "# 6-8. 프로젝트 : 모든 장르 간 편향성 측정해 보기\n",
    "\n",
    "지금까지 우리는 영화 시놉시스 코퍼스를 가지고 영화 구분과 영화 장르 간에 내재된 편향성을 측정하는 작업을 진행해 보았습니다. 어느 정도는 우리의 상식과 일치하는 편향성이 측정되었을 것입니다.\n",
    "\n",
    "이번에는 모든 장르에 대해 영화 구분과의 편향성 정도를 측정해 보겠습니다. 대부분의 과정은 이전 스텝에서 이미 진행한 내용을 참고해서 동일하게 진행 가능할 것입니다.\n",
    "\n",
    "### STEP 1. 형태소 분석기를 이용하여 품사가 명사인 경우 해당 단어를 추출하기"
   ]
  },
  {
   "cell_type": "code",
   "execution_count": 58,
   "metadata": {},
   "outputs": [],
   "source": [
    "# 약 15분정도 걸립니다.\n",
    "from konlpy.tag import Okt\n",
    "okt = Okt()\n",
    "tokenized = []\n",
    "with open(os.getenv('HOME')+'/aiffel/weat/synopsis.txt', 'r') as file:\n",
    "    while True:\n",
    "        line = file.readline()\n",
    "        if not line: break\n",
    "        words = okt.pos(line, stem=True, norm=True)\n",
    "        res = []\n",
    "        for w in words:\n",
    "            if w[1] in [\"Noun\"]:      # \"Adjective\", \"Verb\" 등을 포함할 수도 있습니다.\n",
    "                res.append(w[0])    # 명사일 때만 tokenized 에 저장하게 됩니다. \n",
    "        tokenized.append(res)"
   ]
  },
  {
   "cell_type": "code",
   "execution_count": 60,
   "metadata": {},
   "outputs": [
    {
     "name": "stdout",
     "output_type": "stream",
     "text": [
      "71156\n"
     ]
    }
   ],
   "source": [
    "print(len(tokenized))"
   ]
  },
  {
   "cell_type": "markdown",
   "metadata": {},
   "source": [
    "### STEP 2. 추출된 결과로 embedding model 만들기"
   ]
  },
  {
   "cell_type": "code",
   "execution_count": 61,
   "metadata": {},
   "outputs": [],
   "source": [
    "from gensim.models import Word2Vec\n",
    "\n",
    "# tokenized에 담긴 데이터를 가지고 나만의 Word2Vec을 생성합니다. (Gensim 4.0 기준)\n",
    "# model = Word2Vec(tokenized, vector_size=100, window=5, min_count=3, sg=0)  \n",
    "# model.wv.most_similar(positive=['영화'])\n",
    "\n",
    "# Gensim 3.X 에서는 아래와 같이 생성합니다. \n",
    "model = Word2Vec(tokenized, size=100, window=5, min_count=3, sg=0)  \n"
   ]
  },
  {
   "cell_type": "code",
   "execution_count": 62,
   "metadata": {},
   "outputs": [
    {
     "data": {
      "text/plain": [
       "[('생존', 0.7759121656417847),\n",
       " ('전투', 0.7721431851387024),\n",
       " ('처절', 0.7636818885803223),\n",
       " ('평화', 0.762864351272583),\n",
       " ('소용돌이', 0.7573951482772827),\n",
       " ('학살', 0.7568584680557251),\n",
       " ('내전', 0.7497737407684326),\n",
       " ('선포', 0.7381144762039185),\n",
       " ('격변', 0.7376413345336914),\n",
       " ('조국', 0.7370121479034424)]"
      ]
     },
     "execution_count": 62,
     "metadata": {},
     "output_type": "execute_result"
    }
   ],
   "source": [
    "model.wv.most_similar(positive=['전쟁'])"
   ]
  },
  {
   "cell_type": "markdown",
   "metadata": {},
   "source": [
    "워드 임베딩이 잘 만들어 졌음을 확인할 수 있음"
   ]
  },
  {
   "cell_type": "markdown",
   "metadata": {},
   "source": [
    "### STEP 3. target, attribute 단어 셋 만들기"
   ]
  },
  {
   "cell_type": "markdown",
   "metadata": {},
   "source": [
    "#### target 만들기"
   ]
  },
  {
   "cell_type": "code",
   "execution_count": 63,
   "metadata": {},
   "outputs": [],
   "source": [
    "import os\n",
    "from sklearn.feature_extraction.text import TfidfVectorizer\n",
    "import numpy as np\n",
    "from konlpy.tag import Okt\n",
    "\n",
    "art_txt = 'synopsis_art.txt'\n",
    "gen_txt = 'synopsis_gen.txt'\n",
    "\n",
    "def read_token(file_name):\n",
    "    okt = Okt()\n",
    "    result = []\n",
    "    with open(os.getenv('HOME')+'/aiffel/weat/'+file_name, 'r') as fread: \n",
    "        print(file_name, '파일을 읽고 있습니다.')\n",
    "        while True:\n",
    "            line = fread.readline() \n",
    "            if not line: break \n",
    "            tokenlist = okt.pos(line, stem=True, norm=True) \n",
    "            for word in tokenlist:\n",
    "                if word[1] in [\"Noun\"]:#, \"Adjective\", \"Verb\"]:\n",
    "                    result.append((word[0])) \n",
    "    return ' '.join(result)"
   ]
  },
  {
   "cell_type": "code",
   "execution_count": 64,
   "metadata": {},
   "outputs": [
    {
     "name": "stdout",
     "output_type": "stream",
     "text": [
      "synopsis_art.txt 파일을 읽고 있습니다.\n",
      "synopsis_gen.txt 파일을 읽고 있습니다.\n"
     ]
    }
   ],
   "source": [
    "art = read_token(art_txt)\n",
    "gen = read_token(gen_txt)"
   ]
  },
  {
   "cell_type": "code",
   "execution_count": 66,
   "metadata": {},
   "outputs": [
    {
     "name": "stdout",
     "output_type": "stream",
     "text": [
      "(2, 41082)\n"
     ]
    }
   ],
   "source": [
    "vectorizer = TfidfVectorizer()\n",
    "X = vectorizer.fit_transform([art, gen])\n",
    "\n",
    "print(X.shape)"
   ]
  },
  {
   "cell_type": "code",
   "execution_count": 67,
   "metadata": {},
   "outputs": [
    {
     "name": "stdout",
     "output_type": "stream",
     "text": [
      "23976\n",
      "영화\n"
     ]
    }
   ],
   "source": [
    "print(vectorizer.vocabulary_['영화'])\n",
    "print(vectorizer.get_feature_names()[23976])"
   ]
  },
  {
   "cell_type": "code",
   "execution_count": 68,
   "metadata": {},
   "outputs": [
    {
     "name": "stdout",
     "output_type": "stream",
     "text": [
      "예술영화를 대표하는 단어들:\n",
      "그녀, 자신, 시작, 위해, 사랑, 사람, 영화, 친구, 남자, 가족, 이야기, 마을, 사건, 마음, 세상, 아버지, 아이, 엄마, 모든, 여자, 대한, 서로, 과연, 다시, 시간, 아들, 소녀, 아내, 다른, 사이, 영화제, 세계, 사실, 하나, 점점, 남편, 감독, 여행, 인생, 발견, 모두, 순간, 우리, 가장, 마지막, 생활, 아빠, 모습, 통해, 죽음, 기억, 비밀, 학교, 음악, 한편, 소년, 생각, 도시, 명의, 사고, 결혼, 전쟁, 때문, 위기, 이제, 최고, 이자, 과거, 일상, 경찰, 상황, 간다, 미국, 결심, 운명, 현실, 관계, 지금, 단편, 여인, 하루, 이름, 이후, 준비, 인간, 감정, 만난, 국제, 처음, 충격, 살인, 누구, 동안, 존재, 그린, 어머니, 연인, 계속, 동생, 작품, \n",
      "\n",
      "일반영화를 대표하는 단어들:\n",
      "자신, 그녀, 영화제, 위해, 사람, 시작, 국제, 영화, 친구, 사랑, 남자, 이야기, 대한, 서울, 여자, 사건, 남편, 아이, 가족, 아버지, 다른, 마을, 시간, 엄마, 아들, 모든, 단편, 마음, 사실, 다시, 세계, 모습, 작품, 통해, 생각, 서로, 세상, 발견, 감독, 아내, 관계, 소녀, 사이, 하나, 우리, 애니메이션, 때문, 여성, 죽음, 과연, 점점, 인간, 생활, 한편, 결혼, 상황, 모두, 기억, 명의, 소년, 여행, 가장, 간다, 순간, 이제, 도시, 비밀, 학교, 과거, 가지, 이자, 경찰, 마지막, 미국, 동안, 전쟁, 주인공, 대해, 존재, 현실, 연출, 사고, 살인, 일상, 어머니, 계속, 사회, 인생, 다큐멘터리, 부문, 섹스, 최고, 바로, 동생, 의도, 하루, 위기, 계획, 정체, 한국, "
     ]
    }
   ],
   "source": [
    "m1 = X[0].tocoo()   # art를 TF-IDF로 표현한 sparse matrix를 가져옵니다. \n",
    "m2 = X[1].tocoo()   # gen을 TF-IDF로 표현한 sparse matrix를 가져옵니다. \n",
    "\n",
    "w1 = [[i, j] for i, j in zip(m1.col, m1.data)]\n",
    "w2 = [[i, j] for i, j in zip(m2.col, m2.data)]\n",
    "\n",
    "w1.sort(key=lambda x: x[1], reverse=True)   #art를 구성하는 단어들을 TF-IDF가 높은 순으로 정렬합니다. \n",
    "w2.sort(key=lambda x: x[1], reverse=True)   #gen을 구성하는 단어들을 TF-IDF가 높은 순으로 정렬합니다. \n",
    "\n",
    "print('예술영화를 대표하는 단어들:')\n",
    "for i in range(100):\n",
    "    print(vectorizer.get_feature_names()[w1[i][0]], end=', ')\n",
    "\n",
    "print('\\n')\n",
    "    \n",
    "print('일반영화를 대표하는 단어들:')\n",
    "for i in range(100):\n",
    "    print(vectorizer.get_feature_names()[w2[i][0]], end=', ')"
   ]
  },
  {
   "cell_type": "code",
   "execution_count": 69,
   "metadata": {},
   "outputs": [],
   "source": [
    "n = 15\n",
    "w1_, w2_ = [], []\n",
    "for i in range(100):\n",
    "    w1_.append(vectorizer.get_feature_names()[w1[i][0]])\n",
    "    w2_.append(vectorizer.get_feature_names()[w2[i][0]])\n",
    "\n",
    "# w1에만 있고 w2에는 없는, 예술영화를 잘 대표하는 단어를 15개 추출한다.\n",
    "target_art, target_gen = [], []\n",
    "for i in range(100):\n",
    "    if (w1_[i] not in w2_) and (w1_[i] in model.wv): target_art.append(w1_[i])\n",
    "    if len(target_art) == n: break \n",
    "\n",
    "# w2에만 있고 w1에는 없는, 일반영화를 잘 대표하는 단어를 15개 추출한다.\n",
    "for i in range(100):\n",
    "    if (w2_[i] not in w1_) and (w2_[i] in model.wv): target_gen.append(w2_[i])\n",
    "    if len(target_gen) == n: break"
   ]
  },
  {
   "cell_type": "code",
   "execution_count": 70,
   "metadata": {},
   "outputs": [
    {
     "name": "stdout",
     "output_type": "stream",
     "text": [
      "['아빠', '음악', '결심', '운명', '지금', '여인', '이름', '이후', '준비', '감정', '만난', '처음', '충격', '누구', '그린']\n"
     ]
    }
   ],
   "source": [
    "print(target_art)"
   ]
  },
  {
   "cell_type": "code",
   "execution_count": 71,
   "metadata": {},
   "outputs": [
    {
     "name": "stdout",
     "output_type": "stream",
     "text": [
      "['서울', '애니메이션', '여성', '가지', '주인공', '대해', '연출', '사회', '다큐멘터리', '부문', '섹스', '바로', '의도', '계획', '정체']\n"
     ]
    }
   ],
   "source": [
    "print(target_gen)"
   ]
  },
  {
   "cell_type": "markdown",
   "metadata": {},
   "source": [
    "#### attribute 만들기 \n",
    "\n",
    "위랑 다르게 전체 장르를 다 이용함"
   ]
  },
  {
   "cell_type": "code",
   "execution_count": 72,
   "metadata": {},
   "outputs": [],
   "source": [
    "genre_txt = ['synopsis_SF.txt', 'synopsis_family.txt', 'synopsis_show.txt', 'synopsis_horror.txt', 'synopsis_etc.txt', \n",
    "             'synopsis_documentary.txt', 'synopsis_drama.txt', 'synopsis_romance.txt', 'synopsis_musical.txt', \n",
    "             'synopsis_mystery.txt', 'synopsis_crime.txt', 'synopsis_historical.txt', 'synopsis_western.txt', \n",
    "             'synopsis_adult.txt', 'synopsis_thriller.txt', 'synopsis_animation.txt', 'synopsis_action.txt', \n",
    "             'synopsis_adventure.txt', 'synopsis_war.txt', 'synopsis_comedy.txt', 'synopsis_fantasy.txt']\n",
    "genre_name = ['SF', '가족', '공연', '공포(호러)', '기타', '다큐멘터리', '드라마', '멜로로맨스', '뮤지컬', '미스터리', '범죄', '사극', '서부극(웨스턴)',\n",
    "         '성인물(에로)', '스릴러', '애니메이션', '액션', '어드벤처', '전쟁', '코미디', '판타지']"
   ]
  },
  {
   "cell_type": "code",
   "execution_count": 73,
   "metadata": {},
   "outputs": [
    {
     "name": "stdout",
     "output_type": "stream",
     "text": [
      "synopsis_SF.txt 파일을 읽고 있습니다.\n",
      "synopsis_family.txt 파일을 읽고 있습니다.\n",
      "synopsis_show.txt 파일을 읽고 있습니다.\n",
      "synopsis_horror.txt 파일을 읽고 있습니다.\n",
      "synopsis_etc.txt 파일을 읽고 있습니다.\n",
      "synopsis_documentary.txt 파일을 읽고 있습니다.\n",
      "synopsis_drama.txt 파일을 읽고 있습니다.\n",
      "synopsis_romance.txt 파일을 읽고 있습니다.\n",
      "synopsis_musical.txt 파일을 읽고 있습니다.\n",
      "synopsis_mystery.txt 파일을 읽고 있습니다.\n",
      "synopsis_crime.txt 파일을 읽고 있습니다.\n",
      "synopsis_historical.txt 파일을 읽고 있습니다.\n",
      "synopsis_western.txt 파일을 읽고 있습니다.\n",
      "synopsis_adult.txt 파일을 읽고 있습니다.\n",
      "synopsis_thriller.txt 파일을 읽고 있습니다.\n",
      "synopsis_animation.txt 파일을 읽고 있습니다.\n",
      "synopsis_action.txt 파일을 읽고 있습니다.\n",
      "synopsis_adventure.txt 파일을 읽고 있습니다.\n",
      "synopsis_war.txt 파일을 읽고 있습니다.\n",
      "synopsis_comedy.txt 파일을 읽고 있습니다.\n",
      "synopsis_fantasy.txt 파일을 읽고 있습니다.\n"
     ]
    }
   ],
   "source": [
    "# 꽤 오랜 시간이 걸림\n",
    "genre = []\n",
    "for file_name in genre_txt:\n",
    "    genre.append(read_token(file_name))"
   ]
  },
  {
   "cell_type": "code",
   "execution_count": 74,
   "metadata": {},
   "outputs": [
    {
     "name": "stdout",
     "output_type": "stream",
     "text": [
      "(21, 42191)\n"
     ]
    }
   ],
   "source": [
    "vectorizer = TfidfVectorizer()\n",
    "X = vectorizer.fit_transform(genre)\n",
    "\n",
    "print(X.shape)"
   ]
  },
  {
   "cell_type": "code",
   "execution_count": 77,
   "metadata": {
    "scrolled": false
   },
   "outputs": [
    {
     "name": "stdout",
     "output_type": "stream",
     "text": [
      "\n",
      "\n",
      "SF: 위해, 자신, 지구, 시작, 사람, 인류, 인간, 미래, 우주, 그녀, 로봇, 세계, 모든, 박사, 우주선, 외계, 존재, 세상, 발견, 행성, 정체, 친구, 비밀, 사실, 기억, 전쟁, 사건, 시간, 공격, 영화, 한편, 실험, 능력, 시스템, 위협, 생명체, 정부, 아들, 사고, 스타크, 리플리, 과학자, 음모, 파괴, 아버지, 켈빈, 컨트, 모두, 수퍼맨, 임무, 발생, 가족, 요원, 죽음, 다시, 위기, 과거, 외계인, 도시, 이제, 갑자기, 상황, 운명, 분파, 불명, 연구, 개발, 때문, 탈출, 명의, 의문, 남자, 아이, 현실, 바이러스, 상어, 물체, 진화, 목숨, 최후, 통해, 프로젝트, 수트, 생존, 과연, 사랑, 히노키, 섹터, 미국, 여행, 대원, 멸망, 조직, 바로, 위험, 사이, 세력, 감염, 괴물, 거대, \n",
      "\n",
      "\n",
      "가족: 엄마, 아빠, 가족, 영화제, 자신, 위해, 친구, 아주르, 아버지, 시작, 그녀, 아들, 마을, 국제, 낙타, 할머니, 씨제이, 동구, 사랑, 아이, 사람, 학교, 세상, 소년, 슈이트, 이야기, 가장, 어머니, 마갈, 소녀, 미아, 대한, 펠리칸, 모두, 혼자, 서울, 벤트, 케이시, 마음, 사건, 할아버지, 엠마, 고양이, 크리스마스, 아내, 사이, 최호, 요정, 모험, 혜지, 유나, 테리, 위기, 다시, 번개, 손녀, 그레고리, 과연, 결심, 시골, 파코, 작품, 영화, 스튜어트, 해나, 인형, 단편, 기억, 발견, 서로, 하나, 한편, 부산, 아스, 장난감, 도시, 크누드, 누키, 제노, 아기, 때문, 이자, 펠릭스, 노동자, 회사, 생각, 사실, 마르, 주니, 강아지, 간다, 다른, 소식, 시간, 신차, 잉그릿, 제페토, 규완, 우산, 도움, \n",
      "\n",
      "\n",
      "공연: 오페라, 사랑, 토스카, 실황, 올레, 자신, 카바, 그녀, 공연, 오텔로, 리골레토, 백작, 프레, 베르디, 위해, 카르피, 비바, 왕자, 콘서트, 백작부인, 반니, 아리아, 미노, 차이코프스키, 라다, 무대, 도시, 공작, 리코, 시작, 파우스트, 메스, 결혼, 만토바, 코락스, 엘비, 사람, 로돌포, 음악, 레오, 안젤로, 파리, 연인, 총독, 피아, 비극, 공주, 여인, 사실, 세계, 톨로, 투란도트, 아이, 이집트, 아내, 헤르, 사이, 에티오피아, 여왕, 프로스페, 뱅쿠오, 레나토, 카시오, 돈나, 이야기, 맥베스, 데모, 벨라, 친구, 볼쇼, 피가로, 영화, 여자, 남작, 로미오, 부관, 스트로, 극장, 질다, 마술피리, 발레, 이탈리아, 스카, 다른, 아버지, 페란도, 탄호이저, 보데몽, 공국, 루나, 마음, 기사, 바실, 정치범, 프레데릭, 알폰소, 미나, 모습, 그린, 체코, \n",
      "\n",
      "\n",
      "공포(호러): 시작, 위해, 사람, 자신, 친구, 그녀, 사건, 공포, 발견, 죽음, 마을, 가족, 악령, 남자, 좀비, 영화, 사실, 소녀, 하나, 살인, 이야기, 비밀, 아이, 정체, 저주, 살해, 영화제, 여자, 모든, 의문, 점점, 사고, 명의, 시간, 다시, 이후, 엄마, 일행, 시체, 모두, 계속, 다른, 악몽, 아버지, 병원, 대한, 파티, 공격, 모습, 존재, 유령, 실종, 발생, 과연, 아들, 게임, 한편, 귀신, 악마, 저택, 충격, 여행, 아내, 사랑, 바이러스, 이사, 부부, 간다, 소리, 현상, 탈출, 사라, 괴물, 학교, 영혼, 인간, 과거, 생각, 로부터, 살인마, 국제, 도시, 사이, 상황, 학생, 실험, 판타스틱, 부천, 인형, 순간, 위협, 동생, 목숨, 자살, 기운, 이제, 통해, 도착, 무엇, 갑자기, \n",
      "\n",
      "\n",
      "기타: 영화제, 국제, 서울, 단편, 영화, 자신, 사람, 이야기, 그녀, 남자, 위해, 시작, 사랑, 뉴미디어, 페스티벌, 여자, 대한, 독립, 친구, 작품, 엄마, 통해, 아시아나, 다른, 우리, 연출, 소녀, 모습, 아이, 시간, 이미지, 부산, 소년, 모든, 기억, 가족, 상영작, 지하철, 청소년, 도시, 감독, 발견, 아버지, 다시, 생각, 현실, 서로, 관계, 유럽, 부천, 사이, 노인, 의도, 판타스틱, 마을, 여성, 공간, 하나, 여행, 아들, 사회, 포럼, 때문, 메트로, 단편영화, 주인공, 세상, 마음, 무엇, 간다, 세계, 풍경, 사진, 상황, 남편, 순간, 일상, 사건, 촬영, 영상, 소리, 하루, 한국, 부문, 가지, 실험영화, 혼자, 애니메이션, 아내, 대화, 배우, 준비, 대해, 거리, 학교, 명의, 그린, 과정, 동안, 음악, \n",
      "\n",
      "\n",
      "다큐멘터리: 영화제, 영화, 다큐, 국제, 다큐멘터리, 사람, 이야기, 대한, 자신, 감독, 위해, 서울, 우리, 시작, 세계, 통해, 그녀, 여성, 가족, 한국, 작품, 환경, 사회, 모습, 아이, 마을, 노동자, 세상, 가장, 기록, 역사, 음악, 미국, 시간, 다른, 명의, 카메라, 동안, 사랑, 기억, 대해, 과정, 도시, 지역, 투쟁, 인디다큐페스티발, 일상, 전쟁, 생각, 모든, 문제, 지금, 북한, 현재, 일본, 문화, 무엇, 건축, 인터뷰, 아버지, 이자, 중국, 하나, 다시, 촬영, 여행, 변화, 인간, 영상, 친구, 현실, 학교, 엄마, 이후, 사건, 운동, 사이, 할머니, 풍경, 때문, 자연, 모두, 이제, 생활, 질문, 주민, 공연, 관객, 지난, 순간, 희망, 독립, 당시, 과거, 여정, 서로, 목소리, 정부, 마음, 존재, \n",
      "\n",
      "\n",
      "드라마: 자신, 영화제, 그녀, 사람, 사랑, 영화, 위해, 시작, 국제, 남자, 친구, 이야기, 엄마, 여자, 아버지, 가족, 단편, 서울, 대한, 아들, 마음, 아이, 남편, 서로, 시간, 소녀, 세상, 감독, 다른, 모든, 다시, 사건, 관계, 생각, 아내, 마을, 사이, 소년, 작품, 사실, 모습, 통해, 때문, 부문, 연출, 어머니, 하나, 학교, 생활, 우리, 결혼, 독립, 인생, 간다, 점점, 기억, 발견, 순간, 부산, 여행, 여성, 현실, 일상, 의도, 죽음, 상황, 세계, 할머니, 감정, 모두, 가장, 한국, 경쟁, 아빠, 하루, 음악, 마지막, 과연, 과거, 사고, 가지, 한편, 전쟁, 이제, 상처, 동안, 미국, 대해, 사회, 결심, 주인공, 이자, 혼자, 동생, 도시, 처음, 비밀, 배우, 시절, 문제, \n",
      "\n",
      "\n",
      "멜로로맨스: 그녀, 사랑, 자신, 시작, 남편, 남자, 여자, 사람, 친구, 섹스, 위해, 마음, 결혼, 서로, 아내, 관계, 부부, 엄마, 아버지, 사실, 영화, 점점, 다시, 회사, 시간, 사이, 생활, 유혹, 다른, 아들, 연애, 애인, 이야기, 생각, 모습, 때문, 새엄마, 대한, 모든, 불륜, 남자친구, 유부녀, 감정, 정사, 출장, 선배, 과연, 여자친구, 커플, 한편, 만난, 고백, 여행, 동거, 몰래, 이혼, 매력, 시아버지, 순간, 제안, 만남, 처음, 기억, 욕구, 보고, 영화제, 가족, 마사지, 성욕, 은밀, 상처, 하루, 비밀, 동생, 하나, 첫사랑, 연인, 발견, 직장, 언니, 운명, 아이, 혼자, 이자, 형부, 매일, 세상, 자위, 대학, 형수, 계속, 현우, 과거, 욕망, 바로, 이사, 사고, 이제, 고민, 간다, \n",
      "\n",
      "\n",
      "뮤지컬: 뮤지컬, 사랑, 에스메랄다, 그녀, 음악, 충무로, 모차르트, 영화, 토스카, 자신, 니웨, 카바, 영화제, 바흐, 페뷔스, 프롤, 모도, 카르피, 시작, 제루샤, 샤오캉, 위해, 데이비, 팬텀, 최고, 크리스틴, 애니, 노트르담, 라훌, 공연, 사람, 캬바레, 오페라, 이야기, 도시, 안젤로, 노래, 대한, 무대, 파두, 서영은, 프롤로, 살리에리, 뮤지컬영화, 성당, 아버지, 세계, 집시, 파리, 소녀, 연화, 지엔, 베이커, 오강, 경민이, 솔리스트, 위그, 베니, 스페인, 엄마, 배우, 순간, 포르노, 이지아, 라프, 피아, 발레, 파티, 열정, 주교, 수박, 관계, 미국, 마음, 결혼, 사실, 통해, 세상, 모든, 과연, 다른, 아들, 발견, 하우스, 막걸리, 갈증, 묘사, 연기, 여자, 몰래, 천재, 트립, 후원자, 수화, 브로드웨이, 초연, 무당, 음악가, 예수, 다시, \n",
      "\n",
      "\n",
      "미스터리: 사건, 그녀, 시작, 자신, 위해, 사람, 발견, 사고, 진실, 죽음, 기억, 살인, 친구, 아내, 남자, 아이, 민혁, 사실, 의문, 미스터리, 형사, 하나, 비밀, 영화, 마을, 이야기, 모든, 경찰, 현우, 발생, 여자, 정체, 방독면, 다른, 과연, 범인, 사랑, 살해, 남편, 모두, 충격, 대한, 가족, 엄마, 소설, 용의자, 공포, 점점, 여인, 아버지, 시간, 추적, 게임, 의심, 수사, 사진, 조사, 소녀, 영화제, 이후, 랭던, 시체, 실종, 아빠, 다시, 몰카, 자살, 혼란, 지목, 무엇, 병원, 누군가, 아들, 불명, 거미숲, 납치, 세상, 모습, 작가, 사이먼, 명의, 마지막, 누구, 생각, 소리, 계속, 전화, 주변, 단서, 박사, 의사, 상황, 이자, 존재, 통해, 수연, 홈즈, 종섭, 한나, 연쇄살인범, \n",
      "\n",
      "\n",
      "범죄: 사건, 위해, 자신, 경찰, 시작, 그녀, 범죄, 조직, 살인, 사람, 마약, 형사, 남자, 모든, 살해, 수사, 발견, 한길수, 범인, 계획, 은행, 작전, 여자, 아버지, 사실, 동료, 영화, 다시, 보스, 친구, 한편, 미국, 상황, 마피아, 점점, 용의자, 복수, 제안, 다른, 대한, 마을, 아내, 아들, 이자, 시체, 가족, 사랑, 요원, 추적, 과연, 세상, 마지막, 하나, 이야기, 프랭크, 조사, 감옥, 세계, 시간, 비밀, 납치, 현장, 대해, 충격, 파푸아, 의문, 금고, 목숨, 모두, 소년, 가장, 바로, 최고, 생각, 명의, 죽음, 교도소, 테러범, 서로, 강도, 발생, 마샨, 계속, 영화제, 사고, 거래, 달러, 진실, 단서, 순간, 통해, 실종, 위협, 인생, 테러, 이제, 아이, 의심, 기억, 검사, \n",
      "\n",
      "\n",
      "사극: 조선, 위해, 시작, 신기전, 사랑, 자신, 아가멤논, 황제, 그녀, 루안, 최고, 운명, 사람, 하선, 전쟁, 윤서, 트로이, 세자, 허균, 노준, 채선, 신재효, 히파티아, 권력, 아킬레스, 양반, 정조, 광해군, 브리튼, 독립군, 사건, 임숭재, 윤복, 광헌, 대호, 백성, 청나라, 김민, 역사, 흥부, 팔도, 조혁, 영조, 관상, 공진, 마음, 이야기, 모든, 소리, 포수, 가장, 채경, 김정호, 만덕, 아더, 그리스, 일본군, 조항리, 설주, 홍리, 바토리, 명탐정, 한양, 방자, 몽룡, 영정, 기생, 아들, 사이, 한편, 오동, 볼린, 대군, 무예, 목숨, 생각, 세상, 소율, 시진, 황자, 총통, 윤우, 세종, 승려, 자객, 대역, 동생, 마지막, 아버지, 이자, 죽음, 시대, 오전, 대륙, 왕비, 천둥, 음란, 노래, 견자단, 장안, \n",
      "\n",
      "\n",
      "서부극(웨스턴): 서부, 보안관, 위해, 벌린, 카우보이, 그레이프바인, 헨리, 마을, 자신, 개릿, 아이, 시작, 무법자, 프린트, 마적, 태구, 현상금, 분노, 버질, 랜던, 스탠리, 가족, 제임스, 복수, 아내, 사람, 교수형, 장고, 만도, 듀발, 마리아, 사냥, 니아, 총잡이, 아르, 찰리, 카운티, 아버지, 아들, 사랑, 열차, 멕시코, 알프스, 링컨, 릴리, 교도소, 사냥꾼, 엠마, 부하, 정의, 패거리, 누가, 목장, 숙명, 마차, 대결, 개척, 미국, 형제, 가득, 생활, 싸움, 동료, 도착, 매춘부, 대륙, 동생, 제안, 서로, 한편, 더치, 바운티, 도브, 악당, 난무, 말레피센트, 추적자, 하몬, 쉐리, 조성하, 독고, 거가, 리터, 교회, 은행, 보스, 기차, 수호, 범죄자, 전투, 혼전, 잔악, 베닝, 혈혈, 방목, 설리반, 무법천지, 마이클, 고독, 자연, \n",
      "\n",
      "\n",
      "성인물(에로): 그녀, 남편, 마사지, 자신, 섹스, 관계, 영화, 정사, 남자, 위해, 시작, 여자, 유부녀, 마음, 사랑, 에피소드, 그린, 아내, 다시, 자위, 이야기, 회사, 친구, 불륜, 사실, 결혼, 욕구, 때문, 유이, 모습, 부부, 유혹, 서로, 사람, 욕구불만, 손님, 유우, 성적, 성관계, 유코, 한편, 유미, 행각, 유키, 사이, 여성, 생활, 생각, 카즈야, 아버지, 요구, 출장, 카나, 요코, 역시, 애무, 스케, 시간, 새엄마, 타케시, 혼자, 하루, 아오이, 히토미, 몰래, 성욕, 다른, 아들, 보고, 미키, 레이, 잠자리, 타츠야, 미사, 토오루, 직원, 가게, 아키, 육체, 누나, 이치, 동생, 아이, 히로시, 손길, 사유리, 시오리, 대한, 유리, 미카, 파친코, 쿄코, 이쿠, 카오리, 타루, 사장, 엄마, 운영, 모든, 대로, \n",
      "\n",
      "\n",
      "스릴러: 자신, 그녀, 사건, 시작, 위해, 사람, 살인, 남자, 발견, 아내, 경찰, 친구, 모든, 사실, 살해, 가족, 형사, 점점, 비밀, 사랑, 여자, 사고, 범인, 아들, 남편, 마을, 죽음, 진실, 충격, 다른, 시간, 하나, 기억, 수사, 영화, 상황, 소녀, 이야기, 시체, 게임, 정체, 용의자, 모두, 의문, 발생, 다시, 계속, 영화제, 아버지, 대한, 아이, 생활, 사이, 관계, 명의, 서로, 목숨, 통해, 현장, 과거, 순간, 생각, 이제, 납치, 한편, 요원, 실종, 계획, 의심, 존재, 복수, 과연, 모습, 동생, 회사, 위협, 목격, 공포, 전화, 조직, 엄마, 부부, 무엇, 흔적, 단서, 추적, 여인, 매력, 도움, 행동, 갑자기, 아파트, 세상, 여행, 이자, 조사, 마지막, 마음, 동료, 주변, \n",
      "\n",
      "\n",
      "애니메이션: 애니메이션, 국제, 영화제, 친구, 인디애니페스트, 위해, 자신, 시작, 사람, 페스티벌, 서울, 이야기, 아이, 마을, 소녀, 세계, 세상, 애니, 단편, 남자, 그녀, 소년, 부문, 과연, 작품, 만화, 사랑, 인간, 도롱, 부천, 우리, 동물, 대한, 다른, 모든, 엄마, 최강, 모험, 할아버지, 도시, 다시, 발견, 주인공, 지구, 시간, 가족, 생각, 마법, 경쟁, 모습, 마음, 영화, 우주, 통해, 아빠, 모두, 하나, 고양이, 여행, 퍼니퍼, 여자, 사건, 고고, 아버지, 위기, 왕국, 기억, 때문, 사이, 비밀, 괴물, 학생, 악당, 공룡, 펭귄, 꼬마, 가지, 로봇, 사실, 서로, 표현, 나무, 바다, 할머니, 아기, 연출, 간다, 코리아, 의도, 임팩트, 가장, 환경, 강아지, 존재, 그림, 곰퉁, 순간, 타고, 갑자기, 하늘, \n",
      "\n",
      "\n",
      "액션: 위해, 자신, 시작, 조직, 사건, 사람, 그녀, 경찰, 전쟁, 모든, 목숨, 사실, 친구, 가족, 요원, 임무, 범죄, 세계, 살인, 한편, 아버지, 복수, 죽음, 아들, 마약, 비밀, 납치, 남자, 다시, 보스, 마을, 위협, 영화, 상황, 사랑, 세상, 살해, 최고, 테러, 미국, 형사, 모두, 동료, 정체, 과연, 공격, 인간, 음모, 지구, 작전, 계획, 발견, 아내, 다른, 마지막, 이제, 명의, 이자, 위기, 수사, 탈출, 킬러, 발생, 인류, 과거, 하나, 시간, 무기, 암살, 범인, 부대, 사고, 운명, 때문, 갱단, 무술, 전투, 뱀파이어, 위험, 의문, 도움, 도시, 서로, 사이, 액션, 점점, 싸움, 현장, 감옥, 게임, 전사, 가장, 러시아, 수행, 대한, 여자, 마피아, 순간, 정보, 대결, \n",
      "\n",
      "\n",
      "어드벤처: 위해, 자신, 시작, 친구, 마을, 아버지, 영화, 아이, 사람, 여행, 세계, 앤트, 세상, 가족, 모험, 비밀, 대한, 이야기, 모든, 소년, 여정, 모두, 인간, 발견, 영화제, 한편, 옥자, 남자, 그녀, 도시, 원주민, 전쟁, 보물, 과연, 사랑, 사실, 동물, 지구, 위기, 아들, 국제, 윈치, 탈출, 펠레, 위협, 계획, 다른, 마법, 크루소, 엄마, 가장, 요정, 이름, 지역, 양말, 루카스, 아내, 죽음, 부족, 결혼, 소원, 히어로, 할아버지, 썰매개, 학교, 위험, 미션, 어둠, 바다, 상황, 간다, 점점, 비행기, 부모님, 미래, 전설, 순간, 생활, 다시, 소녀, 루거, 프리몬트, 파비, 윈치그룹, 하니프, 알라딘, 왕자, 여자, 시대, 아프리카, 결심, 서로, 시간, 앵거스, 공룡, 우주선, 바로, 찾기, 모습, 우스, \n",
      "\n",
      "\n",
      "전쟁: 전쟁, 독일군, 전투, 위해, 작전, 시작, 부대, 윈터스, 독일, 연합군, 미군, 임무, 자신, 사람, 나치, 병사, 공격, 이지중대, 혁리, 대원, 중위, 세계대전, 군인, 동막골, 대위, 프랑스, 영국, 미국, 목숨, 장군, 전장, 상황, 나폴레옹, 명령, 일본군, 소련군, 지역, 러시아군, 고구려, 그녀, 갈리폴리, 라핀, 모두, 점령, 투입, 전투기, 사수, 마지막, 아군, 상륙작전, 폴란드, 지휘, 진격, 전방, 포로, 수행, 대령, 저항, 히틀러, 공중전, 중령, 지원, 구출, 소말리아, 중대장, 북한, 영국군, 다른, 가장, 올로, 평양성, 포렐, 중대, 탱크, 영화, 탈출, 일본, 노르망디, 전우, 소대, 파일럿, 사이, 폭격, 최후, 동료, 인천, 사살, 마을, 명의, 사랑, 총공격, 레닌그라드, 모가디슈, 다이크, 버넷, 승리, 학살, 특수, 역사, 적진, \n",
      "\n",
      "\n"
     ]
    },
    {
     "name": "stdout",
     "output_type": "stream",
     "text": [
      "코미디: 그녀, 자신, 시작, 위해, 사랑, 사람, 친구, 영화, 남자, 여자, 영화제, 가족, 과연, 마을, 사건, 이야기, 인생, 아이, 아버지, 마음, 모든, 생각, 결혼, 엄마, 서로, 생활, 다른, 코미디, 사실, 대한, 감독, 국제, 아들, 때문, 다시, 모두, 세상, 바로, 시간, 아내, 최고, 사고, 학교, 섹스, 여행, 사이, 이제, 하나, 명의, 위기, 회사, 여자친구, 상황, 한편, 작품, 파티, 남편, 마지막, 연애, 모습, 계획, 아빠, 배우, 주인공, 점점, 이자, 관계, 가장, 매력, 단편, 형사, 하루, 밴드, 제안, 결심, 우리, 경찰, 발견, 문제, 순간, 소년, 동안, 가지, 준비, 세계, 간다, 삼순, 결혼식, 비밀, 클럽, 만난, 현실, 대학, 게다가, 서울, 통해, 계속, 로부터, 여성, 스타, \n",
      "\n",
      "\n",
      "판타지: 자신, 그녀, 시작, 위해, 사람, 사랑, 요괴, 영화제, 이야기, 영화, 소녀, 남자, 인간, 세상, 마을, 세계, 국제, 마법, 알렉스, 존재, 사건, 순영, 판타스틱, 친구, 아이, 모습, 여자, 모든, 부천, 서로, 시간, 기억, 유령, 현실, 비밀, 다른, 과거, 발견, 왕자, 사실, 순간, 하나, 공주, 공격, 죽음, 남보라, 다시, 엄마, 과연, 한편, 뱀파이어, 아버지, 운명, 통해, 차사, 괴물, 니모, 전설, 주인공, 왕국, 원풍, 작품, 왕비, 편지, 꼬마, 악마, 정체, 우주, 마음, 소년, 공간, 마지막, 덤블도어, 저승, 생각, 도움, 마법사, 탈출, 전쟁, 에드워드, 노인, 해리, 수현, 신들, 대인, 점점, 가장, 대한, 이자, 바버라, 얌마, 나서스, 단편, 에바, 목숨, 모두, 능력, 거인, 벨라, 미래, \n"
     ]
    }
   ],
   "source": [
    "m = [X[i].tocoo() for i in range(X.shape[0])]\n",
    "\n",
    "w = [[[i, j] for i, j in zip(mm.col, mm.data)] for mm in m]\n",
    "\n",
    "for i in range(len(w)):\n",
    "    w[i].sort(key=lambda x: x[1], reverse=True)\n",
    "attributes = []\n",
    "for i in range(len(w)):\n",
    "    print('\\n')\n",
    "    print(genre_name[i], end=': ')\n",
    "    attr = []\n",
    "    j = 0\n",
    "    while (len(attr) < 100):\n",
    "        if vectorizer.get_feature_names()[w[i][j][0]] in model.wv:\n",
    "            attr.append(vectorizer.get_feature_names()[w[i][j][0]])\n",
    "            print(vectorizer.get_feature_names()[w[i][j][0]], end=', ')\n",
    "        j += 1\n",
    "    attributes.append(attr)\n",
    "    print()"
   ]
  },
  {
   "cell_type": "markdown",
   "metadata": {},
   "source": [
    "정말 무시무시한 단어들을 살펴볼 수 있었음. \n",
    "\n",
    "아무래도 tf-idf 방식이다 보니 고유명사가 너무 많이 나타난다는 단점이 존재하는듯함... \n",
    "\n",
    "하지만 일단 중복을 제거하는 방식으로 진행하도록 하겠음"
   ]
  },
  {
   "cell_type": "markdown",
   "metadata": {},
   "source": [
    "#### 중복 set 제거"
   ]
  },
  {
   "cell_type": "code",
   "execution_count": 120,
   "metadata": {
    "scrolled": true
   },
   "outputs": [],
   "source": [
    "att0 = set(attributes[0])\n",
    "att1 = set(attributes[1])\n",
    "att2 = set(attributes[2])\n",
    "att3 = set(attributes[3])\n",
    "att4 = set(attributes[4])\n",
    "att5 = set(attributes[5])\n",
    "att6 = set(attributes[6])\n",
    "att7 = set(attributes[7])\n",
    "att8 = set(attributes[8])\n",
    "att9 = set(attributes[9])\n",
    "att10 = set(attributes[10])\n",
    "att11= set(attributes[11])\n",
    "att12 = set(attributes[12])\n",
    "att13 = set(attributes[13])\n",
    "att14 = set(attributes[14])\n",
    "att15 = set(attributes[15])\n",
    "att16 = set(attributes[16])\n",
    "att17 = set(attributes[17])\n",
    "att18 = set(attributes[18])\n",
    "att19 = set(attributes[19])\n",
    "att20 = set(attributes[20])\n"
   ]
  },
  {
   "cell_type": "code",
   "execution_count": 137,
   "metadata": {},
   "outputs": [],
   "source": [
    "def dup_except_n(attributes,n):\n",
    "    dup = []\n",
    "    for i in range(len(attributes)):\n",
    "        if i == n:\n",
    "            continue\n",
    "        for j in range(len(attributes[i])):\n",
    "           # print(attributes[i][j])\n",
    "            dup.append(attributes[i][j])\n",
    "            \n",
    "    return set(dup)"
   ]
  },
  {
   "cell_type": "code",
   "execution_count": 147,
   "metadata": {},
   "outputs": [],
   "source": [
    "dup_except_0 = dup_except_n(attributes,0)\n",
    "dup_except_1 = dup_except_n(attributes,1)\n",
    "dup_except_2= dup_except_n(attributes,2)\n",
    "dup_except_3= dup_except_n(attributes,3)\n",
    "dup_except_4= dup_except_n(attributes,4)\n",
    "dup_except_5= dup_except_n(attributes,5)\n",
    "dup_except_6= dup_except_n(attributes,6)\n",
    "dup_except_7= dup_except_n(attributes,7)\n",
    "dup_except_8= dup_except_n(attributes,8)\n",
    "dup_except_9= dup_except_n(attributes,9)\n",
    "dup_except_10 = dup_except_n(attributes,10)\n",
    "dup_except_11 = dup_except_n(attributes,11)\n",
    "dup_except_12 = dup_except_n(attributes,12)\n",
    "dup_except_13 = dup_except_n(attributes,13)\n",
    "dup_except_14 = dup_except_n(attributes,14)\n",
    "dup_except_15 = dup_except_n(attributes,15)\n",
    "dup_except_16 = dup_except_n(attributes,16)\n",
    "dup_except_17 = dup_except_n(attributes,17)\n",
    "dup_except_18 = dup_except_n(attributes,18)\n",
    "dup_except_19 = dup_except_n(attributes,19)\n",
    "dup_except_20 = dup_except_n(attributes,20)\n",
    "dup_all = dup_except_n(attributes,21)  # continue가 실행되는 부분이 없기에 전체 임 "
   ]
  },
  {
   "cell_type": "code",
   "execution_count": 152,
   "metadata": {},
   "outputs": [],
   "source": [
    "atriubte_part_0 = list(att0 - dup_except_0)[0:5]\n",
    "atriubte_part_1 = list(att1 - dup_except_1)[0:5]                                            \n",
    "atriubte_part_2 = list(att2 - dup_except_2)[0:5]\n",
    "atriubte_part_3 = list(att3 - dup_except_3)[0:5]\n",
    "atriubte_part_4 = list(att4 - dup_except_4)[0:5]\n",
    "atriubte_part_5 = list(att5 - dup_except_5)[0:5]\n",
    "atriubte_part_6 = list(att6 - dup_except_6)[0:5]\n",
    "atriubte_part_7 = list(att7 - dup_except_7)[0:5]\n",
    "atriubte_part_8 = list(att8 - dup_except_8)[0:5]\n",
    "atriubte_part_9 = list(att9 - dup_except_9)[0:5]\n",
    "atriubte_part_10 = list(att10 - dup_except_10)[0:5]\n",
    "atriubte_part_11 = list(att11 - dup_except_11)[0:5]\n",
    "atriubte_part_12 = list(att12 - dup_except_12)[0:5]\n",
    "atriubte_part_13 = list(att13 - dup_except_13)[0:5]\n",
    "atriubte_part_14 = list(att14 - dup_except_14)[0:5]\n",
    "atriubte_part_15 = list(att15 - dup_except_15)[0:5]\n",
    "atriubte_part_16 = list(att16 - dup_except_16)[0:5]\n",
    "atriubte_part_17 = list(att17 - dup_except_17)[0:5]\n",
    "atriubte_part_18 = list(att18 - dup_except_18)[0:5]\n",
    "atriubte_part_19 = list(att19 - dup_except_19)[0:5]\n",
    "atriubte_part_20 = list(att20 - dup_except_20)[0:5]"
   ]
  },
  {
   "cell_type": "code",
   "execution_count": null,
   "metadata": {},
   "outputs": [],
   "source": [
    "atriubte_part_0 = list(att0 - dup_except_0)[0:5]\n",
    "atriubte_part_1 = list(att1 - dup_except_1)[0:5]                                            \n",
    "atriubte_part_2 = list(att2 - dup_except_2)[0:5]\n",
    "atriubte_part_3 = list(att3 - dup_except_3)[0:5]\n",
    "atriubte_part_4 = list(att4 - dup_except_4)[0:5]\n",
    "atriubte_part_5 = list(att5 - dup_except_5)[0:5]\n",
    "atriubte_part_6 = list(att6 - dup_except_6)[0:5]\n",
    "atriubte_part_7 = list(att7 - dup_except_7)[0:5]\n",
    "atriubte_part_8 = list(att8 - dup_except_8)[0:5]\n",
    "atriubte_part_9 = list(att9 - dup_except_9)[0:5]\n",
    "atriubte_part_10 = list(att10 - dup_except_10)[0:5]\n",
    "atriubte_part_11 = list(att11 - dup_except_11)[0:5]\n",
    "atriubte_part_12 = list(att12 - dup_except_12)[0:5]\n",
    "atriubte_part_13 = list(att13 - dup_except_13)[0:5]\n",
    "atriubte_part_14 = list(att14 - dup_except_14)[0:5]\n",
    "atriubte_part_15 = list(att15 - dup_except_15)[0:5]\n",
    "atriubte_part_16 = list(att16 - dup_except_16)[0:5]\n",
    "atriubte_part_17 = list(att17 - dup_except_17)[0:5]\n",
    "atriubte_part_18 = list(att18 - dup_except_18)[0:5]\n",
    "atriubte_part_19 = list(att19 - dup_except_19)[0:5]\n",
    "atriubte_part_20 = list(att20 - dup_except_20)[0:5]"
   ]
  },
  {
   "cell_type": "markdown",
   "metadata": {},
   "source": [
    "다소 복잡하지만 일단 이런식으로 작업을 해냄 "
   ]
  },
  {
   "cell_type": "code",
   "execution_count": 154,
   "metadata": {},
   "outputs": [
    {
     "data": {
      "text/plain": [
       "['상어', '세력', '행성', '멸망', '과학자']"
      ]
     },
     "execution_count": 154,
     "metadata": {},
     "output_type": "execute_result"
    }
   ],
   "source": [
    "atriubte_part_0"
   ]
  },
  {
   "cell_type": "code",
   "execution_count": 155,
   "metadata": {},
   "outputs": [
    {
     "data": {
      "text/plain": [
       "['펠릭스', '장난감', '슈이트', '테리', '최호']"
      ]
     },
     "execution_count": 155,
     "metadata": {},
     "output_type": "execute_result"
    }
   ],
   "source": [
    "atriubte_part_1"
   ]
  },
  {
   "cell_type": "code",
   "execution_count": 159,
   "metadata": {},
   "outputs": [],
   "source": [
    "attributes = [atriubte_part_0,atriubte_part_1,atriubte_part_2,atriubte_part_3,\n",
    "            atriubte_part_4,atriubte_part_5,atriubte_part_6,atriubte_part_7,atriubte_part_8,atriubte_part_9,\n",
    "            atriubte_part_10,atriubte_part_11,atriubte_part_12,atriubte_part_13,atriubte_part_14,atriubte_part_15,\n",
    "           atriubte_part_16,atriubte_part_17,atriubte_part_18,atriubte_part_19,atriubte_part_20]"
   ]
  },
  {
   "cell_type": "code",
   "execution_count": 160,
   "metadata": {},
   "outputs": [
    {
     "data": {
      "text/plain": [
       "[['상어', '세력', '행성', '멸망', '과학자'],\n",
       " ['펠릭스', '장난감', '슈이트', '테리', '최호'],\n",
       " ['볼쇼', '리골레토', '루나', '데모', '로돌포'],\n",
       " ['귀신', '좀비', '현상', '일행', '살인마'],\n",
       " ['상영작', '청소년', '실험영화', '단편영화', '거리'],\n",
       " ['주민', '지난', '다큐멘터리', '문화', '질문'],\n",
       " ['시절'],\n",
       " ['시아버지', '동거', '만남', '형수', '이혼'],\n",
       " ['에스메랄다', '베니', '지엔', '포르노', '이지아'],\n",
       " ['미스터리', '몰카', '누구', '홈즈', '의사'],\n",
       " ['거래', '마샨', '한길수', '강도', '프랭크'],\n",
       " ['아킬레스', '바토리', '방자', '윤우', '소율'],\n",
       " ['멕시코', '현상금', '형제', '총잡이', '추적자'],\n",
       " ['애무', '유코', '에피소드', '요코', '시오리'],\n",
       " ['아파트', '목격', '흔적', '행동'],\n",
       " ['도롱', '퍼니퍼', '코리아', '그림', '인디애니페스트'],\n",
       " ['갱단', '액션', '정보', '암살', '무술'],\n",
       " ['프리몬트', '옥자', '하니프', '루거', '아프리카'],\n",
       " ['사수', '동막골', '올로', '구출', '미군'],\n",
       " ['삼순', '게다가', '결혼식', '코미디', '밴드'],\n",
       " ['알렉스', '해리', '신들', '남보라', '거인']]"
      ]
     },
     "execution_count": 160,
     "metadata": {},
     "output_type": "execute_result"
    }
   ],
   "source": [
    "attributes"
   ]
  },
  {
   "cell_type": "markdown",
   "metadata": {},
   "source": [
    "이렇게 중복단어를 빼고 만들었는데 문제가 생김.\n",
    "\n",
    "1. 문제는 드라마는 나머지 장르와 시절 빼고 다 겹쳐서 하나 밖에 없음.\n",
    "\n",
    "2. set으로 중복을 제거하다보니 중복을 제거한 후 list화시켜서 인덱스해서 선택한 단어는 \n",
    "   더 많이 나오는 단어가 아니라 무작위적으로 선택된 단어임.\n",
    "\n",
    "일단 이 두문제를 해결하려 고민했지만 일단 너무 중복단어가 많고 장르가 다양하기에 일단 중복을 걷어내는 것에 의의를 두고 작업했음\n",
    "\n"
   ]
  },
  {
   "cell_type": "code",
   "execution_count": 169,
   "metadata": {},
   "outputs": [
    {
     "data": {
      "text/plain": [
       "['시절']"
      ]
     },
     "execution_count": 169,
     "metadata": {},
     "output_type": "execute_result"
    }
   ],
   "source": [
    "atriubte_part_6"
   ]
  },
  {
   "cell_type": "code",
   "execution_count": 168,
   "metadata": {},
   "outputs": [
    {
     "data": {
      "text/plain": [
       "['시절']"
      ]
     },
     "execution_count": 168,
     "metadata": {},
     "output_type": "execute_result"
    }
   ],
   "source": [
    "atriubte_part_6"
   ]
  },
  {
   "cell_type": "code",
   "execution_count": 166,
   "metadata": {},
   "outputs": [
    {
     "data": {
      "text/plain": [
       "874"
      ]
     },
     "execution_count": 166,
     "metadata": {},
     "output_type": "execute_result"
    }
   ],
   "source": [
    "len(dup_except_6)"
   ]
  },
  {
   "cell_type": "code",
   "execution_count": 167,
   "metadata": {},
   "outputs": [
    {
     "data": {
      "text/plain": [
       "875"
      ]
     },
     "execution_count": 167,
     "metadata": {},
     "output_type": "execute_result"
    }
   ],
   "source": [
    "len(dup_all)"
   ]
  },
  {
   "cell_type": "markdown",
   "metadata": {},
   "source": [
    "이렇게 전체 set이랑 드라마 장르를 제외한 set이랑 한개 밖에 찿이가 안남.. "
   ]
  },
  {
   "cell_type": "markdown",
   "metadata": {},
   "source": [
    "### STEP 4. WEAT score 계산과 시각화\n"
   ]
  },
  {
   "cell_type": "code",
   "execution_count": 170,
   "metadata": {},
   "outputs": [],
   "source": [
    "matrix = [[0 for _ in range(len(genre_name))] for _ in range(len(genre_name))]"
   ]
  },
  {
   "cell_type": "code",
   "execution_count": 171,
   "metadata": {},
   "outputs": [],
   "source": [
    "A = np.array([model.wv[word] for word in target_art])\n",
    "B = np.array([model.wv[word] for word in target_gen])\n",
    "\n",
    "for i in range(len(genre_name)-1):\n",
    "    for j in range(i+1, len(genre_name)):\n",
    "        X = np.array([model.wv[word] for word in attributes[i]])\n",
    "        Y = np.array([model.wv[word] for word in attributes[j]])\n",
    "        matrix[i][j] = weat_score(X, Y, A, B)"
   ]
  },
  {
   "cell_type": "code",
   "execution_count": 172,
   "metadata": {},
   "outputs": [
    {
     "name": "stdout",
     "output_type": "stream",
     "text": [
      "SF 가족 -1.4970272\n",
      "SF 공포(호러) -1.1993521\n",
      "SF 드라마 -2.505726\n",
      "SF 멜로로맨스 -1.8534814\n",
      "SF 미스터리 -1.4062684\n",
      "SF 범죄 -1.2522318\n",
      "SF 성인물(에로) -1.4182082\n",
      "SF 스릴러 -1.641259\n",
      "SF 판타지 -1.0402915\n",
      "가족 기타 1.5291712\n",
      "가족 다큐멘터리 1.4503804\n",
      "가족 드라마 -1.896484\n",
      "가족 멜로로맨스 -1.0763878\n",
      "가족 뮤지컬 1.3295207\n",
      "가족 사극 1.3341994\n",
      "가족 액션 1.5271286\n",
      "가족 어드벤처 1.256907\n",
      "가족 전쟁 1.0595012\n",
      "공연 기타 1.1468941\n",
      "공연 드라마 -2.1277916\n",
      "공연 멜로로맨스 -1.5489157\n",
      "공연 스릴러 -1.0704173\n",
      "공연 액션 1.0127139\n",
      "공포(호러) 기타 1.3472629\n",
      "공포(호러) 다큐멘터리 1.2157346\n",
      "공포(호러) 드라마 -2.1787028\n",
      "공포(호러) 멜로로맨스 -1.513855\n",
      "공포(호러) 액션 1.2957002\n",
      "기타 드라마 -2.2660463\n",
      "기타 멜로로맨스 -1.7638988\n",
      "기타 뮤지컬 -1.1480434\n",
      "기타 미스터리 -1.4503987\n",
      "기타 범죄 -1.3626534\n",
      "기타 사극 -1.1280402\n",
      "기타 서부극(웨스턴) -1.2369925\n",
      "기타 성인물(에로) -1.4927412\n",
      "기타 스릴러 -1.5918076\n",
      "기타 애니메이션 -1.0515567\n",
      "기타 어드벤처 -1.1511828\n",
      "기타 전쟁 -1.2031391\n",
      "기타 판타지 -1.2449696\n",
      "다큐멘터리 드라마 -2.2496474\n",
      "다큐멘터리 멜로로맨스 -1.7381202\n",
      "다큐멘터리 미스터리 -1.3426337\n",
      "다큐멘터리 범죄 -1.2272305\n",
      "다큐멘터리 서부극(웨스턴) -1.099589\n",
      "다큐멘터리 성인물(에로) -1.4112802\n",
      "다큐멘터리 스릴러 -1.5275427\n",
      "다큐멘터리 전쟁 -1.0245023\n",
      "다큐멘터리 판타지 -1.1354198\n",
      "드라마 멜로로맨스 2.0598412\n",
      "드라마 뮤지컬 2.5606914\n",
      "드라마 미스터리 2.2958503\n",
      "드라마 범죄 2.3669293\n",
      "드라마 사극 2.5477095\n",
      "드라마 서부극(웨스턴) 1.7824255\n",
      "드라마 성인물(에로) 1.6088388\n",
      "드라마 스릴러 1.9877875\n",
      "드라마 애니메이션 2.0037162\n",
      "드라마 액션 2.4057162\n",
      "드라마 어드벤처 2.4887152\n",
      "드라마 전쟁 2.3400178\n",
      "드라마 코미디 1.4312773\n",
      "드라마 판타지 1.2116823\n",
      "멜로로맨스 뮤지컬 1.8516594\n",
      "멜로로맨스 미스터리 1.5509366\n",
      "멜로로맨스 범죄 1.6604179\n",
      "멜로로맨스 사극 1.8461424\n",
      "멜로로맨스 서부극(웨스턴) 1.2275779\n",
      "멜로로맨스 스릴러 1.122561\n",
      "멜로로맨스 애니메이션 1.479273\n",
      "멜로로맨스 액션 1.8176212\n",
      "멜로로맨스 어드벤처 1.8048563\n",
      "멜로로맨스 전쟁 1.6919811\n",
      "멜로로맨스 코미디 1.0201892\n",
      "뮤지컬 미스터리 -1.1443508\n",
      "뮤지컬 성인물(에로) -1.238812\n",
      "뮤지컬 스릴러 -1.5452595\n",
      "뮤지컬 액션 1.0296563\n",
      "미스터리 사극 1.1523271\n",
      "미스터리 액션 1.4455475\n",
      "미스터리 어드벤처 1.027989\n",
      "범죄 스릴러 -1.0805789\n",
      "범죄 액션 1.330113\n",
      "사극 성인물(에로) -1.245657\n",
      "사극 스릴러 -1.5428572\n",
      "서부극(웨스턴) 액션 1.1344802\n",
      "성인물(에로) 액션 1.4686687\n",
      "성인물(에로) 어드벤처 1.1808919\n",
      "성인물(에로) 전쟁 1.0153053\n",
      "스릴러 애니메이션 1.0227286\n",
      "스릴러 액션 1.6283896\n",
      "스릴러 어드벤처 1.4603597\n",
      "스릴러 전쟁 1.2487931\n",
      "액션 어드벤처 -1.0290337\n",
      "액션 전쟁 -1.0983838\n",
      "액션 판타지 -1.1488266\n"
     ]
    }
   ],
   "source": [
    "for i in range(len(genre_name)-1):\n",
    "    for j in range(i+1, len(genre_name)):\n",
    "        if matrix[i][j] > 1.0 or matrix[i][j] < -1.0:\n",
    "            print(genre_name[i], genre_name[j],matrix[i][j])"
   ]
  },
  {
   "cell_type": "markdown",
   "metadata": {},
   "source": [
    "확실히 다양한 장르가 선택되고 적은 단어들을 통해서 계산하다보니 값들이 많이 큰값들을 가지는것을 확인할 수 있음. "
   ]
  },
  {
   "cell_type": "code",
   "execution_count": 175,
   "metadata": {},
   "outputs": [
    {
     "data": {
      "text/plain": [
       "<AxesSubplot:>"
      ]
     },
     "execution_count": 175,
     "metadata": {},
     "output_type": "execute_result"
    },
    {
     "data": {
      "image/png": "[encoded data removed]",
      "text/plain": [
       "<Figure size 720x720 with 2 Axes>"
      ]
     },
     "metadata": {},
     "output_type": "display_data"
    }
   ],
   "source": [
    "import numpy as np; \n",
    "import seaborn as sns; \n",
    "import matplotlib.pyplot as plt\n",
    "\n",
    "np.random.seed(0)\n",
    "\n",
    "# 한글 지원 폰트\n",
    "plt.figure(figsize=(10,10))\n",
    "sns.set(font=\"Noto Sans CJK JP\")\n",
    "\n",
    "ax = sns.heatmap(matrix, xticklabels=genre_name, yticklabels=genre_name, annot=True,  cmap='RdYlGn_r')\n",
    "ax"
   ]
  },
  {
   "cell_type": "markdown",
   "metadata": {},
   "source": [
    "드라마가 '시절'이라는 하나의 값만 존재하기 때문에 값이 붉게 나타남. \n",
    "\n",
    "확실히 액션이랑 멜로 로맨스가 큰값이 나타나는 것을 확인할수도 있음"
   ]
  },
  {
   "cell_type": "markdown",
   "metadata": {},
   "source": [
    "## 소고"
   ]
  },
  {
   "cell_type": "markdown",
   "metadata": {},
   "source": [
    "* 개념 혼동\n",
    "\n",
    "처음에 s(w,A,B) 랑 weat_score를 구분이 잘 안되있어서 개념이 이해가 안됐음. \n",
    "\n",
    "편향으로 해석하는 방식도 참신했지만 건강식과 인스턴트를 구별해서 target과 attribute를 만들어서\n",
    "\n",
    "의미를 잘 함축했냐를 분석한것이 색달랐음.\n",
    "\n",
    "* tf-idf의 단점\n",
    "\n",
    "너무 고유명사들이 많이 나온다고 느꼈습니다.\n",
    "\n",
    "\n",
    "* 어떤 텍스트를 쓰느냐...\n",
    "\n",
    "시놉시스 데이터를 쓰다보니 영화와 작품이 매우 유사한 단어로 꼽혔는데 \n",
    "매우 주의해야할꺼같음.\n",
    "\n",
    "영화를 좋아하는 사람의 글을 학습시키면 워드 임베딩에서 영화와 긍정적인 단어가 가까울것이고\n",
    "\n",
    "영화를 싫어하는 사람의 글을 학습시키면 워드 임베딩에서 영화와 부정적인 단어가 가까울것임..\n",
    "\n",
    "결국 text가 대중들의 마음, 사람들의 마음을 잘 나타낸 text를 학습시켜야\n",
    "\n",
    "더 좋은 결과, 사람들이 공감할수있는 결과를 낼 수 있을 것 같다.\n",
    "\n",
    "근데 그런건 과연 어떤 식으로 평가할수있을까?에 대한 의문이 떠오른다 설문조사? 주관적일수밖에 없을까..\n",
    "\n",
    "* 코딩을 너무 못해.. \n",
    "\n",
    "함수화 시키려고 노력했는데 도저히 안되서 기초적인 부분만 함수화하고\n",
    "노가다를 해서 데이터를 만들어버렸다...\n",
    "\n",
    "* 중복없이 순서기준으로 짜르는 알고리즘..\n",
    "\n",
    "이런 알고리즘을 잘모르다보니 그냥 set을 통해서 중복 제거하고 그대로 다시 list화하다보니\n",
    "\n",
    "단어의 빈도수와 상관없이 단어를 가져와버리고 말았습니다. 알고리즘 공부의 필요성을 다시 느낍니다.\n",
    "\n",
    "* 전반적으로 불만족..\n",
    "\n",
    "weat_score는 결국 평균과 normalize를 통해서 검증을 하는것인데 \n",
    "\n",
    "중복값제거하고 하다보니 너무 적은 단어만 만들어져서 제대로 계산이 되지못한거같아 불만이 큽니다.."
   ]
  },
  {
   "cell_type": "markdown",
   "metadata": {},
   "source": [
    "# 루브릭"
   ]
  },
  {
   "cell_type": "markdown",
   "metadata": {},
   "source": [
    "아래의 기준을 바탕으로 프로젝트를 평가합니다.\n",
    "\n",
    "\n",
    "|평가문항|상세기준|\n",
    "|:---|:---|\n",
    "|1. 주어진 영화 코퍼스를 바탕으로 워드임베딩 모델을 정상적으로 만들었다.|워드임베딩의 most_similar() 메소드 결과가 의미상 바르게 나왔다.|\n",
    "|2. 영화 구분, 장르별로 target, attribute에 대한 대표성있는 단어 셋을 생성하였다.|타당한 방법론을 통해 중복이 잘 제거되고 개념축을 의미적으로 잘 대표하는 단어 셋이 만들어졌다.|\n",
    "|3. WEAT score 계산 및 시각화를 정상적으로 진행하였다.|전체 영화 장르별로 예술/일반 영화에 대한 편향성 WEAT score가 상식에 부합하는 수치로 얻어졌으며 이를 잘 시각화하였다.|"
   ]
  }
 ],
 "metadata": {
  "kernelspec": {
   "display_name": "aiffel",
   "language": "python",
   "name": "aiffel"
  },
  "language_info": {
   "codemirror_mode": {
    "name": "ipython",
    "version": 3
   },
   "file_extension": ".py",
   "mimetype": "text/x-python",
   "name": "python",
   "nbconvert_exporter": "python",
   "pygments_lexer": "ipython3",
   "version": "3.7.7"
  }
 },
 "nbformat": 4,
 "nbformat_minor": 4
}
