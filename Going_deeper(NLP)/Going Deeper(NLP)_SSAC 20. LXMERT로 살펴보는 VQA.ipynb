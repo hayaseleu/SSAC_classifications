{
 "cells": [
  {
   "cell_type": "markdown",
   "id": "8c8a5b75",
   "metadata": {},
   "source": [
    "20-7. 프로젝트 : GQA 모델 활용하기\n",
    "STEP 1. 다른 이미지 테스트해 보기`\n"
   ]
  }
 ],
 "metadata": {
  "kernelspec": {
   "display_name": "aiffel",
   "language": "python",
   "name": "aiffel"
  },
  "language_info": {
   "codemirror_mode": {
    "name": "ipython",
    "version": 3
   },
   "file_extension": ".py",
   "mimetype": "text/x-python",
   "name": "python",
   "nbconvert_exporter": "python",
   "pygments_lexer": "ipython3",
   "version": "3.7.7"
  }
 },
 "nbformat": 4,
 "nbformat_minor": 5
}
