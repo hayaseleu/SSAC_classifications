{
 "cells": [
  {
   "cell_type": "markdown",
   "metadata": {},
   "source": [
    "# 네이버 영화 리뷰 감성분석 \n",
    "\n",
    "활용한 데이터 셋은 네이버 영화의 댓글을 모아 구성된 Naver sentiment movie corpus입니다. "
   ]
  },
  {
   "cell_type": "markdown",
   "metadata": {},
   "source": [
    "## 1. 데이터 준비와 확인\n"
   ]
  },
  {
   "cell_type": "code",
   "execution_count": 90,
   "metadata": {},
   "outputs": [
    {
     "name": "stdout",
     "output_type": "stream",
     "text": [
      "<class 'pandas.core.frame.DataFrame'>\n",
      "RangeIndex: 150000 entries, 0 to 149999\n",
      "Data columns (total 3 columns):\n",
      " #   Column    Non-Null Count   Dtype \n",
      "---  ------    --------------   ----- \n",
      " 0   id        150000 non-null  int64 \n",
      " 1   document  149995 non-null  object\n",
      " 2   label     150000 non-null  int64 \n",
      "dtypes: int64(2), object(1)\n",
      "memory usage: 3.4+ MB\n",
      "None \n",
      "-----------------------------------\n",
      "          id                                           document  label\n",
      "0   9976970                                아 더빙.. 진짜 짜증나네요 목소리      0\n",
      "1   3819312                  흠...포스터보고 초딩영화줄....오버연기조차 가볍지 않구나      1\n",
      "2  10265843                                  너무재밓었다그래서보는것을추천한다      0\n",
      "3   9045019                      교도소 이야기구먼 ..솔직히 재미는 없다..평점 조정      0\n",
      "4   6483659  사이몬페그의 익살스런 연기가 돋보였던 영화!스파이더맨에서 늙어보이기만 했던 커스틴 ...      1\n"
     ]
    }
   ],
   "source": [
    "import pandas as pd\n",
    "import urllib.request\n",
    "%matplotlib inline\n",
    "import matplotlib.pyplot as plt\n",
    "import re\n",
    "from konlpy.tag import Okt\n",
    "from tensorflow import keras\n",
    "from tensorflow.keras.preprocessing.text import Tokenizer\n",
    "import numpy as np\n",
    "from tensorflow.keras.preprocessing.sequence import pad_sequences\n",
    "from collections import Counter\n",
    "\n",
    "# 데이터를 읽어봅시다. \n",
    "train_data = pd.read_table('~/aiffel/sentiment_classification/ratings_train.txt')\n",
    "test_data = pd.read_table('~/aiffel/sentiment_classification/ratings_test.txt')\n",
    "\n",
    "print(train_data.info(),\"\\n-----------------------------------\\n\",train_data.head() )"
   ]
  },
  {
   "cell_type": "markdown",
   "metadata": {},
   "source": [
    "train data는 0부터 149999 즉 150000개가 있습니다.            \n",
    "데이터는 index, id, document,label로 이루어져있는것을 확인 할 수 있었습니다. "
   ]
  },
  {
   "cell_type": "code",
   "execution_count": 91,
   "metadata": {},
   "outputs": [
    {
     "data": {
      "text/plain": [
       "(146182, 2)"
      ]
     },
     "execution_count": 91,
     "metadata": {},
     "output_type": "execute_result"
    }
   ],
   "source": [
    "train_data['document'].nunique(), train_data['label'].nunique()\n"
   ]
  },
  {
   "cell_type": "markdown",
   "metadata": {},
   "source": [
    "중복된 데이터를 제외하면 146182개의 유니크한 데이터가 있음을 확인 할 수있었습니다.                 \n",
    "label의 경우 긍정적인 1, 부정적인 0 두가지 categorical한 데이터이기 때문에 두 종류만 존재합니다. "
   ]
  },
  {
   "cell_type": "markdown",
   "metadata": {},
   "source": [
    "## 2. 데이터로더 구성\n",
    "\n",
    "\n",
    "나만의 data_loader를 만들어 보는 것으로 시작합니다.           \n",
    "data_loader에서 수행해야할 것들은 아래와 같습니다.\n",
    "\n",
    "* 데이터의 중복 제거                                   \n",
    "* NaN 결측치 제거         \n",
    "* 한국어 토크나이저로 토큰화                     \n",
    "* 불용어(Stopwords) 제거                 \n",
    "* 사전word_to_index 구성                 \n",
    "* 텍스트 스트링을 사전 인덱스 스트링으로 변환                    \n",
    "* X_train, y_train, X_test, y_test, word_to_index 리턴                         "
   ]
  },
  {
   "cell_type": "code",
   "execution_count": 92,
   "metadata": {},
   "outputs": [],
   "source": [
    "from konlpy.tag import Mecab\n",
    "tokenizer = Mecab()\n",
    "stopwords = ['의','가','이','은','들','는','좀','잘','걍','과','도','를','으로','자','에','와','한','하다']\n",
    "\n",
    "def load_data(train_data, test_data, num_words=10000):\n",
    "    train_data.drop_duplicates(subset=['document'], inplace=True) # 중복값 제거 \n",
    "    test_data.drop_duplicates(subset=['document'], inplace=True) # 중복값 제거 \n",
    "    train_data['document'] = train_data['document'].str.replace(\"[^ㄱ-ㅎㅏ-ㅣ가-힣 ]\",\"\") #정규식으로 한글이 아닌것은 제거 \n",
    "    test_data['document'] = test_data['document'].str.replace(\"[^ㄱ-ㅎㅏ-ㅣ가-힣 ]\",\"\") # 정규식 한글이 아닌것은 제거\n",
    "    train_data['document'].replace('', np.nan, inplace=True) #공백값만 존재하면 nan로 변경\n",
    "    test_data['document'].replace('', np.nan, inplace=True) # 공백값만 존재하면 nan로 변경\n",
    "    train_data = train_data.dropna(how = 'any')  # na값 제거 \n",
    "    test_data = test_data.dropna(how = 'any')  #na값 제거 \n",
    "    \n",
    "    X_train = []\n",
    "    for sentence in train_data['document']:\n",
    "        temp_X = tokenizer.morphs(sentence) # 토큰화\n",
    "        temp_X = [word for word in temp_X if not word in stopwords] # 불용어 제거\n",
    "        X_train.append(temp_X)\n",
    "\n",
    "    X_test = []\n",
    "    for sentence in test_data['document']:\n",
    "        temp_X = tokenizer.morphs(sentence) # 토큰화\n",
    "        temp_X = [word for word in temp_X if not word in stopwords] # 불용어 제거\n",
    "        X_test.append(temp_X)\n",
    "\n",
    "    words = np.concatenate(X_train).tolist()\n",
    "    counter = Counter(words)\n",
    "    counter = counter.most_common(num_words-4)\n",
    "    vocab = ['<PAD>', '<BOS>', '<UNK>', '<UNUSED>'] + [key for key, _ in counter]\n",
    "    word_to_index = {word:index for index, word in enumerate(vocab)}\n",
    "\n",
    "    def wordlist_to_indexlist(wordlist):\n",
    "        return [word_to_index[word] if word in word_to_index else word_to_index['<UNK>'] for word in wordlist]\n",
    "\n",
    "    X_train = list(map(wordlist_to_indexlist, X_train))\n",
    "    X_test = list(map(wordlist_to_indexlist, X_test))\n",
    "\n",
    "    return X_train, np.array(list(train_data['label'])), X_test, np.array(list(test_data['label'])), word_to_index\n",
    "\n",
    "X_train, y_train, X_test, y_test, word_to_index = load_data(train_data, test_data) "
   ]
  },
  {
   "cell_type": "markdown",
   "metadata": {},
   "source": [
    "load_data함수를 만든이후 함수를 통해\n",
    "X_train, y_train,X_test, y_test, word_to_index를 원본 train_data,test_data에서 읽어왔습니다. "
   ]
  },
  {
   "cell_type": "code",
   "execution_count": 93,
   "metadata": {},
   "outputs": [],
   "source": [
    "index_to_word = {index:word for word, index in word_to_index.items()}"
   ]
  },
  {
   "cell_type": "code",
   "execution_count": 94,
   "metadata": {},
   "outputs": [],
   "source": [
    "# 문장 1개를 활용할 딕셔너리와 함께 주면, 단어 인덱스 리스트 벡터로 변환해 주는 함수입니다. \n",
    "# 단, 모든 문장은 <BOS>로 시작하는 것으로 합니다. \n",
    "def get_encoded_sentence(sentence, word_to_index):\n",
    "    return [word_to_index['<BOS>']]+[word_to_index[word] if word in word_to_index else word_to_index['<UNK>'] for word in sentence.split()]\n",
    "\n",
    "# 여러 개의 문장 리스트를 한꺼번에 단어 인덱스 리스트 벡터로 encode해 주는 함수입니다. \n",
    "def get_encoded_sentences(sentences, word_to_index):\n",
    "    return [get_encoded_sentence(sentence, word_to_index) for sentence in sentences]\n",
    "\n",
    "# 숫자 벡터로 encode된 문장을 원래대로 decode하는 함수입니다. \n",
    "def get_decoded_sentence(encoded_sentence, index_to_word):\n",
    "    return ' '.join(index_to_word[index] if index in index_to_word else '<UNK>' for index in encoded_sentence[1:])  #[1:]를 통해 <BOS>를 제외\n",
    "\n",
    "# 여러개의 숫자 벡터로 encode된 문장을 한꺼번에 원래대로 decode하는 함수입니다. \n",
    "def get_decoded_sentences(encoded_sentences, index_to_word):\n",
    "    return [get_decoded_sentence(encoded_sentence, index_to_word) for encoded_sentence in encoded_sentences]"
   ]
  },
  {
   "cell_type": "markdown",
   "metadata": {},
   "source": [
    "그후 word_to_index를 이용하여 반대로 index_to_word를 만들었고,      \n",
    "encode,decode 데이터 역시 만들 수 있었다. "
   ]
  },
  {
   "cell_type": "code",
   "execution_count": 95,
   "metadata": {},
   "outputs": [
    {
     "name": "stdout",
     "output_type": "stream",
     "text": [
      "[27, 67, 895, 33, 214, 15, 28, 699]\n",
      "[[27, 67, 895, 33, 214, 15, 28, 699], [977, 481, 491, 636, 4, 110, 1554, 48, 866, 949, 11, 38, 364], [19, 192, 2]]\n",
      "145791\n",
      "48995\n",
      "194786\n"
     ]
    }
   ],
   "source": [
    "print(X_train[0])\n",
    "print(X_train[:3])\n",
    "\n",
    "print(len(X_train))\n",
    "print(len(X_test))\n",
    "print(len(X_train+X_test))\n",
    "\n"
   ]
  },
  {
   "cell_type": "markdown",
   "metadata": {},
   "source": [
    "여러 전처리를 끝낸후 X_train은 145791, X_test는 48995가 되었음을 확인 할 수 있었다. "
   ]
  },
  {
   "cell_type": "markdown",
   "metadata": {},
   "source": [
    "## 3. 모델구성을 위한 데이터 분석 및 가공\n",
    "\n",
    "* 데이터셋 내 문장 길이 분포\n",
    "* 적절한 최대 문장 길이 지정\n",
    "* keras.preprocessing.sequence.pad_sequences 을 활용한 패딩 추가\n"
   ]
  },
  {
   "cell_type": "code",
   "execution_count": 96,
   "metadata": {},
   "outputs": [],
   "source": [
    "total_data_text = X_train + X_test\n",
    "# print(num_len[0])\n",
    "\n",
    "num_tokens = [len(tokens) for tokens in total_data_text]\n",
    "num_tokens = np.array(num_tokens)"
   ]
  },
  {
   "cell_type": "code",
   "execution_count": 97,
   "metadata": {},
   "outputs": [
    {
     "name": "stdout",
     "output_type": "stream",
     "text": [
      "문장길이 평균 :  13.75715400490795\n",
      "문장길이 최대 :  83\n",
      "문장길이 표준편차 :  11.462732932420181\n"
     ]
    }
   ],
   "source": [
    "print('문장길이 평균 : ', np.mean(num_tokens))\n",
    "print('문장길이 최대 : ', np.max(num_tokens))\n",
    "print('문장길이 표준편차 : ', np.std(num_tokens))"
   ]
  },
  {
   "cell_type": "code",
   "execution_count": 98,
   "metadata": {},
   "outputs": [
    {
     "name": "stdout",
     "output_type": "stream",
     "text": [
      "pad_sequences maxlen :  36\n",
      "전체 문장의 0.9338145451931864%가 maxlen 설정값 이내에 포함됩니다. \n"
     ]
    }
   ],
   "source": [
    "max_tokens = np.mean(num_tokens) + 2 * np.std(num_tokens)\n",
    "maxlen = int(max_tokens)\n",
    "print('pad_sequences maxlen : ', maxlen)\n",
    "print('전체 문장의 {}%가 maxlen 설정값 이내에 포함됩니다. '.format(np.sum(num_tokens < max_tokens) / len(num_tokens)))\n"
   ]
  },
  {
   "cell_type": "markdown",
   "metadata": {},
   "source": [
    "임베딩이란 단어 데이터를 저차원의 벡터로 표시하는 기법입니다.                \n",
    "그렇기때문에 문장들의 길이를 일정하게 만들어야 임베딩이 가능합니다.              \n",
    "그것을 위해 문장길이의 평균과 최대, 표준편차를 계산하여                 \n",
    "mean+2표준편차인 36을 max값으로 잡습니다.               \n",
    "게산한 결과 전체 문장의 약 93%정도가 36이내의 값을 가지고 있습니다.        \n",
    "\n",
    "그리고 36보다 길이가 짧은 문장은 아래에서 \\<PAD\\> 을 추가합니다."
   ]
  },
  {
   "cell_type": "code",
   "execution_count": 99,
   "metadata": {},
   "outputs": [
    {
     "data": {
      "text/plain": [
       "[27, 67, 895, 33, 214, 15, 28, 699]"
      ]
     },
     "execution_count": 99,
     "metadata": {},
     "output_type": "execute_result"
    }
   ],
   "source": [
    "\n",
    "X_train[0]"
   ]
  },
  {
   "cell_type": "code",
   "execution_count": 100,
   "metadata": {},
   "outputs": [],
   "source": [
    "X_train = keras.preprocessing.sequence.pad_sequences(X_train,\n",
    "                                                        value=word_to_index[\"<PAD>\"],\n",
    "                                                        padding='post', # 혹은 'pre'\n",
    "                                                        maxlen=maxlen)\n"
   ]
  },
  {
   "cell_type": "code",
   "execution_count": 101,
   "metadata": {},
   "outputs": [
    {
     "name": "stdout",
     "output_type": "stream",
     "text": [
      "(145791, 36)\n"
     ]
    }
   ],
   "source": [
    "\n",
    "X_test = keras.preprocessing.sequence.pad_sequences(X_test,\n",
    "                                                       value=word_to_index[\"<PAD>\"],\n",
    "                                                       padding='post', # 혹은 'pre'\n",
    "                                                       maxlen=maxlen)\n",
    "\n",
    "print(X_train.shape)\n",
    "\n"
   ]
  },
  {
   "cell_type": "markdown",
   "metadata": {},
   "source": [
    "padding은 post, pre를 통해서 앞에 놓을지, 뒤에 놓을지 결정할 수 있습니다.             \n",
    "RNN의 경우에는 먼저 입력된 데이터가 계속 뒤에 영향을 미침으로 패딩을 뒤에다 하는것이 좋다고 생각하였습니다. "
   ]
  },
  {
   "cell_type": "code",
   "execution_count": 102,
   "metadata": {},
   "outputs": [
    {
     "name": "stdout",
     "output_type": "stream",
     "text": [
      "[ 27  67 895  33 214  15  28 699   0   0   0   0   0   0   0   0   0   0\n",
      "   0   0   0   0   0   0   0   0   0   0   0   0   0   0   0   0   0   0]\n"
     ]
    }
   ],
   "source": [
    "print(X_train[0])\n"
   ]
  },
  {
   "cell_type": "code",
   "execution_count": 103,
   "metadata": {},
   "outputs": [],
   "source": [
    "# threshold = 3\n",
    "# total_cnt = len(tokenizer.word_index) # 단어의 수\n",
    "# rare_cnt = 0 # 등장 빈도수가 threshold보다 작은 단어의 개수를 카운트\n",
    "# total_freq = 0 # 훈련 데이터의 전체 단어 빈도수 총 합\n",
    "# rare_freq = 0 # 등장 빈도수가 threshold보다 작은 단어의 등장 빈도수의 총 합\n",
    "\n",
    "# # 단어와 빈도수의 쌍(pair)을 key와 value로 받는다.\n",
    "# for key, value in tokenizer.word_counts.items():\n",
    "#     total_freq = total_freq + value\n",
    "\n",
    "#     # 단어의 등장 빈도수가 threshold보다 작으면\n",
    "#     if(value < threshold):\n",
    "#         rare_cnt = rare_cnt + 1\n",
    "#         rare_freq = rare_freq + value\n",
    "\n",
    "# print('단어 집합(vocabulary)의 크기 :',total_cnt)\n",
    "# print('등장 빈도가 %s번 이하인 희귀 단어의 수: %s'%(threshold - 1, rare_cnt))\n",
    "# print(\"단어 집합에서 희귀 단어의 비율:\", (rare_cnt / total_cnt)*100)\n",
    "# print(\"전체 등장 빈도에서 희귀 단어 등장 빈도 비율:\", (rare_freq / total_freq)*100)"
   ]
  },
  {
   "cell_type": "markdown",
   "metadata": {},
   "source": [
    "## 4) validation set 구성\n",
    "\n",
    "\n"
   ]
  },
  {
   "cell_type": "code",
   "execution_count": 104,
   "metadata": {},
   "outputs": [
    {
     "name": "stdout",
     "output_type": "stream",
     "text": [
      "validation set : 29159 validation set을 제외한 나머지: 116632\n"
     ]
    }
   ],
   "source": [
    "from sklearn.model_selection import train_test_split\n",
    "\n",
    "\n",
    "partial_x_train, x_val, partial_y_train, y_val  = train_test_split(X_train,\n",
    "                                                             y_train,\n",
    "                                                            test_size = 0.2,\n",
    "                                                            random_state = 5)\n",
    "\n",
    "print('validation set :',len(x_val), 'validation set을 제외한 나머지:',len(partial_x_train))"
   ]
  },
  {
   "cell_type": "markdown",
   "metadata": {},
   "source": [
    "sklearn의 train_test_split을 통해서 train데이터에서 train데이터와 valdataion data를 분류하였습니다."
   ]
  },
  {
   "cell_type": "code",
   "execution_count": 105,
   "metadata": {},
   "outputs": [],
   "source": [
    "import pandas as pd"
   ]
  },
  {
   "cell_type": "code",
   "execution_count": 106,
   "metadata": {},
   "outputs": [
    {
     "data": {
      "text/plain": [
       "<AxesSubplot:xlabel='0'>"
      ]
     },
     "execution_count": 106,
     "metadata": {},
     "output_type": "execute_result"
    },
    {
     "data": {
      "image/png": "[encoded data removed]",
      "text/plain": [
       "<Figure size 432x288 with 1 Axes>"
      ]
     },
     "metadata": {
      "needs_background": "light"
     },
     "output_type": "display_data"
    }
   ],
   "source": [
    "pd.DataFrame(partial_y_train).value_counts().plot(kind = 'bar')"
   ]
  },
  {
   "cell_type": "code",
   "execution_count": 107,
   "metadata": {},
   "outputs": [
    {
     "data": {
      "text/plain": [
       "<AxesSubplot:xlabel='0'>"
      ]
     },
     "execution_count": 107,
     "metadata": {},
     "output_type": "execute_result"
    },
    {
     "data": {
      "image/png": "[encoded data removed]",
      "text/plain": [
       "<Figure size 432x288 with 1 Axes>"
      ]
     },
     "metadata": {
      "needs_background": "light"
     },
     "output_type": "display_data"
    }
   ],
   "source": [
    "pd.DataFrame(y_val).value_counts().plot(kind = 'bar')"
   ]
  },
  {
   "cell_type": "markdown",
   "metadata": {},
   "source": [
    "valdataion과 train data의 0(부정적인 리뷰),1(긍정적인 리뷰)의 빈도수가 비슷함을 확인 할 수 있었다. "
   ]
  },
  {
   "cell_type": "markdown",
   "metadata": {},
   "source": [
    "# 5) 모델 적합과 학습"
   ]
  },
  {
   "cell_type": "markdown",
   "metadata": {},
   "source": [
    "## RNN 모델 "
   ]
  },
  {
   "cell_type": "code",
   "execution_count": 108,
   "metadata": {},
   "outputs": [
    {
     "name": "stdout",
     "output_type": "stream",
     "text": [
      "Model: \"sequential_15\"\n",
      "_________________________________________________________________\n",
      "Layer (type)                 Output Shape              Param #   \n",
      "=================================================================\n",
      "embedding_15 (Embedding)     (None, None, 16)          160000    \n",
      "_________________________________________________________________\n",
      "lstm_7 (LSTM)                (None, 10)                1080      \n",
      "_________________________________________________________________\n",
      "dense_27 (Dense)             (None, 8)                 88        \n",
      "_________________________________________________________________\n",
      "dense_28 (Dense)             (None, 1)                 9         \n",
      "=================================================================\n",
      "Total params: 161,177\n",
      "Trainable params: 161,177\n",
      "Non-trainable params: 0\n",
      "_________________________________________________________________\n"
     ]
    }
   ],
   "source": [
    "vocab_size = 10000    # 어휘 사전의 크기입니다(10,000개의 단어)\n",
    "word_vector_dim = 16\n",
    "\n",
    "model_RNN = keras.Sequential()\n",
    "model_RNN.add(keras.layers.Embedding(vocab_size, word_vector_dim, input_shape=(None,)))\n",
    "model_RNN.add(keras.layers.LSTM(10))   # 가장 널리 쓰이는 RNN인 LSTM 레이어를 사용하였습니다. 이때 LSTM state 벡터의 차원수는 8로 하였습니다. (변경가능)\n",
    "model_RNN.add(keras.layers.Dense(8, activation='relu'))\n",
    "model_RNN.add(keras.layers.Dense(1, activation='sigmoid'))  # 최종 출력은 긍정/부정을 나타내는 1dim 입니다.\n",
    "\n",
    "model_RNN.summary()"
   ]
  },
  {
   "cell_type": "code",
   "execution_count": 109,
   "metadata": {},
   "outputs": [],
   "source": [
    "model_RNN.compile(optimizer='adam',\n",
    "              loss='binary_crossentropy',\n",
    "              metrics=['accuracy'])\n",
    "              \n",
    "\n",
    "\n"
   ]
  },
  {
   "cell_type": "code",
   "execution_count": 110,
   "metadata": {},
   "outputs": [
    {
     "name": "stdout",
     "output_type": "stream",
     "text": [
      "Epoch 1/7\n",
      "228/228 [==============================] - 2s 8ms/step - loss: 0.6067 - accuracy: 0.6350 - val_loss: 0.4148 - val_accuracy: 0.8247\n",
      "Epoch 2/7\n",
      "228/228 [==============================] - 1s 6ms/step - loss: 0.3638 - accuracy: 0.8438 - val_loss: 0.3634 - val_accuracy: 0.8393\n",
      "Epoch 3/7\n",
      "228/228 [==============================] - 2s 7ms/step - loss: 0.3269 - accuracy: 0.8601 - val_loss: 0.3624 - val_accuracy: 0.8412\n",
      "Epoch 4/7\n",
      "228/228 [==============================] - 2s 7ms/step - loss: 0.3106 - accuracy: 0.8672 - val_loss: 0.3648 - val_accuracy: 0.8388\n",
      "Epoch 5/7\n",
      "228/228 [==============================] - 1s 6ms/step - loss: 0.3015 - accuracy: 0.8697 - val_loss: 0.3653 - val_accuracy: 0.8406\n",
      "Epoch 6/7\n",
      "228/228 [==============================] - 1s 6ms/step - loss: 0.2917 - accuracy: 0.8739 - val_loss: 0.3813 - val_accuracy: 0.8379\n",
      "Epoch 7/7\n",
      "228/228 [==============================] - 2s 7ms/step - loss: 0.2831 - accuracy: 0.8756 - val_loss: 0.3826 - val_accuracy: 0.8375\n"
     ]
    }
   ],
   "source": [
    "epochs=7  # 몇 epoch를 훈련하면 좋을지 결과를 보면서 바꾸어 봅시다. \n",
    "\n",
    "history_RNN = model_RNN.fit(partial_x_train,\n",
    "                    partial_y_train,\n",
    "                    epochs=epochs,\n",
    "                    batch_size=512,\n",
    "                    validation_data=(x_val, y_val),\n",
    "                    verbose=1)"
   ]
  },
  {
   "cell_type": "code",
   "execution_count": 111,
   "metadata": {},
   "outputs": [
    {
     "name": "stdout",
     "output_type": "stream",
     "text": [
      "1532/1532 - 3s - loss: 0.3879 - accuracy: 0.8346\n",
      "[0.3879138231277466, 0.8345749378204346]\n"
     ]
    }
   ],
   "source": [
    "\n",
    "\n",
    "results_RNN = model_RNN.evaluate(X_test,  y_test, verbose=2)\n",
    "\n",
    "print(results_RNN)"
   ]
  },
  {
   "cell_type": "markdown",
   "metadata": {},
   "source": [
    "RNN모델은 test data에 대하여 약 83.5 퍼센트의 정확도를 보여주었습니다. "
   ]
  },
  {
   "cell_type": "markdown",
   "metadata": {},
   "source": [
    "## 1-D Convolution Neural Network(1-D CNN) 모델"
   ]
  },
  {
   "cell_type": "code",
   "execution_count": 112,
   "metadata": {},
   "outputs": [
    {
     "name": "stdout",
     "output_type": "stream",
     "text": [
      "Model: \"sequential_16\"\n",
      "_________________________________________________________________\n",
      "Layer (type)                 Output Shape              Param #   \n",
      "=================================================================\n",
      "embedding_16 (Embedding)     (None, None, 16)          160000    \n",
      "_________________________________________________________________\n",
      "conv1d_10 (Conv1D)           (None, None, 16)          1808      \n",
      "_________________________________________________________________\n",
      "max_pooling1d_5 (MaxPooling1 (None, None, 16)          0         \n",
      "_________________________________________________________________\n",
      "conv1d_11 (Conv1D)           (None, None, 16)          1552      \n",
      "_________________________________________________________________\n",
      "global_max_pooling1d_8 (Glob (None, 16)                0         \n",
      "_________________________________________________________________\n",
      "dense_29 (Dense)             (None, 8)                 136       \n",
      "_________________________________________________________________\n",
      "dense_30 (Dense)             (None, 1)                 9         \n",
      "=================================================================\n",
      "Total params: 163,505\n",
      "Trainable params: 163,505\n",
      "Non-trainable params: 0\n",
      "_________________________________________________________________\n"
     ]
    }
   ],
   "source": [
    "import tensorflow as tf\n",
    "from tensorflow import keras\n",
    "import numpy as np\n",
    "\n",
    "vocab_size = 10000    # 어휘 사전의 크기입니다(10,000개의 단어)\n",
    "word_vector_dim = 16  # 워드 벡터의 차원수 (변경가능한 하이퍼파라미터)\n",
    "\n",
    "# model 설계 - 딥러닝 모델 코드를 직접 작성해 주세요.\n",
    "model_1D = keras.Sequential()\n",
    "# [[YOUR CODE]]\n",
    "model_1D.add(keras.layers.Embedding(vocab_size, word_vector_dim, input_shape = (None,)))\n",
    "model_1D.add(keras.layers.Conv1D(16,7,activation = 'relu'))\n",
    "model_1D.add(keras.layers.MaxPooling1D(5))\n",
    "model_1D.add(keras.layers.Conv1D(16,6,activation = 'relu'))\n",
    "model_1D.add(keras.layers.GlobalMaxPooling1D())\n",
    "model_1D.add(keras.layers.Dense(8,activation = 'relu'))\n",
    "model_1D.add(keras.layers.Dense(1,activation = 'sigmoid'))\n",
    "\n",
    "model_1D.summary()"
   ]
  },
  {
   "cell_type": "code",
   "execution_count": 113,
   "metadata": {},
   "outputs": [],
   "source": [
    "model_1D.compile(optimizer='adam',\n",
    "              loss='binary_crossentropy',\n",
    "              metrics=['accuracy'])\n",
    "              \n",
    "\n",
    "\n"
   ]
  },
  {
   "cell_type": "code",
   "execution_count": 114,
   "metadata": {},
   "outputs": [
    {
     "name": "stdout",
     "output_type": "stream",
     "text": [
      "Epoch 1/7\n",
      "228/228 [==============================] - 9s 39ms/step - loss: 0.5396 - accuracy: 0.7191 - val_loss: 0.3875 - val_accuracy: 0.8294\n",
      "Epoch 2/7\n",
      "228/228 [==============================] - 1s 6ms/step - loss: 0.3510 - accuracy: 0.8490 - val_loss: 0.3753 - val_accuracy: 0.8348\n",
      "Epoch 3/7\n",
      "228/228 [==============================] - 1s 5ms/step - loss: 0.3183 - accuracy: 0.8648 - val_loss: 0.3652 - val_accuracy: 0.8412\n",
      "Epoch 4/7\n",
      "228/228 [==============================] - 1s 5ms/step - loss: 0.2961 - accuracy: 0.8772 - val_loss: 0.3679 - val_accuracy: 0.8428\n",
      "Epoch 5/7\n",
      "228/228 [==============================] - 1s 5ms/step - loss: 0.2757 - accuracy: 0.8871 - val_loss: 0.3779 - val_accuracy: 0.8426\n",
      "Epoch 6/7\n",
      "228/228 [==============================] - 1s 5ms/step - loss: 0.2525 - accuracy: 0.8990 - val_loss: 0.3867 - val_accuracy: 0.8395\n",
      "Epoch 7/7\n",
      "228/228 [==============================] - 1s 6ms/step - loss: 0.2267 - accuracy: 0.9122 - val_loss: 0.4079 - val_accuracy: 0.8380\n"
     ]
    }
   ],
   "source": [
    "epochs=7  # 몇 epoch를 훈련하면 좋을지 결과를 보면서 바꾸어 봅시다. \n",
    "\n",
    "history_1D = model_1D.fit(partial_x_train,\n",
    "                    partial_y_train,\n",
    "                    epochs=epochs,\n",
    "                    batch_size=512,\n",
    "                    validation_data=(x_val, y_val),\n",
    "                    verbose=1)"
   ]
  },
  {
   "cell_type": "code",
   "execution_count": 115,
   "metadata": {},
   "outputs": [
    {
     "name": "stdout",
     "output_type": "stream",
     "text": [
      "1532/1532 - 2s - loss: 0.4051 - accuracy: 0.8380\n",
      "[0.40514075756073, 0.8380038738250732]\n"
     ]
    }
   ],
   "source": [
    "\n",
    "\n",
    "results_1D = model_1D.evaluate(X_test,  y_test, verbose=2)\n",
    "\n",
    "print(results_1D)"
   ]
  },
  {
   "cell_type": "markdown",
   "metadata": {},
   "source": [
    "1-D Convolution Neural Network(1-D CNN)도 약 83.4%로 비슷한 정확도를 보였습니다. "
   ]
  },
  {
   "cell_type": "markdown",
   "metadata": {},
   "source": [
    "## GlobalMaxPooling1D() 레이어 하나만 사용하는 방법"
   ]
  },
  {
   "cell_type": "code",
   "execution_count": 116,
   "metadata": {},
   "outputs": [
    {
     "name": "stdout",
     "output_type": "stream",
     "text": [
      "Model: \"sequential_17\"\n",
      "_________________________________________________________________\n",
      "Layer (type)                 Output Shape              Param #   \n",
      "=================================================================\n",
      "embedding_17 (Embedding)     (None, None, 16)          160000    \n",
      "_________________________________________________________________\n",
      "global_max_pooling1d_9 (Glob (None, 16)                0         \n",
      "_________________________________________________________________\n",
      "dense_31 (Dense)             (None, 8)                 136       \n",
      "_________________________________________________________________\n",
      "dense_32 (Dense)             (None, 1)                 9         \n",
      "=================================================================\n",
      "Total params: 160,145\n",
      "Trainable params: 160,145\n",
      "Non-trainable params: 0\n",
      "_________________________________________________________________\n"
     ]
    }
   ],
   "source": [
    "vocab_size = 10000    # 어휘 사전의 크기입니다(10,000개의 단어)\n",
    "word_vector_dim = 16  # 워드 벡터의 차원수 (변경가능한 하이퍼파라미터)\n",
    "\n",
    "model_max = keras.Sequential()\n",
    "model_max.add(keras.layers.Embedding(vocab_size, word_vector_dim, input_shape=(None,)))\n",
    "model_max.add(keras.layers.GlobalMaxPooling1D())\n",
    "model_max.add(keras.layers.Dense(8, activation='relu'))\n",
    "model_max.add(keras.layers.Dense(1, activation='sigmoid'))  # 최종 출력은 긍정/부정을 나타내는 1dim 입니다.\n",
    "\n",
    "model_max.summary()"
   ]
  },
  {
   "cell_type": "markdown",
   "metadata": {},
   "source": [
    "이번에는 아예 MAXPooling 1D 한번만 사용하는 방법을 써보겠습니다. "
   ]
  },
  {
   "cell_type": "code",
   "execution_count": 117,
   "metadata": {},
   "outputs": [
    {
     "name": "stdout",
     "output_type": "stream",
     "text": [
      "Epoch 1/7\n",
      "228/228 [==============================] - 1s 4ms/step - loss: 0.5922 - accuracy: 0.7456 - val_loss: 0.4538 - val_accuracy: 0.8001\n",
      "Epoch 2/7\n",
      "228/228 [==============================] - 1s 5ms/step - loss: 0.3891 - accuracy: 0.8315 - val_loss: 0.3810 - val_accuracy: 0.8321\n",
      "Epoch 3/7\n",
      "228/228 [==============================] - 1s 4ms/step - loss: 0.3334 - accuracy: 0.8580 - val_loss: 0.3708 - val_accuracy: 0.8375\n",
      "Epoch 4/7\n",
      "228/228 [==============================] - 1s 5ms/step - loss: 0.3043 - accuracy: 0.8718 - val_loss: 0.3711 - val_accuracy: 0.8390\n",
      "Epoch 5/7\n",
      "228/228 [==============================] - 1s 5ms/step - loss: 0.2836 - accuracy: 0.8820 - val_loss: 0.3774 - val_accuracy: 0.8390\n",
      "Epoch 6/7\n",
      "228/228 [==============================] - 1s 5ms/step - loss: 0.2668 - accuracy: 0.8910 - val_loss: 0.3862 - val_accuracy: 0.8378\n",
      "Epoch 7/7\n",
      "228/228 [==============================] - 1s 5ms/step - loss: 0.2526 - accuracy: 0.8972 - val_loss: 0.3958 - val_accuracy: 0.8372\n"
     ]
    }
   ],
   "source": [
    "\n",
    "\n",
    "model_max.compile(optimizer='adam',\n",
    "              loss='binary_crossentropy',\n",
    "              metrics=['accuracy'])\n",
    "              \n",
    "epochs=7  # 몇 epoch를 훈련하면 좋을지 결과를 보면서 바꾸어 봅시다. \n",
    "\n",
    "history = model_max.fit(partial_x_train,\n",
    "                    partial_y_train,\n",
    "                    epochs=epochs,\n",
    "                    batch_size=512,\n",
    "                    validation_data=(x_val, y_val),\n",
    "                    verbose=1)\n"
   ]
  },
  {
   "cell_type": "code",
   "execution_count": 118,
   "metadata": {},
   "outputs": [
    {
     "name": "stdout",
     "output_type": "stream",
     "text": [
      "1532/1532 - 2s - loss: 0.3919 - accuracy: 0.8368\n",
      "[0.39186400175094604, 0.836799681186676]\n"
     ]
    }
   ],
   "source": [
    "\n",
    "\n",
    "results_max = model_max.evaluate(X_test,  y_test, verbose=2)\n",
    "\n",
    "print(results_max)"
   ]
  },
  {
   "cell_type": "markdown",
   "metadata": {},
   "source": [
    "max_pooling만 사용한것은 약 83.7퍼센트의 정확도를 보였습니다."
   ]
  },
  {
   "cell_type": "markdown",
   "metadata": {},
   "source": [
    "## Lstm 128 모델"
   ]
  },
  {
   "cell_type": "code",
   "execution_count": 119,
   "metadata": {},
   "outputs": [],
   "source": [
    "from tensorflow.keras.layers import Embedding, Dense, LSTM\n",
    "from tensorflow.keras.models import Sequential\n",
    "from tensorflow.keras.models import load_model\n",
    "from tensorflow.keras.callbacks import EarlyStopping, ModelCheckpoint"
   ]
  },
  {
   "cell_type": "code",
   "execution_count": 120,
   "metadata": {},
   "outputs": [],
   "source": [
    "vocab_size = 10000    # 어휘 사전의 크기입니다(10,000개의 단어)\n",
    "word_vector_dim = 16\n",
    "\n",
    "model_longlstm = Sequential()\n",
    "model_longlstm.add(keras.layers.Embedding(vocab_size, word_vector_dim, input_shape=(None,)))\n",
    "model_longlstm.add(LSTM(128))\n",
    "model_longlstm.add(Dense(1, activation='sigmoid'))\n",
    "\n"
   ]
  },
  {
   "cell_type": "markdown",
   "metadata": {},
   "source": [
    "이번엔 RNN에서 LSTM부분을 128까지 늘려서 모델을 적합시켜보도록하겠습니다다. "
   ]
  },
  {
   "cell_type": "code",
   "execution_count": null,
   "metadata": {},
   "outputs": [],
   "source": [
    "es = EarlyStopping(monitor='val_loss', mode='min', verbose=1, patience=4)\n",
    "mc = ModelCheckpoint('best_model.h5', monitor='val_acc', mode='max', verbose=1, save_best_only=True)"
   ]
  },
  {
   "cell_type": "markdown",
   "metadata": {},
   "source": [
    "검증 데이터 손실(val_loss)이 증가하면, 과적합 징후므로 검증 데이터 손실이 4회 증가하면 학습을 조기 종료(Early Stopping)합니다.         \n",
    "또한, ModelCheckpoint를 사용하여 검증 데이터의 정확도(val_acc)가 이전보다 좋아질 경우에만 모델을 저장합니다."
   ]
  },
  {
   "cell_type": "code",
   "execution_count": null,
   "metadata": {},
   "outputs": [],
   "source": [
    "또 이 모델에선 validataion_split을 미리한것을 쓰지않고 모델 내부에서 자체적으로 0.2로 분리한것을 사용하게 하였습니다. "
   ]
  },
  {
   "cell_type": "code",
   "execution_count": 87,
   "metadata": {},
   "outputs": [
    {
     "name": "stdout",
     "output_type": "stream",
     "text": [
      "Epoch 1/15\n",
      "1934/1944 [============================>.] - ETA: 0s - loss: 0.4302 - acc: 0.7983\n",
      "Epoch 00001: val_acc improved from -inf to 0.83419, saving model to best_model.h5\n",
      "1944/1944 [==============================] - 8s 4ms/step - loss: 0.4299 - acc: 0.7986 - val_loss: 0.3795 - val_acc: 0.8342\n",
      "Epoch 2/15\n",
      "1939/1944 [============================>.] - ETA: 0s - loss: 0.3605 - acc: 0.8435\n",
      "Epoch 00002: val_acc improved from 0.83419 to 0.84012, saving model to best_model.h5\n",
      "1944/1944 [==============================] - 9s 5ms/step - loss: 0.3604 - acc: 0.8436 - val_loss: 0.3730 - val_acc: 0.8401\n",
      "Epoch 3/15\n",
      "1937/1944 [============================>.] - ETA: 0s - loss: 0.3420 - acc: 0.8513\n",
      "Epoch 00003: val_acc improved from 0.84012 to 0.84698, saving model to best_model.h5\n",
      "1944/1944 [==============================] - 9s 5ms/step - loss: 0.3419 - acc: 0.8514 - val_loss: 0.3675 - val_acc: 0.8470\n",
      "Epoch 4/15\n",
      "1933/1944 [============================>.] - ETA: 0s - loss: 0.3248 - acc: 0.8604\n",
      "Epoch 00004: val_acc improved from 0.84698 to 0.85109, saving model to best_model.h5\n",
      "1944/1944 [==============================] - 9s 5ms/step - loss: 0.3250 - acc: 0.8603 - val_loss: 0.3366 - val_acc: 0.8511\n",
      "Epoch 5/15\n",
      "1940/1944 [============================>.] - ETA: 0s - loss: 0.3108 - acc: 0.8667\n",
      "Epoch 00005: val_acc improved from 0.85109 to 0.85589, saving model to best_model.h5\n",
      "1944/1944 [==============================] - 10s 5ms/step - loss: 0.3107 - acc: 0.8668 - val_loss: 0.3317 - val_acc: 0.8559\n",
      "Epoch 6/15\n",
      "1944/1944 [==============================] - ETA: 0s - loss: 0.3011 - acc: 0.8713\n",
      "Epoch 00006: val_acc improved from 0.85589 to 0.85668, saving model to best_model.h5\n",
      "1944/1944 [==============================] - 10s 5ms/step - loss: 0.3011 - acc: 0.8713 - val_loss: 0.3267 - val_acc: 0.8567\n",
      "Epoch 7/15\n",
      "1937/1944 [============================>.] - ETA: 0s - loss: 0.2925 - acc: 0.8766\n",
      "Epoch 00007: val_acc did not improve from 0.85668\n",
      "1944/1944 [==============================] - 10s 5ms/step - loss: 0.2927 - acc: 0.8764 - val_loss: 0.3307 - val_acc: 0.8517\n",
      "Epoch 8/15\n",
      "1933/1944 [============================>.] - ETA: 0s - loss: 0.2858 - acc: 0.8794\n",
      "Epoch 00008: val_acc improved from 0.85668 to 0.85877, saving model to best_model.h5\n",
      "1944/1944 [==============================] - 10s 5ms/step - loss: 0.2859 - acc: 0.8793 - val_loss: 0.3235 - val_acc: 0.8588\n",
      "Epoch 9/15\n",
      "1938/1944 [============================>.] - ETA: 0s - loss: 0.2792 - acc: 0.8832\n",
      "Epoch 00009: val_acc did not improve from 0.85877\n",
      "1944/1944 [==============================] - 10s 5ms/step - loss: 0.2791 - acc: 0.8832 - val_loss: 0.3318 - val_acc: 0.8587\n",
      "Epoch 10/15\n",
      "1943/1944 [============================>.] - ETA: 0s - loss: 0.2731 - acc: 0.8858\n",
      "Epoch 00010: val_acc improved from 0.85877 to 0.86056, saving model to best_model.h5\n",
      "1944/1944 [==============================] - 11s 6ms/step - loss: 0.2731 - acc: 0.8858 - val_loss: 0.3232 - val_acc: 0.8606\n",
      "Epoch 11/15\n",
      "1932/1944 [============================>.] - ETA: 0s - loss: 0.2679 - acc: 0.8885\n",
      "Epoch 00011: val_acc did not improve from 0.86056\n",
      "1944/1944 [==============================] - 10s 5ms/step - loss: 0.2677 - acc: 0.8887 - val_loss: 0.3325 - val_acc: 0.8600\n",
      "Epoch 12/15\n",
      "1934/1944 [============================>.] - ETA: 0s - loss: 0.2620 - acc: 0.8910\n",
      "Epoch 00012: val_acc improved from 0.86056 to 0.86172, saving model to best_model.h5\n",
      "1944/1944 [==============================] - 9s 5ms/step - loss: 0.2622 - acc: 0.8909 - val_loss: 0.3223 - val_acc: 0.8617\n",
      "Epoch 13/15\n",
      "1940/1944 [============================>.] - ETA: 0s - loss: 0.2571 - acc: 0.8937\n",
      "Epoch 00013: val_acc did not improve from 0.86172\n",
      "1944/1944 [==============================] - 10s 5ms/step - loss: 0.2571 - acc: 0.8936 - val_loss: 0.3240 - val_acc: 0.8608\n",
      "Epoch 14/15\n",
      "1936/1944 [============================>.] - ETA: 0s - loss: 0.2513 - acc: 0.8972\n",
      "Epoch 00014: val_acc did not improve from 0.86172\n",
      "1944/1944 [==============================] - 9s 5ms/step - loss: 0.2513 - acc: 0.8972 - val_loss: 0.3309 - val_acc: 0.8588\n",
      "Epoch 15/15\n",
      "1942/1944 [============================>.] - ETA: 0s - loss: 0.2460 - acc: 0.8990\n",
      "Epoch 00015: val_acc did not improve from 0.86172\n",
      "1944/1944 [==============================] - 9s 5ms/step - loss: 0.2460 - acc: 0.8991 - val_loss: 0.3309 - val_acc: 0.8605\n"
     ]
    }
   ],
   "source": [
    "model_longlstm.compile(optimizer='rmsprop', loss='binary_crossentropy', metrics=['acc'])\n",
    "history = model_longlstm.fit(X_train, y_train, epochs=15, callbacks=[es, mc], batch_size=60, validation_split=0.2)\n"
   ]
  },
  {
   "cell_type": "code",
   "execution_count": 88,
   "metadata": {},
   "outputs": [
    {
     "name": "stdout",
     "output_type": "stream",
     "text": [
      "1532/1532 [==============================] - 3s 2ms/step - loss: 0.3259 - acc: 0.8585\n",
      "\n",
      " 테스트 정확도: 0.8585\n"
     ]
    }
   ],
   "source": [
    "loaded_model = load_model('best_model.h5')\n",
    "print(\"\\n 테스트 정확도: %.4f\" % (loaded_model.evaluate(X_test, y_test)[1]))"
   ]
  },
  {
   "cell_type": "markdown",
   "metadata": {},
   "source": [
    "가장 val_acc가 높았던 best_model.h5을 불러오자 85%의 정확도를 보이는것을 확인할 수 있었습니다. \n"
   ]
  },
  {
   "cell_type": "markdown",
   "metadata": {},
   "source": [
    "# 6) Loss, Accuracy 그래프 시각화\n",
    "가장 높은 정확도를 보인 LSTM 128모델은 자체적으로 모델체크등을 하였기때문에 그다음으로 정확도가 높았던      \n",
    "MAX_POOING을 사용한 모델의 LOSS와 ACCURACY 그래프 시각화를 해보겠습니다.\n"
   ]
  },
  {
   "cell_type": "code",
   "execution_count": 122,
   "metadata": {},
   "outputs": [
    {
     "name": "stdout",
     "output_type": "stream",
     "text": [
      "dict_keys(['loss', 'accuracy', 'val_loss', 'val_accuracy'])\n"
     ]
    },
    {
     "data": {
      "image/png": "[encoded data removed]",
      "text/plain": [
       "<Figure size 432x288 with 1 Axes>"
      ]
     },
     "metadata": {
      "needs_background": "light"
     },
     "output_type": "display_data"
    }
   ],
   "source": [
    "history_dict = history.history\n",
    "print(history_dict.keys()) # epoch에 따른 그래프를 그려볼 수 있는 항목들\n",
    "import matplotlib.pyplot as plt\n",
    "\n",
    "acc = history_dict['accuracy']\n",
    "val_acc = history_dict['val_accuracy']\n",
    "loss = history_dict['loss']\n",
    "val_loss = history_dict['val_loss']\n",
    "\n",
    "epochs = range(1, len(acc) + 1)\n",
    "\n",
    "# \"bo\"는 \"파란색 점\"입니다\n",
    "plt.plot(epochs, loss, 'bo', label='Training loss')\n",
    "# b는 \"파란 실선\"입니다\n",
    "plt.plot(epochs, val_loss, 'b', label='Validation loss')\n",
    "plt.title('Training and validation loss')\n",
    "plt.xlabel('Epochs')\n",
    "plt.ylabel('Loss')\n",
    "plt.legend()\n",
    "\n",
    "plt.show()\n"
   ]
  },
  {
   "cell_type": "code",
   "execution_count": 123,
   "metadata": {},
   "outputs": [
    {
     "data": {
      "image/png": "[encoded data removed]",
      "text/plain": [
       "<Figure size 432x288 with 1 Axes>"
      ]
     },
     "metadata": {
      "needs_background": "light"
     },
     "output_type": "display_data"
    }
   ],
   "source": [
    "plt.clf()   # 그림을 초기화합니다\n",
    "\n",
    "plt.plot(epochs, acc, 'bo', label='Training acc')\n",
    "plt.plot(epochs, val_acc, 'b', label='Validation acc')\n",
    "plt.title('Training and validation accuracy')\n",
    "plt.xlabel('Epochs')\n",
    "plt.ylabel('Accuracy')\n",
    "plt.legend()\n",
    "\n",
    "plt.show()\n"
   ]
  },
  {
   "cell_type": "markdown",
   "metadata": {},
   "source": [
    "사실 2번만 진행해도 validation loss나 acc는 큰 변화가 없음을 확인 할 수 있다. "
   ]
  },
  {
   "cell_type": "markdown",
   "metadata": {},
   "source": [
    "# 7 학습된 Embedding 레이어 분석\n"
   ]
  },
  {
   "cell_type": "code",
   "execution_count": 128,
   "metadata": {},
   "outputs": [
    {
     "name": "stdout",
     "output_type": "stream",
     "text": [
      "(10000, 16)\n"
     ]
    }
   ],
   "source": [
    "embedding_layer = model_longlstm.layers[0]\n",
    "weights = embedding_layer.get_weights()[0]\n",
    "print(weights.shape)    # shape: (vocab_size, embedding_dim)\n",
    "import os\n",
    "\n",
    "# 학습한 Embedding 파라미터를 파일에 써서 저장합니다. \n",
    "word2vec_file_path = os.getenv('HOME')+'/aiffel/sentiment_classification/word2vec_naver.txt'\n",
    "f = open(word2vec_file_path, 'w')\n",
    "f.write('{} {}\\n'.format(vocab_size-4, word_vector_dim))  # 몇개의 벡터를 얼마 사이즈로 기재할지 타이틀을 씁니다.\n",
    "\n",
    "# 단어 개수(에서 특수문자 4개는 제외하고)만큼의 워드 벡터를 파일에 기록합니다. \n",
    "vectors = model.get_weights()[0]\n",
    "for i in range(4,vocab_size):\n",
    "    f.write('{} {}\\n'.format(index_to_word[i], ' '.join(map(str, list(vectors[i, :])))))\n",
    "f.close()\n"
   ]
  },
  {
   "cell_type": "code",
   "execution_count": 129,
   "metadata": {},
   "outputs": [
    {
     "data": {
      "text/plain": [
       "array([-0.04139591, -0.01924681,  0.03025118,  0.02896437,  0.02653931,\n",
       "       -0.03389286, -0.0206694 , -0.03940632, -0.04226606,  0.02541547,\n",
       "       -0.00503282,  0.01525543,  0.02793336, -0.03578479,  0.0013651 ,\n",
       "       -0.00198451], dtype=float32)"
      ]
     },
     "execution_count": 129,
     "metadata": {},
     "output_type": "execute_result"
    }
   ],
   "source": [
    "from gensim.models.keyedvectors import Word2VecKeyedVectors\n",
    "\n",
    "word_vectors = Word2VecKeyedVectors.load_word2vec_format(word2vec_file_path, binary=False)\n",
    "vector = word_vectors['스토리']\n",
    "vector\n"
   ]
  },
  {
   "cell_type": "code",
   "execution_count": 130,
   "metadata": {},
   "outputs": [
    {
     "data": {
      "text/plain": [
       "[('카타르시스', 0.7815129160881042),\n",
       " ('근처', 0.772930920124054),\n",
       " ('스러울', 0.7532533407211304),\n",
       " ('쬐끔', 0.7519571185112),\n",
       " ('본방', 0.7321288585662842),\n",
       " ('분만', 0.7316253185272217),\n",
       " ('모자르', 0.7280247211456299),\n",
       " ('누드', 0.7269300818443298),\n",
       " ('깨어나', 0.721443772315979),\n",
       " ('싸구려', 0.7151851654052734)]"
      ]
     },
     "execution_count": 130,
     "metadata": {},
     "output_type": "execute_result"
    }
   ],
   "source": [
    "word_vectors.similar_by_word(\"납치\")\n"
   ]
  },
  {
   "cell_type": "markdown",
   "metadata": {},
   "source": [
    "납치와 카타르시스, 근처가 가까운 단어로 분류됨을 확인할 수 있었다. "
   ]
  },
  {
   "cell_type": "markdown",
   "metadata": {},
   "source": [
    "# 8) 한국어 Word2Vec 임베딩 활용하여 성능개선\n"
   ]
  },
  {
   "cell_type": "markdown",
   "metadata": {},
   "source": [
    "임베딩을 활용해 성능을 개선시켜보겠습니다. "
   ]
  },
  {
   "cell_type": "code",
   "execution_count": 135,
   "metadata": {},
   "outputs": [],
   "source": [
    "import gensim.models\n",
    "word2vec_path = os.getenv('HOME')+'/aiffel/sentiment_classification/ko.bin'\n",
    "word2vec = gensim.models.Word2Vec.load(word2vec_path)\n",
    "\n"
   ]
  },
  {
   "cell_type": "markdown",
   "metadata": {},
   "source": [
    "가져온 임베딩에서 강아지는 고양이, 거위, 토끼, 멧돼지, 엄마 등과 비슷하다고 평가되고 있었습니다."
   ]
  },
  {
   "cell_type": "code",
   "execution_count": 136,
   "metadata": {},
   "outputs": [
    {
     "name": "stdout",
     "output_type": "stream",
     "text": [
      "[('고양이', 0.7290453314781189), ('거위', 0.7185634970664978), ('토끼', 0.7056223750114441), ('멧돼지', 0.6950401067733765), ('엄마', 0.693433403968811), ('난쟁이', 0.6806551218032837), ('한마리', 0.6770296096801758), ('아가씨', 0.675035297870636), ('아빠', 0.6729634404182434), ('목걸이', 0.6512461304664612)]\n"
     ]
    }
   ],
   "source": [
    "result = word2vec.wv.most_similar(\"강아지\")\n",
    "print(result)"
   ]
  },
  {
   "cell_type": "code",
   "execution_count": 137,
   "metadata": {},
   "outputs": [
    {
     "name": "stderr",
     "output_type": "stream",
     "text": [
      "/home/ssac4/anaconda3/envs/aiffel/lib/python3.7/site-packages/ipykernel_launcher.py:8: DeprecationWarning: Call to deprecated `__contains__` (Method will be removed in 4.0.0, use self.wv.__contains__() instead).\n",
      "  \n",
      "/home/ssac4/anaconda3/envs/aiffel/lib/python3.7/site-packages/ipykernel_launcher.py:9: DeprecationWarning: Call to deprecated `__getitem__` (Method will be removed in 4.0.0, use self.wv.__getitem__() instead).\n",
      "  if __name__ == '__main__':\n"
     ]
    }
   ],
   "source": [
    "vocab_size = 10000    # 어휘 사전의 크기입니다(10,000개의 단어)\n",
    "word_vector_dim = 200  # 워드 벡터의 차원수 (변경가능한 하이퍼파라미터)\n",
    "\n",
    "embedding_matrix = np.random.rand(vocab_size, word_vector_dim)\n",
    "\n",
    "# embedding_matrix에 Word2Vec 워드벡터를 단어 하나씩마다 차례차례 카피한다.\n",
    "for i in range(4,vocab_size):\n",
    "    if index_to_word[i] in word2vec:\n",
    "        embedding_matrix[i] = word2vec[index_to_word[i]]"
   ]
  },
  {
   "cell_type": "code",
   "execution_count": 138,
   "metadata": {},
   "outputs": [],
   "source": [
    "from tensorflow.keras.initializers import Constant\n",
    "\n",
    "vocab_size = 10000    # 어휘 사전의 크기입니다(10,000개의 단어)\n",
    "word_vector_dim = 200  # 워드 벡터의 차원수 (변경가능한 하이퍼파라미터)\n",
    "\n"
   ]
  },
  {
   "cell_type": "code",
   "execution_count": null,
   "metadata": {},
   "outputs": [],
   "source": [
    "아까 가장 성능이 좋았던 LSTM128 모델을 임베딩한 것을 통해서 학습시켜보도록하겠습니다. "
   ]
  },
  {
   "cell_type": "code",
   "execution_count": 145,
   "metadata": {},
   "outputs": [
    {
     "name": "stdout",
     "output_type": "stream",
     "text": [
      "Epoch 1/15\n",
      "1941/1944 [============================>.] - ETA: 0s - loss: 0.4482 - acc: 0.7782\n",
      "Epoch 00001: val_acc improved from -inf to 0.83940, saving model to best_model.h5\n",
      "1944/1944 [==============================] - 23s 12ms/step - loss: 0.4481 - acc: 0.7782 - val_loss: 0.3581 - val_acc: 0.8394\n",
      "Epoch 2/15\n",
      "1940/1944 [============================>.] - ETA: 0s - loss: 0.3266 - acc: 0.8573\n",
      "Epoch 00002: val_acc improved from 0.83940 to 0.85257, saving model to best_model.h5\n",
      "1944/1944 [==============================] - 21s 11ms/step - loss: 0.3267 - acc: 0.8573 - val_loss: 0.3341 - val_acc: 0.8526\n",
      "Epoch 3/15\n",
      "1941/1944 [============================>.] - ETA: 0s - loss: 0.2890 - acc: 0.8764\n",
      "Epoch 00003: val_acc improved from 0.85257 to 0.85963, saving model to best_model.h5\n",
      "1944/1944 [==============================] - 21s 11ms/step - loss: 0.2890 - acc: 0.8764 - val_loss: 0.3266 - val_acc: 0.8596\n",
      "Epoch 4/15\n",
      "1940/1944 [============================>.] - ETA: 0s - loss: 0.2586 - acc: 0.8915\n",
      "Epoch 00004: val_acc improved from 0.85963 to 0.86505, saving model to best_model.h5\n",
      "1944/1944 [==============================] - 21s 11ms/step - loss: 0.2585 - acc: 0.8916 - val_loss: 0.3311 - val_acc: 0.8651\n",
      "Epoch 5/15\n",
      "1943/1944 [============================>.] - ETA: 0s - loss: 0.2291 - acc: 0.9061\n",
      "Epoch 00005: val_acc did not improve from 0.86505\n",
      "1944/1944 [==============================] - 19s 10ms/step - loss: 0.2291 - acc: 0.9060 - val_loss: 0.3347 - val_acc: 0.8618\n",
      "Epoch 6/15\n",
      "1941/1944 [============================>.] - ETA: 0s - loss: 0.2012 - acc: 0.9196\n",
      "Epoch 00006: val_acc did not improve from 0.86505\n",
      "1944/1944 [==============================] - 19s 10ms/step - loss: 0.2011 - acc: 0.9196 - val_loss: 0.3531 - val_acc: 0.8616\n",
      "Epoch 7/15\n",
      "1941/1944 [============================>.] - ETA: 0s - loss: 0.1748 - acc: 0.9320\n",
      "Epoch 00007: val_acc did not improve from 0.86505\n",
      "1944/1944 [==============================] - 19s 10ms/step - loss: 0.1748 - acc: 0.9320 - val_loss: 0.3710 - val_acc: 0.8581\n",
      "Epoch 00007: early stopping\n",
      "Model: \"sequential_21\"\n",
      "_________________________________________________________________\n",
      "Layer (type)                 Output Shape              Param #   \n",
      "=================================================================\n",
      "embedding_21 (Embedding)     (None, 36, 200)           2000000   \n",
      "_________________________________________________________________\n",
      "lstm_10 (LSTM)               (None, 128)               168448    \n",
      "_________________________________________________________________\n",
      "dense_35 (Dense)             (None, 1)                 129       \n",
      "=================================================================\n",
      "Total params: 2,168,577\n",
      "Trainable params: 2,168,577\n",
      "Non-trainable params: 0\n",
      "_________________________________________________________________\n"
     ]
    }
   ],
   "source": [
    "# 모델 구성\n",
    "model = Sequential()\n",
    "model.add(Embedding(vocab_size, word_vector_dim, embeddings_initializer=Constant(embedding_matrix),input_length=maxlen,trainable=True))\n",
    "model.add(LSTM(128))\n",
    "model.add(Dense(1, activation='sigmoid'))\n",
    "es = EarlyStopping(monitor='val_loss', mode='min', verbose=1, patience=4)\n",
    "mc = ModelCheckpoint('best_model.h5', monitor='val_acc', mode='max', verbose=1, save_best_only=True)\n",
    "\n",
    "model.compile(optimizer='rmsprop', loss='binary_crossentropy', metrics=['acc'])\n",
    "history = model.fit(X_train, y_train, epochs=15, callbacks=[es, mc], batch_size=60, validation_split=0.2)\n",
    "\n",
    "model.summary()\n"
   ]
  },
  {
   "cell_type": "code",
   "execution_count": 146,
   "metadata": {},
   "outputs": [
    {
     "name": "stdout",
     "output_type": "stream",
     "text": [
      "1532/1532 [==============================] - 3s 2ms/step - loss: 0.3400 - acc: 0.8612\n",
      "\n",
      " 테스트 정확도: 0.8612\n"
     ]
    }
   ],
   "source": [
    "loaded_model = load_model('best_model.h5')\n",
    "print(\"\\n 테스트 정확도: %.4f\" % (loaded_model.evaluate(X_test, y_test)[1]))"
   ]
  },
  {
   "cell_type": "markdown",
   "metadata": {},
   "source": [
    "약 86%의 정확도로 미세하지만 정확도 상승을 확인 할 수 있었습니다.         \n",
    "또한 8번째 에포치에서 ealry stopping이 된것을 확인할 수 있었습니다.\n",
    "아래는 그 시각화입니다."
   ]
  },
  {
   "cell_type": "code",
   "execution_count": 147,
   "metadata": {},
   "outputs": [
    {
     "name": "stdout",
     "output_type": "stream",
     "text": [
      "dict_keys(['loss', 'acc', 'val_loss', 'val_acc'])\n"
     ]
    },
    {
     "data": {
      "image/png": "[encoded data removed]",
      "text/plain": [
       "<Figure size 432x288 with 1 Axes>"
      ]
     },
     "metadata": {
      "needs_background": "light"
     },
     "output_type": "display_data"
    }
   ],
   "source": [
    "history_dict = history.history\n",
    "print(history_dict.keys()) # epoch에 따른 그래프를 그려볼 수 있는 항목들\n",
    "import matplotlib.pyplot as plt\n",
    "\n",
    "acc = history_dict['acc']\n",
    "val_acc = history_dict['val_acc']\n",
    "loss = history_dict['loss']\n",
    "val_loss = history_dict['val_loss']\n",
    "\n",
    "epochs = range(1, len(acc) + 1)\n",
    "\n",
    "# \"bo\"는 \"파란색 점\"입니다\n",
    "plt.plot(epochs, loss, 'bo', label='Training loss')\n",
    "# b는 \"파란 실선\"입니다\n",
    "plt.plot(epochs, val_loss, 'b', label='Validation loss')\n",
    "plt.title('Training and validation loss')\n",
    "plt.xlabel('Epochs')\n",
    "plt.ylabel('Loss')\n",
    "plt.legend()\n",
    "\n",
    "plt.show()\n"
   ]
  },
  {
   "cell_type": "code",
   "execution_count": 143,
   "metadata": {},
   "outputs": [
    {
     "data": {
      "image/png": "[encoded data removed]",
      "text/plain": [
       "<Figure size 432x288 with 1 Axes>"
      ]
     },
     "metadata": {
      "needs_background": "light"
     },
     "output_type": "display_data"
    }
   ],
   "source": [
    "plt.clf()   # 그림을 초기화합니다\n",
    "\n",
    "plt.plot(epochs, acc, 'bo', label='Training acc')\n",
    "plt.plot(epochs, val_acc, 'b', label='Validation acc')\n",
    "plt.title('Training and validation accuracy')\n",
    "plt.xlabel('Epochs')\n",
    "plt.ylabel('Accuracy')\n",
    "plt.legend()\n",
    "\n",
    "plt.show()\n"
   ]
  },
  {
   "cell_type": "code",
   "execution_count": 60,
   "metadata": {},
   "outputs": [
    {
     "name": "stdout",
     "output_type": "stream",
     "text": [
      "Model: \"sequential_7\"\n",
      "_________________________________________________________________\n",
      "Layer (type)                 Output Shape              Param #   \n",
      "=================================================================\n",
      "embedding_7 (Embedding)      (None, 36, 200)           2000000   \n",
      "_________________________________________________________________\n",
      "global_max_pooling1d_6 (Glob (None, 200)               0         \n",
      "_________________________________________________________________\n",
      "dense_12 (Dense)             (None, 8)                 1608      \n",
      "_________________________________________________________________\n",
      "dense_13 (Dense)             (None, 1)                 9         \n",
      "=================================================================\n",
      "Total params: 2,001,617\n",
      "Trainable params: 2,001,617\n",
      "Non-trainable params: 0\n",
      "_________________________________________________________________\n"
     ]
    }
   ],
   "source": [
    "# model = keras.Sequential()\n",
    "# model.add(keras.layers.Embedding(vocab_size, \n",
    "#                                  word_vector_dim, \n",
    "#                                  embeddings_initializer=Constant(embedding_matrix),  # 카피한 임베딩을 여기서 활용\n",
    "#                                  input_length=maxlen, \n",
    "#                                  trainable=True))  \n",
    "# model.add(keras.layers.GlobalMaxPooling1D())\n",
    "# model.add(keras.layers.Dense(8, activation='relu'))\n",
    "# model.add(keras.layers.Dense(1, activation='sigmoid'))  # 최종 출력은 긍정/부정을 나타내는 1dim 입니다.\n",
    "\n",
    "# model.summary()"
   ]
  },
  {
   "cell_type": "code",
   "execution_count": 65,
   "metadata": {},
   "outputs": [
    {
     "name": "stdout",
     "output_type": "stream",
     "text": [
      "Epoch 1/10\n",
      "200/200 [==============================] - 4s 22ms/step - loss: 0.4230 - accuracy: 0.8055 - val_loss: 0.4512 - val_accuracy: 0.7882\n",
      "Epoch 2/10\n",
      "200/200 [==============================] - 5s 24ms/step - loss: 0.4028 - accuracy: 0.8179 - val_loss: 0.4400 - val_accuracy: 0.7958\n",
      "Epoch 3/10\n",
      "200/200 [==============================] - 5s 24ms/step - loss: 0.3846 - accuracy: 0.8278 - val_loss: 0.4341 - val_accuracy: 0.8009\n",
      "Epoch 4/10\n",
      "200/200 [==============================] - 5s 24ms/step - loss: 0.3695 - accuracy: 0.8355 - val_loss: 0.4265 - val_accuracy: 0.8050\n",
      "Epoch 5/10\n",
      "200/200 [==============================] - 5s 23ms/step - loss: 0.3548 - accuracy: 0.8442 - val_loss: 0.4254 - val_accuracy: 0.8079\n",
      "Epoch 6/10\n",
      "200/200 [==============================] - 5s 23ms/step - loss: 0.3410 - accuracy: 0.8529 - val_loss: 0.4220 - val_accuracy: 0.8113\n",
      "Epoch 7/10\n",
      "200/200 [==============================] - 5s 23ms/step - loss: 0.3302 - accuracy: 0.8571 - val_loss: 0.4174 - val_accuracy: 0.8141\n",
      "Epoch 8/10\n",
      "200/200 [==============================] - 5s 23ms/step - loss: 0.3174 - accuracy: 0.8650 - val_loss: 0.4165 - val_accuracy: 0.8153\n",
      "Epoch 9/10\n",
      "200/200 [==============================] - 5s 23ms/step - loss: 0.3049 - accuracy: 0.8720 - val_loss: 0.4162 - val_accuracy: 0.8163\n",
      "Epoch 10/10\n",
      "200/200 [==============================] - 5s 23ms/step - loss: 0.2938 - accuracy: 0.8774 - val_loss: 0.4192 - val_accuracy: 0.8169\n",
      "1532/1532 - 2s - loss: 0.4185 - accuracy: 0.8169\n",
      "[0.41845569014549255, 0.8168588876724243]\n"
     ]
    }
   ],
   "source": [
    "# # 학습의 진행\n",
    "# model.compile(optimizer='adam',\n",
    "#               loss='binary_crossentropy',\n",
    "#               metrics=['accuracy'])\n",
    "              \n",
    "# epochs=10  # 몇 epoch를 훈련하면 좋을지 결과를 보면서 바꾸어 봅시다. \n",
    "\n",
    "# history = model.fit(partial_x_train,\n",
    "#                     partial_y_train,\n",
    "#                     epochs=epochs,\n",
    "#                     batch_size=512,\n",
    "#                     validation_data=(x_val, y_val),\n",
    "#                     verbose=1)\n",
    "# # 테스트셋을 통한 모델 평가\n",
    "# results = model.evaluate(X_test,  y_test, verbose=2)\n",
    "\n",
    "# print(results)\n"
   ]
  },
  {
   "cell_type": "code",
   "execution_count": 66,
   "metadata": {},
   "outputs": [
    {
     "name": "stdout",
     "output_type": "stream",
     "text": [
      "1532/1532 - 2s - loss: 0.4185 - accuracy: 0.8169\n",
      "[0.41845569014549255, 0.8168588876724243]\n"
     ]
    }
   ],
   "source": [
    "# results = model.evaluate(X_test,  y_test, verbose=2)\n",
    "\n",
    "# print(results)\n"
   ]
  },
  {
   "cell_type": "code",
   "execution_count": 67,
   "metadata": {},
   "outputs": [
    {
     "name": "stdout",
     "output_type": "stream",
     "text": [
      "dict_keys(['loss', 'accuracy', 'val_loss', 'val_accuracy'])\n"
     ]
    },
    {
     "data": {
      "image/png": "[encoded data removed]",
      "text/plain": [
       "<Figure size 432x288 with 1 Axes>"
      ]
     },
     "metadata": {
      "needs_background": "light"
     },
     "output_type": "display_data"
    }
   ],
   "source": [
    "# history_dict = history.history\n",
    "# print(history_dict.keys()) # epoch에 따른 그래프를 그려볼 수 있는 항목들\n",
    "# import matplotlib.pyplot as plt\n",
    "\n",
    "# acc = history_dict['accuracy']\n",
    "# val_acc = history_dict['val_accuracy']\n",
    "# loss = history_dict['loss']\n",
    "# val_loss = history_dict['val_loss']\n",
    "\n",
    "# epochs = range(1, len(acc) + 1)\n",
    "\n",
    "# # \"bo\"는 \"파란색 점\"입니다\n",
    "# plt.plot(epochs, loss, 'bo', label='Training loss')\n",
    "# # b는 \"파란 실선\"입니다\n",
    "# plt.plot(epochs, val_loss, 'b', label='Validation loss')\n",
    "# plt.title('Training and validation loss')\n",
    "# plt.xlabel('Epochs')\n",
    "# plt.ylabel('Loss')\n",
    "# plt.legend()\n",
    "\n",
    "# plt.show()\n"
   ]
  },
  {
   "cell_type": "code",
   "execution_count": 68,
   "metadata": {},
   "outputs": [
    {
     "data": {
      "image/png": "[encoded data removed]",
      "text/plain": [
       "<Figure size 432x288 with 1 Axes>"
      ]
     },
     "metadata": {
      "needs_background": "light"
     },
     "output_type": "display_data"
    }
   ],
   "source": [
    "# plt.clf()   # 그림을 초기화합니다\n",
    "\n",
    "# plt.plot(epochs, acc, 'bo', label='Training acc')\n",
    "# plt.plot(epochs, val_acc, 'b', label='Validation acc')\n",
    "# plt.title('Training and validation accuracy')\n",
    "# plt.xlabel('Epochs')\n",
    "# plt.ylabel('Accuracy')\n",
    "# plt.legend()\n",
    "\n",
    "# plt.show()\n"
   ]
  },
  {
   "cell_type": "code",
   "execution_count": 69,
   "metadata": {},
   "outputs": [],
   "source": [
    "# from tensorflow.keras.layers import Embedding, Dense, LSTM\n",
    "# from tensorflow.keras.models import Sequential\n",
    "# from tensorflow.keras.models import load_model\n",
    "# from tensorflow.keras.callbacks import EarlyStopping, ModelCheckpoint"
   ]
  },
  {
   "cell_type": "code",
   "execution_count": 70,
   "metadata": {},
   "outputs": [],
   "source": [
    "# model = Sequential()\n",
    "# model.add(Embedding(vocab_size, 100))\n",
    "# model.add(LSTM(128))\n",
    "# model.add(Dense(1, activation='sigmoid'))\n",
    "\n"
   ]
  },
  {
   "cell_type": "code",
   "execution_count": 71,
   "metadata": {},
   "outputs": [],
   "source": [
    "# es = EarlyStopping(monitor='val_loss', mode='min', verbose=1, patience=4)\n",
    "# mc = ModelCheckpoint('best_model.h5', monitor='val_acc', mode='max', verbose=1, save_best_only=True)"
   ]
  },
  {
   "cell_type": "code",
   "execution_count": 72,
   "metadata": {},
   "outputs": [
    {
     "name": "stdout",
     "output_type": "stream",
     "text": [
      "Epoch 1/15\n",
      "1943/1944 [============================>.] - ETA: 0s - loss: 0.4122 - acc: 0.8125\n",
      "Epoch 00001: val_acc improved from -inf to 0.84139, saving model to best_model.h5\n",
      "1944/1944 [==============================] - 12s 6ms/step - loss: 0.4122 - acc: 0.8125 - val_loss: 0.3835 - val_acc: 0.8414\n",
      "Epoch 2/15\n",
      "1937/1944 [============================>.] - ETA: 0s - loss: 0.3395 - acc: 0.8534\n",
      "Epoch 00002: val_acc improved from 0.84139 to 0.85198, saving model to best_model.h5\n",
      "1944/1944 [==============================] - 12s 6ms/step - loss: 0.3395 - acc: 0.8534 - val_loss: 0.3519 - val_acc: 0.8520\n",
      "Epoch 3/15\n",
      "1943/1944 [============================>.] - ETA: 0s - loss: 0.3139 - acc: 0.8652\n",
      "Epoch 00003: val_acc improved from 0.85198 to 0.85788, saving model to best_model.h5\n",
      "1944/1944 [==============================] - 12s 6ms/step - loss: 0.3139 - acc: 0.8652 - val_loss: 0.3311 - val_acc: 0.8579\n",
      "Epoch 4/15\n",
      "1937/1944 [============================>.] - ETA: 0s - loss: 0.2965 - acc: 0.8751\n",
      "Epoch 00004: val_acc did not improve from 0.85788\n",
      "1944/1944 [==============================] - 12s 6ms/step - loss: 0.2966 - acc: 0.8750 - val_loss: 0.3267 - val_acc: 0.8574\n",
      "Epoch 5/15\n",
      "1938/1944 [============================>.] - ETA: 0s - loss: 0.2838 - acc: 0.8809\n",
      "Epoch 00005: val_acc improved from 0.85788 to 0.86227, saving model to best_model.h5\n",
      "1944/1944 [==============================] - 12s 6ms/step - loss: 0.2838 - acc: 0.8810 - val_loss: 0.3206 - val_acc: 0.8623\n",
      "Epoch 6/15\n",
      "1943/1944 [============================>.] - ETA: 0s - loss: 0.2721 - acc: 0.8874\n",
      "Epoch 00006: val_acc did not improve from 0.86227\n",
      "1944/1944 [==============================] - 12s 6ms/step - loss: 0.2721 - acc: 0.8874 - val_loss: 0.3292 - val_acc: 0.8602\n",
      "Epoch 7/15\n",
      "1939/1944 [============================>.] - ETA: 0s - loss: 0.2607 - acc: 0.8929\n",
      "Epoch 00007: val_acc improved from 0.86227 to 0.86279, saving model to best_model.h5\n",
      "1944/1944 [==============================] - 12s 6ms/step - loss: 0.2608 - acc: 0.8929 - val_loss: 0.3197 - val_acc: 0.8628\n",
      "Epoch 8/15\n",
      "1941/1944 [============================>.] - ETA: 0s - loss: 0.2494 - acc: 0.8977\n",
      "Epoch 00008: val_acc did not improve from 0.86279\n",
      "1944/1944 [==============================] - 12s 6ms/step - loss: 0.2494 - acc: 0.8978 - val_loss: 0.3370 - val_acc: 0.8593\n",
      "Epoch 9/15\n",
      "1938/1944 [============================>.] - ETA: 0s - loss: 0.2386 - acc: 0.9037\n",
      "Epoch 00009: val_acc did not improve from 0.86279\n",
      "1944/1944 [==============================] - 12s 6ms/step - loss: 0.2387 - acc: 0.9036 - val_loss: 0.3364 - val_acc: 0.8523\n",
      "Epoch 10/15\n",
      "1936/1944 [============================>.] - ETA: 0s - loss: 0.2266 - acc: 0.9090\n",
      "Epoch 00010: val_acc did not improve from 0.86279\n",
      "1944/1944 [==============================] - 12s 6ms/step - loss: 0.2265 - acc: 0.9091 - val_loss: 0.3405 - val_acc: 0.8566\n",
      "Epoch 11/15\n",
      "1940/1944 [============================>.] - ETA: 0s - loss: 0.2143 - acc: 0.9154\n",
      "Epoch 00011: val_acc did not improve from 0.86279\n",
      "1944/1944 [==============================] - 12s 6ms/step - loss: 0.2145 - acc: 0.9153 - val_loss: 0.3528 - val_acc: 0.8580\n",
      "Epoch 00011: early stopping\n"
     ]
    }
   ],
   "source": [
    "# model.compile(optimizer='rmsprop', loss='binary_crossentropy', metrics=['acc'])\n",
    "# history = model.fit(X_train, y_train, epochs=15, callbacks=[es, mc], batch_size=60, validation_split=0.2)\n"
   ]
  },
  {
   "cell_type": "code",
   "execution_count": 73,
   "metadata": {},
   "outputs": [
    {
     "name": "stdout",
     "output_type": "stream",
     "text": [
      "1532/1532 [==============================] - 3s 2ms/step - loss: 0.3234 - acc: 0.8608\n",
      "\n",
      " 테스트 정확도: 0.8608\n"
     ]
    }
   ],
   "source": [
    "# loaded_model = load_model('best_model.h5')\n",
    "# print(\"\\n 테스트 정확도: %.4f\" % (loaded_model.evaluate(X_test, y_test)[1]))"
   ]
  },
  {
   "cell_type": "code",
   "execution_count": null,
   "metadata": {},
   "outputs": [],
   "source": []
  },
  {
   "cell_type": "code",
   "execution_count": 76,
   "metadata": {},
   "outputs": [
    {
     "name": "stdout",
     "output_type": "stream",
     "text": [
      "dict_keys(['loss', 'acc', 'val_loss', 'val_acc'])\n"
     ]
    },
    {
     "data": {
      "image/png": "[encoded data removed]",
      "text/plain": [
       "<Figure size 432x288 with 1 Axes>"
      ]
     },
     "metadata": {
      "needs_background": "light"
     },
     "output_type": "display_data"
    }
   ],
   "source": [
    "# # history_dict = history.history\n",
    "# print(history_dict.keys()) # epoch에 따른 그래프를 그려볼 수 있는 항목들\n",
    "# import matplotlib.pyplot as plt\n",
    "\n",
    "# acc = history_dict['acc']\n",
    "# val_acc = history_dict['val_acc']\n",
    "# loss = history_dict['loss']\n",
    "# val_loss = history_dict['val_loss']\n",
    "\n",
    "# epochs = range(1, len(acc) + 1)\n",
    "\n",
    "# # \"bo\"는 \"파란색 점\"입니다\n",
    "# plt.plot(epochs, loss, 'bo', label='Training loss')\n",
    "# # b는 \"파란 실선\"입니다\n",
    "# plt.plot(epochs, val_loss, 'b', label='Validation loss')\n",
    "# plt.title('Training and validation loss')\n",
    "# plt.xlabel('Epochs')\n",
    "# plt.ylabel('Loss')\n",
    "# plt.legend()\n",
    "\n",
    "# plt.show()\n"
   ]
  },
  {
   "cell_type": "code",
   "execution_count": 77,
   "metadata": {},
   "outputs": [
    {
     "data": {
      "image/png": "[encoded data removed]",
      "text/plain": [
       "<Figure size 432x288 with 1 Axes>"
      ]
     },
     "metadata": {
      "needs_background": "light"
     },
     "output_type": "display_data"
    }
   ],
   "source": [
    "# plt.clf()   # 그림을 초기화합니다\n",
    "\n",
    "# plt.plot(epochs, acc, 'bo', label='Training acc')\n",
    "# plt.plot(epochs, val_acc, 'b', label='Validation acc')\n",
    "# plt.title('Training and validation accuracy')\n",
    "# plt.xlabel('Epochs')\n",
    "# plt.ylabel('Accuracy')\n",
    "# plt.legend()\n",
    "\n",
    "# plt.show()\n"
   ]
  }
 ],
 "metadata": {
  "kernelspec": {
   "display_name": "aiffel",
   "language": "python",
   "name": "aiffel"
  },
  "language_info": {
   "codemirror_mode": {
    "name": "ipython",
    "version": 3
   },
   "file_extension": ".py",
   "mimetype": "text/x-python",
   "name": "python",
   "nbconvert_exporter": "python",
   "pygments_lexer": "ipython3",
   "version": "3.7.9"
  }
 },
 "nbformat": 4,
 "nbformat_minor": 4
}
