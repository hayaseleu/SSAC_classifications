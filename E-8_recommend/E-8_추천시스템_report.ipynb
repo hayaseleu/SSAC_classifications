{
 "cells": [
  {
   "cell_type": "markdown",
   "metadata": {},
   "source": [
    "# 8-9. 프로젝트 - Movielens 영화 추천 실습\n",
    "\n",
    "\n",
    "추천의 MNIST라고 부를만한 Movielens 데이터\n",
    "\n",
    "\n",
    "* 유저가 영화에 대해 평점을 매긴 데이터가 데이터 크기 별로 있습니다. MovieLens 1M Dataset 사용을 권장합니다.\n",
    "* 별점 데이터는 대표적인 explicit 데이터입니다. 하지만 implicit 데이터로 간주하고 테스트해볼 수 있습니다.\n",
    "* 별점을 시청횟수로 해석해서 생각하겠습니다.\n",
    "* 또한 유저가 3점 미만으로 준 데이터는 선호하지 않는다고 가정하고 제외하겠습니다."
   ]
  },
  {
   "cell_type": "markdown",
   "metadata": {},
   "source": [
    "## 데이터 준비와 전처리\n",
    "\n",
    "데이터를 다운로드받고 준비한 경로로 옮겨주고 압출을 풉니다.\n",
    "\n",
    "``` terminal\n",
    "wget http://files.grouplens.org/datasets/movielens/ml-1m.zip\n",
    "mv ml-1m.zip ~/aiffel/recommendata_iu/data\n",
    "cd ~/aiffel/recommendata_iu/data\n",
    "unzip ml-1m.zip\n",
    "```"
   ]
  },
  {
   "cell_type": "code",
   "execution_count": 2,
   "metadata": {},
   "outputs": [
    {
     "data": {
      "text/html": [
       "<div>\n",
       "<style scoped>\n",
       "    .dataframe tbody tr th:only-of-type {\n",
       "        vertical-align: middle;\n",
       "    }\n",
       "\n",
       "    .dataframe tbody tr th {\n",
       "        vertical-align: top;\n",
       "    }\n",
       "\n",
       "    .dataframe thead th {\n",
       "        text-align: right;\n",
       "    }\n",
       "</style>\n",
       "<table border=\"1\" class=\"dataframe\">\n",
       "  <thead>\n",
       "    <tr style=\"text-align: right;\">\n",
       "      <th></th>\n",
       "      <th>user_id</th>\n",
       "      <th>movie_id</th>\n",
       "      <th>rating</th>\n",
       "      <th>timestamp</th>\n",
       "    </tr>\n",
       "  </thead>\n",
       "  <tbody>\n",
       "    <tr>\n",
       "      <th>0</th>\n",
       "      <td>1</td>\n",
       "      <td>1193</td>\n",
       "      <td>5</td>\n",
       "      <td>978300760</td>\n",
       "    </tr>\n",
       "    <tr>\n",
       "      <th>1</th>\n",
       "      <td>1</td>\n",
       "      <td>661</td>\n",
       "      <td>3</td>\n",
       "      <td>978302109</td>\n",
       "    </tr>\n",
       "    <tr>\n",
       "      <th>2</th>\n",
       "      <td>1</td>\n",
       "      <td>914</td>\n",
       "      <td>3</td>\n",
       "      <td>978301968</td>\n",
       "    </tr>\n",
       "    <tr>\n",
       "      <th>3</th>\n",
       "      <td>1</td>\n",
       "      <td>3408</td>\n",
       "      <td>4</td>\n",
       "      <td>978300275</td>\n",
       "    </tr>\n",
       "    <tr>\n",
       "      <th>4</th>\n",
       "      <td>1</td>\n",
       "      <td>2355</td>\n",
       "      <td>5</td>\n",
       "      <td>978824291</td>\n",
       "    </tr>\n",
       "  </tbody>\n",
       "</table>\n",
       "</div>"
      ],
      "text/plain": [
       "   user_id  movie_id  rating  timestamp\n",
       "0        1      1193       5  978300760\n",
       "1        1       661       3  978302109\n",
       "2        1       914       3  978301968\n",
       "3        1      3408       4  978300275\n",
       "4        1      2355       5  978824291"
      ]
     },
     "execution_count": 2,
     "metadata": {},
     "output_type": "execute_result"
    }
   ],
   "source": [
    "#데이터 불로오기 \n",
    "import pandas as pd\n",
    "import os\n",
    "rating_file_path=os.getenv('HOME') + '/aiffel/recommendata_iu/data/ml-1m/ratings.dat'\n",
    "ratings_cols = ['user_id', 'movie_id', 'rating', 'timestamp']\n",
    "ratings = pd.read_csv(rating_file_path, sep='::', names=ratings_cols, engine='python')\n",
    "orginal_data_size = len(ratings)\n",
    "ratings.head()\n"
   ]
  },
  {
   "cell_type": "code",
   "execution_count": 3,
   "metadata": {},
   "outputs": [
    {
     "name": "stdout",
     "output_type": "stream",
     "text": [
      "orginal_data_size: 1000209, filtered_data_size: 836478\n",
      "Ratio of Remaining Data is 83.63%\n"
     ]
    }
   ],
   "source": [
    "# 3점 이상만 남기기\n",
    "ratings = ratings[ratings['rating']>=3]\n",
    "filtered_data_size = len(ratings)\n",
    "\n",
    "print(f'orginal_data_size: {orginal_data_size}, filtered_data_size: {filtered_data_size}')\n",
    "print(f'Ratio of Remaining Data is {filtered_data_size / orginal_data_size:.2%}')"
   ]
  },
  {
   "cell_type": "code",
   "execution_count": 4,
   "metadata": {},
   "outputs": [
    {
     "data": {
      "text/plain": [
       "0          5\n",
       "1          3\n",
       "2          3\n",
       "3          4\n",
       "4          5\n",
       "          ..\n",
       "1000203    3\n",
       "1000205    5\n",
       "1000206    5\n",
       "1000207    4\n",
       "1000208    4\n",
       "Name: count, Length: 836478, dtype: int64"
      ]
     },
     "execution_count": 4,
     "metadata": {},
     "output_type": "execute_result"
    }
   ],
   "source": [
    "# rating 컬럼의 이름을 count로 바꿉니다.\n",
    "ratings.rename(columns={'rating':'count'}, inplace=True)\n",
    "# 변경된 내용 확인 \n",
    "ratings['count']"
   ]
  },
  {
   "cell_type": "markdown",
   "metadata": {},
   "source": [
    "timestamp는 우리 추천시스템에서 그다지 의미가 없으니 제외합니다."
   ]
  },
  {
   "cell_type": "code",
   "execution_count": 5,
   "metadata": {},
   "outputs": [
    {
     "data": {
      "text/html": [
       "<div>\n",
       "<style scoped>\n",
       "    .dataframe tbody tr th:only-of-type {\n",
       "        vertical-align: middle;\n",
       "    }\n",
       "\n",
       "    .dataframe tbody tr th {\n",
       "        vertical-align: top;\n",
       "    }\n",
       "\n",
       "    .dataframe thead th {\n",
       "        text-align: right;\n",
       "    }\n",
       "</style>\n",
       "<table border=\"1\" class=\"dataframe\">\n",
       "  <thead>\n",
       "    <tr style=\"text-align: right;\">\n",
       "      <th></th>\n",
       "      <th>user_id</th>\n",
       "      <th>movie_id</th>\n",
       "      <th>count</th>\n",
       "    </tr>\n",
       "  </thead>\n",
       "  <tbody>\n",
       "    <tr>\n",
       "      <th>1000203</th>\n",
       "      <td>6040</td>\n",
       "      <td>1090</td>\n",
       "      <td>3</td>\n",
       "    </tr>\n",
       "    <tr>\n",
       "      <th>1000205</th>\n",
       "      <td>6040</td>\n",
       "      <td>1094</td>\n",
       "      <td>5</td>\n",
       "    </tr>\n",
       "    <tr>\n",
       "      <th>1000206</th>\n",
       "      <td>6040</td>\n",
       "      <td>562</td>\n",
       "      <td>5</td>\n",
       "    </tr>\n",
       "    <tr>\n",
       "      <th>1000207</th>\n",
       "      <td>6040</td>\n",
       "      <td>1096</td>\n",
       "      <td>4</td>\n",
       "    </tr>\n",
       "    <tr>\n",
       "      <th>1000208</th>\n",
       "      <td>6040</td>\n",
       "      <td>1097</td>\n",
       "      <td>4</td>\n",
       "    </tr>\n",
       "  </tbody>\n",
       "</table>\n",
       "</div>"
      ],
      "text/plain": [
       "         user_id  movie_id  count\n",
       "1000203     6040      1090      3\n",
       "1000205     6040      1094      5\n",
       "1000206     6040       562      5\n",
       "1000207     6040      1096      4\n",
       "1000208     6040      1097      4"
      ]
     },
     "execution_count": 5,
     "metadata": {},
     "output_type": "execute_result"
    }
   ],
   "source": [
    "ratings = ratings[['user_id','movie_id','count']]\n",
    "ratings.tail()"
   ]
  },
  {
   "cell_type": "code",
   "execution_count": 6,
   "metadata": {
    "scrolled": true
   },
   "outputs": [
    {
     "data": {
      "text/html": [
       "<div>\n",
       "<style scoped>\n",
       "    .dataframe tbody tr th:only-of-type {\n",
       "        vertical-align: middle;\n",
       "    }\n",
       "\n",
       "    .dataframe tbody tr th {\n",
       "        vertical-align: top;\n",
       "    }\n",
       "\n",
       "    .dataframe thead th {\n",
       "        text-align: right;\n",
       "    }\n",
       "</style>\n",
       "<table border=\"1\" class=\"dataframe\">\n",
       "  <thead>\n",
       "    <tr style=\"text-align: right;\">\n",
       "      <th></th>\n",
       "      <th>movie_id</th>\n",
       "      <th>title</th>\n",
       "      <th>genre</th>\n",
       "    </tr>\n",
       "  </thead>\n",
       "  <tbody>\n",
       "    <tr>\n",
       "      <th>3878</th>\n",
       "      <td>3948</td>\n",
       "      <td>Meet the Parents (2000)</td>\n",
       "      <td>Comedy</td>\n",
       "    </tr>\n",
       "    <tr>\n",
       "      <th>3879</th>\n",
       "      <td>3949</td>\n",
       "      <td>Requiem for a Dream (2000)</td>\n",
       "      <td>Drama</td>\n",
       "    </tr>\n",
       "    <tr>\n",
       "      <th>3880</th>\n",
       "      <td>3950</td>\n",
       "      <td>Tigerland (2000)</td>\n",
       "      <td>Drama</td>\n",
       "    </tr>\n",
       "    <tr>\n",
       "      <th>3881</th>\n",
       "      <td>3951</td>\n",
       "      <td>Two Family House (2000)</td>\n",
       "      <td>Drama</td>\n",
       "    </tr>\n",
       "    <tr>\n",
       "      <th>3882</th>\n",
       "      <td>3952</td>\n",
       "      <td>Contender, The (2000)</td>\n",
       "      <td>Drama|Thriller</td>\n",
       "    </tr>\n",
       "  </tbody>\n",
       "</table>\n",
       "</div>"
      ],
      "text/plain": [
       "      movie_id                       title           genre\n",
       "3878      3948     Meet the Parents (2000)          Comedy\n",
       "3879      3949  Requiem for a Dream (2000)           Drama\n",
       "3880      3950            Tigerland (2000)           Drama\n",
       "3881      3951     Two Family House (2000)           Drama\n",
       "3882      3952       Contender, The (2000)  Drama|Thriller"
      ]
     },
     "execution_count": 6,
     "metadata": {},
     "output_type": "execute_result"
    }
   ],
   "source": [
    "# 영화 제목을 보기 위해 메타 데이터를 로딩 \n",
    "movie_file_path=os.getenv('HOME') + '/aiffel/recommendata_iu/data/ml-1m/movies.dat'\n",
    "cols = ['movie_id', 'title', 'genre'] \n",
    "movies = pd.read_csv(movie_file_path, sep='::', names=cols, engine='python')\n",
    "movies.head()\n",
    "movies.tail()"
   ]
  },
  {
   "cell_type": "markdown",
   "metadata": {},
   "source": [
    "데이터를 불러왔으니 한번 살펴보도록 하겠습니다."
   ]
  },
  {
   "cell_type": "markdown",
   "metadata": {},
   "source": [
    "## 데이터 분석\n",
    "ratings에 있는 유니크한 영화 개수         \n",
    "rating에 있는 유니크한 사용자 수                  \n",
    "가장 인기 있는 영화 30개(인기순)               "
   ]
  },
  {
   "cell_type": "code",
   "execution_count": 7,
   "metadata": {},
   "outputs": [
    {
     "name": "stdout",
     "output_type": "stream",
     "text": [
      "user_id : 0\n",
      "movie_id : 0\n",
      "count : 0\n"
     ]
    }
   ],
   "source": [
    "for c in ratings.columns:\n",
    "    print('{} : {}'.format(c, len(ratings.loc[pd.isnull(ratings[c]), c].values)))"
   ]
  },
  {
   "cell_type": "code",
   "execution_count": 8,
   "metadata": {},
   "outputs": [
    {
     "name": "stdout",
     "output_type": "stream",
     "text": [
      "movie_id : 0\n",
      "title : 0\n",
      "genre : 0\n"
     ]
    }
   ],
   "source": [
    "for c in movies.columns:\n",
    "    print('{} : {}'.format(c, len(movies.loc[pd.isnull(movies[c]), c].values)))"
   ]
  },
  {
   "cell_type": "markdown",
   "metadata": {},
   "source": [
    "일단 missing value는 없는것으로 확인하였습니다."
   ]
  },
  {
   "cell_type": "code",
   "execution_count": 9,
   "metadata": {},
   "outputs": [
    {
     "data": {
      "text/plain": [
       "(6039, 3628, 3883)"
      ]
     },
     "execution_count": 9,
     "metadata": {},
     "output_type": "execute_result"
    }
   ],
   "source": [
    "ratings['user_id'].nunique(),ratings['movie_id'].nunique(),movies['movie_id'].nunique()"
   ]
  },
  {
   "cell_type": "markdown",
   "metadata": {},
   "source": [
    "유니크한 user_id는 6039 만큼 있으며 유니크한 영화는 3628개 만큼있습니다.      \n",
    "moveis에는 더 많은 3883 만큼의 movie_id가 있는데 ratings에는 평점 3점미만의  \n",
    "영화를 삭제했기 때문에 차이가 있는것같습니다."
   ]
  },
  {
   "cell_type": "code",
   "execution_count": 10,
   "metadata": {},
   "outputs": [
    {
     "data": {
      "text/plain": [
       "movie_id\n",
       "1214     8244\n",
       "2716     8282\n",
       "1        8475\n",
       "1240     8571\n",
       "356      8679\n",
       "1097     8696\n",
       "1265     8727\n",
       "2997     8964\n",
       "296      9053\n",
       "1580     9057\n",
       "2396     9503\n",
       "1617     9515\n",
       "480      9601\n",
       "1197     9866\n",
       "858      9965\n",
       "1270    10081\n",
       "318     10085\n",
       "110     10125\n",
       "527     10317\n",
       "608     10465\n",
       "589     10513\n",
       "2762    10703\n",
       "2571    10903\n",
       "593     11096\n",
       "1198    11179\n",
       "1210    11303\n",
       "2028    11348\n",
       "1196    12648\n",
       "260     13178\n",
       "2858    14449\n",
       "Name: count, dtype: int64"
      ]
     },
     "execution_count": 10,
     "metadata": {},
     "output_type": "execute_result"
    }
   ],
   "source": [
    "a = ratings.groupby(by = \"movie_id\")[\"count\"].sum().sort_values().tail(30)\n",
    "a"
   ]
  },
  {
   "cell_type": "markdown",
   "metadata": {},
   "source": [
    "가장 movie_id별로 가장 count의 합이 큰 영화 목록입니다."
   ]
  },
  {
   "cell_type": "code",
   "execution_count": 11,
   "metadata": {},
   "outputs": [
    {
     "data": {
      "text/plain": [
       "{1214: 8244,\n",
       " 2716: 8282,\n",
       " 1: 8475,\n",
       " 1240: 8571,\n",
       " 356: 8679,\n",
       " 1097: 8696,\n",
       " 1265: 8727,\n",
       " 2997: 8964,\n",
       " 296: 9053,\n",
       " 1580: 9057,\n",
       " 2396: 9503,\n",
       " 1617: 9515,\n",
       " 480: 9601,\n",
       " 1197: 9866,\n",
       " 858: 9965,\n",
       " 1270: 10081,\n",
       " 318: 10085,\n",
       " 110: 10125,\n",
       " 527: 10317,\n",
       " 608: 10465,\n",
       " 589: 10513,\n",
       " 2762: 10703,\n",
       " 2571: 10903,\n",
       " 593: 11096,\n",
       " 1198: 11179,\n",
       " 1210: 11303,\n",
       " 2028: 11348,\n",
       " 1196: 12648,\n",
       " 260: 13178,\n",
       " 2858: 14449}"
      ]
     },
     "execution_count": 11,
     "metadata": {},
     "output_type": "execute_result"
    }
   ],
   "source": [
    "most_pop_id_count = a.to_dict()\n",
    "most_pop_id_count"
   ]
  },
  {
   "cell_type": "code",
   "execution_count": 12,
   "metadata": {},
   "outputs": [
    {
     "name": "stdout",
     "output_type": "stream",
     "text": [
      "[1214, 2716, 1, 1240, 356, 1097, 1265, 2997, 296, 1580, 2396, 1617, 480, 1197, 858, 1270, 318, 110, 527, 608, 589, 2762, 2571, 593, 1198, 1210, 2028, 1196, 260, 2858]\n"
     ]
    }
   ],
   "source": [
    "most_pop_movie_id = []\n",
    "for k in most_pop_id_count.keys():\n",
    "    most_pop_movie_id.append(k)\n",
    "\n",
    "print(most_pop_movie_id)"
   ]
  },
  {
   "cell_type": "markdown",
   "metadata": {},
   "source": [
    "dict 꼴로 만들었다가 인기작 movie_id만 뽑아내고 movies에서 그 move_id만       \n",
    "뽑아냈습니다."
   ]
  },
  {
   "cell_type": "code",
   "execution_count": 13,
   "metadata": {
    "scrolled": false
   },
   "outputs": [
    {
     "data": {
      "text/html": [
       "<div>\n",
       "<style scoped>\n",
       "    .dataframe tbody tr th:only-of-type {\n",
       "        vertical-align: middle;\n",
       "    }\n",
       "\n",
       "    .dataframe tbody tr th {\n",
       "        vertical-align: top;\n",
       "    }\n",
       "\n",
       "    .dataframe thead th {\n",
       "        text-align: right;\n",
       "    }\n",
       "</style>\n",
       "<table border=\"1\" class=\"dataframe\">\n",
       "  <thead>\n",
       "    <tr style=\"text-align: right;\">\n",
       "      <th></th>\n",
       "      <th>user_id</th>\n",
       "      <th>movie_id</th>\n",
       "      <th>count</th>\n",
       "      <th>title</th>\n",
       "      <th>genre</th>\n",
       "    </tr>\n",
       "  </thead>\n",
       "  <tbody>\n",
       "    <tr>\n",
       "      <th>0</th>\n",
       "      <td>1</td>\n",
       "      <td>1193</td>\n",
       "      <td>5</td>\n",
       "      <td>One Flew Over the Cuckoo's Nest (1975)</td>\n",
       "      <td>Drama</td>\n",
       "    </tr>\n",
       "    <tr>\n",
       "      <th>1</th>\n",
       "      <td>1</td>\n",
       "      <td>661</td>\n",
       "      <td>3</td>\n",
       "      <td>James and the Giant Peach (1996)</td>\n",
       "      <td>Animation|Children's|Musical</td>\n",
       "    </tr>\n",
       "    <tr>\n",
       "      <th>2</th>\n",
       "      <td>1</td>\n",
       "      <td>914</td>\n",
       "      <td>3</td>\n",
       "      <td>My Fair Lady (1964)</td>\n",
       "      <td>Musical|Romance</td>\n",
       "    </tr>\n",
       "    <tr>\n",
       "      <th>3</th>\n",
       "      <td>1</td>\n",
       "      <td>3408</td>\n",
       "      <td>4</td>\n",
       "      <td>Erin Brockovich (2000)</td>\n",
       "      <td>Drama</td>\n",
       "    </tr>\n",
       "    <tr>\n",
       "      <th>4</th>\n",
       "      <td>1</td>\n",
       "      <td>2355</td>\n",
       "      <td>5</td>\n",
       "      <td>Bug's Life, A (1998)</td>\n",
       "      <td>Animation|Children's|Comedy</td>\n",
       "    </tr>\n",
       "    <tr>\n",
       "      <th>...</th>\n",
       "      <td>...</td>\n",
       "      <td>...</td>\n",
       "      <td>...</td>\n",
       "      <td>...</td>\n",
       "      <td>...</td>\n",
       "    </tr>\n",
       "    <tr>\n",
       "      <th>836473</th>\n",
       "      <td>6040</td>\n",
       "      <td>1090</td>\n",
       "      <td>3</td>\n",
       "      <td>Platoon (1986)</td>\n",
       "      <td>Drama|War</td>\n",
       "    </tr>\n",
       "    <tr>\n",
       "      <th>836474</th>\n",
       "      <td>6040</td>\n",
       "      <td>1094</td>\n",
       "      <td>5</td>\n",
       "      <td>Crying Game, The (1992)</td>\n",
       "      <td>Drama|Romance|War</td>\n",
       "    </tr>\n",
       "    <tr>\n",
       "      <th>836475</th>\n",
       "      <td>6040</td>\n",
       "      <td>562</td>\n",
       "      <td>5</td>\n",
       "      <td>Welcome to the Dollhouse (1995)</td>\n",
       "      <td>Comedy|Drama</td>\n",
       "    </tr>\n",
       "    <tr>\n",
       "      <th>836476</th>\n",
       "      <td>6040</td>\n",
       "      <td>1096</td>\n",
       "      <td>4</td>\n",
       "      <td>Sophie's Choice (1982)</td>\n",
       "      <td>Drama</td>\n",
       "    </tr>\n",
       "    <tr>\n",
       "      <th>836477</th>\n",
       "      <td>6040</td>\n",
       "      <td>1097</td>\n",
       "      <td>4</td>\n",
       "      <td>E.T. the Extra-Terrestrial (1982)</td>\n",
       "      <td>Children's|Drama|Fantasy|Sci-Fi</td>\n",
       "    </tr>\n",
       "  </tbody>\n",
       "</table>\n",
       "<p>836478 rows × 5 columns</p>\n",
       "</div>"
      ],
      "text/plain": [
       "        user_id  movie_id  count                                   title  \\\n",
       "0             1      1193      5  One Flew Over the Cuckoo's Nest (1975)   \n",
       "1             1       661      3        James and the Giant Peach (1996)   \n",
       "2             1       914      3                     My Fair Lady (1964)   \n",
       "3             1      3408      4                  Erin Brockovich (2000)   \n",
       "4             1      2355      5                    Bug's Life, A (1998)   \n",
       "...         ...       ...    ...                                     ...   \n",
       "836473     6040      1090      3                          Platoon (1986)   \n",
       "836474     6040      1094      5                 Crying Game, The (1992)   \n",
       "836475     6040       562      5         Welcome to the Dollhouse (1995)   \n",
       "836476     6040      1096      4                  Sophie's Choice (1982)   \n",
       "836477     6040      1097      4       E.T. the Extra-Terrestrial (1982)   \n",
       "\n",
       "                                  genre  \n",
       "0                                 Drama  \n",
       "1          Animation|Children's|Musical  \n",
       "2                       Musical|Romance  \n",
       "3                                 Drama  \n",
       "4           Animation|Children's|Comedy  \n",
       "...                                 ...  \n",
       "836473                        Drama|War  \n",
       "836474                Drama|Romance|War  \n",
       "836475                     Comedy|Drama  \n",
       "836476                            Drama  \n",
       "836477  Children's|Drama|Fantasy|Sci-Fi  \n",
       "\n",
       "[836478 rows x 5 columns]"
      ]
     },
     "execution_count": 13,
     "metadata": {},
     "output_type": "execute_result"
    }
   ],
   "source": [
    "merged_movie = pd.merge(ratings,movies,how= 'left', on = 'movie_id')\n",
    "merged_movie"
   ]
  },
  {
   "cell_type": "markdown",
   "metadata": {},
   "source": [
    "하다가 그냥 통합해서 해도 될꺼같아서 merge를 해보았습니다.       \n",
    "movies에는 ratings에는 없는 영화가 있어서 left 방식으로 merge 했습니다."
   ]
  },
  {
   "cell_type": "code",
   "execution_count": 14,
   "metadata": {},
   "outputs": [
    {
     "data": {
      "text/plain": [
       "movie_id  title                                                \n",
       "1214      Alien (1979)                                              8244\n",
       "2716      Ghostbusters (1984)                                       8282\n",
       "1         Toy Story (1995)                                          8475\n",
       "1240      Terminator, The (1984)                                    8571\n",
       "356       Forrest Gump (1994)                                       8679\n",
       "1097      E.T. the Extra-Terrestrial (1982)                         8696\n",
       "1265      Groundhog Day (1993)                                      8727\n",
       "2997      Being John Malkovich (1999)                               8964\n",
       "296       Pulp Fiction (1994)                                       9053\n",
       "1580      Men in Black (1997)                                       9057\n",
       "2396      Shakespeare in Love (1998)                                9503\n",
       "1617      L.A. Confidential (1997)                                  9515\n",
       "480       Jurassic Park (1993)                                      9601\n",
       "1197      Princess Bride, The (1987)                                9866\n",
       "858       Godfather, The (1972)                                     9965\n",
       "1270      Back to the Future (1985)                                10081\n",
       "318       Shawshank Redemption, The (1994)                         10085\n",
       "110       Braveheart (1995)                                        10125\n",
       "527       Schindler's List (1993)                                  10317\n",
       "608       Fargo (1996)                                             10465\n",
       "589       Terminator 2: Judgment Day (1991)                        10513\n",
       "2762      Sixth Sense, The (1999)                                  10703\n",
       "2571      Matrix, The (1999)                                       10903\n",
       "593       Silence of the Lambs, The (1991)                         11096\n",
       "1198      Raiders of the Lost Ark (1981)                           11179\n",
       "1210      Star Wars: Episode VI - Return of the Jedi (1983)        11303\n",
       "2028      Saving Private Ryan (1998)                               11348\n",
       "1196      Star Wars: Episode V - The Empire Strikes Back (1980)    12648\n",
       "260       Star Wars: Episode IV - A New Hope (1977)                13178\n",
       "2858      American Beauty (1999)                                   14449\n",
       "Name: count, dtype: int64"
      ]
     },
     "execution_count": 14,
     "metadata": {},
     "output_type": "execute_result"
    }
   ],
   "source": [
    "merged_movie.groupby(by = [\"movie_id\",\"title\"])[\"count\"].sum().sort_values().tail(30)"
   ]
  },
  {
   "cell_type": "markdown",
   "metadata": {},
   "source": [
    "American Beauty가 가장 인기있는 영화였습니다. 그다음은 스타워즈 시리즈가 있었습니다."
   ]
  },
  {
   "cell_type": "code",
   "execution_count": 15,
   "metadata": {},
   "outputs": [
    {
     "data": {
      "text/html": [
       "<div>\n",
       "<style scoped>\n",
       "    .dataframe tbody tr th:only-of-type {\n",
       "        vertical-align: middle;\n",
       "    }\n",
       "\n",
       "    .dataframe tbody tr th {\n",
       "        vertical-align: top;\n",
       "    }\n",
       "\n",
       "    .dataframe thead th {\n",
       "        text-align: right;\n",
       "    }\n",
       "</style>\n",
       "<table border=\"1\" class=\"dataframe\">\n",
       "  <thead>\n",
       "    <tr style=\"text-align: right;\">\n",
       "      <th></th>\n",
       "      <th>movie_id</th>\n",
       "      <th>title</th>\n",
       "      <th>genre</th>\n",
       "    </tr>\n",
       "  </thead>\n",
       "  <tbody>\n",
       "    <tr>\n",
       "      <th>0</th>\n",
       "      <td>1</td>\n",
       "      <td>Toy Story (1995)</td>\n",
       "      <td>Animation|Children's|Comedy</td>\n",
       "    </tr>\n",
       "    <tr>\n",
       "      <th>108</th>\n",
       "      <td>110</td>\n",
       "      <td>Braveheart (1995)</td>\n",
       "      <td>Action|Drama|War</td>\n",
       "    </tr>\n",
       "    <tr>\n",
       "      <th>257</th>\n",
       "      <td>260</td>\n",
       "      <td>Star Wars: Episode IV - A New Hope (1977)</td>\n",
       "      <td>Action|Adventure|Fantasy|Sci-Fi</td>\n",
       "    </tr>\n",
       "    <tr>\n",
       "      <th>293</th>\n",
       "      <td>296</td>\n",
       "      <td>Pulp Fiction (1994)</td>\n",
       "      <td>Crime|Drama</td>\n",
       "    </tr>\n",
       "    <tr>\n",
       "      <th>315</th>\n",
       "      <td>318</td>\n",
       "      <td>Shawshank Redemption, The (1994)</td>\n",
       "      <td>Drama</td>\n",
       "    </tr>\n",
       "    <tr>\n",
       "      <th>352</th>\n",
       "      <td>356</td>\n",
       "      <td>Forrest Gump (1994)</td>\n",
       "      <td>Comedy|Romance|War</td>\n",
       "    </tr>\n",
       "    <tr>\n",
       "      <th>476</th>\n",
       "      <td>480</td>\n",
       "      <td>Jurassic Park (1993)</td>\n",
       "      <td>Action|Adventure|Sci-Fi</td>\n",
       "    </tr>\n",
       "    <tr>\n",
       "      <th>523</th>\n",
       "      <td>527</td>\n",
       "      <td>Schindler's List (1993)</td>\n",
       "      <td>Drama|War</td>\n",
       "    </tr>\n",
       "    <tr>\n",
       "      <th>585</th>\n",
       "      <td>589</td>\n",
       "      <td>Terminator 2: Judgment Day (1991)</td>\n",
       "      <td>Action|Sci-Fi|Thriller</td>\n",
       "    </tr>\n",
       "    <tr>\n",
       "      <th>589</th>\n",
       "      <td>593</td>\n",
       "      <td>Silence of the Lambs, The (1991)</td>\n",
       "      <td>Drama|Thriller</td>\n",
       "    </tr>\n",
       "    <tr>\n",
       "      <th>604</th>\n",
       "      <td>608</td>\n",
       "      <td>Fargo (1996)</td>\n",
       "      <td>Crime|Drama|Thriller</td>\n",
       "    </tr>\n",
       "    <tr>\n",
       "      <th>847</th>\n",
       "      <td>858</td>\n",
       "      <td>Godfather, The (1972)</td>\n",
       "      <td>Action|Crime|Drama</td>\n",
       "    </tr>\n",
       "    <tr>\n",
       "      <th>1081</th>\n",
       "      <td>1097</td>\n",
       "      <td>E.T. the Extra-Terrestrial (1982)</td>\n",
       "      <td>Children's|Drama|Fantasy|Sci-Fi</td>\n",
       "    </tr>\n",
       "    <tr>\n",
       "      <th>1178</th>\n",
       "      <td>1196</td>\n",
       "      <td>Star Wars: Episode V - The Empire Strikes Back...</td>\n",
       "      <td>Action|Adventure|Drama|Sci-Fi|War</td>\n",
       "    </tr>\n",
       "    <tr>\n",
       "      <th>1179</th>\n",
       "      <td>1197</td>\n",
       "      <td>Princess Bride, The (1987)</td>\n",
       "      <td>Action|Adventure|Comedy|Romance</td>\n",
       "    </tr>\n",
       "    <tr>\n",
       "      <th>1180</th>\n",
       "      <td>1198</td>\n",
       "      <td>Raiders of the Lost Ark (1981)</td>\n",
       "      <td>Action|Adventure</td>\n",
       "    </tr>\n",
       "    <tr>\n",
       "      <th>1192</th>\n",
       "      <td>1210</td>\n",
       "      <td>Star Wars: Episode VI - Return of the Jedi (1983)</td>\n",
       "      <td>Action|Adventure|Romance|Sci-Fi|War</td>\n",
       "    </tr>\n",
       "    <tr>\n",
       "      <th>1196</th>\n",
       "      <td>1214</td>\n",
       "      <td>Alien (1979)</td>\n",
       "      <td>Action|Horror|Sci-Fi|Thriller</td>\n",
       "    </tr>\n",
       "    <tr>\n",
       "      <th>1220</th>\n",
       "      <td>1240</td>\n",
       "      <td>Terminator, The (1984)</td>\n",
       "      <td>Action|Sci-Fi|Thriller</td>\n",
       "    </tr>\n",
       "    <tr>\n",
       "      <th>1245</th>\n",
       "      <td>1265</td>\n",
       "      <td>Groundhog Day (1993)</td>\n",
       "      <td>Comedy|Romance</td>\n",
       "    </tr>\n",
       "    <tr>\n",
       "      <th>1250</th>\n",
       "      <td>1270</td>\n",
       "      <td>Back to the Future (1985)</td>\n",
       "      <td>Comedy|Sci-Fi</td>\n",
       "    </tr>\n",
       "    <tr>\n",
       "      <th>1539</th>\n",
       "      <td>1580</td>\n",
       "      <td>Men in Black (1997)</td>\n",
       "      <td>Action|Adventure|Comedy|Sci-Fi</td>\n",
       "    </tr>\n",
       "    <tr>\n",
       "      <th>1575</th>\n",
       "      <td>1617</td>\n",
       "      <td>L.A. Confidential (1997)</td>\n",
       "      <td>Crime|Film-Noir|Mystery|Thriller</td>\n",
       "    </tr>\n",
       "    <tr>\n",
       "      <th>1959</th>\n",
       "      <td>2028</td>\n",
       "      <td>Saving Private Ryan (1998)</td>\n",
       "      <td>Action|Drama|War</td>\n",
       "    </tr>\n",
       "    <tr>\n",
       "      <th>2327</th>\n",
       "      <td>2396</td>\n",
       "      <td>Shakespeare in Love (1998)</td>\n",
       "      <td>Comedy|Romance</td>\n",
       "    </tr>\n",
       "    <tr>\n",
       "      <th>2502</th>\n",
       "      <td>2571</td>\n",
       "      <td>Matrix, The (1999)</td>\n",
       "      <td>Action|Sci-Fi|Thriller</td>\n",
       "    </tr>\n",
       "    <tr>\n",
       "      <th>2647</th>\n",
       "      <td>2716</td>\n",
       "      <td>Ghostbusters (1984)</td>\n",
       "      <td>Comedy|Horror</td>\n",
       "    </tr>\n",
       "    <tr>\n",
       "      <th>2693</th>\n",
       "      <td>2762</td>\n",
       "      <td>Sixth Sense, The (1999)</td>\n",
       "      <td>Thriller</td>\n",
       "    </tr>\n",
       "    <tr>\n",
       "      <th>2789</th>\n",
       "      <td>2858</td>\n",
       "      <td>American Beauty (1999)</td>\n",
       "      <td>Comedy|Drama</td>\n",
       "    </tr>\n",
       "    <tr>\n",
       "      <th>2928</th>\n",
       "      <td>2997</td>\n",
       "      <td>Being John Malkovich (1999)</td>\n",
       "      <td>Comedy</td>\n",
       "    </tr>\n",
       "  </tbody>\n",
       "</table>\n",
       "</div>"
      ],
      "text/plain": [
       "      movie_id                                              title  \\\n",
       "0            1                                   Toy Story (1995)   \n",
       "108        110                                  Braveheart (1995)   \n",
       "257        260          Star Wars: Episode IV - A New Hope (1977)   \n",
       "293        296                                Pulp Fiction (1994)   \n",
       "315        318                   Shawshank Redemption, The (1994)   \n",
       "352        356                                Forrest Gump (1994)   \n",
       "476        480                               Jurassic Park (1993)   \n",
       "523        527                            Schindler's List (1993)   \n",
       "585        589                  Terminator 2: Judgment Day (1991)   \n",
       "589        593                   Silence of the Lambs, The (1991)   \n",
       "604        608                                       Fargo (1996)   \n",
       "847        858                              Godfather, The (1972)   \n",
       "1081      1097                  E.T. the Extra-Terrestrial (1982)   \n",
       "1178      1196  Star Wars: Episode V - The Empire Strikes Back...   \n",
       "1179      1197                         Princess Bride, The (1987)   \n",
       "1180      1198                     Raiders of the Lost Ark (1981)   \n",
       "1192      1210  Star Wars: Episode VI - Return of the Jedi (1983)   \n",
       "1196      1214                                       Alien (1979)   \n",
       "1220      1240                             Terminator, The (1984)   \n",
       "1245      1265                               Groundhog Day (1993)   \n",
       "1250      1270                          Back to the Future (1985)   \n",
       "1539      1580                                Men in Black (1997)   \n",
       "1575      1617                           L.A. Confidential (1997)   \n",
       "1959      2028                         Saving Private Ryan (1998)   \n",
       "2327      2396                         Shakespeare in Love (1998)   \n",
       "2502      2571                                 Matrix, The (1999)   \n",
       "2647      2716                                Ghostbusters (1984)   \n",
       "2693      2762                            Sixth Sense, The (1999)   \n",
       "2789      2858                             American Beauty (1999)   \n",
       "2928      2997                        Being John Malkovich (1999)   \n",
       "\n",
       "                                    genre  \n",
       "0             Animation|Children's|Comedy  \n",
       "108                      Action|Drama|War  \n",
       "257       Action|Adventure|Fantasy|Sci-Fi  \n",
       "293                           Crime|Drama  \n",
       "315                                 Drama  \n",
       "352                    Comedy|Romance|War  \n",
       "476               Action|Adventure|Sci-Fi  \n",
       "523                             Drama|War  \n",
       "585                Action|Sci-Fi|Thriller  \n",
       "589                        Drama|Thriller  \n",
       "604                  Crime|Drama|Thriller  \n",
       "847                    Action|Crime|Drama  \n",
       "1081      Children's|Drama|Fantasy|Sci-Fi  \n",
       "1178    Action|Adventure|Drama|Sci-Fi|War  \n",
       "1179      Action|Adventure|Comedy|Romance  \n",
       "1180                     Action|Adventure  \n",
       "1192  Action|Adventure|Romance|Sci-Fi|War  \n",
       "1196        Action|Horror|Sci-Fi|Thriller  \n",
       "1220               Action|Sci-Fi|Thriller  \n",
       "1245                       Comedy|Romance  \n",
       "1250                        Comedy|Sci-Fi  \n",
       "1539       Action|Adventure|Comedy|Sci-Fi  \n",
       "1575     Crime|Film-Noir|Mystery|Thriller  \n",
       "1959                     Action|Drama|War  \n",
       "2327                       Comedy|Romance  \n",
       "2502               Action|Sci-Fi|Thriller  \n",
       "2647                        Comedy|Horror  \n",
       "2693                             Thriller  \n",
       "2789                         Comedy|Drama  \n",
       "2928                               Comedy  "
      ]
     },
     "execution_count": 15,
     "metadata": {},
     "output_type": "execute_result"
    }
   ],
   "source": [
    "movies[movies['movie_id'].isin(most_pop_movie_id)]"
   ]
  },
  {
   "cell_type": "markdown",
   "metadata": {},
   "source": [
    "그결과로 movies에서도 뽑아서 인기영화를 30개만 뽑아보았습니다.(주의: 인기순아님)"
   ]
  },
  {
   "cell_type": "markdown",
   "metadata": {},
   "source": [
    "## 제가 선호하는 영화 추가\n",
    "\n"
   ]
  },
  {
   "cell_type": "code",
   "execution_count": 16,
   "metadata": {},
   "outputs": [
    {
     "name": "stdout",
     "output_type": "stream",
     "text": [
      "[   1  110  318  480 2028]\n"
     ]
    }
   ],
   "source": [
    "# 주라기공원, 브레이브하트,토이스토리,쇼생크 탈출,  라이언 일병 구하기를 골랐습니다. \n",
    "my_favorite = ['Jurassic Park (1993)' , 'Braveheart (1995)' ,'Toy Story (1995)' ,'Shawshank Redemption, The (1994)' ,'Saving Private Ryan (1998)']\n",
    "\n",
    "a = movies[movies['title'].isin(my_favorite)]['movie_id'].values\n",
    "print(a)"
   ]
  },
  {
   "cell_type": "code",
   "execution_count": 17,
   "metadata": {},
   "outputs": [
    {
     "name": "stdout",
     "output_type": "stream",
     "text": [
      "<class 'pandas.core.frame.DataFrame'>\n"
     ]
    },
    {
     "data": {
      "text/html": [
       "<div>\n",
       "<style scoped>\n",
       "    .dataframe tbody tr th:only-of-type {\n",
       "        vertical-align: middle;\n",
       "    }\n",
       "\n",
       "    .dataframe tbody tr th {\n",
       "        vertical-align: top;\n",
       "    }\n",
       "\n",
       "    .dataframe thead th {\n",
       "        text-align: right;\n",
       "    }\n",
       "</style>\n",
       "<table border=\"1\" class=\"dataframe\">\n",
       "  <thead>\n",
       "    <tr style=\"text-align: right;\">\n",
       "      <th></th>\n",
       "      <th>user_id</th>\n",
       "      <th>movie_id</th>\n",
       "      <th>count</th>\n",
       "    </tr>\n",
       "  </thead>\n",
       "  <tbody>\n",
       "    <tr>\n",
       "      <th>0</th>\n",
       "      <td>1</td>\n",
       "      <td>1193</td>\n",
       "      <td>5</td>\n",
       "    </tr>\n",
       "    <tr>\n",
       "      <th>1</th>\n",
       "      <td>1</td>\n",
       "      <td>661</td>\n",
       "      <td>3</td>\n",
       "    </tr>\n",
       "    <tr>\n",
       "      <th>2</th>\n",
       "      <td>1</td>\n",
       "      <td>914</td>\n",
       "      <td>3</td>\n",
       "    </tr>\n",
       "    <tr>\n",
       "      <th>3</th>\n",
       "      <td>1</td>\n",
       "      <td>3408</td>\n",
       "      <td>4</td>\n",
       "    </tr>\n",
       "    <tr>\n",
       "      <th>4</th>\n",
       "      <td>1</td>\n",
       "      <td>2355</td>\n",
       "      <td>5</td>\n",
       "    </tr>\n",
       "  </tbody>\n",
       "</table>\n",
       "</div>"
      ],
      "text/plain": [
       "   user_id  movie_id  count\n",
       "0        1      1193      5\n",
       "1        1       661      3\n",
       "2        1       914      3\n",
       "3        1      3408      4\n",
       "4        1      2355      5"
      ]
     },
     "execution_count": 17,
     "metadata": {},
     "output_type": "execute_result"
    }
   ],
   "source": [
    "print(type(ratings))\n",
    "\n",
    "ratings.head()"
   ]
  },
  {
   "cell_type": "markdown",
   "metadata": {},
   "source": [
    "저는 hayaseleu라는 user_id를 가지고 제가 위에서 고른 영화를 5count씩봤다고 합시다. "
   ]
  },
  {
   "cell_type": "code",
   "execution_count": 18,
   "metadata": {},
   "outputs": [
    {
     "data": {
      "text/html": [
       "<div>\n",
       "<style scoped>\n",
       "    .dataframe tbody tr th:only-of-type {\n",
       "        vertical-align: middle;\n",
       "    }\n",
       "\n",
       "    .dataframe tbody tr th {\n",
       "        vertical-align: top;\n",
       "    }\n",
       "\n",
       "    .dataframe thead th {\n",
       "        text-align: right;\n",
       "    }\n",
       "</style>\n",
       "<table border=\"1\" class=\"dataframe\">\n",
       "  <thead>\n",
       "    <tr style=\"text-align: right;\">\n",
       "      <th></th>\n",
       "      <th>user_id</th>\n",
       "      <th>movie_id</th>\n",
       "      <th>count</th>\n",
       "    </tr>\n",
       "  </thead>\n",
       "  <tbody>\n",
       "    <tr>\n",
       "      <th>0</th>\n",
       "      <td>1</td>\n",
       "      <td>1193</td>\n",
       "      <td>5</td>\n",
       "    </tr>\n",
       "    <tr>\n",
       "      <th>1</th>\n",
       "      <td>1</td>\n",
       "      <td>661</td>\n",
       "      <td>3</td>\n",
       "    </tr>\n",
       "    <tr>\n",
       "      <th>2</th>\n",
       "      <td>1</td>\n",
       "      <td>914</td>\n",
       "      <td>3</td>\n",
       "    </tr>\n",
       "    <tr>\n",
       "      <th>3</th>\n",
       "      <td>1</td>\n",
       "      <td>3408</td>\n",
       "      <td>4</td>\n",
       "    </tr>\n",
       "    <tr>\n",
       "      <th>4</th>\n",
       "      <td>1</td>\n",
       "      <td>2355</td>\n",
       "      <td>5</td>\n",
       "    </tr>\n",
       "    <tr>\n",
       "      <th>5</th>\n",
       "      <td>1</td>\n",
       "      <td>1197</td>\n",
       "      <td>3</td>\n",
       "    </tr>\n",
       "    <tr>\n",
       "      <th>6</th>\n",
       "      <td>1</td>\n",
       "      <td>1287</td>\n",
       "      <td>5</td>\n",
       "    </tr>\n",
       "    <tr>\n",
       "      <th>7</th>\n",
       "      <td>1</td>\n",
       "      <td>2804</td>\n",
       "      <td>5</td>\n",
       "    </tr>\n",
       "    <tr>\n",
       "      <th>8</th>\n",
       "      <td>1</td>\n",
       "      <td>594</td>\n",
       "      <td>4</td>\n",
       "    </tr>\n",
       "    <tr>\n",
       "      <th>9</th>\n",
       "      <td>1</td>\n",
       "      <td>919</td>\n",
       "      <td>4</td>\n",
       "    </tr>\n",
       "  </tbody>\n",
       "</table>\n",
       "</div>"
      ],
      "text/plain": [
       "  user_id  movie_id  count\n",
       "0       1      1193      5\n",
       "1       1       661      3\n",
       "2       1       914      3\n",
       "3       1      3408      4\n",
       "4       1      2355      5\n",
       "5       1      1197      3\n",
       "6       1      1287      5\n",
       "7       1      2804      5\n",
       "8       1       594      4\n",
       "9       1       919      4"
      ]
     },
     "execution_count": 18,
     "metadata": {},
     "output_type": "execute_result"
    }
   ],
   "source": [
    "# 'hayaseleu'이라는 user_id이고 위 영화를 5점씩 들었다고 가정하겠습니다.\n",
    "my_playlist = pd.DataFrame({'user_id': ['hayaseleu']*5, 'movie_id': a, 'count':[5]*5})\n",
    "\n",
    "if not ratings.isin({'user_id':['hayaseleu']})['user_id'].any():  # user_id에 'hayaseleu'이라는 데이터가 없다면\n",
    "    ratings = ratings.append(my_playlist)                           # 위에 임의로 만든 my_playlist 데이터를 추가해 줍니다. \n",
    "\n",
    "ratings.head(10)"
   ]
  },
  {
   "cell_type": "code",
   "execution_count": 19,
   "metadata": {},
   "outputs": [
    {
     "data": {
      "text/html": [
       "<div>\n",
       "<style scoped>\n",
       "    .dataframe tbody tr th:only-of-type {\n",
       "        vertical-align: middle;\n",
       "    }\n",
       "\n",
       "    .dataframe tbody tr th {\n",
       "        vertical-align: top;\n",
       "    }\n",
       "\n",
       "    .dataframe thead th {\n",
       "        text-align: right;\n",
       "    }\n",
       "</style>\n",
       "<table border=\"1\" class=\"dataframe\">\n",
       "  <thead>\n",
       "    <tr style=\"text-align: right;\">\n",
       "      <th></th>\n",
       "      <th>user_id</th>\n",
       "      <th>movie_id</th>\n",
       "      <th>count</th>\n",
       "    </tr>\n",
       "  </thead>\n",
       "  <tbody>\n",
       "    <tr>\n",
       "      <th>1000203</th>\n",
       "      <td>6040</td>\n",
       "      <td>1090</td>\n",
       "      <td>3</td>\n",
       "    </tr>\n",
       "    <tr>\n",
       "      <th>1000205</th>\n",
       "      <td>6040</td>\n",
       "      <td>1094</td>\n",
       "      <td>5</td>\n",
       "    </tr>\n",
       "    <tr>\n",
       "      <th>1000206</th>\n",
       "      <td>6040</td>\n",
       "      <td>562</td>\n",
       "      <td>5</td>\n",
       "    </tr>\n",
       "    <tr>\n",
       "      <th>1000207</th>\n",
       "      <td>6040</td>\n",
       "      <td>1096</td>\n",
       "      <td>4</td>\n",
       "    </tr>\n",
       "    <tr>\n",
       "      <th>1000208</th>\n",
       "      <td>6040</td>\n",
       "      <td>1097</td>\n",
       "      <td>4</td>\n",
       "    </tr>\n",
       "    <tr>\n",
       "      <th>0</th>\n",
       "      <td>hayaseleu</td>\n",
       "      <td>1</td>\n",
       "      <td>5</td>\n",
       "    </tr>\n",
       "    <tr>\n",
       "      <th>1</th>\n",
       "      <td>hayaseleu</td>\n",
       "      <td>110</td>\n",
       "      <td>5</td>\n",
       "    </tr>\n",
       "    <tr>\n",
       "      <th>2</th>\n",
       "      <td>hayaseleu</td>\n",
       "      <td>318</td>\n",
       "      <td>5</td>\n",
       "    </tr>\n",
       "    <tr>\n",
       "      <th>3</th>\n",
       "      <td>hayaseleu</td>\n",
       "      <td>480</td>\n",
       "      <td>5</td>\n",
       "    </tr>\n",
       "    <tr>\n",
       "      <th>4</th>\n",
       "      <td>hayaseleu</td>\n",
       "      <td>2028</td>\n",
       "      <td>5</td>\n",
       "    </tr>\n",
       "  </tbody>\n",
       "</table>\n",
       "</div>"
      ],
      "text/plain": [
       "           user_id  movie_id  count\n",
       "1000203       6040      1090      3\n",
       "1000205       6040      1094      5\n",
       "1000206       6040       562      5\n",
       "1000207       6040      1096      4\n",
       "1000208       6040      1097      4\n",
       "0        hayaseleu         1      5\n",
       "1        hayaseleu       110      5\n",
       "2        hayaseleu       318      5\n",
       "3        hayaseleu       480      5\n",
       "4        hayaseleu      2028      5"
      ]
     },
     "execution_count": 19,
     "metadata": {},
     "output_type": "execute_result"
    }
   ],
   "source": [
    "ratings.tail(10)       # 잘 추가되었는지 확인해 봅시다."
   ]
  },
  {
   "cell_type": "code",
   "execution_count": 20,
   "metadata": {},
   "outputs": [
    {
     "data": {
      "text/html": [
       "<div>\n",
       "<style scoped>\n",
       "    .dataframe tbody tr th:only-of-type {\n",
       "        vertical-align: middle;\n",
       "    }\n",
       "\n",
       "    .dataframe tbody tr th {\n",
       "        vertical-align: top;\n",
       "    }\n",
       "\n",
       "    .dataframe thead th {\n",
       "        text-align: right;\n",
       "    }\n",
       "</style>\n",
       "<table border=\"1\" class=\"dataframe\">\n",
       "  <thead>\n",
       "    <tr style=\"text-align: right;\">\n",
       "      <th></th>\n",
       "      <th>user_id</th>\n",
       "      <th>movie_id</th>\n",
       "      <th>count</th>\n",
       "      <th>title</th>\n",
       "      <th>genre</th>\n",
       "    </tr>\n",
       "  </thead>\n",
       "  <tbody>\n",
       "    <tr>\n",
       "      <th>0</th>\n",
       "      <td>1</td>\n",
       "      <td>1193</td>\n",
       "      <td>5</td>\n",
       "      <td>One Flew Over the Cuckoo's Nest (1975)</td>\n",
       "      <td>Drama</td>\n",
       "    </tr>\n",
       "    <tr>\n",
       "      <th>1</th>\n",
       "      <td>1</td>\n",
       "      <td>661</td>\n",
       "      <td>3</td>\n",
       "      <td>James and the Giant Peach (1996)</td>\n",
       "      <td>Animation|Children's|Musical</td>\n",
       "    </tr>\n",
       "    <tr>\n",
       "      <th>2</th>\n",
       "      <td>1</td>\n",
       "      <td>914</td>\n",
       "      <td>3</td>\n",
       "      <td>My Fair Lady (1964)</td>\n",
       "      <td>Musical|Romance</td>\n",
       "    </tr>\n",
       "    <tr>\n",
       "      <th>3</th>\n",
       "      <td>1</td>\n",
       "      <td>3408</td>\n",
       "      <td>4</td>\n",
       "      <td>Erin Brockovich (2000)</td>\n",
       "      <td>Drama</td>\n",
       "    </tr>\n",
       "    <tr>\n",
       "      <th>4</th>\n",
       "      <td>1</td>\n",
       "      <td>2355</td>\n",
       "      <td>5</td>\n",
       "      <td>Bug's Life, A (1998)</td>\n",
       "      <td>Animation|Children's|Comedy</td>\n",
       "    </tr>\n",
       "    <tr>\n",
       "      <th>...</th>\n",
       "      <td>...</td>\n",
       "      <td>...</td>\n",
       "      <td>...</td>\n",
       "      <td>...</td>\n",
       "      <td>...</td>\n",
       "    </tr>\n",
       "    <tr>\n",
       "      <th>836478</th>\n",
       "      <td>hayaseleu</td>\n",
       "      <td>1</td>\n",
       "      <td>5</td>\n",
       "      <td>Toy Story (1995)</td>\n",
       "      <td>Animation|Children's|Comedy</td>\n",
       "    </tr>\n",
       "    <tr>\n",
       "      <th>836479</th>\n",
       "      <td>hayaseleu</td>\n",
       "      <td>110</td>\n",
       "      <td>5</td>\n",
       "      <td>Braveheart (1995)</td>\n",
       "      <td>Action|Drama|War</td>\n",
       "    </tr>\n",
       "    <tr>\n",
       "      <th>836480</th>\n",
       "      <td>hayaseleu</td>\n",
       "      <td>318</td>\n",
       "      <td>5</td>\n",
       "      <td>Shawshank Redemption, The (1994)</td>\n",
       "      <td>Drama</td>\n",
       "    </tr>\n",
       "    <tr>\n",
       "      <th>836481</th>\n",
       "      <td>hayaseleu</td>\n",
       "      <td>480</td>\n",
       "      <td>5</td>\n",
       "      <td>Jurassic Park (1993)</td>\n",
       "      <td>Action|Adventure|Sci-Fi</td>\n",
       "    </tr>\n",
       "    <tr>\n",
       "      <th>836482</th>\n",
       "      <td>hayaseleu</td>\n",
       "      <td>2028</td>\n",
       "      <td>5</td>\n",
       "      <td>Saving Private Ryan (1998)</td>\n",
       "      <td>Action|Drama|War</td>\n",
       "    </tr>\n",
       "  </tbody>\n",
       "</table>\n",
       "<p>836483 rows × 5 columns</p>\n",
       "</div>"
      ],
      "text/plain": [
       "          user_id  movie_id  count                                   title  \\\n",
       "0               1      1193      5  One Flew Over the Cuckoo's Nest (1975)   \n",
       "1               1       661      3        James and the Giant Peach (1996)   \n",
       "2               1       914      3                     My Fair Lady (1964)   \n",
       "3               1      3408      4                  Erin Brockovich (2000)   \n",
       "4               1      2355      5                    Bug's Life, A (1998)   \n",
       "...           ...       ...    ...                                     ...   \n",
       "836478  hayaseleu         1      5                        Toy Story (1995)   \n",
       "836479  hayaseleu       110      5                       Braveheart (1995)   \n",
       "836480  hayaseleu       318      5        Shawshank Redemption, The (1994)   \n",
       "836481  hayaseleu       480      5                    Jurassic Park (1993)   \n",
       "836482  hayaseleu      2028      5              Saving Private Ryan (1998)   \n",
       "\n",
       "                               genre  \n",
       "0                              Drama  \n",
       "1       Animation|Children's|Musical  \n",
       "2                    Musical|Romance  \n",
       "3                              Drama  \n",
       "4        Animation|Children's|Comedy  \n",
       "...                              ...  \n",
       "836478   Animation|Children's|Comedy  \n",
       "836479              Action|Drama|War  \n",
       "836480                         Drama  \n",
       "836481       Action|Adventure|Sci-Fi  \n",
       "836482              Action|Drama|War  \n",
       "\n",
       "[836483 rows x 5 columns]"
      ]
     },
     "execution_count": 20,
     "metadata": {},
     "output_type": "execute_result"
    }
   ],
   "source": [
    "merged = pd.merge(ratings,movies,how= 'left', on = 'movie_id')\n",
    "merged"
   ]
  },
  {
   "cell_type": "markdown",
   "metadata": {},
   "source": [
    "아까 836478행에비해 5개 만큼 상승한걸 확인할 수있었습니다."
   ]
  },
  {
   "cell_type": "code",
   "execution_count": 21,
   "metadata": {},
   "outputs": [],
   "source": [
    "data = merged[['user_id','movie_id','count']]"
   ]
  },
  {
   "cell_type": "markdown",
   "metadata": {},
   "source": [
    "## CSR matrix를 직접 만들보기\n"
   ]
  },
  {
   "cell_type": "code",
   "execution_count": 26,
   "metadata": {},
   "outputs": [],
   "source": [
    "# 고유한 유저, 아티스트를 찾아내는 코드\n",
    "user_unique = data['user_id'].unique()\n",
    "movie_unique = data['movie_id'].unique()"
   ]
  },
  {
   "cell_type": "code",
   "execution_count": 27,
   "metadata": {},
   "outputs": [
    {
     "data": {
      "text/plain": [
       "array([1, 2, 3, ..., 6039, 6040, 'hayaseleu'], dtype=object)"
      ]
     },
     "execution_count": 27,
     "metadata": {},
     "output_type": "execute_result"
    }
   ],
   "source": [
    "user_unique\n"
   ]
  },
  {
   "cell_type": "code",
   "execution_count": 28,
   "metadata": {},
   "outputs": [
    {
     "data": {
      "text/plain": [
       "array([1193,  661,  914, ...,  690, 2909, 1360])"
      ]
     },
     "execution_count": 28,
     "metadata": {},
     "output_type": "execute_result"
    }
   ],
   "source": [
    "movie_unique"
   ]
  },
  {
   "cell_type": "code",
   "execution_count": 35,
   "metadata": {},
   "outputs": [
    {
     "name": "stdout",
     "output_type": "stream",
     "text": [
      "{1: 0, 2: 1, 3: 2, 4: 3, 5: 4, 6: 5, 7: 6, 8: 7, 9: 8, 10: 9, 11: 10, 12: 11, 13: 12, 14: 13, 15: 14, 16: 15, 17: 16, 18: 17, 19: 18, 20: 19, 21: 20, 22: 21, 23: 22, 24: 23, 25: 24, 26: 25, 27: 26, 28: 27, 29: 28, 30: 29, 31: 30, 32: 31, 33: 32, 34: 33, 35: 34, 36: 35, 37: 36, 38: 37, 39: 38, 40: 39, 41: 40, 42: 41, 43: 42, 44: 43, 45: 44, 46: 45, 47: 46, 48: 47, 49: 48, 50: 49, 51: 50, 52: 51, 53: 52, 54: 53, 55: 54, 56: 55, 57: 56, 58: 57, 59: 58, 60: 59, 61: 60, 62: 61, 63: 62, 64: 63, 65: 64, 66: 65, 67: 66, 68: 67, 69: 68, 70: 69, 71: 70, 72: 71, 73: 72, 74: 73, 75: 74, 76: 75, 77: 76, 78: 77, 79: 78, 80: 79, 81: 80, 82: 81, 83: 82, 84: 83, 85: 84, 86: 85, 87: 86, 88: 87, 89: 88, 90: 89, 91: 90, 92: 91, 93: 92, 94: 93, 95: 94, 96: 95, 97: 96, 98: 97, 99: 98, 100: 99, 101: 100, 102: 101, 103: 102, 104: 103, 105: 104, 106: 105, 107: 106, 108: 107, 109: 108, 110: 109, 111: 110, 112: 111, 113: 112, 114: 113, 115: 114, 116: 115, 117: 116, 118: 117, 119: 118, 120: 119, 121: 120, 122: 121, 123: 122, 124: 123, 125: 124, 126: 125, 127: 126, 128: 127, 129: 128, 130: 129, 131: 130, 132: 131, 133: 132, 134: 133, 135: 134, 136: 135, 137: 136, 138: 137, 139: 138, 140: 139, 141: 140, 142: 141, 143: 142, 144: 143, 145: 144, 146: 145, 147: 146, 148: 147, 149: 148, 150: 149, 151: 150, 152: 151, 153: 152, 154: 153, 155: 154, 156: 155, 157: 156, 158: 157, 159: 158, 160: 159, 161: 160, 162: 161, 163: 162, 164: 163, 165: 164, 166: 165, 167: 166, 168: 167, 169: 168, 170: 169, 171: 170, 172: 171, 173: 172, 174: 173, 175: 174, 176: 175, 177: 176, 178: 177, 179: 178, 180: 179, 181: 180, 182: 181, 183: 182, 184: 183, 185: 184, 186: 185, 187: 186, 188: 187, 189: 188, 190: 189, 191: 190, 192: 191, 193: 192, 194: 193, 195: 194, 196: 195, 197: 196, 198: 197, 199: 198, 200: 199, 201: 200, 202: 201, 203: 202, 204: 203, 205: 204, 206: 205, 207: 206, 208: 207, 209: 208, 210: 209, 211: 210, 212: 211, 213: 212, 214: 213, 215: 214, 216: 215, 217: 216, 218: 217, 219: 218, 220: 219, 221: 220, 222: 221, 223: 222, 224: 223, 225: 224, 226: 225, 227: 226, 228: 227, 229: 228, 230: 229, 231: 230, 232: 231, 233: 232, 234: 233, 235: 234, 236: 235, 237: 236, 238: 237, 239: 238, 240: 239, 241: 240, 242: 241, 243: 242, 244: 243, 245: 244, 246: 245, 247: 246, 248: 247, 249: 248, 250: 249, 251: 250, 252: 251, 253: 252, 254: 253, 255: 254, 256: 255, 257: 256, 258: 257, 259: 258, 260: 259, 261: 260, 262: 261, 263: 262, 264: 263, 265: 264, 266: 265, 267: 266, 268: 267, 269: 268, 270: 269, 271: 270, 272: 271, 273: 272, 274: 273, 275: 274, 276: 275, 277: 276, 278: 277, 279: 278, 280: 279, 281: 280, 282: 281, 283: 282, 284: 283, 285: 284, 286: 285, 287: 286, 288: 287, 289: 288, 290: 289, 291: 290, 292: 291, 293: 292, 294: 293, 295: 294, 296: 295, 297: 296, 298: 297, 299: 298, 300: 299, 301: 300, 302: 301, 303: 302, 304: 303, 305: 304, 306: 305, 307: 306, 308: 307, 309: 308, 310: 309, 311: 310, 312: 311, 313: 312, 314: 313, 315: 314, 316: 315, 317: 316, 318: 317, 319: 318, 320: 319, 321: 320, 322: 321, 323: 322, 324: 323, 325: 324, 326: 325, 327: 326, 328: 327, 329: 328, 330: 329, 331: 330, 332: 331, 333: 332, 334: 333, 335: 334, 336: 335, 337: 336, 338: 337, 339: 338, 340: 339, 341: 340, 342: 341, 343: 342, 344: 343, 345: 344, 346: 345, 347: 346, 348: 347, 349: 348, 350: 349, 351: 350, 352: 351, 353: 352, 354: 353, 355: 354, 356: 355, 357: 356, 358: 357, 359: 358, 360: 359, 361: 360, 362: 361, 363: 362, 364: 363, 365: 364, 366: 365, 367: 366, 368: 367, 369: 368, 370: 369, 371: 370, 372: 371, 373: 372, 374: 373, 375: 374, 376: 375, 377: 376, 378: 377, 379: 378, 380: 379, 381: 380, 382: 381, 383: 382, 384: 383, 385: 384, 386: 385, 387: 386, 388: 387, 389: 388, 390: 389, 391: 390, 392: 391, 393: 392, 394: 393, 395: 394, 396: 395, 397: 396, 398: 397, 399: 398, 400: 399, 401: 400, 402: 401, 403: 402, 404: 403, 405: 404, 406: 405, 407: 406, 408: 407, 409: 408, 410: 409, 411: 410, 412: 411, 413: 412, 414: 413, 415: 414, 416: 415, 417: 416, 418: 417, 419: 418, 420: 419, 421: 420, 422: 421, 423: 422, 424: 423, 425: 424, 426: 425, 427: 426, 428: 427, 429: 428, 430: 429, 431: 430, 432: 431, 433: 432, 434: 433, 435: 434, 436: 435, 437: 436, 438: 437, 439: 438, 440: 439, 441: 440, 442: 441, 443: 442, 444: 443, 445: 444, 446: 445, 447: 446, 448: 447, 449: 448, 450: 449, 451: 450, 452: 451, 453: 452, 454: 453, 455: 454, 456: 455, 457: 456, 458: 457, 459: 458, 460: 459, 461: 460, 462: 461, 463: 462, 464: 463, 465: 464, 466: 465, 467: 466, 468: 467, 469: 468, 470: 469, 471: 470, 472: 471, 473: 472, 474: 473, 475: 474, 476: 475, 477: 476, 478: 477, 479: 478, 480: 479, 481: 480, 482: 481, 483: 482, 484: 483, 485: 484, 486: 485, 487: 486, 488: 487, 489: 488, 490: 489, 491: 490, 492: 491, 493: 492, 494: 493, 495: 494, 496: 495, 497: 496, 498: 497, 499: 498, 500: 499, 501: 500, 502: 501, 503: 502, 504: 503, 505: 504, 506: 505, 507: 506, 508: 507, 509: 508, 510: 509, 511: 510, 512: 511, 513: 512, 514: 513, 515: 514, 516: 515, 517: 516, 518: 517, 519: 518, 520: 519, 521: 520, 522: 521, 523: 522, 524: 523, 525: 524, 526: 525, 527: 526, 528: 527, 529: 528, 530: 529, 531: 530, 532: 531, 533: 532, 534: 533, 535: 534, 536: 535, 537: 536, 538: 537, 539: 538, 540: 539, 541: 540, 542: 541, 543: 542, 544: 543, 545: 544, 546: 545, 547: 546, 548: 547, 549: 548, 550: 549, 551: 550, 552: 551, 553: 552, 554: 553, 555: 554, 556: 555, 557: 556, 558: 557, 559: 558, 560: 559, 561: 560, 562: 561, 563: 562, 564: 563, 565: 564, 566: 565, 567: 566, 568: 567, 569: 568, 570: 569, 571: 570, 572: 571, 573: 572, 574: 573, 575: 574, 576: 575, 577: 576, 578: 577, 579: 578, 580: 579, 581: 580, 582: 581, 583: 582, 584: 583, 585: 584, 586: 585, 587: 586, 588: 587, 589: 588, 590: 589, 591: 590, 592: 591, 593: 592, 594: 593, 595: 594, 596: 595, 597: 596, 598: 597, 599: 598, 600: 599, 601: 600, 602: 601, 603: 602, 604: 603, 605: 604, 606: 605, 607: 606, 608: 607, 609: 608, 610: 609, 611: 610, 612: 611, 613: 612, 614: 613, 615: 614, 616: 615, 617: 616, 618: 617, 619: 618, 620: 619, 621: 620, 622: 621, 623: 622, 624: 623, 625: 624, 626: 625, 627: 626, 628: 627, 629: 628, 630: 629, 631: 630, 632: 631, 633: 632, 634: 633, 635: 634, 636: 635, 637: 636, 638: 637, 639: 638, 640: 639, 641: 640, 642: 641, 643: 642, 644: 643, 645: 644, 646: 645, 647: 646, 648: 647, 649: 648, 650: 649, 651: 650, 652: 651, 653: 652, 654: 653, 655: 654, 656: 655, 657: 656, 658: 657, 659: 658, 660: 659, 661: 660, 662: 661, 663: 662, 664: 663, 665: 664, 666: 665, 667: 666, 668: 667, 669: 668, 670: 669, 671: 670, 672: 671, 673: 672, 674: 673, 675: 674, 676: 675, 677: 676, 678: 677, 679: 678, 680: 679, 681: 680, 682: 681, 683: 682, 684: 683, 685: 684, 686: 685, 687: 686, 688: 687, 689: 688, 690: 689, 691: 690, 692: 691, 693: 692, 694: 693, 695: 694, 696: 695, 697: 696, 698: 697, 699: 698, 700: 699, 701: 700, 702: 701, 703: 702, 704: 703, 705: 704, 706: 705, 707: 706, 708: 707, 709: 708, 710: 709, 711: 710, 712: 711, 713: 712, 714: 713, 715: 714, 716: 715, 717: 716, 718: 717, 719: 718, 720: 719, 721: 720, 722: 721, 723: 722, 724: 723, 725: 724, 726: 725, 727: 726, 728: 727, 729: 728, 730: 729, 731: 730, 732: 731, 733: 732, 734: 733, 735: 734, 736: 735, 737: 736, 738: 737, 739: 738, 740: 739, 741: 740, 742: 741, 743: 742, 744: 743, 745: 744, 746: 745, 747: 746, 748: 747, 749: 748, 750: 749, 751: 750, 752: 751, 753: 752, 754: 753, 755: 754, 756: 755, 757: 756, 758: 757, 759: 758, 760: 759, 761: 760, 762: 761, 763: 762, 764: 763, 765: 764, 766: 765, 767: 766, 768: 767, 769: 768, 770: 769, 771: 770, 772: 771, 773: 772, 774: 773, 775: 774, 776: 775, 777: 776, 778: 777, 779: 778, 780: 779, 781: 780, 782: 781, 783: 782, 784: 783, 785: 784, 786: 785, 787: 786, 788: 787, 789: 788, 790: 789, 791: 790, 792: 791, 793: 792, 794: 793, 795: 794, 796: 795, 797: 796, 798: 797, 799: 798, 800: 799, 801: 800, 802: 801, 803: 802, 804: 803, 805: 804, 806: 805, 807: 806, 808: 807, 809: 808, 810: 809, 811: 810, 812: 811, 813: 812, 814: 813, 815: 814, 816: 815, 817: 816, 818: 817, 819: 818, 820: 819, 821: 820, 822: 821, 823: 822, 824: 823, 825: 824, 826: 825, 827: 826, 828: 827, 829: 828, 830: 829, 831: 830, 832: 831, 833: 832, 834: 833, 835: 834, 836: 835, 837: 836, 838: 837, 839: 838, 840: 839, 841: 840, 842: 841, 843: 842, 844: 843, 845: 844, 846: 845, 847: 846, 848: 847, 849: 848, 850: 849, 851: 850, 852: 851, 853: 852, 854: 853, 855: 854, 856: 855, 857: 856, 858: 857, 859: 858, 860: 859, 861: 860, 862: 861, 863: 862, 864: 863, 865: 864, 866: 865, 867: 866, 868: 867, 869: 868, 870: 869, 871: 870, 872: 871, 873: 872, 874: 873, 875: 874, 876: 875, 877: 876, 878: 877, 879: 878, 880: 879, 881: 880, 882: 881, 883: 882, 884: 883, 885: 884, 886: 885, 887: 886, 888: 887, 889: 888, 890: 889, 891: 890, 892: 891, 893: 892, 894: 893, 895: 894, 896: 895, 897: 896, 898: 897, 899: 898, 900: 899, 901: 900, 902: 901, 903: 902, 904: 903, 905: 904, 906: 905, 907: 906, 908: 907, 909: 908, 910: 909, 911: 910, 912: 911, 913: 912, 914: 913, 915: 914, 916: 915, 917: 916, 918: 917, 919: 918, 920: 919, 921: 920, 922: 921, 923: 922, 924: 923, 925: 924, 926: 925, 927: 926, 928: 927, 929: 928, 930: 929, 931: 930, 932: 931, 933: 932, 934: 933, 935: 934, 936: 935, 937: 936, 938: 937, 939: 938, 940: 939, 941: 940, 942: 941, 943: 942, 944: 943, 945: 944, 946: 945, 947: 946, 948: 947, 949: 948, 950: 949, 951: 950, 952: 951, 953: 952, 954: 953, 955: 954, 956: 955, 957: 956, 958: 957, 959: 958, 960: 959, 961: 960, 962: 961, 963: 962, 964: 963, 965: 964, 966: 965, 967: 966, 968: 967, 969: 968, 970: 969, 971: 970, 972: 971, 973: 972, 974: 973, 975: 974, 976: 975, 977: 976, 978: 977, 979: 978, 980: 979, 981: 980, 982: 981, 983: 982, 984: 983, 985: 984, 986: 985, 987: 986, 988: 987, 989: 988, 990: 989, 991: 990, 992: 991, 993: 992, 994: 993, 995: 994, 996: 995, 997: 996, 998: 997, 999: 998, 1000: 999, 1001: 1000, 1002: 1001, 1003: 1002, 1004: 1003, 1005: 1004, 1006: 1005, 1007: 1006, 1008: 1007, 1009: 1008, 1010: 1009, 1011: 1010, 1012: 1011, 1013: 1012, 1014: 1013, 1015: 1014, 1016: 1015, 1017: 1016, 1018: 1017, 1019: 1018, 1020: 1019, 1021: 1020, 1022: 1021, 1023: 1022, 1024: 1023, 1025: 1024, 1026: 1025, 1027: 1026, 1028: 1027, 1029: 1028, 1030: 1029, 1031: 1030, 1032: 1031, 1033: 1032, 1034: 1033, 1035: 1034, 1036: 1035, 1037: 1036, 1038: 1037, 1039: 1038, 1040: 1039, 1041: 1040, 1042: 1041, 1043: 1042, 1044: 1043, 1045: 1044, 1046: 1045, 1047: 1046, 1048: 1047, 1049: 1048, 1050: 1049, 1051: 1050, 1052: 1051, 1053: 1052, 1054: 1053, 1055: 1054, 1056: 1055, 1057: 1056, 1058: 1057, 1059: 1058, 1060: 1059, 1061: 1060, 1062: 1061, 1063: 1062, 1064: 1063, 1065: 1064, 1066: 1065, 1067: 1066, 1068: 1067, 1069: 1068, 1070: 1069, 1071: 1070, 1072: 1071, 1073: 1072, 1074: 1073, 1075: 1074, 1076: 1075, 1077: 1076, 1078: 1077, 1079: 1078, 1080: 1079, 1081: 1080, 1082: 1081, 1083: 1082, 1084: 1083, 1085: 1084, 1086: 1085, 1087: 1086, 1088: 1087, 1089: 1088, 1090: 1089, 1091: 1090, 1092: 1091, 1093: 1092, 1094: 1093, 1095: 1094, 1096: 1095, 1097: 1096, 1098: 1097, 1099: 1098, 1100: 1099, 1101: 1100, 1102: 1101, 1103: 1102, 1104: 1103, 1105: 1104, 1106: 1105, 1107: 1106, 1108: 1107, 1109: 1108, 1110: 1109, 1111: 1110, 1112: 1111, 1113: 1112, 1114: 1113, 1115: 1114, 1116: 1115, 1117: 1116, 1118: 1117, 1119: 1118, 1120: 1119, 1121: 1120, 1122: 1121, 1123: 1122, 1124: 1123, 1125: 1124, 1126: 1125, 1127: 1126, 1128: 1127, 1129: 1128, 1130: 1129, 1131: 1130, 1132: 1131, 1133: 1132, 1134: 1133, 1135: 1134, 1136: 1135, 1137: 1136, 1138: 1137, 1139: 1138, 1140: 1139, 1141: 1140, 1142: 1141, 1143: 1142, 1144: 1143, 1145: 1144, 1146: 1145, 1147: 1146, 1148: 1147, 1149: 1148, 1150: 1149, 1151: 1150, 1152: 1151, 1153: 1152, 1154: 1153, 1155: 1154, 1156: 1155, 1157: 1156, 1158: 1157, 1159: 1158, 1160: 1159, 1161: 1160, 1162: 1161, 1163: 1162, 1164: 1163, 1165: 1164, 1166: 1165, 1167: 1166, 1168: 1167, 1169: 1168, 1170: 1169, 1171: 1170, 1172: 1171, 1173: 1172, 1174: 1173, 1175: 1174, 1176: 1175, 1177: 1176, 1178: 1177, 1179: 1178, 1180: 1179, 1181: 1180, 1182: 1181, 1183: 1182, 1184: 1183, 1185: 1184, 1186: 1185, 1187: 1186, 1188: 1187, 1189: 1188, 1190: 1189, 1191: 1190, 1192: 1191, 1193: 1192, 1194: 1193, 1195: 1194, 1196: 1195, 1197: 1196, 1198: 1197, 1199: 1198, 1200: 1199, 1201: 1200, 1202: 1201, 1203: 1202, 1204: 1203, 1205: 1204, 1206: 1205, 1207: 1206, 1208: 1207, 1209: 1208, 1210: 1209, 1211: 1210, 1212: 1211, 1213: 1212, 1214: 1213, 1215: 1214, 1216: 1215, 1217: 1216, 1218: 1217, 1219: 1218, 1220: 1219, 1221: 1220, 1222: 1221, 1223: 1222, 1224: 1223, 1225: 1224, 1226: 1225, 1227: 1226, 1228: 1227, 1229: 1228, 1230: 1229, 1231: 1230, 1232: 1231, 1233: 1232, 1234: 1233, 1235: 1234, 1236: 1235, 1237: 1236, 1238: 1237, 1239: 1238, 1240: 1239, 1241: 1240, 1242: 1241, 1243: 1242, 1244: 1243, 1245: 1244, 1246: 1245, 1247: 1246, 1248: 1247, 1249: 1248, 1250: 1249, 1251: 1250, 1252: 1251, 1253: 1252, 1254: 1253, 1255: 1254, 1256: 1255, 1257: 1256, 1258: 1257, 1259: 1258, 1260: 1259, 1261: 1260, 1262: 1261, 1263: 1262, 1264: 1263, 1265: 1264, 1266: 1265, 1267: 1266, 1268: 1267, 1269: 1268, 1270: 1269, 1271: 1270, 1272: 1271, 1273: 1272, 1274: 1273, 1275: 1274, 1276: 1275, 1277: 1276, 1278: 1277, 1279: 1278, 1280: 1279, 1281: 1280, 1282: 1281, 1283: 1282, 1284: 1283, 1285: 1284, 1286: 1285, 1287: 1286, 1288: 1287, 1289: 1288, 1290: 1289, 1291: 1290, 1292: 1291, 1293: 1292, 1294: 1293, 1295: 1294, 1296: 1295, 1297: 1296, 1298: 1297, 1299: 1298, 1300: 1299, 1301: 1300, 1302: 1301, 1303: 1302, 1304: 1303, 1305: 1304, 1306: 1305, 1307: 1306, 1308: 1307, 1309: 1308, 1310: 1309, 1311: 1310, 1312: 1311, 1313: 1312, 1314: 1313, 1315: 1314, 1316: 1315, 1317: 1316, 1318: 1317, 1319: 1318, 1320: 1319, 1321: 1320, 1322: 1321, 1323: 1322, 1324: 1323, 1325: 1324, 1326: 1325, 1327: 1326, 1328: 1327, 1329: 1328, 1330: 1329, 1331: 1330, 1332: 1331, 1333: 1332, 1334: 1333, 1335: 1334, 1336: 1335, 1337: 1336, 1338: 1337, 1339: 1338, 1340: 1339, 1341: 1340, 1342: 1341, 1343: 1342, 1344: 1343, 1345: 1344, 1346: 1345, 1347: 1346, 1348: 1347, 1349: 1348, 1350: 1349, 1351: 1350, 1352: 1351, 1353: 1352, 1354: 1353, 1355: 1354, 1356: 1355, 1357: 1356, 1358: 1357, 1359: 1358, 1360: 1359, 1361: 1360, 1362: 1361, 1363: 1362, 1364: 1363, 1365: 1364, 1366: 1365, 1367: 1366, 1368: 1367, 1369: 1368, 1370: 1369, 1371: 1370, 1372: 1371, 1373: 1372, 1374: 1373, 1375: 1374, 1376: 1375, 1377: 1376, 1378: 1377, 1379: 1378, 1380: 1379, 1381: 1380, 1382: 1381, 1383: 1382, 1384: 1383, 1385: 1384, 1386: 1385, 1387: 1386, 1388: 1387, 1389: 1388, 1390: 1389, 1391: 1390, 1392: 1391, 1393: 1392, 1394: 1393, 1395: 1394, 1396: 1395, 1397: 1396, 1398: 1397, 1399: 1398, 1400: 1399, 1401: 1400, 1402: 1401, 1403: 1402, 1404: 1403, 1405: 1404, 1406: 1405, 1407: 1406, 1408: 1407, 1409: 1408, 1410: 1409, 1411: 1410, 1412: 1411, 1413: 1412, 1414: 1413, 1415: 1414, 1416: 1415, 1417: 1416, 1418: 1417, 1419: 1418, 1420: 1419, 1421: 1420, 1422: 1421, 1423: 1422, 1424: 1423, 1425: 1424, 1426: 1425, 1427: 1426, 1428: 1427, 1429: 1428, 1430: 1429, 1431: 1430, 1432: 1431, 1433: 1432, 1434: 1433, 1435: 1434, 1436: 1435, 1437: 1436, 1438: 1437, 1439: 1438, 1440: 1439, 1441: 1440, 1442: 1441, 1443: 1442, 1444: 1443, 1445: 1444, 1446: 1445, 1447: 1446, 1448: 1447, 1449: 1448, 1450: 1449, 1451: 1450, 1452: 1451, 1453: 1452, 1454: 1453, 1455: 1454, 1456: 1455, 1457: 1456, 1458: 1457, 1459: 1458, 1460: 1459, 1461: 1460, 1462: 1461, 1463: 1462, 1464: 1463, 1465: 1464, 1466: 1465, 1467: 1466, 1468: 1467, 1469: 1468, 1470: 1469, 1471: 1470, 1472: 1471, 1473: 1472, 1474: 1473, 1475: 1474, 1476: 1475, 1477: 1476, 1478: 1477, 1479: 1478, 1480: 1479, 1481: 1480, 1482: 1481, 1483: 1482, 1484: 1483, 1485: 1484, 1486: 1485, 1487: 1486, 1488: 1487, 1489: 1488, 1490: 1489, 1491: 1490, 1492: 1491, 1493: 1492, 1494: 1493, 1495: 1494, 1496: 1495, 1497: 1496, 1498: 1497, 1499: 1498, 1500: 1499, 1501: 1500, 1502: 1501, 1503: 1502, 1504: 1503, 1505: 1504, 1506: 1505, 1507: 1506, 1508: 1507, 1509: 1508, 1510: 1509, 1511: 1510, 1512: 1511, 1513: 1512, 1514: 1513, 1515: 1514, 1516: 1515, 1517: 1516, 1518: 1517, 1519: 1518, 1520: 1519, 1521: 1520, 1522: 1521, 1523: 1522, 1524: 1523, 1525: 1524, 1526: 1525, 1527: 1526, 1528: 1527, 1529: 1528, 1530: 1529, 1531: 1530, 1532: 1531, 1533: 1532, 1534: 1533, 1535: 1534, 1536: 1535, 1537: 1536, 1538: 1537, 1539: 1538, 1540: 1539, 1541: 1540, 1542: 1541, 1543: 1542, 1544: 1543, 1545: 1544, 1546: 1545, 1547: 1546, 1548: 1547, 1549: 1548, 1550: 1549, 1551: 1550, 1552: 1551, 1553: 1552, 1554: 1553, 1555: 1554, 1556: 1555, 1557: 1556, 1558: 1557, 1559: 1558, 1560: 1559, 1561: 1560, 1562: 1561, 1563: 1562, 1564: 1563, 1565: 1564, 1566: 1565, 1567: 1566, 1568: 1567, 1569: 1568, 1570: 1569, 1571: 1570, 1572: 1571, 1573: 1572, 1574: 1573, 1575: 1574, 1576: 1575, 1577: 1576, 1578: 1577, 1579: 1578, 1580: 1579, 1581: 1580, 1582: 1581, 1583: 1582, 1584: 1583, 1585: 1584, 1586: 1585, 1587: 1586, 1588: 1587, 1589: 1588, 1590: 1589, 1591: 1590, 1592: 1591, 1593: 1592, 1594: 1593, 1595: 1594, 1596: 1595, 1597: 1596, 1598: 1597, 1599: 1598, 1600: 1599, 1601: 1600, 1602: 1601, 1603: 1602, 1604: 1603, 1605: 1604, 1606: 1605, 1607: 1606, 1608: 1607, 1609: 1608, 1610: 1609, 1611: 1610, 1612: 1611, 1613: 1612, 1614: 1613, 1615: 1614, 1616: 1615, 1617: 1616, 1618: 1617, 1619: 1618, 1620: 1619, 1621: 1620, 1622: 1621, 1623: 1622, 1624: 1623, 1625: 1624, 1626: 1625, 1627: 1626, 1628: 1627, 1629: 1628, 1630: 1629, 1631: 1630, 1632: 1631, 1633: 1632, 1634: 1633, 1635: 1634, 1636: 1635, 1637: 1636, 1638: 1637, 1639: 1638, 1640: 1639, 1641: 1640, 1642: 1641, 1643: 1642, 1644: 1643, 1645: 1644, 1646: 1645, 1647: 1646, 1648: 1647, 1649: 1648, 1650: 1649, 1651: 1650, 1652: 1651, 1653: 1652, 1654: 1653, 1655: 1654, 1656: 1655, 1657: 1656, 1658: 1657, 1659: 1658, 1660: 1659, 1661: 1660, 1662: 1661, 1663: 1662, 1664: 1663, 1665: 1664, 1666: 1665, 1667: 1666, 1668: 1667, 1669: 1668, 1670: 1669, 1671: 1670, 1672: 1671, 1673: 1672, 1674: 1673, 1675: 1674, 1676: 1675, 1677: 1676, 1678: 1677, 1679: 1678, 1680: 1679, 1681: 1680, 1682: 1681, 1683: 1682, 1684: 1683, 1685: 1684, 1686: 1685, 1687: 1686, 1688: 1687, 1689: 1688, 1690: 1689, 1691: 1690, 1692: 1691, 1693: 1692, 1694: 1693, 1695: 1694, 1696: 1695, 1697: 1696, 1698: 1697, 1699: 1698, 1700: 1699, 1701: 1700, 1702: 1701, 1703: 1702, 1704: 1703, 1705: 1704, 1706: 1705, 1707: 1706, 1708: 1707, 1709: 1708, 1710: 1709, 1711: 1710, 1712: 1711, 1713: 1712, 1714: 1713, 1715: 1714, 1716: 1715, 1717: 1716, 1718: 1717, 1719: 1718, 1720: 1719, 1721: 1720, 1722: 1721, 1723: 1722, 1724: 1723, 1725: 1724, 1726: 1725, 1727: 1726, 1728: 1727, 1729: 1728, 1730: 1729, 1731: 1730, 1732: 1731, 1733: 1732, 1734: 1733, 1735: 1734, 1736: 1735, 1737: 1736, 1738: 1737, 1739: 1738, 1740: 1739, 1741: 1740, 1742: 1741, 1743: 1742, 1744: 1743, 1745: 1744, 1746: 1745, 1747: 1746, 1748: 1747, 1749: 1748, 1750: 1749, 1751: 1750, 1752: 1751, 1753: 1752, 1754: 1753, 1755: 1754, 1756: 1755, 1757: 1756, 1758: 1757, 1759: 1758, 1760: 1759, 1761: 1760, 1762: 1761, 1763: 1762, 1764: 1763, 1765: 1764, 1766: 1765, 1767: 1766, 1768: 1767, 1769: 1768, 1770: 1769, 1771: 1770, 1772: 1771, 1773: 1772, 1774: 1773, 1775: 1774, 1776: 1775, 1777: 1776, 1778: 1777, 1779: 1778, 1780: 1779, 1781: 1780, 1782: 1781, 1783: 1782, 1784: 1783, 1785: 1784, 1786: 1785, 1787: 1786, 1788: 1787, 1789: 1788, 1790: 1789, 1791: 1790, 1792: 1791, 1793: 1792, 1794: 1793, 1795: 1794, 1796: 1795, 1797: 1796, 1798: 1797, 1799: 1798, 1800: 1799, 1801: 1800, 1802: 1801, 1803: 1802, 1804: 1803, 1805: 1804, 1806: 1805, 1807: 1806, 1808: 1807, 1809: 1808, 1810: 1809, 1811: 1810, 1812: 1811, 1813: 1812, 1814: 1813, 1815: 1814, 1816: 1815, 1817: 1816, 1818: 1817, 1819: 1818, 1820: 1819, 1821: 1820, 1822: 1821, 1823: 1822, 1824: 1823, 1825: 1824, 1826: 1825, 1827: 1826, 1828: 1827, 1829: 1828, 1830: 1829, 1831: 1830, 1832: 1831, 1833: 1832, 1834: 1833, 1835: 1834, 1836: 1835, 1837: 1836, 1838: 1837, 1839: 1838, 1840: 1839, 1841: 1840, 1842: 1841, 1843: 1842, 1844: 1843, 1845: 1844, 1846: 1845, 1847: 1846, 1848: 1847, 1849: 1848, 1850: 1849, 1851: 1850, 1852: 1851, 1853: 1852, 1854: 1853, 1855: 1854, 1856: 1855, 1857: 1856, 1858: 1857, 1859: 1858, 1860: 1859, 1861: 1860, 1862: 1861, 1863: 1862, 1864: 1863, 1865: 1864, 1866: 1865, 1867: 1866, 1868: 1867, 1869: 1868, 1870: 1869, 1871: 1870, 1872: 1871, 1873: 1872, 1874: 1873, 1875: 1874, 1876: 1875, 1877: 1876, 1878: 1877, 1879: 1878, 1880: 1879, 1881: 1880, 1882: 1881, 1883: 1882, 1884: 1883, 1885: 1884, 1886: 1885, 1887: 1886, 1888: 1887, 1889: 1888, 1890: 1889, 1891: 1890, 1892: 1891, 1893: 1892, 1894: 1893, 1895: 1894, 1896: 1895, 1897: 1896, 1898: 1897, 1899: 1898, 1900: 1899, 1901: 1900, 1902: 1901, 1903: 1902, 1904: 1903, 1905: 1904, 1906: 1905, 1907: 1906, 1908: 1907, 1909: 1908, 1910: 1909, 1911: 1910, 1912: 1911, 1913: 1912, 1914: 1913, 1915: 1914, 1916: 1915, 1917: 1916, 1918: 1917, 1919: 1918, 1920: 1919, 1921: 1920, 1922: 1921, 1923: 1922, 1924: 1923, 1925: 1924, 1926: 1925, 1927: 1926, 1928: 1927, 1929: 1928, 1930: 1929, 1931: 1930, 1932: 1931, 1933: 1932, 1934: 1933, 1935: 1934, 1936: 1935, 1937: 1936, 1938: 1937, 1939: 1938, 1940: 1939, 1941: 1940, 1942: 1941, 1943: 1942, 1944: 1943, 1945: 1944, 1946: 1945, 1947: 1946, 1948: 1947, 1949: 1948, 1950: 1949, 1951: 1950, 1952: 1951, 1953: 1952, 1954: 1953, 1955: 1954, 1956: 1955, 1957: 1956, 1958: 1957, 1959: 1958, 1960: 1959, 1961: 1960, 1962: 1961, 1963: 1962, 1964: 1963, 1965: 1964, 1966: 1965, 1967: 1966, 1968: 1967, 1969: 1968, 1970: 1969, 1971: 1970, 1972: 1971, 1973: 1972, 1974: 1973, 1975: 1974, 1976: 1975, 1977: 1976, 1978: 1977, 1979: 1978, 1980: 1979, 1981: 1980, 1982: 1981, 1983: 1982, 1984: 1983, 1985: 1984, 1986: 1985, 1987: 1986, 1988: 1987, 1989: 1988, 1990: 1989, 1991: 1990, 1992: 1991, 1993: 1992, 1994: 1993, 1995: 1994, 1996: 1995, 1997: 1996, 1998: 1997, 1999: 1998, 2000: 1999, 2001: 2000, 2002: 2001, 2003: 2002, 2004: 2003, 2005: 2004, 2006: 2005, 2007: 2006, 2008: 2007, 2009: 2008, 2010: 2009, 2011: 2010, 2012: 2011, 2013: 2012, 2014: 2013, 2015: 2014, 2016: 2015, 2017: 2016, 2018: 2017, 2019: 2018, 2020: 2019, 2021: 2020, 2022: 2021, 2023: 2022, 2024: 2023, 2025: 2024, 2026: 2025, 2027: 2026, 2028: 2027, 2029: 2028, 2030: 2029, 2031: 2030, 2032: 2031, 2033: 2032, 2034: 2033, 2035: 2034, 2036: 2035, 2037: 2036, 2038: 2037, 2039: 2038, 2040: 2039, 2041: 2040, 2042: 2041, 2043: 2042, 2044: 2043, 2045: 2044, 2046: 2045, 2047: 2046, 2048: 2047, 2049: 2048, 2050: 2049, 2051: 2050, 2052: 2051, 2053: 2052, 2054: 2053, 2055: 2054, 2056: 2055, 2057: 2056, 2058: 2057, 2059: 2058, 2060: 2059, 2061: 2060, 2062: 2061, 2063: 2062, 2064: 2063, 2065: 2064, 2066: 2065, 2067: 2066, 2068: 2067, 2069: 2068, 2070: 2069, 2071: 2070, 2072: 2071, 2073: 2072, 2074: 2073, 2075: 2074, 2076: 2075, 2077: 2076, 2078: 2077, 2079: 2078, 2080: 2079, 2081: 2080, 2082: 2081, 2083: 2082, 2084: 2083, 2085: 2084, 2086: 2085, 2087: 2086, 2088: 2087, 2089: 2088, 2090: 2089, 2091: 2090, 2092: 2091, 2093: 2092, 2094: 2093, 2095: 2094, 2096: 2095, 2097: 2096, 2098: 2097, 2099: 2098, 2100: 2099, 2101: 2100, 2102: 2101, 2103: 2102, 2104: 2103, 2105: 2104, 2106: 2105, 2107: 2106, 2108: 2107, 2109: 2108, 2110: 2109, 2111: 2110, 2112: 2111, 2113: 2112, 2114: 2113, 2115: 2114, 2116: 2115, 2117: 2116, 2118: 2117, 2119: 2118, 2120: 2119, 2121: 2120, 2122: 2121, 2123: 2122, 2124: 2123, 2125: 2124, 2126: 2125, 2127: 2126, 2128: 2127, 2129: 2128, 2130: 2129, 2131: 2130, 2132: 2131, 2133: 2132, 2134: 2133, 2135: 2134, 2136: 2135, 2137: 2136, 2138: 2137, 2139: 2138, 2140: 2139, 2141: 2140, 2142: 2141, 2143: 2142, 2144: 2143, 2145: 2144, 2146: 2145, 2147: 2146, 2148: 2147, 2149: 2148, 2150: 2149, 2151: 2150, 2152: 2151, 2153: 2152, 2154: 2153, 2155: 2154, 2156: 2155, 2157: 2156, 2158: 2157, 2159: 2158, 2160: 2159, 2161: 2160, 2162: 2161, 2163: 2162, 2164: 2163, 2165: 2164, 2166: 2165, 2167: 2166, 2168: 2167, 2169: 2168, 2170: 2169, 2171: 2170, 2172: 2171, 2173: 2172, 2174: 2173, 2175: 2174, 2176: 2175, 2177: 2176, 2178: 2177, 2179: 2178, 2180: 2179, 2181: 2180, 2182: 2181, 2183: 2182, 2184: 2183, 2185: 2184, 2186: 2185, 2187: 2186, 2188: 2187, 2189: 2188, 2190: 2189, 2191: 2190, 2192: 2191, 2193: 2192, 2194: 2193, 2195: 2194, 2196: 2195, 2197: 2196, 2198: 2197, 2199: 2198, 2200: 2199, 2201: 2200, 2202: 2201, 2203: 2202, 2204: 2203, 2205: 2204, 2206: 2205, 2207: 2206, 2208: 2207, 2209: 2208, 2210: 2209, 2211: 2210, 2212: 2211, 2213: 2212, 2214: 2213, 2215: 2214, 2216: 2215, 2217: 2216, 2218: 2217, 2219: 2218, 2220: 2219, 2221: 2220, 2222: 2221, 2223: 2222, 2224: 2223, 2225: 2224, 2226: 2225, 2227: 2226, 2228: 2227, 2229: 2228, 2230: 2229, 2231: 2230, 2232: 2231, 2233: 2232, 2234: 2233, 2235: 2234, 2236: 2235, 2237: 2236, 2238: 2237, 2239: 2238, 2240: 2239, 2241: 2240, 2242: 2241, 2243: 2242, 2244: 2243, 2245: 2244, 2246: 2245, 2247: 2246, 2248: 2247, 2249: 2248, 2250: 2249, 2251: 2250, 2252: 2251, 2253: 2252, 2254: 2253, 2255: 2254, 2256: 2255, 2257: 2256, 2258: 2257, 2259: 2258, 2260: 2259, 2261: 2260, 2262: 2261, 2263: 2262, 2264: 2263, 2265: 2264, 2266: 2265, 2267: 2266, 2268: 2267, 2269: 2268, 2270: 2269, 2271: 2270, 2272: 2271, 2273: 2272, 2274: 2273, 2275: 2274, 2276: 2275, 2277: 2276, 2278: 2277, 2279: 2278, 2280: 2279, 2281: 2280, 2282: 2281, 2283: 2282, 2284: 2283, 2285: 2284, 2286: 2285, 2287: 2286, 2288: 2287, 2289: 2288, 2290: 2289, 2291: 2290, 2292: 2291, 2293: 2292, 2294: 2293, 2295: 2294, 2296: 2295, 2297: 2296, 2298: 2297, 2299: 2298, 2300: 2299, 2301: 2300, 2302: 2301, 2303: 2302, 2304: 2303, 2305: 2304, 2306: 2305, 2307: 2306, 2308: 2307, 2309: 2308, 2310: 2309, 2311: 2310, 2312: 2311, 2313: 2312, 2314: 2313, 2315: 2314, 2316: 2315, 2317: 2316, 2318: 2317, 2319: 2318, 2320: 2319, 2321: 2320, 2322: 2321, 2323: 2322, 2324: 2323, 2325: 2324, 2326: 2325, 2327: 2326, 2328: 2327, 2329: 2328, 2330: 2329, 2331: 2330, 2332: 2331, 2333: 2332, 2334: 2333, 2335: 2334, 2336: 2335, 2337: 2336, 2338: 2337, 2339: 2338, 2340: 2339, 2341: 2340, 2342: 2341, 2343: 2342, 2344: 2343, 2345: 2344, 2346: 2345, 2347: 2346, 2348: 2347, 2349: 2348, 2350: 2349, 2351: 2350, 2352: 2351, 2353: 2352, 2354: 2353, 2355: 2354, 2356: 2355, 2357: 2356, 2358: 2357, 2359: 2358, 2360: 2359, 2361: 2360, 2362: 2361, 2363: 2362, 2364: 2363, 2365: 2364, 2366: 2365, 2367: 2366, 2368: 2367, 2369: 2368, 2370: 2369, 2371: 2370, 2372: 2371, 2373: 2372, 2374: 2373, 2375: 2374, 2376: 2375, 2377: 2376, 2378: 2377, 2379: 2378, 2380: 2379, 2381: 2380, 2382: 2381, 2383: 2382, 2384: 2383, 2385: 2384, 2386: 2385, 2387: 2386, 2388: 2387, 2389: 2388, 2390: 2389, 2391: 2390, 2392: 2391, 2393: 2392, 2394: 2393, 2395: 2394, 2396: 2395, 2397: 2396, 2398: 2397, 2399: 2398, 2400: 2399, 2401: 2400, 2402: 2401, 2403: 2402, 2404: 2403, 2405: 2404, 2406: 2405, 2407: 2406, 2408: 2407, 2409: 2408, 2410: 2409, 2411: 2410, 2412: 2411, 2413: 2412, 2414: 2413, 2415: 2414, 2416: 2415, 2417: 2416, 2418: 2417, 2419: 2418, 2420: 2419, 2421: 2420, 2422: 2421, 2423: 2422, 2424: 2423, 2425: 2424, 2426: 2425, 2427: 2426, 2428: 2427, 2429: 2428, 2430: 2429, 2431: 2430, 2432: 2431, 2433: 2432, 2434: 2433, 2435: 2434, 2436: 2435, 2437: 2436, 2438: 2437, 2439: 2438, 2440: 2439, 2441: 2440, 2442: 2441, 2443: 2442, 2444: 2443, 2445: 2444, 2446: 2445, 2447: 2446, 2448: 2447, 2449: 2448, 2450: 2449, 2451: 2450, 2452: 2451, 2453: 2452, 2454: 2453, 2455: 2454, 2456: 2455, 2457: 2456, 2458: 2457, 2459: 2458, 2460: 2459, 2461: 2460, 2462: 2461, 2463: 2462, 2464: 2463, 2465: 2464, 2466: 2465, 2467: 2466, 2468: 2467, 2469: 2468, 2470: 2469, 2471: 2470, 2472: 2471, 2473: 2472, 2474: 2473, 2475: 2474, 2476: 2475, 2477: 2476, 2478: 2477, 2479: 2478, 2480: 2479, 2481: 2480, 2482: 2481, 2483: 2482, 2484: 2483, 2485: 2484, 2486: 2485, 2487: 2486, 2488: 2487, 2489: 2488, 2490: 2489, 2491: 2490, 2492: 2491, 2493: 2492, 2494: 2493, 2495: 2494, 2496: 2495, 2497: 2496, 2498: 2497, 2499: 2498, 2500: 2499, 2501: 2500, 2502: 2501, 2503: 2502, 2504: 2503, 2505: 2504, 2506: 2505, 2507: 2506, 2508: 2507, 2509: 2508, 2510: 2509, 2511: 2510, 2512: 2511, 2513: 2512, 2514: 2513, 2515: 2514, 2516: 2515, 2517: 2516, 2518: 2517, 2519: 2518, 2520: 2519, 2521: 2520, 2522: 2521, 2523: 2522, 2524: 2523, 2525: 2524, 2526: 2525, 2527: 2526, 2528: 2527, 2529: 2528, 2530: 2529, 2531: 2530, 2532: 2531, 2533: 2532, 2534: 2533, 2535: 2534, 2536: 2535, 2537: 2536, 2538: 2537, 2539: 2538, 2540: 2539, 2541: 2540, 2542: 2541, 2543: 2542, 2544: 2543, 2545: 2544, 2546: 2545, 2547: 2546, 2548: 2547, 2549: 2548, 2550: 2549, 2551: 2550, 2552: 2551, 2553: 2552, 2554: 2553, 2555: 2554, 2556: 2555, 2557: 2556, 2558: 2557, 2559: 2558, 2560: 2559, 2561: 2560, 2562: 2561, 2563: 2562, 2564: 2563, 2565: 2564, 2566: 2565, 2567: 2566, 2568: 2567, 2569: 2568, 2570: 2569, 2571: 2570, 2572: 2571, 2573: 2572, 2574: 2573, 2575: 2574, 2576: 2575, 2577: 2576, 2578: 2577, 2579: 2578, 2580: 2579, 2581: 2580, 2582: 2581, 2583: 2582, 2584: 2583, 2585: 2584, 2586: 2585, 2587: 2586, 2588: 2587, 2589: 2588, 2590: 2589, 2591: 2590, 2592: 2591, 2593: 2592, 2594: 2593, 2595: 2594, 2596: 2595, 2597: 2596, 2598: 2597, 2599: 2598, 2600: 2599, 2601: 2600, 2602: 2601, 2603: 2602, 2604: 2603, 2605: 2604, 2606: 2605, 2607: 2606, 2608: 2607, 2609: 2608, 2610: 2609, 2611: 2610, 2612: 2611, 2613: 2612, 2614: 2613, 2615: 2614, 2616: 2615, 2617: 2616, 2618: 2617, 2619: 2618, 2620: 2619, 2621: 2620, 2622: 2621, 2623: 2622, 2624: 2623, 2625: 2624, 2626: 2625, 2627: 2626, 2628: 2627, 2629: 2628, 2630: 2629, 2631: 2630, 2632: 2631, 2633: 2632, 2634: 2633, 2635: 2634, 2636: 2635, 2637: 2636, 2638: 2637, 2639: 2638, 2640: 2639, 2641: 2640, 2642: 2641, 2643: 2642, 2644: 2643, 2645: 2644, 2646: 2645, 2647: 2646, 2648: 2647, 2649: 2648, 2650: 2649, 2651: 2650, 2652: 2651, 2653: 2652, 2654: 2653, 2655: 2654, 2656: 2655, 2657: 2656, 2658: 2657, 2659: 2658, 2660: 2659, 2661: 2660, 2662: 2661, 2663: 2662, 2664: 2663, 2665: 2664, 2666: 2665, 2667: 2666, 2668: 2667, 2669: 2668, 2670: 2669, 2671: 2670, 2672: 2671, 2673: 2672, 2674: 2673, 2675: 2674, 2676: 2675, 2677: 2676, 2678: 2677, 2679: 2678, 2680: 2679, 2681: 2680, 2682: 2681, 2683: 2682, 2684: 2683, 2685: 2684, 2686: 2685, 2687: 2686, 2688: 2687, 2689: 2688, 2690: 2689, 2691: 2690, 2692: 2691, 2693: 2692, 2694: 2693, 2695: 2694, 2696: 2695, 2697: 2696, 2698: 2697, 2699: 2698, 2700: 2699, 2701: 2700, 2702: 2701, 2703: 2702, 2704: 2703, 2705: 2704, 2706: 2705, 2707: 2706, 2708: 2707, 2709: 2708, 2710: 2709, 2711: 2710, 2712: 2711, 2713: 2712, 2714: 2713, 2715: 2714, 2716: 2715, 2717: 2716, 2718: 2717, 2719: 2718, 2720: 2719, 2721: 2720, 2722: 2721, 2723: 2722, 2724: 2723, 2725: 2724, 2726: 2725, 2727: 2726, 2728: 2727, 2729: 2728, 2730: 2729, 2731: 2730, 2732: 2731, 2733: 2732, 2734: 2733, 2735: 2734, 2736: 2735, 2737: 2736, 2738: 2737, 2739: 2738, 2740: 2739, 2741: 2740, 2742: 2741, 2743: 2742, 2744: 2743, 2745: 2744, 2746: 2745, 2747: 2746, 2748: 2747, 2749: 2748, 2750: 2749, 2751: 2750, 2752: 2751, 2753: 2752, 2754: 2753, 2755: 2754, 2756: 2755, 2757: 2756, 2758: 2757, 2759: 2758, 2760: 2759, 2761: 2760, 2762: 2761, 2763: 2762, 2764: 2763, 2765: 2764, 2766: 2765, 2767: 2766, 2768: 2767, 2769: 2768, 2770: 2769, 2771: 2770, 2772: 2771, 2773: 2772, 2774: 2773, 2775: 2774, 2776: 2775, 2777: 2776, 2778: 2777, 2779: 2778, 2780: 2779, 2781: 2780, 2782: 2781, 2783: 2782, 2784: 2783, 2785: 2784, 2786: 2785, 2787: 2786, 2788: 2787, 2789: 2788, 2790: 2789, 2791: 2790, 2792: 2791, 2793: 2792, 2794: 2793, 2795: 2794, 2796: 2795, 2797: 2796, 2798: 2797, 2799: 2798, 2800: 2799, 2801: 2800, 2802: 2801, 2803: 2802, 2804: 2803, 2805: 2804, 2806: 2805, 2807: 2806, 2808: 2807, 2809: 2808, 2810: 2809, 2811: 2810, 2812: 2811, 2813: 2812, 2814: 2813, 2815: 2814, 2816: 2815, 2817: 2816, 2818: 2817, 2819: 2818, 2820: 2819, 2821: 2820, 2822: 2821, 2823: 2822, 2824: 2823, 2825: 2824, 2826: 2825, 2827: 2826, 2828: 2827, 2829: 2828, 2830: 2829, 2831: 2830, 2832: 2831, 2833: 2832, 2834: 2833, 2835: 2834, 2836: 2835, 2837: 2836, 2838: 2837, 2839: 2838, 2840: 2839, 2841: 2840, 2842: 2841, 2843: 2842, 2844: 2843, 2845: 2844, 2846: 2845, 2847: 2846, 2848: 2847, 2849: 2848, 2850: 2849, 2851: 2850, 2852: 2851, 2853: 2852, 2854: 2853, 2855: 2854, 2856: 2855, 2857: 2856, 2858: 2857, 2859: 2858, 2860: 2859, 2861: 2860, 2862: 2861, 2863: 2862, 2864: 2863, 2865: 2864, 2866: 2865, 2867: 2866, 2868: 2867, 2869: 2868, 2870: 2869, 2871: 2870, 2872: 2871, 2873: 2872, 2874: 2873, 2875: 2874, 2876: 2875, 2877: 2876, 2878: 2877, 2879: 2878, 2880: 2879, 2881: 2880, 2882: 2881, 2883: 2882, 2884: 2883, 2885: 2884, 2886: 2885, 2887: 2886, 2888: 2887, 2889: 2888, 2890: 2889, 2891: 2890, 2892: 2891, 2893: 2892, 2894: 2893, 2895: 2894, 2896: 2895, 2897: 2896, 2898: 2897, 2899: 2898, 2900: 2899, 2901: 2900, 2902: 2901, 2903: 2902, 2904: 2903, 2905: 2904, 2906: 2905, 2907: 2906, 2908: 2907, 2909: 2908, 2910: 2909, 2911: 2910, 2912: 2911, 2913: 2912, 2914: 2913, 2915: 2914, 2916: 2915, 2917: 2916, 2918: 2917, 2919: 2918, 2920: 2919, 2921: 2920, 2922: 2921, 2923: 2922, 2924: 2923, 2925: 2924, 2926: 2925, 2927: 2926, 2928: 2927, 2929: 2928, 2930: 2929, 2931: 2930, 2932: 2931, 2933: 2932, 2934: 2933, 2935: 2934, 2936: 2935, 2937: 2936, 2938: 2937, 2939: 2938, 2940: 2939, 2941: 2940, 2942: 2941, 2943: 2942, 2944: 2943, 2945: 2944, 2946: 2945, 2947: 2946, 2948: 2947, 2949: 2948, 2950: 2949, 2951: 2950, 2952: 2951, 2953: 2952, 2954: 2953, 2955: 2954, 2956: 2955, 2957: 2956, 2958: 2957, 2959: 2958, 2960: 2959, 2961: 2960, 2962: 2961, 2963: 2962, 2964: 2963, 2965: 2964, 2966: 2965, 2967: 2966, 2968: 2967, 2969: 2968, 2970: 2969, 2971: 2970, 2972: 2971, 2973: 2972, 2974: 2973, 2975: 2974, 2976: 2975, 2977: 2976, 2978: 2977, 2979: 2978, 2980: 2979, 2981: 2980, 2982: 2981, 2983: 2982, 2984: 2983, 2985: 2984, 2986: 2985, 2987: 2986, 2988: 2987, 2989: 2988, 2990: 2989, 2991: 2990, 2992: 2991, 2993: 2992, 2994: 2993, 2995: 2994, 2996: 2995, 2997: 2996, 2998: 2997, 2999: 2998, 3000: 2999, 3001: 3000, 3002: 3001, 3003: 3002, 3004: 3003, 3005: 3004, 3006: 3005, 3007: 3006, 3008: 3007, 3009: 3008, 3010: 3009, 3011: 3010, 3012: 3011, 3013: 3012, 3014: 3013, 3015: 3014, 3016: 3015, 3017: 3016, 3018: 3017, 3019: 3018, 3020: 3019, 3021: 3020, 3022: 3021, 3023: 3022, 3024: 3023, 3025: 3024, 3026: 3025, 3027: 3026, 3028: 3027, 3029: 3028, 3030: 3029, 3031: 3030, 3032: 3031, 3033: 3032, 3034: 3033, 3035: 3034, 3036: 3035, 3037: 3036, 3038: 3037, 3039: 3038, 3040: 3039, 3041: 3040, 3042: 3041, 3043: 3042, 3044: 3043, 3045: 3044, 3046: 3045, 3047: 3046, 3048: 3047, 3049: 3048, 3050: 3049, 3051: 3050, 3052: 3051, 3053: 3052, 3054: 3053, 3055: 3054, 3056: 3055, 3057: 3056, 3058: 3057, 3059: 3058, 3060: 3059, 3061: 3060, 3062: 3061, 3063: 3062, 3064: 3063, 3065: 3064, 3066: 3065, 3067: 3066, 3068: 3067, 3069: 3068, 3070: 3069, 3071: 3070, 3072: 3071, 3073: 3072, 3074: 3073, 3075: 3074, 3076: 3075, 3077: 3076, 3078: 3077, 3079: 3078, 3080: 3079, 3081: 3080, 3082: 3081, 3083: 3082, 3084: 3083, 3085: 3084, 3086: 3085, 3087: 3086, 3088: 3087, 3089: 3088, 3090: 3089, 3091: 3090, 3092: 3091, 3093: 3092, 3094: 3093, 3095: 3094, 3096: 3095, 3097: 3096, 3098: 3097, 3099: 3098, 3100: 3099, 3101: 3100, 3102: 3101, 3103: 3102, 3104: 3103, 3105: 3104, 3106: 3105, 3107: 3106, 3108: 3107, 3109: 3108, 3110: 3109, 3111: 3110, 3112: 3111, 3113: 3112, 3114: 3113, 3115: 3114, 3116: 3115, 3117: 3116, 3118: 3117, 3119: 3118, 3120: 3119, 3121: 3120, 3122: 3121, 3123: 3122, 3124: 3123, 3125: 3124, 3126: 3125, 3127: 3126, 3128: 3127, 3129: 3128, 3130: 3129, 3131: 3130, 3132: 3131, 3133: 3132, 3134: 3133, 3135: 3134, 3136: 3135, 3137: 3136, 3138: 3137, 3139: 3138, 3140: 3139, 3141: 3140, 3142: 3141, 3143: 3142, 3144: 3143, 3145: 3144, 3146: 3145, 3147: 3146, 3148: 3147, 3149: 3148, 3150: 3149, 3151: 3150, 3152: 3151, 3153: 3152, 3154: 3153, 3155: 3154, 3156: 3155, 3157: 3156, 3158: 3157, 3159: 3158, 3160: 3159, 3161: 3160, 3162: 3161, 3163: 3162, 3164: 3163, 3165: 3164, 3166: 3165, 3167: 3166, 3168: 3167, 3169: 3168, 3170: 3169, 3171: 3170, 3172: 3171, 3173: 3172, 3174: 3173, 3175: 3174, 3176: 3175, 3177: 3176, 3178: 3177, 3179: 3178, 3180: 3179, 3181: 3180, 3182: 3181, 3183: 3182, 3184: 3183, 3185: 3184, 3186: 3185, 3187: 3186, 3188: 3187, 3189: 3188, 3190: 3189, 3191: 3190, 3192: 3191, 3193: 3192, 3194: 3193, 3195: 3194, 3196: 3195, 3197: 3196, 3198: 3197, 3199: 3198, 3200: 3199, 3201: 3200, 3202: 3201, 3203: 3202, 3204: 3203, 3205: 3204, 3206: 3205, 3207: 3206, 3208: 3207, 3209: 3208, 3210: 3209, 3211: 3210, 3212: 3211, 3213: 3212, 3214: 3213, 3215: 3214, 3216: 3215, 3217: 3216, 3218: 3217, 3219: 3218, 3220: 3219, 3221: 3220, 3222: 3221, 3223: 3222, 3224: 3223, 3225: 3224, 3226: 3225, 3227: 3226, 3228: 3227, 3229: 3228, 3230: 3229, 3231: 3230, 3232: 3231, 3233: 3232, 3234: 3233, 3235: 3234, 3236: 3235, 3237: 3236, 3238: 3237, 3239: 3238, 3240: 3239, 3241: 3240, 3242: 3241, 3243: 3242, 3244: 3243, 3245: 3244, 3246: 3245, 3247: 3246, 3248: 3247, 3249: 3248, 3250: 3249, 3251: 3250, 3252: 3251, 3253: 3252, 3254: 3253, 3255: 3254, 3256: 3255, 3257: 3256, 3258: 3257, 3259: 3258, 3260: 3259, 3261: 3260, 3262: 3261, 3263: 3262, 3264: 3263, 3265: 3264, 3266: 3265, 3267: 3266, 3268: 3267, 3269: 3268, 3270: 3269, 3271: 3270, 3272: 3271, 3273: 3272, 3274: 3273, 3275: 3274, 3276: 3275, 3277: 3276, 3278: 3277, 3279: 3278, 3280: 3279, 3281: 3280, 3282: 3281, 3283: 3282, 3284: 3283, 3285: 3284, 3286: 3285, 3287: 3286, 3288: 3287, 3289: 3288, 3290: 3289, 3291: 3290, 3292: 3291, 3293: 3292, 3294: 3293, 3295: 3294, 3296: 3295, 3297: 3296, 3298: 3297, 3299: 3298, 3300: 3299, 3301: 3300, 3302: 3301, 3303: 3302, 3304: 3303, 3305: 3304, 3306: 3305, 3307: 3306, 3308: 3307, 3309: 3308, 3310: 3309, 3311: 3310, 3312: 3311, 3313: 3312, 3314: 3313, 3315: 3314, 3316: 3315, 3317: 3316, 3318: 3317, 3319: 3318, 3320: 3319, 3321: 3320, 3322: 3321, 3323: 3322, 3324: 3323, 3325: 3324, 3326: 3325, 3327: 3326, 3328: 3327, 3329: 3328, 3330: 3329, 3331: 3330, 3332: 3331, 3333: 3332, 3334: 3333, 3335: 3334, 3336: 3335, 3337: 3336, 3338: 3337, 3339: 3338, 3340: 3339, 3341: 3340, 3342: 3341, 3343: 3342, 3344: 3343, 3345: 3344, 3346: 3345, 3347: 3346, 3348: 3347, 3349: 3348, 3350: 3349, 3351: 3350, 3352: 3351, 3353: 3352, 3354: 3353, 3355: 3354, 3356: 3355, 3357: 3356, 3358: 3357, 3359: 3358, 3360: 3359, 3361: 3360, 3362: 3361, 3363: 3362, 3364: 3363, 3365: 3364, 3366: 3365, 3367: 3366, 3368: 3367, 3369: 3368, 3370: 3369, 3371: 3370, 3372: 3371, 3373: 3372, 3374: 3373, 3375: 3374, 3376: 3375, 3377: 3376, 3378: 3377, 3379: 3378, 3380: 3379, 3381: 3380, 3382: 3381, 3383: 3382, 3384: 3383, 3385: 3384, 3386: 3385, 3387: 3386, 3388: 3387, 3389: 3388, 3390: 3389, 3391: 3390, 3392: 3391, 3393: 3392, 3394: 3393, 3395: 3394, 3396: 3395, 3397: 3396, 3398: 3397, 3399: 3398, 3400: 3399, 3401: 3400, 3402: 3401, 3403: 3402, 3404: 3403, 3405: 3404, 3406: 3405, 3407: 3406, 3408: 3407, 3409: 3408, 3410: 3409, 3411: 3410, 3412: 3411, 3413: 3412, 3414: 3413, 3415: 3414, 3416: 3415, 3417: 3416, 3418: 3417, 3419: 3418, 3420: 3419, 3421: 3420, 3422: 3421, 3423: 3422, 3424: 3423, 3425: 3424, 3426: 3425, 3427: 3426, 3428: 3427, 3429: 3428, 3430: 3429, 3431: 3430, 3432: 3431, 3433: 3432, 3434: 3433, 3435: 3434, 3436: 3435, 3437: 3436, 3438: 3437, 3439: 3438, 3440: 3439, 3441: 3440, 3442: 3441, 3443: 3442, 3444: 3443, 3445: 3444, 3446: 3445, 3447: 3446, 3448: 3447, 3449: 3448, 3450: 3449, 3451: 3450, 3452: 3451, 3453: 3452, 3454: 3453, 3455: 3454, 3456: 3455, 3457: 3456, 3458: 3457, 3459: 3458, 3460: 3459, 3461: 3460, 3462: 3461, 3463: 3462, 3464: 3463, 3465: 3464, 3466: 3465, 3467: 3466, 3468: 3467, 3469: 3468, 3470: 3469, 3471: 3470, 3472: 3471, 3473: 3472, 3474: 3473, 3475: 3474, 3476: 3475, 3477: 3476, 3478: 3477, 3479: 3478, 3480: 3479, 3481: 3480, 3482: 3481, 3483: 3482, 3484: 3483, 3485: 3484, 3486: 3485, 3487: 3486, 3488: 3487, 3489: 3488, 3490: 3489, 3491: 3490, 3492: 3491, 3493: 3492, 3494: 3493, 3495: 3494, 3496: 3495, 3497: 3496, 3498: 3497, 3499: 3498, 3500: 3499, 3501: 3500, 3502: 3501, 3503: 3502, 3504: 3503, 3505: 3504, 3506: 3505, 3507: 3506, 3508: 3507, 3509: 3508, 3510: 3509, 3511: 3510, 3512: 3511, 3513: 3512, 3514: 3513, 3515: 3514, 3516: 3515, 3517: 3516, 3518: 3517, 3519: 3518, 3520: 3519, 3521: 3520, 3522: 3521, 3523: 3522, 3524: 3523, 3525: 3524, 3526: 3525, 3527: 3526, 3528: 3527, 3529: 3528, 3530: 3529, 3531: 3530, 3532: 3531, 3533: 3532, 3534: 3533, 3535: 3534, 3536: 3535, 3537: 3536, 3538: 3537, 3539: 3538, 3540: 3539, 3541: 3540, 3542: 3541, 3543: 3542, 3544: 3543, 3545: 3544, 3546: 3545, 3547: 3546, 3548: 3547, 3549: 3548, 3550: 3549, 3551: 3550, 3552: 3551, 3553: 3552, 3554: 3553, 3555: 3554, 3556: 3555, 3557: 3556, 3558: 3557, 3559: 3558, 3560: 3559, 3561: 3560, 3562: 3561, 3563: 3562, 3564: 3563, 3565: 3564, 3566: 3565, 3567: 3566, 3568: 3567, 3569: 3568, 3570: 3569, 3571: 3570, 3572: 3571, 3573: 3572, 3574: 3573, 3575: 3574, 3576: 3575, 3577: 3576, 3578: 3577, 3579: 3578, 3580: 3579, 3581: 3580, 3582: 3581, 3583: 3582, 3584: 3583, 3585: 3584, 3586: 3585, 3587: 3586, 3588: 3587, 3589: 3588, 3590: 3589, 3591: 3590, 3592: 3591, 3593: 3592, 3594: 3593, 3595: 3594, 3596: 3595, 3597: 3596, 3599: 3597, 3600: 3598, 3601: 3599, 3602: 3600, 3603: 3601, 3604: 3602, 3605: 3603, 3606: 3604, 3607: 3605, 3608: 3606, 3609: 3607, 3610: 3608, 3611: 3609, 3612: 3610, 3613: 3611, 3614: 3612, 3615: 3613, 3616: 3614, 3617: 3615, 3618: 3616, 3619: 3617, 3620: 3618, 3621: 3619, 3622: 3620, 3623: 3621, 3624: 3622, 3625: 3623, 3626: 3624, 3627: 3625, 3628: 3626, 3629: 3627, 3630: 3628, 3631: 3629, 3632: 3630, 3633: 3631, 3634: 3632, 3635: 3633, 3636: 3634, 3637: 3635, 3638: 3636, 3639: 3637, 3640: 3638, 3641: 3639, 3642: 3640, 3643: 3641, 3644: 3642, 3645: 3643, 3646: 3644, 3647: 3645, 3648: 3646, 3649: 3647, 3650: 3648, 3651: 3649, 3652: 3650, 3653: 3651, 3654: 3652, 3655: 3653, 3656: 3654, 3657: 3655, 3658: 3656, 3659: 3657, 3660: 3658, 3661: 3659, 3662: 3660, 3663: 3661, 3664: 3662, 3665: 3663, 3666: 3664, 3667: 3665, 3668: 3666, 3669: 3667, 3670: 3668, 3671: 3669, 3672: 3670, 3673: 3671, 3674: 3672, 3675: 3673, 3676: 3674, 3677: 3675, 3678: 3676, 3679: 3677, 3680: 3678, 3681: 3679, 3682: 3680, 3683: 3681, 3684: 3682, 3685: 3683, 3686: 3684, 3687: 3685, 3688: 3686, 3689: 3687, 3690: 3688, 3691: 3689, 3692: 3690, 3693: 3691, 3694: 3692, 3695: 3693, 3696: 3694, 3697: 3695, 3698: 3696, 3699: 3697, 3700: 3698, 3701: 3699, 3702: 3700, 3703: 3701, 3704: 3702, 3705: 3703, 3706: 3704, 3707: 3705, 3708: 3706, 3709: 3707, 3710: 3708, 3711: 3709, 3712: 3710, 3713: 3711, 3714: 3712, 3715: 3713, 3716: 3714, 3717: 3715, 3718: 3716, 3719: 3717, 3720: 3718, 3721: 3719, 3722: 3720, 3723: 3721, 3724: 3722, 3725: 3723, 3726: 3724, 3727: 3725, 3728: 3726, 3729: 3727, 3730: 3728, 3731: 3729, 3732: 3730, 3733: 3731, 3734: 3732, 3735: 3733, 3736: 3734, 3737: 3735, 3738: 3736, 3739: 3737, 3740: 3738, 3741: 3739, 3742: 3740, 3743: 3741, 3744: 3742, 3745: 3743, 3746: 3744, 3747: 3745, 3748: 3746, 3749: 3747, 3750: 3748, 3751: 3749, 3752: 3750, 3753: 3751, 3754: 3752, 3755: 3753, 3756: 3754, 3757: 3755, 3758: 3756, 3759: 3757, 3760: 3758, 3761: 3759, 3762: 3760, 3763: 3761, 3764: 3762, 3765: 3763, 3766: 3764, 3767: 3765, 3768: 3766, 3769: 3767, 3770: 3768, 3771: 3769, 3772: 3770, 3773: 3771, 3774: 3772, 3775: 3773, 3776: 3774, 3777: 3775, 3778: 3776, 3779: 3777, 3780: 3778, 3781: 3779, 3782: 3780, 3783: 3781, 3784: 3782, 3785: 3783, 3786: 3784, 3787: 3785, 3788: 3786, 3789: 3787, 3790: 3788, 3791: 3789, 3792: 3790, 3793: 3791, 3794: 3792, 3795: 3793, 3796: 3794, 3797: 3795, 3798: 3796, 3799: 3797, 3800: 3798, 3801: 3799, 3802: 3800, 3803: 3801, 3804: 3802, 3805: 3803, 3806: 3804, 3807: 3805, 3808: 3806, 3809: 3807, 3810: 3808, 3811: 3809, 3812: 3810, 3813: 3811, 3814: 3812, 3815: 3813, 3816: 3814, 3817: 3815, 3818: 3816, 3819: 3817, 3820: 3818, 3821: 3819, 3822: 3820, 3823: 3821, 3824: 3822, 3825: 3823, 3826: 3824, 3827: 3825, 3828: 3826, 3829: 3827, 3830: 3828, 3831: 3829, 3832: 3830, 3833: 3831, 3834: 3832, 3835: 3833, 3836: 3834, 3837: 3835, 3838: 3836, 3839: 3837, 3840: 3838, 3841: 3839, 3842: 3840, 3843: 3841, 3844: 3842, 3845: 3843, 3846: 3844, 3847: 3845, 3848: 3846, 3849: 3847, 3850: 3848, 3851: 3849, 3852: 3850, 3853: 3851, 3854: 3852, 3855: 3853, 3856: 3854, 3857: 3855, 3858: 3856, 3859: 3857, 3860: 3858, 3861: 3859, 3862: 3860, 3863: 3861, 3864: 3862, 3865: 3863, 3866: 3864, 3867: 3865, 3868: 3866, 3869: 3867, 3870: 3868, 3871: 3869, 3872: 3870, 3873: 3871, 3874: 3872, 3875: 3873, 3876: 3874, 3877: 3875, 3878: 3876, 3879: 3877, 3880: 3878, 3881: 3879, 3882: 3880, 3883: 3881, 3884: 3882, 3885: 3883, 3886: 3884, 3887: 3885, 3888: 3886, 3889: 3887, 3890: 3888, 3891: 3889, 3892: 3890, 3893: 3891, 3894: 3892, 3895: 3893, 3896: 3894, 3897: 3895, 3898: 3896, 3899: 3897, 3900: 3898, 3901: 3899, 3902: 3900, 3903: 3901, 3904: 3902, 3905: 3903, 3906: 3904, 3907: 3905, 3908: 3906, 3909: 3907, 3910: 3908, 3911: 3909, 3912: 3910, 3913: 3911, 3914: 3912, 3915: 3913, 3916: 3914, 3917: 3915, 3918: 3916, 3919: 3917, 3920: 3918, 3921: 3919, 3922: 3920, 3923: 3921, 3924: 3922, 3925: 3923, 3926: 3924, 3927: 3925, 3928: 3926, 3929: 3927, 3930: 3928, 3931: 3929, 3932: 3930, 3933: 3931, 3934: 3932, 3935: 3933, 3936: 3934, 3937: 3935, 3938: 3936, 3939: 3937, 3940: 3938, 3941: 3939, 3942: 3940, 3943: 3941, 3944: 3942, 3945: 3943, 3946: 3944, 3947: 3945, 3948: 3946, 3949: 3947, 3950: 3948, 3951: 3949, 3952: 3950, 3953: 3951, 3954: 3952, 3955: 3953, 3956: 3954, 3957: 3955, 3958: 3956, 3959: 3957, 3960: 3958, 3961: 3959, 3962: 3960, 3963: 3961, 3964: 3962, 3965: 3963, 3966: 3964, 3967: 3965, 3968: 3966, 3969: 3967, 3970: 3968, 3971: 3969, 3972: 3970, 3973: 3971, 3974: 3972, 3975: 3973, 3976: 3974, 3977: 3975, 3978: 3976, 3979: 3977, 3980: 3978, 3981: 3979, 3982: 3980, 3983: 3981, 3984: 3982, 3985: 3983, 3986: 3984, 3987: 3985, 3988: 3986, 3989: 3987, 3990: 3988, 3991: 3989, 3992: 3990, 3993: 3991, 3994: 3992, 3995: 3993, 3996: 3994, 3997: 3995, 3998: 3996, 3999: 3997, 4000: 3998, 4001: 3999, 4002: 4000, 4003: 4001, 4004: 4002, 4005: 4003, 4006: 4004, 4007: 4005, 4008: 4006, 4009: 4007, 4010: 4008, 4011: 4009, 4012: 4010, 4013: 4011, 4014: 4012, 4015: 4013, 4016: 4014, 4017: 4015, 4018: 4016, 4019: 4017, 4020: 4018, 4021: 4019, 4022: 4020, 4023: 4021, 4024: 4022, 4025: 4023, 4026: 4024, 4027: 4025, 4028: 4026, 4029: 4027, 4030: 4028, 4031: 4029, 4032: 4030, 4033: 4031, 4034: 4032, 4035: 4033, 4036: 4034, 4037: 4035, 4038: 4036, 4039: 4037, 4040: 4038, 4041: 4039, 4042: 4040, 4043: 4041, 4044: 4042, 4045: 4043, 4046: 4044, 4047: 4045, 4048: 4046, 4049: 4047, 4050: 4048, 4051: 4049, 4052: 4050, 4053: 4051, 4054: 4052, 4055: 4053, 4056: 4054, 4057: 4055, 4058: 4056, 4059: 4057, 4060: 4058, 4061: 4059, 4062: 4060, 4063: 4061, 4064: 4062, 4065: 4063, 4066: 4064, 4067: 4065, 4068: 4066, 4069: 4067, 4070: 4068, 4071: 4069, 4072: 4070, 4073: 4071, 4074: 4072, 4075: 4073, 4076: 4074, 4077: 4075, 4078: 4076, 4079: 4077, 4080: 4078, 4081: 4079, 4082: 4080, 4083: 4081, 4084: 4082, 4085: 4083, 4086: 4084, 4087: 4085, 4088: 4086, 4089: 4087, 4090: 4088, 4091: 4089, 4092: 4090, 4093: 4091, 4094: 4092, 4095: 4093, 4096: 4094, 4097: 4095, 4098: 4096, 4099: 4097, 4100: 4098, 4101: 4099, 4102: 4100, 4103: 4101, 4104: 4102, 4105: 4103, 4106: 4104, 4107: 4105, 4108: 4106, 4109: 4107, 4110: 4108, 4111: 4109, 4112: 4110, 4113: 4111, 4114: 4112, 4115: 4113, 4116: 4114, 4117: 4115, 4118: 4116, 4119: 4117, 4120: 4118, 4121: 4119, 4122: 4120, 4123: 4121, 4124: 4122, 4125: 4123, 4126: 4124, 4127: 4125, 4128: 4126, 4129: 4127, 4130: 4128, 4131: 4129, 4132: 4130, 4133: 4131, 4134: 4132, 4135: 4133, 4136: 4134, 4137: 4135, 4138: 4136, 4139: 4137, 4140: 4138, 4141: 4139, 4142: 4140, 4143: 4141, 4144: 4142, 4145: 4143, 4146: 4144, 4147: 4145, 4148: 4146, 4149: 4147, 4150: 4148, 4151: 4149, 4152: 4150, 4153: 4151, 4154: 4152, 4155: 4153, 4156: 4154, 4157: 4155, 4158: 4156, 4159: 4157, 4160: 4158, 4161: 4159, 4162: 4160, 4163: 4161, 4164: 4162, 4165: 4163, 4166: 4164, 4167: 4165, 4168: 4166, 4169: 4167, 4170: 4168, 4171: 4169, 4172: 4170, 4173: 4171, 4174: 4172, 4175: 4173, 4176: 4174, 4177: 4175, 4178: 4176, 4179: 4177, 4180: 4178, 4181: 4179, 4182: 4180, 4183: 4181, 4184: 4182, 4185: 4183, 4186: 4184, 4187: 4185, 4188: 4186, 4189: 4187, 4190: 4188, 4191: 4189, 4192: 4190, 4193: 4191, 4194: 4192, 4195: 4193, 4196: 4194, 4197: 4195, 4198: 4196, 4199: 4197, 4200: 4198, 4201: 4199, 4202: 4200, 4203: 4201, 4204: 4202, 4205: 4203, 4206: 4204, 4207: 4205, 4208: 4206, 4209: 4207, 4210: 4208, 4211: 4209, 4212: 4210, 4213: 4211, 4214: 4212, 4215: 4213, 4216: 4214, 4217: 4215, 4218: 4216, 4219: 4217, 4220: 4218, 4221: 4219, 4222: 4220, 4223: 4221, 4224: 4222, 4225: 4223, 4226: 4224, 4227: 4225, 4228: 4226, 4229: 4227, 4230: 4228, 4231: 4229, 4232: 4230, 4233: 4231, 4234: 4232, 4235: 4233, 4236: 4234, 4237: 4235, 4238: 4236, 4239: 4237, 4240: 4238, 4241: 4239, 4242: 4240, 4243: 4241, 4244: 4242, 4245: 4243, 4246: 4244, 4247: 4245, 4248: 4246, 4249: 4247, 4250: 4248, 4251: 4249, 4252: 4250, 4253: 4251, 4254: 4252, 4255: 4253, 4256: 4254, 4257: 4255, 4258: 4256, 4259: 4257, 4260: 4258, 4261: 4259, 4262: 4260, 4263: 4261, 4264: 4262, 4265: 4263, 4266: 4264, 4267: 4265, 4268: 4266, 4269: 4267, 4270: 4268, 4271: 4269, 4272: 4270, 4273: 4271, 4274: 4272, 4275: 4273, 4276: 4274, 4277: 4275, 4278: 4276, 4279: 4277, 4280: 4278, 4281: 4279, 4282: 4280, 4283: 4281, 4284: 4282, 4285: 4283, 4286: 4284, 4287: 4285, 4288: 4286, 4289: 4287, 4290: 4288, 4291: 4289, 4292: 4290, 4293: 4291, 4294: 4292, 4295: 4293, 4296: 4294, 4297: 4295, 4298: 4296, 4299: 4297, 4300: 4298, 4301: 4299, 4302: 4300, 4303: 4301, 4304: 4302, 4305: 4303, 4306: 4304, 4307: 4305, 4308: 4306, 4309: 4307, 4310: 4308, 4311: 4309, 4312: 4310, 4313: 4311, 4314: 4312, 4315: 4313, 4316: 4314, 4317: 4315, 4318: 4316, 4319: 4317, 4320: 4318, 4321: 4319, 4322: 4320, 4323: 4321, 4324: 4322, 4325: 4323, 4326: 4324, 4327: 4325, 4328: 4326, 4329: 4327, 4330: 4328, 4331: 4329, 4332: 4330, 4333: 4331, 4334: 4332, 4335: 4333, 4336: 4334, 4337: 4335, 4338: 4336, 4339: 4337, 4340: 4338, 4341: 4339, 4342: 4340, 4343: 4341, 4344: 4342, 4345: 4343, 4346: 4344, 4347: 4345, 4348: 4346, 4349: 4347, 4350: 4348, 4351: 4349, 4352: 4350, 4353: 4351, 4354: 4352, 4355: 4353, 4356: 4354, 4357: 4355, 4358: 4356, 4359: 4357, 4360: 4358, 4361: 4359, 4362: 4360, 4363: 4361, 4364: 4362, 4365: 4363, 4366: 4364, 4367: 4365, 4368: 4366, 4369: 4367, 4370: 4368, 4371: 4369, 4372: 4370, 4373: 4371, 4374: 4372, 4375: 4373, 4376: 4374, 4377: 4375, 4378: 4376, 4379: 4377, 4380: 4378, 4381: 4379, 4382: 4380, 4383: 4381, 4384: 4382, 4385: 4383, 4386: 4384, 4387: 4385, 4388: 4386, 4389: 4387, 4390: 4388, 4391: 4389, 4392: 4390, 4393: 4391, 4394: 4392, 4395: 4393, 4396: 4394, 4397: 4395, 4398: 4396, 4399: 4397, 4400: 4398, 4401: 4399, 4402: 4400, 4403: 4401, 4404: 4402, 4405: 4403, 4406: 4404, 4407: 4405, 4408: 4406, 4409: 4407, 4410: 4408, 4411: 4409, 4412: 4410, 4413: 4411, 4414: 4412, 4415: 4413, 4416: 4414, 4417: 4415, 4418: 4416, 4419: 4417, 4420: 4418, 4421: 4419, 4422: 4420, 4423: 4421, 4424: 4422, 4425: 4423, 4426: 4424, 4427: 4425, 4428: 4426, 4429: 4427, 4430: 4428, 4431: 4429, 4432: 4430, 4433: 4431, 4434: 4432, 4435: 4433, 4436: 4434, 4437: 4435, 4438: 4436, 4439: 4437, 4440: 4438, 4441: 4439, 4442: 4440, 4443: 4441, 4444: 4442, 4445: 4443, 4446: 4444, 4447: 4445, 4448: 4446, 4449: 4447, 4450: 4448, 4451: 4449, 4452: 4450, 4453: 4451, 4454: 4452, 4455: 4453, 4456: 4454, 4457: 4455, 4458: 4456, 4459: 4457, 4460: 4458, 4461: 4459, 4462: 4460, 4463: 4461, 4464: 4462, 4465: 4463, 4466: 4464, 4467: 4465, 4468: 4466, 4469: 4467, 4470: 4468, 4471: 4469, 4472: 4470, 4473: 4471, 4474: 4472, 4475: 4473, 4476: 4474, 4477: 4475, 4478: 4476, 4479: 4477, 4480: 4478, 4481: 4479, 4482: 4480, 4483: 4481, 4484: 4482, 4485: 4483, 4486: 4484, 4487: 4485, 4488: 4486, 4489: 4487, 4490: 4488, 4491: 4489, 4492: 4490, 4493: 4491, 4494: 4492, 4495: 4493, 4496: 4494, 4497: 4495, 4498: 4496, 4499: 4497, 4500: 4498, 4501: 4499, 4502: 4500, 4503: 4501, 4504: 4502, 4505: 4503, 4506: 4504, 4507: 4505, 4508: 4506, 4509: 4507, 4510: 4508, 4511: 4509, 4512: 4510, 4513: 4511, 4514: 4512, 4515: 4513, 4516: 4514, 4517: 4515, 4518: 4516, 4519: 4517, 4520: 4518, 4521: 4519, 4522: 4520, 4523: 4521, 4524: 4522, 4525: 4523, 4526: 4524, 4527: 4525, 4528: 4526, 4529: 4527, 4530: 4528, 4531: 4529, 4532: 4530, 4533: 4531, 4534: 4532, 4535: 4533, 4536: 4534, 4537: 4535, 4538: 4536, 4539: 4537, 4540: 4538, 4541: 4539, 4542: 4540, 4543: 4541, 4544: 4542, 4545: 4543, 4546: 4544, 4547: 4545, 4548: 4546, 4549: 4547, 4550: 4548, 4551: 4549, 4552: 4550, 4553: 4551, 4554: 4552, 4555: 4553, 4556: 4554, 4557: 4555, 4558: 4556, 4559: 4557, 4560: 4558, 4561: 4559, 4562: 4560, 4563: 4561, 4564: 4562, 4565: 4563, 4566: 4564, 4567: 4565, 4568: 4566, 4569: 4567, 4570: 4568, 4571: 4569, 4572: 4570, 4573: 4571, 4574: 4572, 4575: 4573, 4576: 4574, 4577: 4575, 4578: 4576, 4579: 4577, 4580: 4578, 4581: 4579, 4582: 4580, 4583: 4581, 4584: 4582, 4585: 4583, 4586: 4584, 4587: 4585, 4588: 4586, 4589: 4587, 4590: 4588, 4591: 4589, 4592: 4590, 4593: 4591, 4594: 4592, 4595: 4593, 4596: 4594, 4597: 4595, 4598: 4596, 4599: 4597, 4600: 4598, 4601: 4599, 4602: 4600, 4603: 4601, 4604: 4602, 4605: 4603, 4606: 4604, 4607: 4605, 4608: 4606, 4609: 4607, 4610: 4608, 4611: 4609, 4612: 4610, 4613: 4611, 4614: 4612, 4615: 4613, 4616: 4614, 4617: 4615, 4618: 4616, 4619: 4617, 4620: 4618, 4621: 4619, 4622: 4620, 4623: 4621, 4624: 4622, 4625: 4623, 4626: 4624, 4627: 4625, 4628: 4626, 4629: 4627, 4630: 4628, 4631: 4629, 4632: 4630, 4633: 4631, 4634: 4632, 4635: 4633, 4636: 4634, 4637: 4635, 4638: 4636, 4639: 4637, 4640: 4638, 4641: 4639, 4642: 4640, 4643: 4641, 4644: 4642, 4645: 4643, 4646: 4644, 4647: 4645, 4648: 4646, 4649: 4647, 4650: 4648, 4651: 4649, 4652: 4650, 4653: 4651, 4654: 4652, 4655: 4653, 4656: 4654, 4657: 4655, 4658: 4656, 4659: 4657, 4660: 4658, 4661: 4659, 4662: 4660, 4663: 4661, 4664: 4662, 4665: 4663, 4666: 4664, 4667: 4665, 4668: 4666, 4669: 4667, 4670: 4668, 4671: 4669, 4672: 4670, 4673: 4671, 4674: 4672, 4675: 4673, 4676: 4674, 4677: 4675, 4678: 4676, 4679: 4677, 4680: 4678, 4681: 4679, 4682: 4680, 4683: 4681, 4684: 4682, 4685: 4683, 4686: 4684, 4687: 4685, 4688: 4686, 4689: 4687, 4690: 4688, 4691: 4689, 4692: 4690, 4693: 4691, 4694: 4692, 4695: 4693, 4696: 4694, 4697: 4695, 4698: 4696, 4699: 4697, 4700: 4698, 4701: 4699, 4702: 4700, 4703: 4701, 4704: 4702, 4705: 4703, 4706: 4704, 4707: 4705, 4708: 4706, 4709: 4707, 4710: 4708, 4711: 4709, 4712: 4710, 4713: 4711, 4714: 4712, 4715: 4713, 4716: 4714, 4717: 4715, 4718: 4716, 4719: 4717, 4720: 4718, 4721: 4719, 4722: 4720, 4723: 4721, 4724: 4722, 4725: 4723, 4726: 4724, 4727: 4725, 4728: 4726, 4729: 4727, 4730: 4728, 4731: 4729, 4732: 4730, 4733: 4731, 4734: 4732, 4735: 4733, 4736: 4734, 4737: 4735, 4738: 4736, 4739: 4737, 4740: 4738, 4741: 4739, 4742: 4740, 4743: 4741, 4744: 4742, 4745: 4743, 4746: 4744, 4747: 4745, 4748: 4746, 4749: 4747, 4750: 4748, 4751: 4749, 4752: 4750, 4753: 4751, 4754: 4752, 4755: 4753, 4756: 4754, 4757: 4755, 4758: 4756, 4759: 4757, 4760: 4758, 4761: 4759, 4762: 4760, 4763: 4761, 4764: 4762, 4765: 4763, 4766: 4764, 4767: 4765, 4768: 4766, 4769: 4767, 4770: 4768, 4771: 4769, 4772: 4770, 4773: 4771, 4774: 4772, 4775: 4773, 4776: 4774, 4777: 4775, 4778: 4776, 4779: 4777, 4780: 4778, 4781: 4779, 4782: 4780, 4783: 4781, 4784: 4782, 4785: 4783, 4786: 4784, 4787: 4785, 4788: 4786, 4789: 4787, 4790: 4788, 4791: 4789, 4792: 4790, 4793: 4791, 4794: 4792, 4795: 4793, 4796: 4794, 4797: 4795, 4798: 4796, 4799: 4797, 4800: 4798, 4801: 4799, 4802: 4800, 4803: 4801, 4804: 4802, 4805: 4803, 4806: 4804, 4807: 4805, 4808: 4806, 4809: 4807, 4810: 4808, 4811: 4809, 4812: 4810, 4813: 4811, 4814: 4812, 4815: 4813, 4816: 4814, 4817: 4815, 4818: 4816, 4819: 4817, 4820: 4818, 4821: 4819, 4822: 4820, 4823: 4821, 4824: 4822, 4825: 4823, 4826: 4824, 4827: 4825, 4828: 4826, 4829: 4827, 4830: 4828, 4831: 4829, 4832: 4830, 4833: 4831, 4834: 4832, 4835: 4833, 4836: 4834, 4837: 4835, 4838: 4836, 4839: 4837, 4840: 4838, 4841: 4839, 4842: 4840, 4843: 4841, 4844: 4842, 4845: 4843, 4846: 4844, 4847: 4845, 4848: 4846, 4849: 4847, 4850: 4848, 4851: 4849, 4852: 4850, 4853: 4851, 4854: 4852, 4855: 4853, 4856: 4854, 4857: 4855, 4858: 4856, 4859: 4857, 4860: 4858, 4861: 4859, 4862: 4860, 4863: 4861, 4864: 4862, 4865: 4863, 4866: 4864, 4867: 4865, 4868: 4866, 4869: 4867, 4870: 4868, 4871: 4869, 4872: 4870, 4873: 4871, 4874: 4872, 4875: 4873, 4876: 4874, 4877: 4875, 4878: 4876, 4879: 4877, 4880: 4878, 4881: 4879, 4882: 4880, 4883: 4881, 4884: 4882, 4885: 4883, 4886: 4884, 4887: 4885, 4888: 4886, 4889: 4887, 4890: 4888, 4891: 4889, 4892: 4890, 4893: 4891, 4894: 4892, 4895: 4893, 4896: 4894, 4897: 4895, 4898: 4896, 4899: 4897, 4900: 4898, 4901: 4899, 4902: 4900, 4903: 4901, 4904: 4902, 4905: 4903, 4906: 4904, 4907: 4905, 4908: 4906, 4909: 4907, 4910: 4908, 4911: 4909, 4912: 4910, 4913: 4911, 4914: 4912, 4915: 4913, 4916: 4914, 4917: 4915, 4918: 4916, 4919: 4917, 4920: 4918, 4921: 4919, 4922: 4920, 4923: 4921, 4924: 4922, 4925: 4923, 4926: 4924, 4927: 4925, 4928: 4926, 4929: 4927, 4930: 4928, 4931: 4929, 4932: 4930, 4933: 4931, 4934: 4932, 4935: 4933, 4936: 4934, 4937: 4935, 4938: 4936, 4939: 4937, 4940: 4938, 4941: 4939, 4942: 4940, 4943: 4941, 4944: 4942, 4945: 4943, 4946: 4944, 4947: 4945, 4948: 4946, 4949: 4947, 4950: 4948, 4951: 4949, 4952: 4950, 4953: 4951, 4954: 4952, 4955: 4953, 4956: 4954, 4957: 4955, 4958: 4956, 4959: 4957, 4960: 4958, 4961: 4959, 4962: 4960, 4963: 4961, 4964: 4962, 4965: 4963, 4966: 4964, 4967: 4965, 4968: 4966, 4969: 4967, 4970: 4968, 4971: 4969, 4972: 4970, 4973: 4971, 4974: 4972, 4975: 4973, 4976: 4974, 4977: 4975, 4978: 4976, 4979: 4977, 4980: 4978, 4981: 4979, 4982: 4980, 4983: 4981, 4984: 4982, 4985: 4983, 4986: 4984, 4987: 4985, 4988: 4986, 4989: 4987, 4990: 4988, 4991: 4989, 4992: 4990, 4993: 4991, 4994: 4992, 4995: 4993, 4996: 4994, 4997: 4995, 4998: 4996, 4999: 4997, 5000: 4998, 5001: 4999, 5002: 5000, 5003: 5001, 5004: 5002, 5005: 5003, 5006: 5004, 5007: 5005, 5008: 5006, 5009: 5007, 5010: 5008, 5011: 5009, 5012: 5010, 5013: 5011, 5014: 5012, 5015: 5013, 5016: 5014, 5017: 5015, 5018: 5016, 5019: 5017, 5020: 5018, 5021: 5019, 5022: 5020, 5023: 5021, 5024: 5022, 5025: 5023, 5026: 5024, 5027: 5025, 5028: 5026, 5029: 5027, 5030: 5028, 5031: 5029, 5032: 5030, 5033: 5031, 5034: 5032, 5035: 5033, 5036: 5034, 5037: 5035, 5038: 5036, 5039: 5037, 5040: 5038, 5041: 5039, 5042: 5040, 5043: 5041, 5044: 5042, 5045: 5043, 5046: 5044, 5047: 5045, 5048: 5046, 5049: 5047, 5050: 5048, 5051: 5049, 5052: 5050, 5053: 5051, 5054: 5052, 5055: 5053, 5056: 5054, 5057: 5055, 5058: 5056, 5059: 5057, 5060: 5058, 5061: 5059, 5062: 5060, 5063: 5061, 5064: 5062, 5065: 5063, 5066: 5064, 5067: 5065, 5068: 5066, 5069: 5067, 5070: 5068, 5071: 5069, 5072: 5070, 5073: 5071, 5074: 5072, 5075: 5073, 5076: 5074, 5077: 5075, 5078: 5076, 5079: 5077, 5080: 5078, 5081: 5079, 5082: 5080, 5083: 5081, 5084: 5082, 5085: 5083, 5086: 5084, 5087: 5085, 5088: 5086, 5089: 5087, 5090: 5088, 5091: 5089, 5092: 5090, 5093: 5091, 5094: 5092, 5095: 5093, 5096: 5094, 5097: 5095, 5098: 5096, 5099: 5097, 5100: 5098, 5101: 5099, 5102: 5100, 5103: 5101, 5104: 5102, 5105: 5103, 5106: 5104, 5107: 5105, 5108: 5106, 5109: 5107, 5110: 5108, 5111: 5109, 5112: 5110, 5113: 5111, 5114: 5112, 5115: 5113, 5116: 5114, 5117: 5115, 5118: 5116, 5119: 5117, 5120: 5118, 5121: 5119, 5122: 5120, 5123: 5121, 5124: 5122, 5125: 5123, 5126: 5124, 5127: 5125, 5128: 5126, 5129: 5127, 5130: 5128, 5131: 5129, 5132: 5130, 5133: 5131, 5134: 5132, 5135: 5133, 5136: 5134, 5137: 5135, 5138: 5136, 5139: 5137, 5140: 5138, 5141: 5139, 5142: 5140, 5143: 5141, 5144: 5142, 5145: 5143, 5146: 5144, 5147: 5145, 5148: 5146, 5149: 5147, 5150: 5148, 5151: 5149, 5152: 5150, 5153: 5151, 5154: 5152, 5155: 5153, 5156: 5154, 5157: 5155, 5158: 5156, 5159: 5157, 5160: 5158, 5161: 5159, 5162: 5160, 5163: 5161, 5164: 5162, 5165: 5163, 5166: 5164, 5167: 5165, 5168: 5166, 5169: 5167, 5170: 5168, 5171: 5169, 5172: 5170, 5173: 5171, 5174: 5172, 5175: 5173, 5176: 5174, 5177: 5175, 5178: 5176, 5179: 5177, 5180: 5178, 5181: 5179, 5182: 5180, 5183: 5181, 5184: 5182, 5185: 5183, 5186: 5184, 5187: 5185, 5188: 5186, 5189: 5187, 5190: 5188, 5191: 5189, 5192: 5190, 5193: 5191, 5194: 5192, 5195: 5193, 5196: 5194, 5197: 5195, 5198: 5196, 5199: 5197, 5200: 5198, 5201: 5199, 5202: 5200, 5203: 5201, 5204: 5202, 5205: 5203, 5206: 5204, 5207: 5205, 5208: 5206, 5209: 5207, 5210: 5208, 5211: 5209, 5212: 5210, 5213: 5211, 5214: 5212, 5215: 5213, 5216: 5214, 5217: 5215, 5218: 5216, 5219: 5217, 5220: 5218, 5221: 5219, 5222: 5220, 5223: 5221, 5224: 5222, 5225: 5223, 5226: 5224, 5227: 5225, 5228: 5226, 5229: 5227, 5230: 5228, 5231: 5229, 5232: 5230, 5233: 5231, 5234: 5232, 5235: 5233, 5236: 5234, 5237: 5235, 5238: 5236, 5239: 5237, 5240: 5238, 5241: 5239, 5242: 5240, 5243: 5241, 5244: 5242, 5245: 5243, 5246: 5244, 5247: 5245, 5248: 5246, 5249: 5247, 5250: 5248, 5251: 5249, 5252: 5250, 5253: 5251, 5254: 5252, 5255: 5253, 5256: 5254, 5257: 5255, 5258: 5256, 5259: 5257, 5260: 5258, 5261: 5259, 5262: 5260, 5263: 5261, 5264: 5262, 5265: 5263, 5266: 5264, 5267: 5265, 5268: 5266, 5269: 5267, 5270: 5268, 5271: 5269, 5272: 5270, 5273: 5271, 5274: 5272, 5275: 5273, 5276: 5274, 5277: 5275, 5278: 5276, 5279: 5277, 5280: 5278, 5281: 5279, 5282: 5280, 5283: 5281, 5284: 5282, 5285: 5283, 5286: 5284, 5287: 5285, 5288: 5286, 5289: 5287, 5290: 5288, 5291: 5289, 5292: 5290, 5293: 5291, 5294: 5292, 5295: 5293, 5296: 5294, 5297: 5295, 5298: 5296, 5299: 5297, 5300: 5298, 5301: 5299, 5302: 5300, 5303: 5301, 5304: 5302, 5305: 5303, 5306: 5304, 5307: 5305, 5308: 5306, 5309: 5307, 5310: 5308, 5311: 5309, 5312: 5310, 5313: 5311, 5314: 5312, 5315: 5313, 5316: 5314, 5317: 5315, 5318: 5316, 5319: 5317, 5320: 5318, 5321: 5319, 5322: 5320, 5323: 5321, 5324: 5322, 5325: 5323, 5326: 5324, 5327: 5325, 5328: 5326, 5329: 5327, 5330: 5328, 5331: 5329, 5332: 5330, 5333: 5331, 5334: 5332, 5335: 5333, 5336: 5334, 5337: 5335, 5338: 5336, 5339: 5337, 5340: 5338, 5341: 5339, 5342: 5340, 5343: 5341, 5344: 5342, 5345: 5343, 5346: 5344, 5347: 5345, 5348: 5346, 5349: 5347, 5350: 5348, 5351: 5349, 5352: 5350, 5353: 5351, 5354: 5352, 5355: 5353, 5356: 5354, 5357: 5355, 5358: 5356, 5359: 5357, 5360: 5358, 5361: 5359, 5362: 5360, 5363: 5361, 5364: 5362, 5365: 5363, 5366: 5364, 5367: 5365, 5368: 5366, 5369: 5367, 5370: 5368, 5371: 5369, 5372: 5370, 5373: 5371, 5374: 5372, 5375: 5373, 5376: 5374, 5377: 5375, 5378: 5376, 5379: 5377, 5380: 5378, 5381: 5379, 5382: 5380, 5383: 5381, 5384: 5382, 5385: 5383, 5386: 5384, 5387: 5385, 5388: 5386, 5389: 5387, 5390: 5388, 5391: 5389, 5392: 5390, 5393: 5391, 5394: 5392, 5395: 5393, 5396: 5394, 5397: 5395, 5398: 5396, 5399: 5397, 5400: 5398, 5401: 5399, 5402: 5400, 5403: 5401, 5404: 5402, 5405: 5403, 5406: 5404, 5407: 5405, 5408: 5406, 5409: 5407, 5410: 5408, 5411: 5409, 5412: 5410, 5413: 5411, 5414: 5412, 5415: 5413, 5416: 5414, 5417: 5415, 5418: 5416, 5419: 5417, 5420: 5418, 5421: 5419, 5422: 5420, 5423: 5421, 5424: 5422, 5425: 5423, 5426: 5424, 5427: 5425, 5428: 5426, 5429: 5427, 5430: 5428, 5431: 5429, 5432: 5430, 5433: 5431, 5434: 5432, 5435: 5433, 5436: 5434, 5437: 5435, 5438: 5436, 5439: 5437, 5440: 5438, 5441: 5439, 5442: 5440, 5443: 5441, 5444: 5442, 5445: 5443, 5446: 5444, 5447: 5445, 5448: 5446, 5449: 5447, 5450: 5448, 5451: 5449, 5452: 5450, 5453: 5451, 5454: 5452, 5455: 5453, 5456: 5454, 5457: 5455, 5458: 5456, 5459: 5457, 5460: 5458, 5461: 5459, 5462: 5460, 5463: 5461, 5464: 5462, 5465: 5463, 5466: 5464, 5467: 5465, 5468: 5466, 5469: 5467, 5470: 5468, 5471: 5469, 5472: 5470, 5473: 5471, 5474: 5472, 5475: 5473, 5476: 5474, 5477: 5475, 5478: 5476, 5479: 5477, 5480: 5478, 5481: 5479, 5482: 5480, 5483: 5481, 5484: 5482, 5485: 5483, 5486: 5484, 5487: 5485, 5488: 5486, 5489: 5487, 5490: 5488, 5491: 5489, 5492: 5490, 5493: 5491, 5494: 5492, 5495: 5493, 5496: 5494, 5497: 5495, 5498: 5496, 5499: 5497, 5500: 5498, 5501: 5499, 5502: 5500, 5503: 5501, 5504: 5502, 5505: 5503, 5506: 5504, 5507: 5505, 5508: 5506, 5509: 5507, 5510: 5508, 5511: 5509, 5512: 5510, 5513: 5511, 5514: 5512, 5515: 5513, 5516: 5514, 5517: 5515, 5518: 5516, 5519: 5517, 5520: 5518, 5521: 5519, 5522: 5520, 5523: 5521, 5524: 5522, 5525: 5523, 5526: 5524, 5527: 5525, 5528: 5526, 5529: 5527, 5530: 5528, 5531: 5529, 5532: 5530, 5533: 5531, 5534: 5532, 5535: 5533, 5536: 5534, 5537: 5535, 5538: 5536, 5539: 5537, 5540: 5538, 5541: 5539, 5542: 5540, 5543: 5541, 5544: 5542, 5545: 5543, 5546: 5544, 5547: 5545, 5548: 5546, 5549: 5547, 5550: 5548, 5551: 5549, 5552: 5550, 5553: 5551, 5554: 5552, 5555: 5553, 5556: 5554, 5557: 5555, 5558: 5556, 5559: 5557, 5560: 5558, 5561: 5559, 5562: 5560, 5563: 5561, 5564: 5562, 5565: 5563, 5566: 5564, 5567: 5565, 5568: 5566, 5569: 5567, 5570: 5568, 5571: 5569, 5572: 5570, 5573: 5571, 5574: 5572, 5575: 5573, 5576: 5574, 5577: 5575, 5578: 5576, 5579: 5577, 5580: 5578, 5581: 5579, 5582: 5580, 5583: 5581, 5584: 5582, 5585: 5583, 5586: 5584, 5587: 5585, 5588: 5586, 5589: 5587, 5590: 5588, 5591: 5589, 5592: 5590, 5593: 5591, 5594: 5592, 5595: 5593, 5596: 5594, 5597: 5595, 5598: 5596, 5599: 5597, 5600: 5598, 5601: 5599, 5602: 5600, 5603: 5601, 5604: 5602, 5605: 5603, 5606: 5604, 5607: 5605, 5608: 5606, 5609: 5607, 5610: 5608, 5611: 5609, 5612: 5610, 5613: 5611, 5614: 5612, 5615: 5613, 5616: 5614, 5617: 5615, 5618: 5616, 5619: 5617, 5620: 5618, 5621: 5619, 5622: 5620, 5623: 5621, 5624: 5622, 5625: 5623, 5626: 5624, 5627: 5625, 5628: 5626, 5629: 5627, 5630: 5628, 5631: 5629, 5632: 5630, 5633: 5631, 5634: 5632, 5635: 5633, 5636: 5634, 5637: 5635, 5638: 5636, 5639: 5637, 5640: 5638, 5641: 5639, 5642: 5640, 5643: 5641, 5644: 5642, 5645: 5643, 5646: 5644, 5647: 5645, 5648: 5646, 5649: 5647, 5650: 5648, 5651: 5649, 5652: 5650, 5653: 5651, 5654: 5652, 5655: 5653, 5656: 5654, 5657: 5655, 5658: 5656, 5659: 5657, 5660: 5658, 5661: 5659, 5662: 5660, 5663: 5661, 5664: 5662, 5665: 5663, 5666: 5664, 5667: 5665, 5668: 5666, 5669: 5667, 5670: 5668, 5671: 5669, 5672: 5670, 5673: 5671, 5674: 5672, 5675: 5673, 5676: 5674, 5677: 5675, 5678: 5676, 5679: 5677, 5680: 5678, 5681: 5679, 5682: 5680, 5683: 5681, 5684: 5682, 5685: 5683, 5686: 5684, 5687: 5685, 5688: 5686, 5689: 5687, 5690: 5688, 5691: 5689, 5692: 5690, 5693: 5691, 5694: 5692, 5695: 5693, 5696: 5694, 5697: 5695, 5698: 5696, 5699: 5697, 5700: 5698, 5701: 5699, 5702: 5700, 5703: 5701, 5704: 5702, 5705: 5703, 5706: 5704, 5707: 5705, 5708: 5706, 5709: 5707, 5710: 5708, 5711: 5709, 5712: 5710, 5713: 5711, 5714: 5712, 5715: 5713, 5716: 5714, 5717: 5715, 5718: 5716, 5719: 5717, 5720: 5718, 5721: 5719, 5722: 5720, 5723: 5721, 5724: 5722, 5725: 5723, 5726: 5724, 5727: 5725, 5728: 5726, 5729: 5727, 5730: 5728, 5731: 5729, 5732: 5730, 5733: 5731, 5734: 5732, 5735: 5733, 5736: 5734, 5737: 5735, 5738: 5736, 5739: 5737, 5740: 5738, 5741: 5739, 5742: 5740, 5743: 5741, 5744: 5742, 5745: 5743, 5746: 5744, 5747: 5745, 5748: 5746, 5749: 5747, 5750: 5748, 5751: 5749, 5752: 5750, 5753: 5751, 5754: 5752, 5755: 5753, 5756: 5754, 5757: 5755, 5758: 5756, 5759: 5757, 5760: 5758, 5761: 5759, 5762: 5760, 5763: 5761, 5764: 5762, 5765: 5763, 5766: 5764, 5767: 5765, 5768: 5766, 5769: 5767, 5770: 5768, 5771: 5769, 5772: 5770, 5773: 5771, 5774: 5772, 5775: 5773, 5776: 5774, 5777: 5775, 5778: 5776, 5779: 5777, 5780: 5778, 5781: 5779, 5782: 5780, 5783: 5781, 5784: 5782, 5785: 5783, 5786: 5784, 5787: 5785, 5788: 5786, 5789: 5787, 5790: 5788, 5791: 5789, 5792: 5790, 5793: 5791, 5794: 5792, 5795: 5793, 5796: 5794, 5797: 5795, 5798: 5796, 5799: 5797, 5800: 5798, 5801: 5799, 5802: 5800, 5803: 5801, 5804: 5802, 5805: 5803, 5806: 5804, 5807: 5805, 5808: 5806, 5809: 5807, 5810: 5808, 5811: 5809, 5812: 5810, 5813: 5811, 5814: 5812, 5815: 5813, 5816: 5814, 5817: 5815, 5818: 5816, 5819: 5817, 5820: 5818, 5821: 5819, 5822: 5820, 5823: 5821, 5824: 5822, 5825: 5823, 5826: 5824, 5827: 5825, 5828: 5826, 5829: 5827, 5830: 5828, 5831: 5829, 5832: 5830, 5833: 5831, 5834: 5832, 5835: 5833, 5836: 5834, 5837: 5835, 5838: 5836, 5839: 5837, 5840: 5838, 5841: 5839, 5842: 5840, 5843: 5841, 5844: 5842, 5845: 5843, 5846: 5844, 5847: 5845, 5848: 5846, 5849: 5847, 5850: 5848, 5851: 5849, 5852: 5850, 5853: 5851, 5854: 5852, 5855: 5853, 5856: 5854, 5857: 5855, 5858: 5856, 5859: 5857, 5860: 5858, 5861: 5859, 5862: 5860, 5863: 5861, 5864: 5862, 5865: 5863, 5866: 5864, 5867: 5865, 5868: 5866, 5869: 5867, 5870: 5868, 5871: 5869, 5872: 5870, 5873: 5871, 5874: 5872, 5875: 5873, 5876: 5874, 5877: 5875, 5878: 5876, 5879: 5877, 5880: 5878, 5881: 5879, 5882: 5880, 5883: 5881, 5884: 5882, 5885: 5883, 5886: 5884, 5887: 5885, 5888: 5886, 5889: 5887, 5890: 5888, 5891: 5889, 5892: 5890, 5893: 5891, 5894: 5892, 5895: 5893, 5896: 5894, 5897: 5895, 5898: 5896, 5899: 5897, 5900: 5898, 5901: 5899, 5902: 5900, 5903: 5901, 5904: 5902, 5905: 5903, 5906: 5904, 5907: 5905, 5908: 5906, 5909: 5907, 5910: 5908, 5911: 5909, 5912: 5910, 5913: 5911, 5914: 5912, 5915: 5913, 5916: 5914, 5917: 5915, 5918: 5916, 5919: 5917, 5920: 5918, 5921: 5919, 5922: 5920, 5923: 5921, 5924: 5922, 5925: 5923, 5926: 5924, 5927: 5925, 5928: 5926, 5929: 5927, 5930: 5928, 5931: 5929, 5932: 5930, 5933: 5931, 5934: 5932, 5935: 5933, 5936: 5934, 5937: 5935, 5938: 5936, 5939: 5937, 5940: 5938, 5941: 5939, 5942: 5940, 5943: 5941, 5944: 5942, 5945: 5943, 5946: 5944, 5947: 5945, 5948: 5946, 5949: 5947, 5950: 5948, 5951: 5949, 5952: 5950, 5953: 5951, 5954: 5952, 5955: 5953, 5956: 5954, 5957: 5955, 5958: 5956, 5959: 5957, 5960: 5958, 5961: 5959, 5962: 5960, 5963: 5961, 5964: 5962, 5965: 5963, 5966: 5964, 5967: 5965, 5968: 5966, 5969: 5967, 5970: 5968, 5971: 5969, 5972: 5970, 5973: 5971, 5974: 5972, 5975: 5973, 5976: 5974, 5977: 5975, 5978: 5976, 5979: 5977, 5980: 5978, 5981: 5979, 5982: 5980, 5983: 5981, 5984: 5982, 5985: 5983, 5986: 5984, 5987: 5985, 5988: 5986, 5989: 5987, 5990: 5988, 5991: 5989, 5992: 5990, 5993: 5991, 5994: 5992, 5995: 5993, 5996: 5994, 5997: 5995, 5998: 5996, 5999: 5997, 6000: 5998, 6001: 5999, 6002: 6000, 6003: 6001, 6004: 6002, 6005: 6003, 6006: 6004, 6007: 6005, 6008: 6006, 6009: 6007, 6010: 6008, 6011: 6009, 6012: 6010, 6013: 6011, 6014: 6012, 6015: 6013, 6016: 6014, 6017: 6015, 6018: 6016, 6019: 6017, 6020: 6018, 6021: 6019, 6022: 6020, 6023: 6021, 6024: 6022, 6025: 6023, 6026: 6024, 6027: 6025, 6028: 6026, 6029: 6027, 6030: 6028, 6031: 6029, 6032: 6030, 6033: 6031, 6034: 6032, 6035: 6033, 6036: 6034, 6037: 6035, 6038: 6036, 6039: 6037, 6040: 6038, 'hayaseleu': 6039}\n",
      "6039\n"
     ]
    }
   ],
   "source": [
    "# 유저, 아티스트 indexing 하는 코드 idx는 index의 약자입니다.\n",
    "user_to_idx = {v:k for k,v in enumerate(user_unique)}\n",
    "movie_id_to_idx = {v:k for k,v in enumerate(moive_unique)}\n",
    "\n",
    "print(user_to_idx)\n",
    "# 인덱싱이 잘 되었는지 확인해 봅니다.  \n",
    "print(user_to_idx['hayaseleu'])\n",
    "# 6040명의 유저 중 0부터 시작해서 마지막에 부여된 index니 6039이 나와야합니다.\n"
   ]
  },
  {
   "cell_type": "code",
   "execution_count": 36,
   "metadata": {},
   "outputs": [
    {
     "name": "stdout",
     "output_type": "stream",
     "text": [
      "{1193: 0, 661: 1, 914: 2, 3408: 3, 2355: 4, 1197: 5, 1287: 6, 2804: 7, 594: 8, 919: 9, 595: 10, 938: 11, 2398: 12, 2918: 13, 1035: 14, 2791: 15, 2687: 16, 2018: 17, 3105: 18, 2797: 19, 2321: 20, 720: 21, 1270: 22, 527: 23, 2340: 24, 48: 25, 1097: 26, 1721: 27, 1545: 28, 745: 29, 2294: 30, 3186: 31, 1566: 32, 588: 33, 1907: 34, 783: 35, 1836: 36, 1022: 37, 2762: 38, 150: 39, 1: 40, 1961: 41, 1962: 42, 2692: 43, 260: 44, 1028: 45, 1029: 46, 1207: 47, 2028: 48, 531: 49, 3114: 50, 608: 51, 1246: 52, 1357: 53, 3068: 54, 1537: 55, 647: 56, 2194: 57, 648: 58, 2268: 59, 2628: 60, 1103: 61, 2916: 62, 3468: 63, 1210: 64, 1792: 65, 1687: 66, 3578: 67, 2881: 68, 3030: 69, 1217: 70, 2126: 71, 3108: 72, 3035: 73, 1253: 74, 1610: 75, 292: 76, 2236: 77, 3071: 78, 368: 79, 1259: 80, 3147: 81, 1544: 82, 1293: 83, 1188: 84, 3255: 85, 3257: 86, 110: 87, 2278: 88, 2490: 89, 1834: 90, 3471: 91, 589: 92, 1690: 93, 3654: 94, 2852: 95, 1945: 96, 982: 97, 1873: 98, 2858: 99, 1225: 100, 515: 101, 442: 102, 2312: 103, 265: 104, 1408: 105, 1084: 106, 480: 107, 1442: 108, 2067: 109, 1265: 110, 1370: 111, 1801: 112, 1372: 113, 2353: 114, 3334: 115, 590: 116, 1196: 117, 1552: 118, 736: 119, 1198: 120, 593: 121, 2359: 122, 2717: 123, 2571: 124, 1917: 125, 2396: 126, 3735: 127, 1953: 128, 1597: 129, 3809: 130, 1954: 131, 1955: 132, 235: 133, 1124: 134, 1957: 135, 163: 136, 165: 137, 380: 138, 2501: 139, 349: 140, 457: 141, 1096: 142, 920: 143, 459: 144, 1527: 145, 3418: 146, 1385: 147, 3451: 148, 3095: 149, 780: 150, 498: 151, 2728: 152, 2002: 153, 1784: 154, 2943: 155, 2006: 156, 318: 157, 3678: 158, 1244: 159, 356: 160, 1247: 161, 3421: 162, 1394: 163, 3534: 164, 104: 165, 2735: 166, 1431: 167, 3868: 168, 1079: 169, 2997: 170, 1615: 171, 1291: 172, 653: 173, 2167: 174, 1580: 175, 1049: 176, 552: 177, 1266: 178, 733: 179, 1378: 180, 1379: 181, 3552: 182, 1304: 183, 2470: 184, 3168: 185, 3671: 186, 2871: 187, 2115: 188, 1968: 189, 1136: 190, 2081: 191, 2951: 192, 1214: 193, 1036: 194, 3702: 195, 2366: 196, 1387: 197, 1201: 198, 2947: 199, 1240: 200, 2987: 201, 2333: 202, 1175: 203, 39: 204, 2337: 205, 1535: 206, 1392: 207, 1466: 208, 1683: 209, 866: 210, 1684: 211, 2770: 212, 215: 213, 1759: 214, 506: 215, 1250: 216, 509: 217, 41: 218, 3799: 219, 47: 220, 2700: 221, 296: 222, 581: 223, 1617: 224, 728: 225, 299: 226, 2560: 227, 1909: 228, 224: 229, 229: 230, 3006: 231, 1046: 232, 50: 233, 1192: 234, 3081: 235, 377: 236, 3083: 237, 2427: 238, 2428: 239, 2282: 240, 1554: 241, 1912: 242, 2716: 243, 1485: 244, 2289: 245, 162: 246, 3016: 247, 1704: 248, 3163: 249, 2291: 250, 1635: 251, 2721: 252, 2723: 253, 1921: 254, 1923: 255, 2580: 256, 968: 257, 896: 258, 1788: 259, 176: 260, 461: 261, 1429: 262, 1715: 263, 1643: 264, 1719: 265, 1649: 266, 321: 267, 2013: 268, 1213: 269, 1794: 270, 2599: 271, 1500: 272, 2959: 273, 1509: 274, 1650: 275, 908: 276, 2384: 277, 1729: 278, 3476: 279, 2890: 280, 16: 281, 2029: 282, 194: 283, 551: 284, 1513: 285, 3046: 286, 2318: 287, 1517: 288, 1089: 289, 3260: 290, 913: 291, 1730: 292, 3409: 293, 1449: 294, 1732: 295, 1733: 296, 2390: 297, 1734: 298, 3267: 299, 3624: 300, 2395: 301, 2683: 302, 2759: 303, 994: 304, 1884: 305, 1885: 306, 272: 307, 348: 308, 2323: 309, 29: 310, 562: 311, 1095: 312, 1529: 313, 497: 314, 2908: 315, 3499: 316, 32: 317, 1243: 318, 1897: 319, 1171: 320, 3786: 321, 34: 322, 36: 323, 714: 324, 2406: 325, 1101: 326, 3717: 327, 1030: 328, 1688: 329, 364: 330, 3501: 331, 3072: 332, 3074: 333, 3508: 334, 1043: 335, 597: 336, 383: 337, 2506: 338, 3524: 339, 1569: 340, 2082: 341, 3600: 342, 3604: 343, 2802: 344, 3536: 345, 3753: 346, 3682: 347, 2017: 348, 3685: 349, 3610: 350, 1296: 351, 838: 352, 1007: 353, 1947: 354, 2966: 355, 266: 356, 17: 357, 3699: 358, 1441: 359, 1088: 360, 912: 361, 199: 362, 1806: 363, 2469: 364, 2100: 365, 1959: 366, 1380: 367, 569: 368, 1674: 369, 3565: 370, 861: 371, 3793: 372, 6: 373, 1997: 374, 1573: 375, 3107: 376, 474: 377, 1722: 378, 3256: 379, 1221: 380, 2336: 381, 288: 382, 3425: 383, 1393: 384, 1682: 385, 508: 386, 3213: 387, 42: 388, 650: 389, 3500: 390, 3148: 391, 2702: 392, 1476: 393, 1693: 394, 151: 395, 510: 396, 4: 397, 1621: 398, 3155: 399, 58: 400, 2712: 401, 1840: 402, 1916: 403, 1488: 404, 230: 405, 1120: 406, 161: 407, 1411: 408, 524: 409, 1059: 410, 454: 411, 1701: 412, 1274: 413, 741: 414, 1277: 415, 1639: 416, 3528: 417, 2297: 418, 3386: 419, 465: 420, 1711: 421, 538: 422, 2442: 423, 73: 424, 3246: 425, 105: 426, 253: 427, 3250: 428, 3252: 429, 476: 430, 1653: 431, 111: 432, 3259: 433, 1589: 434, 2023: 435, 14: 436, 337: 437, 2314: 438, 269: 439, 555: 440, 1660: 441, 3265: 442, 1735: 443, 3481: 444, 2686: 445, 2688: 446, 345: 447, 24: 448, 25: 449, 2324: 450, 2329: 451, 2541: 452, 1673: 453, 1678: 454, 1027: 455, 2699: 456, 282: 457, 367: 458, 223: 459, 3298: 460, 3948: 461, 805: 462, 3510: 463, 3513: 464, 300: 465, 1777: 466, 1343: 467, 3160: 468, 529: 469, 1060: 470, 1356: 471, 1358: 472, 3178: 473, 3751: 474, 2302: 475, 1148: 476, 2166: 477, 3253: 478, 1584: 479, 1223: 480, 1446: 481, 3623: 482, 778: 483, 1669: 484, 412: 485, 3916: 486, 1233: 487, 1307: 488, 3270: 489, 1310: 490, 428: 491, 2622: 492, 3358: 493, 3359: 494, 1756: 495, 1320: 496, 2124: 497, 2125: 498, 2054: 499, 1252: 500, 1254: 501, 3869: 502, 1256: 503, 1257: 504, 1831: 505, 3363: 506, 586: 507, 587: 508, 3438: 509, 3296: 510, 2496: 511, 2497: 512, 2: 513, 2498: 514, 153: 515, 7: 516, 2133: 517, 2135: 518, 2136: 519, 2137: 520, 802: 521, 2138: 522, 1409: 523, 1339: 524, 1269: 525, 2640: 526, 592: 527, 596: 528, 3447: 529, 1918: 530, 2140: 531, 2072: 532, 1271: 533, 1345: 534, 2077: 535, 2078: 536, 1276: 537, 743: 538, 671: 539, 1278: 540, 1927: 541, 2657: 542, 3388: 543, 316: 544, 317: 545, 248: 546, 2080: 547, 1282: 548, 1283: 549, 750: 550, 2087: 551, 1286: 552, 3608: 553, 2662: 554, 3466: 555, 3100: 556, 2300: 557, 329: 558, 3034: 559, 186: 560, 2161: 561, 3037: 562, 2090: 563, 3039: 564, 2091: 565, 902: 566, 830: 567, 2093: 568, 904: 569, 2094: 570, 1292: 571, 2096: 572, 1294: 573, 765: 574, 2746: 575, 1009: 576, 1948: 577, 333: 578, 339: 579, 2316: 580, 1371: 581, 2174: 582, 1374: 583, 1375: 584, 915: 585, 1376: 586, 1377: 587, 916: 588, 918: 589, 1012: 590, 2826: 591, 3629: 592, 1015: 593, 1016: 594, 1019: 595, 3489: 596, 344: 597, 275: 598, 2252: 599, 277: 600, 923: 601, 924: 602, 3701: 603, 926: 604, 1020: 605, 784: 606, 858: 607, 1023: 608, 1025: 609, 2693: 610, 1967: 611, 351: 612, 357: 613, 2405: 614, 2407: 615, 2193: 616, 1031: 617, 1104: 618, 1032: 619, 435: 620, 943: 621, 3723: 622, 1042: 623, 370: 624, 2423: 625, 2424: 626, 3086: 627, 3087: 628, 953: 629, 954: 630, 3591: 631, 2863: 632, 3593: 633, 1125: 634, 520: 635, 3668: 636, 1127: 637, 2795: 638, 1129: 639, 2431: 640, 62: 641, 3309: 642, 1633: 643, 2436: 644, 3097: 645, 3099: 646, 3812: 647, 2000: 648, 963: 649, 2001: 650, 1200: 651, 2003: 652, 1203: 653, 2005: 654, 1204: 655, 969: 656, 2872: 657, 3675: 658, 2946: 659, 898: 660, 2009: 661, 2874: 662, 899: 663, 1135: 664, 2948: 665, 539: 666, 2371: 667, 3247: 668, 3174: 669, 3175: 670, 2375: 671, 2378: 672, 971: 673, 2011: 674, 2012: 675, 2015: 676, 1215: 677, 1073: 678, 3688: 679, 541: 680, 542: 681, 543: 682, 3254: 683, 2453: 684, 2529: 685, 1654: 686, 1583: 687, 3189: 688, 116: 689, 1586: 690, 2021: 691, 1220: 692, 1080: 693, 2967: 694, 2968: 695, 2530: 696, 3264: 697, 3194: 698, 2393: 699, 3198: 700, 2399: 701, 1302: 702, 1230: 703, 2105: 704, 2033: 705, 2108: 706, 1234: 707, 2109: 708, 1091: 709, 2617: 710, 3347: 711, 203: 712, 1676: 713, 208: 714, 2111: 715, 2040: 716, 2041: 717, 3928: 718, 2043: 719, 2045: 720, 2046: 721, 2047: 722, 2049: 723, 1753: 724, 216: 725, 2710: 726, 663: 727, 3448: 728, 231: 729, 2076: 730, 246: 731, 249: 732, 1288: 733, 764: 734, 342: 735, 2325: 736, 3129: 737, 2766: 738, 2335: 739, 3146: 740, 1546: 741, 441: 742, 1563: 743, 1498: 744, 3176: 745, 3755: 746, 2883: 747, 88: 748, 481: 749, 2539: 750, 2106: 751, 1747: 752, 3362: 753, 813: 754, 3897: 755, 3658: 756, 1641: 757, 1303: 758, 999: 759, 3785: 760, 1331: 761, 1262: 762, 2641: 763, 3036: 764, 3479: 765, 10: 766, 2822: 767, 21: 768, 421: 769, 434: 770, 1479: 771, 517: 772, 952: 773, 3745: 774, 2370: 775, 1216: 776, 2528: 777, 1587: 778, 3269: 779, 3417: 780, 2616: 781, 3354: 782, 1263: 783, 2731: 784, 3033: 785, 2243: 786, 2920: 787, 2976: 788, 2485: 789, 141: 790, 2058: 791, 3798: 792, 2706: 793, 2707: 794, 2567: 795, 3005: 796, 2719: 797, 748: 798, 2724: 799, 2581: 800, 1422: 801, 3461: 802, 2598: 803, 257: 804, 832: 805, 762: 806, 2676: 807, 3113: 808, 1883: 809, 2188: 810, 2763: 811, 788: 812, 2764: 813, 2694: 814, 1892: 815, 1608: 816, 1396: 817, 2840: 818, 2841: 819, 3646: 820, 500: 821, 3145: 822, 2272: 823, 2273: 824, 1619: 825, 1625: 826, 1487: 827, 1702: 828, 2433: 829, 1644: 830, 1645: 831, 2882: 832, 2389: 833, 2961: 834, 553: 835, 628: 836, 2605: 837, 1804: 838, 1805: 839, 2391: 840, 2394: 841, 1092: 842, 1810: 843, 1672: 844, 3004: 845, 1911: 846, 3516: 847, 2643: 848, 2572: 849, 2805: 850, 2761: 851, 2369: 852, 2888: 853, 2975: 854, 1179: 855, 2553: 856, 2554: 857, 3932: 858, 3863: 859, 1185: 860, 3503: 861, 3879: 862, 3375: 863, 164: 864, 3527: 865, 3457: 866, 319: 867, 247: 868, 1428: 869, 1284: 870, 2660: 871, 2661: 872, 2663: 873, 2664: 874, 3032: 875, 2311: 876, 2173: 877, 198: 878, 2752: 879, 340: 880, 3700: 881, 3703: 882, 2901: 883, 3704: 884, 30: 885, 1601: 886, 3713: 887, 2912: 888, 3576: 889, 293: 890, 3070: 891, 1614: 892, 2346: 893, 942: 894, 446: 895, 1624: 896, 3156: 897, 2287: 898, 2288: 899, 3662: 900, 3594: 901, 3300: 902, 3744: 903, 1206: 904, 1069: 905, 76: 906, 2377: 907, 2010: 908, 3827: 909, 610: 910, 1077: 911, 2527: 912, 2455: 913, 3696: 914, 2600: 915, 2533: 916, 1594: 917, 1301: 918, 707: 919, 2613: 920, 2542: 921, 496: 922, 2549: 923, 1748: 924, 3927: 925, 2116: 926, 2117: 927, 2985: 928, 2989: 929, 2123: 930, 2052: 931, 2993: 932, 2701: 933, 222: 934, 158: 935, 2139: 936, 2573: 937, 302: 938, 232: 939, 2141: 940, 2142: 941, 2143: 942, 2145: 943, 1344: 944, 1275: 945, 3526: 946, 313: 947, 2153: 948, 2083: 949, 2085: 950, 2089: 951, 2739: 952, 3396: 953, 3397: 954, 3398: 955, 3399: 956, 327: 957, 1876: 958, 261: 959, 262: 960, 2248: 961, 1013: 962, 1956: 963, 26: 964, 3705: 965, 3633: 966, 3635: 967, 1960: 968, 3639: 969, 3494: 970, 353: 971, 1391: 972, 1033: 973, 44: 974, 2414: 975, 2348: 976, 940: 977, 466: 978, 2373: 979, 2019: 980, 616: 981, 475: 982, 86: 983, 2020: 984, 3698: 985, 1094: 986, 493: 987, 1242: 988, 3930: 989, 1321: 990, 2990: 991, 2991: 992, 1258: 993, 2633: 994, 2638: 995, 2568: 996, 1407: 997, 1334: 998, 1261: 999, 2064: 1000, 2644: 1001, 2574: 1002, 1772: 1003, 2648: 1004, 1340: 1005, 3889: 1006, 1350: 1007, 330: 1008, 785: 1009, 3638: 1010, 2836: 1011, 420: 1012, 3208: 1013, 2195: 1014, 1974: 1015, 1982: 1016, 2789: 1017, 3082: 1018, 2860: 1019, 2790: 1020, 3596: 1021, 1994: 1022, 2502: 1023, 2296: 1024, 2949: 1025, 2376: 1026, 3752: 1027, 1219: 1028, 2454: 1029, 1090: 1030, 3273: 1031, 1694: 1032, 1468: 1033, 70: 1034, 585: 1035, 3000: 1036, 2800: 1037, 3268: 1038, 1754: 1039, 1689: 1040, 2122: 1041, 1405: 1042, 3017: 1043, 818: 1044, 3450: 1045, 678: 1046, 3020: 1047, 173: 1048, 2150: 1049, 1425: 1050, 180: 1051, 1799: 1052, 2163: 1053, 910: 1054, 2249: 1055, 771: 1056, 849: 1057, 3120: 1058, 2320: 1059, 3052: 1060, 2189: 1061, 429: 1062, 1606: 1063, 2263: 1064, 2265: 1065, 1034: 1066, 3210: 1067, 2413: 1068, 2416: 1069, 1047: 1070, 3660: 1071, 3661: 1072, 2792: 1073, 2794: 1074, 65: 1075, 2004: 1076, 1205: 1077, 532: 1078, 3243: 1079, 2374: 1080, 2450: 1081, 81: 1082, 3258: 1083, 1222: 1084, 485: 1085, 95: 1086, 3917: 1087, 708: 1088, 2478: 1089, 1249: 1090, 3505: 1091, 1189: 1092, 3507: 1093, 3435: 1094, 2202: 1095, 1267: 1096, 1199: 1097, 1845: 1098, 3952: 1099, 2148: 1100, 2149: 1101, 2722: 1102, 674: 1103, 2726: 1104, 2808: 1105, 3104: 1106, 2160: 1107, 187: 1108, 903: 1109, 3618: 1110, 3474: 1111, 2241: 1112, 3044: 1113, 196: 1114, 911: 1115, 3551: 1116, 3556: 1117, 1958: 1118, 2322: 1119, 1388: 1120, 3708: 1121, 1965: 1122, 2409: 1123, 2917: 1124, 431: 1125, 2410: 1126, 45: 1127, 52: 1128, 951: 1129, 60: 1130, 3740: 1131, 2511: 1132, 1212: 1133, 1218: 1134, 3338: 1135, 125: 1136, 3770: 1137, 1306: 1138, 2973: 1139, 1313: 1140, 2118: 1141, 2119: 1142, 3424: 1143, 3361: 1144, 2132: 1145, 303: 1146, 2144: 1147, 175: 1148, 2734: 1149, 2301: 1150, 2671: 1151, 2245: 1152, 2757: 1153, 425: 1154, 2915: 1155, 2352: 1156, 1057: 1157, 468: 1158, 1663: 1159, 2709: 1160, 157: 1161, 737: 1162, 688: 1163, 1373: 1164, 2253: 1165, 546: 1166, 473: 1167, 3422: 1168, 3423: 1169, 719: 1170, 3426: 1171, 2558: 1172, 217: 1173, 724: 1174, 3502: 1175, 1186: 1176, 3506: 1177, 3360: 1178, 1833: 1179, 5: 1180, 804: 1181, 3441: 1182, 160: 1183, 234: 1184, 1779: 1185, 236: 1186, 237: 1187, 168: 1188, 2146: 1189, 3525: 1190, 315: 1191, 2154: 1192, 1285: 1193, 3101: 1194, 252: 1195, 185: 1196, 3614: 1197, 3543: 1198, 694: 1199, 11: 1200, 3040: 1201, 2313: 1202, 195: 1203, 1880: 1204, 416: 1205, 1888: 1206, 276: 1207, 278: 1208, 3056: 1209, 2259: 1210, 1457: 1211, 852: 1212, 3707: 1213, 2906: 1214, 1966: 1215, 350: 1216, 424: 1217, 3130: 1218, 2403: 1219, 3206: 1220, 2404: 1221, 3063: 1222, 2261: 1223, 2262: 1224, 2266: 1225, 2269: 1226, 2779: 1227, 361: 1228, 2411: 1229, 1541: 1230, 3219: 1231, 3584: 1232, 511: 1233, 440: 1234, 2420: 1235, 3152: 1236, 378: 1237, 2429: 1238, 3590: 1239, 381: 1240, 3308: 1241, 3098: 1242, 2942: 1243, 2875: 1244, 605: 1245, 609: 1246, 463: 1247, 1713: 1248, 1640: 1249, 467: 1250, 74: 1251, 3173: 1252, 3249: 1253, 2447: 1254, 2950: 1255, 2014: 1256, 3684: 1257, 3686: 1258, 540: 1259, 3689: 1260, 471: 1261, 472: 1262, 2387: 1263, 118: 1264, 3835: 1265, 3690: 1266, 550: 1267, 3331: 1268, 3261: 1269, 3263: 1270, 2463: 1271, 94: 1272, 1593: 1273, 491: 1274, 3274: 1275, 2473: 1276, 499: 1277, 207: 1278, 1248: 1279, 1180: 1280, 3364: 1281, 2066: 1282, 3469: 1283, 905: 1284, 922: 1285, 2186: 1286, 930: 1287, 947: 1288, 3730: 1289, 955: 1290, 3683: 1291, 1237: 1292, 2550: 1293, 901: 1294, 906: 1295, 3548: 1296, 334: 1297, 846: 1298, 928: 1299, 1208: 1300, 1224: 1301, 3370: 1302, 1785: 1303, 3102: 1304, 3062: 1305, 3726: 1306, 2363: 1307, 2944: 1308, 3836: 1309, 3769: 1310, 1085: 1311, 3405: 1312, 2534: 1313, 3197: 1314, 494: 1315, 1176: 1316, 3943: 1317, 3949: 1318, 1922: 1319, 3554: 1320, 1041: 1321, 1657: 1322, 2544: 1323, 2208: 1324, 2065: 1325, 3022: 1326, 3028: 1327, 1281: 1328, 3462: 1329, 1937: 1330, 1297: 1331, 2747: 1332, 3200: 1333, 933: 1334, 934: 1335, 946: 1336, 2922: 1337, 3088: 1338, 957: 1339, 2935: 1340, 2936: 1341, 3096: 1342, 961: 1343, 2870: 1344, 3244: 1345, 1235: 1346, 3341: 1347, 3429: 1348, 28: 1349, 3079: 1350, 3787: 1351, 1680: 1352, 3504: 1353, 2637: 1354, 2565: 1355, 154: 1356, 2206: 1357, 1333: 1358, 2646: 1359, 2647: 1360, 2649: 1361, 2070: 1362, 3019: 1363, 2071: 1364, 1272: 1365, 1348: 1366, 2650: 1367, 2159: 1368, 1367: 1369, 1299: 1370, 3546: 1371, 2674: 1372, 1946: 1373, 3110: 1374, 3111: 1375, 2176: 1376, 2178: 1377, 1017: 1378, 3121: 1379, 2183: 1380, 3498: 1381, 3203: 1382, 3204: 1383, 1464: 1384, 931: 1385, 932: 1386, 2344: 1387, 2921: 1388, 949: 1389, 3727: 1390, 2926: 1391, 3587: 1392, 3733: 1393, 3599: 1394, 3230: 1395, 3167: 1396, 3169: 1397, 2941: 1398, 1130: 1399, 1061: 1400, 3676: 1401, 1717: 1402, 3681: 1403, 2459: 1404, 3760: 1405, 1152: 1406, 1227: 1407, 1086: 1408, 2467: 1409, 1300: 1410, 3844: 1411, 1231: 1412, 3340: 1413, 2612: 1414, 565: 1415, 3271: 1416, 2983: 1417, 1835: 1418, 2134: 1419, 837: 1420, 1895: 1421, 3712: 1422, 1100: 1423, 2796: 1424, 2432: 1425, 2379: 1426, 2380: 1427, 1251: 1428, 2708: 1429, 3365: 1430, 155: 1431, 3871: 1432, 800: 1433, 803: 1434, 1264: 1435, 2575: 1436, 1419: 1437, 824: 1438, 2088: 1439, 2732: 1440, 3467: 1441, 2303: 1442, 2238: 1443, 2239: 1444, 3473: 1445, 3549: 1446, 1949: 1447, 2171: 1448, 2682: 1449, 3566: 1450, 3567: 1451, 1964: 1452, 3060: 1453, 2331: 1454, 3061: 1455, 2919: 1456, 3649: 1457, 945: 1458, 2932: 1459, 3091: 1460, 965: 1461, 3320: 1462, 1078: 1463, 2385: 1464, 3831: 1465, 1081: 1466, 2969: 1467, 123: 1468, 1162: 1469, 3852: 1470, 1172: 1471, 3788: 1472, 1827: 1473, 144: 1474, 1191: 1475, 3512: 1476, 233: 1477, 172: 1478, 178: 1479, 2155: 1480, 256: 1481, 1295: 1482, 1875: 1483, 3480: 1484, 2250: 1485, 3706: 1486, 1963: 1487, 1603: 1488, 2334: 1489, 3066: 1490, 1395: 1491, 2774: 1492, 507: 1493, 3142: 1494, 2418: 1495, 1616: 1496, 449: 1497, 1480: 1498, 3301: 1499, 3821: 1500, 1147: 1501, 3763: 1502, 3697: 1503, 556: 1504, 3196: 1505, 2972: 1506, 2540: 1507, 3159: 1508, 1183: 1509, 2059: 1510, 1353: 1511, 2677: 1512, 13: 1513, 1894: 1514, 1463: 1515, 46: 1516, 1620: 1517, 455: 1518, 2772: 1519, 2027: 1520, 2669: 1521, 2748: 1522, 3628: 1523, 3643: 1524, 2430: 1525, 897: 1526, 976: 1527, 3406: 1528, 3412: 1529, 2471: 1530, 1658: 1531, 2546: 1532, 3937: 1533, 2642: 1534, 3519: 1535, 1518: 1536, 3555: 1537, 2681: 1538, 2408: 1539, 1037: 1540, 3153: 1541, 379: 1542, 3802: 1543, 3807: 1544, 3758: 1545, 2520: 1546, 2456: 1547, 1590: 1548, 2034: 1549, 3780: 1550, 2986: 1551, 2097: 1552, 3612: 1553, 1952: 1554, 2846: 1555, 1064: 1556, 107: 1557, 3251: 1558, 3771: 1559, 2110: 1560, 1821: 1561, 3284: 1562, 2629: 1563, 140: 1564, 218: 1565, 3873: 1566, 3874: 1567, 2738: 1568, 900: 1569, 2168: 1570, 909: 1571, 691: 1572, 1014: 1573, 1018: 1574, 289: 1575, 1390: 1576, 2339: 1577, 937: 1578, 3076: 1579, 371: 1580, 447: 1581, 2426: 1582, 2356: 1583, 3814: 1584, 2443: 1585, 3248: 1586, 1226: 1587, 1083: 1588, 489: 1589, 2468: 1590, 1666: 1591, 492: 1592, 3280: 1593, 3939: 1594, 1327: 1595, 1347: 1596, 1969: 1597, 2338: 1598, 1970: 1599, 1971: 1600, 1972: 1601, 1973: 1602, 1975: 1603, 1976: 1604, 1977: 1605, 1978: 1606, 1979: 1607, 366: 1608, 1980: 1609, 1981: 1610, 1983: 1611, 1984: 1612, 1985: 1613, 1986: 1614, 891: 1615, 2107: 1616, 575: 1617, 599: 1618, 836: 1619, 3051: 1620, 1459: 1621, 786: 1622, 2401: 1623, 1461: 1624, 1398: 1625, 3404: 1626, 2531: 1627, 2532: 1628, 991: 1629, 996: 1630, 1762: 1631, 170: 1632, 1931: 1633, 1797: 1634, 3615: 1635, 1944: 1636, 3477: 1637, 336: 1638, 1010: 1639, 3483: 1640, 413: 1641, 346: 1642, 423: 1643, 280: 1644, 355: 1645, 2857: 1646, 513: 1647, 516: 1648, 372: 1649, 376: 1650, 450: 1651, 453: 1652, 533: 1653, 534: 1654, 3926: 1655, 112: 1656, 159: 1657, 1054: 1658, 3741: 1659, 89: 1660, 3861: 1661, 1600: 1662, 23: 1663, 2007: 1664, 1337: 1665, 799: 1666, 2500: 1667, 3286: 1668, 3617: 1669, 3553: 1670, 3484: 1671, 886: 1672, 1177: 1673, 571: 1674, 718: 1675, 2120: 1676, 1184: 1677, 1190: 1678, 1268: 1679, 735: 1680, 3018: 1681, 1417: 1682, 1279: 1683, 1352: 1684, 1280: 1685, 829: 1686, 2232: 1687, 2165: 1688, 1290: 1689, 1365: 1690, 766: 1691, 697: 1692, 2315: 1693, 3045: 1694, 3053: 1695, 1522: 1696, 2328: 1697, 2402: 1698, 3067: 1699, 1609: 1700, 1611: 1701, 3078: 1702, 2349: 1703, 2421: 1704, 1623: 1705, 3157: 1706, 1627: 1707, 1483: 1708, 950: 1709, 880: 1710, 3307: 1711, 3092: 1712, 893: 1713, 2517: 1714, 100: 1715, 3179: 1716, 1648: 1717, 3326: 1718, 1726: 1719, 2606: 1720, 3266: 1721, 1591: 1722, 3342: 1723, 1816: 1724, 3285: 1725, 1686: 1726, 148: 1727, 3509: 1728, 2639: 1729, 1769: 1730, 1913: 1731, 2718: 1732, 1848: 1733, 307: 1734, 309: 1735, 1920: 1736, 3452: 1737, 2725: 1738, 177: 1739, 3605: 1740, 3464: 1741, 1861: 1742, 3393: 1743, 322: 1744, 326: 1745, 184: 1746, 259: 1747, 188: 1748, 2815: 1749, 3478: 1750, 190: 1751, 193: 1752, 18: 1753, 268: 1754, 3620: 1755, 3550: 1756, 2750: 1757, 1950: 1758, 3557: 1759, 1882: 1760, 341: 1761, 415: 1762, 22: 1763, 281: 1764, 35: 1765, 358: 1766, 3571: 1767, 501: 1768, 432: 1769, 436: 1770, 290: 1771, 365: 1772, 2851: 1773, 2781: 1774, 2787: 1775, 519: 1776, 448: 1777, 55: 1778, 2793: 1779, 1991: 1780, 521: 1781, 2867: 1782, 522: 1783, 382: 1784, 456: 1785, 3747: 1786, 1211: 1787, 2952: 1788, 2956: 1789, 617: 1790, 3764: 1791, 3693: 1792, 482: 1793, 3918: 1794, 1305: 1795, 2038: 1796, 1093: 1797, 561: 1798, 2112: 1799, 2114: 1800, 1173: 1801, 3049: 1802, 3217: 1803, 2788: 1804, 3672: 1805, 3728: 1806, 514: 1807, 3794: 1808, 2310: 1809, 3694: 1810, 1228: 1811, 3864: 1812, 2057: 1813, 3893: 1814, 1298: 1815, 695: 1816, 2184: 1817, 2364: 1818, 2365: 1819, 3328: 1820, 2615: 1821, 1862: 1822, 2668: 1823, 2744: 1824, 392: 1825, 3826: 1826, 611: 1827, 2025: 1828, 2891: 1829, 3923: 1830, 3201: 1831, 3134: 1832, 3224: 1833, 3089: 1834, 959: 1835, 978: 1836, 3185: 1837, 3414: 1838, 3350: 1839, 314: 1840, 1935: 1841, 3545: 1842, 2670: 1843, 1951: 1844, 3655: 1845, 3808: 1846, 3811: 1847, 3742: 1848, 3816: 1849, 1066: 1850, 615: 1851, 3910: 1852, 3911: 1853, 113: 1854, 986: 1855, 2583: 1856, 3882: 1857, 3316: 1858, 3564: 1859, 3784: 1860, 3789: 1861, 3: 1862, 2130: 1863, 1401: 1864, 806: 1865, 2069: 1866, 664: 1867, 3011: 1868, 2212: 1869, 3015: 1870, 1414: 1871, 2079: 1872, 3103: 1873, 3109: 1874, 1432: 1875, 1363: 1876, 2177: 1877, 848: 1878, 1450: 1879, 929: 1880, 2341: 1881, 1477: 1882, 1629: 1883, 956: 1884, 2435: 1885, 960: 1886, 3317: 1887, 974: 1888, 1727: 1889, 2457: 1890, 3330: 1891, 122: 1892, 2472: 1893, 2474: 1894, 132: 1895, 3420: 1896, 3518: 1897, 1914: 1898, 3529: 1899, 2729: 1900, 1783: 1901, 3602: 1902, 1934: 1903, 1938: 1904, 254: 1905, 3613: 1906, 2819: 1907, 2820: 1908, 410: 1909, 279: 1910, 3634: 1911, 3724: 1912, 3729: 1913, 2782: 1914, 445: 1915, 1050: 1916, 3738: 1917, 2939: 1918, 451: 1919, 2940: 1920, 1209: 1921, 78: 1922, 79: 1923, 82: 1924, 1082: 1925, 3841: 1926, 1161: 1927, 630: 1928, 1099: 1929, 3929: 1930, 1245: 1931, 3007: 1932, 2505: 1933, 166: 1934, 2596: 1935, 2672: 1936, 2678: 1937, 2907: 1938, 1416: 1939, 2913: 1940, 9: 1941, 2422: 1942, 1562: 1943, 2803: 1944, 637: 1945, 973: 1946, 1939: 1947, 2929: 1948, 3112: 1949, 3069: 1950, 1926: 1951, 2690: 1952, 2439: 1953, 1904: 1954, 40: 1955, 43: 1956, 2979: 1957, 1187: 1958, 3124: 1959, 692: 1960, 2170: 1961, 2412: 1962, 990: 1963, 2625: 1964, 3439: 1965, 3440: 1966, 3444: 1967, 240: 1968, 1858: 1969, 1004: 1970, 2879: 1971, 464: 1972, 3767: 1973, 3768: 1974, 704: 1975, 869: 1976, 2357: 1977, 577: 1978, 2053: 1979, 8: 1980, 801: 1981, 673: 1982, 2152: 1983, 1359: 1984, 2162: 1985, 2092: 1986, 3054: 1987, 1460: 1988, 1474: 1989, 1551: 1990, 2354: 1991, 1489: 1992, 885: 1993, 1707: 1994, 1582: 1995, 1588: 1996, 3400: 1997, 2392: 1998, 1592: 1999, 2555: 2000, 2559: 2001, 146: 2002, 1919: 2003, 238: 2004, 239: 2005, 169: 2006, 2720: 2007, 181: 2008, 258: 2009, 19: 2010, 2828: 2011, 1021: 2012, 502: 2013, 362: 2014, 2953: 2015, 87: 2016, 558: 2017, 700: 2018, 2036: 2019, 631: 2020, 634: 2021, 709: 2022, 711: 2023, 3946: 2024, 3898: 2025, 536: 2026, 3783: 2027, 1131: 2028, 1677: 2029, 3282: 2030, 2499: 2031, 3606: 2032, 1871: 2033, 417: 2034, 1024: 2035, 298: 2036, 72: 2037, 84: 2038, 2971: 2039, 568: 2040, 2024: 2041, 1178: 2042, 1260: 2043, 2924: 2044, 2861: 2045, 3324: 2046, 3825: 2047, 3914: 2048, 3859: 2049, 754: 2050, 3118: 2051, 1760: 2052, 54: 2053, 145: 2054, 2927: 2055, 3896: 2056, 1437: 2057, 2190: 2058, 3141: 2059, 2279: 2060, 993: 2061, 2582: 2062, 12: 2063, 294: 2064, 373: 2065, 63: 2066, 2880: 2067, 477: 2068, 2073: 2069, 921: 2070, 1238: 2071, 2084: 2072, 1381: 2073, 126: 2074, 360: 2075, 486: 2076, 2102: 2077, 2978: 2078, 2048: 2079, 1438: 2080, 2476: 2081, 3933: 2082, 1349: 2083, 3837: 2084, 2203: 2085, 3870: 2086, 2204: 2087, 2210: 2088, 1507: 2089, 907: 2090, 936: 2091, 944: 2092, 3093: 2093, 1596: 2094, 3384: 2095, 1929: 2096, 1936: 2097, 1940: 2098, 2904: 2099, 3736: 2100, 2937: 2101, 2899: 2102, 3616: 2103, 2367: 2104, 15: 2105, 3936: 2106, 2524: 2107, 1011: 2108, 71: 2109, 3872: 2110, 2434: 2111, 3177: 2112, 2714: 2113, 1556: 2114, 393: 2115, 2285: 2116, 3029: 2117, 2181: 2118, 1661: 2119, 1925: 2120, 1942: 2121, 1167: 2122, 3938: 2123, 3521: 2124, 2098: 2125, 2231: 2126, 2280: 2127, 1542: 2128, 1860: 2129, 2182: 2130, 3895: 2131, 3238: 2132, 3190: 2133, 2807: 2134, 2147: 2135, 2099: 2136, 3287: 2137, 2566: 2138, 3908: 2139, 3537: 2140, 1995: 2141, 1322: 2142, 1326: 2143, 1328: 2144, 2995: 2145, 1329: 2146, 3877: 2147, 3013: 2148, 3024: 2149, 3138: 2150, 2519: 2151, 2451: 2152, 3403: 2153, 2634: 2154, 2635: 2155, 2645: 2156, 2652: 2157, 1924: 2158, 2665: 2159, 251: 2160, 328: 2161, 2817: 2162, 405: 2163, 407: 2164, 273: 2165, 3491: 2166, 3659: 2167, 3806: 2168, 3663: 2169, 1128: 2170, 1999: 2171, 2877: 2172, 2878: 2173, 606: 2174, 3919: 2175, 2113: 2176, 941: 2177, 892: 2178, 241: 2179, 2806: 2180, 3538: 2181, 2876: 2182, 3934: 2183, 742: 2184, 2327: 2185, 879: 2186, 2121: 2187, 3791: 2188, 3792: 2189, 3014: 2190, 1355: 2191, 2267: 2192, 3211: 2193, 2415: 2194, 2347: 2195, 948: 2196, 875: 2197, 3304: 2198, 2518: 2199, 101: 2200, 1807: 2201, 2537: 2202, 998: 2203, 3430: 2204, 225: 2205, 2713: 2206, 1841: 2207, 3387: 2208, 3389: 2209, 2736: 2210, 2741: 2211, 2745: 2212, 2749: 2213, 20: 2214, 1890: 2215, 3497: 2216, 1112: 2217, 2928: 2218, 2866: 2219, 2798: 2220, 387: 2221, 603: 2222, 544: 2223, 3766: 2224, 3846: 2225, 3849: 2226, 3125: 2227, 490: 2228, 1415: 2229, 171: 2230, 1879: 2231, 1063: 2232, 390: 2233, 715: 2234, 3865: 2235, 1605: 2236, 3150: 2237, 2284: 2238, 3357: 2239, 2561: 2240, 3515: 2241, 1889: 2242, 2769: 2243, 3720: 2244, 3822: 2245, 3756: 2246, 3857: 2247, 3132: 2248, 3073: 2249, 3154: 2250, 3311: 2251, 1404: 2252, 1472: 2253, 1647: 2254, 1662: 2255, 384: 2256, 3366: 2257, 2654: 2258, 487: 2259, 645: 2260, 574: 2261, 649: 2262, 665: 2263, 668: 2264, 1354: 2265, 1366: 2266, 1543: 2267, 3182: 2268, 117: 2269, 2609: 2270, 3416: 2271, 211: 2272, 1900: 2273, 306: 2274, 1859: 2275, 406: 2276, 2696: 2277, 2697: 2278, 2925: 2279, 3819: 2280, 3746: 2281, 535: 2282, 627: 2283, 97: 2284, 312: 2285, 69: 2286, 3064: 2287, 129: 2288, 1670: 2289, 3355: 2290, 3436: 2291, 2827: 2292, 3579: 2293, 3824: 2294, 798: 2295, 3719: 2296, 512: 2297, 2771: 2298, 1289: 2299, 2361: 2300, 3094: 2301, 1699: 2302, 1780: 2303, 1856: 2304, 242: 2305, 1932: 2306, 3392: 2307, 3395: 2308, 1111: 2309, 3813: 2310, 549: 2311, 2998: 2312, 2492: 2313, 2856: 2314, 2873: 2315, 2360: 2316, 213: 2317, 3941: 2318, 206: 2319, 2495: 2320, 3539: 2321, 3679: 2322, 3535: 2323, 1941: 2324, 3801: 2325, 927: 2326, 3135: 2327, 935: 2328, 3292: 2329, 3371: 2330, 2570: 2331, 2801: 2332, 3834: 2333, 3853: 2334, 3855: 2335, 760: 2336, 1499: 2337, 1667: 2338, 808: 2339, 2086: 2340, 2240: 2341, 1445: 2342, 3214: 2343, 1703: 2344, 1731: 2345, 204: 2346, 1750: 2347, 3431: 2348, 3432: 2349, 3433: 2350, 3434: 2351, 2494: 2352, 227: 2353, 3385: 2354, 3394: 2355, 1008: 2356, 332: 2357, 408: 2358, 338: 2359, 419: 2360, 426: 2361, 3585: 2362, 374: 2363, 460: 2364, 3754: 2365, 548: 2366, 2042: 2367, 3117: 2368, 1516: 2369, 3055: 2370, 787: 2371, 3077: 2372, 3192: 2373, 2611: 2374, 3275: 2375, 2621: 2376, 1910: 2377, 308: 2378, 2730: 2379, 320: 2380, 2594: 2381, 2812: 2382, 3625: 2383, 3718: 2384, 363: 2385, 2859: 2386, 1123: 2387, 1055: 2388, 1202: 2389, 391: 2390, 3903: 2391, 2893: 2392, 3858: 2393, 759: 2394, 3325: 2395, 182: 2396, 3860: 2397, 3950: 2398, 1502: 2399, 2247: 2400, 1539: 2401, 1612: 2402, 3302: 2403, 1564: 2404, 987: 2405, 2482: 2406, 3540: 2407, 1896: 2408, 3581: 2409, 3598: 2410, 68: 2411, 3823: 2412, 3901: 2413, 2962: 2414, 1236: 2415, 638: 2416, 839: 2417, 325: 2418, 274: 2419, 3415: 2420, 3470: 2421, 779: 2422, 1194: 2423, 1273: 2424, 2255: 2425, 2295: 2426, 3199: 2427, 209: 2428, 271: 2429, 2905: 2430, 352: 2431, 2977: 2432, 564: 2433, 639: 2434, 1812: 2435, 2988: 2436, 2068: 2437, 670: 2438, 1361: 2439, 2330: 2440, 214: 2441, 523: 2442, 602: 2443, 83: 2444, 85: 2445, 2022: 2446, 2104: 2447, 3925: 2448, 3390: 2449, 179: 2450, 1866: 2451, 1126: 2452, 479: 2453, 2996: 2454, 1255: 2455, 2656: 2456, 2666: 2457, 2667: 2458, 3592: 2459, 2035: 2460, 3921: 2461, 3922: 2462, 3924: 2463, 831: 2464, 1515: 2465, 1613: 2466, 2504: 2467, 2513: 2468, 984: 2469, 3401: 2470, 3262: 2471, 2551: 2472, 324: 2473, 2597: 2474, 427: 2475, 1051: 2476, 3673: 2477, 3674: 2478, 2026: 2479, 201: 2480, 2060: 2481, 876: 2482, 2372: 2483, 3327: 2484, 3511: 2485, 1928: 2486, 2587: 2487, 1930: 2488, 255: 2489, 1943: 2490, 3475: 2491, 66: 2492, 1169: 2493, 659: 2494, 3002: 2495, 669: 2496, 3010: 2497, 3951: 2498, 1413: 2499, 680: 2500, 3038: 2501, 3047: 2502, 2180: 2503, 854: 2504, 3075: 2505, 2351: 2506, 3235: 2507, 1631: 2508, 3090: 2509, 3241: 2510, 2512: 2511, 1572: 2512, 970: 2513, 3329: 2514, 3188: 2515, 2488: 2516, 3379: 2517, 2579: 2518, 3456: 2519, 2659: 2520, 1933: 2521, 183: 2522, 3547: 2523, 2824: 2524, 3627: 2525, 3559: 2526, 2689: 2527, 2830: 2528, 2780: 2529, 3731: 2530, 2864: 2531, 1132: 2532, 1068: 2533, 3680: 2534, 99: 2535, 3913: 2536, 3915: 2537, 2970: 2538, 1232: 2539, 3127: 2540, 851: 2541, 2271: 2542, 3281: 2543, 2590: 2544, 1044: 2545, 3041: 2546, 3391: 2547, 3715: 2548, 2050: 2549, 3144: 2550, 3514: 2551, 1053: 2552, 1825: 2553, 31: 2554, 3710: 2555, 1323: 2556, 2475: 2557, 2419: 2558, 3449: 2559, 573: 2560, 2994: 2561, 3008: 2562, 753: 2563, 685: 2564, 3115: 2565, 3128: 2566, 781: 2567, 1465: 2568, 1397: 2569, 1399: 2570, 2276: 2571, 1547: 2572, 1482: 2573, 2437: 2574, 1725: 2575, 1728: 2576, 988: 2577, 2610: 2578, 1811: 2579, 205: 2580, 2479: 2581, 2493: 2582, 3299: 2583, 2711: 2584, 301: 2585, 3711: 2586, 369: 2587, 1119: 2588, 57: 2589, 388: 2590, 613: 2591, 2963: 2592, 621: 2593, 483: 2594, 409: 2595, 1475: 2596, 1744: 2597, 776: 2598, 137: 2599, 2626: 2600, 2829: 2601, 3909: 2602, 3453: 2603, 3454: 2604, 3743: 2605, 717: 2606, 3867: 2607, 3796: 2608, 725: 2609, 1342: 2610, 3886: 2611, 3031: 2612, 2305: 2613, 1503: 2614, 761: 2615, 767: 2616, 842: 2617, 774: 2618, 2264: 2619, 870: 2620, 2425: 2621, 3158: 2622, 2514: 2623, 3245: 2624, 3181: 2625, 1655: 2626, 2602: 2627, 2607: 2628, 1665: 2629, 1741: 2630, 2624: 2631, 2483: 2632, 2630: 2633, 1844: 2634, 1771: 2635, 3459: 2636, 1855: 2637, 2585: 2638, 3532: 2639, 1867: 2640, 1795: 2641, 1796: 2642, 267: 2643, 1891: 2644, 2768: 2645, 2844: 2646, 518: 2647, 2938: 2648, 1058: 2649, 525: 2650, 1998: 2651, 458: 2652, 67: 2653, 80: 2654, 3902: 2655, 92: 2656, 93: 2657, 488: 2658, 2103: 2659, 632: 2660, 635: 2661, 495: 2662, 1646: 2663, 809: 2664, 1604: 2665, 1550: 2666, 2445: 2667, 27: 2668, 295: 2669, 3162: 2670, 1874: 2671, 2865: 2672, 2169: 2673, 1389: 2674, 3180: 2675, 1746: 2676, 2491: 2677, 2651: 2678, 1854: 2679, 354: 2680, 430: 2681, 433: 2682, 64: 2683, 2889: 2684, 2307: 2685, 3165: 2686, 414: 2687, 3653: 2688, 2016: 2689, 2129: 2690, 3947: 2691, 149: 2692, 1346: 2693, 3149: 2694, 2785: 2695, 1427: 2696, 917: 2697, 1523: 2698, 1531: 2699, 2999: 2700, 1410: 2701, 2507: 2702, 2809: 2703, 1317: 2704, 2151: 2705, 2306: 2706, 3048: 2707, 1526: 2708, 2345: 2709, 3161: 2710, 1632: 2711, 964: 2712, 119: 2713, 131: 2714, 3427: 2715, 1839: 2716, 1857: 2717, 1863: 2718, 1005: 2719, 3622: 2720, 2685: 2721, 3496: 2722, 505: 2723, 537: 2724, 2900: 2725, 1484: 2726, 1076: 2727, 135: 2728, 174: 2729, 3619: 2730, 570: 2731, 662: 2732, 1533: 2733, 3187: 2734, 1585: 2735, 1664: 2736, 3272: 2737, 263: 2738, 3562: 2739, 1150: 2740, 835: 2741, 3050: 2742, 2569: 2743, 2839: 2744, 3851: 2745, 2075: 2746, 3544: 2747, 811: 2748, 751: 2749, 1508: 2750, 3221: 2751, 958: 2752, 128: 2753, 3749: 2754, 77: 2755, 3830: 2756, 2897: 2757, 3854: 2758, 1642: 2759, 1423: 2760, 844: 2761, 3215: 2762, 1471: 2763, 3222: 2764, 3171: 2765, 3714: 2766, 3586: 2767, 3734: 2768, 2704: 2769, 3139: 2770, 2525: 2771, 3487: 2772, 210: 2773, 438: 2774, 1870: 2775, 2751: 2776, 3577: 2777, 1114: 2778, 1134: 2779, 1453: 2780, 619: 2781, 2848: 2782, 1456: 2783, 2458: 2784, 1598: 2785, 1824: 2786, 3761: 2787, 3931: 2788, 2992: 2789, 1330: 2790, 1335: 2791, 3021: 2792, 841: 2793, 3058: 2794, 2460: 2795, 2461: 2796, 2462: 2797, 2614: 2798, 3351: 2799, 2636: 2800, 2655: 2801, 2740: 2802, 3488: 2803, 2902: 2804, 2903: 2805, 3709: 2806, 3572: 2807, 3573: 2808, 2784: 2809, 1987: 2810, 3732: 2811, 3664: 2812, 1992: 2813, 1993: 2814, 3833: 2815, 3838: 2816, 3840: 2817, 1241: 2818, 3339: 2819, 2362: 2820, 2388: 2821, 3569: 2822, 755: 2823, 1496: 2824, 656: 2825, 3318: 2826, 1743: 2827, 1695: 2828, 3677: 2829, 1454: 2830, 1002: 2831, 3372: 2832, 2095: 2833, 1822: 2834, 1755: 2835, 3531: 2836, 250: 2837, 504: 2838, 3692: 2839, 1362: 2840, 3446: 2841, 681: 2842, 1332: 2843, 3839: 2844, 2898: 2845, 547: 2846, 3133: 2847, 3310: 2848, 156: 2849, 3225: 2850, 2219: 2851, 726: 2852, 3106: 2853, 2237: 2854, 2417: 2855, 2290: 2856, 3289: 2857, 305: 2858, 375: 2859, 722: 2860, 3894: 2861, 1384: 2862, 863: 2863, 3343: 2864, 2673: 2865, 2843: 2866, 1039: 2867, 2933: 2868, 1163: 2869, 2835: 2870, 3240: 2871, 1351: 2872, 1511: 2873, 2175: 2874, 2281: 2875, 2293: 2876, 1651: 2877, 3183: 2878, 997: 2879, 2620: 2880, 1791: 2881, 1003: 2882, 335: 2883, 422: 2884, 287: 2885, 503: 2886, 2885: 2887, 2400: 2888, 1067: 2889, 3906: 2890, 1681: 2891, 2810: 2892, 291: 2893, 49: 2894, 3725: 2895, 1752: 2896, 580: 2897, 939: 2898, 1749: 2899, 3670: 2900, 124: 2901, 3367: 2902, 583: 2903, 1382: 2904, 2448: 2905, 1659: 2906, 228: 2907, 191: 2908, 418: 2909, 283: 2910, 612: 2911, 478: 2912, 3773: 2913, 640: 2914, 3276: 2915, 2965: 2916, 2516: 2917, 147: 2918, 881: 2919, 2548: 2920, 807: 2921, 1153: 2922, 96: 2923, 469: 2924, 1798: 2925, 3935: 2926, 1341: 2927, 2465: 2928, 2754: 2929, 3637: 2930, 2853: 2931, 1988: 2932, 1996: 2933, 3843: 2934, 746: 2935, 3640: 2936, 2618: 2937, 106: 2938, 1809: 2939, 528: 2940, 705: 2941, 1758: 2942, 1865: 2943, 3739: 2944, 2157: 2945, 2179: 2946, 2521: 2947, 3293: 2948, 2062: 2949, 1571: 2950, 2535: 2951, 2849: 2952, 2074: 2953, 3790: 2954, 3428: 2955, 3445: 2956, 3490: 2957, 2847: 2958, 2854: 2959, 2855: 2960, 3667: 2961, 3832: 2962, 2128: 2963, 2326: 2964, 2526: 2965, 152: 2966, 3721: 2967, 2044: 2968, 1473: 2969, 3945: 2970, 2275: 2971, 1837: 2972, 1113: 2973, 1133: 2974, 1581: 2975, 3345: 2976, 347: 2977, 747: 2978, 2884: 2979, 3912: 2980, 1440: 2981, 2381: 2982, 578: 2983, 3410: 2984, 658: 2985, 2931: 2986, 2911: 2987, 3892: 2988, 782: 2989, 2477: 2990, 3810: 2991, 2896: 2992, 3143: 2993, 3368: 2994, 2481: 2995, 2201: 2996, 2342: 2997, 1656: 2998, 1421: 2999, 1312: 3000, 1000: 3001, 331: 3002, 2816: 3003, 2382: 3004, 2286: 3005, 1490: 3006, 1881: 3007, 470: 3008, 626: 3009, 810: 3010, 56: 3011, 3774: 3012, 2051: 3013, 2055: 3014, 3804: 3015, 2862: 3016, 1412: 3017, 462: 3018, 121: 3019, 1602: 3020, 243: 3021, 2799: 3022, 2031: 3023, 3795: 3024, 3648: 3025, 1902: 3026, 1893: 3027, 877: 3028, 3920: 3029, 716: 3030, 2446: 3031, 444: 3032, 2586: 3033, 2589: 3034, 1579: 3035, 2522: 3036, 37: 3037, 2487: 3038, 437: 3039, 3900: 3040, 2056: 3041, 2131: 3042, 731: 3043, 3043: 3044, 1447: 3045, 3626: 3046, 3805: 3047, 1501: 3048, 103: 3049, 1056: 3050, 3765: 3051, 1903: 3052, 1062: 3053, 2834: 3054, 343: 3055, 270: 3056, 1899: 3057, 2894: 3058, 2158: 3059, 3737: 3060, 1087: 3061, 1626: 3062, 3691: 3063, 2383: 3064, 443: 3065, 2211: 3066, 2227: 3067, 2256: 3068, 1817: 3069, 1853: 3070, 1887: 3071, 3313: 3072, 2523: 3073, 3520: 3074, 2753: 3075, 2037: 3076, 3632: 3077, 1525: 3078, 1595: 3079, 1336: 3080, 2837: 3081, 3314: 3082, 3611: 3083, 3759: 3084, 3775: 3085, 3776: 3086, 3848: 3087, 402: 3088, 3137: 3089, 576: 3090, 1406: 3091, 3588: 3092, 1549: 3093, 114: 3094, 2627: 3095, 2164: 3096, 2464: 3097, 1599: 3098, 2515: 3099, 1782: 3100, 2868: 3101, 1168: 3102, 2869: 3103, 3862: 3104, 3140: 3105, 3820: 3106, 2892: 3107, 484: 3108, 828: 3109, 1026: 3110, 3695: 3111, 3025: 3112, 3669: 3113, 667: 3114, 304: 3115, 2842: 3116, 1846: 3117, 136: 3118, 3378: 3119, 3232: 3120, 1458: 3121, 2466: 3122, 992: 3123, 882: 3124, 386: 3125, 710: 3126, 2200: 3127, 850: 3128, 202: 3129, 1117: 3130, 2577: 3131, 167: 3132, 2773: 3133, 3580: 3134, 1040: 3135, 385: 3136, 3803: 3137, 2593: 3138, 2760: 3139, 1696: 3140, 860: 3141, 2397: 3142, 2715: 3143, 2733: 3144, 2755: 3145, 2756: 3146, 3716: 3147, 3575: 3148, 888: 3149, 2695: 3150, 3845: 3151, 3306: 3152, 867: 3153, 2509: 3154, 1006: 3155, 3647: 3156, 2727: 3157, 2914: 3158, 2960: 3159, 2061: 3160, 2317: 3161, 2185: 3162, 2187: 3163, 3797: 3164, 1864: 3165, 2778: 3166, 61: 3167, 554: 3168, 2205: 3169, 734: 3170, 2215: 3171, 1455: 3172, 3239: 3173, 1493: 3174, 2675: 3175, 1151: 3176, 2510: 3177, 3349: 3178, 1793: 3179, 2767: 3180, 3570: 3181, 2251: 3182, 3942: 3183, 2032: 3184, 1668: 3185, 1814: 3186, 3495: 3187, 3880: 3188, 1514: 3189, 1561: 3190, 3568: 3191, 359: 3192, 310: 3193, 833: 3194, 2578: 3195, 59: 3196, 2196: 3197, 3122: 3198, 2449: 3199, 452: 3200, 2244: 3201, 3042: 3202, 2332: 3203, 1575: 3204, 756: 3205, 2691: 3206, 3884: 3207, 2813: 3208, 3883: 3209, 3319: 3210, 2538: 3211, 2283: 3212, 2191: 3213, 3781: 3214, 792: 3215, 3218: 3216, 3223: 3217, 3402: 3218, 3800: 3219, 3850: 3220, 3875: 3221, 2386: 3222, 3333: 3223, 2536: 3224, 3346: 3225, 3782: 3226, 2981: 3227, 821: 3228, 1767: 3229, 220: 3230, 3645: 3231, 1426: 3232, 2292: 3233, 840: 3234, 2552: 3235, 2556: 3236, 1144: 3237, 2934: 3238, 1622: 3239, 1679: 3240, 1102: 3241, 814: 3242, 2008: 3243, 394: 3244, 702: 3245, 744: 3246, 2246: 3247, 2440: 3248, 1154: 3249, 1160: 3250, 652: 3251, 1574: 3252, 1906: 3253, 389: 3254, 2945: 3255, 397: 3256, 559: 3257, 1494: 3258, 1869: 3259, 3482: 3260, 1439: 3261, 2260: 3262, 3126: 3263, 3878: 3264, 1486: 3265, 1324: 3266, 200: 3267, 1174: 3268, 1829: 3269, 1898: 3270, 108: 3271, 2758: 3272, 3597: 3273, 3885: 3274, 2192: 3275, 1519: 3276, 2545: 3277, 2775: 3278, 600: 3279, 1369: 3280, 1567: 3281, 2923: 3282, 2653: 3283, 3847: 3284, 2368: 3285, 3344: 3286, 3757: 3287, 3772: 3288, 3777: 3289, 2982: 3290, 3012: 3291, 1149: 3292, 189: 3293, 3492: 3294, 102: 3295, 598: 3296, 563: 3297, 2786: 3298, 729: 3299, 2063: 3300, 758: 3301, 245: 3302, 264: 3303, 2825: 3304, 3636: 3305, 2850: 3306, 1116: 3307, 682: 3308, 1504: 3309, 862: 3310, 2503: 3311, 1570: 3312, 2557: 3313, 2705: 3314, 197: 3315, 53: 3316, 567: 3317, 925: 3318, 3116: 3319, 3944: 3320, 962: 3321, 618: 3322, 2172: 3323, 120: 3324, 2209: 3325, 3003: 3326, 967: 3327, 2814: 3328, 2823: 3329, 3486: 3330, 3642: 3331, 3335: 3332, 2608: 3333, 1444: 3334, 3657: 3335, 1138: 3336, 2776: 3337, 769: 3338, 1675: 3339, 411: 3340, 614: 3341, 698: 3342, 3542: 3343, 2765: 3344, 1872: 3345, 1038: 3346, 712: 3347, 2831: 3348, 2358: 3349, 1692: 3350, 980: 3351, 1121: 3352, 2562: 3353, 3205: 3354, 3442: 3355, 1105: 3356, 3644: 3357, 401: 3358, 2350: 3359, 38: 3360, 2207: 3361, 2221: 3362, 3131: 3363, 1850: 3364, 1164: 3365, 633: 3366, 864: 3367, 1565: 3368, 219: 3369, 3294: 3370, 3305: 3371, 1383: 3372, 3380: 3373, 643: 3374, 3419: 3375, 2632: 3376, 3888: 3377, 823: 3378, 2441: 3379, 1671: 3380, 2619: 3381, 2242: 3382, 1877: 3383, 2101: 3384, 3817: 3385, 2563: 3386, 3905: 3387, 853: 3388, 2974: 3389, 666: 3390, 1364: 3391, 696: 3392, 3517: 3393, 2984: 3394, 3601: 3395, 3303: 3396, 3940: 3397, 2257: 3398, 297: 3399, 3887: 3400, 2743: 3401, 2964: 3402, 1181: 3403, 3212: 3404, 3407: 3405, 601: 3406, 3322: 3407, 1908: 3408, 1764: 3409, 2584: 3410, 3283: 3411, 884: 3412, 3085: 3413, 1098: 3414, 1652: 3415, 2197: 3416, 2818: 3417, 1685: 3418, 2298: 3419, 2591: 3420, 3523: 3421, 687: 3422, 2299: 3423, 212: 3424, 834: 3425, 1520: 3426, 2886: 3427, 796: 3428, 1528: 3429, 244: 3430, 3465: 3431, 3665: 3432, 2304: 3433, 1990: 3434, 3641: 3435, 3437: 3436, 2737: 3437, 1534: 3438, 3216: 3439, 3119: 3440, 1773: 3441, 3563: 3442, 3277: 3443, 2658: 3444, 3666: 3445, 3522: 3446, 3295: 3447, 3377: 3448, 557: 3449, 1420: 3450, 1497: 3451, 560: 3452, 1878: 3453, 3458: 3454, 706: 3455, 2226: 3456, 1538: 3457, 2127: 3458, 2444: 3459, 3353: 3460, 3352: 3461, 566: 3462, 1770: 3463, 398: 3464, 1436: 3465, 989: 3466, 3136: 3467, 3184: 3468, 3288: 3469, 1826: 3470, 1739: 3471, 192: 3472, 2679: 3473, 1532: 3474, 966: 3475, 33: 3476, 2592: 3477, 75: 3478, 657: 3479, 3890: 3480, 749: 3481, 3818: 3482, 582: 3483, 732: 3484, 2930: 3485, 3057: 3486, 3374: 3487, 2156: 3488, 130: 3489, 139: 3490, 775: 3491, 972: 3492, 3595: 3493, 790: 3494, 3899: 3495, 1915: 3496, 2833: 3497, 526: 3498, 2887: 3499, 90: 3500, 3207: 3501, 815: 3502, 3242: 3503, 3533: 3504, 703: 3505, 1851: 3506, 3866: 3507, 789: 3508, 1830: 3509, 3881: 3510, 2777: 3511, 3652: 3512, 3443: 3513, 1325: 3514, 874: 3515, 757: 3516, 1787: 3517, 2895: 3518, 889: 3519, 1470: 3520, 1495: 3521, 981: 3522, 1886: 3523, 847: 3524, 2955: 3525, 2234: 3526, 679: 3527, 1901: 3528, 3373: 3529, 2631: 3530, 872: 3531, 3381: 3532, 1555: 3533, 3779: 3534, 623: 3535, 791: 3536, 3609: 3537, 1724: 3538, 2223: 3539, 1849: 3540, 3233: 3541, 1170: 3542, 985: 3543, 3172: 3544, 3065: 3545, 3631: 3546, 1139: 3547, 3472: 3548, 3842: 3549, 3876: 3550, 572: 3551, 311: 3552, 2452: 3553, 2783: 3554, 2623: 3555, 793: 3556, 1989: 3557, 1636: 3558, 3236: 3559, 1718: 3560, 396: 3561, 868: 3562, 3828: 3563, 3413: 3564, 1316: 3565, 1071: 3566, 878: 3567, 2811: 3568, 3603: 3569, 1107: 3570, 827: 3571, 584: 3572, 2821: 3573, 607: 3574, 1510: 3575, 1548: 3576, 701: 3577, 2214: 3578, 763: 3579, 3229: 3580, 820: 3581, 3337: 3582, 138: 3583, 530: 3584, 1070: 3585, 3778: 3586, 98: 3587, 3336: 3588, 3290: 3589, 3164: 3590, 1832: 3591, 439: 3592, 134: 3593, 1553: 3594, 2480: 3595, 1842: 3596, 2309: 3597, 887: 3598, 3084: 3599, 3748: 3600, 624: 3601, 1433: 3602, 1145: 3603, 2576: 3604, 1434: 3605, 1868: 3606, 404: 3607, 3463: 3608, 2486: 3609, 2543: 3610, 591: 3611, 1315: 3612, 3656: 3613, 2438: 3614, 3323: 3615, 3382: 3616, 1843: 3617, 286: 3618, 3530: 3619, 2198: 3620, 2703: 3621, 2258: 3622, 3607: 3623, 3026: 3624, 690: 3625, 2909: 3626, 1360: 3627}\n"
     ]
    }
   ],
   "source": [
    "print(movie_id_to_idx)"
   ]
  },
  {
   "cell_type": "code",
   "execution_count": 38,
   "metadata": {},
   "outputs": [
    {
     "name": "stdout",
     "output_type": "stream",
     "text": [
      "40\n"
     ]
    }
   ],
   "source": [
    "print(movie_id_to_idx[1])\n",
    "# indexing을 통해 데이터 컬럼 내 값을 바꾸는 코드\n",
    "# dictionary 자료형의 get 함수는 https://wikidocs.net/16 을 참고하세요."
   ]
  },
  {
   "cell_type": "code",
   "execution_count": 39,
   "metadata": {},
   "outputs": [
    {
     "name": "stdout",
     "output_type": "stream",
     "text": [
      "indexing OK\n"
     ]
    },
    {
     "name": "stderr",
     "output_type": "stream",
     "text": [
      "/home/ssac4/anaconda3/envs/aiffel/lib/python3.7/site-packages/ipykernel_launcher.py:7: SettingWithCopyWarning: \n",
      "A value is trying to be set on a copy of a slice from a DataFrame.\n",
      "Try using .loc[row_indexer,col_indexer] = value instead\n",
      "\n",
      "See the caveats in the documentation: https://pandas.pydata.org/pandas-docs/stable/user_guide/indexing.html#returning-a-view-versus-a-copy\n",
      "  import sys\n"
     ]
    }
   ],
   "source": [
    "# user_to_idx.get을 통해 user_id 컬럼의 모든 값을 인덱싱한 Series를 구해 봅시다. \n",
    "# 혹시 정상적으로 인덱싱되지 않은 row가 있다면 인덱스가 NaN이 될 테니 dropna()로 제거합니다. \n",
    "temp_user_data = data['user_id'].map(user_to_idx.get).dropna()\n",
    "if len(temp_user_data) == len(data): \n",
    "    # 모든 row가 정상적으로 인덱싱되었다면\n",
    "    print('indexing OK')\n",
    "    data['user_id'] = temp_user_data   # data['user_id']을 인덱싱된 Series로 교체해 줍니다. \n",
    "else:\n",
    "    print('user_id column indexing Fail!!')"
   ]
  },
  {
   "cell_type": "code",
   "execution_count": 42,
   "metadata": {},
   "outputs": [
    {
     "name": "stdout",
     "output_type": "stream",
     "text": [
      "artist column indexing OK!!\n"
     ]
    },
    {
     "name": "stderr",
     "output_type": "stream",
     "text": [
      "/home/ssac4/anaconda3/envs/aiffel/lib/python3.7/site-packages/ipykernel_launcher.py:5: SettingWithCopyWarning: \n",
      "A value is trying to be set on a copy of a slice from a DataFrame.\n",
      "Try using .loc[row_indexer,col_indexer] = value instead\n",
      "\n",
      "See the caveats in the documentation: https://pandas.pydata.org/pandas-docs/stable/user_guide/indexing.html#returning-a-view-versus-a-copy\n",
      "  \"\"\"\n"
     ]
    },
    {
     "data": {
      "text/html": [
       "<div>\n",
       "<style scoped>\n",
       "    .dataframe tbody tr th:only-of-type {\n",
       "        vertical-align: middle;\n",
       "    }\n",
       "\n",
       "    .dataframe tbody tr th {\n",
       "        vertical-align: top;\n",
       "    }\n",
       "\n",
       "    .dataframe thead th {\n",
       "        text-align: right;\n",
       "    }\n",
       "</style>\n",
       "<table border=\"1\" class=\"dataframe\">\n",
       "  <thead>\n",
       "    <tr style=\"text-align: right;\">\n",
       "      <th></th>\n",
       "      <th>user_id</th>\n",
       "      <th>movie_id</th>\n",
       "      <th>count</th>\n",
       "    </tr>\n",
       "  </thead>\n",
       "  <tbody>\n",
       "    <tr>\n",
       "      <th>0</th>\n",
       "      <td>0</td>\n",
       "      <td>0</td>\n",
       "      <td>5</td>\n",
       "    </tr>\n",
       "    <tr>\n",
       "      <th>1</th>\n",
       "      <td>0</td>\n",
       "      <td>1</td>\n",
       "      <td>3</td>\n",
       "    </tr>\n",
       "    <tr>\n",
       "      <th>2</th>\n",
       "      <td>0</td>\n",
       "      <td>2</td>\n",
       "      <td>3</td>\n",
       "    </tr>\n",
       "    <tr>\n",
       "      <th>3</th>\n",
       "      <td>0</td>\n",
       "      <td>3</td>\n",
       "      <td>4</td>\n",
       "    </tr>\n",
       "    <tr>\n",
       "      <th>4</th>\n",
       "      <td>0</td>\n",
       "      <td>4</td>\n",
       "      <td>5</td>\n",
       "    </tr>\n",
       "    <tr>\n",
       "      <th>...</th>\n",
       "      <td>...</td>\n",
       "      <td>...</td>\n",
       "      <td>...</td>\n",
       "    </tr>\n",
       "    <tr>\n",
       "      <th>836478</th>\n",
       "      <td>6039</td>\n",
       "      <td>40</td>\n",
       "      <td>5</td>\n",
       "    </tr>\n",
       "    <tr>\n",
       "      <th>836479</th>\n",
       "      <td>6039</td>\n",
       "      <td>87</td>\n",
       "      <td>5</td>\n",
       "    </tr>\n",
       "    <tr>\n",
       "      <th>836480</th>\n",
       "      <td>6039</td>\n",
       "      <td>157</td>\n",
       "      <td>5</td>\n",
       "    </tr>\n",
       "    <tr>\n",
       "      <th>836481</th>\n",
       "      <td>6039</td>\n",
       "      <td>107</td>\n",
       "      <td>5</td>\n",
       "    </tr>\n",
       "    <tr>\n",
       "      <th>836482</th>\n",
       "      <td>6039</td>\n",
       "      <td>48</td>\n",
       "      <td>5</td>\n",
       "    </tr>\n",
       "  </tbody>\n",
       "</table>\n",
       "<p>836483 rows × 3 columns</p>\n",
       "</div>"
      ],
      "text/plain": [
       "        user_id  movie_id  count\n",
       "0             0         0      5\n",
       "1             0         1      3\n",
       "2             0         2      3\n",
       "3             0         3      4\n",
       "4             0         4      5\n",
       "...         ...       ...    ...\n",
       "836478     6039        40      5\n",
       "836479     6039        87      5\n",
       "836480     6039       157      5\n",
       "836481     6039       107      5\n",
       "836482     6039        48      5\n",
       "\n",
       "[836483 rows x 3 columns]"
      ]
     },
     "execution_count": 42,
     "metadata": {},
     "output_type": "execute_result"
    }
   ],
   "source": [
    "# movie_to_idx을 통해 movie 컬럼도 동일한 방식으로 인덱싱해 줍니다. \n",
    "temp_movie_data = data['movie_id'].map(movie_id_to_idx.get).dropna()\n",
    "if len(temp_movie_data) == len(data):\n",
    "    print('artist column indexing OK!!')\n",
    "    data['movie_id'] = temp_movie_data\n",
    "else:\n",
    "    print('artist column indexing Fail!!')\n",
    "\n",
    "data"
   ]
  },
  {
   "cell_type": "code",
   "execution_count": 43,
   "metadata": {},
   "outputs": [
    {
     "data": {
      "text/plain": [
       "(        user_id  movie_id  count\n",
       " 0             0         0      5\n",
       " 1             0         1      3\n",
       " 2             0         2      3\n",
       " 3             0         3      4\n",
       " 4             0         4      5\n",
       " ...         ...       ...    ...\n",
       " 836478     6039        40      5\n",
       " 836479     6039        87      5\n",
       " 836480     6039       157      5\n",
       " 836481     6039       107      5\n",
       " 836482     6039        48      5\n",
       " \n",
       " [836483 rows x 3 columns],\n",
       " 6040,\n",
       " 3628)"
      ]
     },
     "execution_count": 43,
     "metadata": {},
     "output_type": "execute_result"
    }
   ],
   "source": [
    "from scipy.sparse import csr_matrix\n",
    "num_user = data['user_id'].nunique()\n",
    "num_movie = data['movie_id'].nunique()\n",
    "data, num_user, num_movie"
   ]
  },
  {
   "cell_type": "code",
   "execution_count": 44,
   "metadata": {},
   "outputs": [
    {
     "data": {
      "text/plain": [
       "0           0\n",
       "1           1\n",
       "2           2\n",
       "3           3\n",
       "4           4\n",
       "         ... \n",
       "836478     40\n",
       "836479     87\n",
       "836480    157\n",
       "836481    107\n",
       "836482     48\n",
       "Name: movie_id, Length: 836483, dtype: int64"
      ]
     },
     "execution_count": 44,
     "metadata": {},
     "output_type": "execute_result"
    }
   ],
   "source": [
    "data.movie_id"
   ]
  },
  {
   "cell_type": "code",
   "execution_count": 45,
   "metadata": {},
   "outputs": [
    {
     "data": {
      "text/plain": [
       "<6040x3628 sparse matrix of type '<class 'numpy.int64'>'\n",
       "\twith 836483 stored elements in Compressed Sparse Row format>"
      ]
     },
     "execution_count": 45,
     "metadata": {},
     "output_type": "execute_result"
    }
   ],
   "source": [
    "csr_data = csr_matrix((data['count'], (data.user_id, data.movie_id)))\n",
    "\n",
    "\n",
    "csr_data"
   ]
  },
  {
   "cell_type": "markdown",
   "metadata": {},
   "source": [
    "이제 MF model을 구성하여 내가 좋아할만한 영화를 추천합니다. "
   ]
  },
  {
   "cell_type": "markdown",
   "metadata": {},
   "source": [
    "## 모델학습 "
   ]
  },
  {
   "cell_type": "code",
   "execution_count": 46,
   "metadata": {},
   "outputs": [],
   "source": [
    "from implicit.als import AlternatingLeastSquares\n",
    "import os\n",
    "import numpy as np\n",
    "\n",
    "# implicit 라이브러리에서 권장하고 있는 부분입니다. 학습 내용과는 무관합니다.\n",
    "os.environ['OPENBLAS_NUM_THREADS']='1'\n",
    "os.environ['KMP_DUPLICATE_LIB_OK']='True'\n",
    "os.environ['MKL_NUM_THREADS']='1'"
   ]
  },
  {
   "cell_type": "code",
   "execution_count": 47,
   "metadata": {},
   "outputs": [
    {
     "data": {
      "application/vnd.jupyter.widget-view+json": {
       "model_id": "d6c7dfd9d4364a1fa86194fe8397fe40",
       "version_major": 2,
       "version_minor": 0
      },
      "text/plain": [
       "  0%|          | 0/200 [00:00<?, ?it/s]"
      ]
     },
     "metadata": {},
     "output_type": "display_data"
    }
   ],
   "source": [
    "# Implicit AlternatingLeastSquares 모델의 선언\n",
    "als_model = AlternatingLeastSquares(factors=500, regularization=0.01, use_gpu=False, iterations=200, dtype=np.float32)\n",
    "# als 모델은 input으로 (item X user 꼴의 matrix를 받기 때문에 Transpose해줍니다.) # factor 500이나 ,1000 놓으면 오버피팅인지확인좀\n",
    "csr_data_transpose = csr_data.T\n",
    "csr_data_transpose\n",
    "# 모델 훈련\n",
    "als_model.fit(csr_data_transpose)\n"
   ]
  },
  {
   "cell_type": "code",
   "execution_count": 50,
   "metadata": {},
   "outputs": [
    {
     "data": {
      "text/html": [
       "<div>\n",
       "<style scoped>\n",
       "    .dataframe tbody tr th:only-of-type {\n",
       "        vertical-align: middle;\n",
       "    }\n",
       "\n",
       "    .dataframe tbody tr th {\n",
       "        vertical-align: top;\n",
       "    }\n",
       "\n",
       "    .dataframe thead th {\n",
       "        text-align: right;\n",
       "    }\n",
       "</style>\n",
       "<table border=\"1\" class=\"dataframe\">\n",
       "  <thead>\n",
       "    <tr style=\"text-align: right;\">\n",
       "      <th></th>\n",
       "      <th>movie_id</th>\n",
       "      <th>title</th>\n",
       "      <th>genre</th>\n",
       "    </tr>\n",
       "  </thead>\n",
       "  <tbody>\n",
       "    <tr>\n",
       "      <th>0</th>\n",
       "      <td>1</td>\n",
       "      <td>Toy Story (1995)</td>\n",
       "      <td>Animation|Children's|Comedy</td>\n",
       "    </tr>\n",
       "    <tr>\n",
       "      <th>108</th>\n",
       "      <td>110</td>\n",
       "      <td>Braveheart (1995)</td>\n",
       "      <td>Action|Drama|War</td>\n",
       "    </tr>\n",
       "    <tr>\n",
       "      <th>315</th>\n",
       "      <td>318</td>\n",
       "      <td>Shawshank Redemption, The (1994)</td>\n",
       "      <td>Drama</td>\n",
       "    </tr>\n",
       "    <tr>\n",
       "      <th>476</th>\n",
       "      <td>480</td>\n",
       "      <td>Jurassic Park (1993)</td>\n",
       "      <td>Action|Adventure|Sci-Fi</td>\n",
       "    </tr>\n",
       "    <tr>\n",
       "      <th>1959</th>\n",
       "      <td>2028</td>\n",
       "      <td>Saving Private Ryan (1998)</td>\n",
       "      <td>Action|Drama|War</td>\n",
       "    </tr>\n",
       "  </tbody>\n",
       "</table>\n",
       "</div>"
      ],
      "text/plain": [
       "      movie_id                             title                        genre\n",
       "0            1                  Toy Story (1995)  Animation|Children's|Comedy\n",
       "108        110                 Braveheart (1995)             Action|Drama|War\n",
       "315        318  Shawshank Redemption, The (1994)                        Drama\n",
       "476        480              Jurassic Park (1993)      Action|Adventure|Sci-Fi\n",
       "1959      2028        Saving Private Ryan (1998)             Action|Drama|War"
      ]
     },
     "execution_count": 50,
     "metadata": {},
     "output_type": "execute_result"
    }
   ],
   "source": [
    "a #제가 좋아하는 영화의 movie id입니다.\n",
    "\n",
    "movies[movies['movie_id'].isin(a)]"
   ]
  },
  {
   "cell_type": "markdown",
   "metadata": {},
   "source": [
    "그중 Toy Story (1995)와 저의 선호도를 살펴보겠습니다."
   ]
  },
  {
   "cell_type": "code",
   "execution_count": 48,
   "metadata": {},
   "outputs": [
    {
     "name": "stdout",
     "output_type": "stream",
     "text": [
      "슝=3\n"
     ]
    },
    {
     "data": {
      "text/plain": [
       "0.91276944"
      ]
     },
     "execution_count": 48,
     "metadata": {},
     "output_type": "execute_result"
    }
   ],
   "source": [
    "hayaseleu, toy_story = user_to_idx['hayaseleu'], movie_id_to_idx[1]\n",
    "hayaseleu_vector, toy_story_vector = als_model.user_factors[hayaseleu], als_model.item_factors[toy_story]\n",
    "\n",
    "print('슝=3')\n",
    "hayaseleu_vector \n",
    "toy_story_vector\n",
    "# 제 코드와 Toy Story (1995)를 내적하는 코드\n",
    "np.dot(hayaseleu_vector , toy_story_vector)\n"
   ]
  },
  {
   "cell_type": "markdown",
   "metadata": {},
   "source": [
    "저와 toy_stroy_vector의 내적은 0.91로 계산되었습니다. 1이 최고점이라고할때 괜찮게 적합된것같습니다.  \n",
    "한번 Godfather, The (1972) 와 비교해보록 하겠습니다. "
   ]
  },
  {
   "cell_type": "code",
   "execution_count": 79,
   "metadata": {},
   "outputs": [
    {
     "data": {
      "text/plain": [
       "[858]"
      ]
     },
     "execution_count": 79,
     "metadata": {},
     "output_type": "execute_result"
    }
   ],
   "source": [
    "movies[movies['title'] == ('Godfather, The (1972)')].movie_id.values.tolist()"
   ]
  },
  {
   "cell_type": "markdown",
   "metadata": {},
   "source": [
    "Godfather, The (1972)의 movie_id는 858입니다. "
   ]
  },
  {
   "cell_type": "code",
   "execution_count": 59,
   "metadata": {},
   "outputs": [
    {
     "data": {
      "text/plain": [
       "-0.009455916"
      ]
     },
     "execution_count": 59,
     "metadata": {},
     "output_type": "execute_result"
    }
   ],
   "source": [
    "godfather = movie_id_to_idx[858]\n",
    "godfather_vector = als_model.item_factors[godfather]\n",
    "np.dot(hayaseleu_vector, godfather_vector)"
   ]
  },
  {
   "cell_type": "markdown",
   "metadata": {},
   "source": [
    "-0.009455916의 값이 나왔습니다. 저는 godfather와 잘 맞지않는다고 예측된것입니다. "
   ]
  },
  {
   "cell_type": "markdown",
   "metadata": {},
   "source": [
    "## 좋아하는 영화와 비슷한 영화 찾기 \n",
    "\n",
    "제가 좋아하는 Braveheart (1995)와 비슷한 영화를 찾아보겠습니다. 브레이브하트는 스코틀랜드 독립 전쟁을 다룬 역사영화입니다.\n",
    "Braveheart (1995)의 movie id는 110입니다. "
   ]
  },
  {
   "cell_type": "code",
   "execution_count": 61,
   "metadata": {},
   "outputs": [
    {
     "data": {
      "text/plain": [
       "[(87, 1.0),\n",
       " (3549, 0.20940584),\n",
       " (3499, 0.18365549),\n",
       " (3150, 0.15696874),\n",
       " (3582, 0.15458229),\n",
       " (2293, 0.14718468),\n",
       " (3446, 0.14573805),\n",
       " (3390, 0.14570312),\n",
       " (3554, 0.14501129),\n",
       " (2086, 0.14252515),\n",
       " (3481, 0.14203466),\n",
       " (3263, 0.14147931),\n",
       " (48, 0.14068228),\n",
       " (2695, 0.14038229),\n",
       " (3181, 0.13985391)]"
      ]
     },
     "execution_count": 61,
     "metadata": {},
     "output_type": "execute_result"
    }
   ],
   "source": [
    "favorite_movie = 110\n",
    "movie_id = movie_id_to_idx[favorite_movie]\n",
    "similar_movie = als_model.similar_items(movie_id, N=15)\n",
    "similar_movie\n"
   ]
  },
  {
   "cell_type": "code",
   "execution_count": 85,
   "metadata": {},
   "outputs": [
    {
     "data": {
      "text/plain": [
       "[110,\n",
       " 3842,\n",
       " 2887,\n",
       " 2695,\n",
       " 3337,\n",
       " 3579,\n",
       " 3522,\n",
       " 666,\n",
       " 2783,\n",
       " 3870,\n",
       " 749,\n",
       " 3126,\n",
       " 2028,\n",
       " 2785,\n",
       " 3570]"
      ]
     },
     "execution_count": 85,
     "metadata": {},
     "output_type": "execute_result"
    }
   ],
   "source": [
    "#movie_id_to_idx 를 뒤집어, index로부터 movie_id를 얻는 dict를 생성합니다. \n",
    "idx_to_movie_id = {v:k for k,v in movie_id_to_idx.items()}\n",
    "similar_braveheart = [idx_to_movie_id[i[0]] for i in similar_movie]\n",
    "similar_braveheart"
   ]
  },
  {
   "cell_type": "code",
   "execution_count": 64,
   "metadata": {},
   "outputs": [
    {
     "data": {
      "text/html": [
       "<div>\n",
       "<style scoped>\n",
       "    .dataframe tbody tr th:only-of-type {\n",
       "        vertical-align: middle;\n",
       "    }\n",
       "\n",
       "    .dataframe tbody tr th {\n",
       "        vertical-align: top;\n",
       "    }\n",
       "\n",
       "    .dataframe thead th {\n",
       "        text-align: right;\n",
       "    }\n",
       "</style>\n",
       "<table border=\"1\" class=\"dataframe\">\n",
       "  <thead>\n",
       "    <tr style=\"text-align: right;\">\n",
       "      <th></th>\n",
       "      <th>movie_id</th>\n",
       "      <th>title</th>\n",
       "      <th>genre</th>\n",
       "    </tr>\n",
       "  </thead>\n",
       "  <tbody>\n",
       "    <tr>\n",
       "      <th>108</th>\n",
       "      <td>110</td>\n",
       "      <td>Braveheart (1995)</td>\n",
       "      <td>Action|Drama|War</td>\n",
       "    </tr>\n",
       "    <tr>\n",
       "      <th>660</th>\n",
       "      <td>666</td>\n",
       "      <td>All Things Fair (1996)</td>\n",
       "      <td>Drama</td>\n",
       "    </tr>\n",
       "    <tr>\n",
       "      <th>739</th>\n",
       "      <td>749</td>\n",
       "      <td>Man from Down Under, The (1943)</td>\n",
       "      <td>Drama</td>\n",
       "    </tr>\n",
       "    <tr>\n",
       "      <th>1959</th>\n",
       "      <td>2028</td>\n",
       "      <td>Saving Private Ryan (1998)</td>\n",
       "      <td>Action|Drama|War</td>\n",
       "    </tr>\n",
       "    <tr>\n",
       "      <th>2626</th>\n",
       "      <td>2695</td>\n",
       "      <td>Boys, The (1997)</td>\n",
       "      <td>Drama</td>\n",
       "    </tr>\n",
       "    <tr>\n",
       "      <th>2714</th>\n",
       "      <td>2783</td>\n",
       "      <td>Tomb of Ligeia, The (1965)</td>\n",
       "      <td>Horror</td>\n",
       "    </tr>\n",
       "    <tr>\n",
       "      <th>2716</th>\n",
       "      <td>2785</td>\n",
       "      <td>Tales of Terror (1962)</td>\n",
       "      <td>Horror</td>\n",
       "    </tr>\n",
       "    <tr>\n",
       "      <th>2818</th>\n",
       "      <td>2887</td>\n",
       "      <td>Simon Sez (1999)</td>\n",
       "      <td>Drama</td>\n",
       "    </tr>\n",
       "    <tr>\n",
       "      <th>3057</th>\n",
       "      <td>3126</td>\n",
       "      <td>End of the Affair, The (1955)</td>\n",
       "      <td>Drama</td>\n",
       "    </tr>\n",
       "    <tr>\n",
       "      <th>3268</th>\n",
       "      <td>3337</td>\n",
       "      <td>I'll Never Forget What's 'is Name (1967)</td>\n",
       "      <td>Comedy|Drama</td>\n",
       "    </tr>\n",
       "    <tr>\n",
       "      <th>3453</th>\n",
       "      <td>3522</td>\n",
       "      <td>Sacco and Vanzetti (Sacco e Vanzetti) (1971)</td>\n",
       "      <td>Drama</td>\n",
       "    </tr>\n",
       "    <tr>\n",
       "      <th>3501</th>\n",
       "      <td>3570</td>\n",
       "      <td>Last September, The (1999)</td>\n",
       "      <td>Drama</td>\n",
       "    </tr>\n",
       "    <tr>\n",
       "      <th>3510</th>\n",
       "      <td>3579</td>\n",
       "      <td>I Dreamed of Africa (2000)</td>\n",
       "      <td>Drama</td>\n",
       "    </tr>\n",
       "    <tr>\n",
       "      <th>3772</th>\n",
       "      <td>3842</td>\n",
       "      <td>Make Them Die Slowly (Cannibal Ferox) (1980)</td>\n",
       "      <td>Horror</td>\n",
       "    </tr>\n",
       "    <tr>\n",
       "      <th>3800</th>\n",
       "      <td>3870</td>\n",
       "      <td>Our Town (1940)</td>\n",
       "      <td>Drama</td>\n",
       "    </tr>\n",
       "  </tbody>\n",
       "</table>\n",
       "</div>"
      ],
      "text/plain": [
       "      movie_id                                         title             genre\n",
       "108        110                             Braveheart (1995)  Action|Drama|War\n",
       "660        666                        All Things Fair (1996)             Drama\n",
       "739        749               Man from Down Under, The (1943)             Drama\n",
       "1959      2028                    Saving Private Ryan (1998)  Action|Drama|War\n",
       "2626      2695                              Boys, The (1997)             Drama\n",
       "2714      2783                    Tomb of Ligeia, The (1965)            Horror\n",
       "2716      2785                        Tales of Terror (1962)            Horror\n",
       "2818      2887                              Simon Sez (1999)             Drama\n",
       "3057      3126                 End of the Affair, The (1955)             Drama\n",
       "3268      3337      I'll Never Forget What's 'is Name (1967)      Comedy|Drama\n",
       "3453      3522  Sacco and Vanzetti (Sacco e Vanzetti) (1971)             Drama\n",
       "3501      3570                    Last September, The (1999)             Drama\n",
       "3510      3579                    I Dreamed of Africa (2000)             Drama\n",
       "3772      3842  Make Them Die Slowly (Cannibal Ferox) (1980)            Horror\n",
       "3800      3870                               Our Town (1940)             Drama"
      ]
     },
     "execution_count": 64,
     "metadata": {},
     "output_type": "execute_result"
    }
   ],
   "source": [
    "movies[movies['movie_id'].isin(similar_braveheart)]"
   ]
  },
  {
   "cell_type": "markdown",
   "metadata": {},
   "source": [
    "함수화해서 표현해봤습니다. 이번엔 그냥 비슷한 영화를 찾고싶다면 제목만 쳐도 됩니다. "
   ]
  },
  {
   "cell_type": "code",
   "execution_count": 89,
   "metadata": {},
   "outputs": [],
   "source": [
    "def get_similar_movie(movie_title : str):\n",
    "    movie_id = movies[movies['title'] == (movie_title)].movie_id.values.tolist()\n",
    "    movie_idd = movie_id_to_idx[movie_id[0]]\n",
    "    similar_movie = als_model.similar_items(movie_idd)\n",
    "    similar_movie = [idx_to_movie_id[i[0]] for i in similar_movie]\n",
    "    return movies[movies['movie_id'].isin(similar_movie)]"
   ]
  },
  {
   "cell_type": "code",
   "execution_count": 90,
   "metadata": {},
   "outputs": [
    {
     "data": {
      "text/html": [
       "<div>\n",
       "<style scoped>\n",
       "    .dataframe tbody tr th:only-of-type {\n",
       "        vertical-align: middle;\n",
       "    }\n",
       "\n",
       "    .dataframe tbody tr th {\n",
       "        vertical-align: top;\n",
       "    }\n",
       "\n",
       "    .dataframe thead th {\n",
       "        text-align: right;\n",
       "    }\n",
       "</style>\n",
       "<table border=\"1\" class=\"dataframe\">\n",
       "  <thead>\n",
       "    <tr style=\"text-align: right;\">\n",
       "      <th></th>\n",
       "      <th>movie_id</th>\n",
       "      <th>title</th>\n",
       "      <th>genre</th>\n",
       "    </tr>\n",
       "  </thead>\n",
       "  <tbody>\n",
       "    <tr>\n",
       "      <th>739</th>\n",
       "      <td>749</td>\n",
       "      <td>Man from Down Under, The (1943)</td>\n",
       "      <td>Drama</td>\n",
       "    </tr>\n",
       "    <tr>\n",
       "      <th>954</th>\n",
       "      <td>966</td>\n",
       "      <td>Walk in the Sun, A (1945)</td>\n",
       "      <td>Drama</td>\n",
       "    </tr>\n",
       "    <tr>\n",
       "      <th>1728</th>\n",
       "      <td>1787</td>\n",
       "      <td>Paralyzing Fear: The Story of Polio in America...</td>\n",
       "      <td>Documentary</td>\n",
       "    </tr>\n",
       "    <tr>\n",
       "      <th>2522</th>\n",
       "      <td>2591</td>\n",
       "      <td>Jeanne and the Perfect Guy (Jeanne et le gar�o...</td>\n",
       "      <td>Comedy|Romance</td>\n",
       "    </tr>\n",
       "    <tr>\n",
       "      <th>2637</th>\n",
       "      <td>2706</td>\n",
       "      <td>American Pie (1999)</td>\n",
       "      <td>Comedy</td>\n",
       "    </tr>\n",
       "    <tr>\n",
       "      <th>2789</th>\n",
       "      <td>2858</td>\n",
       "      <td>American Beauty (1999)</td>\n",
       "      <td>Comedy|Drama</td>\n",
       "    </tr>\n",
       "    <tr>\n",
       "      <th>2928</th>\n",
       "      <td>2997</td>\n",
       "      <td>Being John Malkovich (1999)</td>\n",
       "      <td>Comedy</td>\n",
       "    </tr>\n",
       "    <tr>\n",
       "      <th>3138</th>\n",
       "      <td>3207</td>\n",
       "      <td>Snows of Kilimanjaro, The (1952)</td>\n",
       "      <td>Adventure</td>\n",
       "    </tr>\n",
       "    <tr>\n",
       "      <th>3710</th>\n",
       "      <td>3779</td>\n",
       "      <td>Project Moon Base (1953)</td>\n",
       "      <td>Sci-Fi</td>\n",
       "    </tr>\n",
       "    <tr>\n",
       "      <th>3820</th>\n",
       "      <td>3890</td>\n",
       "      <td>Back Stage (2000)</td>\n",
       "      <td>Documentary</td>\n",
       "    </tr>\n",
       "  </tbody>\n",
       "</table>\n",
       "</div>"
      ],
      "text/plain": [
       "      movie_id                                              title  \\\n",
       "739        749                    Man from Down Under, The (1943)   \n",
       "954        966                          Walk in the Sun, A (1945)   \n",
       "1728      1787  Paralyzing Fear: The Story of Polio in America...   \n",
       "2522      2591  Jeanne and the Perfect Guy (Jeanne et le gar�o...   \n",
       "2637      2706                                American Pie (1999)   \n",
       "2789      2858                             American Beauty (1999)   \n",
       "2928      2997                        Being John Malkovich (1999)   \n",
       "3138      3207                   Snows of Kilimanjaro, The (1952)   \n",
       "3710      3779                           Project Moon Base (1953)   \n",
       "3820      3890                                  Back Stage (2000)   \n",
       "\n",
       "               genre  \n",
       "739            Drama  \n",
       "954            Drama  \n",
       "1728     Documentary  \n",
       "2522  Comedy|Romance  \n",
       "2637          Comedy  \n",
       "2789    Comedy|Drama  \n",
       "2928          Comedy  \n",
       "3138       Adventure  \n",
       "3710          Sci-Fi  \n",
       "3820     Documentary  "
      ]
     },
     "execution_count": 90,
     "metadata": {},
     "output_type": "execute_result"
    }
   ],
   "source": [
    "get_similar_movie('American Beauty (1999)')"
   ]
  },
  {
   "cell_type": "markdown",
   "metadata": {},
   "source": [
    "가장 인기있었던 American Beauty (1999)에는 이런 비슷한 영화가 있다고 평가받았습니다. "
   ]
  },
  {
   "cell_type": "markdown",
   "metadata": {},
   "source": [
    "## 추천받기 \n",
    "\n",
    "이제 진짜 추천을 한번 받아봅시다."
   ]
  },
  {
   "cell_type": "code",
   "execution_count": 94,
   "metadata": {},
   "outputs": [
    {
     "data": {
      "text/plain": [
       "[3114,\n",
       " 527,\n",
       " 589,\n",
       " 1265,\n",
       " 1233,\n",
       " 145,\n",
       " 3082,\n",
       " 588,\n",
       " 2467,\n",
       " 1873,\n",
       " 2702,\n",
       " 3405,\n",
       " 1584,\n",
       " 1913,\n",
       " 1049,\n",
       " 493,\n",
       " 3450,\n",
       " 940,\n",
       " 590,\n",
       " 1408]"
      ]
     },
     "execution_count": 94,
     "metadata": {},
     "output_type": "execute_result"
    }
   ],
   "source": [
    "user = user_to_idx['hayaseleu']\n",
    "# recommend에서는 user*item CSR Matrix를 받습니다.\n",
    "movie_recommended = als_model.recommend(user, csr_data, N=20, filter_already_liked_items=True)\n",
    "movie_recommended\n",
    "recomended_movie_id = [idx_to_movie_id[i[0]] for i in movie_recommended]\n",
    "recomended_movie_id \n",
    "\n",
    "\n"
   ]
  },
  {
   "cell_type": "code",
   "execution_count": 95,
   "metadata": {},
   "outputs": [
    {
     "data": {
      "text/html": [
       "<div>\n",
       "<style scoped>\n",
       "    .dataframe tbody tr th:only-of-type {\n",
       "        vertical-align: middle;\n",
       "    }\n",
       "\n",
       "    .dataframe tbody tr th {\n",
       "        vertical-align: top;\n",
       "    }\n",
       "\n",
       "    .dataframe thead th {\n",
       "        text-align: right;\n",
       "    }\n",
       "</style>\n",
       "<table border=\"1\" class=\"dataframe\">\n",
       "  <thead>\n",
       "    <tr style=\"text-align: right;\">\n",
       "      <th></th>\n",
       "      <th>movie_id</th>\n",
       "      <th>title</th>\n",
       "      <th>genre</th>\n",
       "    </tr>\n",
       "  </thead>\n",
       "  <tbody>\n",
       "    <tr>\n",
       "      <th>143</th>\n",
       "      <td>145</td>\n",
       "      <td>Bad Boys (1995)</td>\n",
       "      <td>Action</td>\n",
       "    </tr>\n",
       "    <tr>\n",
       "      <th>489</th>\n",
       "      <td>493</td>\n",
       "      <td>Menace II Society (1993)</td>\n",
       "      <td>Action|Crime|Drama</td>\n",
       "    </tr>\n",
       "    <tr>\n",
       "      <th>523</th>\n",
       "      <td>527</td>\n",
       "      <td>Schindler's List (1993)</td>\n",
       "      <td>Drama|War</td>\n",
       "    </tr>\n",
       "    <tr>\n",
       "      <th>584</th>\n",
       "      <td>588</td>\n",
       "      <td>Aladdin (1992)</td>\n",
       "      <td>Animation|Children's|Comedy|Musical</td>\n",
       "    </tr>\n",
       "    <tr>\n",
       "      <th>585</th>\n",
       "      <td>589</td>\n",
       "      <td>Terminator 2: Judgment Day (1991)</td>\n",
       "      <td>Action|Sci-Fi|Thriller</td>\n",
       "    </tr>\n",
       "    <tr>\n",
       "      <th>586</th>\n",
       "      <td>590</td>\n",
       "      <td>Dances with Wolves (1990)</td>\n",
       "      <td>Adventure|Drama|Western</td>\n",
       "    </tr>\n",
       "    <tr>\n",
       "      <th>928</th>\n",
       "      <td>940</td>\n",
       "      <td>Adventures of Robin Hood, The (1938)</td>\n",
       "      <td>Action|Adventure</td>\n",
       "    </tr>\n",
       "    <tr>\n",
       "      <th>1035</th>\n",
       "      <td>1049</td>\n",
       "      <td>Ghost and the Darkness, The (1996)</td>\n",
       "      <td>Action|Adventure</td>\n",
       "    </tr>\n",
       "    <tr>\n",
       "      <th>1214</th>\n",
       "      <td>1233</td>\n",
       "      <td>Boat, The (Das Boot) (1981)</td>\n",
       "      <td>Action|Drama|War</td>\n",
       "    </tr>\n",
       "    <tr>\n",
       "      <th>1245</th>\n",
       "      <td>1265</td>\n",
       "      <td>Groundhog Day (1993)</td>\n",
       "      <td>Comedy|Romance</td>\n",
       "    </tr>\n",
       "    <tr>\n",
       "      <th>1385</th>\n",
       "      <td>1408</td>\n",
       "      <td>Last of the Mohicans, The (1992)</td>\n",
       "      <td>Action|Romance|War</td>\n",
       "    </tr>\n",
       "    <tr>\n",
       "      <th>1543</th>\n",
       "      <td>1584</td>\n",
       "      <td>Contact (1997)</td>\n",
       "      <td>Drama|Sci-Fi</td>\n",
       "    </tr>\n",
       "    <tr>\n",
       "      <th>1804</th>\n",
       "      <td>1873</td>\n",
       "      <td>Mis�rables, Les (1998)</td>\n",
       "      <td>Drama</td>\n",
       "    </tr>\n",
       "    <tr>\n",
       "      <th>1844</th>\n",
       "      <td>1913</td>\n",
       "      <td>Picnic at Hanging Rock (1975)</td>\n",
       "      <td>Drama|Mystery</td>\n",
       "    </tr>\n",
       "    <tr>\n",
       "      <th>2398</th>\n",
       "      <td>2467</td>\n",
       "      <td>Name of the Rose, The (1986)</td>\n",
       "      <td>Mystery</td>\n",
       "    </tr>\n",
       "    <tr>\n",
       "      <th>2633</th>\n",
       "      <td>2702</td>\n",
       "      <td>Summer of Sam (1999)</td>\n",
       "      <td>Drama</td>\n",
       "    </tr>\n",
       "    <tr>\n",
       "      <th>3013</th>\n",
       "      <td>3082</td>\n",
       "      <td>World Is Not Enough, The (1999)</td>\n",
       "      <td>Action|Thriller</td>\n",
       "    </tr>\n",
       "    <tr>\n",
       "      <th>3045</th>\n",
       "      <td>3114</td>\n",
       "      <td>Toy Story 2 (1999)</td>\n",
       "      <td>Animation|Children's|Comedy</td>\n",
       "    </tr>\n",
       "    <tr>\n",
       "      <th>3336</th>\n",
       "      <td>3405</td>\n",
       "      <td>Night to Remember, A (1958)</td>\n",
       "      <td>Action|Drama</td>\n",
       "    </tr>\n",
       "    <tr>\n",
       "      <th>3381</th>\n",
       "      <td>3450</td>\n",
       "      <td>Grumpy Old Men (1993)</td>\n",
       "      <td>Comedy</td>\n",
       "    </tr>\n",
       "  </tbody>\n",
       "</table>\n",
       "</div>"
      ],
      "text/plain": [
       "      movie_id                                 title  \\\n",
       "143        145                       Bad Boys (1995)   \n",
       "489        493              Menace II Society (1993)   \n",
       "523        527               Schindler's List (1993)   \n",
       "584        588                        Aladdin (1992)   \n",
       "585        589     Terminator 2: Judgment Day (1991)   \n",
       "586        590             Dances with Wolves (1990)   \n",
       "928        940  Adventures of Robin Hood, The (1938)   \n",
       "1035      1049    Ghost and the Darkness, The (1996)   \n",
       "1214      1233           Boat, The (Das Boot) (1981)   \n",
       "1245      1265                  Groundhog Day (1993)   \n",
       "1385      1408      Last of the Mohicans, The (1992)   \n",
       "1543      1584                        Contact (1997)   \n",
       "1804      1873                Mis�rables, Les (1998)   \n",
       "1844      1913         Picnic at Hanging Rock (1975)   \n",
       "2398      2467          Name of the Rose, The (1986)   \n",
       "2633      2702                  Summer of Sam (1999)   \n",
       "3013      3082       World Is Not Enough, The (1999)   \n",
       "3045      3114                    Toy Story 2 (1999)   \n",
       "3336      3405           Night to Remember, A (1958)   \n",
       "3381      3450                 Grumpy Old Men (1993)   \n",
       "\n",
       "                                    genre  \n",
       "143                                Action  \n",
       "489                    Action|Crime|Drama  \n",
       "523                             Drama|War  \n",
       "584   Animation|Children's|Comedy|Musical  \n",
       "585                Action|Sci-Fi|Thriller  \n",
       "586               Adventure|Drama|Western  \n",
       "928                      Action|Adventure  \n",
       "1035                     Action|Adventure  \n",
       "1214                     Action|Drama|War  \n",
       "1245                       Comedy|Romance  \n",
       "1385                   Action|Romance|War  \n",
       "1543                         Drama|Sci-Fi  \n",
       "1804                                Drama  \n",
       "1844                        Drama|Mystery  \n",
       "2398                              Mystery  \n",
       "2633                                Drama  \n",
       "3013                      Action|Thriller  \n",
       "3045          Animation|Children's|Comedy  \n",
       "3336                         Action|Drama  \n",
       "3381                               Comedy  "
      ]
     },
     "execution_count": 95,
     "metadata": {},
     "output_type": "execute_result"
    }
   ],
   "source": [
    "movies[movies['movie_id'].isin(recomended_movie_id )]"
   ]
  },
  {
   "cell_type": "markdown",
   "metadata": {},
   "source": [
    "알라딘을 추천해준 배경에 어떤 영화들이 기여했는지 알아봅시다.  알라딘의 movie_id 는 588 입니다. "
   ]
  },
  {
   "cell_type": "code",
   "execution_count": 97,
   "metadata": {},
   "outputs": [
    {
     "data": {
      "text/plain": [
       "[(1, 0.05422749232511039),\n",
       " (318, 0.0276626004637993),\n",
       " (110, 0.0064652348797863924),\n",
       " (2028, -0.002064740556360165),\n",
       " (480, -0.009926529888682964)]"
      ]
     },
     "execution_count": 97,
     "metadata": {},
     "output_type": "execute_result"
    }
   ],
   "source": [
    "aladdin = movie_id_to_idx[588]\n",
    "explain = als_model.explain(user, csr_data, itemid=aladdin)\n",
    "# 이 method는 추천한 콘텐츠의 점수에 기여한 다른 콘텐츠와 기여도(합이 콘텐츠의 점수가 됩니다.)를 반환합니다. \n",
    "# 어떤 영화들이 이 추천에 얼마나 기여하고 있는 걸까요?\n",
    "\n",
    "[(idx_to_movie_id[i[0]], i[1]) for i in explain[1]]\n"
   ]
  },
  {
   "cell_type": "markdown",
   "metadata": {},
   "source": [
    "토이스토리가 큰 영향을 미친것을확인할 수 있습니다. 아무래도 같은 애니메이션 작품이라서 그런것같습니다. "
   ]
  },
  {
   "cell_type": "markdown",
   "metadata": {},
   "source": [
    "## 소고\n",
    "\n",
    "* 과적합                      \n",
    "제가 좋아한다고 추가한 영화들의 내적을 1과 가깝게 끌어올리다보니 모델이 다소 과적합된것같습니다.\n",
    "다른 영화들끼리는 그렇게 높은 값을 가지는걸 찾기가 힘들었던것같습니다. \n",
    "factors=500, regularization=0.01, use_gpu=False, iterations=200\n",
    "\n",
    "* movie_id, movie_idx, movie_title                    \n",
    "지금 movie 관련된 수치가 id,idx, title 세가지다 보니 다소 복잡합니다.                 \n",
    "movie_id는 중간중간에 빠진값이 있기도 해서 idx를 위주로 모델을 적합시켰고 id를 통해 영화를 구별하고           \n",
    "마지막으로 영화제목을 찾으니 다소 복잡해졌습니다. 그래도 get_similar_movie함수는 바로 title까지 뽑을수있도록      \n",
    "만들어보았는데 정작 그렇게하자 얼마나 유사한지를 보여주는 수치가 빠져버려서 더 이상해졌습니다.\n",
    "\n",
    "* merge                      \n",
    "위의 복잡함 때문에 한번 merge를 통해서 해보려고도 했는데 자꾸 코드가 꼬이는 바람에           \n",
    "한번만 사용하고 제대로 써보진않았습니다.\n",
    "다음에는 더 활용해보도록 하겠습니다.\n"
   ]
  }
 ],
 "metadata": {
  "kernelspec": {
   "display_name": "aiffel",
   "language": "python",
   "name": "aiffel"
  },
  "language_info": {
   "codemirror_mode": {
    "name": "ipython",
    "version": 3
   },
   "file_extension": ".py",
   "mimetype": "text/x-python",
   "name": "python",
   "nbconvert_exporter": "python",
   "pygments_lexer": "ipython3",
   "version": "3.7.9"
  }
 },
 "nbformat": 4,
 "nbformat_minor": 4
}
