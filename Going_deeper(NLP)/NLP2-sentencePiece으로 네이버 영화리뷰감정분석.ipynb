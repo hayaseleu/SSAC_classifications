{
 "cells": [
  {
   "cell_type": "markdown",
   "metadata": {},
   "source": [
    "# sentencePiece로 네이버 영화 리뷰 감정 분석\n",
    "\n",
    "## 분석 모델의 목적 \n",
    "\n",
    "네이버 영화 댓글로 구성된 데이터를 input으로 받으면, 긍정적인 반응(label 1) 인지 부정적인 반응(label 2) 인지인지 판단. \n",
    "\n",
    "이미 exp node 4에서 KoNLPY의 형태소 분석기를 사용해서 텍스트를 전처리했었음.\n",
    "\n",
    "이번 프로젝트에서는 tokenizer를 sentencepiece로 바꾸어서 다시 풀어보아 성능을 비교하는 것이 목적."
   ]
  },
  {
   "cell_type": "markdown",
   "metadata": {},
   "source": [
    "## SentencePiece 설치\n",
    "\n",
    "SentencePiece는 SentencePiece는 Google에서 제공하는 오픈소스 기반 Sentence Tokenizer/Detokenizer 로서, BPE와 unigram 2가지 subword 토크나이징 모델 중 하나를 선택해서 사용할 수 있도록 패키징한 것임.  \n",
    "\n",
    "* [google/sentencepiece](https://github.com/google/sentencepiece)\n",
    "\n",
    "SentencePiece는 딥러닝 자연어처리 모델의 앞부분에 사용할 목적으로 최적화되어 있는데, 최근 pretrained model들이 거의 대부분 SentencePiece를 tokenizer로 채용하면서 사실상 **표준**의 역할을 하고 있음. \n",
    "\n",
    " SentencePiece는 python에서 전용 라이브러리는 아니지만 편리한 파이썬 wrapper를 아래와 같이 제공하고 있음.\n",
    " \n",
    "``` terminal \n",
    "$ pip install sentencepiece\n",
    "```"
   ]
  },
  {
   "cell_type": "markdown",
   "metadata": {},
   "source": [
    "## 데이터 전처리 "
   ]
  },
  {
   "cell_type": "code",
   "execution_count": 81,
   "metadata": {},
   "outputs": [],
   "source": [
    "import matplotlib.pyplot as plt\n",
    "import tensorflow as tf\n",
    "import numpy as np"
   ]
  },
  {
   "cell_type": "code",
   "execution_count": 82,
   "metadata": {},
   "outputs": [],
   "source": [
    "import pandas as pd\n",
    "import urllib.request\n",
    "%matplotlib inline\n",
    "import matplotlib.pyplot as plt\n",
    "import re\n",
    "from konlpy.tag import Okt\n",
    "from tensorflow import keras\n",
    "from tensorflow.keras.preprocessing.text import Tokenizer\n",
    "import numpy as np\n",
    "from tensorflow.keras.preprocessing.sequence import pad_sequences\n",
    "from collections import Counter"
   ]
  },
  {
   "cell_type": "code",
   "execution_count": 59,
   "metadata": {},
   "outputs": [
    {
     "name": "stdout",
     "output_type": "stream",
     "text": [
      "<class 'pandas.core.frame.DataFrame'>\n",
      "Int64Index: 149995 entries, 0 to 149999\n",
      "Data columns (total 3 columns):\n",
      " #   Column    Non-Null Count   Dtype \n",
      "---  ------    --------------   ----- \n",
      " 0   id        149995 non-null  int64 \n",
      " 1   document  149995 non-null  object\n",
      " 2   label     149995 non-null  int64 \n",
      "dtypes: int64(2), object(1)\n",
      "memory usage: 4.6+ MB\n",
      "None \n",
      "-----------------------------------\n",
      "          id                                           document  label\n",
      "0   9976970                                아 더빙.. 진짜 짜증나네요 목소리      0\n",
      "1   3819312                  흠...포스터보고 초딩영화줄....오버연기조차 가볍지 않구나      1\n",
      "2  10265843                                  너무재밓었다그래서보는것을추천한다      0\n",
      "3   9045019                      교도소 이야기구먼 ..솔직히 재미는 없다..평점 조정      0\n",
      "4   6483659  사이몬페그의 익살스런 연기가 돋보였던 영화!스파이더맨에서 늙어보이기만 했던 커스틴 ...      1\n"
     ]
    }
   ],
   "source": [
    "train_data = pd.read_table('~/aiffel/sentiment_classification/ratings_train.txt').dropna(how = 'any')\n",
    "test_data = pd.read_table('~/aiffel/sentiment_classification/ratings_test.txt').dropna(how = 'any')\n",
    "\n",
    "print(train_data.info(),\"\\n-----------------------------------\\n\",train_data.head() )"
   ]
  },
  {
   "cell_type": "markdown",
   "metadata": {},
   "source": [
    "train data는 0부터 149995 즉 149996개가 있습니다.  끝자리가 맞지않은것은 dropna로 na가 있는 값은 제외했기 때문입니다.   \n",
    "데이터는 index, id, document,label로 이루어져있는것을 확인 할 수 있었습니다. "
   ]
  },
  {
   "cell_type": "code",
   "execution_count": 60,
   "metadata": {},
   "outputs": [],
   "source": [
    "raw = train_data['document'].values"
   ]
  },
  {
   "cell_type": "code",
   "execution_count": 61,
   "metadata": {},
   "outputs": [
    {
     "name": "stdout",
     "output_type": "stream",
     "text": [
      "문장의 최단 길이: 1\n",
      "문장의 최장 길이: 146\n",
      "문장의 평균 길이: 35\n"
     ]
    },
    {
     "data": {
      "image/png": "[encoded data removed]",
      "text/plain": [
       "<Figure size 432x288 with 1 Axes>"
      ]
     },
     "metadata": {
      "needs_background": "light"
     },
     "output_type": "display_data"
    }
   ],
   "source": [
    "min_len = 999\n",
    "max_len = 0\n",
    "sum_len = 0\n",
    "\n",
    "for sen in raw:\n",
    "    sen = str(sen)\n",
    "    length = len(sen)\n",
    "    if min_len > length: min_len = length\n",
    "    if max_len < length: max_len = length\n",
    "    sum_len += length\n",
    "\n",
    "print(\"문장의 최단 길이:\", min_len)\n",
    "print(\"문장의 최장 길이:\", max_len)\n",
    "print(\"문장의 평균 길이:\", sum_len // len(raw))\n",
    "\n",
    "sentence_length = np.zeros((max_len), dtype=np.int)\n",
    "\n",
    "for sen in raw:\n",
    "    sen = str(sen)\n",
    "    sentence_length[len(sen)-1] += 1\n",
    "\n",
    "plt.bar(range(max_len), sentence_length, width=1.0)\n",
    "plt.title(\"Sentence Length Distribution\")\n",
    "plt.show()\n"
   ]
  },
  {
   "cell_type": "markdown",
   "metadata": {},
   "source": [
    "댓글이다 보니 짧은 리뷰들이 많은 것을 확인할 수 있습니다. "
   ]
  },
  {
   "cell_type": "code",
   "execution_count": 62,
   "metadata": {},
   "outputs": [
    {
     "name": "stdout",
     "output_type": "stream",
     "text": [
      "아\n",
      "\n",
      "\n",
      "잼\n",
      "\n",
      "\n",
      "1\n",
      "\n",
      "\n",
      "4\n",
      "\n",
      "\n",
      "4\n",
      "\n",
      "\n",
      "굿\n",
      "\n",
      "\n",
      "짱\n",
      "\n",
      "\n",
      "휴\n",
      "\n",
      "\n",
      ".\n",
      "\n",
      "\n",
      "1\n",
      "\n",
      "\n",
      "굿\n",
      "\n",
      "\n",
      "음\n",
      "\n",
      "\n",
      "?\n",
      "\n",
      "\n",
      "?\n",
      "\n",
      "\n",
      "ㅎ\n",
      "\n",
      "\n",
      "굿\n",
      "\n",
      "\n",
      "ㅋ\n",
      "\n",
      "\n",
      "굿\n",
      "\n",
      "\n",
      "즐\n",
      "\n",
      "\n",
      "♥\n",
      "\n",
      "\n",
      "굳\n",
      "\n",
      "\n",
      "ㅋ\n",
      "\n",
      "\n",
      "네\n",
      "\n",
      "\n",
      "ㅎ\n",
      "\n",
      "\n",
      "ㅋ\n",
      "\n",
      "\n",
      "굿\n",
      "\n",
      "\n",
      "ㅇ\n",
      "\n",
      "\n",
      "k\n",
      "\n",
      "\n",
      ".\n",
      "\n",
      "\n",
      "굿\n",
      "\n",
      "\n",
      "굿\n",
      "\n",
      "\n",
      "굳\n",
      "\n",
      "\n",
      "ㅠ\n",
      "\n",
      "\n",
      "?\n",
      "\n",
      "\n",
      "1\n",
      "\n",
      "\n",
      "ㅋ\n",
      "\n",
      "\n",
      "굿\n",
      "\n",
      "\n",
      "쒯\n",
      "\n",
      "\n",
      "굿\n",
      "\n",
      "\n",
      "굿\n",
      "\n",
      "\n",
      "굳\n",
      "\n",
      "\n",
      "♬\n",
      "\n",
      "\n",
      "굿\n",
      "\n",
      "\n",
      "토\n",
      "\n",
      "\n",
      "ㅋ\n",
      "\n",
      "\n",
      "ㅋ\n",
      "\n",
      "\n",
      "굿\n",
      "\n",
      "\n",
      "ㅋ\n",
      "\n",
      "\n",
      "굿\n",
      "\n",
      "\n",
      "O\n",
      "\n",
      "\n",
      "똥\n",
      "\n",
      "\n",
      "ㅎ\n",
      "\n",
      "\n",
      ".\n",
      "\n",
      "\n",
      "굿\n",
      "\n",
      "\n",
      "ㅎ\n",
      "\n",
      "\n",
      "짱\n",
      "\n",
      "\n",
      "굳\n",
      "\n",
      "\n",
      "굿\n",
      "\n",
      "\n",
      "굿\n",
      "\n",
      "\n",
      "짱\n",
      "\n",
      "\n",
      "?\n",
      "\n",
      "\n",
      "z\n",
      "\n",
      "\n",
      "굿\n",
      "\n",
      "\n",
      "짱\n",
      "\n",
      "\n",
      "음\n",
      "\n",
      "\n",
      "굳\n",
      "\n",
      "\n",
      "ㅇ\n",
      "\n",
      "\n",
      "헐\n",
      "\n",
      "\n",
      "굳\n",
      "\n",
      "\n",
      "굳\n",
      "\n",
      "\n",
      "굿\n",
      "\n",
      "\n",
      "굿\n",
      "\n",
      "\n",
      "굿\n",
      "\n",
      "\n",
      "삼\n",
      "\n",
      "\n",
      "꽝\n",
      "\n",
      "\n",
      "굿\n",
      "\n",
      "\n",
      "굿\n",
      "\n",
      "\n",
      "굿\n",
      "\n",
      "\n",
      "굿\n",
      "\n",
      "\n",
      "ㅎ\n",
      "\n",
      "\n",
      "굳\n",
      "\n",
      "\n",
      "굿\n",
      "\n",
      "\n",
      "4\n",
      "\n",
      "\n",
      "!\n",
      "\n",
      "\n",
      "?\n",
      "\n",
      "\n",
      "ㅎ\n",
      "\n",
      "\n",
      "1\n",
      "\n",
      "\n",
      "굳\n",
      "\n",
      "\n",
      ".\n",
      "\n",
      "\n",
      "ㅎ\n",
      "\n",
      "\n",
      "풉\n",
      "\n",
      "\n",
      "아\n",
      "\n",
      "\n",
      "굿\n",
      "\n",
      "\n",
      "똥\n",
      "\n",
      "\n",
      "ㅅ\n",
      "\n",
      "\n",
      "왜\n",
      "\n",
      "\n",
      "ㄴ\n",
      "\n",
      "\n",
      "굳\n",
      "\n",
      "\n",
      "쉣\n",
      "\n",
      "\n",
      "봐\n",
      "\n",
      "\n",
      "z\n",
      "\n",
      "\n"
     ]
    }
   ],
   "source": [
    "def check_sentence_with_length(raw, length):\n",
    "    count = 0\n",
    "    \n",
    "    for sen in raw:\n",
    "        sen = str(sen)\n",
    "        if len(sen) == length:\n",
    "            print(sen)\n",
    "            print('\\n')\n",
    "            count += 1\n",
    "            if count > 100: return\n",
    "\n",
    "check_sentence_with_length(raw, 1)"
   ]
  },
  {
   "cell_type": "code",
   "execution_count": 63,
   "metadata": {},
   "outputs": [
    {
     "name": "stdout",
     "output_type": "stream",
     "text": [
      "Outlier Index: 4\n",
      "Outlier Index: 6\n",
      "Outlier Index: 7\n",
      "Outlier Index: 8\n",
      "Outlier Index: 9\n",
      "Outlier Index: 10\n",
      "Outlier Index: 11\n",
      "Outlier Index: 12\n",
      "Outlier Index: 13\n",
      "Outlier Index: 14\n",
      "Outlier Index: 15\n",
      "Outlier Index: 16\n",
      "Outlier Index: 17\n",
      "Outlier Index: 18\n",
      "Outlier Index: 19\n",
      "Outlier Index: 20\n",
      "Outlier Index: 21\n",
      "Outlier Index: 22\n",
      "Outlier Index: 23\n",
      "Outlier Index: 24\n",
      "Outlier Index: 25\n",
      "Outlier Index: 26\n",
      "Outlier Index: 27\n",
      "Outlier Index: 28\n",
      "Outlier Index: 29\n",
      "Outlier Index: 30\n",
      "Outlier Index: 31\n",
      "Outlier Index: 32\n",
      "Outlier Index: 33\n",
      "Outlier Index: 34\n",
      "Outlier Index: 35\n",
      "Outlier Index: 36\n",
      "Outlier Index: 37\n",
      "Outlier Index: 38\n",
      "Outlier Index: 39\n",
      "Outlier Index: 40\n",
      "Outlier Index: 41\n",
      "Outlier Index: 42\n",
      "Outlier Index: 43\n",
      "Outlier Index: 44\n",
      "Outlier Index: 45\n",
      "Outlier Index: 46\n"
     ]
    }
   ],
   "source": [
    "for idx, _sum in enumerate(sentence_length):\n",
    "    # 문장의 수가 1500을 초과하는 문장 길이를 추출합니다.\n",
    "    if _sum > 1500:\n",
    "        print(\"Outlier Index:\", idx+1)\n",
    "        "
   ]
  },
  {
   "cell_type": "markdown",
   "metadata": {},
   "source": [
    "그래프로 봤을때도 50대부터 급격하게 빈도수가 줄어드는 것을 확인할 수 있었는데 다시 한번 확인할 수 있는 명령어 입니다.\n",
    "\n",
    "약 47 길이 이상의 문장의 경우 빈도수가 확연히 줄여들어 1500의 빈도수 보다 낮아짐을 확인할 수 있습니다.\n",
    "\n"
   ]
  },
  {
   "cell_type": "code",
   "execution_count": 64,
   "metadata": {},
   "outputs": [
    {
     "name": "stdout",
     "output_type": "stream",
     "text": [
      "\"스폰으로 먹고사는 방송이라 어쩔수 없다고 하지만. 이건 그냥 비현실적인 자동차만;...독일3사&슈퍼카 홍보 프로그램도 아니구.대중적인 자동차 방송으로 이루어 졌으면 합니다. 보는내내 \"\"카탈로그 책자\"\"를 \"\"동영상으로 보여주는 방송\"\" 같아서 씁쓸하네요.!\"\n",
      "\n",
      "\n",
      "\"\"\"니 짓은 생각않고, 웬 복수!\"\"의 교훈이라! 그럼 \"\"서바이벌 액션\"\"으로 홍보하면 안되지! 초반 45분은 멋지게 열더니.. 억지 반전, 하드고어로 시간끌다가, 허둥지둥 화해로 끝내버리네. 90분 러닝타임에 엔딩자막만 11분 틀어주는 해괴망측한 영화~!\"\n",
      "\n",
      "\n",
      "\"2007.02.25_ 벌교의 한 국밥집_ 점심: \"\"갸는 첫째고, 저 놈은 우리 둘째~\"\" 재문: \"\"아줌마! 미안해~ 그냥.. 아줌마! 나 그 남방 잘 어울려ㅠ_ㅠ?\"\" 대식에게 복수하려던 1주일 전_ 대식의 엄마를 먼저 만났다. 사랑의 꽃남방도..^-^o\"\n",
      "\n",
      "\n"
     ]
    }
   ],
   "source": [
    "check_sentence_with_length(raw, 146)"
   ]
  },
  {
   "cell_type": "code",
   "execution_count": 50,
   "metadata": {},
   "outputs": [
    {
     "name": "stdout",
     "output_type": "stream",
     "text": [
      "\"상처투성이인 한국인을 위하여 어제는 추기경님이 계셨고 오늘은 교황님께서 치유하시고 가셨습니다. \"\" 고난이 나를 찾을때 피하고 싶은 내마음은\"\"하시며 노래부르실때는 한 인간으로서 사제로서 격었을 그분의 고난에 눈물이 흐릅니다. 이땅에 이런어른 더안계시나요\"\n",
      "\n",
      "\n",
      "\"이제 어른들이 어떻게 하면 좋을까? 라는 대사에서 느껴지는 무책임. 담임이 자신의 딸에게 \"\"무책임? 그런 건 몰라!\"\" 에서 느껴지는 이중적인 모습에 소름 돋았다. 서바이벌 게임을 통해 그려진 그림 또한 실제 학급 모습과 크게 다르지 않다는 생각도..b\"\n",
      "\n",
      "\n",
      "\"연출은 물론 배우들의 연기력 등 모든것이 완벽한 영화.모건 프리먼의 목소리가 영화의 몰입도를 더욱 높였다.\"\"태평양이 내 꿈에서처럼 푸르기를 희망한다.나는 희망한다.\"\"이 대사가 너무 좋았다ㅠ희망이라는 추상적인 명사에 대해 다시 생각하게되는 계기가 되었다\"\n",
      "\n",
      "\n",
      "\"윤시윤,서재희역할 너무 머찌고 연기짱이였습니다.정말 몰입해서 잘 봤어요. 윤시윤배우의 가능성이 엿보이고, 이지아씨랑 연기호흡도 너무 좋았습니다. 어려운 상황에 좋은 작품 감동 적입니다. 이제 마지막회만 보면 \"\"나도꽃\"\"다시보기정복완료.이지아,윤시윤 짱짱\"\n",
      "\n",
      "\n",
      "\"그렇게 빵 터질만한 웃음도, 감동도 없었던 기억의 영화이지만... 다 필요 없다. 오로지 차이코프스키, 바이올린, 바이올린 협주곡 D장조 35번. 마지막 그 장면. 오로지 그것만이 모든 것을 감싼다. \"\"레아를 미치게 한건 바로 우리야.\"\" 다시 듣고싶다\"\n",
      "\n",
      "\n",
      "\"어른의 탈을 쓴 \"\"어린이들\"\"의 이야기! 고민없이 등떠밀려 결혼하고, 육아와 일과 권태에 지쳐, 헛된 돌파구만 찾는 남녀들! 자신의 서러움만 외치다가, 남의 떡에 의지해보지만, 정작 모험앞에선 도망쳐버리지. 결혼의 가치와 허망함을 동시에 보여준 작품~!\"\n",
      "\n",
      "\n",
      "\"괜찮은 영화 제목은 글쎄 진부한 미녀와 야수 스토리 속에는 러브스토리만이 아닌 서로를 만남으로써 자신의 모습을 찾게 된다. 여주인공이 선생을 관두면서 꼬맹이한테 한 말이 인상 깊다. \"\"살다 보면 멋진 사람을 많이 만날거야하지만 그 사람들을 따라가지마\"\"\"\n",
      "\n",
      "\n",
      "\"보는 내내 짜증나는 영화.주제는 묵직하고 섬세한 표현력이 요구되는데 그저 시종일관 감성팔이. 억지로 슬프라고 강요하는거 같았다. 그와중에 동호가 \"\"아저씨 살려주세여\"\"라고 외치면서 그나마 남아있던 좋은 생각들도 다 날려버렸다. 오랜만에 팝콘만맛있던 영화\"\n",
      "\n",
      "\n",
      "\"정말 아름다운 영화였다. 영화를 보지도않고 \"\"제로젠을 만든 기술자에 대한 이야기\"\" 라는 사실만 알고 침흘리며 OOO처럼 까대는 미개한 수준이 보이네요. 이 영화에서는 절대 전쟁을 미화하지 않습니다. 오히려 씁슬하게 바라보죠. 꼭 한번 보시길 바랍니다.\"\n",
      "\n",
      "\n",
      "\"진짜 이건 한마다 해야겠다.. 곽도원 소지섭이 어떻게든 살린드라마라고밖에 보여지지 않는다. 어색한 스토리에 너무나 \"\"싸인\"\" 이라는 드라마를 표본으로 만든 듯한 내용전개는 헛웃음을 자아내게 만든다. 사이버수사대라는 주제도 조금은 무리수가 아니었나 싶다.\"\n",
      "\n",
      "\n",
      "\"어제인가? \"\"영화가좋다\"\" 프로그램을 보는데 소수의견 잼나는데 대기업의 횡포로 이 영화가 묻혔다고 하던데... 그런 논리라면 이 세상에 잘못되지 않은게 어디 있단 말인가?? 이 영화 자체도 마찬가지다 법정드라마라고 하는데 현재 으ㅜ리나라를 부정하는영화임\"\n",
      "\n",
      "\n",
      "\"출연진이란 스펙만으로도 영화관을 꽉채웠던.. 그러나 영화별관심없는나, 장르가리지않고 섭렵하는남친, 그리고 단언컨데 80프로이상 관객들까지 \"\"뭐야이건?\"\" 이라며 수근거리는 와중에 영화는끝났다. 전부문화저능아란건가?? 다들어려운영화 이해한다는 허세끝내주네\"\n",
      "\n",
      "\n",
      "\"댓글을보고 떠오른 생각이있다.. 나는 무교지만 어렸을적 친구따라 교회를 갔던적이있다. 이 영화속 영상을 틀고 방언을 하며 울던 그들의 모습에서 어느 블로거의 말이 떠올랐다. \"\"한명이 미치면 정신병이고 다같이 미치면 종교다.\"\" 과연 무엇이 옳은것일까..\"\n",
      "\n",
      "\n",
      "\"예상이 틀리지 않았네요. 일본 유명 괴담을 영화화 한것 같은? 전체 내용은 다르지만 뺑소니 당한 여성이 원한이 되는 포인트. 괴담에는 주인공은 죽지 않아도. 네비게이션이 하는 \"\"시네바요카타노니..(죽었으면 좋았을텐데..)\"\"이거 빼곤 뭐.. 판박이네요.\"\n",
      "\n",
      "\n",
      "\"뭐가 뭔지 하나도 모르겠다. 쥬드로가 난봉꾼으로 나오는 거밖에. ㅠ.ㅠ 좋은 배우들 데려다가 뭐하는건지.... 다니엘 라이스의 \"\"blower`s daughter\"\"음악이 좋아서 찾아서 본건데... 처음하고 끝에만 노래 나와. 영화와 잘 안어울려. 뭐랄까\"\n",
      "\n",
      "\n",
      "\"토토 등의 숲이 움직인다는 발상은 좋지만 아이들이 보기에 좋지않다고 생각. 잔인하다. 두 남매나 사냥꾼이 너무 폭력적이다. 스토리도 영상도 더빙도 허술하다. 갑자기 끝에가서 \"\"사이좋게 지내야지\"\"하면 교훈을 주는건가? 모르겠다. 관람을 만류하고싶은 영화\"\n",
      "\n",
      "\n",
      "\"초능력과 염력이라는 소재를, 따뜻하고 애틋한 전원드라마로 펼쳐낸 각본과 연출력이, 그야말로 일품이다. 아울러, 훌륭한 변호+홍보 메시지까지! \"\"우리는 마녀가 아니야! 인간의 잠재력을 무한대로 끌어올려, 인류발전을 이루려는 것뿐이야!\"\" OK, 갓 잇~!\"\n",
      "\n",
      "\n",
      "\"중년부부 사이로 흐르는강 \"\"바라나시\"\" 관계와 죽음, 그안에 빠져 흘러가는강. '인간의 위선' 현실이다. 남편의 위선 위에 위선. 쿨한척 뒤엔 아내의 영역 침범 욕구를 보이는 내연녀. 편집력만 보아도 혼란의 관계, 죽음까지 말하며 대중을 위한 예술영화.\"\n",
      "\n",
      "\n",
      "\"\"\"천안함은 잠수함과 충돌\"\" 연구논문 나와 : 논문에 따르면 천안함 침몰 당시 백령도에서 기록된 지진파의 주파수 스펙트럼이 대형 잠수함의 축-진동 고유진동 주파수 스펙트럼과 일치함을 보였다. 군 당국에서 언론에 공개한 반파된 천안함의 열상감지장치(TOD\"\n",
      "\n",
      "\n",
      "\"남들은 2002년 히딩크 신화를 말하지만.. 난 이영화를 보면서 먹고살기 힘들던 시기 타국에 나가 선전하던 한국선수들이 떠올랐다.. 낡은 라디오속에서 외치던 아나운서의 \"\"고국에 계신 동포여러분.. 대한민국이 드디어..\"\" 암튼 동티모르에도 희망이 싹트길\"\n",
      "\n",
      "\n",
      "\"말도 안돼는 이유로 무조건 까는사람 많네. 그럴거면 괜히 평점테러 하지말고 외국영화나 보세요. 애초에정통 서부 영화인 석양의 무법자(원작)이랑 액션 코미디물인 \"\"놈놈놈(패러디)\"\"랑 진지하게 비교하는건 오버지. 그리고 정작 원작의 나라에서는 호평받았다.\"\n",
      "\n",
      "\n",
      "\"우연히 김성령, 강수진, 백지영편을 보다 넘 화가 나 한마디: MC 사고방식대로라면 C급 연예추남들이 모여 미모/재능/노력 모든 부문에 대성한 완벽녀들에게 나이와 외모로 조롱했다. 끝마무리엔 \"\"늙어서 주름이 많지만 영혼의 주름을 펴줬다\"\"나? 저질이다.\"\n",
      "\n",
      "\n"
     ]
    }
   ],
   "source": [
    "check_sentence_with_length(raw, 144)"
   ]
  },
  {
   "cell_type": "markdown",
   "metadata": {},
   "source": [
    "최대 길이인 146와 144길이의 가진 리뷰들입니다. \n",
    "\n",
    "위에서 언급했듯이 \n",
    "\n",
    "일단 이번 리뷰에서는 수가 적은 긴 데이터는 제외하고 길이가 46인 데이터까지 학습에 사용하도록 하겠습니다.\n",
    "\n",
    "일단 set을 통해서 중복을 제외하겠습니다."
   ]
  },
  {
   "cell_type": "code",
   "execution_count": 65,
   "metadata": {},
   "outputs": [
    {
     "name": "stdout",
     "output_type": "stream",
     "text": [
      "Data Size: 146182\n",
      "문장의 최단 길이: 1\n",
      "문장의 최장 길이: 146\n",
      "문장의 평균 길이: 35\n"
     ]
    },
    {
     "data": {
      "image/png": "[encoded data removed]",
      "text/plain": [
       "<Figure size 432x288 with 1 Axes>"
      ]
     },
     "metadata": {
      "needs_background": "light"
     },
     "output_type": "display_data"
    }
   ],
   "source": [
    "min_len = 999\n",
    "max_len = 0\n",
    "sum_len = 0\n",
    "\n",
    "cleaned_corpus = list(set(raw))  # set를 사용해서 중복을 제거합니다.\n",
    "print(\"Data Size:\", len(cleaned_corpus))\n",
    "\n",
    "for sen in cleaned_corpus:\n",
    "    sen = str(sen)\n",
    "    length = len(sen)\n",
    "    if min_len > length: min_len = length\n",
    "    if max_len < length: max_len = length\n",
    "    sum_len += length\n",
    "\n",
    "print(\"문장의 최단 길이:\", min_len)\n",
    "print(\"문장의 최장 길이:\", max_len)\n",
    "print(\"문장의 평균 길이:\", sum_len // len(cleaned_corpus))\n",
    "\n",
    "sentence_length = np.zeros((max_len), dtype=np.int)\n",
    "\n",
    "for sen in cleaned_corpus:   # 중복이 제거된 코퍼스 기준\n",
    "    sen = str(sen)\n",
    "    sentence_length[len(sen)-1] += 1\n",
    "\n",
    "plt.bar(range(max_len), sentence_length, width=1.0)\n",
    "plt.title(\"Sentence Length Distribution\")\n",
    "plt.show()\n"
   ]
  },
  {
   "cell_type": "markdown",
   "metadata": {},
   "source": [
    "150000개의 데이터에서 중복을 줄이자 146183를 얻을 수 있었습니다."
   ]
  },
  {
   "cell_type": "markdown",
   "metadata": {},
   "source": [
    "지나치게 짧거나 긴 문장은 제외하고 5~46의 데이터만 사용하겠습니다."
   ]
  },
  {
   "cell_type": "code",
   "execution_count": 66,
   "metadata": {},
   "outputs": [
    {
     "data": {
      "image/png": "[encoded data removed]",
      "text/plain": [
       "<Figure size 432x288 with 1 Axes>"
      ]
     },
     "metadata": {
      "needs_background": "light"
     },
     "output_type": "display_data"
    }
   ],
   "source": [
    "max_len = 46\n",
    "min_len = 5\n",
    "\n",
    "# 길이 조건에 맞는 문장만 선택합니다.\n",
    "filtered_corpus = [s for s in cleaned_corpus if (len(str(s)) < max_len) & (len(str(s)) >= min_len)]\n",
    "\n",
    "# 분포도를 다시 그려봅니다.\n",
    "sentence_length = np.zeros((max_len), dtype=np.int)\n",
    "\n",
    "for sen in filtered_corpus:\n",
    "    sentence_length[len(sen)-1] += 1\n",
    "\n",
    "plt.bar(range(max_len), sentence_length, width=1.0)\n",
    "plt.title(\"Sentence Length Distribution\")\n",
    "plt.show()\n"
   ]
  },
  {
   "cell_type": "markdown",
   "metadata": {},
   "source": [
    "46개를 사용했을때의 분포는 위와 같습니다. \n",
    "\n",
    "단 지금까지는 train data의 'document'만 가지고 데이터를 분할했기때문에 다시 label과 결합하기는 불편합니다.\n",
    "\n",
    "그렇기때문에 다시 원본 데이터를 가져와서 길이가 5~46인것을 분할하는것이 더 나을거같다고 판단하여 다시 데이터를 가져왔습니다."
   ]
  },
  {
   "cell_type": "markdown",
   "metadata": {},
   "source": [
    "중복도 다시 제거합니다."
   ]
  },
  {
   "cell_type": "code",
   "execution_count": 67,
   "metadata": {},
   "outputs": [
    {
     "name": "stdout",
     "output_type": "stream",
     "text": [
      "146182\n",
      "49157\n"
     ]
    }
   ],
   "source": [
    "\n",
    "\n",
    "train_data = train_data.drop_duplicates(subset = 'document', keep = 'last')\n",
    "test_data = test_data.drop_duplicates(subset = 'document', keep = 'last')\n",
    "\n",
    "print(len(train_data))\n",
    "print(len(test_data))"
   ]
  },
  {
   "cell_type": "code",
   "execution_count": 70,
   "metadata": {},
   "outputs": [
    {
     "name": "stdout",
     "output_type": "stream",
     "text": [
      "112989\n",
      "37878\n"
     ]
    }
   ],
   "source": [
    "max_len = 46\n",
    "min_len = 5\n",
    "\n",
    "train_data = train_data[train_data['document'].map(len) <= max_len]\n",
    "train_data = train_data[train_data['document'].map(len) > min_len]\n",
    "\n",
    "test_data = test_data[test_data['document'].map(len) <= max_len]\n",
    "test_data = test_data[test_data['document'].map(len) > min_len]\n",
    "\n",
    "\n",
    "print(len(train_data))\n",
    "print(len(test_data))"
   ]
  },
  {
   "cell_type": "markdown",
   "metadata": {},
   "source": [
    "총 train_data를 112989개, test 데이터를 37878개까지 전처리 했습니다."
   ]
  },
  {
   "cell_type": "code",
   "execution_count": 71,
   "metadata": {},
   "outputs": [
    {
     "data": {
      "text/html": [
       "<div>\n",
       "<style scoped>\n",
       "    .dataframe tbody tr th:only-of-type {\n",
       "        vertical-align: middle;\n",
       "    }\n",
       "\n",
       "    .dataframe tbody tr th {\n",
       "        vertical-align: top;\n",
       "    }\n",
       "\n",
       "    .dataframe thead th {\n",
       "        text-align: right;\n",
       "    }\n",
       "</style>\n",
       "<table border=\"1\" class=\"dataframe\">\n",
       "  <thead>\n",
       "    <tr style=\"text-align: right;\">\n",
       "      <th></th>\n",
       "      <th>id</th>\n",
       "      <th>document</th>\n",
       "      <th>label</th>\n",
       "    </tr>\n",
       "  </thead>\n",
       "  <tbody>\n",
       "    <tr>\n",
       "      <th>0</th>\n",
       "      <td>9976970</td>\n",
       "      <td>아 더빙.. 진짜 짜증나네요 목소리</td>\n",
       "      <td>0</td>\n",
       "    </tr>\n",
       "    <tr>\n",
       "      <th>1</th>\n",
       "      <td>3819312</td>\n",
       "      <td>흠...포스터보고 초딩영화줄....오버연기조차 가볍지 않구나</td>\n",
       "      <td>1</td>\n",
       "    </tr>\n",
       "    <tr>\n",
       "      <th>2</th>\n",
       "      <td>10265843</td>\n",
       "      <td>너무재밓었다그래서보는것을추천한다</td>\n",
       "      <td>0</td>\n",
       "    </tr>\n",
       "    <tr>\n",
       "      <th>3</th>\n",
       "      <td>9045019</td>\n",
       "      <td>교도소 이야기구먼 ..솔직히 재미는 없다..평점 조정</td>\n",
       "      <td>0</td>\n",
       "    </tr>\n",
       "    <tr>\n",
       "      <th>5</th>\n",
       "      <td>5403919</td>\n",
       "      <td>막 걸음마 뗀 3세부터 초등학교 1학년생인 8살용영화.ㅋㅋㅋ...별반개도 아까움.</td>\n",
       "      <td>0</td>\n",
       "    </tr>\n",
       "    <tr>\n",
       "      <th>...</th>\n",
       "      <td>...</td>\n",
       "      <td>...</td>\n",
       "      <td>...</td>\n",
       "    </tr>\n",
       "    <tr>\n",
       "      <th>149995</th>\n",
       "      <td>6222902</td>\n",
       "      <td>인간이 문제지.. 소는 뭔죄인가..</td>\n",
       "      <td>0</td>\n",
       "    </tr>\n",
       "    <tr>\n",
       "      <th>149996</th>\n",
       "      <td>8549745</td>\n",
       "      <td>평점이 너무 낮아서...</td>\n",
       "      <td>1</td>\n",
       "    </tr>\n",
       "    <tr>\n",
       "      <th>149997</th>\n",
       "      <td>9311800</td>\n",
       "      <td>이게 뭐요? 한국인은 거들먹거리고 필리핀 혼혈은 착하다?</td>\n",
       "      <td>0</td>\n",
       "    </tr>\n",
       "    <tr>\n",
       "      <th>149998</th>\n",
       "      <td>2376369</td>\n",
       "      <td>청춘 영화의 최고봉.방황과 우울했던 날들의 자화상</td>\n",
       "      <td>1</td>\n",
       "    </tr>\n",
       "    <tr>\n",
       "      <th>149999</th>\n",
       "      <td>9619869</td>\n",
       "      <td>한국 영화 최초로 수간하는 내용이 담긴 영화</td>\n",
       "      <td>0</td>\n",
       "    </tr>\n",
       "  </tbody>\n",
       "</table>\n",
       "<p>112989 rows × 3 columns</p>\n",
       "</div>"
      ],
      "text/plain": [
       "              id                                       document  label\n",
       "0        9976970                            아 더빙.. 진짜 짜증나네요 목소리      0\n",
       "1        3819312              흠...포스터보고 초딩영화줄....오버연기조차 가볍지 않구나      1\n",
       "2       10265843                              너무재밓었다그래서보는것을추천한다      0\n",
       "3        9045019                  교도소 이야기구먼 ..솔직히 재미는 없다..평점 조정      0\n",
       "5        5403919  막 걸음마 뗀 3세부터 초등학교 1학년생인 8살용영화.ㅋㅋㅋ...별반개도 아까움.      0\n",
       "...          ...                                            ...    ...\n",
       "149995   6222902                            인간이 문제지.. 소는 뭔죄인가..      0\n",
       "149996   8549745                                  평점이 너무 낮아서...      1\n",
       "149997   9311800                이게 뭐요? 한국인은 거들먹거리고 필리핀 혼혈은 착하다?      0\n",
       "149998   2376369                    청춘 영화의 최고봉.방황과 우울했던 날들의 자화상      1\n",
       "149999   9619869                       한국 영화 최초로 수간하는 내용이 담긴 영화      0\n",
       "\n",
       "[112989 rows x 3 columns]"
      ]
     },
     "execution_count": 71,
     "metadata": {},
     "output_type": "execute_result"
    }
   ],
   "source": [
    "train_data"
   ]
  },
  {
   "cell_type": "code",
   "execution_count": 72,
   "metadata": {},
   "outputs": [
    {
     "data": {
      "text/html": [
       "<div>\n",
       "<style scoped>\n",
       "    .dataframe tbody tr th:only-of-type {\n",
       "        vertical-align: middle;\n",
       "    }\n",
       "\n",
       "    .dataframe tbody tr th {\n",
       "        vertical-align: top;\n",
       "    }\n",
       "\n",
       "    .dataframe thead th {\n",
       "        text-align: right;\n",
       "    }\n",
       "</style>\n",
       "<table border=\"1\" class=\"dataframe\">\n",
       "  <thead>\n",
       "    <tr style=\"text-align: right;\">\n",
       "      <th></th>\n",
       "      <th>id</th>\n",
       "      <th>document</th>\n",
       "      <th>label</th>\n",
       "    </tr>\n",
       "  </thead>\n",
       "  <tbody>\n",
       "    <tr>\n",
       "      <th>1</th>\n",
       "      <td>9274899</td>\n",
       "      <td>GDNTOPCLASSINTHECLUB</td>\n",
       "      <td>0</td>\n",
       "    </tr>\n",
       "    <tr>\n",
       "      <th>2</th>\n",
       "      <td>8544678</td>\n",
       "      <td>뭐야 이 평점들은.... 나쁘진 않지만 10점 짜리는 더더욱 아니잖아</td>\n",
       "      <td>0</td>\n",
       "    </tr>\n",
       "    <tr>\n",
       "      <th>3</th>\n",
       "      <td>6825595</td>\n",
       "      <td>지루하지는 않은데 완전 막장임... 돈주고 보기에는....</td>\n",
       "      <td>0</td>\n",
       "    </tr>\n",
       "    <tr>\n",
       "      <th>5</th>\n",
       "      <td>7898805</td>\n",
       "      <td>음악이 주가 된, 최고의 음악영화</td>\n",
       "      <td>1</td>\n",
       "    </tr>\n",
       "    <tr>\n",
       "      <th>6</th>\n",
       "      <td>6315043</td>\n",
       "      <td>진정한 쓰레기</td>\n",
       "      <td>0</td>\n",
       "    </tr>\n",
       "    <tr>\n",
       "      <th>...</th>\n",
       "      <td>...</td>\n",
       "      <td>...</td>\n",
       "      <td>...</td>\n",
       "    </tr>\n",
       "    <tr>\n",
       "      <th>49995</th>\n",
       "      <td>4608761</td>\n",
       "      <td>오랜만에 평점 로긴했네ㅋㅋ 킹왕짱 쌈뽕한 영화를 만났습니다 강렬하게 육쾌함</td>\n",
       "      <td>1</td>\n",
       "    </tr>\n",
       "    <tr>\n",
       "      <th>49996</th>\n",
       "      <td>5308387</td>\n",
       "      <td>의지 박약들이나 하는거다 탈영은 일단 주인공 김대희 닮았고 이등병 찐따 OOOO</td>\n",
       "      <td>0</td>\n",
       "    </tr>\n",
       "    <tr>\n",
       "      <th>49997</th>\n",
       "      <td>9072549</td>\n",
       "      <td>그림도 좋고 완성도도 높았지만... 보는 내내 불안하게 만든다</td>\n",
       "      <td>0</td>\n",
       "    </tr>\n",
       "    <tr>\n",
       "      <th>49998</th>\n",
       "      <td>5802125</td>\n",
       "      <td>절대 봐서는 안 될 영화.. 재미도 없고 기분만 잡치고.. 한 세트장에서 다 해먹네</td>\n",
       "      <td>0</td>\n",
       "    </tr>\n",
       "    <tr>\n",
       "      <th>49999</th>\n",
       "      <td>6070594</td>\n",
       "      <td>마무리는 또 왜이래</td>\n",
       "      <td>0</td>\n",
       "    </tr>\n",
       "  </tbody>\n",
       "</table>\n",
       "<p>37878 rows × 3 columns</p>\n",
       "</div>"
      ],
      "text/plain": [
       "            id                                        document  label\n",
       "1      9274899                            GDNTOPCLASSINTHECLUB      0\n",
       "2      8544678          뭐야 이 평점들은.... 나쁘진 않지만 10점 짜리는 더더욱 아니잖아      0\n",
       "3      6825595                지루하지는 않은데 완전 막장임... 돈주고 보기에는....      0\n",
       "5      7898805                              음악이 주가 된, 최고의 음악영화      1\n",
       "6      6315043                                         진정한 쓰레기      0\n",
       "...        ...                                             ...    ...\n",
       "49995  4608761       오랜만에 평점 로긴했네ㅋㅋ 킹왕짱 쌈뽕한 영화를 만났습니다 강렬하게 육쾌함      1\n",
       "49996  5308387    의지 박약들이나 하는거다 탈영은 일단 주인공 김대희 닮았고 이등병 찐따 OOOO      0\n",
       "49997  9072549              그림도 좋고 완성도도 높았지만... 보는 내내 불안하게 만든다      0\n",
       "49998  5802125  절대 봐서는 안 될 영화.. 재미도 없고 기분만 잡치고.. 한 세트장에서 다 해먹네      0\n",
       "49999  6070594                                      마무리는 또 왜이래      0\n",
       "\n",
       "[37878 rows x 3 columns]"
      ]
     },
     "execution_count": 72,
     "metadata": {},
     "output_type": "execute_result"
    }
   ],
   "source": [
    "test_data"
   ]
  },
  {
   "cell_type": "code",
   "execution_count": 73,
   "metadata": {},
   "outputs": [],
   "source": [
    "X_train = train_data['document'].tolist()\n",
    "y_train = train_data['label']\n",
    "\n",
    "X_test  = test_data['document'].tolist()\n",
    "y_test = test_data['label']"
   ]
  },
  {
   "cell_type": "markdown",
   "metadata": {},
   "source": [
    "# SentencePiece 모델 학습"
   ]
  },
  {
   "cell_type": "code",
   "execution_count": 77,
   "metadata": {},
   "outputs": [
    {
     "name": "stdout",
     "output_type": "stream",
     "text": [
      "-rw-r--r-- 1 ssac4 ssac4 375578  4월 21 20:59 korean_spm.model\r\n",
      "-rw-r--r-- 1 ssac4 ssac4 375602  4월 21 21:10 korean_spm_naver_movie_rating_5_46.model\r\n",
      "-rw-r--r-- 1 ssac4 ssac4 145018  4월 21 21:10 korean_spm_naver_movie_rating_5_46.vocab\r\n",
      "-rw-r--r-- 1 ssac4 ssac4 145018  4월 21 20:59 korean_spm.vocab\r\n"
     ]
    }
   ],
   "source": [
    "import sentencepiece as spm\n",
    "import os\n",
    "temp_file = os.getenv('HOME')+'/aiffel/sp_tokenizer/data/korean-english-park.train.ko.temp'\n",
    "\n",
    "vocab_size = 8000\n",
    "\n",
    "with open(temp_file, 'w') as f:\n",
    "    for row in X_train:   # 이전 스텝에서 정제했던 네이버 corpus를 활용함. \n",
    "        f.write(str(row) + '\\n')\n",
    "\n",
    "spm.SentencePieceTrainer.Train(\n",
    "    '--input={} --model_prefix=korean_spm_naver_movie_rating_5_46 --vocab_size={}'.format(temp_file, vocab_size)    \n",
    ")\n",
    "#위 Train에서  --model_type = 'unigram'이 디폴트 적용되어 있습니다. --model_type = 'bpe' 로 옵션을 주어 변경할 수 있습니다.\n",
    "\n",
    "!ls -l korean_spm*\n"
   ]
  },
  {
   "cell_type": "markdown",
   "metadata": {},
   "source": [
    "## Test"
   ]
  },
  {
   "cell_type": "code",
   "execution_count": 78,
   "metadata": {},
   "outputs": [
    {
     "name": "stdout",
     "output_type": "stream",
     "text": [
      "[1689, 10, 430, 16, 1553, 10, 181, 14, 4]\n",
      "['▁아버지', '가', '방', '에', '들어', '가', '신', '다', '.']\n",
      "아버지가방에들어가신다.\n"
     ]
    }
   ],
   "source": [
    "s = spm.SentencePieceProcessor()\n",
    "s.Load('korean_spm_naver_movie_rating_5_46.model')\n",
    "\n",
    "# SentencePiece를 활용한 sentence -> encoding\n",
    "tokensIDs = s.EncodeAsIds('아버지가방에들어가신다.')\n",
    "print(tokensIDs)\n",
    "\n",
    "# SentencePiece를 활용한 sentbence -> encoded pieces\n",
    "print(s.SampleEncodeAsPieces('아버지가방에들어가신다.',1, 0.0))\n",
    "\n",
    "# SentencePiece를 활용한 encoding -> sentence 복원\n",
    "print(s.DecodeIds(tokensIDs))"
   ]
  },
  {
   "cell_type": "markdown",
   "metadata": {},
   "source": [
    "## SentencePiece tokenizer 함수 작성 "
   ]
  },
  {
   "cell_type": "code",
   "execution_count": 79,
   "metadata": {},
   "outputs": [],
   "source": [
    "def sp_tokenize(s, corpus):\n",
    "\n",
    "    tensor = []\n",
    "\n",
    "    for sen in corpus:\n",
    "        tensor.append(s.EncodeAsIds(sen))\n",
    "\n",
    "    with open(\"./korean_spm_naver_movie_rating_5_46.vocab\", 'r') as f:\n",
    "        vocab = f.readlines()\n",
    "\n",
    "    word_index = {}\n",
    "    index_word = {}\n",
    "\n",
    "    for idx, line in enumerate(vocab):\n",
    "        word = line.split(\"\\t\")[0]\n",
    "\n",
    "        word_index.update({idx:word})\n",
    "        index_word.update({word:idx})\n",
    "\n",
    "    tensor = tf.keras.preprocessing.sequence.pad_sequences(tensor, padding='post')\n",
    "\n",
    "    return tensor, word_index, index_word\n"
   ]
  },
  {
   "cell_type": "code",
   "execution_count": 83,
   "metadata": {},
   "outputs": [
    {
     "name": "stdout",
     "output_type": "stream",
     "text": [
      "[[ 485 2928   15 1038 2090    4    0    0    0    0]\n",
      " [1413 2067  237  506   10    3   17 7901  753    8]]\n"
     ]
    }
   ],
   "source": [
    "#sp_tokenize(s, corpus) 테스트\n",
    "\n",
    "my_corpus = ['나는 밥을 먹었습니다.', '그러나 여전히 ㅠㅠ 배가 고픕니다...']\n",
    "tensor, word_index, index_word = sp_tokenize(s, my_corpus)\n",
    "print(tensor)"
   ]
  },
  {
   "cell_type": "markdown",
   "metadata": {},
   "source": [
    "## SentencePiece 모델 학습"
   ]
  },
  {
   "cell_type": "code",
   "execution_count": 132,
   "metadata": {},
   "outputs": [],
   "source": [
    "train_tensor, train_word_index, train_index_word = sp_tokenize(s, X_train)\n",
    "test_tensor, test_word_index , test_index_word = sp_tokenize(s, X_test)"
   ]
  },
  {
   "cell_type": "code",
   "execution_count": 133,
   "metadata": {},
   "outputs": [
    {
     "name": "stdout",
     "output_type": "stream",
     "text": [
      "(112989, 44)\n",
      "(112989,) \n",
      "\n",
      "(37878, 43)\n",
      "(37878,)\n"
     ]
    }
   ],
   "source": [
    "print(train_tensor.shape)\n",
    "print(y_train.shape, '\\n')\n",
    "print(test_tensor.shape)\n",
    "print(y_test.shape)"
   ]
  },
  {
   "cell_type": "markdown",
   "metadata": {},
   "source": [
    "## train,val 데이터 분리"
   ]
  },
  {
   "cell_type": "markdown",
   "metadata": {},
   "source": [
    "sklearn의 train_test_split을 통해서 train데이터에서 train데이터와 valdataion data를 분류하였습니다."
   ]
  },
  {
   "cell_type": "code",
   "execution_count": 110,
   "metadata": {},
   "outputs": [
    {
     "name": "stdout",
     "output_type": "stream",
     "text": [
      "validation set : 22598 validation set을 제외한 나머지: 90391\n"
     ]
    }
   ],
   "source": [
    "from sklearn.model_selection import train_test_split\n",
    "\n",
    "\n",
    "partial_x_train, x_val, partial_y_train, y_val  = train_test_split(train_tensor,\n",
    "                                                             y_train,\n",
    "                                                            test_size = 0.2,\n",
    "                                                            random_state = 5)\n",
    "\n",
    "print('validation set :',len(x_val), 'validation set을 제외한 나머지:',len(partial_x_train))"
   ]
  },
  {
   "cell_type": "code",
   "execution_count": 111,
   "metadata": {},
   "outputs": [
    {
     "data": {
      "text/plain": [
       "<AxesSubplot:xlabel='label'>"
      ]
     },
     "execution_count": 111,
     "metadata": {},
     "output_type": "execute_result"
    },
    {
     "data": {
      "image/png": "[encoded data removed]",
      "text/plain": [
       "<Figure size 432x288 with 1 Axes>"
      ]
     },
     "metadata": {
      "needs_background": "light"
     },
     "output_type": "display_data"
    }
   ],
   "source": [
    "pd.DataFrame(partial_y_train).value_counts().plot(kind = 'bar')"
   ]
  },
  {
   "cell_type": "code",
   "execution_count": 112,
   "metadata": {},
   "outputs": [
    {
     "data": {
      "text/plain": [
       "<AxesSubplot:xlabel='label'>"
      ]
     },
     "execution_count": 112,
     "metadata": {},
     "output_type": "execute_result"
    },
    {
     "data": {
      "image/png": "[encoded data removed]",
      "text/plain": [
       "<Figure size 432x288 with 1 Axes>"
      ]
     },
     "metadata": {
      "needs_background": "light"
     },
     "output_type": "display_data"
    }
   ],
   "source": [
    "pd.DataFrame(y_val).value_counts().plot(kind = 'bar')"
   ]
  },
  {
   "cell_type": "markdown",
   "metadata": {},
   "source": [
    "## 모델링"
   ]
  },
  {
   "cell_type": "code",
   "execution_count": 119,
   "metadata": {},
   "outputs": [
    {
     "name": "stdout",
     "output_type": "stream",
     "text": [
      "Model: \"sequential_4\"\n",
      "_________________________________________________________________\n",
      "Layer (type)                 Output Shape              Param #   \n",
      "=================================================================\n",
      "embedding_3 (Embedding)      (None, None, 16)          128000    \n",
      "_________________________________________________________________\n",
      "lstm_3 (LSTM)                (None, None, 32)          6272      \n",
      "_________________________________________________________________\n",
      "spatial_dropout1d_2 (Spatial (None, None, 32)          0         \n",
      "_________________________________________________________________\n",
      "dense_4 (Dense)              (None, None, 1)           33        \n",
      "=================================================================\n",
      "Total params: 134,305\n",
      "Trainable params: 134,305\n",
      "Non-trainable params: 0\n",
      "_________________________________________________________________\n"
     ]
    }
   ],
   "source": [
    "word_vector_dim = 16\n",
    "\n",
    "model_RNN = keras.Sequential()\n",
    "model_RNN.add(keras.layers.Embedding(vocab_size, word_vector_dim, input_shape=(None,)))\n",
    "model_RNN.add(keras.layers.LSTM(32, return_sequences = True))   # 가장 널리 쓰이는 RNN인 LSTM 레이어를 사용하였습니다. 이때 LSTM state 벡터의 차원수는 8로 하였습니다. (변경가능)\n",
    "model_RNN.add(keras.layers.SpatialDropout1D(0.4))\n",
    "model_RNN.add(keras.layers.Dense(1, activation='sigmoid'))  # 최종 출력은 긍정/부정을 나타내는 1dim 입니다.\n",
    "\n",
    "model_RNN.summary()"
   ]
  },
  {
   "cell_type": "code",
   "execution_count": 120,
   "metadata": {},
   "outputs": [],
   "source": [
    "model_RNN.compile(optimizer='adam',\n",
    "              loss='binary_crossentropy',\n",
    "              metrics=['accuracy'])\n",
    "              \n"
   ]
  },
  {
   "cell_type": "code",
   "execution_count": 121,
   "metadata": {},
   "outputs": [
    {
     "name": "stdout",
     "output_type": "stream",
     "text": [
      "Epoch 1/6\n",
      "354/354 [==============================] - 2s 6ms/step - loss: 0.5028 - accuracy: 0.7519 - val_loss: 0.4140 - val_accuracy: 0.8097\n",
      "Epoch 2/6\n",
      "354/354 [==============================] - 2s 5ms/step - loss: 0.3826 - accuracy: 0.8317 - val_loss: 0.3975 - val_accuracy: 0.8154\n",
      "Epoch 3/6\n",
      "354/354 [==============================] - 2s 5ms/step - loss: 0.3628 - accuracy: 0.8390 - val_loss: 0.3969 - val_accuracy: 0.8176\n",
      "Epoch 4/6\n",
      "354/354 [==============================] - 2s 5ms/step - loss: 0.3535 - accuracy: 0.8425 - val_loss: 0.4094 - val_accuracy: 0.8169\n",
      "Epoch 5/6\n",
      "354/354 [==============================] - 2s 5ms/step - loss: 0.3459 - accuracy: 0.8450 - val_loss: 0.3925 - val_accuracy: 0.8183\n",
      "Epoch 6/6\n",
      "354/354 [==============================] - 2s 5ms/step - loss: 0.3369 - accuracy: 0.8478 - val_loss: 0.4097 - val_accuracy: 0.8181\n"
     ]
    }
   ],
   "source": [
    "epochs= 6  # 몇 epoch를 훈련하면 좋을지 결과를 보면서 바꾸어 봅시다. \n",
    "\n",
    "history_RNN = model_RNN.fit(partial_x_train,\n",
    "                    partial_y_train,\n",
    "                    epochs=epochs,\n",
    "                    batch_size=256,\n",
    "                    validation_data=(x_val, y_val),\n",
    "                    verbose= 1)\n"
   ]
  },
  {
   "cell_type": "markdown",
   "metadata": {},
   "source": [
    "# 결과 확인 및 시각화"
   ]
  },
  {
   "cell_type": "code",
   "execution_count": 122,
   "metadata": {},
   "outputs": [
    {
     "name": "stdout",
     "output_type": "stream",
     "text": [
      "1184/1184 - 2s - loss: 0.4123 - accuracy: 0.8117\n"
     ]
    },
    {
     "data": {
      "text/plain": [
       "[0.4123239815235138, 0.8116562366485596]"
      ]
     },
     "execution_count": 122,
     "metadata": {},
     "output_type": "execute_result"
    }
   ],
   "source": [
    "model_RNN.evaluate(test_tensor, y_test, verbose = 2)"
   ]
  },
  {
   "cell_type": "markdown",
   "metadata": {},
   "source": [
    "test 데이터에 대해서 약 81%의 성능을 보여주었습니다."
   ]
  },
  {
   "cell_type": "code",
   "execution_count": 123,
   "metadata": {},
   "outputs": [
    {
     "name": "stdout",
     "output_type": "stream",
     "text": [
      "dict_keys(['loss', 'accuracy', 'val_loss', 'val_accuracy'])\n"
     ]
    }
   ],
   "source": [
    "history_RNN_dict = history_RNN.history\n",
    "print(history_RNN_dict.keys())"
   ]
  },
  {
   "cell_type": "code",
   "execution_count": 124,
   "metadata": {
    "scrolled": true
   },
   "outputs": [
    {
     "data": {
      "image/png": "[encoded data removed]",
      "text/plain": [
       "<Figure size 432x288 with 1 Axes>"
      ]
     },
     "metadata": {
      "needs_background": "light"
     },
     "output_type": "display_data"
    }
   ],
   "source": [
    "acc = history_RNN_dict['accuracy']\n",
    "val_acc = history_RNN_dict['val_accuracy']\n",
    "loss = history_RNN_dict['loss']\n",
    "val_loss = history_RNN_dict['val_loss']\n",
    "\n",
    "epochs = range(1, len(acc) + 1)\n",
    "\n",
    "# \"bo\"는 \"파란색 점\"입니다\n",
    "plt.plot(epochs, loss, 'bo', label='Training loss')\n",
    "# b는 \"파란 실선\"입니다\n",
    "plt.plot(epochs, val_loss, 'b', label='Validation loss')\n",
    "plt.title('Training and validation loss')\n",
    "plt.xlabel('Epochs')\n",
    "plt.ylabel('Loss')\n",
    "plt.legend()\n",
    "\n",
    "plt.show()"
   ]
  },
  {
   "cell_type": "markdown",
   "metadata": {},
   "source": [
    "6 epoch만 해도 validation loss가 더 이상 감소하지않고 횡보하기 때문에 학습을 멈추었습니다."
   ]
  },
  {
   "cell_type": "markdown",
   "metadata": {},
   "source": [
    "# SentencePiece의 다른 옵션 사용 -1 \n",
    "\n",
    "일단 저희는 리뷰의 길이를 상당히 줄였기 때문에 vocab_size를 4000으로 줄여보도록 하겠습니다."
   ]
  },
  {
   "cell_type": "code",
   "execution_count": 126,
   "metadata": {},
   "outputs": [
    {
     "name": "stdout",
     "output_type": "stream",
     "text": [
      "-rw-r--r-- 1 ssac4 ssac4 375578  4월 21 20:59 korean_spm.model\r\n",
      "-rw-r--r-- 1 ssac4 ssac4 298590  4월 21 21:48 korean_spm_naver_movie_rating_5_46_4000.model\r\n",
      "-rw-r--r-- 1 ssac4 ssac4  64453  4월 21 21:48 korean_spm_naver_movie_rating_5_46_4000.vocab\r\n",
      "-rw-r--r-- 1 ssac4 ssac4 298585  4월 21 21:48 korean_spm_naver_movie_rating_5_46.model\r\n",
      "-rw-r--r-- 1 ssac4 ssac4  64453  4월 21 21:48 korean_spm_naver_movie_rating_5_46.vocab\r\n",
      "-rw-r--r-- 1 ssac4 ssac4 145018  4월 21 20:59 korean_spm.vocab\r\n"
     ]
    }
   ],
   "source": [
    "import sentencepiece as spm\n",
    "import os\n",
    "temp_file = os.getenv('HOME')+'/aiffel/sp_tokenizer/data/korean-english-park.train.ko.temp'\n",
    "\n",
    "vocab_size = 4000\n",
    "\n",
    "with open(temp_file, 'w') as f:\n",
    "    for row in X_train:   # 이전 스텝에서 정제했던 네이버 corpus를 활용함. \n",
    "        f.write(str(row) + '\\n')\n",
    "\n",
    "spm.SentencePieceTrainer.Train(\n",
    "    '--input={} --model_prefix=korean_spm_naver_movie_rating_5_46_4000 --vocab_size={}'.format(temp_file, vocab_size)    \n",
    ")\n",
    "#위 Train에서  --model_type = 'unigram'이 디폴트 적용되어 있습니다. --model_type = 'bpe' 로 옵션을 주어 변경할 수 있습니다.\n",
    "\n",
    "!ls -l korean_spm*\n"
   ]
  },
  {
   "cell_type": "code",
   "execution_count": 136,
   "metadata": {},
   "outputs": [
    {
     "name": "stdout",
     "output_type": "stream",
     "text": [
      "[2158, 8, 466, 16, 1779, 8, 96, 12, 4]\n",
      "['▁아버지', '가', '방', '에', '들어', '가', '신', '다', '.']\n",
      "아버지가방에들어가신다.\n"
     ]
    }
   ],
   "source": [
    "s_4000 = spm.SentencePieceProcessor()\n",
    "s_4000.Load('korean_spm_naver_movie_rating_5_46_4000.model')\n",
    "\n",
    "# SentencePiece를 활용한 sentence -> encoding\n",
    "tokensIDs = s.EncodeAsIds('아버지가방에들어가신다.')\n",
    "print(tokensIDs)\n",
    "\n",
    "# SentencePiece를 활용한 sentbence -> encoded pieces\n",
    "print(s.SampleEncodeAsPieces('아버지가방에들어가신다.',1, 0.0))\n",
    "\n",
    "# SentencePiece를 활용한 encoding -> sentence 복원\n",
    "print(s.DecodeIds(tokensIDs))"
   ]
  },
  {
   "cell_type": "code",
   "execution_count": 137,
   "metadata": {},
   "outputs": [],
   "source": [
    "train_tensor, train_word_index, train_index_word = sp_tokenize(s_4000, X_train)\n",
    "test_tensor, test_word_index , test_index_word = sp_tokenize(s_4000, X_test)"
   ]
  },
  {
   "cell_type": "code",
   "execution_count": 138,
   "metadata": {},
   "outputs": [
    {
     "name": "stdout",
     "output_type": "stream",
     "text": [
      "(112989, 44)\n",
      "(112989,) \n",
      "\n",
      "(37878, 43)\n",
      "(37878,)\n"
     ]
    }
   ],
   "source": [
    "print(train_tensor.shape)\n",
    "print(y_train.shape, '\\n')\n",
    "print(test_tensor.shape)\n",
    "print(y_test.shape)"
   ]
  },
  {
   "cell_type": "markdown",
   "metadata": {},
   "source": [
    "## train,val 데이터 분리"
   ]
  },
  {
   "cell_type": "markdown",
   "metadata": {},
   "source": [
    "sklearn의 train_test_split을 통해서 train데이터에서 train데이터와 valdataion data를 분류하였습니다."
   ]
  },
  {
   "cell_type": "code",
   "execution_count": 139,
   "metadata": {},
   "outputs": [
    {
     "name": "stdout",
     "output_type": "stream",
     "text": [
      "validation set : 22598 validation set을 제외한 나머지: 90391\n"
     ]
    }
   ],
   "source": [
    "from sklearn.model_selection import train_test_split\n",
    "\n",
    "\n",
    "partial_x_train, x_val, partial_y_train, y_val  = train_test_split(train_tensor,\n",
    "                                                             y_train,\n",
    "                                                            test_size = 0.2,\n",
    "                                                            random_state = 5)\n",
    "\n",
    "print('validation set :',len(x_val), 'validation set을 제외한 나머지:',len(partial_x_train))"
   ]
  },
  {
   "cell_type": "code",
   "execution_count": 140,
   "metadata": {},
   "outputs": [
    {
     "data": {
      "text/plain": [
       "<AxesSubplot:xlabel='label'>"
      ]
     },
     "execution_count": 140,
     "metadata": {},
     "output_type": "execute_result"
    },
    {
     "data": {
      "image/png": "[encoded data removed]",
      "text/plain": [
       "<Figure size 432x288 with 1 Axes>"
      ]
     },
     "metadata": {
      "needs_background": "light"
     },
     "output_type": "display_data"
    }
   ],
   "source": [
    "pd.DataFrame(partial_y_train).value_counts().plot(kind = 'bar')"
   ]
  },
  {
   "cell_type": "code",
   "execution_count": 112,
   "metadata": {},
   "outputs": [
    {
     "data": {
      "text/plain": [
       "<AxesSubplot:xlabel='label'>"
      ]
     },
     "execution_count": 112,
     "metadata": {},
     "output_type": "execute_result"
    },
    {
     "data": {
      "image/png": "[encoded data removed]",
      "text/plain": [
       "<Figure size 432x288 with 1 Axes>"
      ]
     },
     "metadata": {
      "needs_background": "light"
     },
     "output_type": "display_data"
    }
   ],
   "source": [
    "pd.DataFrame(y_val).value_counts().plot(kind = 'bar')"
   ]
  },
  {
   "cell_type": "markdown",
   "metadata": {},
   "source": [
    "## 모델링"
   ]
  },
  {
   "cell_type": "code",
   "execution_count": 141,
   "metadata": {},
   "outputs": [
    {
     "name": "stdout",
     "output_type": "stream",
     "text": [
      "Model: \"sequential_5\"\n",
      "_________________________________________________________________\n",
      "Layer (type)                 Output Shape              Param #   \n",
      "=================================================================\n",
      "embedding_4 (Embedding)      (None, None, 16)          64000     \n",
      "_________________________________________________________________\n",
      "lstm_4 (LSTM)                (None, None, 32)          6272      \n",
      "_________________________________________________________________\n",
      "spatial_dropout1d_3 (Spatial (None, None, 32)          0         \n",
      "_________________________________________________________________\n",
      "dense_5 (Dense)              (None, None, 1)           33        \n",
      "=================================================================\n",
      "Total params: 70,305\n",
      "Trainable params: 70,305\n",
      "Non-trainable params: 0\n",
      "_________________________________________________________________\n"
     ]
    }
   ],
   "source": [
    "word_vector_dim = 16\n",
    "\n",
    "model_RNN = keras.Sequential()\n",
    "model_RNN.add(keras.layers.Embedding(vocab_size, word_vector_dim, input_shape=(None,)))\n",
    "model_RNN.add(keras.layers.LSTM(32, return_sequences = True))   # 가장 널리 쓰이는 RNN인 LSTM 레이어를 사용하였습니다. 이때 LSTM state 벡터의 차원수는 8로 하였습니다. (변경가능)\n",
    "model_RNN.add(keras.layers.SpatialDropout1D(0.4))\n",
    "model_RNN.add(keras.layers.Dense(1, activation='sigmoid'))  # 최종 출력은 긍정/부정을 나타내는 1dim 입니다.\n",
    "\n",
    "model_RNN.summary()"
   ]
  },
  {
   "cell_type": "code",
   "execution_count": 142,
   "metadata": {},
   "outputs": [],
   "source": [
    "model_RNN.compile(optimizer='adam',\n",
    "              loss='binary_crossentropy',\n",
    "              metrics=['accuracy'])\n",
    "              \n"
   ]
  },
  {
   "cell_type": "code",
   "execution_count": 143,
   "metadata": {},
   "outputs": [
    {
     "name": "stdout",
     "output_type": "stream",
     "text": [
      "Epoch 1/6\n",
      "354/354 [==============================] - 2s 5ms/step - loss: 0.5137 - accuracy: 0.7376 - val_loss: 0.4311 - val_accuracy: 0.7962\n",
      "Epoch 2/6\n",
      "354/354 [==============================] - 2s 5ms/step - loss: 0.4080 - accuracy: 0.8124 - val_loss: 0.4195 - val_accuracy: 0.8010\n",
      "Epoch 3/6\n",
      "354/354 [==============================] - 2s 5ms/step - loss: 0.3963 - accuracy: 0.8169 - val_loss: 0.4122 - val_accuracy: 0.8041\n",
      "Epoch 4/6\n",
      "354/354 [==============================] - 2s 5ms/step - loss: 0.3894 - accuracy: 0.8197 - val_loss: 0.4082 - val_accuracy: 0.8051\n",
      "Epoch 5/6\n",
      "354/354 [==============================] - 2s 5ms/step - loss: 0.3824 - accuracy: 0.8216 - val_loss: 0.4077 - val_accuracy: 0.8062\n",
      "Epoch 6/6\n",
      "354/354 [==============================] - 2s 5ms/step - loss: 0.3763 - accuracy: 0.8240 - val_loss: 0.4127 - val_accuracy: 0.8036\n"
     ]
    }
   ],
   "source": [
    "epochs= 6  # 몇 epoch를 훈련하면 좋을지 결과를 보면서 바꾸어 봅시다. \n",
    "\n",
    "history_RNN = model_RNN.fit(partial_x_train,\n",
    "                    partial_y_train,\n",
    "                    epochs=epochs,\n",
    "                    batch_size=256,\n",
    "                    validation_data=(x_val, y_val),\n",
    "                    verbose= 1)\n"
   ]
  },
  {
   "cell_type": "markdown",
   "metadata": {},
   "source": [
    "# 결과 확인 및 시각화"
   ]
  },
  {
   "cell_type": "code",
   "execution_count": 144,
   "metadata": {},
   "outputs": [
    {
     "name": "stdout",
     "output_type": "stream",
     "text": [
      "1184/1184 - 2s - loss: 0.4135 - accuracy: 0.8035\n"
     ]
    },
    {
     "data": {
      "text/plain": [
       "[0.4134635031223297, 0.8034858703613281]"
      ]
     },
     "execution_count": 144,
     "metadata": {},
     "output_type": "execute_result"
    }
   ],
   "source": [
    "model_RNN.evaluate(test_tensor, y_test, verbose = 2)"
   ]
  },
  {
   "cell_type": "markdown",
   "metadata": {},
   "source": [
    "test 데이터에 대해서 약 80%의 성능을 보여주었습니다. 즉 소폭 하락하였습니다."
   ]
  },
  {
   "cell_type": "code",
   "execution_count": 145,
   "metadata": {},
   "outputs": [
    {
     "name": "stdout",
     "output_type": "stream",
     "text": [
      "dict_keys(['loss', 'accuracy', 'val_loss', 'val_accuracy'])\n"
     ]
    }
   ],
   "source": [
    "history_RNN_dict = history_RNN.history\n",
    "print(history_RNN_dict.keys())"
   ]
  },
  {
   "cell_type": "code",
   "execution_count": 146,
   "metadata": {
    "scrolled": false
   },
   "outputs": [
    {
     "data": {
      "image/png": "[encoded data removed]",
      "text/plain": [
       "<Figure size 432x288 with 1 Axes>"
      ]
     },
     "metadata": {
      "needs_background": "light"
     },
     "output_type": "display_data"
    }
   ],
   "source": [
    "acc = history_RNN_dict['accuracy']\n",
    "val_acc = history_RNN_dict['val_accuracy']\n",
    "loss = history_RNN_dict['loss']\n",
    "val_loss = history_RNN_dict['val_loss']\n",
    "\n",
    "epochs = range(1, len(acc) + 1)\n",
    "\n",
    "# \"bo\"는 \"파란색 점\"입니다\n",
    "plt.plot(epochs, loss, 'bo', label='Training loss')\n",
    "# b는 \"파란 실선\"입니다\n",
    "plt.plot(epochs, val_loss, 'b', label='Validation loss')\n",
    "plt.title('Training and validation loss')\n",
    "plt.xlabel('Epochs')\n",
    "plt.ylabel('Loss')\n",
    "plt.legend()\n",
    "\n",
    "plt.show()"
   ]
  },
  {
   "cell_type": "markdown",
   "metadata": {},
   "source": [
    "# SentencePiece의 다른 옵션 사용 - 2 \n",
    "\n",
    "지금까지는 model type을 디폴트인 unigram을 사용하졌지만 bpe를 사용해보도록 하겠습니다.  "
   ]
  },
  {
   "cell_type": "code",
   "execution_count": 165,
   "metadata": {},
   "outputs": [
    {
     "name": "stdout",
     "output_type": "stream",
     "text": [
      "-rw-r--r-- 1 ssac4 ssac4 375578  4월 21 20:59 korean_spm.model\r\n",
      "-rw-r--r-- 1 ssac4 ssac4 298590  4월 21 21:48 korean_spm_naver_movie_rating_5_46_4000.model\r\n",
      "-rw-r--r-- 1 ssac4 ssac4  64453  4월 21 21:48 korean_spm_naver_movie_rating_5_46_4000.vocab\r\n",
      "-rw-r--r-- 1 ssac4 ssac4 298585  4월 21 21:48 korean_spm_naver_movie_rating_5_46.model\r\n",
      "-rw-r--r-- 1 ssac4 ssac4  64453  4월 21 21:48 korean_spm_naver_movie_rating_5_46.vocab\r\n",
      "-rw-r--r-- 1 ssac4 ssac4 370547  4월 21 22:04 korean_spm_naver_movie_rating_bpe.model\r\n",
      "-rw-r--r-- 1 ssac4 ssac4 115748  4월 21 22:04 korean_spm_naver_movie_rating_bpe.vocab\r\n",
      "-rw-r--r-- 1 ssac4 ssac4 145018  4월 21 20:59 korean_spm.vocab\r\n"
     ]
    }
   ],
   "source": [
    "import sentencepiece as spm\n",
    "import os\n",
    "temp_file = os.getenv('HOME')+'/aiffel/sp_tokenizer/data/korean-english-park.train.ko.temp'\n",
    "\n",
    "vocab_size = 8000\n",
    "model_type = \"bpe\"\n",
    "\n",
    "with open(temp_file, 'w') as f:\n",
    "    for row in X_train:   # 이전 스텝에서 정제했던 네이버 corpus를 활용함. \n",
    "        f.write(str(row) + '\\n')\n",
    "\n",
    "spm.SentencePieceTrainer.Train(\n",
    "    '--input={} --model_prefix=korean_spm_naver_movie_rating_bpe --model_type=bpe --vocab_size={} '.format(temp_file, vocab_size))    \n",
    "\n",
    "#위 Train에서  --model_type = 'unigram'이 디폴트 적용되어 있습니다. --model_type = 'bpe' 로 옵션을 주어 변경할 수 있습니다.\n",
    "\n",
    "!ls -l korean_spm*\n"
   ]
  },
  {
   "cell_type": "code",
   "execution_count": 167,
   "metadata": {},
   "outputs": [
    {
     "name": "stdout",
     "output_type": "stream",
     "text": [
      "[2158, 8, 466, 16, 1779, 8, 96, 12, 4]\n",
      "['▁아버지', '가', '방', '에', '들어', '가', '신', '다', '.']\n",
      "아버지가방에들어가신다.\n"
     ]
    }
   ],
   "source": [
    "s_bpe = spm.SentencePieceProcessor()\n",
    "s_bpe.Load('korean_spm_naver_movie_rating_bpe.model')\n",
    "\n",
    "# SentencePiece를 활용한 sentence -> encoding\n",
    "tokensIDs = s.EncodeAsIds('아버지가방에들어가신다.')\n",
    "print(tokensIDs)\n",
    "\n",
    "# SentencePiece를 활용한 sentbence -> encoded pieces\n",
    "print(s.SampleEncodeAsPieces('아버지가방에들어가신다.',1, 0.0))\n",
    "\n",
    "# SentencePiece를 활용한 encoding -> sentence 복원\n",
    "print(s.DecodeIds(tokensIDs))"
   ]
  },
  {
   "cell_type": "code",
   "execution_count": 168,
   "metadata": {},
   "outputs": [],
   "source": [
    "train_tensor, train_word_index, train_index_word = sp_tokenize(s_bpe, X_train)\n",
    "test_tensor, test_word_index , test_index_word = sp_tokenize(s_bpe, X_test)"
   ]
  },
  {
   "cell_type": "code",
   "execution_count": 169,
   "metadata": {},
   "outputs": [
    {
     "name": "stdout",
     "output_type": "stream",
     "text": [
      "(112989, 39)\n",
      "(112989,) \n",
      "\n",
      "(37878, 36)\n",
      "(37878,)\n"
     ]
    }
   ],
   "source": [
    "print(train_tensor.shape)\n",
    "print(y_train.shape, '\\n')\n",
    "print(test_tensor.shape)\n",
    "print(y_test.shape)"
   ]
  },
  {
   "cell_type": "markdown",
   "metadata": {},
   "source": [
    "## train,val 데이터 분리"
   ]
  },
  {
   "cell_type": "markdown",
   "metadata": {},
   "source": [
    "sklearn의 train_test_split을 통해서 train데이터에서 train데이터와 valdataion data를 분류하였습니다."
   ]
  },
  {
   "cell_type": "code",
   "execution_count": 170,
   "metadata": {},
   "outputs": [
    {
     "name": "stdout",
     "output_type": "stream",
     "text": [
      "validation set : 22598 validation set을 제외한 나머지: 90391\n"
     ]
    }
   ],
   "source": [
    "from sklearn.model_selection import train_test_split\n",
    "\n",
    "\n",
    "partial_x_train, x_val, partial_y_train, y_val  = train_test_split(train_tensor,\n",
    "                                                             y_train,\n",
    "                                                            test_size = 0.2,\n",
    "                                                            random_state = 5)\n",
    "\n",
    "print('validation set :',len(x_val), 'validation set을 제외한 나머지:',len(partial_x_train))"
   ]
  },
  {
   "cell_type": "code",
   "execution_count": 171,
   "metadata": {},
   "outputs": [
    {
     "data": {
      "text/plain": [
       "<AxesSubplot:xlabel='label'>"
      ]
     },
     "execution_count": 171,
     "metadata": {},
     "output_type": "execute_result"
    },
    {
     "data": {
      "image/png": "[encoded data removed]",
      "text/plain": [
       "<Figure size 432x288 with 1 Axes>"
      ]
     },
     "metadata": {
      "needs_background": "light"
     },
     "output_type": "display_data"
    }
   ],
   "source": [
    "pd.DataFrame(partial_y_train).value_counts().plot(kind = 'bar')"
   ]
  },
  {
   "cell_type": "code",
   "execution_count": 112,
   "metadata": {},
   "outputs": [
    {
     "data": {
      "text/plain": [
       "<AxesSubplot:xlabel='label'>"
      ]
     },
     "execution_count": 112,
     "metadata": {},
     "output_type": "execute_result"
    },
    {
     "data": {
      "image/png": "[encoded data removed]",
      "text/plain": [
       "<Figure size 432x288 with 1 Axes>"
      ]
     },
     "metadata": {
      "needs_background": "light"
     },
     "output_type": "display_data"
    }
   ],
   "source": [
    "pd.DataFrame(y_val).value_counts().plot(kind = 'bar')"
   ]
  },
  {
   "cell_type": "markdown",
   "metadata": {},
   "source": [
    "## 모델링"
   ]
  },
  {
   "cell_type": "code",
   "execution_count": 172,
   "metadata": {},
   "outputs": [
    {
     "name": "stdout",
     "output_type": "stream",
     "text": [
      "Model: \"sequential_6\"\n",
      "_________________________________________________________________\n",
      "Layer (type)                 Output Shape              Param #   \n",
      "=================================================================\n",
      "embedding_5 (Embedding)      (None, None, 16)          128000    \n",
      "_________________________________________________________________\n",
      "lstm_5 (LSTM)                (None, None, 32)          6272      \n",
      "_________________________________________________________________\n",
      "spatial_dropout1d_4 (Spatial (None, None, 32)          0         \n",
      "_________________________________________________________________\n",
      "dense_6 (Dense)              (None, None, 1)           33        \n",
      "=================================================================\n",
      "Total params: 134,305\n",
      "Trainable params: 134,305\n",
      "Non-trainable params: 0\n",
      "_________________________________________________________________\n"
     ]
    }
   ],
   "source": [
    "word_vector_dim = 16\n",
    "\n",
    "model_RNN = keras.Sequential()\n",
    "model_RNN.add(keras.layers.Embedding(vocab_size, word_vector_dim, input_shape=(None,)))\n",
    "model_RNN.add(keras.layers.LSTM(32, return_sequences = True))   # 가장 널리 쓰이는 RNN인 LSTM 레이어를 사용하였습니다. 이때 LSTM state 벡터의 차원수는 8로 하였습니다. (변경가능)\n",
    "model_RNN.add(keras.layers.SpatialDropout1D(0.4))\n",
    "model_RNN.add(keras.layers.Dense(1, activation='sigmoid'))  # 최종 출력은 긍정/부정을 나타내는 1dim 입니다.\n",
    "\n",
    "model_RNN.summary()"
   ]
  },
  {
   "cell_type": "code",
   "execution_count": 173,
   "metadata": {},
   "outputs": [],
   "source": [
    "model_RNN.compile(optimizer='adam',\n",
    "              loss='binary_crossentropy',\n",
    "              metrics=['accuracy'])\n",
    "              \n"
   ]
  },
  {
   "cell_type": "code",
   "execution_count": 174,
   "metadata": {},
   "outputs": [
    {
     "name": "stdout",
     "output_type": "stream",
     "text": [
      "Epoch 1/6\n",
      "354/354 [==============================] - 2s 5ms/step - loss: 0.5044 - accuracy: 0.7514 - val_loss: 0.4135 - val_accuracy: 0.8106\n",
      "Epoch 2/6\n",
      "354/354 [==============================] - 2s 5ms/step - loss: 0.3825 - accuracy: 0.8300 - val_loss: 0.4042 - val_accuracy: 0.8146\n",
      "Epoch 3/6\n",
      "354/354 [==============================] - 2s 5ms/step - loss: 0.3628 - accuracy: 0.8384 - val_loss: 0.3981 - val_accuracy: 0.8149\n",
      "Epoch 4/6\n",
      "354/354 [==============================] - 2s 5ms/step - loss: 0.3519 - accuracy: 0.8419 - val_loss: 0.4036 - val_accuracy: 0.8134\n",
      "Epoch 5/6\n",
      "354/354 [==============================] - 2s 5ms/step - loss: 0.3418 - accuracy: 0.8447 - val_loss: 0.4026 - val_accuracy: 0.8144\n",
      "Epoch 6/6\n",
      "354/354 [==============================] - 2s 5ms/step - loss: 0.3313 - accuracy: 0.8484 - val_loss: 0.4055 - val_accuracy: 0.8139\n"
     ]
    }
   ],
   "source": [
    "epochs= 6  # 몇 epoch를 훈련하면 좋을지 결과를 보면서 바꾸어 봅시다. \n",
    "\n",
    "history_RNN = model_RNN.fit(partial_x_train,\n",
    "                    partial_y_train,\n",
    "                    epochs=epochs,\n",
    "                    batch_size=256,\n",
    "                    validation_data=(x_val, y_val),\n",
    "                    verbose= 1)\n"
   ]
  },
  {
   "cell_type": "markdown",
   "metadata": {},
   "source": [
    "# 결과 확인 및 시각화"
   ]
  },
  {
   "cell_type": "code",
   "execution_count": 175,
   "metadata": {},
   "outputs": [
    {
     "name": "stdout",
     "output_type": "stream",
     "text": [
      "1184/1184 - 2s - loss: 0.4056 - accuracy: 0.8137\n"
     ]
    },
    {
     "data": {
      "text/plain": [
       "[0.4055664539337158, 0.8137247562408447]"
      ]
     },
     "execution_count": 175,
     "metadata": {},
     "output_type": "execute_result"
    }
   ],
   "source": [
    "model_RNN.evaluate(test_tensor, y_test, verbose = 2)"
   ]
  },
  {
   "cell_type": "markdown",
   "metadata": {},
   "source": [
    "test 데이터에 대해서 약 81%의 성능을 보여주었습니다. 즉 거의 비슷한 성능을 냈습니다."
   ]
  },
  {
   "cell_type": "code",
   "execution_count": 176,
   "metadata": {},
   "outputs": [
    {
     "name": "stdout",
     "output_type": "stream",
     "text": [
      "dict_keys(['loss', 'accuracy', 'val_loss', 'val_accuracy'])\n"
     ]
    }
   ],
   "source": [
    "history_RNN_dict = history_RNN.history\n",
    "print(history_RNN_dict.keys())"
   ]
  },
  {
   "cell_type": "code",
   "execution_count": 177,
   "metadata": {
    "scrolled": false
   },
   "outputs": [
    {
     "data": {
      "image/png": "[encoded data removed]",
      "text/plain": [
       "<Figure size 432x288 with 1 Axes>"
      ]
     },
     "metadata": {
      "needs_background": "light"
     },
     "output_type": "display_data"
    }
   ],
   "source": [
    "acc = history_RNN_dict['accuracy']\n",
    "val_acc = history_RNN_dict['val_accuracy']\n",
    "loss = history_RNN_dict['loss']\n",
    "val_loss = history_RNN_dict['val_loss']\n",
    "\n",
    "epochs = range(1, len(acc) + 1)\n",
    "\n",
    "# \"bo\"는 \"파란색 점\"입니다\n",
    "plt.plot(epochs, loss, 'bo', label='Training loss')\n",
    "# b는 \"파란 실선\"입니다\n",
    "plt.plot(epochs, val_loss, 'b', label='Validation loss')\n",
    "plt.title('Training and validation loss')\n",
    "plt.xlabel('Epochs')\n",
    "plt.ylabel('Loss')\n",
    "plt.legend()\n",
    "\n",
    "plt.show()"
   ]
  },
  {
   "cell_type": "code",
   "execution_count": 178,
   "metadata": {},
   "outputs": [
    {
     "data": {
      "image/png": "[encoded data removed]",
      "text/plain": [
       "<Figure size 432x288 with 1 Axes>"
      ]
     },
     "metadata": {
      "needs_background": "light"
     },
     "output_type": "display_data"
    }
   ],
   "source": [
    "plt.clf()   # 그림을 초기화합니다\n",
    "\n",
    "plt.plot(epochs, acc, 'bo', label='Training acc')\n",
    "plt.plot(epochs, val_acc, 'b', label='Validation acc')\n",
    "plt.title('Training and validation accuracy')\n",
    "plt.xlabel('Epochs')\n",
    "plt.ylabel('Accuracy')\n",
    "plt.legend()\n",
    "\n",
    "plt.show()\n"
   ]
  },
  {
   "cell_type": "markdown",
   "metadata": {},
   "source": [
    "그래도 val_los와 val_acc의 더 변동성이 작다는 점에서 의의를 찾을수 있을것 같습니다."
   ]
  },
  {
   "cell_type": "markdown",
   "metadata": {},
   "source": [
    "# 소고\n",
    "\n",
    "사실 이전에 했던 데이터를 다시 이용했는데 이전에는 Word2Vec 임베딩을 활용하면 86%까지도 test 정확도를 상승시킬수있었습니다.\n",
    "\n",
    "하지만 이번에는 그것에 비해서 성능이 떨어지는 모습을 보였습니다. \n",
    "\n",
    "(단 그 모델과 사용한 데이터의 길이가 다르므로 정확한 비교는 불가능합니다. 그때는 한글로 쓴것이 아닌 외래어, 특수문자 등은 모두 제거하여 전처리를 마친후에 토큰화 시켜놓고 그 후 토큰의 길이를 통해 데이터를 정제했고 이번은 그런 전처리 없이 바로 한글, 영어,특수문자로 섞여있는 데이터에 바로 sentencePiece 토크나이저를 사용하였습니다.) \n",
    "\n",
    "아무래도 여러 언어에 통합적으로 사용할 수 있는 모델이다 보니 더 제네럴하고 쉽게 사용할 수 있지만\n",
    "\n",
    "한국어어로 전처리를 한 모델에 비해서 단독적인 성능은 떨어질 수 있는것같습니다.\n",
    "\n",
    "공부하면서 의문이 들었던게 sentencepiece가 unigram 방법과 bpe 방식이 구체적으로 더 어떻게 다른지 이해가 잘 되지않았습니다.\n",
    "\n",
    "일단 unigram 방식은 [논문 링크](https://arxiv.org/abs/1804.10959)에서 Unigram Language Model Tokenizer을 쓰고\n",
    "\n",
    "bpe은 [논문 링크](https://www.aclweb.org/anthology/P16-1162/)을 활용한 차이같은데 구체적으론 잘 모르겠습니다..\n",
    "\n",
    "내일 다른 분들과 한번 토론하면서 이야기를 해보고 싶은 주제여서 논의해보고 싶습니다. "
   ]
  },
  {
   "cell_type": "markdown",
   "metadata": {},
   "source": [
    "## 루브릭\n",
    "\n",
    "|평가문항|상세기준|\n",
    "|--|--|\n",
    "|1. SentencePiece를 이용하여 모델을 만들기까지의 과정이 정상적으로 진행되었는가?|코퍼스 분석, 전처리, SentencePiece 적용, 토크나이저 구현 및 동작이 빠짐없이 진행되었는가?|\n",
    "|2. SentencePiece를 통해 만든 Tokenizer가 자연어처리 모델과 결합하여 동작하는가?|SentencePiece 토크나이저가 적용된 Text Classifier 모델이 정상적으로 수렴하여 80% 이상의 test accuracy가 확인되었다.|\n",
    "|3. SentencePiece의 성능을 다각도로 비교분석하였는가?|SentencePiece 토크나이저를 활용했을 때의 성능을 다른 토크나이저 혹은 SentencePiece의 다른 옵션의 경우와 비교하여 분석을 체계적으로 진행하였다.|"
   ]
  }
 ],
 "metadata": {
  "kernelspec": {
   "display_name": "aiffel",
   "language": "python",
   "name": "aiffel"
  },
  "language_info": {
   "codemirror_mode": {
    "name": "ipython",
    "version": 3
   },
   "file_extension": ".py",
   "mimetype": "text/x-python",
   "name": "python",
   "nbconvert_exporter": "python",
   "pygments_lexer": "ipython3",
   "version": "3.7.7"
  }
 },
 "nbformat": 4,
 "nbformat_minor": 4
}
