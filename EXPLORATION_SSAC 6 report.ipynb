{
 "cells": [
  {
   "cell_type": "markdown",
   "metadata": {},
   "source": [
    "# 6-7. 프로젝트: 멋진 작사가 만들기\n"
   ]
  },
  {
   "cell_type": "markdown",
   "metadata": {},
   "source": [
    "## 데이터 다운로드 "
   ]
  },
  {
   "cell_type": "markdown",
   "metadata": {},
   "source": [
    "Step 1. 데이터 다운로드\n",
    "먼저 아래 링크에서 Song Lyrics 데이터를 다운로드한다.  저장된 파일을 압축 해제한 후, 모든 txt 파일을 lyrics 폴더를 만들어 그 속에 저장해주세요!\n",
    "\n",
    "[Song Lyrics](https://www.kaggle.com/paultimothymooney/poetry/data)\n",
    "\n",
    "``` terminal\n",
    "$ unzip song_lyrics.zip -d ~/aiffel/lyricist/data/lyrics       \n",
    "#lyrics 폴더에 압축풀기\n",
    "```\n"
   ]
  },
  {
   "cell_type": "markdown",
   "metadata": {},
   "source": [
    "## 데이터 읽어 오기 "
   ]
  },
  {
   "cell_type": "markdown",
   "metadata": {},
   "source": [
    "glob모듈을 사용해서 파일을 편리하게 읽어 올 수 있다."
   ]
  },
  {
   "cell_type": "code",
   "execution_count": 1,
   "metadata": {},
   "outputs": [
    {
     "name": "stdout",
     "output_type": "stream",
     "text": [
      "데이터 크기: 187088\n",
      "Examples:\n",
      " ['Aw yeah, yeah', \"I mean there's a lot of women out here that's just, you know\", 'They just defensive in so many things, man']\n"
     ]
    }
   ],
   "source": [
    "import glob\n",
    "import os\n",
    "\n",
    "txt_file_path = os.getenv('HOME')+'/aiffel/lyricist/data/lyrics/*'\n",
    "\n",
    "txt_list = glob.glob(txt_file_path)\n",
    "\n",
    "raw_corpus = []\n",
    "\n",
    "# 여러개의 txt 파일을 모두 읽어서 raw_corpus 에 담습니다.\n",
    "for txt_file in txt_list:\n",
    "    with open(txt_file, \"r\") as f:\n",
    "        raw = f.read().splitlines()\n",
    "        raw_corpus.extend(raw)\n",
    "\n",
    "print(\"데이터 크기:\", len(raw_corpus))\n",
    "print(\"Examples:\\n\", raw_corpus[:3])"
   ]
  },
  {
   "cell_type": "markdown",
   "metadata": {},
   "source": [
    "## 데이터 전 처리 \n",
    "\n",
    "텐서 플로우에서 보통 자연어 데이터 전처리는 아래의 행동들을 지칭한다.\n",
    "\n",
    "* 정규표현식을 이용한 corpus 생성\n",
    "* tf.keras.preprocessing.text.Tokenizer를 이용해 corpus를 텐서로 변환\n",
    "* tf.data.Dataset.from_tensor_slices()를 이용해 corpus 텐서를 tf.data.Dataset객체로 변환\n",
    "\n",
    "을 차례대로 진행하도록한다.\n"
   ]
  },
  {
   "cell_type": "code",
   "execution_count": 2,
   "metadata": {},
   "outputs": [],
   "source": [
    "import re                  # 정규표현식을 위한 Regex 지원 모듈 (문장 데이터를 정돈하기 위해) \n",
    "import numpy as np         # 변환된 문장 데이터(행렬)을 편하게 처리하기 위해\n",
    "import tensorflow as tf    # 대망의 텐서플로우!\n",
    "import os"
   ]
  },
  {
   "cell_type": "code",
   "execution_count": 3,
   "metadata": {},
   "outputs": [
    {
     "name": "stdout",
     "output_type": "stream",
     "text": [
      "<start> this is sample sentence . <end>\n"
     ]
    }
   ],
   "source": [
    "def preprocess_sentence(sentence):\n",
    "    sentence = sentence.lower().strip()       # 소문자로 바꾸고 양쪽 공백을 삭제\n",
    "  \n",
    "    # 아래 3단계를 거쳐 sentence는 스페이스 1개를 delimeter로 하는 소문자 단어 시퀀스로 바뀝니다.\n",
    "    sentence = re.sub(r\"([?.!,¿])\", r\" \\1 \", sentence)        # 패턴의 특수문자를 만나면 특수문자 양쪽에 공백을 추가\n",
    "    sentence = re.sub(r'[\" \"]+', \" \", sentence)                  # 공백 패턴을 만나면 스페이스 1개로 치환\n",
    "    sentence = re.sub(r\"[^a-zA-Z?.!,¿]+\", \" \", sentence)  # a-zA-Z?.!,¿ 패턴을 제외한 모든 문자(공백문자까지도)를 스페이스 1개로 치환\n",
    "\n",
    "    sentence = sentence.strip()\n",
    "\n",
    "    sentence = '<start> ' + sentence + ' <end>'      # 이전 스텝에서 본 것처럼 문장 앞뒤로 <start>와 <end>를 단어처럼 붙여 줍니다\n",
    "    \n",
    "    return sentence\n",
    "\n",
    "print(preprocess_sentence(\"This @_is ;;;sample        sentence.\"))   # 이 문장이 어떻게 필터링되는지 되는것을 통해 확인"
   ]
  },
  {
   "cell_type": "markdown",
   "metadata": {},
   "source": [
    "preprocess_sentencee 함수를 통해 특수문자 등을 제외하고, 소문자 등만을 사용하게 하는등 정규표현식을 통해 깍아낸다.  "
   ]
  },
  {
   "cell_type": "code",
   "execution_count": 32,
   "metadata": {},
   "outputs": [
    {
     "data": {
      "text/plain": [
       "['<start> aw yeah , yeah <end>',\n",
       " '<start> i mean there s a lot of women out here that s just , you know <end>',\n",
       " '<start> they just defensive in so many things , man <end>',\n",
       " '<start> you missing so many key nutrients in your life <end>',\n",
       " '<start> i , i just want you to stay healthy in these streets <end>',\n",
       " '<start> oh , no no <end>',\n",
       " '<start> somebody gotta give you some vitamin d , you know what i mean ? <end>',\n",
       " '<start> yeah , luda she got them handlebars <end>',\n",
       " '<start> gotta keep a tight grip on that donkey <end>',\n",
       " '<start> she be givin out battle scars <end>']"
      ]
     },
     "execution_count": 32,
     "metadata": {},
     "output_type": "execute_result"
    }
   ],
   "source": [
    "corpus = []\n",
    "new_corpus = []\n",
    "bad_corpus = []\n",
    "\n",
    "for sentence in raw_corpus:\n",
    "    if len(sentence) == 0: continue\n",
    "    if sentence[-1] == \":\": continue\n",
    "        \n",
    "    corpus.append(preprocess_sentence(sentence))\n",
    "        \n",
    "corpus[:10]\n",
    "\n",
    "\n"
   ]
  },
  {
   "cell_type": "markdown",
   "metadata": {},
   "source": [
    "raw_corpus의 문장들중 공백인 문장은 제외하고  말하는 배역들이 나타나는 :로 끝나는 문장도 제외한다.                \n",
    "그후 나머지 문장들에게 아까 생성한 preprocess_sentence를 적용한후 빈 list인 corpus에 넣는다."
   ]
  },
  {
   "cell_type": "code",
   "execution_count": 35,
   "metadata": {},
   "outputs": [
    {
     "name": "stdout",
     "output_type": "stream",
     "text": [
      "<start> i mean there s a lot of women out here that s just , you know <end>\n"
     ]
    }
   ],
   "source": [
    "for i in range((len(corpus))-1):\n",
    "    if len(corpus[i].split(' ')) <= 15:\n",
    "        new_corpus.append(corpus[i])\n",
    "    else :\n",
    "        bad_corpus.append(corpus[i])\n",
    "        \n",
    "print(bad_corpus[0])"
   ]
  },
  {
   "cell_type": "markdown",
   "metadata": {},
   "source": [
    "그후 15개 이하의 문장들을 걸러내기 위해서 for 문을 반복했다. "
   ]
  },
  {
   "cell_type": "code",
   "execution_count": 36,
   "metadata": {},
   "outputs": [
    {
     "name": "stdout",
     "output_type": "stream",
     "text": [
      "[[   2 1674   49 ...    0    0    0]\n",
      " [   2   38   32 ...    0    0    0]\n",
      " [   2    7 1278 ...    0    0    0]\n",
      " ...\n",
      " [   2   41    6 ...    0    0    0]\n",
      " [   2   31    7 ...    0    0    0]\n",
      " [   2  302    1 ...    0    0    0]] <keras_preprocessing.text.Tokenizer object at 0x7f25f44c4cd0>\n"
     ]
    }
   ],
   "source": [
    "def tokenize(corpus):\n",
    "    # 텐서플로우에서 제공하는 Tokenizer 패키지를 생성\n",
    "    tokenizer = tf.keras.preprocessing.text.Tokenizer(\n",
    "        num_words= 12000,  # 전체 단어의 개수 \n",
    "        filters=' ',    # 별도로 전처리 로직을 추가할 수 있습니다. 이번에는 사용하지 않겠습니다.\n",
    "        oov_token=\"<unk>\"  # out-of-vocabulary, 사전에 없었던 단어는 어떤 토큰으로 대체할지\n",
    "    )\n",
    "    tokenizer.fit_on_texts(corpus)   # 우리가 구축한 corpus로부터 Tokenizer가 사전을 자동구축하게 됩니다.\n",
    "\n",
    "    # 이후 tokenizer를 활용하여 모델에 입력할 데이터셋을 구축하게 됩니다.\n",
    "    tensor = tokenizer.texts_to_sequences(corpus)   # tokenizer는 구축한 사전으로부터 corpus를 해석해 Tensor로 변환합니다.\n",
    "\n",
    "    # 입력 데이터의 시퀀스 길이를 일정하게 맞추기 위한 padding  메소드를 제공합니다.\n",
    "    # maxlen의 디폴트값은 None입니다. 이 경우 corpus의 가장 긴 문장을 기준으로 시퀀스 길이가 맞춰집니다.\n",
    "    tensor = tf.keras.preprocessing.sequence.pad_sequences(tensor,maxlen= 15, padding='post')  \n",
    "\n",
    "    print(tensor,tokenizer)\n",
    "    return tensor, tokenizer\n",
    "\n",
    "tensor, tokenizer = tokenize(new_corpus)"
   ]
  },
  {
   "cell_type": "markdown",
   "metadata": {},
   "source": [
    "토큰화와 단어 사전을 만들어낸다."
   ]
  },
  {
   "cell_type": "code",
   "execution_count": 37,
   "metadata": {},
   "outputs": [
    {
     "name": "stdout",
     "output_type": "stream",
     "text": [
      "[   2 1674   49    5   49    3    0    0    0    0    0    0    0    0]\n",
      "[1674   49    5   49    3    0    0    0    0    0    0    0    0    0]\n"
     ]
    }
   ],
   "source": [
    "src_input = tensor[:, :-1]  # tensor에서 마지막 토큰을 잘라내서 소스 문장을 생성합니다. 마지막 토큰은 <end>가 아니라 <pad>일 가능성이 높습니다.\n",
    "tgt_input = tensor[:, 1:]    # tensor에서 <start>를 잘라내서 타겟 문장을 생성합니다.\n",
    "\n",
    "print(src_input[0])\n",
    "print(tgt_input[0])"
   ]
  },
  {
   "cell_type": "code",
   "execution_count": null,
   "metadata": {},
   "outputs": [],
   "source": [
    "dataset을 얻음으로써 데이터 다듬기 과정은 끝났습니다. tf.data.Dataset에서 제공하는 shuffle(), batch() 등 다양한 데이터셋 관련 기능을 손쉽게 이용할 수 있게 되었군요."
   ]
  },
  {
   "cell_type": "markdown",
   "metadata": {},
   "source": [
    "## 평가 데이터셋 분리\n"
   ]
  },
  {
   "cell_type": "code",
   "execution_count": 38,
   "metadata": {},
   "outputs": [
    {
     "data": {
      "text/plain": [
       "(156013, 14)"
      ]
     },
     "execution_count": 38,
     "metadata": {},
     "output_type": "execute_result"
    }
   ],
   "source": [
    "src_input.shape\n",
    "tgt_input.shape"
   ]
  },
  {
   "cell_type": "code",
   "execution_count": 39,
   "metadata": {},
   "outputs": [],
   "source": [
    "from sklearn.model_selection import train_test_split\n",
    "enc_train, enc_val, dec_train, dec_val = train_test_split(src_input,tgt_input,train_size = 0.8)"
   ]
  },
  {
   "cell_type": "code",
   "execution_count": 40,
   "metadata": {},
   "outputs": [
    {
     "name": "stdout",
     "output_type": "stream",
     "text": [
      "Source Train: (124810, 14)\n",
      "Target Train: (124810, 14)\n"
     ]
    }
   ],
   "source": [
    "print(\"Source Train:\", enc_train.shape)\n",
    "print(\"Target Train:\", dec_train.shape)\n"
   ]
  },
  {
   "cell_type": "code",
   "execution_count": 50,
   "metadata": {},
   "outputs": [],
   "source": [
    "class TextGenerator(tf.keras.Model):\n",
    "    def __init__(self, vocab_size, embedding_size, hidden_size):\n",
    "        super(TextGenerator, self).__init__()\n",
    "        \n",
    "        self.embedding = tf.keras.layers.Embedding(vocab_size, embedding_size)\n",
    "        self.rnn_1 = tf.keras.layers.LSTM(hidden_size, return_sequences=True)\n",
    "        self.rnn_2 = tf.keras.layers.LSTM(hidden_size, return_sequences=True)\n",
    "\n",
    "        self.linear = tf.keras.layers.Dense(vocab_size)\n",
    "        \n",
    "    def call(self, x):\n",
    "        out = self.embedding(x)\n",
    "        out = self.rnn_1(out)\n",
    "        out = self.rnn_2(out)\n",
    "        out = self.linear(out)\n",
    "        \n",
    "        return out\n",
    "    \n",
    "embedding_size = 512\n",
    "hidden_size = 2048\n",
    "model = TextGenerator(tokenizer.num_words + 1, embedding_size , hidden_size)"
   ]
  },
  {
   "cell_type": "markdown",
   "metadata": {},
   "source": [
    "모델의 엠베딩 사이즈와 히든 사이즈를 상당히 늘려주었다. "
   ]
  },
  {
   "cell_type": "code",
   "execution_count": 51,
   "metadata": {},
   "outputs": [
    {
     "data": {
      "text/plain": [
       "<BatchDataset shapes: ((256, 14), (256, 14)), types: (tf.int32, tf.int32)>"
      ]
     },
     "execution_count": 51,
     "metadata": {},
     "output_type": "execute_result"
    }
   ],
   "source": [
    "BUFFER_SIZE = len(src_input)\n",
    "BATCH_SIZE = 256\n",
    "steps_per_epoch = len(src_input) // BATCH_SIZE\n",
    "\n",
    "VOCAB_SIZE = tokenizer.num_words + 1    # tokenizer가 구축한 단어사전 내 7000개와, 여기 포함되지 않은 0:<pad>를 포함하여 7001개\n",
    "\n",
    "dataset = tf.data.Dataset.from_tensor_slices((enc_train, dec_train)).shuffle(BUFFER_SIZE)\n",
    "dataset = dataset.batch(BATCH_SIZE, drop_remainder=True)\n",
    "dataset"
   ]
  },
  {
   "cell_type": "code",
   "execution_count": 52,
   "metadata": {},
   "outputs": [
    {
     "data": {
      "text/plain": [
       "<tf.Tensor: shape=(256, 14, 12001), dtype=float32, numpy=\n",
       "array([[[ 2.08942758e-04,  1.79483788e-04,  2.53361086e-05, ...,\n",
       "          1.00675745e-04, -1.95242192e-05, -7.89281767e-05],\n",
       "        [ 3.04634828e-04,  4.35290538e-04,  2.25911990e-05, ...,\n",
       "          8.33552476e-05, -2.78933963e-04,  2.62175818e-05],\n",
       "        [ 6.20262057e-04,  5.75228652e-04,  4.62264929e-04, ...,\n",
       "          7.91750499e-05, -4.25172271e-04,  4.39110445e-04],\n",
       "        ...,\n",
       "        [ 1.02350104e-03,  1.38910161e-03, -1.75642912e-04, ...,\n",
       "          2.44971598e-05, -1.51662724e-04, -1.89736520e-03],\n",
       "        [ 1.03410054e-03,  1.57064700e-03, -1.94065389e-04, ...,\n",
       "          2.90894328e-04, -5.33417158e-04, -2.29326705e-03],\n",
       "        [ 1.02952821e-03,  1.70423870e-03, -1.74589804e-04, ...,\n",
       "          5.51441452e-04, -9.49309615e-04, -2.62684398e-03]],\n",
       "\n",
       "       [[ 2.08942758e-04,  1.79483788e-04,  2.53361086e-05, ...,\n",
       "          1.00675745e-04, -1.95242192e-05, -7.89281767e-05],\n",
       "        [ 1.17417358e-05,  2.01306379e-04, -9.12582909e-05, ...,\n",
       "         -1.43726968e-04,  1.86213321e-04, -2.60060711e-04],\n",
       "        [-1.09951288e-04,  2.88769283e-04, -3.35684221e-04, ...,\n",
       "         -1.73651351e-04,  1.54633119e-04, -2.69407348e-04],\n",
       "        ...,\n",
       "        [-1.45331753e-04,  1.14409404e-03, -4.18195152e-04, ...,\n",
       "          4.31563996e-04, -1.10217556e-03, -1.76161295e-03],\n",
       "        [ 3.52512070e-05,  1.24294637e-03, -3.16633028e-04, ...,\n",
       "          6.75919931e-04, -1.46871584e-03, -2.06358940e-03],\n",
       "        [ 1.76303758e-04,  1.30619947e-03, -2.16289656e-04, ...,\n",
       "          9.08049231e-04, -1.85532961e-03, -2.33221892e-03]],\n",
       "\n",
       "       [[ 2.08942758e-04,  1.79483788e-04,  2.53361086e-05, ...,\n",
       "          1.00675745e-04, -1.95242192e-05, -7.89281767e-05],\n",
       "        [ 5.03824092e-04,  1.36483752e-04,  1.40055854e-04, ...,\n",
       "          3.17351922e-04, -5.08587873e-05, -2.09284248e-04],\n",
       "        [ 6.41616294e-04,  9.25719505e-05,  9.29444195e-06, ...,\n",
       "          4.42382763e-04, -1.46424019e-04, -2.53476086e-04],\n",
       "        ...,\n",
       "        [ 1.68980879e-03,  1.88098731e-03,  1.19064889e-05, ...,\n",
       "          7.03721656e-04, -8.50802870e-04, -2.21123383e-03],\n",
       "        [ 1.62817363e-03,  1.91709877e-03,  3.72563118e-05, ...,\n",
       "          8.63847847e-04, -1.21668319e-03, -2.46092468e-03],\n",
       "        [ 1.55353697e-03,  1.91331853e-03,  7.38659437e-05, ...,\n",
       "          1.02978479e-03, -1.60977792e-03, -2.66704569e-03]],\n",
       "\n",
       "       ...,\n",
       "\n",
       "       [[ 2.08942758e-04,  1.79483788e-04,  2.53361086e-05, ...,\n",
       "          1.00675745e-04, -1.95242192e-05, -7.89281767e-05],\n",
       "        [ 4.23308782e-04,  1.76580463e-04, -1.63662626e-04, ...,\n",
       "          2.60161294e-04,  2.87699193e-04, -3.29558388e-04],\n",
       "        [ 7.96223176e-04,  3.80484213e-04, -2.96839775e-04, ...,\n",
       "         -1.29038657e-04,  4.52229404e-04, -3.08997405e-04],\n",
       "        ...,\n",
       "        [ 1.53722195e-03,  1.24705012e-03, -7.30305619e-04, ...,\n",
       "          1.14807743e-03, -1.04415987e-03, -2.99662421e-03],\n",
       "        [ 1.46834762e-03,  1.36438594e-03, -6.15520403e-04, ...,\n",
       "          1.32768147e-03, -1.43681630e-03, -3.17351799e-03],\n",
       "        [ 1.39354076e-03,  1.44229771e-03, -4.88718506e-04, ...,\n",
       "          1.48565695e-03, -1.84447051e-03, -3.30437580e-03]],\n",
       "\n",
       "       [[ 2.08942758e-04,  1.79483788e-04,  2.53361086e-05, ...,\n",
       "          1.00675745e-04, -1.95242192e-05, -7.89281767e-05],\n",
       "        [ 3.21842090e-04,  5.39645844e-04, -2.11983916e-05, ...,\n",
       "          3.51331255e-05,  1.27722407e-04, -4.77170572e-04],\n",
       "        [ 3.90496221e-04,  3.96780117e-04,  4.03603539e-04, ...,\n",
       "         -4.55895904e-04,  3.72814684e-04, -4.84037446e-04],\n",
       "        ...,\n",
       "        [-1.35299255e-04,  1.32301019e-03, -1.35855822e-04, ...,\n",
       "         -2.13352893e-03,  1.97389745e-05, -6.92492875e-04],\n",
       "        [ 5.36057814e-05,  1.49687275e-03, -3.16918246e-04, ...,\n",
       "         -1.67311169e-03, -8.34203238e-05, -1.11315341e-03],\n",
       "        [ 2.16979897e-04,  1.64307898e-03, -4.33291483e-04, ...,\n",
       "         -1.21742091e-03, -2.61554873e-04, -1.51564972e-03]],\n",
       "\n",
       "       [[ 2.08942758e-04,  1.79483788e-04,  2.53361086e-05, ...,\n",
       "          1.00675745e-04, -1.95242192e-05, -7.89281767e-05],\n",
       "        [ 3.21842090e-04,  5.39645844e-04, -2.11983916e-05, ...,\n",
       "          3.51331255e-05,  1.27722407e-04, -4.77170572e-04],\n",
       "        [ 5.89922071e-04,  8.37367785e-04,  2.13188498e-04, ...,\n",
       "          2.13450185e-04,  6.47335371e-04, -4.41705110e-04],\n",
       "        ...,\n",
       "        [ 1.68062933e-03,  2.38041580e-03, -2.23053867e-04, ...,\n",
       "          1.49589696e-03,  2.02380717e-04, -2.66308733e-03],\n",
       "        [ 1.65529840e-03,  2.33200123e-03, -1.37243042e-04, ...,\n",
       "          1.59007637e-03, -2.93970341e-04, -2.94981222e-03],\n",
       "        [ 1.61380519e-03,  2.25879066e-03, -4.16145849e-05, ...,\n",
       "          1.68115925e-03, -8.14983621e-04, -3.17769032e-03]]],\n",
       "      dtype=float32)>"
      ]
     },
     "execution_count": 52,
     "metadata": {},
     "output_type": "execute_result"
    }
   ],
   "source": [
    "for src_sample, tgt_sample in dataset.take(1): break\n",
    "model(src_sample)"
   ]
  },
  {
   "cell_type": "markdown",
   "metadata": {},
   "source": [
    "## 모델 적합"
   ]
  },
  {
   "cell_type": "code",
   "execution_count": 53,
   "metadata": {},
   "outputs": [
    {
     "name": "stdout",
     "output_type": "stream",
     "text": [
      "Model: \"text_generator_9\"\n",
      "_________________________________________________________________\n",
      "Layer (type)                 Output Shape              Param #   \n",
      "=================================================================\n",
      "embedding_9 (Embedding)      multiple                  6144512   \n",
      "_________________________________________________________________\n",
      "lstm_24 (LSTM)               multiple                  20979712  \n",
      "_________________________________________________________________\n",
      "lstm_25 (LSTM)               multiple                  33562624  \n",
      "_________________________________________________________________\n",
      "dense_9 (Dense)              multiple                  24590049  \n",
      "=================================================================\n",
      "Total params: 85,276,897\n",
      "Trainable params: 85,276,897\n",
      "Non-trainable params: 0\n",
      "_________________________________________________________________\n"
     ]
    }
   ],
   "source": [
    "model.summary()\n"
   ]
  },
  {
   "cell_type": "code",
   "execution_count": 30,
   "metadata": {},
   "outputs": [
    {
     "name": "stdout",
     "output_type": "stream",
     "text": [
      "✅\n"
     ]
    }
   ],
   "source": [
    "# 모델을 저장하려했으나 저장시간이 길어져서 제외함.\n",
    "# # the save point\n",
    "# checkpoint_dir = os.getenv('HOME')+'/ssac4/aiffel/lyricist/models/lyric'\n",
    "\n",
    "# cp_callback = tf.keras.callbacks.ModelCheckpoint(checkpoint_dir,\n",
    "#                                                  save_weights_only=True,\n",
    "#                                                  monitor='val_loss',\n",
    "#                                                  mode='auto',\n",
    "#                                                  save_best_only=True,\n",
    "#                                                  verbose=1)\n",
    "# print(\"✅\")"
   ]
  },
  {
   "cell_type": "markdown",
   "metadata": {},
   "source": [
    "## 학습"
   ]
  },
  {
   "cell_type": "code",
   "execution_count": 54,
   "metadata": {
    "scrolled": true
   },
   "outputs": [
    {
     "name": "stdout",
     "output_type": "stream",
     "text": [
      "Epoch 1/10\n",
      "487/487 [==============================] - 218s 448ms/step - loss: 3.3159 - val_loss: 2.9447\n",
      "Epoch 2/10\n",
      "487/487 [==============================] - 200s 410ms/step - loss: 2.7781 - val_loss: 2.7040\n",
      "Epoch 3/10\n",
      "487/487 [==============================] - 200s 411ms/step - loss: 2.4930 - val_loss: 2.5294\n",
      "Epoch 4/10\n",
      "487/487 [==============================] - 200s 412ms/step - loss: 2.2132 - val_loss: 2.3953\n",
      "Epoch 5/10\n",
      "487/487 [==============================] - 201s 412ms/step - loss: 1.9435 - val_loss: 2.2924\n",
      "Epoch 6/10\n",
      "487/487 [==============================] - 201s 413ms/step - loss: 1.6921 - val_loss: 2.2194\n",
      "Epoch 7/10\n",
      "487/487 [==============================] - 210s 432ms/step - loss: 1.4716 - val_loss: 2.1713\n",
      "Epoch 8/10\n",
      "487/487 [==============================] - 214s 439ms/step - loss: 1.2909 - val_loss: 2.1499\n",
      "Epoch 9/10\n",
      "487/487 [==============================] - 205s 421ms/step - loss: 1.1536 - val_loss: 2.1531\n",
      "Epoch 10/10\n",
      "487/487 [==============================] - 204s 420ms/step - loss: 1.0620 - val_loss: 2.1703\n"
     ]
    }
   ],
   "source": [
    "optimizer = tf.keras.optimizers.Adam()\n",
    "\n",
    "loss = tf.keras.losses.SparseCategoricalCrossentropy(\n",
    "    from_logits=True,\n",
    "    reduction='none'\n",
    ")\n",
    "\n",
    "model.compile(loss=loss, optimizer=optimizer)\n",
    "history  = model.fit(dataset,validation_data = (enc_val,dec_val), epochs=10)"
   ]
  },
  {
   "cell_type": "markdown",
   "metadata": {},
   "source": [
    "## 가사 작성"
   ]
  },
  {
   "cell_type": "markdown",
   "metadata": {},
   "source": [
    "실제 가사를 작성해보도록하였다, "
   ]
  },
  {
   "cell_type": "code",
   "execution_count": 55,
   "metadata": {},
   "outputs": [],
   "source": [
    "def generate_text(model, tokenizer, init_sentence=\"<start>\", max_len=20):\n",
    "    # 테스트를 위해서 입력받은 init_sentence도 일단 텐서로 변환합니다.\n",
    "    test_input = tokenizer.texts_to_sequences([init_sentence])\n",
    "    test_tensor = tf.convert_to_tensor(test_input, dtype=tf.int64)\n",
    "    end_token = tokenizer.word_index[\"<end>\"]\n",
    "\n",
    "    # 텍스트를 실제로 생성할때는 루프를 돌면서 단어 하나씩 생성해야 합니다. \n",
    "    while True:\n",
    "        predict = model(test_tensor)  # 입력받은 문장의 텐서를 입력합니다. \n",
    "        predict_word = tf.argmax(tf.nn.softmax(predict, axis=-1), axis=-1)[:, -1]   # 우리 모델이 예측한 마지막 단어가 바로 새롭게 생성한 단어가 됩니다. \n",
    "\n",
    "        # 우리 모델이 새롭게 예측한 단어를 입력 문장의 뒤에 붙여 줍니다. \n",
    "        test_tensor = tf.concat([test_tensor, \n",
    "                                                                 tf.expand_dims(predict_word, axis=0)], axis=-1)\n",
    "\n",
    "        # 우리 모델이 <end>를 예측했거나, max_len에 도달하지 않았다면  while 루프를 또 돌면서 다음 단어를 예측해야 합니다.\n",
    "        if predict_word.numpy()[0] == end_token: break\n",
    "        if test_tensor.shape[1] >= max_len: break\n",
    "\n",
    "    generated = \"\"\n",
    "    # 생성된 tensor 안에 있는 word index를 tokenizer.index_word 사전을 통해 실제 단어로 하나씩 변환합니다. \n",
    "    for word_index in test_tensor[0].numpy():\n",
    "        generated += tokenizer.index_word[word_index] + \" \"\n",
    "\n",
    "    return generated   # 이것이 최종적으로 모델이 생성한 자연어 문장입니다."
   ]
  },
  {
   "cell_type": "code",
   "execution_count": 57,
   "metadata": {},
   "outputs": [
    {
     "data": {
      "text/plain": [
       "'<start> i love you , i love you , i love you <end> '"
      ]
     },
     "execution_count": 57,
     "metadata": {},
     "output_type": "execute_result"
    }
   ],
   "source": [
    "generate_text(model, tokenizer, init_sentence=\"<start> i love\", max_len=20)\n"
   ]
  },
  {
   "cell_type": "markdown",
   "metadata": {},
   "source": [
    "'<start> i love you , i love you , i love you <end> '의 가사를 얻을 수 있었다."
   ]
  }
 ],
 "metadata": {
  "kernelspec": {
   "display_name": "aiffel",
   "language": "python",
   "name": "aiffel"
  },
  "language_info": {
   "codemirror_mode": {
    "name": "ipython",
    "version": 3
   },
   "file_extension": ".py",
   "mimetype": "text/x-python",
   "name": "python",
   "nbconvert_exporter": "python",
   "pygments_lexer": "ipython3",
   "version": "3.7.9"
  }
 },
 "nbformat": 4,
 "nbformat_minor": 4
}
