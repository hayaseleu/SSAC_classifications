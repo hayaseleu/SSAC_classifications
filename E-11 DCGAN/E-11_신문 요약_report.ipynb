{
 "cells": [
  {
   "cell_type": "markdown",
   "metadata": {},
   "source": [
    "# 11-13. 프로젝트: 뉴스기사 요약해보기"
   ]
  },
  {
   "cell_type": "markdown",
   "metadata": {},
   "source": [
    "들어가기 전에 "
   ]
  },
  {
   "cell_type": "markdown",
   "metadata": {},
   "source": [
    "``` terminal \n",
    "pip install nltk\n",
    "pip install beautifulsoup4\n",
    "pip install lxml\n",
    "pip install summa\n",
    "```"
   ]
  },
  {
   "cell_type": "code",
   "execution_count": 1,
   "metadata": {},
   "outputs": [
    {
     "name": "stderr",
     "output_type": "stream",
     "text": [
      "[nltk_data] Downloading package stopwords to /home/ssac4/nltk_data...\n",
      "[nltk_data]   Package stopwords is already up-to-date!\n"
     ]
    }
   ],
   "source": [
    "import nltk\n",
    "nltk.download('stopwords')\n",
    "\n",
    "import numpy as np\n",
    "import pandas as pd\n",
    "import os\n",
    "import re\n",
    "import matplotlib.pyplot as plt\n",
    "from nltk.corpus import stopwords\n",
    "from bs4 import BeautifulSoup \n",
    "from tensorflow.keras.preprocessing.text import Tokenizer \n",
    "from tensorflow.keras.preprocessing.sequence import pad_sequences\n",
    "import urllib.request"
   ]
  },
  {
   "cell_type": "code",
   "execution_count": 2,
   "metadata": {},
   "outputs": [],
   "source": [
    "# 최대 줄 수 설정\n",
    "pd.set_option('display.max_rows', 500)\n",
    "# 최대 열 수 설정\n",
    "pd.set_option('display.max_columns', 500)\n",
    "# 표시할 가로의 길이\n",
    "pd.set_option('display.width', 1000)\n"
   ]
  },
  {
   "cell_type": "markdown",
   "metadata": {},
   "source": [
    "## Step 1. 데이터 수집하기\n",
    "데이터는 아래 링크에 있는 뉴스 기사 데이터(newssummarymore.csv)를 사용합니다. \n",
    "데이터 주스 https://github.com/sunnysai12345/News_Summary\n",
    "    "
   ]
  },
  {
   "cell_type": "code",
   "execution_count": 3,
   "metadata": {},
   "outputs": [],
   "source": [
    "import urllib.request\n",
    "urllib.request.urlretrieve(\"https://raw.githubusercontent.com/sunnysai12345/News_Summary/master/news_summary_more.csv\", filename=\"news_summary_more.csv\")\n",
    "data = pd.read_csv('news_summary_more.csv', encoding='iso-8859-1')"
   ]
  },
  {
   "cell_type": "code",
   "execution_count": 4,
   "metadata": {},
   "outputs": [
    {
     "data": {
      "text/html": [
       "<div>\n",
       "<style scoped>\n",
       "    .dataframe tbody tr th:only-of-type {\n",
       "        vertical-align: middle;\n",
       "    }\n",
       "\n",
       "    .dataframe tbody tr th {\n",
       "        vertical-align: top;\n",
       "    }\n",
       "\n",
       "    .dataframe thead th {\n",
       "        text-align: right;\n",
       "    }\n",
       "</style>\n",
       "<table border=\"1\" class=\"dataframe\">\n",
       "  <thead>\n",
       "    <tr style=\"text-align: right;\">\n",
       "      <th></th>\n",
       "      <th>headlines</th>\n",
       "      <th>text</th>\n",
       "    </tr>\n",
       "  </thead>\n",
       "  <tbody>\n",
       "    <tr>\n",
       "      <th>55454</th>\n",
       "      <td>India achieves its best year-end FIFA ranking ...</td>\n",
       "      <td>The Indian men's football team has ended the y...</td>\n",
       "    </tr>\n",
       "    <tr>\n",
       "      <th>79416</th>\n",
       "      <td>PMO wants military school model at all schools...</td>\n",
       "      <td>The Prime Minister's Office has asked the Huma...</td>\n",
       "    </tr>\n",
       "    <tr>\n",
       "      <th>86697</th>\n",
       "      <td>Ethiopia turns off internet nationwide to prev...</td>\n",
       "      <td>Ethiopia has turned off its internet access na...</td>\n",
       "    </tr>\n",
       "    <tr>\n",
       "      <th>82536</th>\n",
       "      <td>For every 0.55ÃÂºC temp rise, US to lose 0.7%...</td>\n",
       "      <td>Researchers examining the economic consequence...</td>\n",
       "    </tr>\n",
       "    <tr>\n",
       "      <th>24055</th>\n",
       "      <td>US media dying to see my government make mista...</td>\n",
       "      <td>US President Donald Trump has said the America...</td>\n",
       "    </tr>\n",
       "    <tr>\n",
       "      <th>63672</th>\n",
       "      <td>Earlier for fashion, now Khadi for transformat...</td>\n",
       "      <td>Prime Minister Narendra Modi on Sunday said, \"...</td>\n",
       "    </tr>\n",
       "    <tr>\n",
       "      <th>41374</th>\n",
       "      <td>Don't want to call you refugees: BJP leader to...</td>\n",
       "      <td>Addressing an event organised by the Tibetan g...</td>\n",
       "    </tr>\n",
       "    <tr>\n",
       "      <th>31907</th>\n",
       "      <td>Hindu group moves SC against Congress' K'taka ...</td>\n",
       "      <td>Rashtriya Hindu Sena chief Pramod Muthalik has...</td>\n",
       "    </tr>\n",
       "    <tr>\n",
       "      <th>25525</th>\n",
       "      <td>England end India's longest ODI series winning...</td>\n",
       "      <td>England defeated India in the third ODI on Tue...</td>\n",
       "    </tr>\n",
       "    <tr>\n",
       "      <th>46555</th>\n",
       "      <td>People of India are kind, genuine and open: Ca...</td>\n",
       "      <td>Canadian PM Justin Trudeau, who is on a state ...</td>\n",
       "    </tr>\n",
       "  </tbody>\n",
       "</table>\n",
       "</div>"
      ],
      "text/plain": [
       "                                               headlines                                               text\n",
       "55454  India achieves its best year-end FIFA ranking ...  The Indian men's football team has ended the y...\n",
       "79416  PMO wants military school model at all schools...  The Prime Minister's Office has asked the Huma...\n",
       "86697  Ethiopia turns off internet nationwide to prev...  Ethiopia has turned off its internet access na...\n",
       "82536  For every 0.55ÃÂºC temp rise, US to lose 0.7%...  Researchers examining the economic consequence...\n",
       "24055  US media dying to see my government make mista...  US President Donald Trump has said the America...\n",
       "63672  Earlier for fashion, now Khadi for transformat...  Prime Minister Narendra Modi on Sunday said, \"...\n",
       "41374  Don't want to call you refugees: BJP leader to...  Addressing an event organised by the Tibetan g...\n",
       "31907  Hindu group moves SC against Congress' K'taka ...  Rashtriya Hindu Sena chief Pramod Muthalik has...\n",
       "25525  England end India's longest ODI series winning...  England defeated India in the third ODI on Tue...\n",
       "46555  People of India are kind, genuine and open: Ca...  Canadian PM Justin Trudeau, who is on a state ..."
      ]
     },
     "execution_count": 4,
     "metadata": {},
     "output_type": "execute_result"
    }
   ],
   "source": [
    "data.sample(10)\n"
   ]
  },
  {
   "cell_type": "markdown",
   "metadata": {},
   "source": [
    "##  데이터 전처리하기 (추상적 요약)"
   ]
  },
  {
   "cell_type": "markdown",
   "metadata": {},
   "source": [
    "aiffel 에서 배운 전처리를 참고하여 추가적인 전처리를 하겠습니다.\n",
    "불용어 제거를 한다면 상대적으로 길이가 짧은 요약 데이터에 대해서도 불용어를 제거하는게 좋을지 고찰해 보겠습니다."
   ]
  },
  {
   "cell_type": "code",
   "execution_count": 5,
   "metadata": {},
   "outputs": [
    {
     "name": "stdout",
     "output_type": "stream",
     "text": [
      "headlines 열에서 중복을 배제한 유일한 샘플의 수 : 98280\n",
      "text  열에서 중복을 배제한 유일한 샘플의 수 : 98360\n"
     ]
    }
   ],
   "source": [
    "print(f'{data.columns[0]:5} 열에서 중복을 배제한 유일한 샘플의 수 :', data['headlines'].nunique())\n",
    "print(f'{data.columns[1]:5} 열에서 중복을 배제한 유일한 샘플의 수 :', data['text'].nunique())"
   ]
  },
  {
   "cell_type": "code",
   "execution_count": 6,
   "metadata": {},
   "outputs": [
    {
     "data": {
      "text/plain": [
       "headlines    98280\n",
       "text         98360\n",
       "dtype: int64"
      ]
     },
     "execution_count": 6,
     "metadata": {},
     "output_type": "execute_result"
    }
   ],
   "source": [
    " data.nunique()"
   ]
  },
  {
   "cell_type": "markdown",
   "metadata": {},
   "source": [
    "headline은 중복되는데 text는 다른 것들이 존재하는것이 보입니다. 이것들을 확인해보겠습니다. \n",
    "headline은 요약이기 때문에 text가 달라도 headline이 동일할수 있습니다. 하지만 혹시 모를 오류가있으니 확인해보겠습니다.\n",
    "일단 text가 중복인 경우는 무조건 중복 샘플이니 제외해보겠습니다. "
   ]
  },
  {
   "cell_type": "code",
   "execution_count": 7,
   "metadata": {},
   "outputs": [],
   "source": [
    "data.drop_duplicates(['text'], inplace = True)"
   ]
  },
  {
   "cell_type": "code",
   "execution_count": 8,
   "metadata": {
    "scrolled": true
   },
   "outputs": [
    {
     "data": {
      "text/plain": [
       "headlines    98262\n",
       "text         98360\n",
       "dtype: int64"
      ]
     },
     "execution_count": 8,
     "metadata": {},
     "output_type": "execute_result"
    }
   ],
   "source": [
    "data.nunique()"
   ]
  },
  {
   "cell_type": "code",
   "execution_count": 9,
   "metadata": {},
   "outputs": [
    {
     "name": "stdout",
     "output_type": "stream",
     "text": [
      "전체 샘플수 : 98262\n"
     ]
    }
   ],
   "source": [
    "data.drop_duplicates(subset = ['headlines'], inplace = True)\n",
    "print('전체 샘플수 :',(len(data)))"
   ]
  },
  {
   "cell_type": "code",
   "execution_count": 10,
   "metadata": {},
   "outputs": [
    {
     "name": "stdout",
     "output_type": "stream",
     "text": [
      "headlines    0\n",
      "text         0\n",
      "dtype: int64\n"
     ]
    }
   ],
   "source": [
    "print(data.isnull().sum())"
   ]
  },
  {
   "cell_type": "code",
   "execution_count": 11,
   "metadata": {},
   "outputs": [
    {
     "name": "stdout",
     "output_type": "stream",
     "text": [
      "전체 샘플수 : 98262\n"
     ]
    }
   ],
   "source": [
    "data.dropna(axis = 0, inplace = True)\n",
    "print('전체 샘플수 :',(len(data)))"
   ]
  },
  {
   "cell_type": "code",
   "execution_count": 12,
   "metadata": {},
   "outputs": [
    {
     "name": "stdout",
     "output_type": "stream",
     "text": [
      "정규화 사전의 수:  120\n"
     ]
    }
   ],
   "source": [
    "contractions = {\"ain't\": \"is not\", \"aren't\": \"are not\",\"can't\": \"cannot\", \"'cause\": \"because\", \"could've\": \"could have\", \"couldn't\": \"could not\",\n",
    "                           \"didn't\": \"did not\",  \"doesn't\": \"does not\", \"don't\": \"do not\", \"hadn't\": \"had not\", \"hasn't\": \"has not\", \"haven't\": \"have not\",\n",
    "                           \"he'd\": \"he would\",\"he'll\": \"he will\", \"he's\": \"he is\", \"how'd\": \"how did\", \"how'd'y\": \"how do you\", \"how'll\": \"how will\", \"how's\": \"how is\",\n",
    "                           \"I'd\": \"I would\", \"I'd've\": \"I would have\", \"I'll\": \"I will\", \"I'll've\": \"I will have\",\"I'm\": \"I am\", \"I've\": \"I have\", \"i'd\": \"i would\",\n",
    "                           \"i'd've\": \"i would have\", \"i'll\": \"i will\",  \"i'll've\": \"i will have\",\"i'm\": \"i am\", \"i've\": \"i have\", \"isn't\": \"is not\", \"it'd\": \"it would\",\n",
    "                           \"it'd've\": \"it would have\", \"it'll\": \"it will\", \"it'll've\": \"it will have\",\"it's\": \"it is\", \"let's\": \"let us\", \"ma'am\": \"madam\",\n",
    "                           \"mayn't\": \"may not\", \"might've\": \"might have\",\"mightn't\": \"might not\",\"mightn't've\": \"might not have\", \"must've\": \"must have\",\n",
    "                           \"mustn't\": \"must not\", \"mustn't've\": \"must not have\", \"needn't\": \"need not\", \"needn't've\": \"need not have\",\"o'clock\": \"of the clock\",\n",
    "                           \"oughtn't\": \"ought not\", \"oughtn't've\": \"ought not have\", \"shan't\": \"shall not\", \"sha'n't\": \"shall not\", \"shan't've\": \"shall not have\",\n",
    "                           \"she'd\": \"she would\", \"she'd've\": \"she would have\", \"she'll\": \"she will\", \"she'll've\": \"she will have\", \"she's\": \"she is\",\n",
    "                           \"should've\": \"should have\", \"shouldn't\": \"should not\", \"shouldn't've\": \"should not have\", \"so've\": \"so have\",\"so's\": \"so as\",\n",
    "                           \"this's\": \"this is\",\"that'd\": \"that would\", \"that'd've\": \"that would have\", \"that's\": \"that is\", \"there'd\": \"there would\",\n",
    "                           \"there'd've\": \"there would have\", \"there's\": \"there is\", \"here's\": \"here is\",\"they'd\": \"they would\", \"they'd've\": \"they would have\",\n",
    "                           \"they'll\": \"they will\", \"they'll've\": \"they will have\", \"they're\": \"they are\", \"they've\": \"they have\", \"to've\": \"to have\",\n",
    "                           \"wasn't\": \"was not\", \"we'd\": \"we would\", \"we'd've\": \"we would have\", \"we'll\": \"we will\", \"we'll've\": \"we will have\", \"we're\": \"we are\",\n",
    "                           \"we've\": \"we have\", \"weren't\": \"were not\", \"what'll\": \"what will\", \"what'll've\": \"what will have\", \"what're\": \"what are\",\n",
    "                           \"what's\": \"what is\", \"what've\": \"what have\", \"when's\": \"when is\", \"when've\": \"when have\", \"where'd\": \"where did\", \"where's\": \"where is\",\n",
    "                           \"where've\": \"where have\", \"who'll\": \"who will\", \"who'll've\": \"who will have\", \"who's\": \"who is\", \"who've\": \"who have\",\n",
    "                           \"why's\": \"why is\", \"why've\": \"why have\", \"will've\": \"will have\", \"won't\": \"will not\", \"won't've\": \"will not have\",\n",
    "                           \"would've\": \"would have\", \"wouldn't\": \"would not\", \"wouldn't've\": \"would not have\", \"y'all\": \"you all\",\n",
    "                           \"y'all'd\": \"you all would\",\"y'all'd've\": \"you all would have\",\"y'all're\": \"you all are\",\"y'all've\": \"you all have\",\n",
    "                           \"you'd\": \"you would\", \"you'd've\": \"you would have\", \"you'll\": \"you will\", \"you'll've\": \"you will have\",\n",
    "                           \"you're\": \"you are\", \"you've\": \"you have\"}\n",
    "\n",
    "print(\"정규화 사전의 수: \",len(contractions))"
   ]
  },
  {
   "cell_type": "code",
   "execution_count": 13,
   "metadata": {},
   "outputs": [
    {
     "name": "stdout",
     "output_type": "stream",
     "text": [
      "불용어 개수 : 179\n",
      "['i', 'me', 'my', 'myself', 'we', 'our', 'ours', 'ourselves', 'you', \"you're\", \"you've\", \"you'll\", \"you'd\", 'your', 'yours', 'yourself', 'yourselves', 'he', 'him', 'his', 'himself', 'she', \"she's\", 'her', 'hers', 'herself', 'it', \"it's\", 'its', 'itself', 'they', 'them', 'their', 'theirs', 'themselves', 'what', 'which', 'who', 'whom', 'this', 'that', \"that'll\", 'these', 'those', 'am', 'is', 'are', 'was', 'were', 'be', 'been', 'being', 'have', 'has', 'had', 'having', 'do', 'does', 'did', 'doing', 'a', 'an', 'the', 'and', 'but', 'if', 'or', 'because', 'as', 'until', 'while', 'of', 'at', 'by', 'for', 'with', 'about', 'against', 'between', 'into', 'through', 'during', 'before', 'after', 'above', 'below', 'to', 'from', 'up', 'down', 'in', 'out', 'on', 'off', 'over', 'under', 'again', 'further', 'then', 'once', 'here', 'there', 'when', 'where', 'why', 'how', 'all', 'any', 'both', 'each', 'few', 'more', 'most', 'other', 'some', 'such', 'no', 'nor', 'not', 'only', 'own', 'same', 'so', 'than', 'too', 'very', 's', 't', 'can', 'will', 'just', 'don', \"don't\", 'should', \"should've\", 'now', 'd', 'll', 'm', 'o', 're', 've', 'y', 'ain', 'aren', \"aren't\", 'couldn', \"couldn't\", 'didn', \"didn't\", 'doesn', \"doesn't\", 'hadn', \"hadn't\", 'hasn', \"hasn't\", 'haven', \"haven't\", 'isn', \"isn't\", 'ma', 'mightn', \"mightn't\", 'mustn', \"mustn't\", 'needn', \"needn't\", 'shan', \"shan't\", 'shouldn', \"shouldn't\", 'wasn', \"wasn't\", 'weren', \"weren't\", 'won', \"won't\", 'wouldn', \"wouldn't\"]\n"
     ]
    }
   ],
   "source": [
    "print('불용어 개수 :', len(stopwords.words('english') ))\n",
    "print(stopwords.words('english'))"
   ]
  },
  {
   "cell_type": "code",
   "execution_count": 14,
   "metadata": {},
   "outputs": [],
   "source": [
    "#데이터 전처리 함수\n",
    "def preprocess_sentence(sentence, remove_stopwords=True):\n",
    "    sentence = sentence.lower() # 텍스트 소문자화\n",
    "    sentence = BeautifulSoup(sentence, \"lxml\").text # <br />, <a href = ...> 등의 html 태그 제거\n",
    "    sentence = re.sub(r'\\([^)]*\\)', '', sentence) # 괄호로 닫힌 문자열 (...) 제거 Ex) my husband (and myself!) for => my husband for\n",
    "    sentence = re.sub('\"','', sentence) # 쌍따옴표 \" 제거\n",
    "    sentence = ' '.join([contractions[t] if t in contractions else t for t in sentence.split(\" \")]) # 약어 정규화\n",
    "    sentence = re.sub(r\"'s\\b\",\"\",sentence) # 소유격 제거. Ex) roland's -> roland\n",
    "    sentence = re.sub(\"[^a-zA-Z]\", \" \", sentence) # 영어 외 문자(숫자, 특수문자 등) 공백으로 변환\n",
    "    sentence = re.sub('[m]{2,}', 'mm', sentence) # m이 3개 이상이면 2개로 변경. Ex) ummmmmmm yeah -> umm yeah\n",
    "    \n",
    "    # 불용어 제거 (Text)\n",
    "    if remove_stopwords:\n",
    "        tokens = ' '.join(word for word in sentence.split() if not word in stopwords.words('english') if len(word) > 1)\n",
    "    # 불용어 미제거 (Summary)\n",
    "    else:\n",
    "        tokens = ' '.join(word for word in sentence.split() if len(word) > 1)\n",
    "    return tokens"
   ]
  },
  {
   "cell_type": "code",
   "execution_count": 15,
   "metadata": {},
   "outputs": [
    {
     "data": {
      "text/plain": [
       "['saurav kant alumnus upgrad iiit pg program machine learning artificial intelligence sr systems engineer infosys almost years work experience program upgrad degree career support helped transition data scientist tech mahindra salary hike upgrad online power learning powered lakh careers',\n",
       " 'kunal shah credit card bill payment platform cred gave users chance win free food swiggy one year pranav kaushik delhi techie bagged reward spending cred coins users get one cred coin per rupee bill paid used avail rewards brands like ixigo bookmyshow ubereats cult fit',\n",
       " 'new zealand defeated india wickets fourth odi hamilton thursday win first match five match odi series india lost international match rohit sharma captaincy consecutive victories dating back march match witnessed india getting seventh lowest total odi cricket history',\n",
       " 'aegon life iterm insurance plan customers enjoy tax benefits premiums paid save taxes plan provides life cover age years also customers options insure critical illnesses disability accidental death benefit rider life cover age years',\n",
       " 'speaking sexual harassment allegations rajkumar hirani sonam kapoor said known hirani many years true metoo movement get derailed metoo movement always believe woman case need reserve judgment added hirani accused assistant worked sanju']"
      ]
     },
     "execution_count": 15,
     "metadata": {},
     "output_type": "execute_result"
    }
   ],
   "source": [
    "clean_text = []\n",
    "\n",
    "# 전체 Text 데이터에 대한 전처리 : 10분 이상 시간이 걸릴 수 있습니다. \n",
    "for s in data['text']:\n",
    "    clean_text.append(preprocess_sentence(s))\n",
    "\n",
    "# 전처리 후 출력\n",
    "clean_text[:5]"
   ]
  },
  {
   "cell_type": "markdown",
   "metadata": {},
   "source": [
    "headlines에 대해서는 불용어 제거를 하지 않도록 하겠습니다."
   ]
  },
  {
   "cell_type": "code",
   "execution_count": 16,
   "metadata": {},
   "outputs": [
    {
     "data": {
      "text/plain": [
       "['upgrad learner switches to career in ml al with salary hike',\n",
       " 'delhi techie wins free food from swiggy for one year on cred',\n",
       " 'new zealand end rohit sharma led india match winning streak',\n",
       " 'aegon life iterm insurance plan helps customers save tax',\n",
       " 'have known hirani for yrs what if metoo claims are not true sonam']"
      ]
     },
     "execution_count": 16,
     "metadata": {},
     "output_type": "execute_result"
    }
   ],
   "source": [
    "clean_summary = []\n",
    "\n",
    "# 전체 Summary 데이터에 대한 전처리 : 5분 이상 시간이 걸릴 수 있습니다. \n",
    "for s in data['headlines']:\n",
    "    clean_summary.append(preprocess_sentence(s, False))\n",
    "\n",
    "clean_summary[:5]"
   ]
  },
  {
   "cell_type": "code",
   "execution_count": 17,
   "metadata": {},
   "outputs": [],
   "source": [
    "data['headlines'] = clean_summary\n",
    "data['text'] = clean_text"
   ]
  },
  {
   "cell_type": "markdown",
   "metadata": {},
   "source": [
    "혹시 전처리 이후 다시 공백이 생긴게 아닌지 확인합니다."
   ]
  },
  {
   "cell_type": "code",
   "execution_count": 18,
   "metadata": {},
   "outputs": [],
   "source": [
    "data.replace('', np.nan, inplace=True)"
   ]
  },
  {
   "cell_type": "code",
   "execution_count": 19,
   "metadata": {},
   "outputs": [
    {
     "data": {
      "text/plain": [
       "headlines    0\n",
       "text         0\n",
       "dtype: int64"
      ]
     },
     "execution_count": 19,
     "metadata": {},
     "output_type": "execute_result"
    }
   ],
   "source": [
    "data.isnull().sum()"
   ]
  },
  {
   "cell_type": "code",
   "execution_count": 20,
   "metadata": {},
   "outputs": [
    {
     "name": "stdout",
     "output_type": "stream",
     "text": [
      "전체 샘플수 : 98262\n"
     ]
    }
   ],
   "source": [
    "data.dropna(axis=0, inplace=True)\n",
    "print('전체 샘플수 :',(len(data)))#데이터 전처리 함수"
   ]
  },
  {
   "cell_type": "code",
   "execution_count": 21,
   "metadata": {},
   "outputs": [
    {
     "name": "stdout",
     "output_type": "stream",
     "text": [
      "텍스트의 최소 길이 : 1\n",
      "텍스트의 최대 길이 : 60\n",
      "텍스트의 평균 길이 : 35.10029309397326\n",
      "헤드라인의 최소 길이 : 1\n",
      "헤드라인의 최대 길이 : 16\n",
      "헤드라인의 평균 길이 : 9.299444342675704\n"
     ]
    },
    {
     "data": {
      "image/png": "[encoded data removed]",
      "text/plain": [
       "<Figure size 432x288 with 2 Axes>"
      ]
     },
     "metadata": {
      "needs_background": "light"
     },
     "output_type": "display_data"
    },
    {
     "data": {
      "image/png": "[encoded data removed]",
      "text/plain": [
       "<Figure size 432x288 with 1 Axes>"
      ]
     },
     "metadata": {
      "needs_background": "light"
     },
     "output_type": "display_data"
    },
    {
     "data": {
      "image/png": "[encoded data removed]",
      "text/plain": [
       "<Figure size 432x288 with 1 Axes>"
      ]
     },
     "metadata": {
      "needs_background": "light"
     },
     "output_type": "display_data"
    }
   ],
   "source": [
    "# 길이 분포 출력\n",
    "import matplotlib.pyplot as plt\n",
    "\n",
    "text_len = [len(s.split()) for s in data['text']]\n",
    "headlines_len = [len(s.split()) for s in data['headlines']]\n",
    "\n",
    "print('텍스트의 최소 길이 : {}'.format(np.min(text_len)))\n",
    "print('텍스트의 최대 길이 : {}'.format(np.max(text_len)))\n",
    "print('텍스트의 평균 길이 : {}'.format(np.mean(text_len)))\n",
    "print('헤드라인의 최소 길이 : {}'.format(np.min(headlines_len)))\n",
    "print('헤드라인의 최대 길이 : {}'.format(np.max(headlines_len)))\n",
    "print('헤드라인의 평균 길이 : {}'.format(np.mean(headlines_len)))\n",
    "\n",
    "plt.subplot(1,2,1)\n",
    "plt.boxplot(headlines_len)\n",
    "plt.title('headlines')\n",
    "plt.subplot(1,2,2)\n",
    "plt.boxplot(text_len)\n",
    "plt.title('text')\n",
    "plt.tight_layout()\n",
    "plt.show()\n",
    "\n",
    "plt.title('headlines')\n",
    "plt.hist(headlines_len, bins = 40)\n",
    "plt.xlabel('length of samples')\n",
    "plt.ylabel('number of samples')\n",
    "plt.show()\n",
    "\n",
    "plt.title('text')\n",
    "plt.hist(text_len, bins = 40)\n",
    "plt.xlabel('length of samples')\n",
    "plt.ylabel('number of samples')\n",
    "plt.show()"
   ]
  },
  {
   "cell_type": "code",
   "execution_count": 22,
   "metadata": {},
   "outputs": [
    {
     "data": {
      "text/plain": [
       "52"
      ]
     },
     "execution_count": 22,
     "metadata": {},
     "output_type": "execute_result"
    }
   ],
   "source": [
    "np.argmin(text_len)"
   ]
  },
  {
   "cell_type": "markdown",
   "metadata": {},
   "source": [
    "무언가 text에 너무 짧은게 존재합니다. 확인해보겠습니다."
   ]
  },
  {
   "cell_type": "code",
   "execution_count": 23,
   "metadata": {},
   "outputs": [
    {
     "data": {
      "text/plain": [
       "39"
      ]
     },
     "execution_count": 23,
     "metadata": {},
     "output_type": "execute_result"
    }
   ],
   "source": [
    "text_len[text_len == 1]"
   ]
  },
  {
   "cell_type": "code",
   "execution_count": 24,
   "metadata": {},
   "outputs": [
    {
     "data": {
      "text/plain": [
       "headlines    headlines\n",
       "text              text\n",
       "Name: 52, dtype: object"
      ]
     },
     "execution_count": 24,
     "metadata": {},
     "output_type": "execute_result"
    }
   ],
   "source": [
    "data.iloc[52,]"
   ]
  },
  {
   "cell_type": "markdown",
   "metadata": {},
   "source": [
    "뭔가 잘못된 데이터가 입력된것을 확인할 수 있었습니다. "
   ]
  },
  {
   "cell_type": "code",
   "execution_count": 25,
   "metadata": {},
   "outputs": [
    {
     "data": {
      "text/html": [
       "<div>\n",
       "<style scoped>\n",
       "    .dataframe tbody tr th:only-of-type {\n",
       "        vertical-align: middle;\n",
       "    }\n",
       "\n",
       "    .dataframe tbody tr th {\n",
       "        vertical-align: top;\n",
       "    }\n",
       "\n",
       "    .dataframe thead th {\n",
       "        text-align: right;\n",
       "    }\n",
       "</style>\n",
       "<table border=\"1\" class=\"dataframe\">\n",
       "  <thead>\n",
       "    <tr style=\"text-align: right;\">\n",
       "      <th></th>\n",
       "      <th>headlines</th>\n",
       "      <th>text</th>\n",
       "    </tr>\n",
       "  </thead>\n",
       "  <tbody>\n",
       "    <tr>\n",
       "      <th>0</th>\n",
       "      <td>upgrad learner switches to career in ml al wit...</td>\n",
       "      <td>saurav kant alumnus upgrad iiit pg program mac...</td>\n",
       "    </tr>\n",
       "    <tr>\n",
       "      <th>1</th>\n",
       "      <td>delhi techie wins free food from swiggy for on...</td>\n",
       "      <td>kunal shah credit card bill payment platform c...</td>\n",
       "    </tr>\n",
       "    <tr>\n",
       "      <th>2</th>\n",
       "      <td>new zealand end rohit sharma led india match w...</td>\n",
       "      <td>new zealand defeated india wickets fourth odi ...</td>\n",
       "    </tr>\n",
       "    <tr>\n",
       "      <th>3</th>\n",
       "      <td>aegon life iterm insurance plan helps customer...</td>\n",
       "      <td>aegon life iterm insurance plan customers enjo...</td>\n",
       "    </tr>\n",
       "    <tr>\n",
       "      <th>4</th>\n",
       "      <td>have known hirani for yrs what if metoo claims...</td>\n",
       "      <td>speaking sexual harassment allegations rajkuma...</td>\n",
       "    </tr>\n",
       "    <tr>\n",
       "      <th>...</th>\n",
       "      <td>...</td>\n",
       "      <td>...</td>\n",
       "    </tr>\n",
       "    <tr>\n",
       "      <th>98396</th>\n",
       "      <td>crpf jawan axed to death by maoists in chhatti...</td>\n",
       "      <td>crpf jawan tuesday axed death sharp edged weap...</td>\n",
       "    </tr>\n",
       "    <tr>\n",
       "      <th>98397</th>\n",
       "      <td>first song from sonakshi sinha noor titled uff...</td>\n",
       "      <td>uff yeh first song sonakshi sinha starrer upco...</td>\n",
       "    </tr>\n",
       "    <tr>\n",
       "      <th>98398</th>\n",
       "      <td>the matrix film to get reboot reports</td>\n",
       "      <td>according reports new version science fiction ...</td>\n",
       "    </tr>\n",
       "    <tr>\n",
       "      <th>98399</th>\n",
       "      <td>snoop dogg aims gun at clown dressed as trump ...</td>\n",
       "      <td>new music video shows rapper snoop dogg aiming...</td>\n",
       "    </tr>\n",
       "    <tr>\n",
       "      <th>98400</th>\n",
       "      <td>madhesi morcha withdraws support to nepalese g...</td>\n",
       "      <td>madhesi morcha alliance seven political partie...</td>\n",
       "    </tr>\n",
       "  </tbody>\n",
       "</table>\n",
       "<p>98262 rows × 2 columns</p>\n",
       "</div>"
      ],
      "text/plain": [
       "                                               headlines                                               text\n",
       "0      upgrad learner switches to career in ml al wit...  saurav kant alumnus upgrad iiit pg program mac...\n",
       "1      delhi techie wins free food from swiggy for on...  kunal shah credit card bill payment platform c...\n",
       "2      new zealand end rohit sharma led india match w...  new zealand defeated india wickets fourth odi ...\n",
       "3      aegon life iterm insurance plan helps customer...  aegon life iterm insurance plan customers enjo...\n",
       "4      have known hirani for yrs what if metoo claims...  speaking sexual harassment allegations rajkuma...\n",
       "...                                                  ...                                                ...\n",
       "98396  crpf jawan axed to death by maoists in chhatti...  crpf jawan tuesday axed death sharp edged weap...\n",
       "98397  first song from sonakshi sinha noor titled uff...  uff yeh first song sonakshi sinha starrer upco...\n",
       "98398              the matrix film to get reboot reports  according reports new version science fiction ...\n",
       "98399  snoop dogg aims gun at clown dressed as trump ...  new music video shows rapper snoop dogg aiming...\n",
       "98400  madhesi morcha withdraws support to nepalese g...  madhesi morcha alliance seven political partie...\n",
       "\n",
       "[98262 rows x 2 columns]"
      ]
     },
     "execution_count": 25,
     "metadata": {},
     "output_type": "execute_result"
    }
   ],
   "source": [
    "data"
   ]
  },
  {
   "cell_type": "code",
   "execution_count": 26,
   "metadata": {},
   "outputs": [
    {
     "data": {
      "text/plain": [
       "headlines    delhi techie wins free food from swiggy for on...\n",
       "text         kunal shah credit card bill payment platform c...\n",
       "Name: 1, dtype: object"
      ]
     },
     "execution_count": 26,
     "metadata": {},
     "output_type": "execute_result"
    }
   ],
   "source": [
    "data.iloc[1,]"
   ]
  },
  {
   "cell_type": "code",
   "execution_count": 27,
   "metadata": {},
   "outputs": [],
   "source": [
    "data.drop([52], inplace = True)"
   ]
  },
  {
   "cell_type": "code",
   "execution_count": 28,
   "metadata": {},
   "outputs": [
    {
     "data": {
      "text/plain": [
       "headlines    oneplus named bestselling premium smartphone b...\n",
       "text         oneplus emerged india best selling premium sma...\n",
       "Name: 53, dtype: object"
      ]
     },
     "execution_count": 28,
     "metadata": {},
     "output_type": "execute_result"
    }
   ],
   "source": [
    "data.iloc[52,]"
   ]
  },
  {
   "cell_type": "markdown",
   "metadata": {},
   "source": [
    "값을 삭제한 것을 볼 수 있습니다. "
   ]
  },
  {
   "cell_type": "markdown",
   "metadata": {},
   "source": [
    "이제 패딩할 수치를 지정하겠습니다."
   ]
  },
  {
   "cell_type": "code",
   "execution_count": 29,
   "metadata": {},
   "outputs": [],
   "source": [
    "text_max_len = 40\n",
    "headlines_max_len = 12"
   ]
  },
  {
   "cell_type": "code",
   "execution_count": 30,
   "metadata": {},
   "outputs": [],
   "source": [
    "def below_threshold_len(max_len, nested_list):\n",
    "  cnt = 0\n",
    "  for s in nested_list:\n",
    "    if(len(s.split()) <= max_len):\n",
    "        cnt = cnt + 1\n",
    "  print('전체 샘플 중 길이가 %s 이하인 샘플의 비율: %s'%(max_len, (cnt / len(nested_list))))"
   ]
  },
  {
   "cell_type": "code",
   "execution_count": 31,
   "metadata": {},
   "outputs": [
    {
     "name": "stdout",
     "output_type": "stream",
     "text": [
      "전체 샘플 중 길이가 40 이하인 샘플의 비율: 0.9238354993334079\n",
      "전체 샘플 중 길이가 12 이하인 샘플의 비율: 0.9880318742939722\n"
     ]
    }
   ],
   "source": [
    "below_threshold_len(text_max_len, data['text'])\n",
    "below_threshold_len(headlines_max_len,  data['headlines'])"
   ]
  },
  {
   "cell_type": "markdown",
   "metadata": {},
   "source": [
    "\n",
    "최소값보다 적은 samaple은 제외하고 해보겠습니다."
   ]
  },
  {
   "cell_type": "code",
   "execution_count": 32,
   "metadata": {},
   "outputs": [
    {
     "name": "stdout",
     "output_type": "stream",
     "text": [
      "전체 샘플수 : 89681\n"
     ]
    }
   ],
   "source": [
    "data = data[data['text'].apply(lambda x: len(x.split()) <= text_max_len)]\n",
    "data = data[data['headlines'].apply(lambda x: len(x.split()) <= headlines_max_len)]\n",
    "print('전체 샘플수 :',(len(data)))"
   ]
  },
  {
   "cell_type": "markdown",
   "metadata": {},
   "source": [
    "## 토큰 추가\n",
    "\n",
    " 디코더는 시작 토큰을 입력받아 문장을 생성하기 시작하고, 종료 토큰을 예측한 순간에 문장 생성을 멈추는 거였죠.\n",
    " seq2seq 훈련을 위해서는 디코더의 입력과 레이블에 시작 토큰과 종료 토큰을 추가할 필요가 있어요. 이번 실습에서는 시작 토큰은 'sostoken', 종료 토큰은 'eostoken'이라 임의로 명명하고 앞, 뒤로 추가할거에요. 디코더의 입력에 해당하면서 시작 토큰이 맨 앞에 있는 문장의 이름을 decoder_input, 디코더의 출력 또는 레이블에 해당되면서 종료 토큰이 맨 뒤에 붙는 문장의 이름을 decoder_target이라고 이름을 정했어요. 두 개의 문장 모두 Summary 열로부터 만들거에요."
   ]
  },
  {
   "cell_type": "code",
   "execution_count": 33,
   "metadata": {},
   "outputs": [
    {
     "data": {
      "text/html": [
       "<div>\n",
       "<style scoped>\n",
       "    .dataframe tbody tr th:only-of-type {\n",
       "        vertical-align: middle;\n",
       "    }\n",
       "\n",
       "    .dataframe tbody tr th {\n",
       "        vertical-align: top;\n",
       "    }\n",
       "\n",
       "    .dataframe thead th {\n",
       "        text-align: right;\n",
       "    }\n",
       "</style>\n",
       "<table border=\"1\" class=\"dataframe\">\n",
       "  <thead>\n",
       "    <tr style=\"text-align: right;\">\n",
       "      <th></th>\n",
       "      <th>headlines</th>\n",
       "      <th>text</th>\n",
       "      <th>decoder_input</th>\n",
       "      <th>decoder_target</th>\n",
       "    </tr>\n",
       "  </thead>\n",
       "  <tbody>\n",
       "    <tr>\n",
       "      <th>0</th>\n",
       "      <td>upgrad learner switches to career in ml al wit...</td>\n",
       "      <td>saurav kant alumnus upgrad iiit pg program mac...</td>\n",
       "      <td>sostoken upgrad learner switches to career in ...</td>\n",
       "      <td>upgrad learner switches to career in ml al wit...</td>\n",
       "    </tr>\n",
       "    <tr>\n",
       "      <th>2</th>\n",
       "      <td>new zealand end rohit sharma led india match w...</td>\n",
       "      <td>new zealand defeated india wickets fourth odi ...</td>\n",
       "      <td>sostoken new zealand end rohit sharma led indi...</td>\n",
       "      <td>new zealand end rohit sharma led india match w...</td>\n",
       "    </tr>\n",
       "    <tr>\n",
       "      <th>3</th>\n",
       "      <td>aegon life iterm insurance plan helps customer...</td>\n",
       "      <td>aegon life iterm insurance plan customers enjo...</td>\n",
       "      <td>sostoken aegon life iterm insurance plan helps...</td>\n",
       "      <td>aegon life iterm insurance plan helps customer...</td>\n",
       "    </tr>\n",
       "    <tr>\n",
       "      <th>5</th>\n",
       "      <td>rahat fateh ali khan denies getting notice for...</td>\n",
       "      <td>pakistani singer rahat fateh ali khan denied r...</td>\n",
       "      <td>sostoken rahat fateh ali khan denies getting n...</td>\n",
       "      <td>rahat fateh ali khan denies getting notice for...</td>\n",
       "    </tr>\n",
       "    <tr>\n",
       "      <th>6</th>\n",
       "      <td>india get all out for their lowest odi total i...</td>\n",
       "      <td>india recorded lowest odi total new zealand ge...</td>\n",
       "      <td>sostoken india get all out for their lowest od...</td>\n",
       "      <td>india get all out for their lowest odi total i...</td>\n",
       "    </tr>\n",
       "  </tbody>\n",
       "</table>\n",
       "</div>"
      ],
      "text/plain": [
       "                                           headlines                                               text                                      decoder_input                                     decoder_target\n",
       "0  upgrad learner switches to career in ml al wit...  saurav kant alumnus upgrad iiit pg program mac...  sostoken upgrad learner switches to career in ...  upgrad learner switches to career in ml al wit...\n",
       "2  new zealand end rohit sharma led india match w...  new zealand defeated india wickets fourth odi ...  sostoken new zealand end rohit sharma led indi...  new zealand end rohit sharma led india match w...\n",
       "3  aegon life iterm insurance plan helps customer...  aegon life iterm insurance plan customers enjo...  sostoken aegon life iterm insurance plan helps...  aegon life iterm insurance plan helps customer...\n",
       "5  rahat fateh ali khan denies getting notice for...  pakistani singer rahat fateh ali khan denied r...  sostoken rahat fateh ali khan denies getting n...  rahat fateh ali khan denies getting notice for...\n",
       "6  india get all out for their lowest odi total i...  india recorded lowest odi total new zealand ge...  sostoken india get all out for their lowest od...  india get all out for their lowest odi total i..."
      ]
     },
     "execution_count": 33,
     "metadata": {},
     "output_type": "execute_result"
    }
   ],
   "source": [
    "#요약 데이터에는 시작 토큰과 종료 토큰을 추가한다.\n",
    "data['decoder_input'] = data['headlines'].apply(lambda x : 'sostoken '+ x)\n",
    "data['decoder_target'] = data['headlines'].apply(lambda x : x + ' eostoken')\n",
    "data.head()"
   ]
  },
  {
   "cell_type": "markdown",
   "metadata": {},
   "source": [
    "인코더의 입력, 디코더의 입력과 레이블을 각각 다시 Numpy 타입으로 저장합니다.\n",
    "\n"
   ]
  },
  {
   "cell_type": "code",
   "execution_count": 34,
   "metadata": {},
   "outputs": [],
   "source": [
    "encoder_input = np.array(data['text']) # 인코더의 입력\n",
    "decoder_input = np.array(data['decoder_input']) # 디코더의 입력\n",
    "decoder_target = np.array(data['decoder_target']) # 디코더의 레이블"
   ]
  },
  {
   "cell_type": "markdown",
   "metadata": {},
   "source": [
    "## train , test 데이터 분리\n"
   ]
  },
  {
   "cell_type": "code",
   "execution_count": 35,
   "metadata": {},
   "outputs": [
    {
     "name": "stdout",
     "output_type": "stream",
     "text": [
      "[33602 56379 13596 ... 52282 44517 63386]\n"
     ]
    }
   ],
   "source": [
    "indices = np.arange(encoder_input.shape[0])\n",
    "np.random.shuffle(indices)\n",
    "print(indices)"
   ]
  },
  {
   "cell_type": "code",
   "execution_count": 36,
   "metadata": {},
   "outputs": [],
   "source": [
    "encoder_input = encoder_input[indices]\n",
    "decoder_input = decoder_input[indices]\n",
    "decoder_target = decoder_target[indices]"
   ]
  },
  {
   "cell_type": "code",
   "execution_count": 37,
   "metadata": {
    "scrolled": true
   },
   "outputs": [
    {
     "name": "stdout",
     "output_type": "stream",
     "text": [
      "테스트 데이터의 수 : 17936\n"
     ]
    }
   ],
   "source": [
    "n_of_val = int(len(encoder_input)*0.2)\n",
    "print('테스트 데이터의 수 :',n_of_val)"
   ]
  },
  {
   "cell_type": "code",
   "execution_count": 38,
   "metadata": {},
   "outputs": [
    {
     "name": "stdout",
     "output_type": "stream",
     "text": [
      "훈련 데이터의 개수 : 71745\n",
      "훈련 레이블의 개수 : 71745\n",
      "테스트 데이터의 개수 : 17936\n",
      "테스트 레이블의 개수 : 17936\n"
     ]
    }
   ],
   "source": [
    "encoder_input_train = encoder_input[:-n_of_val]\n",
    "decoder_input_train = decoder_input[:-n_of_val]\n",
    "decoder_target_train = decoder_target[:-n_of_val]\n",
    "\n",
    "encoder_input_test = encoder_input[-n_of_val:]\n",
    "decoder_input_test = decoder_input[-n_of_val:]\n",
    "decoder_target_test = decoder_target[-n_of_val:]\n",
    "\n",
    "print('훈련 데이터의 개수 :', len(encoder_input_train))\n",
    "print('훈련 레이블의 개수 :',len(decoder_input_train))\n",
    "print('테스트 데이터의 개수 :',len(encoder_input_test))\n",
    "print('테스트 레이블의 개수 :',len(decoder_input_test))"
   ]
  },
  {
   "cell_type": "markdown",
   "metadata": {},
   "source": [
    "## 단어 집합(vocaburary) 만들기 및 정수 인코딩"
   ]
  },
  {
   "cell_type": "code",
   "execution_count": 39,
   "metadata": {},
   "outputs": [],
   "source": [
    "src_tokenizer = Tokenizer() # 토크나이저 정의\n",
    "src_tokenizer.fit_on_texts(encoder_input_train) # 입력된 데이터로부터 단어 집합 생성"
   ]
  },
  {
   "cell_type": "code",
   "execution_count": null,
   "metadata": {},
   "outputs": [],
   "source": []
  },
  {
   "cell_type": "code",
   "execution_count": 40,
   "metadata": {},
   "outputs": [
    {
     "name": "stdout",
     "output_type": "stream",
     "text": [
      "단어 집합(vocabulary)의 크기 : 65580\n",
      "등장 빈도가 7번 이하인 희귀 단어의 수: 46023\n",
      "단어 집합에서 희귀 단어를 제외시킬 경우의 단어 집합의 크기 19557\n",
      "단어 집합에서 희귀 단어의 비율: 70.17840805123512\n",
      "전체 등장 빈도에서 희귀 단어 등장 빈도 비율: 4.051118897185989\n"
     ]
    }
   ],
   "source": [
    "threshold = 8\n",
    "total_cnt = len(src_tokenizer.word_index) # 단어의 수\n",
    "rare_cnt = 0 # 등장 빈도수가 threshold보다 작은 단어의 개수를 카운트\n",
    "total_freq = 0 # 훈련 데이터의 전체 단어 빈도수 총 합\n",
    "rare_freq = 0 # 등장 빈도수가 threshold보다 작은 단어의 등장 빈도수의 총 합\n",
    "\n",
    "# 단어와 빈도수의 쌍(pair)을 key와 value로 받는다.\n",
    "for key, value in src_tokenizer.word_counts.items():\n",
    "    total_freq = total_freq + value\n",
    "\n",
    "    # 단어의 등장 빈도수가 threshold보다 작으면\n",
    "    if(value < threshold):\n",
    "        rare_cnt = rare_cnt + 1\n",
    "        rare_freq = rare_freq + value\n",
    "\n",
    "print('단어 집합(vocabulary)의 크기 :',total_cnt)\n",
    "print('등장 빈도가 %s번 이하인 희귀 단어의 수: %s'%(threshold - 1, rare_cnt))\n",
    "print('단어 집합에서 희귀 단어를 제외시킬 경우의 단어 집합의 크기 %s'%(total_cnt - rare_cnt))\n",
    "print(\"단어 집합에서 희귀 단어의 비율:\", (rare_cnt / total_cnt)*100)\n",
    "print(\"전체 등장 빈도에서 희귀 단어 등장 빈도 비율:\", (rare_freq / total_freq)*100)"
   ]
  },
  {
   "cell_type": "markdown",
   "metadata": {},
   "source": [
    "총 단어는 65629개 그러나 등장빈도가 threshold 7회미만 즉 6회 이하 단어는 단어집합에서 70% 정도를 찿지함\n",
    "하지만 실제 훈련데이터에서 등장빈도 비율은 4% 밖에 되지않음."
   ]
  },
  {
   "cell_type": "code",
   "execution_count": 41,
   "metadata": {},
   "outputs": [],
   "source": [
    "src_vocab = 19538\n",
    "src_tokenizer = Tokenizer(num_words = src_vocab) # 단어 집합의 크기를 19538으로 제한\n",
    "src_tokenizer.fit_on_texts(encoder_input_train) # 단어 집합 재생성."
   ]
  },
  {
   "cell_type": "code",
   "execution_count": null,
   "metadata": {},
   "outputs": [],
   "source": []
  },
  {
   "cell_type": "code",
   "execution_count": 42,
   "metadata": {},
   "outputs": [
    {
     "name": "stdout",
     "output_type": "stream",
     "text": [
      "[[169, 15, 122, 54, 1, 4148, 1041, 11769, 683, 7486, 36, 1944, 347, 7272, 254, 18328, 7718, 1415, 9624, 254, 17, 18328, 7718, 868, 2281, 1058, 11769, 68, 868, 2281, 1], [396, 318, 3170, 3441, 198, 282, 5, 16, 124, 45, 976, 259, 1981, 118, 239, 318, 9, 21, 93, 5, 2465, 1161, 766, 1561, 435, 5015, 1566, 4091, 3852, 198, 282, 45, 2], [47, 2163, 783, 174, 1391, 13867, 1, 4593, 10, 641, 13867, 1, 378, 28, 143, 357, 174, 185, 139, 1, 5016, 10, 7719, 405, 31, 4172, 291, 538, 405, 364, 284, 185]]\n"
     ]
    }
   ],
   "source": [
    "# 텍스트 시퀀스를 정수 시퀀스로 변환\n",
    "encoder_input_train = src_tokenizer.texts_to_sequences(encoder_input_train) \n",
    "encoder_input_test = src_tokenizer.texts_to_sequences(encoder_input_test)\n",
    "\n",
    "#잘 진행되었는지 샘플 출력\n",
    "print(encoder_input_train[:3])"
   ]
  },
  {
   "cell_type": "code",
   "execution_count": null,
   "metadata": {},
   "outputs": [],
   "source": []
  },
  {
   "cell_type": "code",
   "execution_count": 43,
   "metadata": {},
   "outputs": [],
   "source": [
    "tar_tokenizer = Tokenizer()\n",
    "tar_tokenizer.fit_on_texts(decoder_input_train)"
   ]
  },
  {
   "cell_type": "code",
   "execution_count": null,
   "metadata": {},
   "outputs": [],
   "source": []
  },
  {
   "cell_type": "code",
   "execution_count": 44,
   "metadata": {},
   "outputs": [
    {
     "name": "stdout",
     "output_type": "stream",
     "text": [
      "단어 집합(vocabulary)의 크기 : 28844\n",
      "등장 빈도가 7번 이하인 희귀 단어의 수: 20523\n",
      "단어 집합에서 희귀 단어를 제외시킬 경우의 단어 집합의 크기 8321\n",
      "단어 집합에서 희귀 단어의 비율: 71.15171266121204\n",
      "전체 등장 빈도에서 희귀 단어 등장 빈도 비율: 6.325105443351562\n"
     ]
    }
   ],
   "source": [
    "threshold = 8\n",
    "total_cnt = len(tar_tokenizer.word_index) # 단어의 수\n",
    "rare_cnt = 0 # 등장 빈도수가 threshold보다 작은 단어의 개수를 카운트\n",
    "total_freq = 0 # 훈련 데이터의 전체 단어 빈도수 총 합\n",
    "rare_freq = 0 # 등장 빈도수가 threshold보다 작은 단어의 등장 빈도수의 총 합\n",
    "\n",
    "# 단어와 빈도수의 쌍(pair)을 key와 value로 받는다.\n",
    "for key, value in tar_tokenizer.word_counts.items():\n",
    "    total_freq = total_freq + value\n",
    "\n",
    "    # 단어의 등장 빈도수가 threshold보다 작으면\n",
    "    if(value < threshold):\n",
    "        rare_cnt = rare_cnt + 1\n",
    "        rare_freq = rare_freq + value\n",
    "\n",
    "print('단어 집합(vocabulary)의 크기 :',total_cnt)\n",
    "print('등장 빈도가 %s번 이하인 희귀 단어의 수: %s'%(threshold - 1, rare_cnt))\n",
    "print('단어 집합에서 희귀 단어를 제외시킬 경우의 단어 집합의 크기 %s'%(total_cnt - rare_cnt))\n",
    "print(\"단어 집합에서 희귀 단어의 비율:\", (rare_cnt / total_cnt)*100)\n",
    "print(\"전체 등장 빈도에서 희귀 단어 등장 빈도 비율:\", (rare_freq / total_freq)*100)"
   ]
  },
  {
   "cell_type": "code",
   "execution_count": null,
   "metadata": {},
   "outputs": [],
   "source": []
  },
  {
   "cell_type": "code",
   "execution_count": 45,
   "metadata": {},
   "outputs": [
    {
     "name": "stdout",
     "output_type": "stream",
     "text": [
      "input\n",
      "input  [[1, 151, 986, 819, 6844, 11, 24, 2343], [1, 439, 5528, 7, 135, 48, 146, 123, 229, 28], [1, 709, 753, 7770, 23, 21, 18, 191, 113, 139, 738, 1048], [1, 389, 809, 940, 1739, 166, 76, 281, 443, 36], [1, 425, 263, 327, 23, 10, 288, 150, 953, 550, 2437]]\n",
      "target\n",
      "decoder  [[151, 986, 819, 6844, 11, 24, 2343, 2], [439, 5528, 7, 135, 48, 146, 123, 229, 28, 2], [709, 753, 7770, 23, 21, 18, 191, 113, 139, 738, 1048, 2], [389, 809, 940, 1739, 166, 76, 281, 443, 36, 2], [425, 263, 327, 23, 10, 288, 150, 953, 550, 2437, 2]]\n"
     ]
    }
   ],
   "source": [
    "tar_vocab =  8283\n",
    "tar_tokenizer = Tokenizer(num_words = tar_vocab) \n",
    "tar_tokenizer.fit_on_texts(decoder_input_train)\n",
    "tar_tokenizer.fit_on_texts(decoder_target_train)\n",
    "\n",
    "# 텍스트 시퀀스를 정수 시퀀스로 변환\n",
    "decoder_input_train = tar_tokenizer.texts_to_sequences(decoder_input_train) \n",
    "decoder_target_train = tar_tokenizer.texts_to_sequences(decoder_target_train)\n",
    "decoder_input_test = tar_tokenizer.texts_to_sequences(decoder_input_test)\n",
    "decoder_target_test = tar_tokenizer.texts_to_sequences(decoder_target_test)\n",
    "\n",
    "#잘 변환되었는지 확인\n",
    "print('input')\n",
    "print('input ',decoder_input_train[:5])\n",
    "print('target')\n",
    "print('decoder ',decoder_target_train[:5])"
   ]
  },
  {
   "cell_type": "markdown",
   "metadata": {},
   "source": [
    "전체 데이터에서 빈도수가 낮은 단어가 삭제되었다는 것은 빈도수가 낮은 단어만으로 구성되었던 샘플들은 이제 빈(empty) 샘플이 되었을 가능성이 있어요. 이 현상은 길이가 상대적으로 길었던 원문(Text)의 경우에는 문제가 별로 없겠지만, 애초에 평균 길이가 4밖에 되지 않았던 요약문(Summary)의 경우에는 이 현상이 굉장히 두드러졌을 가능성이 높겠죠.\n",
    "\n",
    "요약문에서 길이가 0이 된 샘플들의 인덱스를 받아와볼게요. 여기서 주의할 점은 요약문인 decoder_input에는 sostoken 또는 decoder_target에는 eostoken이 추가된 상태이고, 이 두 토큰은 모든 샘플에서 등장하므로 빈도수가 샘플수와 동일하게 매우 높으므로 단어 집합 제한에도 삭제 되지 않아요. 그래서 이제 길이가 0이 된 요약문의 실제길이는 1로 나올거에요. 길이 0이 된 decoder_input에는 sostoken, decoder_target에는 eostoken만 남아 있을테니까요.\n",
    "\n",
    "훈련 데이터와 테스트 데이터에 대해서 요약문의 길이가 1인 경우의 인덱스를 각각 drop_train과 drop_test에 라는 변수에 저장해볼게요. 이 샘플들은 모두 삭제할거에요.\n",
    "\n"
   ]
  },
  {
   "cell_type": "code",
   "execution_count": 46,
   "metadata": {},
   "outputs": [
    {
     "name": "stdout",
     "output_type": "stream",
     "text": [
      "삭제할 훈련 데이터의 개수 : 0\n",
      "삭제할 테스트 데이터의 개수 : 0\n",
      "훈련 데이터의 개수 : 71745\n",
      "훈련 레이블의 개수 : 71745\n",
      "테스트 데이터의 개수 : 17936\n",
      "테스트 레이블의 개수 : 17936\n"
     ]
    },
    {
     "name": "stderr",
     "output_type": "stream",
     "text": [
      "/home/ssac4/anaconda3/envs/aiffel/lib/python3.7/site-packages/numpy/core/_asarray.py:83: VisibleDeprecationWarning: Creating an ndarray from ragged nested sequences (which is a list-or-tuple of lists-or-tuples-or ndarrays with different lengths or shapes) is deprecated. If you meant to do this, you must specify 'dtype=object' when creating the ndarray\n",
      "  return array(a, dtype, copy=False, order=order)\n"
     ]
    }
   ],
   "source": [
    "drop_train = [index for index, sentence in enumerate(decoder_input_train) if len(sentence) == 1]\n",
    "drop_test = [index for index, sentence in enumerate(decoder_input_test) if len(sentence) == 1]\n",
    "\n",
    "print('삭제할 훈련 데이터의 개수 :',len(drop_train))\n",
    "print('삭제할 테스트 데이터의 개수 :',len(drop_test))\n",
    "\n",
    "encoder_input_train = np.delete(encoder_input_train, drop_train, axis=0)\n",
    "decoder_input_train = np.delete(decoder_input_train, drop_train, axis=0)\n",
    "decoder_target_train = np.delete(decoder_target_train, drop_train, axis=0)\n",
    "\n",
    "encoder_input_test = np.delete(encoder_input_test, drop_test, axis=0)\n",
    "decoder_input_test = np.delete(decoder_input_test, drop_test, axis=0)\n",
    "decoder_target_test = np.delete(decoder_target_test, drop_test, axis=0)\n",
    "\n",
    "print('훈련 데이터의 개수 :', len(encoder_input_train))\n",
    "print('훈련 레이블의 개수 :',len(decoder_input_train))\n",
    "print('테스트 데이터의 개수 :',len(encoder_input_test))\n",
    "print('테스트 레이블의 개수 :',len(decoder_input_test))"
   ]
  },
  {
   "cell_type": "markdown",
   "metadata": {},
   "source": [
    "## 패딩하기"
   ]
  },
  {
   "cell_type": "code",
   "execution_count": 47,
   "metadata": {},
   "outputs": [],
   "source": [
    "encoder_input_train = pad_sequences(encoder_input_train, maxlen = text_max_len, padding='post')\n",
    "encoder_input_test = pad_sequences(encoder_input_test, maxlen = text_max_len, padding='post')\n",
    "decoder_input_train = pad_sequences(decoder_input_train, maxlen = headlines_max_len, padding='post')\n",
    "decoder_target_train = pad_sequences(decoder_target_train, maxlen = headlines_max_len, padding='post')\n",
    "decoder_input_test = pad_sequences(decoder_input_test, maxlen = headlines_max_len, padding='post')\n",
    "decoder_target_test = pad_sequences(decoder_target_test, maxlen = headlines_max_len, padding='post')"
   ]
  },
  {
   "cell_type": "code",
   "execution_count": null,
   "metadata": {},
   "outputs": [],
   "source": []
  },
  {
   "cell_type": "markdown",
   "metadata": {},
   "source": [
    "## 어텐션 메커니즘 사용하기 (추상적 요약)"
   ]
  },
  {
   "cell_type": "markdown",
   "metadata": {},
   "source": [
    "### 모델 설계 하기 "
   ]
  },
  {
   "cell_type": "markdown",
   "metadata": {},
   "source": [
    "#### 인코더 "
   ]
  },
  {
   "cell_type": "code",
   "execution_count": 48,
   "metadata": {},
   "outputs": [
    {
     "name": "stdout",
     "output_type": "stream",
     "text": [
      "WARNING:tensorflow:Layer lstm will not use cuDNN kernel since it doesn't meet the cuDNN kernel criteria. It will use generic GPU kernel as fallback when running on GPU\n",
      "WARNING:tensorflow:Layer lstm_1 will not use cuDNN kernel since it doesn't meet the cuDNN kernel criteria. It will use generic GPU kernel as fallback when running on GPU\n",
      "WARNING:tensorflow:Layer lstm_2 will not use cuDNN kernel since it doesn't meet the cuDNN kernel criteria. It will use generic GPU kernel as fallback when running on GPU\n"
     ]
    }
   ],
   "source": [
    "from tensorflow.keras.layers import Input, LSTM, Embedding, Dense, Concatenate\n",
    "from tensorflow.keras.models import Model\n",
    "from tensorflow.keras.callbacks import EarlyStopping, ModelCheckpoint\n",
    "\n",
    "\n",
    "# 인코더 설계 시작\n",
    "embedding_dim = 128\n",
    "hidden_size = 256\n",
    "\n",
    "# 인코더\n",
    "encoder_inputs = Input(shape=(text_max_len,))\n",
    "\n",
    "# 인코더의 임베딩 층\n",
    "enc_emb = Embedding(src_vocab, embedding_dim)(encoder_inputs)\n",
    "\n",
    "# 인코더의 LSTM 1\n",
    "encoder_lstm1 = LSTM(hidden_size, return_sequences=True, return_state=True ,dropout = 0.4, recurrent_dropout = 0.4)\n",
    "encoder_output1, state_h1, state_c1 = encoder_lstm1(enc_emb)\n",
    "\n",
    "# 인코더의 LSTM 2\n",
    "encoder_lstm2 = LSTM(hidden_size, return_sequences=True, return_state=True, dropout=0.4, recurrent_dropout=0.4)\n",
    "encoder_output2, state_h2, state_c2 = encoder_lstm2(encoder_output1)\n",
    "\n",
    "# 인코더의 LSTM 3\n",
    "encoder_lstm3 = LSTM(hidden_size, return_state=True, return_sequences=True, dropout=0.4, recurrent_dropout=0.4)\n",
    "encoder_outputs, state_h, state_c= encoder_lstm3(encoder_output2)"
   ]
  },
  {
   "cell_type": "markdown",
   "metadata": {},
   "source": [
    "#### 디코더 입력"
   ]
  },
  {
   "cell_type": "code",
   "execution_count": 49,
   "metadata": {},
   "outputs": [
    {
     "name": "stdout",
     "output_type": "stream",
     "text": [
      "WARNING:tensorflow:Layer lstm_3 will not use cuDNN kernel since it doesn't meet the cuDNN kernel criteria. It will use generic GPU kernel as fallback when running on GPU\n"
     ]
    }
   ],
   "source": [
    "# 디코더 설계\n",
    "\n",
    "decoder_inputs = Input(shape=(None,))\n",
    "\n",
    "# 디코더의 임베딩 층\n",
    "dec_emb_layer = Embedding(tar_vocab, embedding_dim)\n",
    "dec_emb = dec_emb_layer(decoder_inputs)\n",
    "\n",
    "# 디코더의 LSTM\n",
    "decoder_lstm = LSTM(hidden_size, return_sequences = True, return_state = True, dropout = 0.4, recurrent_dropout=0.2)\n",
    "decoder_outputs, _, _ = decoder_lstm(dec_emb, initial_state = [state_h, state_c])"
   ]
  },
  {
   "cell_type": "markdown",
   "metadata": {},
   "source": [
    "#### 디코더 출력"
   ]
  },
  {
   "cell_type": "code",
   "execution_count": 50,
   "metadata": {},
   "outputs": [
    {
     "name": "stdout",
     "output_type": "stream",
     "text": [
      "Model: \"model\"\n",
      "__________________________________________________________________________________________________\n",
      "Layer (type)                    Output Shape         Param #     Connected to                     \n",
      "==================================================================================================\n",
      "input_1 (InputLayer)            [(None, 40)]         0                                            \n",
      "__________________________________________________________________________________________________\n",
      "embedding (Embedding)           (None, 40, 128)      2500864     input_1[0][0]                    \n",
      "__________________________________________________________________________________________________\n",
      "lstm (LSTM)                     [(None, 40, 256), (N 394240      embedding[0][0]                  \n",
      "__________________________________________________________________________________________________\n",
      "input_2 (InputLayer)            [(None, None)]       0                                            \n",
      "__________________________________________________________________________________________________\n",
      "lstm_1 (LSTM)                   [(None, 40, 256), (N 525312      lstm[0][0]                       \n",
      "__________________________________________________________________________________________________\n",
      "embedding_1 (Embedding)         (None, None, 128)    1060224     input_2[0][0]                    \n",
      "__________________________________________________________________________________________________\n",
      "lstm_2 (LSTM)                   [(None, 40, 256), (N 525312      lstm_1[0][0]                     \n",
      "__________________________________________________________________________________________________\n",
      "lstm_3 (LSTM)                   [(None, None, 256),  394240      embedding_1[0][0]                \n",
      "                                                                 lstm_2[0][1]                     \n",
      "                                                                 lstm_2[0][2]                     \n",
      "__________________________________________________________________________________________________\n",
      "dense (Dense)                   (None, None, 8283)   2128731     lstm_3[0][0]                     \n",
      "==================================================================================================\n",
      "Total params: 7,528,923\n",
      "Trainable params: 7,528,923\n",
      "Non-trainable params: 0\n",
      "__________________________________________________________________________________________________\n"
     ]
    }
   ],
   "source": [
    "# 디코더의 출력층\n",
    "decoder_softmax_layer = Dense(tar_vocab, activation = 'softmax')\n",
    "decoder_softmax_outputs = decoder_softmax_layer(decoder_outputs) \n",
    "\n",
    "# 모델 정의\n",
    "model = Model([encoder_inputs, decoder_inputs], decoder_softmax_outputs)\n",
    "model.summary()"
   ]
  },
  {
   "cell_type": "markdown",
   "metadata": {},
   "source": [
    "### 어텐션 메커니즘\n",
    "\n",
    "깃헙에서 공개되어있는 어텐션 함수를 다운로드 받아서 쓰겠습니다."
   ]
  },
  {
   "cell_type": "code",
   "execution_count": 51,
   "metadata": {},
   "outputs": [],
   "source": [
    "urllib.request.urlretrieve(\"https://raw.githubusercontent.com/thushv89/attention_keras/master/src/layers/attention.py\", filename=\"attention.py\")\n",
    "from attention import AttentionLayer"
   ]
  },
  {
   "cell_type": "markdown",
   "metadata": {},
   "source": [
    "다운받은걸 쓰기 때문에 디코더 출력층을 살짝 변경함"
   ]
  },
  {
   "cell_type": "code",
   "execution_count": 52,
   "metadata": {},
   "outputs": [
    {
     "name": "stdout",
     "output_type": "stream",
     "text": [
      "Model: \"model_1\"\n",
      "__________________________________________________________________________________________________\n",
      "Layer (type)                    Output Shape         Param #     Connected to                     \n",
      "==================================================================================================\n",
      "input_1 (InputLayer)            [(None, 40)]         0                                            \n",
      "__________________________________________________________________________________________________\n",
      "embedding (Embedding)           (None, 40, 128)      2500864     input_1[0][0]                    \n",
      "__________________________________________________________________________________________________\n",
      "lstm (LSTM)                     [(None, 40, 256), (N 394240      embedding[0][0]                  \n",
      "__________________________________________________________________________________________________\n",
      "input_2 (InputLayer)            [(None, None)]       0                                            \n",
      "__________________________________________________________________________________________________\n",
      "lstm_1 (LSTM)                   [(None, 40, 256), (N 525312      lstm[0][0]                       \n",
      "__________________________________________________________________________________________________\n",
      "embedding_1 (Embedding)         (None, None, 128)    1060224     input_2[0][0]                    \n",
      "__________________________________________________________________________________________________\n",
      "lstm_2 (LSTM)                   [(None, 40, 256), (N 525312      lstm_1[0][0]                     \n",
      "__________________________________________________________________________________________________\n",
      "lstm_3 (LSTM)                   [(None, None, 256),  394240      embedding_1[0][0]                \n",
      "                                                                 lstm_2[0][1]                     \n",
      "                                                                 lstm_2[0][2]                     \n",
      "__________________________________________________________________________________________________\n",
      "attention_layer (AttentionLayer ((None, None, 256),  131328      lstm_2[0][0]                     \n",
      "                                                                 lstm_3[0][0]                     \n",
      "__________________________________________________________________________________________________\n",
      "concat_layer (Concatenate)      (None, None, 512)    0           lstm_3[0][0]                     \n",
      "                                                                 attention_layer[0][0]            \n",
      "__________________________________________________________________________________________________\n",
      "dense_1 (Dense)                 (None, None, 8283)   4249179     concat_layer[0][0]               \n",
      "==================================================================================================\n",
      "Total params: 9,780,699\n",
      "Trainable params: 9,780,699\n",
      "Non-trainable params: 0\n",
      "__________________________________________________________________________________________________\n"
     ]
    }
   ],
   "source": [
    "# 어텐션 층(어텐션 함수)\n",
    "attn_layer = AttentionLayer(name='attention_layer')\n",
    "# 인코더와 디코더의 모든 time step의 hidden state를 어텐션 층에 전달하고 결과를 리턴\n",
    "attn_out, attn_states = attn_layer([encoder_outputs, decoder_outputs])\n",
    "\n",
    "# 어텐션의 결과와 디코더의 hidden state들을 연결\n",
    "decoder_concat_input = Concatenate(axis = -1, name='concat_layer')([decoder_outputs, attn_out])\n",
    "\n",
    "# 디코더의 출력층\n",
    "decoder_softmax_layer = Dense(tar_vocab, activation='softmax')\n",
    "decoder_softmax_outputs = decoder_softmax_layer(decoder_concat_input)\n",
    "\n",
    "# 모델 정의\n",
    "model = Model([encoder_inputs, decoder_inputs], decoder_softmax_outputs)\n",
    "model.summary()"
   ]
  },
  {
   "cell_type": "markdown",
   "metadata": {},
   "source": [
    "인코더의 hidden state들과 디코더의 hidden state들을 어텐션 함수의 입력으로 사용,          \n",
    "어텐션 함수가 리턴한 값을 예측 시에 디코더의 hidden state와 함께 활용하는 형태로 작동함"
   ]
  },
  {
   "cell_type": "markdown",
   "metadata": {},
   "source": [
    "### 모델 훈련하기"
   ]
  },
  {
   "cell_type": "code",
   "execution_count": 56,
   "metadata": {},
   "outputs": [
    {
     "name": "stdout",
     "output_type": "stream",
     "text": [
      "Epoch 1/50\n",
      "281/281 [==============================] - 112s 398ms/step - loss: 5.4894 - val_loss: 5.0921\n",
      "Epoch 2/50\n",
      "281/281 [==============================] - 109s 388ms/step - loss: 4.9518 - val_loss: 4.7430\n",
      "Epoch 3/50\n",
      "281/281 [==============================] - 110s 391ms/step - loss: 4.6026 - val_loss: 4.4559\n",
      "Epoch 4/50\n",
      "281/281 [==============================] - 108s 383ms/step - loss: 4.3269 - val_loss: 4.2605\n",
      "Epoch 5/50\n",
      "281/281 [==============================] - 105s 374ms/step - loss: 4.1210 - val_loss: 4.1488\n",
      "Epoch 6/50\n",
      "281/281 [==============================] - 106s 377ms/step - loss: 3.9582 - val_loss: 4.0188\n",
      "Epoch 7/50\n",
      "281/281 [==============================] - 108s 385ms/step - loss: 3.8199 - val_loss: 3.9332\n",
      "Epoch 8/50\n",
      "281/281 [==============================] - 102s 362ms/step - loss: 3.6964 - val_loss: 3.8598\n",
      "Epoch 9/50\n",
      "281/281 [==============================] - 101s 361ms/step - loss: 3.5862 - val_loss: 3.7980\n",
      "Epoch 10/50\n",
      "281/281 [==============================] - 102s 361ms/step - loss: 3.4866 - val_loss: 3.7462\n",
      "Epoch 11/50\n",
      "281/281 [==============================] - 104s 371ms/step - loss: 3.3989 - val_loss: 3.7003\n",
      "Epoch 12/50\n",
      "281/281 [==============================] - 105s 373ms/step - loss: 3.3191 - val_loss: 3.6740\n",
      "Epoch 13/50\n",
      "281/281 [==============================] - 100s 357ms/step - loss: 3.2463 - val_loss: 3.6402\n",
      "Epoch 14/50\n",
      "281/281 [==============================] - 100s 357ms/step - loss: 3.1770 - val_loss: 3.6116\n",
      "Epoch 15/50\n",
      "281/281 [==============================] - 100s 357ms/step - loss: 3.1145 - val_loss: 3.5938\n",
      "Epoch 16/50\n",
      "281/281 [==============================] - 100s 357ms/step - loss: 3.0557 - val_loss: 3.5692\n",
      "Epoch 17/50\n",
      "281/281 [==============================] - 101s 358ms/step - loss: 3.0033 - val_loss: 3.5532\n",
      "Epoch 18/50\n",
      "281/281 [==============================] - 102s 362ms/step - loss: 2.9531 - val_loss: 3.5450\n",
      "Epoch 19/50\n",
      "281/281 [==============================] - 101s 361ms/step - loss: 2.9046 - val_loss: 3.5438\n",
      "Epoch 20/50\n",
      "281/281 [==============================] - 102s 362ms/step - loss: 2.8611 - val_loss: 3.5204\n",
      "Epoch 21/50\n",
      "281/281 [==============================] - 102s 362ms/step - loss: 2.8209 - val_loss: 3.5162\n",
      "Epoch 22/50\n",
      "281/281 [==============================] - 102s 362ms/step - loss: 2.7812 - val_loss: 3.5048\n",
      "Epoch 23/50\n",
      "281/281 [==============================] - 102s 363ms/step - loss: 2.7452 - val_loss: 3.5004\n",
      "Epoch 24/50\n",
      "281/281 [==============================] - 102s 364ms/step - loss: 2.7089 - val_loss: 3.5010\n",
      "Epoch 25/50\n",
      "281/281 [==============================] - 102s 362ms/step - loss: 2.6754 - val_loss: 3.4952\n",
      "Epoch 26/50\n",
      "281/281 [==============================] - 101s 361ms/step - loss: 2.6396 - val_loss: 3.4913\n",
      "Epoch 27/50\n",
      "281/281 [==============================] - 103s 368ms/step - loss: 2.6074 - val_loss: 3.4796\n",
      "Epoch 28/50\n",
      "281/281 [==============================] - 105s 373ms/step - loss: 2.5786 - val_loss: 3.4819\n",
      "Epoch 29/50\n",
      "281/281 [==============================] - 105s 372ms/step - loss: 2.5538 - val_loss: 3.4880\n",
      "Epoch 00029: early stopping\n"
     ]
    }
   ],
   "source": [
    "model.compile(optimizer='rmsprop', loss='sparse_categorical_crossentropy')\n",
    "es = EarlyStopping(monitor='val_loss', mode='min', verbose=1, patience = 2)\n",
    "history = model.fit(x = [encoder_input_train, decoder_input_train], y = decoder_target_train, \\\n",
    "          validation_data = ([encoder_input_test, decoder_input_test], decoder_target_test),\n",
    "          batch_size = 256, callbacks=[es], epochs = 50)"
   ]
  },
  {
   "cell_type": "markdown",
   "metadata": {},
   "source": [
    "29 Epoch에서 early stop했습니다."
   ]
  },
  {
   "cell_type": "code",
   "execution_count": 54,
   "metadata": {},
   "outputs": [],
   "source": [
    "# from tensorflow.keras.models import load_model\n",
    "# # model.save('Abs_Summ_model.h5')"
   ]
  },
  {
   "cell_type": "code",
   "execution_count": 57,
   "metadata": {},
   "outputs": [
    {
     "data": {
      "image/png": "[encoded data removed]",
      "text/plain": [
       "<Figure size 432x288 with 1 Axes>"
      ]
     },
     "metadata": {
      "needs_background": "light"
     },
     "output_type": "display_data"
    }
   ],
   "source": [
    "plt.plot(history.history['loss'], label='train')\n",
    "plt.plot(history.history['val_loss'], label='test')\n",
    "plt.legend()\n",
    "plt.show()"
   ]
  },
  {
   "cell_type": "markdown",
   "metadata": {},
   "source": [
    "val_loss가 3.5부근에서 수렴하는것을 확인했습니다."
   ]
  },
  {
   "cell_type": "code",
   "execution_count": 58,
   "metadata": {},
   "outputs": [],
   "source": [
    "# model = load_model('Abs_Summ_model.h5')\n"
   ]
  },
  {
   "cell_type": "markdown",
   "metadata": {},
   "source": [
    "### 인퍼런스 모델 구현하기\n",
    "\n",
    "사전을 준비"
   ]
  },
  {
   "cell_type": "code",
   "execution_count": 59,
   "metadata": {},
   "outputs": [],
   "source": [
    "src_index_to_word = src_tokenizer.index_word # 원문 단어 집합에서 정수 -> 단어를 얻음\n",
    "tar_word_to_index = tar_tokenizer.word_index # 요약 단어 집합에서 단어 -> 정수를 얻음\n",
    "tar_index_to_word = tar_tokenizer.index_word # 요약 단어 집합에서 정수 -> 단어를 얻음"
   ]
  },
  {
   "cell_type": "code",
   "execution_count": 60,
   "metadata": {},
   "outputs": [],
   "source": [
    "# 인코더 설계\n",
    "encoder_model = Model(inputs=encoder_inputs, outputs=[encoder_outputs, state_h, state_c])\n",
    "\n",
    "# 이전 시점의 상태들을 저장하는 텐서\n",
    "decoder_state_input_h = Input(shape=(hidden_size,))\n",
    "decoder_state_input_c = Input(shape=(hidden_size,))\n",
    "\n",
    "dec_emb2 = dec_emb_layer(decoder_inputs)\n",
    "# 문장의 다음 단어를 예측하기 위해서 초기 상태(initial_state)를 이전 시점의 상태로 사용. 이는 뒤의 함수 decode_sequence()에 구현\n",
    "# 훈련 과정에서와 달리 LSTM의 리턴하는 은닉 상태와 셀 상태인 state_h와 state_c를 버리지 않음.\n",
    "decoder_outputs2, state_h2, state_c2 = decoder_lstm(dec_emb2, initial_state=[decoder_state_input_h, decoder_state_input_c])"
   ]
  },
  {
   "cell_type": "markdown",
   "metadata": {},
   "source": [
    "어텐션 메커니즘 사용하는 출력층 설계"
   ]
  },
  {
   "cell_type": "code",
   "execution_count": 61,
   "metadata": {},
   "outputs": [],
   "source": [
    "# 어텐션 함수\n",
    "decoder_hidden_state_input = Input(shape=(text_max_len, hidden_size))\n",
    "attn_out_inf, attn_states_inf = attn_layer([decoder_hidden_state_input, decoder_outputs2])\n",
    "decoder_inf_concat = Concatenate(axis=-1, name='concat')([decoder_outputs2, attn_out_inf])\n",
    "\n",
    "# 디코더의 출력층\n",
    "decoder_outputs2 = decoder_softmax_layer(decoder_inf_concat) \n",
    "\n",
    "# 최종 디코더 모델\n",
    "decoder_model = Model(\n",
    "    [decoder_inputs] + [decoder_hidden_state_input,decoder_state_input_h, decoder_state_input_c],\n",
    "    [decoder_outputs2] + [state_h2, state_c2])"
   ]
  },
  {
   "cell_type": "markdown",
   "metadata": {},
   "source": [
    "인퍼런스 단계에서 단어 시퀀스를 완성하는 함수"
   ]
  },
  {
   "cell_type": "code",
   "execution_count": 62,
   "metadata": {},
   "outputs": [],
   "source": [
    "def decode_sequence(input_seq):\n",
    "    # 입력으로부터 인코더의 상태를 얻음\n",
    "    e_out, e_h, e_c = encoder_model.predict(input_seq)\n",
    "\n",
    "     # <SOS>에 해당하는 토큰 생성\n",
    "    target_seq = np.zeros((1,1))\n",
    "    target_seq[0, 0] = tar_word_to_index['sostoken']\n",
    "\n",
    "    stop_condition = False\n",
    "    decoded_sentence = ''\n",
    "    while not stop_condition: # stop_condition이 True가 될 때까지 루프 반복\n",
    "\n",
    "        output_tokens, h, c = decoder_model.predict([target_seq] + [e_out, e_h, e_c])\n",
    "        sampled_token_index = np.argmax(output_tokens[0, -1, :])\n",
    "        sampled_token = tar_index_to_word[sampled_token_index]\n",
    "\n",
    "        if(sampled_token!='eostoken'):\n",
    "            decoded_sentence += ' '+sampled_token\n",
    "\n",
    "        #  <eos>에 도달하거나 최대 길이를 넘으면 중단.\n",
    "        if (sampled_token == 'eostoken'  or len(decoded_sentence.split()) >= (headlines_max_len-1)):\n",
    "            stop_condition = True\n",
    "\n",
    "        # 길이가 1인 타겟 시퀀스를 업데이트\n",
    "        target_seq = np.zeros((1,1))\n",
    "        target_seq[0, 0] = sampled_token_index\n",
    "\n",
    "        # 상태를 업데이트 합니다.\n",
    "        e_h, e_c = h, c\n",
    "\n",
    "    return decoded_sentence"
   ]
  },
  {
   "cell_type": "markdown",
   "metadata": {},
   "source": [
    "### 모델 테스트 하기 "
   ]
  },
  {
   "cell_type": "markdown",
   "metadata": {},
   "source": [
    "주어진 정수 시퀀스를 텍스트 시퀀스로 변환하는 함수"
   ]
  },
  {
   "cell_type": "code",
   "execution_count": 63,
   "metadata": {},
   "outputs": [],
   "source": [
    "# 원문의 정수 시퀀스를 텍스트 시퀀스로 변환\n",
    "def seq2text(input_seq):\n",
    "    temp=''\n",
    "    for i in input_seq:\n",
    "        if(i!=0):\n",
    "            temp = temp + src_index_to_word[i]+' '\n",
    "    return temp\n",
    "\n",
    "# 요약문의 정수 시퀀스를 텍스트 시퀀스로 변환\n",
    "def seq2summary(input_seq):\n",
    "    temp=''\n",
    "    for i in input_seq:\n",
    "        if((i!=0 and i!=tar_word_to_index['sostoken']) and i!=tar_word_to_index['eostoken']):\n",
    "            temp = temp + tar_index_to_word[i] + ' '\n",
    "    return temp"
   ]
  },
  {
   "cell_type": "markdown",
   "metadata": {},
   "source": [
    "## 실제 결과와 요약문 비교하기 (추상적 요약)"
   ]
  },
  {
   "cell_type": "code",
   "execution_count": 64,
   "metadata": {},
   "outputs": [
    {
     "name": "stdout",
     "output_type": "stream",
     "text": [
      "원문 : online food delivery startup swiggy planning add women food delivery fleet march identifying safe zones women personnel operate let complete deliveries pm startup said currently swiggy women delivering food across cities including ahmedabad kolkata mumbai pune \n",
      "실제 요약 : swiggy to hire women for food delivery by march \n",
      "예측 요약 :  swiggy launches service service in delhi\n",
      "\n",
      "\n",
      "원문 : social activist patkar fasting people displaced due sardar sarovar dam ended day long fast saturday broke fast dhar jail madhya pradesh detained past three days charged calling meeting district imposition section \n",
      "실제 요약 : bachao activist ends fast after days \n",
      "예측 요약 :  anna hazare missing after years since\n",
      "\n",
      "\n",
      "원문 : least people killed two separate landslides triggered heavy rains northwest china officials said wednesday government dispatched rescue workers help affected last month people killed landslides floods central province \n",
      "실제 요약 : killed in two landslides in china \n",
      "예측 요약 :  killed in iran floods in china\n",
      "\n",
      "\n",
      "원문 : rjd supremo lalu prasad yadav wednesday alleged bjp sponsored media conspiring malign image prominent opposition leaders like mayawati arvind kejriwal rahul gandhi mamata banerjee lalu prasad country witnessing era journalism hailed true journalism added \n",
      "실제 요약 : bjp media trying to key leaders image lalu \n",
      "예측 요약 :  lalu yadav is the ally lalu yadav\n",
      "\n",
      "\n",
      "원문 : life insurance plan provides cover glorious years lifetime tax benefits premiums paid benefits received play strategy need adopt order win game called life enter hall fame rounder leave behind secure legacy family \n",
      "실제 요약 : life insurance plan gives cover till age of yrs \n",
      "예측 요약 :  mercedes benz hikes to pay for free\n",
      "\n",
      "\n",
      "원문 : hollywood actress julia roberts named world beautiful woman record fifth time people magazine year old actress first featured cover magazine later went feature magazine cover said julia speaking title \n",
      "실제 요약 : named world most beautiful woman by people magazine \n",
      "예측 요약 :  wins world highest woman chhillar\n",
      "\n",
      "\n",
      "원문 : former wwe world champion john cena addressed rumours suggested would cast next captain america marvel avengers series captain america people listening watching right would totally said reports claimed cena would replace chris evans captain america upcoming film avengers \n",
      "실제 요약 : would totally do it john cena on playing captain america \n",
      "예측 요약 :  john cena denies his retirement to star in int cricket\n",
      "\n",
      "\n",
      "원문 : nicaragua president daniel ortega scrapped pension cuts following protests riots killed least people injured others establish order cannot allow groups impose chaos crime looting said nicaragua passed legislation last week increased pension contributions workers employers reduced overall benefits \n",
      "실제 요약 : president scraps pension cuts after riots kill \n",
      "예측 요약 :  zimbabwe prez clears death penalty for firing\n",
      "\n",
      "\n",
      "원문 : year old man along father brother allegedly beaten girlfriend family members uttar pradesh gifting mobile phone police officials said victims beaten slippers sticks panchayat tree branches police officials added victim filed complaint seven members girlfriend family \n",
      "실제 요약 : up man beaten by girlfriend family for her phone \n",
      "예측 요약 :  man kills yr old son for stealing to death in gurugram\n",
      "\n",
      "\n",
      "원문 : ministry external affairs wednesday informed lok sabha around fishermen lodged various jails pakistan sri lanka around fishermen custody pakistan sri lankan jails mos external affairs vk singh said singh however clarified pakistan acknowledged custody indian fishermen \n",
      "실제 요약 : around indian fishermen lodged in pak sl jails mea \n",
      "예측 요약 :  sri lanka fishermen sent to fishermen pakistan\n",
      "\n",
      "\n",
      "원문 : india women cricketer harmanpreet kaur asked narendra modi clothes designer side meeting runners finish women world cup modi reportedly said designer relied old tailor ahmedabad added tailor would earlier charge increased charges \n",
      "실제 요약 : harmanpreet asks pm modi if he has clothes designer \n",
      "예측 요약 :  indian women hockey team coach accused of wc final\n",
      "\n",
      "\n",
      "원문 : former india captain sunil gavaskar said wicketkeeper batsman ms dhoni getting younger still tremendous value team prayer critics please leave gentleman alone continue well gavaskar added dhoni slammed help india win second odi australia \n",
      "실제 요약 : dhoni tremendous value to team leave him alone gavaskar to critics \n",
      "예측 요약 :  dhoni should not be ms dhoni on dhoni gavaskar\n",
      "\n",
      "\n",
      "원문 : rishi kapoor watching vicky kaushal starrer uri surgical strike tweeted uri brought home point india nothing citizens pakistan terrorists trained camps us terrific warfare film perhaps best ever made india bravo let eye opener wrote film also stars yami gautam \n",
      "실제 요약 : uri shows india has nothing against citizens of pakistan rishi \n",
      "예측 요약 :  bhansali is no surgical strikes will be allowed to uri sonam\n",
      "\n",
      "\n",
      "원문 : six friends drowned car travelling fell dam district madhya pradesh sunday evening youths way birthday picnic driver lost control speeding car according reports villagers later spotted car floating dam informed police \n",
      "실제 요약 : friends on way to day drown as car falls into dam \n",
      "예측 요약 :  car falls off car after being crushed to escape car\n",
      "\n",
      "\n",
      "원문 : centre authorised agencies access decrypt information generated transmitted received stored computer west bengal chief minister mamata banerjee asked mean independence privacy added notification withdrawn misused earlier congress tweeted modi sarkar stalker sarkar \n",
      "실제 요약 : do we have no independence mamata on surveillance order \n",
      "예측 요약 :  centre not to be allowed to wb cm mamata\n",
      "\n",
      "\n",
      "원문 : new air traffic control tower london city airport located nearly kilometres away airport instead runway controllers airport watch live degree footage airfield set operated controllers able zoom track flights screen \n",
      "실제 요약 : air traffic control tower to be km away from uk airport \n",
      "예측 요약 :  flights at airport airport runway\n",
      "\n",
      "\n",
      "원문 : retail giant walmart friday said testing service silicon valley deliver groceries straight customers refrigerators walmart said partnering august home provider smart locks smart home accessories test service delivery drivers otp unlock house door put groceries refrigerator \n",
      "실제 요약 : walmart plans to deliver straight to user fridge \n",
      "예측 요약 :  walmart acquires flipkart services\n",
      "\n",
      "\n",
      "원문 : south korean electronics giant samsung trolled google releasing video quality screens galaxy smartphones comes users reported pixel xl screens turning grey within week device usage suggests burn samsung captioned video top tech reviewers share thoughts amazing galaxy screen \n",
      "실제 요약 : samsung trolls google over pixel xl screen burn in reports \n",
      "예측 요약 :  samsung tests pixel xl users in pixel xl\n",
      "\n",
      "\n",
      "원문 : two delhi teenagers arrested allegedly snatched phone order food free robbed cab driver vehicle said police two ordered food escaped without paying later abandoned car returned village dwarka arrested robbery victims informed police \n",
      "실제 요약 : delhi teens steal phone to order food rob car for \n",
      "예측 요약 :  delhi man arrested for drunken driving while driving\n",
      "\n",
      "\n",
      "원문 : swachh bharat abhiyan mascot bai passed away aged chhattisgarh raipur due prolonged illness state government selected mascot sold goats build toilets house bai efforts make village open defecation free pm narendra modi urged media spread story \n",
      "실제 요약 : yr old swachh bharat mascot passes away \n",
      "예측 요약 :  raj organises puja to be dies after independence day\n",
      "\n",
      "\n",
      "원문 : music festival organisers uk planning allow people test illegal drugs attempt reduce drug related deaths people able take drugs testing tent told drugs contents destroyed scheme tested last year people tested illegal drugs england \n",
      "실제 요약 : music may allow people to test illegal drugs \n",
      "예측 요약 :  uk to ban drug drug drug offenders in\n",
      "\n",
      "\n",
      "원문 : italian us automaker fiat chrysler filed complaint seeking block us sales mahindra indian automaker vehicle nearly identical copy iconic jeep design fiat chrysler said modelled original jeep claimed threatens substantial injury \n",
      "실제 요약 : fiat seeks to block mahindra jeep knock off in us \n",
      "예측 요약 :  us firm sues volkswagen for copying its product\n",
      "\n",
      "\n",
      "원문 : day deleting spacex tesla facebook pages startups ceo elon musk said political statement someone dared like facebook gives added musk deleted facebook pages user tweeted delete spacex page facebook man \n",
      "실제 요약 : did not delete facebook pages because someone me musk \n"
     ]
    },
    {
     "name": "stdout",
     "output_type": "stream",
     "text": [
      "예측 요약 :  musk says he is the reason to musk tim cook\n",
      "\n",
      "\n",
      "원문 : un appealed lakh crore humanitarian aid un agencies organisations said sum would used help crore people among world vulnerable billion needed address humanitarian syria yemen syria requiring billion aid alone \n",
      "실제 요약 : un appeals for record lakh crore aid in \n",
      "예측 요약 :  un to pay crore to aid for cr aid to aid\n",
      "\n",
      "\n",
      "원문 : hyderabad man employed saudi arabia riyadh announced talaq wife advertisement published urdu daily march unhappy spoken married front divorced front relatives said wife \n",
      "실제 요약 : man in wife in hyd through newspaper ad \n",
      "예측 요약 :  saudi man jailed for not giving husband to wife\n",
      "\n",
      "\n",
      "원문 : congress leader dk shivakumar claimed karnataka cm bs yeddyurappa resign ahead trust motion scheduled pm today said mla anand singh quit bjp join congress january vote congress floor test comes reports claimed yeddyurappa meet governor vajubhai vala saturday resign \n",
      "실제 요약 : cm yeddyurappa will resign before trust vote cong leader \n",
      "예측 요약 :  karnataka cm denies reports of congress mlas\n",
      "\n",
      "\n",
      "원문 : pm narendra modi wednesday tweeted images celebrating diwali soldiers uttarakhand tagged israeli pm benjamin netanyahu caption dear pm promised yesterday celebrated diwali netanyahu tuesday tweeted reply tweet name city celebrating \n",
      "실제 요약 : pm modi shares diwali pics with israeli pm after he promised to \n",
      "예측 요약 :  pm modi wishes israel on diwali with israel pm modi\n",
      "\n",
      "\n",
      "원문 : taiwanese contract manufacturer foxconn reportedly begin assembling top end iphones india plant tamil nadu foxconn invest crore expand plant including investment iphone production tamil nadu industries minister mc sampath said apple assembled se models india local unit bengaluru \n",
      "실제 요약 : foxconn may begin top end iphones in india in \n",
      "예측 요약 :  to invest in indian startups in up\n",
      "\n",
      "\n",
      "원문 : opening ceremony upcoming indian premier league scheduled held april moved april decision taken committee administrators also reduced budget ceremony crore crore venue changed cci wankhede stadium mumbai \n",
      "실제 요약 : ipl opening postponed to apr budget cut by crore \n",
      "예측 요약 :  what is the cl winners in the ipl\n",
      "\n",
      "\n",
      "원문 : us president donald trump got confused group handshake aimed showing unity asean summit philippines capital manila trump failed whose hands supposed holding broke chain us president used hands fingers vietnamese prime minister \n",
      "실제 요약 : trump gets confused while doing the asean group handshake \n",
      "예측 요약 :  trump calls for trump\n",
      "\n",
      "\n",
      "원문 : transformers actor shia labeouf apologised twitter hurling insults policemen arrested charges disorderly conduct public saturday apology comes videos actor verbally abusing policemen posted online accused police racist also threatened saying several millionaire lawyers \n",
      "실제 요약 : shia apologises for insulting cops who arrested him \n",
      "예측 요약 :  apologises for alleged assaulting woman\n",
      "\n",
      "\n",
      "원문 : year old boy kidnapped murdered punjab friend accomplice police said accused demanded crore boy family later reduced lakh trap set caught following confessed slitting boy throat revealed wanted make easy money \n",
      "실제 요약 : year old kidnapped by friend for easy money murdered \n",
      "예측 요약 :  year old boy killed for duping yr old boy\n",
      "\n",
      "\n",
      "원문 : talking anushka sharma look sanju director rajkumar hirani said anushka used joke saying sir like hair keep putting head added playing comes london hirani said wanted look indian stayed london brought \n",
      "실제 요약 : anushka jokingly told me you do not like my hair hirani \n",
      "예측 요약 :  anushka is not always being made anushka\n",
      "\n",
      "\n",
      "원문 : french farmer letters help wheat field urging government improve conditions agricultural sector adding farmers successive seasons bad weather conditions last four years farmer said deaf anger hope blind read message \n",
      "실제 요약 : french farmer message of in field \n",
      "예측 요약 :  cows not to be in power incidents\n",
      "\n",
      "\n",
      "원문 : south delhi municipal corporation friday approved proposal impose fine people cleaning dogs excreta public places including roads parks excreta left open causes health risks masses officials said policy expected formed implemented april end \n",
      "실제 요약 : dog owners to pay fine for not lifting poop from delhi roads \n",
      "예측 요약 :  delhi to ban baggage to curb alcohol\n",
      "\n",
      "\n",
      "원문 : paris sewer museum situated habib allows tourists follow history paris initial development late th century modern day sewer system interestingly first opened visitors could explored wagons boats \n",
      "실제 요약 : paris has museum of \n",
      "예측 요약 :  paris to get floating bridge in paris\n",
      "\n",
      "\n",
      "원문 : singer ed sheeran revealed quit twitter slammed cameo seventh season hbo television series game thrones game thrones hell would worry people thought timing coincidence believe want wrote sheeran instagram post \n",
      "실제 요약 : did not quit twitter after on got cameo sheeran \n",
      "예측 요약 :  sheeran sheeran got on game of thrones season\n",
      "\n",
      "\n",
      "원문 : government think tank niti aayog recommended non performing government schools handed private sector reporting enrolment numbers falling government schools increasing private schools niti aayog suggested exploring idea private sector government schools publicly funded per child basis \n",
      "실제 요약 : pvt sector may be given non performing govt schools panel \n",
      "예측 요약 :  govt to charge schools for schools schools\n",
      "\n",
      "\n",
      "원문 : year old clay tablet discovered turkey identified marriage contract first known remedy infertility record states wife allow husband hire surrogate couple conceive within two years marriage slave would freed giving birth first male baby added \n",
      "실제 요약 : oldest record yet found in year old \n",
      "예측 요약 :  year old becomes st woman to give wife to marry wife\n",
      "\n",
      "\n",
      "원문 : australian cricketer david warner issued public apology involvement ball tampering south africa saying game love warner instructed team youngest member cameron bancroft carry plan banned international domestic cricket year leading australian team ever \n",
      "실제 요약 : it is on game warner apologises for ball tampering \n",
      "예측 요약 :  warner warner to be tampering in australia\n",
      "\n",
      "\n",
      "원문 : pope francis said pray sometimes fall asleep adding christians feel like children lying fathers arms claiming saints also known sleep praying pope said th century french nun saint pope sleeps pm every night wakes \n",
      "실제 요약 : pope francis says he sometimes falls asleep while \n",
      "예측 요약 :  pope francis is the children pope francis\n",
      "\n",
      "\n",
      "원문 : politicians attending debate electricity parliament burst laughter mp started listing villages constituency named sad penis fool vagina wise video debate shows several mps slapping tables others seen wiping tears \n",
      "실제 요약 : ghana mps burst into over villages named after genitals \n",
      "예측 요약 :  egypt to protest against mp for raping hindu\n",
      "\n",
      "\n",
      "원문 : bombay high court wednesday declared arrest pnb scam accused kavita cbi illegal taken custody sunset law says woman shall arrested sunset nirav modi executive assistant authorised three group firms \n",
      "실제 요약 : pnb scam accused arrest after illegal bombay hc \n",
      "예측 요약 :  cbi to probe into jail for fraud accused in pnb scam\n",
      "\n",
      "\n",
      "원문 : note recovered delhi burari house family members found dead sunday reads last wish earth reads chant vigorously come bring also help bring others notably bodies found hanging another floor house \n",
      "실제 요약 : earth will will bring you down note from delhi house \n",
      "예측 요약 :  body of burari family found dead in delhi\n",
      "\n",
      "\n",
      "원문 : asia billionaires world surpassing us first time according report ubs pwc number billionaires asia rose whereas us added billionaires total however us billionaires still control wealth trillion \n",
      "실제 요약 : asia now has more billionaires than the us for first time \n",
      "예측 요약 :  world richest man has world most powerful survey\n",
      "\n",
      "\n",
      "원문 : homegrown taxi aggregator ola may sign memorandum understanding assam government river taxi service state according reports conduct experiments ascertain water behaviour brahmaputra beginning service state transport minister chandra mohan said also night navigation system place added \n",
      "실제 요약 : ola may tie up with assam government for river taxi service \n",
      "예측 요약 :  ola uber to invest crore in vehicles\n",
      "\n",
      "\n",
      "원문 : many aircraft indian air force including sukhoi made touchdown lucknow agra expressway drill tuesday drill part government plan identify highways used runways emergencies like disaster relief humanitarian assistance war conflict situations \n",
      "실제 요약 : iaf aircraft on lucknow agra expressway for drill \n"
     ]
    },
    {
     "name": "stdout",
     "output_type": "stream",
     "text": [
      "예측 요약 :  air india express express to be launched in\n",
      "\n",
      "\n",
      "원문 : former australia captain michael clarke said team india captain virat kohli greatest batsman ever played odi cricket doubts seeing achieved india year old world cup winning captain added kohli aggression one question commitment much achieved clarke said \n",
      "실제 요약 : kohli is the greatest batsman to have played odi cricket clarke \n",
      "예측 요약 :  kohli has been good for the world cup clarke\n",
      "\n",
      "\n",
      "원문 : bjp wednesday called two day protests kerala two women age entered sabarimala temple kerala bjp president ps sreedharan pillai called entry conspiracy rulers destroy hindu temples however asked devotees get carried away register protest democratic means \n",
      "실제 요약 : bjp calls for protests after women below enter sabarimala \n",
      "예측 요약 :  women protest for sabarimala temple in sabarimala bjp\n",
      "\n",
      "\n",
      "원문 : australian detained us visa minutes freed two weeks imprisonment five year visa requiring leave every six months arrested american officials tried entering canada fulfil visa requirements whose girlfriend lives america says hold grudge love america \n",
      "실제 요약 : man detained for us visa by minutes freed \n",
      "예측 요약 :  us embassy jailed for visa in uae\n",
      "\n",
      "\n"
     ]
    }
   ],
   "source": [
    "for i in range(50, 100):\n",
    "    print(\"원문 :\", seq2text(encoder_input_test[i]))\n",
    "    print(\"실제 요약 :\", seq2summary(decoder_input_test[i]))\n",
    "    print(\"예측 요약 :\", decode_sequence(encoder_input_test[i].reshape(1, text_max_len)))\n",
    "    print(\"\\n\")"
   ]
  },
  {
   "cell_type": "markdown",
   "metadata": {},
   "source": [
    "예측이 놀랄만큼 잘된것도있고 좋지못한 것도 있습니다."
   ]
  },
  {
   "cell_type": "markdown",
   "metadata": {},
   "source": [
    "## Summa을 이용해서 추출적 요약해보기"
   ]
  },
  {
   "cell_type": "code",
   "execution_count": 65,
   "metadata": {},
   "outputs": [],
   "source": [
    "from summa.summarizer import summarize"
   ]
  },
  {
   "cell_type": "markdown",
   "metadata": {},
   "source": [
    "Summa의 summarize()의 인자로 사용되는 값들\n",
    "\n",
    "text (str) : 요약할 테스트.                  \n",
    "ratio (float, optional) – 요약문에서 원본에서 선택되는 문장 비율. 0~1 사이값                    \n",
    "words (int or None, optional) – 출력에 포함할 단어 수.                                              \n",
    "만약, ratio와 함께 두 파라미터가 모두 제공되는 경우 ratio는 무시한다.                     \n",
    "split (bool, optional) – True면 문장 list / False는 조인(join)된 문자열을 반환                  "
   ]
  },
  {
   "cell_type": "markdown",
   "metadata": {},
   "source": [
    "**단 summa의 summarize가 사용하는 text Rank 기법은 문장 안의 단어를 사용하여 문장의 ranking을 계산하는 방법입니다.      \n",
    "즉 우리의 글이 여러 문장으로 나뉘어져 있어야 추출적 요약이 가능합니다.**\n",
    "\n",
    "그렇기 때문에 저는 이미 전처리된 text의 단어마다 7번째마다 .을 찍는것으로 문장화 시켰습니다.\n",
    "\n",
    "이는 임의적인 방법이기때문에 문법이나 추출에 있어서 성능을 매우 떨어트릴것같습니다."
   ]
  },
  {
   "cell_type": "markdown",
   "metadata": {},
   "source": [
    "## 추상적 요약과 추출적 요약의 비교\n",
    "두 요약 결과를 문법완성도 측면과 핵심단어 포함 측면으로 나누어 비교분석 결과를 제시해보겠습니다."
   ]
  },
  {
   "cell_type": "code",
   "execution_count": 157,
   "metadata": {
    "scrolled": false
   },
   "outputs": [
    {
     "name": "stdout",
     "output_type": "stream",
     "text": [
      "원문 : online food delivery startup swiggy planning add women food delivery fleet march identifying safe zones women personnel operate let complete deliveries pm startup said currently swiggy women delivering food across cities including ahmedabad kolkata mumbai pune \n",
      "\n",
      "\n",
      "실제 요약 : swiggy to hire women for food delivery by march \n",
      "\n",
      "\n",
      "추상적 요약 :  swiggy launches service service in delhi\n",
      "\n",
      "\n",
      "추출적 요약: online food delivery startup .\n",
      "swiggy planning add women food .\n",
      "\n",
      "\n",
      "원문 : social activist patkar fasting people displaced due sardar sarovar dam ended day long fast saturday broke fast dhar jail madhya pradesh detained past three days charged calling meeting district imposition section \n",
      "\n",
      "\n",
      "실제 요약 : bachao activist ends fast after days \n",
      "\n",
      "\n",
      "추상적 요약 :  anna hazare missing after years since\n",
      "\n",
      "\n",
      "추출적 요약: social activist patkar fasting .\n",
      "dam ended day long fast .\n",
      "\n",
      "\n",
      "원문 : least people killed two separate landslides triggered heavy rains northwest china officials said wednesday government dispatched rescue workers help affected last month people killed landslides floods central province \n",
      "\n",
      "\n",
      "실제 요약 : killed in two landslides in china \n",
      "\n",
      "\n",
      "추상적 요약 :  killed in iran floods in china\n",
      "\n",
      "\n",
      "추출적 요약: least people killed two .\n",
      "affected last month people killed .\n",
      "\n",
      "\n",
      "원문 : rjd supremo lalu prasad yadav wednesday alleged bjp sponsored media conspiring malign image prominent opposition leaders like mayawati arvind kejriwal rahul gandhi mamata banerjee lalu prasad country witnessing era journalism hailed true journalism added \n",
      "\n",
      "\n",
      "실제 요약 : bjp media trying to key leaders image lalu \n",
      "\n",
      "\n",
      "추상적 요약 :  lalu yadav is the ally lalu yadav\n",
      "\n",
      "\n",
      "추출적 요약: rjd supremo lalu prasad .\n",
      "lalu prasad country witnessing era .\n",
      "\n",
      "\n",
      "원문 : life insurance plan provides cover glorious years lifetime tax benefits premiums paid benefits received play strategy need adopt order win game called life enter hall fame rounder leave behind secure legacy family \n",
      "\n",
      "\n",
      "실제 요약 : life insurance plan gives cover till age of yrs \n",
      "\n",
      "\n",
      "추상적 요약 :  mercedes benz hikes to pay for free\n",
      "\n",
      "\n",
      "추출적 요약: life insurance plan provides .\n",
      "win game called life enter .\n",
      "\n",
      "\n",
      "원문 : hollywood actress julia roberts named world beautiful woman record fifth time people magazine year old actress first featured cover magazine later went feature magazine cover said julia speaking title \n",
      "\n",
      "\n",
      "실제 요약 : named world most beautiful woman by people magazine \n",
      "\n",
      "\n",
      "추상적 요약 :  wins world highest woman chhillar\n",
      "\n",
      "\n",
      "추출적 요약: old actress first featured cover .\n",
      "magazine later went feature magazine .\n",
      "\n",
      "\n",
      "원문 : former wwe world champion john cena addressed rumours suggested would cast next captain america marvel avengers series captain america people listening watching right would totally said reports claimed cena would replace chris evans captain america upcoming film avengers \n",
      "\n",
      "\n",
      "실제 요약 : would totally do it john cena on playing captain america \n",
      "\n",
      "\n",
      "추상적 요약 :  john cena denies his retirement to star in int cricket\n",
      "\n",
      "\n",
      "추출적 요약: john cena addressed rumours suggested .\n",
      "totally said reports claimed cena .\n",
      "\n",
      "\n",
      "원문 : nicaragua president daniel ortega scrapped pension cuts following protests riots killed least people injured others establish order cannot allow groups impose chaos crime looting said nicaragua passed legislation last week increased pension contributions workers employers reduced overall benefits \n",
      "\n",
      "\n",
      "실제 요약 : president scraps pension cuts after riots kill \n",
      "\n",
      "\n",
      "추상적 요약 :  zimbabwe prez clears death penalty for firing\n",
      "\n",
      "\n",
      "추출적 요약: nicaragua president daniel ortega .\n",
      "said nicaragua passed legislation last .\n",
      "\n",
      "\n",
      "원문 : year old man along father brother allegedly beaten girlfriend family members uttar pradesh gifting mobile phone police officials said victims beaten slippers sticks panchayat tree branches police officials added victim filed complaint seven members girlfriend family \n",
      "\n",
      "\n",
      "실제 요약 : up man beaten by girlfriend family for her phone \n",
      "\n",
      "\n",
      "추상적 요약 :  man kills yr old son for stealing to death in gurugram\n",
      "\n",
      "\n",
      "추출적 요약: father brother allegedly beaten girlfriend .\n",
      "girlfriend family\n",
      "\n",
      "\n",
      "원문 : ministry external affairs wednesday informed lok sabha around fishermen lodged various jails pakistan sri lanka around fishermen custody pakistan sri lankan jails mos external affairs vk singh said singh however clarified pakistan acknowledged custody indian fishermen \n",
      "\n",
      "\n",
      "실제 요약 : around indian fishermen lodged in pak sl jails mea \n",
      "\n",
      "\n",
      "추상적 요약 :  sri lanka fishermen sent to fishermen pakistan\n",
      "\n",
      "\n",
      "추출적 요약: lodged various jails pakistan sri .\n",
      "lanka around fishermen custody pakistan .\n",
      "\n",
      "\n",
      "원문 : india women cricketer harmanpreet kaur asked narendra modi clothes designer side meeting runners finish women world cup modi reportedly said designer relied old tailor ahmedabad added tailor would earlier charge increased charges \n",
      "\n",
      "\n",
      "실제 요약 : harmanpreet asks pm modi if he has clothes designer \n",
      "\n",
      "\n",
      "추상적 요약 :  indian women hockey team coach accused of wc final\n",
      "\n",
      "\n",
      "추출적 요약: india women cricketer harmanpreet .\n",
      "kaur asked narendra modi clothes .\n",
      "\n",
      "\n",
      "원문 : former india captain sunil gavaskar said wicketkeeper batsman ms dhoni getting younger still tremendous value team prayer critics please leave gentleman alone continue well gavaskar added dhoni slammed help india win second odi australia \n",
      "\n",
      "\n",
      "실제 요약 : dhoni tremendous value to team leave him alone gavaskar to critics \n",
      "\n",
      "\n",
      "추상적 요약 :  dhoni should not be ms dhoni on dhoni gavaskar\n",
      "\n",
      "\n",
      "추출적 요약: former india captain sunil .\n",
      "india win second odi australia .\n",
      "\n",
      "\n",
      "원문 : rishi kapoor watching vicky kaushal starrer uri surgical strike tweeted uri brought home point india nothing citizens pakistan terrorists trained camps us terrific warfare film perhaps best ever made india bravo let eye opener wrote film also stars yami gautam \n",
      "\n",
      "\n",
      "실제 요약 : uri shows india has nothing against citizens of pakistan rishi \n",
      "\n",
      "\n",
      "추상적 요약 :  bhansali is no surgical strikes will be allowed to uri sonam\n",
      "\n",
      "\n",
      "추출적 요약: kaushal starrer uri surgical strike .\n",
      "tweeted uri brought home point .\n",
      "\n",
      "\n",
      "원문 : six friends drowned car travelling fell dam district madhya pradesh sunday evening youths way birthday picnic driver lost control speeding car according reports villagers later spotted car floating dam informed police \n",
      "\n",
      "\n",
      "실제 요약 : friends on way to day drown as car falls into dam \n",
      "\n",
      "\n",
      "추상적 요약 :  car falls off car after being crushed to escape car\n",
      "\n",
      "\n",
      "추출적 요약: six friends drowned car .\n",
      "later spotted car floating dam .\n",
      "\n",
      "\n",
      "원문 : centre authorised agencies access decrypt information generated transmitted received stored computer west bengal chief minister mamata banerjee asked mean independence privacy added notification withdrawn misused earlier congress tweeted modi sarkar stalker sarkar \n",
      "\n",
      "\n",
      "실제 요약 : do we have no independence mamata on surveillance order \n",
      "\n",
      "\n",
      "추상적 요약 :  centre not to be allowed to wb cm mamata\n",
      "\n",
      "\n",
      "추출적 요약: centre authorised agencies access .\n",
      "sarkar stalker sarkar\n",
      "\n",
      "\n",
      "원문 : new air traffic control tower london city airport located nearly kilometres away airport instead runway controllers airport watch live degree footage airfield set operated controllers able zoom track flights screen \n",
      "\n",
      "\n",
      "실제 요약 : air traffic control tower to be km away from uk airport \n",
      "\n",
      "\n",
      "추상적 요약 :  flights at airport airport runway\n",
      "\n",
      "\n",
      "추출적 요약: new air traffic control .\n",
      "runway controllers airport watch live .\n",
      "\n",
      "\n",
      "원문 : retail giant walmart friday said testing service silicon valley deliver groceries straight customers refrigerators walmart said partnering august home provider smart locks smart home accessories test service delivery drivers otp unlock house door put groceries refrigerator \n",
      "\n",
      "\n",
      "실제 요약 : walmart plans to deliver straight to user fridge \n",
      "\n",
      "\n",
      "추상적 요약 :  walmart acquires flipkart services\n",
      "\n",
      "\n",
      "추출적 요약: said testing service silicon valley .\n",
      "walmart said partnering august home .\n",
      "\n",
      "\n",
      "원문 : south korean electronics giant samsung trolled google releasing video quality screens galaxy smartphones comes users reported pixel xl screens turning grey within week device usage suggests burn samsung captioned video top tech reviewers share thoughts amazing galaxy screen \n",
      "\n",
      "\n",
      "실제 요약 : samsung trolls google over pixel xl screen burn in reports \n",
      "\n",
      "\n",
      "추상적 요약 :  samsung tests pixel xl users in pixel xl\n",
      "\n",
      "\n",
      "추출적 요약: samsung trolled google releasing video .\n",
      "video top tech reviewers share .\n",
      "\n",
      "\n",
      "원문 : two delhi teenagers arrested allegedly snatched phone order food free robbed cab driver vehicle said police two ordered food escaped without paying later abandoned car returned village dwarka arrested robbery victims informed police \n",
      "\n",
      "\n",
      "실제 요약 : delhi teens steal phone to order food rob car for \n",
      "\n",
      "\n"
     ]
    },
    {
     "name": "stdout",
     "output_type": "stream",
     "text": [
      "추상적 요약 :  delhi man arrested for drunken driving while driving\n",
      "\n",
      "\n",
      "추출적 요약: two delhi teenagers arrested .\n",
      "car returned village dwarka arrested .\n",
      "\n",
      "\n",
      "원문 : swachh bharat abhiyan mascot bai passed away aged chhattisgarh raipur due prolonged illness state government selected mascot sold goats build toilets house bai efforts make village open defecation free pm narendra modi urged media spread story \n",
      "\n",
      "\n",
      "실제 요약 : yr old swachh bharat mascot passes away \n",
      "\n",
      "\n",
      "추상적 요약 :  raj organises puja to be dies after independence day\n",
      "\n",
      "\n",
      "추출적 요약: swachh bharat abhiyan mascot .\n",
      "government selected mascot sold goats .\n",
      "\n",
      "\n",
      "원문 : music festival organisers uk planning allow people test illegal drugs attempt reduce drug related deaths people able take drugs testing tent told drugs contents destroyed scheme tested last year people tested illegal drugs england \n",
      "\n",
      "\n",
      "실제 요약 : music may allow people to test illegal drugs \n",
      "\n",
      "\n",
      "추상적 요약 :  uk to ban drug drug drug offenders in\n",
      "\n",
      "\n",
      "추출적 요약: testing tent told drugs contents .\n",
      "people tested illegal drugs england .\n",
      "\n",
      "\n",
      "원문 : italian us automaker fiat chrysler filed complaint seeking block us sales mahindra indian automaker vehicle nearly identical copy iconic jeep design fiat chrysler said modelled original jeep claimed threatens substantial injury \n",
      "\n",
      "\n",
      "실제 요약 : fiat seeks to block mahindra jeep knock off in us \n",
      "\n",
      "\n",
      "추상적 요약 :  us firm sues volkswagen for copying its product\n",
      "\n",
      "\n",
      "추출적 요약: italian us automaker fiat .\n",
      "jeep design fiat chrysler said .\n",
      "\n",
      "\n",
      "원문 : day deleting spacex tesla facebook pages startups ceo elon musk said political statement someone dared like facebook gives added musk deleted facebook pages user tweeted delete spacex page facebook man \n",
      "\n",
      "\n",
      "실제 요약 : did not delete facebook pages because someone me musk \n",
      "\n",
      "\n",
      "추상적 요약 :  musk says he is the reason to musk tim cook\n",
      "\n",
      "\n",
      "추출적 요약: musk deleted facebook pages user .\n",
      "tweeted delete spacex page facebook .\n",
      "\n",
      "\n",
      "원문 : un appealed lakh crore humanitarian aid un agencies organisations said sum would used help crore people among world vulnerable billion needed address humanitarian syria yemen syria requiring billion aid alone \n",
      "\n",
      "\n",
      "실제 요약 : un appeals for record lakh crore aid in \n",
      "\n",
      "\n",
      "추상적 요약 :  un to pay crore to aid for cr aid to aid\n",
      "\n",
      "\n",
      "추출적 요약: un appealed lakh crore .\n",
      "crore people among world vulnerable .\n",
      "\n",
      "\n",
      "원문 : hyderabad man employed saudi arabia riyadh announced talaq wife advertisement published urdu daily march unhappy spoken married front divorced front relatives said wife \n",
      "\n",
      "\n",
      "실제 요약 : man in wife in hyd through newspaper ad \n",
      "\n",
      "\n",
      "추상적 요약 :  saudi man jailed for not giving husband to wife\n",
      "\n",
      "\n",
      "추출적 요약: arabia riyadh announced talaq wife .\n",
      "front relatives said wife\n",
      "\n",
      "\n",
      "원문 : congress leader dk shivakumar claimed karnataka cm bs yeddyurappa resign ahead trust motion scheduled pm today said mla anand singh quit bjp join congress january vote congress floor test comes reports claimed yeddyurappa meet governor vajubhai vala saturday resign \n",
      "\n",
      "\n",
      "실제 요약 : cm yeddyurappa will resign before trust vote cong leader \n",
      "\n",
      "\n",
      "추상적 요약 :  karnataka cm denies reports of congress mlas\n",
      "\n",
      "\n",
      "추출적 요약: congress leader dk shivakumar .\n",
      "singh quit bjp join congress .\n",
      "\n",
      "\n",
      "원문 : pm narendra modi wednesday tweeted images celebrating diwali soldiers uttarakhand tagged israeli pm benjamin netanyahu caption dear pm promised yesterday celebrated diwali netanyahu tuesday tweeted reply tweet name city celebrating \n",
      "\n",
      "\n",
      "실제 요약 : pm modi shares diwali pics with israeli pm after he promised to \n",
      "\n",
      "\n",
      "추상적 요약 :  pm modi wishes israel on diwali with israel pm modi\n",
      "\n",
      "\n",
      "추출적 요약: tweeted images celebrating diwali soldiers .\n",
      "yesterday celebrated diwali netanyahu tuesday .\n",
      "\n",
      "\n",
      "원문 : taiwanese contract manufacturer foxconn reportedly begin assembling top end iphones india plant tamil nadu foxconn invest crore expand plant including investment iphone production tamil nadu industries minister mc sampath said apple assembled se models india local unit bengaluru \n",
      "\n",
      "\n",
      "실제 요약 : foxconn may begin top end iphones in india in \n",
      "\n",
      "\n",
      "추상적 요약 :  to invest in indian startups in up\n",
      "\n",
      "\n",
      "추출적 요약: iphones india plant tamil nadu .\n",
      "foxconn invest crore expand plant .\n",
      "\n",
      "\n",
      "원문 : opening ceremony upcoming indian premier league scheduled held april moved april decision taken committee administrators also reduced budget ceremony crore crore venue changed cci wankhede stadium mumbai \n",
      "\n",
      "\n",
      "실제 요약 : ipl opening postponed to apr budget cut by crore \n",
      "\n",
      "\n",
      "추상적 요약 :  what is the cl winners in the ipl\n",
      "\n",
      "\n",
      "추출적 요약: opening ceremony upcoming indian .\n",
      "administrators also reduced budget ceremony .\n",
      "\n",
      "\n",
      "원문 : us president donald trump got confused group handshake aimed showing unity asean summit philippines capital manila trump failed whose hands supposed holding broke chain us president used hands fingers vietnamese prime minister \n",
      "\n",
      "\n",
      "실제 요약 : trump gets confused while doing the asean group handshake \n",
      "\n",
      "\n",
      "추상적 요약 :  trump calls for trump\n",
      "\n",
      "\n",
      "추출적 요약: us president donald trump .\n",
      "us president used hands fingers .\n",
      "\n",
      "\n",
      "원문 : transformers actor shia labeouf apologised twitter hurling insults policemen arrested charges disorderly conduct public saturday apology comes videos actor verbally abusing policemen posted online accused police racist also threatened saying several millionaire lawyers \n",
      "\n",
      "\n",
      "실제 요약 : shia apologises for insulting cops who arrested him \n",
      "\n",
      "\n",
      "추상적 요약 :  apologises for alleged assaulting woman\n",
      "\n",
      "\n",
      "추출적 요약: transformers actor shia labeouf .\n",
      "saturday apology comes videos actor .\n",
      "\n",
      "\n",
      "원문 : year old boy kidnapped murdered punjab friend accomplice police said accused demanded crore boy family later reduced lakh trap set caught following confessed slitting boy throat revealed wanted make easy money \n",
      "\n",
      "\n",
      "실제 요약 : year old kidnapped by friend for easy money murdered \n",
      "\n",
      "\n",
      "추상적 요약 :  year old boy killed for duping yr old boy\n",
      "\n",
      "\n",
      "추출적 요약: year old boy kidnapped .\n",
      "said accused demanded crore boy .\n",
      "\n",
      "\n",
      "원문 : talking anushka sharma look sanju director rajkumar hirani said anushka used joke saying sir like hair keep putting head added playing comes london hirani said wanted look indian stayed london brought \n",
      "\n",
      "\n",
      "실제 요약 : anushka jokingly told me you do not like my hair hirani \n",
      "\n",
      "\n",
      "추상적 요약 :  anushka is not always being made anushka\n",
      "\n",
      "\n",
      "추출적 요약: talking anushka sharma look .\n",
      "added playing comes london hirani .\n",
      "\n",
      "\n",
      "원문 : french farmer letters help wheat field urging government improve conditions agricultural sector adding farmers successive seasons bad weather conditions last four years farmer said deaf anger hope blind read message \n",
      "\n",
      "\n",
      "실제 요약 : french farmer message of in field \n",
      "\n",
      "\n",
      "추상적 요약 :  cows not to be in power incidents\n",
      "\n",
      "\n",
      "추출적 요약: conditions agricultural sector adding farmers .\n",
      "last four years farmer said .\n",
      "\n",
      "\n",
      "원문 : south delhi municipal corporation friday approved proposal impose fine people cleaning dogs excreta public places including roads parks excreta left open causes health risks masses officials said policy expected formed implemented april end \n",
      "\n",
      "\n",
      "실제 요약 : dog owners to pay fine for not lifting poop from delhi roads \n",
      "\n",
      "\n",
      "추상적 요약 :  delhi to ban baggage to curb alcohol\n",
      "\n",
      "\n",
      "추출적 요약: people cleaning dogs excreta public .\n",
      "places including roads parks excreta .\n",
      "\n",
      "\n",
      "원문 : paris sewer museum situated habib allows tourists follow history paris initial development late th century modern day sewer system interestingly first opened visitors could explored wagons boats \n",
      "\n",
      "\n",
      "실제 요약 : paris has museum of \n",
      "\n",
      "\n",
      "추상적 요약 :  paris to get floating bridge in paris\n",
      "\n",
      "\n",
      "추출적 요약: paris sewer museum situated .\n",
      "century modern day sewer system .\n",
      "\n",
      "\n",
      "원문 : singer ed sheeran revealed quit twitter slammed cameo seventh season hbo television series game thrones game thrones hell would worry people thought timing coincidence believe want wrote sheeran instagram post \n",
      "\n",
      "\n",
      "실제 요약 : did not quit twitter after on got cameo sheeran \n",
      "\n",
      "\n",
      "추상적 요약 :  sheeran sheeran got on game of thrones season\n",
      "\n",
      "\n",
      "추출적 요약: singer ed sheeran revealed .\n",
      "believe want wrote sheeran instagram .\n",
      "\n",
      "\n",
      "원문 : government think tank niti aayog recommended non performing government schools handed private sector reporting enrolment numbers falling government schools increasing private schools niti aayog suggested exploring idea private sector government schools publicly funded per child basis \n",
      "\n",
      "\n",
      "실제 요약 : pvt sector may be given non performing govt schools panel \n",
      "\n",
      "\n",
      "추상적 요약 :  govt to charge schools for schools schools\n",
      "\n",
      "\n",
      "추출적 요약: increasing private schools niti aayog .\n",
      "government schools publicly funded per .\n",
      "\n",
      "\n",
      "원문 : year old clay tablet discovered turkey identified marriage contract first known remedy infertility record states wife allow husband hire surrogate couple conceive within two years marriage slave would freed giving birth first male baby added \n",
      "\n",
      "\n",
      "실제 요약 : oldest record yet found in year old \n",
      "\n",
      "\n"
     ]
    },
    {
     "name": "stdout",
     "output_type": "stream",
     "text": [
      "추상적 요약 :  year old becomes st woman to give wife to marry wife\n",
      "\n",
      "\n",
      "추출적 요약: year old clay tablet .\n",
      "years marriage slave would freed .\n",
      "\n",
      "\n",
      "원문 : australian cricketer david warner issued public apology involvement ball tampering south africa saying game love warner instructed team youngest member cameron bancroft carry plan banned international domestic cricket year leading australian team ever \n",
      "\n",
      "\n",
      "실제 요약 : it is on game warner apologises for ball tampering \n",
      "\n",
      "\n",
      "추상적 요약 :  warner warner to be tampering in australia\n",
      "\n",
      "\n",
      "추출적 요약: australian cricketer david warner .\n",
      "leading australian team ever\n",
      "\n",
      "\n",
      "원문 : pope francis said pray sometimes fall asleep adding christians feel like children lying fathers arms claiming saints also known sleep praying pope said th century french nun saint pope sleeps pm every night wakes \n",
      "\n",
      "\n",
      "실제 요약 : pope francis says he sometimes falls asleep while \n",
      "\n",
      "\n",
      "추상적 요약 :  pope francis is the children pope francis\n",
      "\n",
      "\n",
      "추출적 요약: pope francis said pray .\n",
      "sleep praying pope said th .\n",
      "\n",
      "\n",
      "원문 : politicians attending debate electricity parliament burst laughter mp started listing villages constituency named sad penis fool vagina wise video debate shows several mps slapping tables others seen wiping tears \n",
      "\n",
      "\n",
      "실제 요약 : ghana mps burst into over villages named after genitals \n",
      "\n",
      "\n",
      "추상적 요약 :  egypt to protest against mp for raping hindu\n",
      "\n",
      "\n",
      "추출적 요약: politicians attending debate electricity .\n",
      "debate shows several mps slapping .\n",
      "\n",
      "\n",
      "원문 : bombay high court wednesday declared arrest pnb scam accused kavita cbi illegal taken custody sunset law says woman shall arrested sunset nirav modi executive assistant authorised three group firms \n",
      "\n",
      "\n",
      "실제 요약 : pnb scam accused arrest after illegal bombay hc \n",
      "\n",
      "\n",
      "추상적 요약 :  cbi to probe into jail for fraud accused in pnb scam\n",
      "\n",
      "\n",
      "추출적 요약: sunset law says woman shall .\n",
      "arrested sunset nirav modi executive .\n",
      "\n",
      "\n",
      "원문 : note recovered delhi burari house family members found dead sunday reads last wish earth reads chant vigorously come bring also help bring others notably bodies found hanging another floor house \n",
      "\n",
      "\n",
      "실제 요약 : earth will will bring you down note from delhi house \n",
      "\n",
      "\n",
      "추상적 요약 :  body of burari family found dead in delhi\n",
      "\n",
      "\n",
      "추출적 요약: house family members found dead .\n",
      "reads chant vigorously come bring .\n",
      "house\n",
      "\n",
      "\n",
      "원문 : asia billionaires world surpassing us first time according report ubs pwc number billionaires asia rose whereas us added billionaires total however us billionaires still control wealth trillion \n",
      "\n",
      "\n",
      "실제 요약 : asia now has more billionaires than the us for first time \n",
      "\n",
      "\n",
      "추상적 요약 :  world richest man has world most powerful survey\n",
      "\n",
      "\n",
      "추출적 요약: asia billionaires world surpassing .\n",
      "total however us billionaires still .\n",
      "\n",
      "\n",
      "원문 : homegrown taxi aggregator ola may sign memorandum understanding assam government river taxi service state according reports conduct experiments ascertain water behaviour brahmaputra beginning service state transport minister chandra mohan said also night navigation system place added \n",
      "\n",
      "\n",
      "실제 요약 : ola may tie up with assam government for river taxi service \n",
      "\n",
      "\n",
      "추상적 요약 :  ola uber to invest crore in vehicles\n",
      "\n",
      "\n",
      "추출적 요약: homegrown taxi aggregator ola .\n",
      "government river taxi service state .\n",
      "\n",
      "\n",
      "원문 : many aircraft indian air force including sukhoi made touchdown lucknow agra expressway drill tuesday drill part government plan identify highways used runways emergencies like disaster relief humanitarian assistance war conflict situations \n",
      "\n",
      "\n",
      "실제 요약 : iaf aircraft on lucknow agra expressway for drill \n",
      "\n",
      "\n",
      "추상적 요약 :  air india express express to be launched in\n",
      "\n",
      "\n",
      "추출적 요약: lucknow agra expressway drill tuesday .\n",
      "drill part government plan identify .\n",
      "\n",
      "\n",
      "원문 : former australia captain michael clarke said team india captain virat kohli greatest batsman ever played odi cricket doubts seeing achieved india year old world cup winning captain added kohli aggression one question commitment much achieved clarke said \n",
      "\n",
      "\n",
      "실제 요약 : kohli is the greatest batsman to have played odi cricket clarke \n",
      "\n",
      "\n",
      "추상적 요약 :  kohli has been good for the world cup clarke\n",
      "\n",
      "\n",
      "추출적 요약: clarke said team india captain .\n",
      "cup winning captain added kohli .\n",
      "\n",
      "\n",
      "원문 : bjp wednesday called two day protests kerala two women age entered sabarimala temple kerala bjp president ps sreedharan pillai called entry conspiracy rulers destroy hindu temples however asked devotees get carried away register protest democratic means \n",
      "\n",
      "\n",
      "실제 요약 : bjp calls for protests after women below enter sabarimala \n",
      "\n",
      "\n",
      "추상적 요약 :  women protest for sabarimala temple in sabarimala bjp\n",
      "\n",
      "\n",
      "추출적 요약: bjp wednesday called two .\n",
      "bjp president ps sreedharan pillai .\n",
      "\n",
      "\n",
      "원문 : australian detained us visa minutes freed two weeks imprisonment five year visa requiring leave every six months arrested american officials tried entering canada fulfil visa requirements whose girlfriend lives america says hold grudge love america \n",
      "\n",
      "\n",
      "실제 요약 : man detained for us visa by minutes freed \n",
      "\n",
      "\n",
      "추상적 요약 :  us embassy jailed for visa in uae\n",
      "\n",
      "\n",
      "추출적 요약: australian detained us visa .\n",
      "visa requirements whose girlfriend lives .\n",
      "\n",
      "\n"
     ]
    }
   ],
   "source": [
    "for i in range(50,100):\n",
    "    print(\"원문 :\", seq2text(encoder_input_test[i]))\n",
    "    print(\"\\n\")\n",
    "    print(\"실제 요약 :\", seq2summary(decoder_input_test[i]))\n",
    "    print(\"\\n\")\n",
    "    print(\"추상적 요약 :\", decode_sequence(encoder_input_test[i].reshape(1, text_max_len)))\n",
    "    dot_index = 0\n",
    "    en_txt = []\n",
    "    for j in seq2text(encoder_input_test[i]).split() :\n",
    "        en_txt.append(j)\n",
    "        dot_index += 1\n",
    "        if dot_index % 5 == 4:\n",
    "            en_txt.append(\".\")\n",
    "    print(\"\\n\")\n",
    "    print(\"추출적 요약:\", summarize(' '.join(en_txt), ratio = 0.3 , words = 10))\n",
    "    print(\"\\n\")"
   ]
  },
  {
   "cell_type": "markdown",
   "metadata": {},
   "source": [
    "* 추상적 요약:\n",
    "장점: \n",
    "\n",
    "1. 요약과 비슷한 문장 구조. 아무래도 문장구조를 요약을 통해서 학습시켰기때문에 문장구조가 유사합니다.       \n",
    "2. 단순한 단어 추출이 아니라 없던 단어를 통해 요약을 해냄, 그래서 좀 어색하긴해도 어느정도 실제 요약과 비슷한 단어를 만들어냄                          \n",
    "     \n",
    "단점: \n",
    "\n",
    "1. 아직 학습 수준이 부족하다.                    \n",
    "2. 모델 적합에 너무 오랜 시간이 걸린다.                   \n",
    "\n",
    "* 추출적 요약:  \n",
    "\n",
    "단점: \n",
    "1. 또한 분량이 짧다 보니 거의 그대로 첫번째 문장, 두번째 문장의 첫부분으로 따오는 것처럼 보입니다.                 \n",
    "2. 추상적 요약은 문장구조가 요약스럽게 나오는데 그러지 못합니다. 문장 구조를 원본 text 그대로 따라가는 것 처럼 보입니다.             \n",
    "3. 제가 임의로 숫자대로 문장단위를 끊어내다 보니 제대로 요약이 되지않은 것처럼 보이기도합니다.                 \n",
    "     \n",
    "장점: \n",
    "\n",
    "1. 반대로 짧은 원문에서 그대로 용어를 따오다보니 요약의단어는 괜찮게 나오는 것처럼 보이기도 합니다.            \n",
    "2. 연산이 빠르다. 복잡한 모델을 사용한 추상적 요약에 비해서 훨씬 빠르게 계산됨           \n",
    "\n"
   ]
  },
  {
   "cell_type": "code",
   "execution_count": 158,
   "metadata": {},
   "outputs": [],
   "source": [
    "# ttttttt = []\n",
    "\n",
    "# for i in range(50,51):\n",
    "#     a = 0\n",
    "#     for j in seq2text(encoder_input_test[i]).split() :\n",
    "#         ttttttt.append(j)\n",
    "#         a += 1\n",
    "#         if a % 8 == 4 :\n",
    "#             ttttttt.append(\".\")\n",
    "\n",
    "# print(' '.join(ttttttt))"
   ]
  },
  {
   "cell_type": "markdown",
   "metadata": {},
   "source": [
    "# 소고 \n",
    "\n",
    "추출적 요약의 summarize가 잘 되지않아서 고생했습니다.     \n",
    "알고보니 summarize는 문장끼리의 단어를 통해서 연결을 하는것이기 때문에 문장부호가 존재해야하는 것이었습니다. \n",
    "\n",
    "추상적 요약이 신기할 정도로 잘 되는것도있고 잘 되지않는 것도 있었습니다.                  \n",
    "뭔가 더 구체적인 알고리즘에 대해서 알고 싶음.          \n",
    "모델 학습에 상당히 시간이 걸리는데 \n",
    "model.save('Abs_Summ_model.h5')\n",
    "model = load_model('Abs_Summ_model.h5')\n",
    "로 저장하고 불러오기가 안되서 고생했습니다.\n",
    "\n",
    "뭔가 이번 작업은 모델 설계를 건들이기가 힘들어서 모법답안 말고 다른 조원들이 어떻게 했나 보고싶은데\n",
    "공유가 잘안되서 슬픕니다.\n",
    "\n",
    "\n",
    "아래는 하면서 제가 했던 고민들입니다.\n",
    "\n",
    "## 최대한 데이터를 살리는 방법 고민\n",
    "그것도 노가다를 하지 않고는..?"
   ]
  },
  {
   "cell_type": "code",
   "execution_count": 81,
   "metadata": {},
   "outputs": [],
   "source": [
    "data1 = pd.read_csv('news_summary_more.csv', encoding='iso-8859-1')"
   ]
  },
  {
   "cell_type": "code",
   "execution_count": 85,
   "metadata": {
    "scrolled": false
   },
   "outputs": [
    {
     "data": {
      "text/html": [
       "<div>\n",
       "<style scoped>\n",
       "    .dataframe tbody tr th:only-of-type {\n",
       "        vertical-align: middle;\n",
       "    }\n",
       "\n",
       "    .dataframe tbody tr th {\n",
       "        vertical-align: top;\n",
       "    }\n",
       "\n",
       "    .dataframe thead th {\n",
       "        text-align: right;\n",
       "    }\n",
       "</style>\n",
       "<table border=\"1\" class=\"dataframe\">\n",
       "  <thead>\n",
       "    <tr style=\"text-align: right;\">\n",
       "      <th></th>\n",
       "      <th>headlines</th>\n",
       "      <th>text</th>\n",
       "    </tr>\n",
       "  </thead>\n",
       "  <tbody>\n",
       "    <tr>\n",
       "      <th>64843</th>\n",
       "      <td>'Merchant of death' title inspired founding of...</td>\n",
       "      <td>After confusing his brother's death with that ...</td>\n",
       "    </tr>\n",
       "    <tr>\n",
       "      <th>15260</th>\n",
       "      <td>'Merchant of death' title inspired founding of...</td>\n",
       "      <td>A French newspaper in 1888 confused the death ...</td>\n",
       "    </tr>\n",
       "    <tr>\n",
       "      <th>67136</th>\n",
       "      <td>16-yr-old Afridi hit then-fastest ODI ton with...</td>\n",
       "      <td>Former Pakistani all-rounder Shahid Afridi sma...</td>\n",
       "    </tr>\n",
       "    <tr>\n",
       "      <th>45643</th>\n",
       "      <td>16-yr-old Afridi hit then-fastest ODI ton with...</td>\n",
       "      <td>Former Pakistani all-rounder Shahid Afridi, wh...</td>\n",
       "    </tr>\n",
       "    <tr>\n",
       "      <th>27674</th>\n",
       "      <td>1st Wimbledon was organised to fund repair of ...</td>\n",
       "      <td>The first-ever Wimbledon competition, held in ...</td>\n",
       "    </tr>\n",
       "    <tr>\n",
       "      <th>82399</th>\n",
       "      <td>1st Wimbledon was organised to fund repair of ...</td>\n",
       "      <td>The first ever Wimbledon competition, held in ...</td>\n",
       "    </tr>\n",
       "    <tr>\n",
       "      <th>72502</th>\n",
       "      <td>1st bowler hit for 6 sixes in 1 over was pacer...</td>\n",
       "      <td>West Indies' cricketing legend Gary Sobers bec...</td>\n",
       "    </tr>\n",
       "    <tr>\n",
       "      <th>19411</th>\n",
       "      <td>1st bowler hit for 6 sixes in 1 over was pacer...</td>\n",
       "      <td>Windies' cricketing legend Gary Sobers became ...</td>\n",
       "    </tr>\n",
       "    <tr>\n",
       "      <th>78244</th>\n",
       "      <td>1st player to hit 6 sixes in 1 over was born w...</td>\n",
       "      <td>Former Windies' cricketer Garry Sobers, the fi...</td>\n",
       "    </tr>\n",
       "    <tr>\n",
       "      <th>23938</th>\n",
       "      <td>1st player to hit 6 sixes in 1 over was born w...</td>\n",
       "      <td>Former Windies' cricketer Garry Sobers, the fi...</td>\n",
       "    </tr>\n",
       "    <tr>\n",
       "      <th>69673</th>\n",
       "      <td>3 pairs of brothers once played for the same t...</td>\n",
       "      <td>The New Zealand-Zimbabwe Test, which started o...</td>\n",
       "    </tr>\n",
       "    <tr>\n",
       "      <th>16985</th>\n",
       "      <td>3 pairs of brothers once played for the same t...</td>\n",
       "      <td>The New Zealand-Zimbabwe Test, which started o...</td>\n",
       "    </tr>\n",
       "    <tr>\n",
       "      <th>29306</th>\n",
       "      <td>4 Indian batsmen once put up a 408-run stand f...</td>\n",
       "      <td>For the first time in Test cricket, a team's t...</td>\n",
       "    </tr>\n",
       "    <tr>\n",
       "      <th>87593</th>\n",
       "      <td>4 Indian batsmen once put up a 408-run stand f...</td>\n",
       "      <td>For the first time in Test cricket, a team's t...</td>\n",
       "    </tr>\n",
       "    <tr>\n",
       "      <th>19982</th>\n",
       "      <td>500-kg World War II bomb defused in Germany</td>\n",
       "      <td>German authorities on Sunday defused a 500-kil...</td>\n",
       "    </tr>\n",
       "    <tr>\n",
       "      <th>34627</th>\n",
       "      <td>500-kg World War II bomb defused in Germany</td>\n",
       "      <td>German police on Friday defused a 500-kilogram...</td>\n",
       "    </tr>\n",
       "  </tbody>\n",
       "</table>\n",
       "</div>"
      ],
      "text/plain": [
       "                                               headlines                                               text\n",
       "64843  'Merchant of death' title inspired founding of...  After confusing his brother's death with that ...\n",
       "15260  'Merchant of death' title inspired founding of...  A French newspaper in 1888 confused the death ...\n",
       "67136  16-yr-old Afridi hit then-fastest ODI ton with...  Former Pakistani all-rounder Shahid Afridi sma...\n",
       "45643  16-yr-old Afridi hit then-fastest ODI ton with...  Former Pakistani all-rounder Shahid Afridi, wh...\n",
       "27674  1st Wimbledon was organised to fund repair of ...  The first-ever Wimbledon competition, held in ...\n",
       "82399  1st Wimbledon was organised to fund repair of ...  The first ever Wimbledon competition, held in ...\n",
       "72502  1st bowler hit for 6 sixes in 1 over was pacer...  West Indies' cricketing legend Gary Sobers bec...\n",
       "19411  1st bowler hit for 6 sixes in 1 over was pacer...  Windies' cricketing legend Gary Sobers became ...\n",
       "78244  1st player to hit 6 sixes in 1 over was born w...  Former Windies' cricketer Garry Sobers, the fi...\n",
       "23938  1st player to hit 6 sixes in 1 over was born w...  Former Windies' cricketer Garry Sobers, the fi...\n",
       "69673  3 pairs of brothers once played for the same t...  The New Zealand-Zimbabwe Test, which started o...\n",
       "16985  3 pairs of brothers once played for the same t...  The New Zealand-Zimbabwe Test, which started o...\n",
       "29306  4 Indian batsmen once put up a 408-run stand f...  For the first time in Test cricket, a team's t...\n",
       "87593  4 Indian batsmen once put up a 408-run stand f...  For the first time in Test cricket, a team's t...\n",
       "19982        500-kg World War II bomb defused in Germany  German authorities on Sunday defused a 500-kil...\n",
       "34627        500-kg World War II bomb defused in Germany  German police on Friday defused a 500-kilogram..."
      ]
     },
     "execution_count": 85,
     "metadata": {},
     "output_type": "execute_result"
    }
   ],
   "source": [
    "data1[data1.headlines.duplicated(keep = False )].sort_values(by = 'headlines').head(16)\n"
   ]
  },
  {
   "cell_type": "code",
   "execution_count": 87,
   "metadata": {},
   "outputs": [
    {
     "name": "stdout",
     "output_type": "stream",
     "text": [
      "전체 샘플수 : 89681\n"
     ]
    }
   ],
   "source": [
    "data1.drop_duplicates(subset = ['text'], inplace = True)\n",
    "print('전체 샘플수 :',(len(data)))"
   ]
  },
  {
   "cell_type": "code",
   "execution_count": 89,
   "metadata": {},
   "outputs": [
    {
     "name": "stdout",
     "output_type": "stream",
     "text": [
      "headlines          500-kg World War II bomb defused in Germany\n",
      "text         German police on Friday defused a 500-kilogram...\n",
      "Name: 34627, dtype: object\n",
      "headlines          500-kg World War II bomb defused in Germany\n",
      "text         German authorities on Sunday defused a 500-kil...\n",
      "Name: 19982, dtype: object\n"
     ]
    }
   ],
   "source": [
    "print(data1.iloc[34626])\n",
    "print(data1.iloc[19982])"
   ]
  },
  {
   "cell_type": "code",
   "execution_count": 67,
   "metadata": {},
   "outputs": [
    {
     "data": {
      "text/plain": [
       "'German police on Friday defused a 500-kilogram World War II bomb in central Berlin, after evacuating around 10,000 people within an 800-metre radius of the bomb. The bomb was found during construction work earlier this week. More than 2,000 tonnes of live bombs and munitions are found in Germany every year.'"
      ]
     },
     "execution_count": 67,
     "metadata": {},
     "output_type": "execute_result"
    }
   ],
   "source": [
    "data.iloc[34626].text"
   ]
  },
  {
   "cell_type": "code",
   "execution_count": 68,
   "metadata": {
    "scrolled": false
   },
   "outputs": [
    {
     "data": {
      "text/plain": [
       "'German authorities on Sunday defused a 500-kilogram World War II bomb in the city of Ludwigshafen after evacuating 18,500 people. The bomb is believed to have been dropped by US forces during World War II. More than 2,000 tonnes of live bombs and munitions are found in Germany every year.'"
      ]
     },
     "execution_count": 68,
     "metadata": {},
     "output_type": "execute_result"
    }
   ],
   "source": [
    "data.iloc[19982].text"
   ]
  },
  {
   "cell_type": "markdown",
   "metadata": {},
   "source": [
    "전처리하다 느낀것인데 \n",
    "\n",
    "1. 위의 예시(500-kg World War II bomb)처럼 headline은 같은데 text는 (유사하지만) 다른 사건을 다룬  경우\n",
    "2. 바로 밑 코드의 예시(Indian Oil Corporation)처럼 headline이 같고 text도 오타,오류로 발생한 중복 sample\n",
    "\n",
    "이렇게 다른 케이스가 존재하고 첫번째 케이스는 단순히 삭제하기보다 살리는게 바람직한 방향인거같습니다.\n",
    "\n",
    "그런데 문제는 이걸 일일히 노가다로 찾아봐야 하는건데\n",
    "혹시 더 빠르게 해결할수있는 방법이 어떤게 있을지를 더 고민을 해봐야할 거같습니다.\n",
    "\n",
    "제가 혼자 생각해본 방법은 \n",
    "\n",
    "첫번째로 먼저 소문자화 시키고, /n같이 오타로 들어간 것을 제외하고 중복 데이터를 찾으면\n",
    "약간은 도움이 될것같습니다. 하지만 중복 데이터  제거후 데이터 전처리를 하는것이 아니라 \n",
    "반대로 데이터 전처리부터하고 중복 데이터를 정리하는 것이라 시간이 오래 걸릴 것 같습니다. \n",
    "\n",
    "다른 aiffel_ssac 분들은 이런 의견을 내주셨습니다.\n",
    "\n",
    "문장마다 중복단어의 비율을 세보는건 어떨까요!\n",
    "group_by의 활용\n",
    "\n",
    "확실히 중복단어의 비율을 세는것은 좋은 방식일거같습니다. \n",
    "위의 독일폭탄도 대부분 유사하지만 Berlin이랑 Ludwigshafen, friday, sunday 정도가 다른것을 확인할 수있는데\n",
    "이런 차이들을 비교해보는게 좋은 방식인거같습니다. 단어 단위로 모두 나눈 후에 얼마나 차이가 나는지 비교하는 것입니다."
   ]
  },
  {
   "cell_type": "code",
   "execution_count": 70,
   "metadata": {},
   "outputs": [
    {
     "name": "stdout",
     "output_type": "stream",
     "text": [
      "headlines    Indian Oil looking for annual deal to buy crud...\n",
      "text         Indian Oil Corporation on Wednesday said it's ...\n",
      "Name: 24, dtype: object\n",
      "headlines    Indian Oil looking for annual deal to buy crud...\n",
      "text         Indian Oil Corporation on Wednesday said it's ...\n",
      "Name: 3293, dtype: object\n"
     ]
    }
   ],
   "source": [
    "print(data.iloc[24])\n",
    "print(data.iloc[3293])"
   ]
  },
  {
   "cell_type": "code",
   "execution_count": 71,
   "metadata": {},
   "outputs": [
    {
     "data": {
      "text/plain": [
       "\"Indian Oil Corporation on Wednesday said it's looking for an annual deal to buy US crude as it seeks to broaden oil purchasing options. This comes amid uncertainties over Iran imports. The US had in November granted a six-month waiver to India from sanctions against Iran and restricted the country's monthly intake of Iranian oil to 3,00,000 barrels per day.\\n\\n\""
      ]
     },
     "execution_count": 71,
     "metadata": {},
     "output_type": "execute_result"
    }
   ],
   "source": [
    "data.iloc[24].text"
   ]
  },
  {
   "cell_type": "code",
   "execution_count": 72,
   "metadata": {
    "scrolled": true
   },
   "outputs": [
    {
     "data": {
      "text/plain": [
       "\"Indian Oil Corporation on Wednesday said it's looking for an annual deal to buy US crude as it seeks to broaden oil purchasing options. This comes amid uncertainties over Iran imports. The US had in November granted a six-month waiver to India from sanctions against Iran and restricted the country's monthly intake of Iranian oil to 3,00,000 barrels per day.nn\""
      ]
     },
     "execution_count": 72,
     "metadata": {},
     "output_type": "execute_result"
    }
   ],
   "source": [
    "data.iloc[3293].text"
   ]
  },
  {
   "cell_type": "markdown",
   "metadata": {},
   "source": [
    "### 짧은 데이터 삭제와 보존 차이\n",
    "\n",
    "사실저는 처음 진행할때는 text와 headlines에서 너무 짧은것들은 제외하고 모델을 학습시켜도 보았습니다.       \n",
    "그렇게 하자 val_loss가 3.7145였는데 삭제하지않고 진행하니 val_loss: 3.4880의 결과가 나왔습니다.            \n",
    "아무래도 짧은 내용에 대해서는 정확도를 더 높게 얻을 수 있기 때문인것같습니다."
   ]
  }
 ],
 "metadata": {
  "kernelspec": {
   "display_name": "aiffel",
   "language": "python",
   "name": "aiffel"
  },
  "language_info": {
   "codemirror_mode": {
    "name": "ipython",
    "version": 3
   },
   "file_extension": ".py",
   "mimetype": "text/x-python",
   "name": "python",
   "nbconvert_exporter": "python",
   "pygments_lexer": "ipython3",
   "version": "3.7.7"
  }
 },
 "nbformat": 4,
 "nbformat_minor": 4
}
