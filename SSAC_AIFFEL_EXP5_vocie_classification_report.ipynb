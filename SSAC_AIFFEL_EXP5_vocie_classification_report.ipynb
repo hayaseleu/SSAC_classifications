{
 "cells": [
  {
   "cell_type": "markdown",
   "metadata": {},
   "source": [
    "# 프로젝트: Spectrogram classification 모델 구현\n",
    "\n",
    "## 데이터 불러오기와 확인"
   ]
  },
  {
   "cell_type": "code",
   "execution_count": 2,
   "metadata": {},
   "outputs": [
    {
     "name": "stdout",
     "output_type": "stream",
     "text": [
      "✅\n",
      "['wav_vals', 'label_vals']\n"
     ]
    }
   ],
   "source": [
    "import numpy as np\n",
    "import os\n",
    "\n",
    "data_path = os.getenv(\"HOME\")+'/aiffel/speech_recognition/data/speech_wav_8000.npz'\n",
    "speech_data = np.load(data_path)\n",
    "\n",
    "print(\"✅\")\n",
    "\n",
    "print(speech_data.files)"
   ]
  },
  {
   "cell_type": "markdown",
   "metadata": {},
   "source": [
    "데이터를 읽어왔습니다. 데이터는 wav_vals와 label_vavls로 이루어져있음을 확인 할 수 있었습니다.          \n",
    "[데이터 주소](https://www.kaggle.com/c/tensorflow-speech-recognition-challenge) \n",
    "\n",
    "> 데이터셋의 출처 데이터셋은 캐글의 음성 인식 챌린지의 데이터입니다.               \n",
    "> Kaggle/TensorFlow Speech Recognition Challenge. \n",
    "> This is version 0.01 of the data set containing 64,727 audio files, released on August 3rd 2017.\n",
    "\n"
   ]
  },
  {
   "cell_type": "markdown",
   "metadata": {},
   "source": [
    "* 데이터셋은 1초 길이의 오디오 음성데이터 50620개로 이뤄져 있습니다.\n",
    "* 주어진 데이터의 원래 Sample rate는 16000이지만, 8000으로 re-sampling해 사용하겠습니다.\n",
    "* 모두 1초의 길이를 가지는 오디오 음성데이터이여서 각각 8000개의 sample data를 가지고 있습니다.\n",
    "\n",
    "위에서 설명한 데이터가 맞는지 확인해봅시다."
   ]
  },
  {
   "cell_type": "code",
   "execution_count": 3,
   "metadata": {},
   "outputs": [
    {
     "name": "stdout",
     "output_type": "stream",
     "text": [
      "rand num :  21860\n",
      "Wave data shape :  (8000,)\n",
      "label :  ['down']\n"
     ]
    },
    {
     "data": {
      "text/html": [
       "\n",
       "                <audio  controls=\"controls\" >\n",
       "                    <source src=\"data:audio/wav;base64,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\" type=\"audio/wav\" />\n",
       "                    Your browser does not support the audio element.\n",
       "                </audio>\n",
       "              "
      ],
      "text/plain": [
       "<IPython.lib.display.Audio object>"
      ]
     },
     "execution_count": 3,
     "metadata": {},
     "output_type": "execute_result"
    }
   ],
   "source": [
    "import IPython.display as ipd\n",
    "import random\n",
    "\n",
    "# 데이터 선택 (랜덤하게 선택하고 있으니, 여러번 실행해 보세요)\n",
    "rand = random.randint(0, len(speech_data[\"wav_vals\"]))\n",
    "print(\"rand num : \", rand)\n",
    "\n",
    "sr = 8000 # 1초동안 재생되는 샘플의 갯수\n",
    "data = speech_data[\"wav_vals\"][rand]\n",
    "print(\"Wave data shape : \", data.shape)\n",
    "print(\"label : \", speech_data[\"label_vals\"][rand])\n",
    "\n",
    "ipd.Audio(data, rate=sr)"
   ]
  },
  {
   "cell_type": "markdown",
   "metadata": {},
   "source": [
    "\n",
    "##  데이터 처리와 분류\n",
    "라벨 데이터 처리하기 sklearn의 train_test_split함수를 이용하여 train, test 분리를 하도록 하겠습니다."
   ]
  },
  {
   "cell_type": "markdown",
   "metadata": {},
   "source": [
    "### label 데이터 처리\n",
    "\n",
    "현재 단어의 정답은 Text 형태로 이뤄져있습니다.          \n",
    "학습을 위해서는 Text 데이터를 학습가능한 형태로 만들어줘야 합니다.\n",
    "\n",
    "아래는 구분해야할 label 목록입니다.\n",
    "\n",
    "['yes', 'no', 'up', 'down', 'left', 'right', 'on', 'off', 'stop', 'go' ]\n",
    "\n",
    "이외 데이터들은 'unknown', 'silence'로 분류되어 있습니다."
   ]
  },
  {
   "cell_type": "code",
   "execution_count": 4,
   "metadata": {},
   "outputs": [
    {
     "name": "stdout",
     "output_type": "stream",
     "text": [
      "LABEL :  ['yes', 'no', 'up', 'down', 'left', 'right', 'on', 'off', 'stop', 'go', 'unknown', 'silence']\n"
     ]
    }
   ],
   "source": [
    "target_list = ['yes', 'no', 'up', 'down', 'left', 'right', 'on', 'off', 'stop', 'go']\n",
    "label_value = target_list\n",
    "label_value.append('unknown')\n",
    "label_value.append('silence')\n",
    "\n",
    "print('LABEL : ', label_value)\n",
    "\n"
   ]
  },
  {
   "cell_type": "code",
   "execution_count": 5,
   "metadata": {},
   "outputs": [
    {
     "name": "stdout",
     "output_type": "stream",
     "text": [
      "Indexed LABEL :  {'yes': 0, 'no': 1, 'up': 2, 'down': 3, 'left': 4, 'right': 5, 'on': 6, 'off': 7, 'stop': 8, 'go': 9, 'unknown': 10, 'silence': 11}\n"
     ]
    }
   ],
   "source": [
    "new_label_value = dict()\n",
    "for i, l in enumerate(label_value):\n",
    "    new_label_value[l] = i\n",
    "label_value = new_label_value\n",
    "\n",
    "print('Indexed LABEL : ', new_label_value)"
   ]
  },
  {
   "cell_type": "markdown",
   "metadata": {},
   "source": [
    "Text로 이루어진 라벨 데이터를 학습에 사용하기 위해서 index 형태로 바꿔주는 작업을 하였습니다.           \n",
    "\n",
    "int로 이뤄진 index 작업을 통해서 Label data를 더 쉽게 사용할 수 있습니다.\n",
    "\n"
   ]
  },
  {
   "cell_type": "code",
   "execution_count": 6,
   "metadata": {},
   "outputs": [
    {
     "data": {
      "text/plain": [
       "array([ 3,  3,  3, ..., 11, 11, 11])"
      ]
     },
     "execution_count": 6,
     "metadata": {},
     "output_type": "execute_result"
    }
   ],
   "source": [
    "temp = []\n",
    "for v in speech_data[\"label_vals\"]:\n",
    "    temp.append(label_value[v[0]])\n",
    "label_data = np.array(temp)\n",
    "\n",
    "label_data"
   ]
  },
  {
   "cell_type": "markdown",
   "metadata": {},
   "source": [
    "그후 label_val은 np.array형태로 변형하였습니다.\n",
    "\n",
    "### Spectrogram shape로 변경 \n",
    "1차원 시계열 데이터인 wav을 단위 시간만큼 Short Time Fourier Transform을 진행해               \n",
    "매 순간의 주파수 데이터들을 얻어서 2차원인 Spectrogram을 만들 수 있다고 합니다. "
   ]
  },
  {
   "cell_type": "code",
   "execution_count": 7,
   "metadata": {},
   "outputs": [
    {
     "name": "stdout",
     "output_type": "stream",
     "text": [
      "✅\n"
     ]
    }
   ],
   "source": [
    "import librosa\n",
    "\n",
    "def wav2spec(wav, fft_size=258): # spectrogram shape을 맞추기위해서 size 변형\n",
    "    D = np.abs(librosa.stft(wav, n_fft=fft_size))\n",
    "    return D\n",
    "print(\"✅\")"
   ]
  },
  {
   "cell_type": "markdown",
   "metadata": {},
   "source": [
    "아까 데이터를 확인하기 위해 랜덤을 뽑아봤던 데이터를 spectrogram shape꼴로 변경해 보았습니다."
   ]
  },
  {
   "cell_type": "code",
   "execution_count": 8,
   "metadata": {},
   "outputs": [
    {
     "name": "stdout",
     "output_type": "stream",
     "text": [
      "[[1.8429330e-02 3.7197331e-03 1.9490413e-03 ... 3.7360835e-04\n",
      "  3.3212323e-02 4.1615181e-02]\n",
      " [3.8980812e-02 2.7312102e-02 2.1041345e-02 ... 2.8450983e-02\n",
      "  2.7965041e-02 1.6765621e-02]\n",
      " [6.6360213e-02 4.3084025e-02 1.9389922e-02 ... 3.4865052e-02\n",
      "  2.1758961e-02 7.4149068e-03]\n",
      " ...\n",
      " [3.9688027e-03 1.6982337e-03 5.7432678e-04 ... 5.8906263e-04\n",
      "  2.4970865e-03 4.6569500e-03]\n",
      " [3.9115567e-03 2.1149027e-03 8.0342448e-05 ... 1.8724009e-04\n",
      "  2.6385086e-03 4.9176426e-03]\n",
      " [3.9891936e-03 1.9598827e-03 5.0817704e-05 ... 6.3075138e-05\n",
      "  2.3893286e-03 4.7972938e-03]]\n",
      "Waveform shape :  (8000,)\n",
      "Spectrogram shape :  (130, 126)\n"
     ]
    }
   ],
   "source": [
    "# 위에서 뽑았던 sample data\n",
    "spec = wav2spec(data)\n",
    "print(spec)\n",
    "print(\"Waveform shape : \",data.shape)\n",
    "print(\"Spectrogram shape : \",spec.shape)"
   ]
  },
  {
   "cell_type": "markdown",
   "metadata": {},
   "source": [
    "2차원 spectogram으로 변경한 이미지를 출력해겟습니다.           \n",
    "X축은 시간을 나타내며          \n",
    "Y축은 주파수를 나타내며                   \n",
    "해당 시간/주파수에서의 음파 강도에 따라 밝은색으로 표현된다고 합니다."
   ]
  },
  {
   "cell_type": "code",
   "execution_count": 9,
   "metadata": {},
   "outputs": [
    {
     "data": {
      "image/png": "[encoded data removed]",
      "text/plain": [
       "<Figure size 432x288 with 2 Axes>"
      ]
     },
     "metadata": {
      "needs_background": "light"
     },
     "output_type": "display_data"
    }
   ],
   "source": [
    "import librosa.display\n",
    "import matplotlib.pyplot as plt\n",
    "librosa.display.specshow(librosa.amplitude_to_db(spec, ref=np.max), x_axis='time')\n",
    "plt.title('Power spectrogram')\n",
    "plt.colorbar(format='%+2.0f dB')\n",
    "plt.xticks(range(0, 1))\n",
    "plt.tight_layout()\n",
    "plt.show()"
   ]
  },
  {
   "cell_type": "markdown",
   "metadata": {},
   "source": [
    "이제 전체 데이터를 변경해 봅니다."
   ]
  },
  {
   "cell_type": "code",
   "execution_count": 10,
   "metadata": {},
   "outputs": [
    {
     "data": {
      "text/plain": [
       "(50620, 130, 126)"
      ]
     },
     "execution_count": 10,
     "metadata": {},
     "output_type": "execute_result"
    }
   ],
   "source": [
    "data_spec = []\n",
    "for wav in speech_data[\"wav_vals\"]:\n",
    "    stft = wav2spec(wav)\n",
    "    data_spec.append(stft)\n",
    "    \n",
    "    \n",
    "data_spec = np.array(data_spec)\n",
    "data_spec.shape"
   ]
  },
  {
   "cell_type": "code",
   "execution_count": 11,
   "metadata": {},
   "outputs": [
    {
     "name": "stdout",
     "output_type": "stream",
     "text": [
      "126\n"
     ]
    },
    {
     "data": {
      "text/plain": [
       "(50620, 130, 126)"
      ]
     },
     "execution_count": 11,
     "metadata": {},
     "output_type": "execute_result"
    }
   ],
   "source": [
    "print(len(data_spec[8000][129]))\n",
    "data_spec = np.array(data_spec)\n",
    "data_spec.shape"
   ]
  },
  {
   "cell_type": "markdown",
   "metadata": {},
   "source": [
    "2차원이기때문에 130*126의 형태로 변경된것을 확인 할 수 있었습니다. 이를 np.array꼴로 바꾸어주었습니다. "
   ]
  },
  {
   "cell_type": "code",
   "execution_count": 10,
   "metadata": {},
   "outputs": [],
   "source": [
    "del speech_data"
   ]
  },
  {
   "cell_type": "markdown",
   "metadata": {},
   "source": [
    "데이터 용량이 상당히 크기 때문에 원본 speech_data는 메모리에서 삭제해줍니다. "
   ]
  },
  {
   "cell_type": "markdown",
   "metadata": {},
   "source": [
    "###  train, tests 데이터 분리 "
   ]
  },
  {
   "cell_type": "code",
   "execution_count": 12,
   "metadata": {},
   "outputs": [
    {
     "name": "stdout",
     "output_type": "stream",
     "text": [
      "[[[3.79026658e-03 1.62670575e-03 3.11224954e-04 ... 2.72929698e-04\n",
      "   1.94097997e-03 3.68709303e-03]\n",
      "  [3.82094528e-03 2.10952992e-03 3.32605909e-04 ... 1.65451478e-04\n",
      "   1.78830884e-03 3.68301640e-03]\n",
      "  [4.32602922e-03 2.09930539e-03 8.39394052e-05 ... 4.26852435e-04\n",
      "   2.21956172e-03 4.43663634e-03]\n",
      "  ...\n",
      "  [1.72882297e-04 5.88753210e-05 2.87630191e-05 ... 3.56727628e-06\n",
      "   1.18190554e-04 2.30288118e-04]\n",
      "  [1.73635519e-04 9.54328352e-05 7.68496921e-06 ... 2.70824671e-06\n",
      "   1.21341385e-04 2.32190025e-04]\n",
      "  [1.90191757e-04 9.87372478e-05 2.27363626e-06 ... 1.21841231e-06\n",
      "   1.22425336e-04 2.36706022e-04]]\n",
      "\n",
      " [[6.91460818e-03 9.26674227e-04 3.23136635e-02 ... 7.16315291e-04\n",
      "   1.30159536e-03 2.01713364e-03]\n",
      "  [1.10484734e-02 1.01269484e-02 3.36611830e-02 ... 2.13010513e-04\n",
      "   6.70536596e-04 3.05918348e-03]\n",
      "  [6.30752649e-03 3.53385042e-03 2.52371505e-02 ... 5.90338185e-03\n",
      "   6.05806569e-03 6.59689587e-03]\n",
      "  ...\n",
      "  [5.84675791e-03 2.82478496e-03 1.85044279e-04 ... 1.15364659e-04\n",
      "   3.66096967e-04 7.54842302e-04]\n",
      "  [5.33112837e-03 2.66183494e-03 9.15628043e-05 ... 3.80127422e-05\n",
      "   2.78883905e-04 6.09719951e-04]\n",
      "  [5.30501595e-03 2.69551692e-03 2.32749680e-05 ... 5.09196616e-05\n",
      "   3.42470739e-04 5.99955441e-04]]\n",
      "\n",
      " [[1.04215904e-03 1.37822528e-03 9.34823009e-04 ... 5.17962966e-04\n",
      "   1.68477686e-03 2.22446071e-03]\n",
      "  [9.15070923e-05 8.54959188e-04 9.13189433e-04 ... 5.75268583e-04\n",
      "   1.10654742e-03 1.54292467e-03]\n",
      "  [1.76980349e-04 1.18040422e-03 1.94656852e-04 ... 3.68251087e-04\n",
      "   1.97565794e-04 2.57256266e-04]\n",
      "  ...\n",
      "  [2.63500202e-04 1.37449999e-04 3.10097334e-06 ... 8.29986129e-06\n",
      "   2.36692881e-06 2.00959835e-06]\n",
      "  [2.68624397e-04 1.36502684e-04 3.77515948e-06 ... 4.30657155e-06\n",
      "   1.08950171e-05 1.35521168e-05]\n",
      "  [2.66397255e-04 1.33415931e-04 5.36326354e-07 ... 6.57523401e-07\n",
      "   8.38885171e-06 1.68092465e-05]]\n",
      "\n",
      " ...\n",
      "\n",
      " [[1.31144617e-02 5.77544002e-03 1.30449154e-03 ... 6.14751989e-05\n",
      "   3.94576602e-03 1.01434560e-02]\n",
      "  [1.73670575e-02 8.20107944e-03 2.00573727e-03 ... 2.99190241e-03\n",
      "   7.12316111e-03 1.07695386e-02]\n",
      "  [2.18119361e-02 1.49435559e-02 4.08796314e-03 ... 7.84142688e-03\n",
      "   4.98572551e-03 1.14623327e-02]\n",
      "  ...\n",
      "  [4.57765069e-03 2.01158924e-03 5.68554271e-04 ... 5.87271177e-04\n",
      "   2.38325424e-03 4.41051088e-03]\n",
      "  [4.51609166e-03 2.41862983e-03 7.64613142e-05 ... 1.80046598e-04\n",
      "   2.52492749e-03 4.70470823e-03]\n",
      "  [4.59022308e-03 2.26381375e-03 5.34934552e-05 ... 5.65088194e-05\n",
      "   2.29132827e-03 4.59380308e-03]]\n",
      "\n",
      " [[8.25801790e-01 1.52474821e-01 2.42185537e-02 ... 2.61683147e-02\n",
      "   1.14916764e-01 4.35109288e-01]\n",
      "  [1.45353985e+00 1.06174767e+00 8.74451697e-01 ... 8.40584874e-01\n",
      "   8.11364532e-01 3.20400536e-01]\n",
      "  [1.41115761e+00 1.53320885e+00 1.62203443e+00 ... 1.57794476e+00\n",
      "   1.53134441e+00 1.56218243e+00]\n",
      "  ...\n",
      "  [2.79799774e-02 1.38236340e-02 3.62563442e-04 ... 5.28768462e-04\n",
      "   8.96299817e-03 1.71523523e-02]\n",
      "  [2.75368858e-02 1.40011776e-02 1.21079713e-04 ... 3.34591750e-04\n",
      "   7.15791341e-03 1.38957147e-02]\n",
      "  [2.76305359e-02 1.39509151e-02 5.05117578e-06 ... 5.18672576e-04\n",
      "   6.20455667e-03 1.27776545e-02]]\n",
      "\n",
      " [[7.48889112e+00 7.39457130e+00 6.46865749e+00 ... 4.19245672e+00\n",
      "   6.35483217e+00 7.16663265e+00]\n",
      "  [3.67682076e+00 3.85566545e+00 3.59234262e+00 ... 2.58684540e+00\n",
      "   3.42900610e+00 3.93559051e+00]\n",
      "  [1.58728853e-01 1.76110774e-01 2.95360416e-01 ... 3.84791136e-01\n",
      "   1.44438937e-01 4.59571183e-01]\n",
      "  ...\n",
      "  [3.57156545e-02 1.84140131e-02 7.25095335e-04 ... 6.93946378e-04\n",
      "   8.65756592e-04 1.10028347e-03]\n",
      "  [3.54614630e-02 1.77729372e-02 5.84034715e-05 ... 5.37767373e-05\n",
      "   9.08643124e-04 1.73915434e-03]\n",
      "  [3.52573767e-02 1.78741962e-02 3.39284306e-05 ... 8.75723563e-05\n",
      "   8.80856067e-04 1.56574848e-03]]]\n"
     ]
    }
   ],
   "source": [
    "from sklearn.model_selection import train_test_split\n",
    "\n",
    "sr = 8000\n",
    "train_spec, test_spec, train_label, test_label = train_test_split(data_spec, \n",
    "                                                                label_data, \n",
    "                                                                test_size=0.1,\n",
    "                                                                shuffle=True)\n",
    "print(train_spec)\n"
   ]
  },
  {
   "cell_type": "code",
   "execution_count": 12,
   "metadata": {},
   "outputs": [
    {
     "name": "stdout",
     "output_type": "stream",
     "text": [
      "✅\n"
     ]
    }
   ],
   "source": [
    "\n",
    "train_spec = train_spec.reshape([-1, 130,126, 1]) # add channel for CNN\n",
    "test_spec = test_spec.reshape([-1,130,126, 1])\n",
    "print(\"✅\")\n",
    "\n"
   ]
  },
  {
   "cell_type": "markdown",
   "metadata": {},
   "source": [
    "train_test_split을 이용하여 train data 와 test data를 분리하였습니다.       \n",
    "test data는 전체 데이터의 10%를 차지하며, shuffle = True 옵션으로 섞어주었습니다.       \n",
    "변경한후 CNN을 위해 데이터셋 shape를 변경해주었습니다. "
   ]
  },
  {
   "cell_type": "markdown",
   "metadata": {},
   "source": [
    "다시 메모리를 위해 이미 원본 데이터를 삭제해줍니다. "
   ]
  },
  {
   "cell_type": "code",
   "execution_count": 13,
   "metadata": {},
   "outputs": [],
   "source": [
    "\n",
    "del data_spec\n",
    "del label_data"
   ]
  },
  {
   "cell_type": "markdown",
   "metadata": {},
   "source": [
    "나눠진 데이터셋을 확인해 보겠습니다."
   ]
  },
  {
   "cell_type": "code",
   "execution_count": 14,
   "metadata": {},
   "outputs": [
    {
     "name": "stdout",
     "output_type": "stream",
     "text": [
      "train data :  (45558, 130, 126, 1)\n",
      "train labels :  (45558,)\n",
      "test data :  (5062, 130, 126, 1)\n",
      "test labels :  (5062,)\n",
      "✅\n"
     ]
    }
   ],
   "source": [
    "\n",
    "\n",
    "print(\"train data : \", train_spec.shape)\n",
    "print(\"train labels : \", train_label.shape)\n",
    "print(\"test data : \", test_spec.shape)\n",
    "print(\"test labels : \", test_label.shape)\n",
    "print(\"✅\")"
   ]
  },
  {
   "cell_type": "markdown",
   "metadata": {},
   "source": [
    "## Dataset setting\n",
    "tf.data.Dataset을 이용해서 데이터셋을 구성하도록합니다.          \n",
    "Tensorflow에 포함된 이 데이터셋 관리 패키지는 데이터셋 전처리, 배치처리 등을 쉽게 할 수 있도록 해 준다고합니다.\n",
    "\n",
    "\n",
    "\n",
    "\n",
    "먼저 map 함수에 넘겨줄 데이터 전처리 함수를 작성해 봅니다."
   ]
  },
  {
   "cell_type": "code",
   "execution_count": 16,
   "metadata": {},
   "outputs": [],
   "source": [
    "import tensorflow as tf\n",
    "\n",
    "def one_hot_label(spec,label):\n",
    "    label = tf.one_hot(label, depth = 12)\n",
    "    return spec, label\n",
    "\n"
   ]
  },
  {
   "cell_type": "markdown",
   "metadata": {},
   "source": [
    "tf.data.Dataset 함수를 구성하겠습니다.           \n",
    "batch는 dataset에서 제공하는 튜플 형태의 데이터를 얼마나 가져올지 결정하는 함수입니다."
   ]
  },
  {
   "cell_type": "code",
   "execution_count": 17,
   "metadata": {},
   "outputs": [],
   "source": [
    "# train\n",
    "\n",
    "train_dataset = tf.data.Dataset.from_tensor_slices((train_spec,train_label))\n"
   ]
  },
  {
   "cell_type": "markdown",
   "metadata": {},
   "source": [
    "tf.data.Dataset.from_tensor_slices 함수에           \n",
    "return 받길 원하는 데이터를 튜플 (data, label) 형태로 넣어서 사용할 수 있습니다."
   ]
  },
  {
   "cell_type": "code",
   "execution_count": 18,
   "metadata": {},
   "outputs": [],
   "source": [
    "train_dataset = train_dataset.map(one_hot_label)\n"
   ]
  },
  {
   "cell_type": "markdown",
   "metadata": {},
   "source": [
    "\n",
    "map 함수는 dataset이 데이터를 불러올때마다 동작시킬 데이터 전처리 함수를 매핑해 주는 역할을 합니다.          \n",
    "첫번째 map 함수는 from_tensor_slice 에 입력한 튜플 형태로 데이터를 받으며 return 값으로 어떤 데이터를 반환할지 결정합니다.     \n",
    "map 함수는 중첩해서 사용이 가능합니다."
   ]
  },
  {
   "cell_type": "code",
   "execution_count": 19,
   "metadata": {},
   "outputs": [],
   "source": [
    "train_dataset = train_dataset.repeat().batch(batch_size = batch_size)\n"
   ]
  },
  {
   "cell_type": "code",
   "execution_count": 20,
   "metadata": {},
   "outputs": [
    {
     "name": "stdout",
     "output_type": "stream",
     "text": [
      "<BatchDataset shapes: ((None, 130, 126, 1), (None, 12)), types: (tf.float32, tf.float32)>\n"
     ]
    }
   ],
   "source": [
    "print(train_dataset)"
   ]
  },
  {
   "cell_type": "code",
   "execution_count": 21,
   "metadata": {},
   "outputs": [],
   "source": [
    "test_dataset = tf.data.Dataset.from_tensor_slices((test_spec, test_label))\n"
   ]
  },
  {
   "cell_type": "code",
   "execution_count": 22,
   "metadata": {},
   "outputs": [],
   "source": [
    "test_dataset = test_dataset.map(one_hot_label)\n"
   ]
  },
  {
   "cell_type": "code",
   "execution_count": 23,
   "metadata": {},
   "outputs": [],
   "source": [
    "test_dataset = test_dataset.batch(batch_size = batch_size)"
   ]
  },
  {
   "cell_type": "code",
   "execution_count": 24,
   "metadata": {
    "scrolled": true
   },
   "outputs": [
    {
     "name": "stdout",
     "output_type": "stream",
     "text": [
      "<BatchDataset shapes: ((None, 130, 126, 1), (None, 12)), types: (tf.float32, tf.float32)>\n"
     ]
    }
   ],
   "source": [
    "print(test_dataset)"
   ]
  },
  {
   "cell_type": "markdown",
   "metadata": {},
   "source": [
    "## model1\n",
    "모델을 적합합니다. 처음부터 skip이 존재하는 모델을 적합해보겠습니다.          \n",
    "2차원 data기 때문에 Conv2D를 사용하여 보았습니다. "
   ]
  },
  {
   "cell_type": "code",
   "execution_count": 26,
   "metadata": {},
   "outputs": [],
   "source": [
    "from tensorflow.keras import layers\n",
    "\n",
    "input_tensor = layers.Input(shape=(130,126, 1))\n",
    "\n",
    "x = layers.Conv2D(32, 3, padding='same', activation='relu')(input_tensor)\n",
    "x = layers.Conv2D(32, 3, padding='same', activation='relu')(x)\n",
    "skip_1 = layers.MaxPool2D()(x)\n",
    "x = layers.Dropout(0.3)(x)\n",
    "\n",
    "x = layers.Conv2D(64, 3, padding='same', activation='relu')(skip_1)\n",
    "x = layers.Conv2D(64, 3, padding='same', activation='relu')(x)\n",
    "x = tf.concat([x,skip_1],-1)\n",
    "skip_2 = layers.MaxPool2D()(x)\n",
    "\n",
    "x = layers.Conv2D(128, 3, padding='same', activation='relu')(skip_2)\n",
    "x = layers.Conv2D(128, 3, padding='same', activation='relu')(x)\n",
    "x = layers.Conv2D(128, 3, padding='same', activation='relu')(x)\n",
    "x = tf.concat([x,skip_2],-1)\n",
    "skip_3 = layers.MaxPool2D()(x)\n",
    "\n",
    "x = layers.Conv2D(256, 3, padding='same', activation='relu')(skip_3)\n",
    "x = layers.Conv2D(256, 3, padding='same', activation='relu')(x)\n",
    "x = layers.Conv2D(256, 3, padding='same', activation='relu')(x)\n",
    "x = tf.concat([x,skip_3],-1)\n",
    "x = layers.MaxPool2D()(x)\n",
    "\n",
    "x = layers.Flatten()(x)\n",
    "x = layers.Dense(256)(x)\n",
    "x = layers.BatchNormalization()(x)\n",
    "x = layers.Activation('relu')(x)\n",
    "\n",
    "output_tensor = layers.Dense(12,activation = 'softmax')(x)\n",
    "\n",
    "model_spec1 = tf.keras.Model(input_tensor, output_tensor)\n",
    "\n"
   ]
  },
  {
   "cell_type": "markdown",
   "metadata": {},
   "source": [
    "loss"
   ]
  },
  {
   "cell_type": "code",
   "execution_count": 28,
   "metadata": {},
   "outputs": [
    {
     "name": "stdout",
     "output_type": "stream",
     "text": [
      "✅\n"
     ]
    }
   ],
   "source": [
    "optimizer=tf.keras.optimizers.Adam(1e-4)\n",
    "model_spec1.compile(loss=tf.keras.losses.CategoricalCrossentropy(from_logits=True),\n",
    "             optimizer=optimizer,\n",
    "             metrics=['accuracy'])\n",
    "print(\"✅\")"
   ]
  },
  {
   "cell_type": "markdown",
   "metadata": {},
   "source": [
    "model summary"
   ]
  },
  {
   "cell_type": "code",
   "execution_count": 29,
   "metadata": {
    "scrolled": true
   },
   "outputs": [
    {
     "name": "stdout",
     "output_type": "stream",
     "text": [
      "Model: \"model\"\n",
      "__________________________________________________________________________________________________\n",
      "Layer (type)                    Output Shape         Param #     Connected to                     \n",
      "==================================================================================================\n",
      "input_1 (InputLayer)            [(None, 130, 126, 1) 0                                            \n",
      "__________________________________________________________________________________________________\n",
      "conv2d (Conv2D)                 (None, 130, 126, 32) 320         input_1[0][0]                    \n",
      "__________________________________________________________________________________________________\n",
      "conv2d_1 (Conv2D)               (None, 130, 126, 32) 9248        conv2d[0][0]                     \n",
      "__________________________________________________________________________________________________\n",
      "max_pooling2d (MaxPooling2D)    (None, 65, 63, 32)   0           conv2d_1[0][0]                   \n",
      "__________________________________________________________________________________________________\n",
      "conv2d_2 (Conv2D)               (None, 65, 63, 64)   18496       max_pooling2d[0][0]              \n",
      "__________________________________________________________________________________________________\n",
      "conv2d_3 (Conv2D)               (None, 65, 63, 64)   36928       conv2d_2[0][0]                   \n",
      "__________________________________________________________________________________________________\n",
      "tf_op_layer_concat (TensorFlowO [(None, 65, 63, 96)] 0           conv2d_3[0][0]                   \n",
      "                                                                 max_pooling2d[0][0]              \n",
      "__________________________________________________________________________________________________\n",
      "max_pooling2d_1 (MaxPooling2D)  (None, 32, 31, 96)   0           tf_op_layer_concat[0][0]         \n",
      "__________________________________________________________________________________________________\n",
      "conv2d_4 (Conv2D)               (None, 32, 31, 128)  110720      max_pooling2d_1[0][0]            \n",
      "__________________________________________________________________________________________________\n",
      "conv2d_5 (Conv2D)               (None, 32, 31, 128)  147584      conv2d_4[0][0]                   \n",
      "__________________________________________________________________________________________________\n",
      "conv2d_6 (Conv2D)               (None, 32, 31, 128)  147584      conv2d_5[0][0]                   \n",
      "__________________________________________________________________________________________________\n",
      "tf_op_layer_concat_1 (TensorFlo [(None, 32, 31, 224) 0           conv2d_6[0][0]                   \n",
      "                                                                 max_pooling2d_1[0][0]            \n",
      "__________________________________________________________________________________________________\n",
      "max_pooling2d_2 (MaxPooling2D)  (None, 16, 15, 224)  0           tf_op_layer_concat_1[0][0]       \n",
      "__________________________________________________________________________________________________\n",
      "conv2d_7 (Conv2D)               (None, 16, 15, 256)  516352      max_pooling2d_2[0][0]            \n",
      "__________________________________________________________________________________________________\n",
      "conv2d_8 (Conv2D)               (None, 16, 15, 256)  590080      conv2d_7[0][0]                   \n",
      "__________________________________________________________________________________________________\n",
      "conv2d_9 (Conv2D)               (None, 16, 15, 256)  590080      conv2d_8[0][0]                   \n",
      "__________________________________________________________________________________________________\n",
      "tf_op_layer_concat_2 (TensorFlo [(None, 16, 15, 480) 0           conv2d_9[0][0]                   \n",
      "                                                                 max_pooling2d_2[0][0]            \n",
      "__________________________________________________________________________________________________\n",
      "max_pooling2d_3 (MaxPooling2D)  (None, 8, 7, 480)    0           tf_op_layer_concat_2[0][0]       \n",
      "__________________________________________________________________________________________________\n",
      "flatten (Flatten)               (None, 26880)        0           max_pooling2d_3[0][0]            \n",
      "__________________________________________________________________________________________________\n",
      "dense (Dense)                   (None, 256)          6881536     flatten[0][0]                    \n",
      "__________________________________________________________________________________________________\n",
      "batch_normalization (BatchNorma (None, 256)          1024        dense[0][0]                      \n",
      "__________________________________________________________________________________________________\n",
      "activation (Activation)         (None, 256)          0           batch_normalization[0][0]        \n",
      "__________________________________________________________________________________________________\n",
      "dense_1 (Dense)                 (None, 12)           3084        activation[0][0]                 \n",
      "==================================================================================================\n",
      "Total params: 9,053,036\n",
      "Trainable params: 9,052,524\n",
      "Non-trainable params: 512\n",
      "__________________________________________________________________________________________________\n"
     ]
    }
   ],
   "source": [
    "model_spec1.summary()"
   ]
  },
  {
   "cell_type": "markdown",
   "metadata": {},
   "source": [
    "\n",
    "### Hyper-parameters setting_1\n",
    "학습을 위한 하이퍼파라미터를 설정해줍니다.모델 체크포인트 저장을 위한 체크포인트의 경로를 설정해줍니다.             \n",
    "후에 모델 체크포인트 Callback 함수를 설정하거나, 모델을 불러올때 사용합니다.           \n",
    "이번 주제는 모델학습에 오랜 시간이 걸리기때문에 유용할 것 같습니다. "
   ]
  },
  {
   "cell_type": "code",
   "execution_count": 15,
   "metadata": {},
   "outputs": [],
   "source": [
    "batch_size = 32\n",
    "max_epochs = 10\n",
    "\n"
   ]
  },
  {
   "cell_type": "markdown",
   "metadata": {},
   "source": [
    "### call back으로 save point 지정_1"
   ]
  },
  {
   "cell_type": "code",
   "execution_count": 30,
   "metadata": {},
   "outputs": [
    {
     "name": "stdout",
     "output_type": "stream",
     "text": [
      "✅\n"
     ]
    }
   ],
   "source": [
    "# the save point\n",
    "나눠진 데이터셋을 확인해 보겠습니다.V\n",
    "\n",
    "checkpoint_dir = os.getenv('HOME')+'/aiffel/speech_recognition/models/spec_skip'\n",
    "\n",
    "cp_callback = tf.keras.callbacks.ModelCheckpoint(checkpoint_dir,\n",
    "                                                 save_weights_only=True,\n",
    "                                                 monitor='val_loss',\n",
    "                                                 mode='auto',\n",
    "                                                 save_best_only=True,\n",
    "                                                 verbose=1)\n",
    "print(\"✅\")"
   ]
  },
  {
   "cell_type": "markdown",
   "metadata": {},
   "source": [
    "## 모델 학습_1"
   ]
  },
  {
   "cell_type": "code",
   "execution_count": 28,
   "metadata": {
    "scrolled": true
   },
   "outputs": [
    {
     "name": "stdout",
     "output_type": "stream",
     "text": [
      "Epoch 1/10\n",
      "1423/1423 [==============================] - ETA: 0s - loss: 1.9079 - accuracy: 0.7418\n",
      "Epoch 00001: val_loss improved from inf to 1.75221, saving model to /home/ssac4/aiffel/speech_recognition/models/spec_skip\n",
      "1423/1423 [==============================] - 65s 46ms/step - loss: 1.9079 - accuracy: 0.7418 - val_loss: 1.7522 - val_accuracy: 0.8845\n",
      "Epoch 2/10\n",
      "1423/1423 [==============================] - ETA: 0s - loss: 1.7178 - accuracy: 0.9183\n",
      "Epoch 00002: val_loss improved from 1.75221 to 1.69208, saving model to /home/ssac4/aiffel/speech_recognition/models/spec_skip\n",
      "1423/1423 [==============================] - 66s 46ms/step - loss: 1.7178 - accuracy: 0.9183 - val_loss: 1.6921 - val_accuracy: 0.9371\n",
      "Epoch 3/10\n",
      "1422/1423 [============================>.] - ETA: 0s - loss: 1.6843 - accuracy: 0.9453\n",
      "Epoch 00003: val_loss improved from 1.69208 to 1.67547, saving model to /home/ssac4/aiffel/speech_recognition/models/spec_skip\n",
      "1423/1423 [==============================] - 66s 46ms/step - loss: 1.6843 - accuracy: 0.9453 - val_loss: 1.6755 - val_accuracy: 0.9527\n",
      "Epoch 4/10\n",
      "1423/1423 [==============================] - ETA: 0s - loss: 1.6680 - accuracy: 0.9594\n",
      "Epoch 00004: val_loss improved from 1.67547 to 1.67202, saving model to /home/ssac4/aiffel/speech_recognition/models/spec_skip\n",
      "1423/1423 [==============================] - 66s 46ms/step - loss: 1.6680 - accuracy: 0.9594 - val_loss: 1.6720 - val_accuracy: 0.9527\n",
      "Epoch 5/10\n",
      "1422/1423 [============================>.] - ETA: 0s - loss: 1.6583 - accuracy: 0.9668\n",
      "Epoch 00005: val_loss improved from 1.67202 to 1.67201, saving model to /home/ssac4/aiffel/speech_recognition/models/spec_skip\n",
      "1423/1423 [==============================] - 66s 47ms/step - loss: 1.6583 - accuracy: 0.9668 - val_loss: 1.6720 - val_accuracy: 0.9509\n",
      "Epoch 6/10\n",
      "1422/1423 [============================>.] - ETA: 0s - loss: 1.6524 - accuracy: 0.9710\n",
      "Epoch 00006: val_loss improved from 1.67201 to 1.66201, saving model to /home/ssac4/aiffel/speech_recognition/models/spec_skip\n",
      "1423/1423 [==============================] - 67s 47ms/step - loss: 1.6524 - accuracy: 0.9710 - val_loss: 1.6620 - val_accuracy: 0.9600\n",
      "Epoch 7/10\n",
      "1423/1423 [==============================] - ETA: 0s - loss: 1.6471 - accuracy: 0.9761\n",
      "Epoch 00007: val_loss did not improve from 1.66201\n",
      "1423/1423 [==============================] - 66s 47ms/step - loss: 1.6471 - accuracy: 0.9761 - val_loss: 1.6669 - val_accuracy: 0.9597\n",
      "Epoch 8/10\n",
      "1422/1423 [============================>.] - ETA: 0s - loss: 1.6441 - accuracy: 0.9780\n",
      "Epoch 00008: val_loss did not improve from 1.66201\n",
      "1423/1423 [==============================] - 66s 47ms/step - loss: 1.6441 - accuracy: 0.9780 - val_loss: 1.6689 - val_accuracy: 0.9573\n",
      "Epoch 9/10\n",
      "1423/1423 [==============================] - ETA: 0s - loss: 1.6426 - accuracy: 0.9790\n",
      "Epoch 00009: val_loss improved from 1.66201 to 1.66162, saving model to /home/ssac4/aiffel/speech_recognition/models/spec_skip\n",
      "1423/1423 [==============================] - 67s 47ms/step - loss: 1.6426 - accuracy: 0.9790 - val_loss: 1.6616 - val_accuracy: 0.9610\n",
      "Epoch 10/10\n",
      "1422/1423 [============================>.] - ETA: 0s - loss: 1.6404 - accuracy: 0.9810\n",
      "Epoch 00010: val_loss improved from 1.66162 to 1.66048, saving model to /home/ssac4/aiffel/speech_recognition/models/spec_skip\n",
      "1423/1423 [==============================] - 67s 47ms/step - loss: 1.6404 - accuracy: 0.9810 - val_loss: 1.6605 - val_accuracy: 0.9614\n",
      "✅\n"
     ]
    }
   ],
   "source": [
    "history_spec1 = model_spec1.fit(train_dataset, epochs=max_epochs,\n",
    "                    steps_per_epoch=len(train_spec) // batch_size,\n",
    "                    validation_data=test_dataset,\n",
    "                    validation_steps=len(test_spec) // batch_size,\n",
    "                    callbacks=[cp_callback]\n",
    "                    )\n",
    "\n",
    "\n",
    "print(\"✅\")"
   ]
  },
  {
   "cell_type": "markdown",
   "metadata": {},
   "source": [
    "## model2 non_skip\n",
    "다음은 skip을 넣지않은 모델을 학습시켜 보겠습니다."
   ]
  },
  {
   "cell_type": "code",
   "execution_count": 25,
   "metadata": {},
   "outputs": [],
   "source": [
    "from tensorflow.keras import layers\n",
    "\n",
    "input_tensor = layers.Input(shape=(130,126, 1))\n",
    "\n",
    "x = layers.Conv2D(32, 3, padding='same', activation='relu')(input_tensor)\n",
    "x = layers.Conv2D(32, 3, padding='same', activation='relu')(x)\n",
    "x = layers.Dropout(0.3)(x)\n",
    "\n",
    "x = layers.Conv2D(64, 3, padding='same', activation='relu')(x)\n",
    "x = layers.Conv2D(64, 3, padding='same', activation='relu')(x)\n",
    "x = layers.MaxPool2D()(x)\n",
    "\n",
    "x = layers.Conv2D(128, 3, padding='same', activation='relu')(x)\n",
    "x = layers.Conv2D(128, 3, padding='same', activation='relu')(x)\n",
    "x = layers.Conv2D(128, 3, padding='same', activation='relu')(x)\n",
    "x = layers.MaxPool2D()(x)\n",
    "\n",
    "x = layers.Conv2D(256, 3, padding='same', activation='relu')(x)\n",
    "x = layers.Conv2D(256, 3, padding='same', activation='relu')(x)\n",
    "x = layers.Conv2D(256, 3, padding='same', activation='relu')(x)\n",
    "x = layers.MaxPool2D()(x)\n",
    "x = layers.Dropout(0.3)(x)\n",
    "\n",
    "x = layers.Flatten()(x)\n",
    "x = layers.Dense(256)(x)\n",
    "x = layers.BatchNormalization()(x)\n",
    "x = layers.Activation('relu')(x)\n",
    "\n",
    "output_tensor = layers.Dense(12,activation = 'softmax')(x)\n",
    "\n",
    "model_spec2 = tf.keras.Model(input_tensor, output_tensor)\n",
    "\n"
   ]
  },
  {
   "cell_type": "markdown",
   "metadata": {},
   "source": [
    "loss"
   ]
  },
  {
   "cell_type": "code",
   "execution_count": 26,
   "metadata": {},
   "outputs": [
    {
     "name": "stdout",
     "output_type": "stream",
     "text": [
      "✅\n"
     ]
    }
   ],
   "source": [
    "optimizer=tf.keras.optimizers.Adam(1e-4)\n",
    "model_spec2.compile(loss=tf.keras.losses.CategoricalCrossentropy(from_logits=True),\n",
    "             optimizer=optimizer,\n",
    "             metrics=['accuracy'])\n",
    "print(\"✅\")"
   ]
  },
  {
   "cell_type": "markdown",
   "metadata": {},
   "source": [
    "model summary"
   ]
  },
  {
   "cell_type": "code",
   "execution_count": 27,
   "metadata": {
    "scrolled": true
   },
   "outputs": [
    {
     "name": "stdout",
     "output_type": "stream",
     "text": [
      "Model: \"model\"\n",
      "_________________________________________________________________\n",
      "Layer (type)                 Output Shape              Param #   \n",
      "=================================================================\n",
      "input_1 (InputLayer)         [(None, 130, 126, 1)]     0         \n",
      "_________________________________________________________________\n",
      "conv2d (Conv2D)              (None, 130, 126, 32)      320       \n",
      "_________________________________________________________________\n",
      "conv2d_1 (Conv2D)            (None, 130, 126, 32)      9248      \n",
      "_________________________________________________________________\n",
      "dropout (Dropout)            (None, 130, 126, 32)      0         \n",
      "_________________________________________________________________\n",
      "conv2d_2 (Conv2D)            (None, 130, 126, 64)      18496     \n",
      "_________________________________________________________________\n",
      "conv2d_3 (Conv2D)            (None, 130, 126, 64)      36928     \n",
      "_________________________________________________________________\n",
      "max_pooling2d (MaxPooling2D) (None, 65, 63, 64)        0         \n",
      "_________________________________________________________________\n",
      "conv2d_4 (Conv2D)            (None, 65, 63, 128)       73856     \n",
      "_________________________________________________________________\n",
      "conv2d_5 (Conv2D)            (None, 65, 63, 128)       147584    \n",
      "_________________________________________________________________\n",
      "conv2d_6 (Conv2D)            (None, 65, 63, 128)       147584    \n",
      "_________________________________________________________________\n",
      "max_pooling2d_1 (MaxPooling2 (None, 32, 31, 128)       0         \n",
      "_________________________________________________________________\n",
      "conv2d_7 (Conv2D)            (None, 32, 31, 256)       295168    \n",
      "_________________________________________________________________\n",
      "conv2d_8 (Conv2D)            (None, 32, 31, 256)       590080    \n",
      "_________________________________________________________________\n",
      "conv2d_9 (Conv2D)            (None, 32, 31, 256)       590080    \n",
      "_________________________________________________________________\n",
      "max_pooling2d_2 (MaxPooling2 (None, 16, 15, 256)       0         \n",
      "_________________________________________________________________\n",
      "dropout_1 (Dropout)          (None, 16, 15, 256)       0         \n",
      "_________________________________________________________________\n",
      "flatten (Flatten)            (None, 61440)             0         \n",
      "_________________________________________________________________\n",
      "dense (Dense)                (None, 256)               15728896  \n",
      "_________________________________________________________________\n",
      "batch_normalization (BatchNo (None, 256)               1024      \n",
      "_________________________________________________________________\n",
      "activation (Activation)      (None, 256)               0         \n",
      "_________________________________________________________________\n",
      "dense_1 (Dense)              (None, 12)                3084      \n",
      "=================================================================\n",
      "Total params: 17,642,348\n",
      "Trainable params: 17,641,836\n",
      "Non-trainable params: 512\n",
      "_________________________________________________________________\n"
     ]
    }
   ],
   "source": [
    "model_spec2.summary()"
   ]
  },
  {
   "cell_type": "markdown",
   "metadata": {},
   "source": [
    "\n",
    "### Hyper-parameters setting_2\n",
    "학습을 위한 하이퍼파라미터를 설정해줍니다.모델 체크포인트 저장을 위한 체크포인트의 경로를 설정해줍니다.             \n",
    "후에 모델 체크포인트 Callback 함수를 설정하거나, 모델을 불러올때 사용합니다.           \n",
    "이번 주제는 모델학습에 오랜 시간이 걸리기때문에 유용할 것 같습니다. "
   ]
  },
  {
   "cell_type": "code",
   "execution_count": 39,
   "metadata": {},
   "outputs": [],
   "source": [
    "batch_size = 32\n",
    "max_epochs = 10\n",
    "\n"
   ]
  },
  {
   "cell_type": "markdown",
   "metadata": {},
   "source": [
    "### call back으로 save point 지정_1"
   ]
  },
  {
   "cell_type": "code",
   "execution_count": 28,
   "metadata": {},
   "outputs": [
    {
     "name": "stdout",
     "output_type": "stream",
     "text": [
      "✅\n"
     ]
    }
   ],
   "source": [
    "# the save point\n",
    "checkpoint_dir2 = os.getenv('HOME')+'/aiffel/speech_recognition/models/spec_nonskip'\n",
    "\n",
    "cp_callback2 = tf.keras.callbacks.ModelCheckpoint(checkpoint_dir2,\n",
    "                                                 save_weights_only=True,\n",
    "                                                 monitor='val_loss',\n",
    "                                                 mode='auto',\n",
    "                                                 save_best_only=True,\n",
    "                                                 verbose=1)\n",
    "print(\"✅\")"
   ]
  },
  {
   "cell_type": "markdown",
   "metadata": {},
   "source": [
    "## 모델학습2"
   ]
  },
  {
   "cell_type": "code",
   "execution_count": 29,
   "metadata": {
    "scrolled": true
   },
   "outputs": [
    {
     "name": "stdout",
     "output_type": "stream",
     "text": [
      "Epoch 1/10\n",
      "1423/1423 [==============================] - ETA: 0s - loss: 1.9227 - accuracy: 0.7324\n",
      "Epoch 00001: val_loss improved from inf to 1.75807, saving model to /home/ssac4/aiffel/speech_recognition/models/spec_nonskip\n",
      "1423/1423 [==============================] - 173s 122ms/step - loss: 1.9227 - accuracy: 0.7324 - val_loss: 1.7581 - val_accuracy: 0.8918\n",
      "Epoch 2/10\n",
      "1423/1423 [==============================] - ETA: 0s - loss: 1.7341 - accuracy: 0.9062\n",
      "Epoch 00002: val_loss improved from 1.75807 to 1.72141, saving model to /home/ssac4/aiffel/speech_recognition/models/spec_nonskip\n",
      "1423/1423 [==============================] - 174s 122ms/step - loss: 1.7341 - accuracy: 0.9062 - val_loss: 1.7214 - val_accuracy: 0.9181\n",
      "Epoch 3/10\n",
      "1423/1423 [==============================] - ETA: 0s - loss: 1.6915 - accuracy: 0.9427\n",
      "Epoch 00003: val_loss improved from 1.72141 to 1.69188, saving model to /home/ssac4/aiffel/speech_recognition/models/spec_nonskip\n",
      "1423/1423 [==============================] - 174s 122ms/step - loss: 1.6915 - accuracy: 0.9427 - val_loss: 1.6919 - val_accuracy: 0.9367\n",
      "Epoch 4/10\n",
      "1423/1423 [==============================] - ETA: 0s - loss: 1.6703 - accuracy: 0.9590\n",
      "Epoch 00004: val_loss improved from 1.69188 to 1.67578, saving model to /home/ssac4/aiffel/speech_recognition/models/spec_nonskip\n",
      "1423/1423 [==============================] - 179s 126ms/step - loss: 1.6703 - accuracy: 0.9590 - val_loss: 1.6758 - val_accuracy: 0.9517\n",
      "Epoch 5/10\n",
      "1423/1423 [==============================] - ETA: 0s - loss: 1.6597 - accuracy: 0.9676\n",
      "Epoch 00005: val_loss improved from 1.67578 to 1.67060, saving model to /home/ssac4/aiffel/speech_recognition/models/spec_nonskip\n",
      "1423/1423 [==============================] - 175s 123ms/step - loss: 1.6597 - accuracy: 0.9676 - val_loss: 1.6706 - val_accuracy: 0.9561\n",
      "Epoch 6/10\n",
      "1423/1423 [==============================] - ETA: 0s - loss: 1.6525 - accuracy: 0.9723\n",
      "Epoch 00006: val_loss did not improve from 1.67060\n",
      "1423/1423 [==============================] - 174s 122ms/step - loss: 1.6525 - accuracy: 0.9723 - val_loss: 1.6742 - val_accuracy: 0.9509\n",
      "Epoch 7/10\n",
      "1423/1423 [==============================] - ETA: 0s - loss: 1.6486 - accuracy: 0.9755\n",
      "Epoch 00007: val_loss improved from 1.67060 to 1.66727, saving model to /home/ssac4/aiffel/speech_recognition/models/spec_nonskip\n",
      "1423/1423 [==============================] - 174s 123ms/step - loss: 1.6486 - accuracy: 0.9755 - val_loss: 1.6673 - val_accuracy: 0.9569\n",
      "Epoch 8/10\n",
      "1423/1423 [==============================] - ETA: 0s - loss: 1.6445 - accuracy: 0.9787\n",
      "Epoch 00008: val_loss did not improve from 1.66727\n",
      "1423/1423 [==============================] - 174s 122ms/step - loss: 1.6445 - accuracy: 0.9787 - val_loss: 1.6682 - val_accuracy: 0.9563\n",
      "Epoch 9/10\n",
      "1423/1423 [==============================] - ETA: 0s - loss: 1.6423 - accuracy: 0.9801\n",
      "Epoch 00009: val_loss improved from 1.66727 to 1.66571, saving model to /home/ssac4/aiffel/speech_recognition/models/spec_nonskip\n",
      "1423/1423 [==============================] - 174s 123ms/step - loss: 1.6423 - accuracy: 0.9801 - val_loss: 1.6657 - val_accuracy: 0.9585\n",
      "Epoch 10/10\n",
      "1423/1423 [==============================] - ETA: 0s - loss: 1.6402 - accuracy: 0.9821\n",
      "Epoch 00010: val_loss did not improve from 1.66571\n",
      "1423/1423 [==============================] - 174s 122ms/step - loss: 1.6402 - accuracy: 0.9821 - val_loss: 1.6665 - val_accuracy: 0.9555\n",
      "✅\n"
     ]
    }
   ],
   "source": [
    "history_spec2 = model_spec2.fit(train_dataset, epochs=max_epochs,\n",
    "                    steps_per_epoch=len(train_spec) // batch_size,\n",
    "                    validation_data=test_dataset,\n",
    "                    validation_steps=len(test_spec) // batch_size,\n",
    "                    callbacks=[cp_callback2]\n",
    "                    )\n",
    "\n",
    "\n",
    "print(\"✅\")"
   ]
  },
  {
   "cell_type": "markdown",
   "metadata": {},
   "source": [
    "## 학습 결과 plot "
   ]
  },
  {
   "cell_type": "markdown",
   "metadata": {},
   "source": [
    "### 모델 1 "
   ]
  },
  {
   "cell_type": "code",
   "execution_count": 29,
   "metadata": {},
   "outputs": [
    {
     "data": {
      "image/png": "[encoded data removed]",
      "text/plain": [
       "<Figure size 576x576 with 2 Axes>"
      ]
     },
     "metadata": {
      "needs_background": "light"
     },
     "output_type": "display_data"
    },
    {
     "name": "stdout",
     "output_type": "stream",
     "text": [
      "✅\n"
     ]
    }
   ],
   "source": [
    "import matplotlib.pyplot as plt\n",
    "\n",
    "acc = history_spec1.history['accuracy']\n",
    "val_acc = history_spec1.history['val_accuracy']\n",
    "\n",
    "loss=history_spec1.history['loss']\n",
    "val_loss=history_spec1.history['val_loss']\n",
    "\n",
    "epochs_range = range(len(acc))\n",
    "\n",
    "plt.figure(figsize=(8, 8))\n",
    "plt.subplot(1, 2, 1)\n",
    "plt.plot(epochs_range, acc, label='Training Accuracy')\n",
    "plt.plot(epochs_range, val_acc, label='Validation Accuracy')\n",
    "plt.legend(loc='lower right')\n",
    "plt.title('Training and Validation Accuracy')\n",
    "\n",
    "plt.subplot(1, 2, 2)\n",
    "plt.plot(epochs_range, loss, label='Training Loss')\n",
    "plt.plot(epochs_range, val_loss, label='Validation Loss')\n",
    "plt.legend(loc='upper right')\n",
    "plt.title('Training and Validation Loss')\n",
    "plt.show()\n",
    "print(\"✅\")"
   ]
  },
  {
   "cell_type": "markdown",
   "metadata": {},
   "source": [
    "val acc가 0.95정도에서 수렴하는것을 확인 할 수 있었다. "
   ]
  },
  {
   "cell_type": "markdown",
   "metadata": {},
   "source": [
    "## 학습결과 plot\n",
    "### 모델 2 "
   ]
  },
  {
   "cell_type": "code",
   "execution_count": 30,
   "metadata": {},
   "outputs": [
    {
     "data": {
      "image/png": "[encoded data removed]",
      "text/plain": [
       "<Figure size 576x576 with 2 Axes>"
      ]
     },
     "metadata": {
      "needs_background": "light"
     },
     "output_type": "display_data"
    },
    {
     "name": "stdout",
     "output_type": "stream",
     "text": [
      "✅\n"
     ]
    }
   ],
   "source": [
    "import matplotlib.pyplot as plt\n",
    "\n",
    "acc = history_spec2.history['accuracy']\n",
    "val_acc = history_spec2.history['val_accuracy']\n",
    "\n",
    "loss=history_spec2.history['loss']\n",
    "val_loss=history_spec2.history['val_loss']\n",
    "\n",
    "epochs_range = range(len(acc))\n",
    "\n",
    "plt.figure(figsize=(8, 8))\n",
    "plt.subplot(1, 2, 1)\n",
    "plt.plot(epochs_range, acc, label='Training Accuracy')\n",
    "plt.plot(epochs_range, val_acc, label='Validation Accuracy')\n",
    "plt.legend(loc='lower right')\n",
    "plt.title('Training and Validation Accuracy')\n",
    "\n",
    "plt.subplot(1, 2, 2)\n",
    "plt.plot(epochs_range, loss, label='Training Loss')\n",
    "plt.plot(epochs_range, val_loss, label='Validation Loss')\n",
    "plt.legend(loc='upper right')\n",
    "plt.title('Training and Validation Loss')\n",
    "plt.show()\n",
    "print(\"✅\")"
   ]
  },
  {
   "cell_type": "markdown",
   "metadata": {},
   "source": [
    "model 1과 유사한 결과를 얻었다.         \n",
    "val_acc는 조금 더 낮고 val loss는 조금더 높은 현상을 보이고 있다. "
   ]
  },
  {
   "cell_type": "markdown",
   "metadata": {},
   "source": [
    "## 모델 평가 "
   ]
  },
  {
   "cell_type": "markdown",
   "metadata": {},
   "source": [
    "test dataset을 통해서 모델을 평가해보도록 한다. "
   ]
  },
  {
   "cell_type": "markdown",
   "metadata": {},
   "source": [
    "### load model weight \n",
    "checkpoint callback에서 저장한 weight 불러온다. "
   ]
  },
  {
   "cell_type": "code",
   "execution_count": 31,
   "metadata": {},
   "outputs": [
    {
     "name": "stdout",
     "output_type": "stream",
     "text": [
      "✅\n"
     ]
    }
   ],
   "source": [
    "model_spec1.load_weights(checkpoint_dir)\n",
    "print(\"✅\")\n"
   ]
  },
  {
   "cell_type": "code",
   "execution_count": 31,
   "metadata": {},
   "outputs": [
    {
     "name": "stdout",
     "output_type": "stream",
     "text": [
      "✅\n"
     ]
    }
   ],
   "source": [
    "model_spec2.load_weights(checkpoint_dir2)\n",
    "print(\"✅\")"
   ]
  },
  {
   "cell_type": "markdown",
   "metadata": {},
   "source": [
    "### test데이터를 통한 evaluate \n",
    "test_dataset을 통해 모델의 정확도를 평가한다. "
   ]
  },
  {
   "cell_type": "code",
   "execution_count": 32,
   "metadata": {},
   "outputs": [
    {
     "name": "stdout",
     "output_type": "stream",
     "text": [
      "159/159 [==============================] - 25s 160ms/step - loss: 1.6411 - accuracy: 0.9806\n",
      "✅\n"
     ]
    }
   ],
   "source": [
    "results = model_spec1.evaluate(test_dataset)\n",
    "print(\"✅\")"
   ]
  },
  {
   "cell_type": "code",
   "execution_count": 32,
   "metadata": {},
   "outputs": [
    {
     "name": "stdout",
     "output_type": "stream",
     "text": [
      "159/159 [==============================] - 33s 209ms/step - loss: 1.6657 - accuracy: 0.9585\n",
      "✅\n"
     ]
    }
   ],
   "source": [
    "results2 = model_spec2.evaluate(test_dataset)\n",
    "print(\"✅\")"
   ]
  },
  {
   "cell_type": "code",
   "execution_count": 33,
   "metadata": {},
   "outputs": [
    {
     "name": "stdout",
     "output_type": "stream",
     "text": [
      "loss value: 1.660\n",
      "accuracy value: 96.1478%\n",
      "✅\n"
     ]
    }
   ],
   "source": [
    "# loss\n",
    "print(\"loss value: {:.3f}\".format(results[0]))\n",
    "# accuracy\n",
    "print(\"accuracy value: {:.4f}%\".format(results[1]*100))\n",
    "print(\"✅\")"
   ]
  },
  {
   "cell_type": "code",
   "execution_count": 33,
   "metadata": {},
   "outputs": [
    {
     "name": "stdout",
     "output_type": "stream",
     "text": [
      "loss value: 1.666\n",
      "accuracy value: 95.8514%\n",
      "✅\n"
     ]
    }
   ],
   "source": [
    "# loss\n",
    "print(\"loss value: {:.3f}\".format(results2[0]))\n",
    "# accuracy\n",
    "print(\"accuracy value: {:.4f}%\".format(results2[1]*100))\n",
    "print(\"✅\")"
   ]
  },
  {
   "cell_type": "markdown",
   "metadata": {},
   "source": [
    "skip을 사용한 model1이 더 좋은 성능을 가진 것을 확인 할 수 있었다. "
   ]
  }
 ],
 "metadata": {
  "kernelspec": {
   "display_name": "aiffel",
   "language": "python",
   "name": "aiffel"
  },
  "language_info": {
   "codemirror_mode": {
    "name": "ipython",
    "version": 3
   },
   "file_extension": ".py",
   "mimetype": "text/x-python",
   "name": "python",
   "nbconvert_exporter": "python",
   "pygments_lexer": "ipython3",
   "version": "3.7.9"
  }
 },
 "nbformat": 4,
 "nbformat_minor": 4
}
